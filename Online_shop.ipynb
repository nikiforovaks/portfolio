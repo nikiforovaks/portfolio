{
 "cells": [
  {
   "cell_type": "markdown",
   "metadata": {},
   "source": [
    "<font size=\"6\"><p style=\"text-align:center\"><b>Проект: магазин \"Стримчик\" </font>"
   ]
  },
  {
   "cell_type": "markdown",
   "metadata": {},
   "source": [
    "# Шаг 1. Знакомство с данными"
   ]
  },
  {
   "cell_type": "markdown",
   "metadata": {},
   "source": [
    "В интернет-магазине «Стримчик», который продаёт по всему миру компьютерные игры, из открытых источников данных нужно выявить определяющие успешность игры закономерности. Это позволит сделать ставку на потенциально популярный продукт и спланировать рекламные кампании."
   ]
  },
  {
   "cell_type": "code",
   "execution_count": 1,
   "metadata": {},
   "outputs": [],
   "source": [
    "import pandas as pd"
   ]
  },
  {
   "cell_type": "code",
   "execution_count": 2,
   "metadata": {},
   "outputs": [],
   "source": [
    "from scipy import stats as st"
   ]
  },
  {
   "cell_type": "code",
   "execution_count": 3,
   "metadata": {},
   "outputs": [],
   "source": [
    "import matplotlib.pyplot as plt"
   ]
  },
  {
   "cell_type": "code",
   "execution_count": 4,
   "metadata": {},
   "outputs": [],
   "source": [
    "import numpy as np"
   ]
  },
  {
   "cell_type": "code",
   "execution_count": 5,
   "metadata": {},
   "outputs": [],
   "source": [
    "data = pd.read_csv('/datasets/games.csv')"
   ]
  },
  {
   "cell_type": "code",
   "execution_count": 6,
   "metadata": {},
   "outputs": [
    {
     "data": {
      "text/html": [
       "<div>\n",
       "<style scoped>\n",
       "    .dataframe tbody tr th:only-of-type {\n",
       "        vertical-align: middle;\n",
       "    }\n",
       "\n",
       "    .dataframe tbody tr th {\n",
       "        vertical-align: top;\n",
       "    }\n",
       "\n",
       "    .dataframe thead th {\n",
       "        text-align: right;\n",
       "    }\n",
       "</style>\n",
       "<table border=\"1\" class=\"dataframe\">\n",
       "  <thead>\n",
       "    <tr style=\"text-align: right;\">\n",
       "      <th></th>\n",
       "      <th>Name</th>\n",
       "      <th>Platform</th>\n",
       "      <th>Year_of_Release</th>\n",
       "      <th>Genre</th>\n",
       "      <th>NA_sales</th>\n",
       "      <th>EU_sales</th>\n",
       "      <th>JP_sales</th>\n",
       "      <th>Other_sales</th>\n",
       "      <th>Critic_Score</th>\n",
       "      <th>User_Score</th>\n",
       "      <th>Rating</th>\n",
       "    </tr>\n",
       "  </thead>\n",
       "  <tbody>\n",
       "    <tr>\n",
       "      <th>0</th>\n",
       "      <td>Wii Sports</td>\n",
       "      <td>Wii</td>\n",
       "      <td>2006.0</td>\n",
       "      <td>Sports</td>\n",
       "      <td>41.36</td>\n",
       "      <td>28.96</td>\n",
       "      <td>3.77</td>\n",
       "      <td>8.45</td>\n",
       "      <td>76.0</td>\n",
       "      <td>8</td>\n",
       "      <td>E</td>\n",
       "    </tr>\n",
       "    <tr>\n",
       "      <th>1</th>\n",
       "      <td>Super Mario Bros.</td>\n",
       "      <td>NES</td>\n",
       "      <td>1985.0</td>\n",
       "      <td>Platform</td>\n",
       "      <td>29.08</td>\n",
       "      <td>3.58</td>\n",
       "      <td>6.81</td>\n",
       "      <td>0.77</td>\n",
       "      <td>NaN</td>\n",
       "      <td>NaN</td>\n",
       "      <td>NaN</td>\n",
       "    </tr>\n",
       "    <tr>\n",
       "      <th>2</th>\n",
       "      <td>Mario Kart Wii</td>\n",
       "      <td>Wii</td>\n",
       "      <td>2008.0</td>\n",
       "      <td>Racing</td>\n",
       "      <td>15.68</td>\n",
       "      <td>12.76</td>\n",
       "      <td>3.79</td>\n",
       "      <td>3.29</td>\n",
       "      <td>82.0</td>\n",
       "      <td>8.3</td>\n",
       "      <td>E</td>\n",
       "    </tr>\n",
       "    <tr>\n",
       "      <th>3</th>\n",
       "      <td>Wii Sports Resort</td>\n",
       "      <td>Wii</td>\n",
       "      <td>2009.0</td>\n",
       "      <td>Sports</td>\n",
       "      <td>15.61</td>\n",
       "      <td>10.93</td>\n",
       "      <td>3.28</td>\n",
       "      <td>2.95</td>\n",
       "      <td>80.0</td>\n",
       "      <td>8</td>\n",
       "      <td>E</td>\n",
       "    </tr>\n",
       "    <tr>\n",
       "      <th>4</th>\n",
       "      <td>Pokemon Red/Pokemon Blue</td>\n",
       "      <td>GB</td>\n",
       "      <td>1996.0</td>\n",
       "      <td>Role-Playing</td>\n",
       "      <td>11.27</td>\n",
       "      <td>8.89</td>\n",
       "      <td>10.22</td>\n",
       "      <td>1.00</td>\n",
       "      <td>NaN</td>\n",
       "      <td>NaN</td>\n",
       "      <td>NaN</td>\n",
       "    </tr>\n",
       "  </tbody>\n",
       "</table>\n",
       "</div>"
      ],
      "text/plain": [
       "                       Name Platform  Year_of_Release         Genre  NA_sales  \\\n",
       "0                Wii Sports      Wii           2006.0        Sports     41.36   \n",
       "1         Super Mario Bros.      NES           1985.0      Platform     29.08   \n",
       "2            Mario Kart Wii      Wii           2008.0        Racing     15.68   \n",
       "3         Wii Sports Resort      Wii           2009.0        Sports     15.61   \n",
       "4  Pokemon Red/Pokemon Blue       GB           1996.0  Role-Playing     11.27   \n",
       "\n",
       "   EU_sales  JP_sales  Other_sales  Critic_Score User_Score Rating  \n",
       "0     28.96      3.77         8.45          76.0          8      E  \n",
       "1      3.58      6.81         0.77           NaN        NaN    NaN  \n",
       "2     12.76      3.79         3.29          82.0        8.3      E  \n",
       "3     10.93      3.28         2.95          80.0          8      E  \n",
       "4      8.89     10.22         1.00           NaN        NaN    NaN  "
      ]
     },
     "execution_count": 6,
     "metadata": {},
     "output_type": "execute_result"
    }
   ],
   "source": [
    "data.head()"
   ]
  },
  {
   "cell_type": "code",
   "execution_count": 7,
   "metadata": {
    "scrolled": false
   },
   "outputs": [
    {
     "name": "stdout",
     "output_type": "stream",
     "text": [
      "<class 'pandas.core.frame.DataFrame'>\n",
      "RangeIndex: 16715 entries, 0 to 16714\n",
      "Data columns (total 11 columns):\n",
      " #   Column           Non-Null Count  Dtype  \n",
      "---  ------           --------------  -----  \n",
      " 0   Name             16713 non-null  object \n",
      " 1   Platform         16715 non-null  object \n",
      " 2   Year_of_Release  16446 non-null  float64\n",
      " 3   Genre            16713 non-null  object \n",
      " 4   NA_sales         16715 non-null  float64\n",
      " 5   EU_sales         16715 non-null  float64\n",
      " 6   JP_sales         16715 non-null  float64\n",
      " 7   Other_sales      16715 non-null  float64\n",
      " 8   Critic_Score     8137 non-null   float64\n",
      " 9   User_Score       10014 non-null  object \n",
      " 10  Rating           9949 non-null   object \n",
      "dtypes: float64(6), object(5)\n",
      "memory usage: 1.4+ MB\n"
     ]
    }
   ],
   "source": [
    "data.info()"
   ]
  },
  {
   "cell_type": "markdown",
   "metadata": {},
   "source": [
    "***Вывод:***\n",
    "Нам представленны данные о продажах игр: 11 столбцов и 16715 строк."
   ]
  },
  {
   "cell_type": "markdown",
   "metadata": {},
   "source": [
    "# Шаг 2. Подготовка данных"
   ]
  },
  {
   "cell_type": "code",
   "execution_count": 8,
   "metadata": {},
   "outputs": [],
   "source": [
    "data = data.rename(columns={'Name': 'name', 'Platform': 'platform', 'Year_of_Release': 'year_of_release',\n",
    "                            'Genre': 'genre', 'NA_sales': 'na_sales', 'EU_sales': 'eu_sales',\n",
    "                            'JP_sales': 'jp_sales', 'Other_sales': 'other_sales',\n",
    "                            'Critic_Score': 'critic_score', 'User_Score': 'user_score', 'Rating': 'rating'})"
   ]
  },
  {
   "cell_type": "code",
   "execution_count": 9,
   "metadata": {
    "scrolled": true
   },
   "outputs": [
    {
     "data": {
      "text/plain": [
       "name                  2\n",
       "platform              0\n",
       "year_of_release     269\n",
       "genre                 2\n",
       "na_sales              0\n",
       "eu_sales              0\n",
       "jp_sales              0\n",
       "other_sales           0\n",
       "critic_score       8578\n",
       "user_score         6701\n",
       "rating             6766\n",
       "dtype: int64"
      ]
     },
     "execution_count": 9,
     "metadata": {},
     "output_type": "execute_result"
    }
   ],
   "source": [
    "data.isna().sum()"
   ]
  },
  {
   "cell_type": "code",
   "execution_count": 10,
   "metadata": {},
   "outputs": [],
   "source": [
    "# check\n",
    "# пропущенные значения бары\n",
    "\n",
    "def pass_value_barh(df):\n",
    "    try:\n",
    "        (\n",
    "            (df.isna().mean()*100)\n",
    "            .to_frame()\n",
    "            .rename(columns = {0:'space'})\n",
    "            .query('space > 0')\n",
    "            .sort_values(by = 'space', ascending = True)\n",
    "            .plot(kind = 'barh', figsize = (19,6), rot = -5, legend = False, fontsize = 16)\n",
    "            .set_title('Пример' + \"\\n\", fontsize = 22, color = 'SteelBlue')    \n",
    "        );    \n",
    "    except:\n",
    "        print('пропусков не осталось :) или произошла ошибка в первой части функции ')"
   ]
  },
  {
   "cell_type": "code",
   "execution_count": 11,
   "metadata": {},
   "outputs": [
    {
     "data": {
      "image/png": "[encoded data removed]",
      "text/plain": [
       "<Figure size 1368x432 with 1 Axes>"
      ]
     },
     "metadata": {
      "needs_background": "light"
     },
     "output_type": "display_data"
    }
   ],
   "source": [
    "pass_value_barh(data)"
   ]
  },
  {
   "cell_type": "code",
   "execution_count": 12,
   "metadata": {},
   "outputs": [],
   "source": [
    "data.loc[:,'total_sales'] = data.loc[:,'na_sales'] + data.loc[:,'eu_sales'] + data.loc[:,'jp_sales'] + data.loc[:,'other_sales']"
   ]
  },
  {
   "cell_type": "code",
   "execution_count": 13,
   "metadata": {},
   "outputs": [],
   "source": [
    "data.loc[data['user_score'] == \"tbd\", 'user_score'] = np.nan"
   ]
  },
  {
   "cell_type": "code",
   "execution_count": 14,
   "metadata": {},
   "outputs": [],
   "source": [
    "data['user_score'] = data['user_score'].astype('float')"
   ]
  },
  {
   "cell_type": "code",
   "execution_count": 15,
   "metadata": {},
   "outputs": [
    {
     "data": {
      "text/plain": [
       "E       3990\n",
       "T       2961\n",
       "M       1563\n",
       "E10+    1420\n",
       "EC         8\n",
       "RP         3\n",
       "K-A        3\n",
       "AO         1\n",
       "Name: rating, dtype: int64"
      ]
     },
     "execution_count": 15,
     "metadata": {},
     "output_type": "execute_result"
    }
   ],
   "source": [
    "data['rating'].value_counts()"
   ]
  },
  {
   "cell_type": "code",
   "execution_count": 16,
   "metadata": {},
   "outputs": [],
   "source": [
    "data['rating'] = data['rating'].fillna(value='undef')"
   ]
  },
  {
   "cell_type": "markdown",
   "metadata": {},
   "source": [
    "Пропущенный рейтинг я решила заменить на значение по умолчанию."
   ]
  },
  {
   "cell_type": "code",
   "execution_count": 17,
   "metadata": {},
   "outputs": [
    {
     "data": {
      "text/plain": [
       "undef    6766\n",
       "E        3990\n",
       "T        2961\n",
       "M        1563\n",
       "E10+     1420\n",
       "EC          8\n",
       "RP          3\n",
       "K-A         3\n",
       "AO          1\n",
       "Name: rating, dtype: int64"
      ]
     },
     "execution_count": 17,
     "metadata": {},
     "output_type": "execute_result"
    }
   ],
   "source": [
    "# check\n",
    "data['rating'].value_counts()"
   ]
  },
  {
   "cell_type": "code",
   "execution_count": 18,
   "metadata": {
    "scrolled": true
   },
   "outputs": [
    {
     "data": {
      "text/plain": [
       "name                  2\n",
       "platform              0\n",
       "year_of_release     269\n",
       "genre                 2\n",
       "na_sales              0\n",
       "eu_sales              0\n",
       "jp_sales              0\n",
       "other_sales           0\n",
       "critic_score       8578\n",
       "user_score         9125\n",
       "rating                0\n",
       "total_sales           0\n",
       "dtype: int64"
      ]
     },
     "execution_count": 18,
     "metadata": {},
     "output_type": "execute_result"
    }
   ],
   "source": [
    "data.isna().sum()"
   ]
  },
  {
   "cell_type": "code",
   "execution_count": 19,
   "metadata": {},
   "outputs": [],
   "source": [
    "data.loc[:,'user_score'] = data.loc[:,'user_score'].astype('float')"
   ]
  },
  {
   "cell_type": "code",
   "execution_count": 20,
   "metadata": {},
   "outputs": [
    {
     "data": {
      "text/html": [
       "<div>\n",
       "<style scoped>\n",
       "    .dataframe tbody tr th:only-of-type {\n",
       "        vertical-align: middle;\n",
       "    }\n",
       "\n",
       "    .dataframe tbody tr th {\n",
       "        vertical-align: top;\n",
       "    }\n",
       "\n",
       "    .dataframe thead th {\n",
       "        text-align: right;\n",
       "    }\n",
       "</style>\n",
       "<table border=\"1\" class=\"dataframe\">\n",
       "  <thead>\n",
       "    <tr style=\"text-align: right;\">\n",
       "      <th></th>\n",
       "      <th>name</th>\n",
       "      <th>platform</th>\n",
       "      <th>year_of_release</th>\n",
       "      <th>genre</th>\n",
       "      <th>na_sales</th>\n",
       "      <th>eu_sales</th>\n",
       "      <th>jp_sales</th>\n",
       "      <th>other_sales</th>\n",
       "      <th>critic_score</th>\n",
       "      <th>user_score</th>\n",
       "      <th>rating</th>\n",
       "      <th>total_sales</th>\n",
       "    </tr>\n",
       "  </thead>\n",
       "  <tbody>\n",
       "    <tr>\n",
       "      <th>183</th>\n",
       "      <td>Madden NFL 2004</td>\n",
       "      <td>PS2</td>\n",
       "      <td>NaN</td>\n",
       "      <td>Sports</td>\n",
       "      <td>4.26</td>\n",
       "      <td>0.26</td>\n",
       "      <td>0.01</td>\n",
       "      <td>0.71</td>\n",
       "      <td>94.0</td>\n",
       "      <td>8.5</td>\n",
       "      <td>E</td>\n",
       "      <td>5.24</td>\n",
       "    </tr>\n",
       "    <tr>\n",
       "      <th>377</th>\n",
       "      <td>FIFA Soccer 2004</td>\n",
       "      <td>PS2</td>\n",
       "      <td>NaN</td>\n",
       "      <td>Sports</td>\n",
       "      <td>0.59</td>\n",
       "      <td>2.36</td>\n",
       "      <td>0.04</td>\n",
       "      <td>0.51</td>\n",
       "      <td>84.0</td>\n",
       "      <td>6.4</td>\n",
       "      <td>E</td>\n",
       "      <td>3.50</td>\n",
       "    </tr>\n",
       "    <tr>\n",
       "      <th>456</th>\n",
       "      <td>LEGO Batman: The Videogame</td>\n",
       "      <td>Wii</td>\n",
       "      <td>NaN</td>\n",
       "      <td>Action</td>\n",
       "      <td>1.80</td>\n",
       "      <td>0.97</td>\n",
       "      <td>0.00</td>\n",
       "      <td>0.29</td>\n",
       "      <td>74.0</td>\n",
       "      <td>7.9</td>\n",
       "      <td>E10+</td>\n",
       "      <td>3.06</td>\n",
       "    </tr>\n",
       "    <tr>\n",
       "      <th>475</th>\n",
       "      <td>wwe Smackdown vs. Raw 2006</td>\n",
       "      <td>PS2</td>\n",
       "      <td>NaN</td>\n",
       "      <td>Fighting</td>\n",
       "      <td>1.57</td>\n",
       "      <td>1.02</td>\n",
       "      <td>0.00</td>\n",
       "      <td>0.41</td>\n",
       "      <td>NaN</td>\n",
       "      <td>NaN</td>\n",
       "      <td>undef</td>\n",
       "      <td>3.00</td>\n",
       "    </tr>\n",
       "    <tr>\n",
       "      <th>609</th>\n",
       "      <td>Space Invaders</td>\n",
       "      <td>2600</td>\n",
       "      <td>NaN</td>\n",
       "      <td>Shooter</td>\n",
       "      <td>2.36</td>\n",
       "      <td>0.14</td>\n",
       "      <td>0.00</td>\n",
       "      <td>0.03</td>\n",
       "      <td>NaN</td>\n",
       "      <td>NaN</td>\n",
       "      <td>undef</td>\n",
       "      <td>2.53</td>\n",
       "    </tr>\n",
       "    <tr>\n",
       "      <th>...</th>\n",
       "      <td>...</td>\n",
       "      <td>...</td>\n",
       "      <td>...</td>\n",
       "      <td>...</td>\n",
       "      <td>...</td>\n",
       "      <td>...</td>\n",
       "      <td>...</td>\n",
       "      <td>...</td>\n",
       "      <td>...</td>\n",
       "      <td>...</td>\n",
       "      <td>...</td>\n",
       "      <td>...</td>\n",
       "    </tr>\n",
       "    <tr>\n",
       "      <th>16373</th>\n",
       "      <td>PDC World Championship Darts 2008</td>\n",
       "      <td>PSP</td>\n",
       "      <td>NaN</td>\n",
       "      <td>Sports</td>\n",
       "      <td>0.01</td>\n",
       "      <td>0.00</td>\n",
       "      <td>0.00</td>\n",
       "      <td>0.00</td>\n",
       "      <td>43.0</td>\n",
       "      <td>NaN</td>\n",
       "      <td>E10+</td>\n",
       "      <td>0.01</td>\n",
       "    </tr>\n",
       "    <tr>\n",
       "      <th>16405</th>\n",
       "      <td>Freaky Flyers</td>\n",
       "      <td>GC</td>\n",
       "      <td>NaN</td>\n",
       "      <td>Racing</td>\n",
       "      <td>0.01</td>\n",
       "      <td>0.00</td>\n",
       "      <td>0.00</td>\n",
       "      <td>0.00</td>\n",
       "      <td>69.0</td>\n",
       "      <td>6.5</td>\n",
       "      <td>T</td>\n",
       "      <td>0.01</td>\n",
       "    </tr>\n",
       "    <tr>\n",
       "      <th>16448</th>\n",
       "      <td>Inversion</td>\n",
       "      <td>PC</td>\n",
       "      <td>NaN</td>\n",
       "      <td>Shooter</td>\n",
       "      <td>0.01</td>\n",
       "      <td>0.00</td>\n",
       "      <td>0.00</td>\n",
       "      <td>0.00</td>\n",
       "      <td>59.0</td>\n",
       "      <td>6.7</td>\n",
       "      <td>M</td>\n",
       "      <td>0.01</td>\n",
       "    </tr>\n",
       "    <tr>\n",
       "      <th>16458</th>\n",
       "      <td>Hakuouki: Shinsengumi Kitan</td>\n",
       "      <td>PS3</td>\n",
       "      <td>NaN</td>\n",
       "      <td>Adventure</td>\n",
       "      <td>0.01</td>\n",
       "      <td>0.00</td>\n",
       "      <td>0.00</td>\n",
       "      <td>0.00</td>\n",
       "      <td>NaN</td>\n",
       "      <td>NaN</td>\n",
       "      <td>undef</td>\n",
       "      <td>0.01</td>\n",
       "    </tr>\n",
       "    <tr>\n",
       "      <th>16522</th>\n",
       "      <td>Virtua Quest</td>\n",
       "      <td>GC</td>\n",
       "      <td>NaN</td>\n",
       "      <td>Role-Playing</td>\n",
       "      <td>0.01</td>\n",
       "      <td>0.00</td>\n",
       "      <td>0.00</td>\n",
       "      <td>0.00</td>\n",
       "      <td>55.0</td>\n",
       "      <td>5.5</td>\n",
       "      <td>T</td>\n",
       "      <td>0.01</td>\n",
       "    </tr>\n",
       "  </tbody>\n",
       "</table>\n",
       "<p>269 rows × 12 columns</p>\n",
       "</div>"
      ],
      "text/plain": [
       "                                    name platform  year_of_release  \\\n",
       "183                      Madden NFL 2004      PS2              NaN   \n",
       "377                     FIFA Soccer 2004      PS2              NaN   \n",
       "456           LEGO Batman: The Videogame      Wii              NaN   \n",
       "475           wwe Smackdown vs. Raw 2006      PS2              NaN   \n",
       "609                       Space Invaders     2600              NaN   \n",
       "...                                  ...      ...              ...   \n",
       "16373  PDC World Championship Darts 2008      PSP              NaN   \n",
       "16405                      Freaky Flyers       GC              NaN   \n",
       "16448                          Inversion       PC              NaN   \n",
       "16458        Hakuouki: Shinsengumi Kitan      PS3              NaN   \n",
       "16522                       Virtua Quest       GC              NaN   \n",
       "\n",
       "              genre  na_sales  eu_sales  jp_sales  other_sales  critic_score  \\\n",
       "183          Sports      4.26      0.26      0.01         0.71          94.0   \n",
       "377          Sports      0.59      2.36      0.04         0.51          84.0   \n",
       "456          Action      1.80      0.97      0.00         0.29          74.0   \n",
       "475        Fighting      1.57      1.02      0.00         0.41           NaN   \n",
       "609         Shooter      2.36      0.14      0.00         0.03           NaN   \n",
       "...             ...       ...       ...       ...          ...           ...   \n",
       "16373        Sports      0.01      0.00      0.00         0.00          43.0   \n",
       "16405        Racing      0.01      0.00      0.00         0.00          69.0   \n",
       "16448       Shooter      0.01      0.00      0.00         0.00          59.0   \n",
       "16458     Adventure      0.01      0.00      0.00         0.00           NaN   \n",
       "16522  Role-Playing      0.01      0.00      0.00         0.00          55.0   \n",
       "\n",
       "       user_score rating  total_sales  \n",
       "183           8.5      E         5.24  \n",
       "377           6.4      E         3.50  \n",
       "456           7.9   E10+         3.06  \n",
       "475           NaN  undef         3.00  \n",
       "609           NaN  undef         2.53  \n",
       "...           ...    ...          ...  \n",
       "16373         NaN   E10+         0.01  \n",
       "16405         6.5      T         0.01  \n",
       "16448         6.7      M         0.01  \n",
       "16458         NaN  undef         0.01  \n",
       "16522         5.5      T         0.01  \n",
       "\n",
       "[269 rows x 12 columns]"
      ]
     },
     "execution_count": 20,
     "metadata": {},
     "output_type": "execute_result"
    }
   ],
   "source": [
    "data[data['year_of_release'].isna() == True]"
   ]
  },
  {
   "cell_type": "markdown",
   "metadata": {},
   "source": [
    "Продажи принесенные в пропущенные года совсем не значительны, поэтому их можно смело удалить."
   ]
  },
  {
   "cell_type": "code",
   "execution_count": 21,
   "metadata": {},
   "outputs": [],
   "source": [
    "data = data.dropna(subset=['year_of_release'])"
   ]
  },
  {
   "cell_type": "code",
   "execution_count": 22,
   "metadata": {},
   "outputs": [],
   "source": [
    "data.loc[:,'year_of_release'] = data.loc[:,'year_of_release'].astype('int')"
   ]
  },
  {
   "cell_type": "code",
   "execution_count": 23,
   "metadata": {},
   "outputs": [
    {
     "data": {
      "text/html": [
       "<div>\n",
       "<style scoped>\n",
       "    .dataframe tbody tr th:only-of-type {\n",
       "        vertical-align: middle;\n",
       "    }\n",
       "\n",
       "    .dataframe tbody tr th {\n",
       "        vertical-align: top;\n",
       "    }\n",
       "\n",
       "    .dataframe thead th {\n",
       "        text-align: right;\n",
       "    }\n",
       "</style>\n",
       "<table border=\"1\" class=\"dataframe\">\n",
       "  <thead>\n",
       "    <tr style=\"text-align: right;\">\n",
       "      <th></th>\n",
       "      <th>name</th>\n",
       "      <th>platform</th>\n",
       "      <th>year_of_release</th>\n",
       "      <th>genre</th>\n",
       "      <th>na_sales</th>\n",
       "      <th>eu_sales</th>\n",
       "      <th>jp_sales</th>\n",
       "      <th>other_sales</th>\n",
       "      <th>critic_score</th>\n",
       "      <th>user_score</th>\n",
       "      <th>rating</th>\n",
       "      <th>total_sales</th>\n",
       "    </tr>\n",
       "  </thead>\n",
       "  <tbody>\n",
       "    <tr>\n",
       "      <th>659</th>\n",
       "      <td>NaN</td>\n",
       "      <td>GEN</td>\n",
       "      <td>1993</td>\n",
       "      <td>NaN</td>\n",
       "      <td>1.78</td>\n",
       "      <td>0.53</td>\n",
       "      <td>0.00</td>\n",
       "      <td>0.08</td>\n",
       "      <td>NaN</td>\n",
       "      <td>NaN</td>\n",
       "      <td>undef</td>\n",
       "      <td>2.39</td>\n",
       "    </tr>\n",
       "    <tr>\n",
       "      <th>14244</th>\n",
       "      <td>NaN</td>\n",
       "      <td>GEN</td>\n",
       "      <td>1993</td>\n",
       "      <td>NaN</td>\n",
       "      <td>0.00</td>\n",
       "      <td>0.00</td>\n",
       "      <td>0.03</td>\n",
       "      <td>0.00</td>\n",
       "      <td>NaN</td>\n",
       "      <td>NaN</td>\n",
       "      <td>undef</td>\n",
       "      <td>0.03</td>\n",
       "    </tr>\n",
       "  </tbody>\n",
       "</table>\n",
       "</div>"
      ],
      "text/plain": [
       "      name platform  year_of_release genre  na_sales  eu_sales  jp_sales  \\\n",
       "659    NaN      GEN             1993   NaN      1.78      0.53      0.00   \n",
       "14244  NaN      GEN             1993   NaN      0.00      0.00      0.03   \n",
       "\n",
       "       other_sales  critic_score  user_score rating  total_sales  \n",
       "659           0.08           NaN         NaN  undef         2.39  \n",
       "14244         0.00           NaN         NaN  undef         0.03  "
      ]
     },
     "execution_count": 23,
     "metadata": {},
     "output_type": "execute_result"
    }
   ],
   "source": [
    "data[data['name'].isna() == True]"
   ]
  },
  {
   "cell_type": "code",
   "execution_count": 24,
   "metadata": {},
   "outputs": [
    {
     "data": {
      "text/html": [
       "<div>\n",
       "<style scoped>\n",
       "    .dataframe tbody tr th:only-of-type {\n",
       "        vertical-align: middle;\n",
       "    }\n",
       "\n",
       "    .dataframe tbody tr th {\n",
       "        vertical-align: top;\n",
       "    }\n",
       "\n",
       "    .dataframe thead th {\n",
       "        text-align: right;\n",
       "    }\n",
       "</style>\n",
       "<table border=\"1\" class=\"dataframe\">\n",
       "  <thead>\n",
       "    <tr style=\"text-align: right;\">\n",
       "      <th></th>\n",
       "      <th>name</th>\n",
       "      <th>platform</th>\n",
       "      <th>year_of_release</th>\n",
       "      <th>genre</th>\n",
       "      <th>na_sales</th>\n",
       "      <th>eu_sales</th>\n",
       "      <th>jp_sales</th>\n",
       "      <th>other_sales</th>\n",
       "      <th>critic_score</th>\n",
       "      <th>user_score</th>\n",
       "      <th>rating</th>\n",
       "      <th>total_sales</th>\n",
       "    </tr>\n",
       "  </thead>\n",
       "  <tbody>\n",
       "    <tr>\n",
       "      <th>0</th>\n",
       "      <td>Wii Sports</td>\n",
       "      <td>Wii</td>\n",
       "      <td>2006</td>\n",
       "      <td>Sports</td>\n",
       "      <td>41.36</td>\n",
       "      <td>28.96</td>\n",
       "      <td>3.77</td>\n",
       "      <td>8.45</td>\n",
       "      <td>76.0</td>\n",
       "      <td>8.0</td>\n",
       "      <td>E</td>\n",
       "      <td>82.54</td>\n",
       "    </tr>\n",
       "    <tr>\n",
       "      <th>1</th>\n",
       "      <td>Super Mario Bros.</td>\n",
       "      <td>NES</td>\n",
       "      <td>1985</td>\n",
       "      <td>Platform</td>\n",
       "      <td>29.08</td>\n",
       "      <td>3.58</td>\n",
       "      <td>6.81</td>\n",
       "      <td>0.77</td>\n",
       "      <td>NaN</td>\n",
       "      <td>NaN</td>\n",
       "      <td>undef</td>\n",
       "      <td>40.24</td>\n",
       "    </tr>\n",
       "    <tr>\n",
       "      <th>2</th>\n",
       "      <td>Mario Kart Wii</td>\n",
       "      <td>Wii</td>\n",
       "      <td>2008</td>\n",
       "      <td>Racing</td>\n",
       "      <td>15.68</td>\n",
       "      <td>12.76</td>\n",
       "      <td>3.79</td>\n",
       "      <td>3.29</td>\n",
       "      <td>82.0</td>\n",
       "      <td>8.3</td>\n",
       "      <td>E</td>\n",
       "      <td>35.52</td>\n",
       "    </tr>\n",
       "    <tr>\n",
       "      <th>3</th>\n",
       "      <td>Wii Sports Resort</td>\n",
       "      <td>Wii</td>\n",
       "      <td>2009</td>\n",
       "      <td>Sports</td>\n",
       "      <td>15.61</td>\n",
       "      <td>10.93</td>\n",
       "      <td>3.28</td>\n",
       "      <td>2.95</td>\n",
       "      <td>80.0</td>\n",
       "      <td>8.0</td>\n",
       "      <td>E</td>\n",
       "      <td>32.77</td>\n",
       "    </tr>\n",
       "    <tr>\n",
       "      <th>4</th>\n",
       "      <td>Pokemon Red/Pokemon Blue</td>\n",
       "      <td>GB</td>\n",
       "      <td>1996</td>\n",
       "      <td>Role-Playing</td>\n",
       "      <td>11.27</td>\n",
       "      <td>8.89</td>\n",
       "      <td>10.22</td>\n",
       "      <td>1.00</td>\n",
       "      <td>NaN</td>\n",
       "      <td>NaN</td>\n",
       "      <td>undef</td>\n",
       "      <td>31.38</td>\n",
       "    </tr>\n",
       "    <tr>\n",
       "      <th>...</th>\n",
       "      <td>...</td>\n",
       "      <td>...</td>\n",
       "      <td>...</td>\n",
       "      <td>...</td>\n",
       "      <td>...</td>\n",
       "      <td>...</td>\n",
       "      <td>...</td>\n",
       "      <td>...</td>\n",
       "      <td>...</td>\n",
       "      <td>...</td>\n",
       "      <td>...</td>\n",
       "      <td>...</td>\n",
       "    </tr>\n",
       "    <tr>\n",
       "      <th>16710</th>\n",
       "      <td>Samurai Warriors: Sanada Maru</td>\n",
       "      <td>PS3</td>\n",
       "      <td>2016</td>\n",
       "      <td>Action</td>\n",
       "      <td>0.00</td>\n",
       "      <td>0.00</td>\n",
       "      <td>0.01</td>\n",
       "      <td>0.00</td>\n",
       "      <td>NaN</td>\n",
       "      <td>NaN</td>\n",
       "      <td>undef</td>\n",
       "      <td>0.01</td>\n",
       "    </tr>\n",
       "    <tr>\n",
       "      <th>16711</th>\n",
       "      <td>LMA Manager 2007</td>\n",
       "      <td>X360</td>\n",
       "      <td>2006</td>\n",
       "      <td>Sports</td>\n",
       "      <td>0.00</td>\n",
       "      <td>0.01</td>\n",
       "      <td>0.00</td>\n",
       "      <td>0.00</td>\n",
       "      <td>NaN</td>\n",
       "      <td>NaN</td>\n",
       "      <td>undef</td>\n",
       "      <td>0.01</td>\n",
       "    </tr>\n",
       "    <tr>\n",
       "      <th>16712</th>\n",
       "      <td>Haitaka no Psychedelica</td>\n",
       "      <td>PSV</td>\n",
       "      <td>2016</td>\n",
       "      <td>Adventure</td>\n",
       "      <td>0.00</td>\n",
       "      <td>0.00</td>\n",
       "      <td>0.01</td>\n",
       "      <td>0.00</td>\n",
       "      <td>NaN</td>\n",
       "      <td>NaN</td>\n",
       "      <td>undef</td>\n",
       "      <td>0.01</td>\n",
       "    </tr>\n",
       "    <tr>\n",
       "      <th>16713</th>\n",
       "      <td>Spirits &amp; Spells</td>\n",
       "      <td>GBA</td>\n",
       "      <td>2003</td>\n",
       "      <td>Platform</td>\n",
       "      <td>0.01</td>\n",
       "      <td>0.00</td>\n",
       "      <td>0.00</td>\n",
       "      <td>0.00</td>\n",
       "      <td>NaN</td>\n",
       "      <td>NaN</td>\n",
       "      <td>undef</td>\n",
       "      <td>0.01</td>\n",
       "    </tr>\n",
       "    <tr>\n",
       "      <th>16714</th>\n",
       "      <td>Winning Post 8 2016</td>\n",
       "      <td>PSV</td>\n",
       "      <td>2016</td>\n",
       "      <td>Simulation</td>\n",
       "      <td>0.00</td>\n",
       "      <td>0.00</td>\n",
       "      <td>0.01</td>\n",
       "      <td>0.00</td>\n",
       "      <td>NaN</td>\n",
       "      <td>NaN</td>\n",
       "      <td>undef</td>\n",
       "      <td>0.01</td>\n",
       "    </tr>\n",
       "  </tbody>\n",
       "</table>\n",
       "<p>16444 rows × 12 columns</p>\n",
       "</div>"
      ],
      "text/plain": [
       "                                name platform  year_of_release         genre  \\\n",
       "0                         Wii Sports      Wii             2006        Sports   \n",
       "1                  Super Mario Bros.      NES             1985      Platform   \n",
       "2                     Mario Kart Wii      Wii             2008        Racing   \n",
       "3                  Wii Sports Resort      Wii             2009        Sports   \n",
       "4           Pokemon Red/Pokemon Blue       GB             1996  Role-Playing   \n",
       "...                              ...      ...              ...           ...   \n",
       "16710  Samurai Warriors: Sanada Maru      PS3             2016        Action   \n",
       "16711               LMA Manager 2007     X360             2006        Sports   \n",
       "16712        Haitaka no Psychedelica      PSV             2016     Adventure   \n",
       "16713               Spirits & Spells      GBA             2003      Platform   \n",
       "16714            Winning Post 8 2016      PSV             2016    Simulation   \n",
       "\n",
       "       na_sales  eu_sales  jp_sales  other_sales  critic_score  user_score  \\\n",
       "0         41.36     28.96      3.77         8.45          76.0         8.0   \n",
       "1         29.08      3.58      6.81         0.77           NaN         NaN   \n",
       "2         15.68     12.76      3.79         3.29          82.0         8.3   \n",
       "3         15.61     10.93      3.28         2.95          80.0         8.0   \n",
       "4         11.27      8.89     10.22         1.00           NaN         NaN   \n",
       "...         ...       ...       ...          ...           ...         ...   \n",
       "16710      0.00      0.00      0.01         0.00           NaN         NaN   \n",
       "16711      0.00      0.01      0.00         0.00           NaN         NaN   \n",
       "16712      0.00      0.00      0.01         0.00           NaN         NaN   \n",
       "16713      0.01      0.00      0.00         0.00           NaN         NaN   \n",
       "16714      0.00      0.00      0.01         0.00           NaN         NaN   \n",
       "\n",
       "      rating  total_sales  \n",
       "0          E        82.54  \n",
       "1      undef        40.24  \n",
       "2          E        35.52  \n",
       "3          E        32.77  \n",
       "4      undef        31.38  \n",
       "...      ...          ...  \n",
       "16710  undef         0.01  \n",
       "16711  undef         0.01  \n",
       "16712  undef         0.01  \n",
       "16713  undef         0.01  \n",
       "16714  undef         0.01  \n",
       "\n",
       "[16444 rows x 12 columns]"
      ]
     },
     "execution_count": 24,
     "metadata": {},
     "output_type": "execute_result"
    }
   ],
   "source": [
    "data = data.drop(data[data['name'].isna() == True].index)\n",
    "data"
   ]
  },
  {
   "cell_type": "code",
   "execution_count": 25,
   "metadata": {},
   "outputs": [
    {
     "data": {
      "text/plain": [
       "name                  0\n",
       "platform              0\n",
       "year_of_release       0\n",
       "genre                 0\n",
       "na_sales              0\n",
       "eu_sales              0\n",
       "jp_sales              0\n",
       "other_sales           0\n",
       "critic_score       8461\n",
       "user_score         8981\n",
       "rating                0\n",
       "total_sales           0\n",
       "dtype: int64"
      ]
     },
     "execution_count": 25,
     "metadata": {},
     "output_type": "execute_result"
    }
   ],
   "source": [
    "data.isna().sum()"
   ]
  },
  {
   "cell_type": "code",
   "execution_count": 26,
   "metadata": {},
   "outputs": [
    {
     "data": {
      "text/plain": [
       "0"
      ]
     },
     "execution_count": 26,
     "metadata": {},
     "output_type": "execute_result"
    }
   ],
   "source": [
    "data.duplicated().sum()"
   ]
  },
  {
   "cell_type": "code",
   "execution_count": 27,
   "metadata": {},
   "outputs": [],
   "source": [
    "data['name'] = data['name'].str.lower()\n",
    "data['platform'] = data['platform'].str.lower()"
   ]
  },
  {
   "cell_type": "code",
   "execution_count": 28,
   "metadata": {},
   "outputs": [
    {
     "data": {
      "text/plain": [
       "1"
      ]
     },
     "execution_count": 28,
     "metadata": {},
     "output_type": "execute_result"
    }
   ],
   "source": [
    "data.duplicated(subset=['name', 'platform', 'year_of_release']).sum()"
   ]
  },
  {
   "cell_type": "code",
   "execution_count": 29,
   "metadata": {},
   "outputs": [],
   "source": [
    "data = data.drop_duplicates(subset=['name', 'platform', 'year_of_release']).reset_index(drop=True)"
   ]
  },
  {
   "cell_type": "markdown",
   "metadata": {},
   "source": [
    "*** Вывод *** : \n",
    "\n",
    "Очень много пропущенных данных в столбцах user_score, critic_score, rating. \n",
    "\n",
    "Пропущенные данные в годе релиза я удалила, так как они приносят мало прибыли, что для данных не так весомо.\n",
    "\n",
    "Также я удалила 2 строчки с пропущенными именем и жанром.\n",
    "\n",
    "Строки, где в user_score было указано \"tbd\", я заменила пропусками. \n",
    "\n",
    "Пропущенные категориальные данные в рейтинге удалось обработать и заменить на \"undef\"."
   ]
  },
  {
   "cell_type": "markdown",
   "metadata": {},
   "source": [
    "# Шаг 3. Исследовательский анализ"
   ]
  },
  {
   "cell_type": "code",
   "execution_count": 30,
   "metadata": {},
   "outputs": [
    {
     "data": {
      "image/png": "[encoded data removed]",
      "text/plain": [
       "<Figure size 864x432 with 1 Axes>"
      ]
     },
     "metadata": {
      "needs_background": "light"
     },
     "output_type": "display_data"
    }
   ],
   "source": [
    "year_of_release = data.groupby('year_of_release')['name'].count()\n",
    "year_of_release.plot(kind='bar', figsize=(12,6));"
   ]
  },
  {
   "cell_type": "markdown",
   "metadata": {},
   "source": [
    "Я думаю, что данные до 1993 включительно не так важны."
   ]
  },
  {
   "cell_type": "code",
   "execution_count": 31,
   "metadata": {},
   "outputs": [],
   "source": [
    "platform_total_sales = data.groupby('platform')['total_sales'].sum().sort_values(ascending=False).head(20)"
   ]
  },
  {
   "cell_type": "code",
   "execution_count": 32,
   "metadata": {},
   "outputs": [
    {
     "data": {
      "text/plain": [
       "platform\n",
       "ps2     1233.56\n",
       "x360     961.24\n",
       "ps3      931.33\n",
       "wii      891.18\n",
       "ds       802.78\n",
       "ps       727.58\n",
       "ps4      314.14\n",
       "gba      312.88\n",
       "psp      289.53\n",
       "3ds      257.81\n",
       "pc       255.76\n",
       "gb       254.43\n",
       "xb       251.57\n",
       "nes      251.05\n",
       "n64      218.01\n",
       "snes     200.04\n",
       "gc       196.73\n",
       "xone     159.32\n",
       "2600      86.48\n",
       "wiiu      82.19\n",
       "Name: total_sales, dtype: float64"
      ]
     },
     "execution_count": 32,
     "metadata": {},
     "output_type": "execute_result"
    }
   ],
   "source": [
    "platform_total_sales # потенциально прибыльные платформы"
   ]
  },
  {
   "cell_type": "code",
   "execution_count": 33,
   "metadata": {},
   "outputs": [],
   "source": [
    "data_pivot = data.query('platform in @platform_total_sales.index and year_of_release > 2003').pivot_table(index='year_of_release', columns='platform', \n",
    "                              values='total_sales', aggfunc='sum')"
   ]
  },
  {
   "cell_type": "code",
   "execution_count": 34,
   "metadata": {},
   "outputs": [
    {
     "data": {
      "image/png": "[encoded data removed]",
      "text/plain": [
       "<Figure size 720x720 with 1 Axes>"
      ]
     },
     "metadata": {
      "needs_background": "light"
     },
     "output_type": "display_data"
    }
   ],
   "source": [
    "data_pivot.plot(figsize=(10,10));"
   ]
  },
  {
   "cell_type": "markdown",
   "metadata": {},
   "source": [
    "Характерный срок от начала до завершения продаж составляет в среднем 10 лет"
   ]
  },
  {
   "cell_type": "code",
   "execution_count": 35,
   "metadata": {},
   "outputs": [],
   "source": [
    "data_actual = data.query('year_of_release >= 2014')"
   ]
  },
  {
   "cell_type": "code",
   "execution_count": 36,
   "metadata": {},
   "outputs": [
    {
     "data": {
      "text/plain": [
       "platform\n",
       "ps4     288.15\n",
       "xone    140.36\n",
       "3ds      86.68\n",
       "ps3      68.18\n",
       "x360     48.22\n",
       "wiiu     42.98\n",
       "pc       27.05\n",
       "psv      22.40\n",
       "wii       5.07\n",
       "psp       0.36\n",
       "Name: total_sales, dtype: float64"
      ]
     },
     "execution_count": 36,
     "metadata": {},
     "output_type": "execute_result"
    }
   ],
   "source": [
    "data_actual.groupby('platform')['total_sales'].sum().sort_values(ascending=False)"
   ]
  },
  {
   "cell_type": "markdown",
   "metadata": {},
   "source": [
    "Лидируют по продажам PS4, XOne 3DS"
   ]
  },
  {
   "cell_type": "code",
   "execution_count": 37,
   "metadata": {},
   "outputs": [
    {
     "data": {
      "image/png": "[encoded data removed]",
      "text/plain": [
       "<Figure size 864x360 with 1 Axes>"
      ]
     },
     "metadata": {
      "needs_background": "light"
     },
     "output_type": "display_data"
    }
   ],
   "source": [
    "pd.plotting.boxplot(data_actual, column='total_sales', by='platform', figsize=(12,5));"
   ]
  },
  {
   "cell_type": "code",
   "execution_count": 38,
   "metadata": {
    "scrolled": true
   },
   "outputs": [
    {
     "data": {
      "image/png": "[encoded data removed]",
      "text/plain": [
       "<Figure size 720x360 with 1 Axes>"
      ]
     },
     "metadata": {
      "needs_background": "light"
     },
     "output_type": "display_data"
    }
   ],
   "source": [
    "pd.plotting.boxplot(data_actual, column='total_sales', by='platform', figsize=(10,5));\n",
    "plt.ylim([0, 1.6]);"
   ]
  },
  {
   "cell_type": "markdown",
   "metadata": {},
   "source": [
    "Медиана ориентировочно равна 0,1. Видна тенденция, что все продажи лежат в пределе от 0 до 1.5 млн. Есть немного выбросов."
   ]
  },
  {
   "cell_type": "markdown",
   "metadata": {},
   "source": [
    "Самые перспективные платформы на 2017 год: ps4, 3ds и xone"
   ]
  },
  {
   "cell_type": "code",
   "execution_count": 39,
   "metadata": {},
   "outputs": [],
   "source": [
    "platform_ps4 = data.query('platform == \"ps4\"')"
   ]
  },
  {
   "cell_type": "code",
   "execution_count": 40,
   "metadata": {},
   "outputs": [
    {
     "data": {
      "image/png": "[encoded data removed]",
      "text/plain": [
       "<Figure size 432x288 with 1 Axes>"
      ]
     },
     "metadata": {
      "needs_background": "light"
     },
     "output_type": "display_data"
    }
   ],
   "source": [
    "platform_ps4.plot(x='total_sales',y='user_score',kind='scatter');"
   ]
  },
  {
   "cell_type": "code",
   "execution_count": 41,
   "metadata": {},
   "outputs": [
    {
     "data": {
      "image/png": "[encoded data removed]",
      "text/plain": [
       "<Figure size 432x288 with 1 Axes>"
      ]
     },
     "metadata": {
      "needs_background": "light"
     },
     "output_type": "display_data"
    }
   ],
   "source": [
    "platform_ps4.plot(x='total_sales',y='critic_score',kind='scatter');"
   ]
  },
  {
   "cell_type": "code",
   "execution_count": 42,
   "metadata": {},
   "outputs": [
    {
     "data": {
      "text/plain": [
       "-0.031957110204556376"
      ]
     },
     "execution_count": 42,
     "metadata": {},
     "output_type": "execute_result"
    }
   ],
   "source": [
    "platform_ps4['total_sales'].corr(data['user_score'])"
   ]
  },
  {
   "cell_type": "code",
   "execution_count": 43,
   "metadata": {},
   "outputs": [
    {
     "data": {
      "text/plain": [
       "0.406567902061781"
      ]
     },
     "execution_count": 43,
     "metadata": {},
     "output_type": "execute_result"
    }
   ],
   "source": [
    "platform_ps4['total_sales'].corr(data['critic_score'])"
   ]
  },
  {
   "cell_type": "markdown",
   "metadata": {},
   "source": [
    "Нет связи между продажами и отзывами пользователей, немного на продажи влияют отзывы критиков."
   ]
  },
  {
   "cell_type": "markdown",
   "metadata": {},
   "source": [
    "*** Другие платформы ***"
   ]
  },
  {
   "cell_type": "code",
   "execution_count": 44,
   "metadata": {},
   "outputs": [],
   "source": [
    "platform_3ds = data.query('platform == \"3ds\"')"
   ]
  },
  {
   "cell_type": "code",
   "execution_count": 45,
   "metadata": {},
   "outputs": [
    {
     "data": {
      "image/png": "[encoded data removed]",
      "text/plain": [
       "<Figure size 432x288 with 1 Axes>"
      ]
     },
     "metadata": {
      "needs_background": "light"
     },
     "output_type": "display_data"
    }
   ],
   "source": [
    "platform_3ds.plot(x='total_sales',y='user_score',kind='scatter');"
   ]
  },
  {
   "cell_type": "code",
   "execution_count": 46,
   "metadata": {},
   "outputs": [
    {
     "data": {
      "text/plain": [
       "0.22207843643390884"
      ]
     },
     "execution_count": 46,
     "metadata": {},
     "output_type": "execute_result"
    }
   ],
   "source": [
    "platform_3ds['total_sales'].corr(data['user_score'])"
   ]
  },
  {
   "cell_type": "code",
   "execution_count": 47,
   "metadata": {},
   "outputs": [
    {
     "data": {
      "image/png": "[encoded data removed]",
      "text/plain": [
       "<Figure size 432x288 with 1 Axes>"
      ]
     },
     "metadata": {
      "needs_background": "light"
     },
     "output_type": "display_data"
    }
   ],
   "source": [
    "platform_3ds.plot(x='total_sales',y='critic_score',kind='scatter');"
   ]
  },
  {
   "cell_type": "code",
   "execution_count": 48,
   "metadata": {},
   "outputs": [
    {
     "data": {
      "text/plain": [
       "0.34873973059848346"
      ]
     },
     "execution_count": 48,
     "metadata": {},
     "output_type": "execute_result"
    }
   ],
   "source": [
    "platform_3ds['total_sales'].corr(data['critic_score'])"
   ]
  },
  {
   "cell_type": "code",
   "execution_count": 49,
   "metadata": {},
   "outputs": [],
   "source": [
    "platform_xone = data.query('platform == \"xone\"')"
   ]
  },
  {
   "cell_type": "code",
   "execution_count": 50,
   "metadata": {},
   "outputs": [
    {
     "data": {
      "image/png": "[encoded data removed]",
      "text/plain": [
       "<Figure size 432x288 with 1 Axes>"
      ]
     },
     "metadata": {
      "needs_background": "light"
     },
     "output_type": "display_data"
    }
   ],
   "source": [
    "platform_xone.plot(x='total_sales',y='user_score',kind='scatter');"
   ]
  },
  {
   "cell_type": "code",
   "execution_count": 51,
   "metadata": {},
   "outputs": [
    {
     "data": {
      "text/plain": [
       "-0.06892505328279412"
      ]
     },
     "execution_count": 51,
     "metadata": {},
     "output_type": "execute_result"
    }
   ],
   "source": [
    "platform_xone['total_sales'].corr(data['user_score'])"
   ]
  },
  {
   "cell_type": "code",
   "execution_count": 52,
   "metadata": {},
   "outputs": [
    {
     "data": {
      "image/png": "[encoded data removed]",
      "text/plain": [
       "<Figure size 432x288 with 1 Axes>"
      ]
     },
     "metadata": {
      "needs_background": "light"
     },
     "output_type": "display_data"
    }
   ],
   "source": [
    "platform_xone.plot(x='total_sales',y='critic_score',kind='scatter');"
   ]
  },
  {
   "cell_type": "code",
   "execution_count": 53,
   "metadata": {},
   "outputs": [
    {
     "data": {
      "text/plain": [
       "0.41699832800840175"
      ]
     },
     "execution_count": 53,
     "metadata": {},
     "output_type": "execute_result"
    }
   ],
   "source": [
    "platform_xone['total_sales'].corr(data['critic_score'])"
   ]
  },
  {
   "cell_type": "markdown",
   "metadata": {},
   "source": [
    "С остальными платформами аналогичная ситуация, только у платформы 3ds наблюдается малая связь с оценками пользователей."
   ]
  },
  {
   "cell_type": "code",
   "execution_count": 54,
   "metadata": {
    "scrolled": true
   },
   "outputs": [
    {
     "data": {
      "text/plain": [
       "genre\n",
       "Puzzle           14\n",
       "Strategy         37\n",
       "Platform         38\n",
       "Simulation       44\n",
       "Fighting         60\n",
       "Racing           69\n",
       "Misc            113\n",
       "Shooter         128\n",
       "Sports          161\n",
       "Adventure       185\n",
       "Role-Playing    221\n",
       "Action          619\n",
       "Name: total_sales, dtype: int64"
      ]
     },
     "execution_count": 54,
     "metadata": {},
     "output_type": "execute_result"
    }
   ],
   "source": [
    "data_actual.groupby('genre')['total_sales'].count().sort_values()"
   ]
  },
  {
   "cell_type": "code",
   "execution_count": 55,
   "metadata": {},
   "outputs": [
    {
     "data": {
      "text/plain": [
       "genre\n",
       "Puzzle            2.21\n",
       "Strategy          3.96\n",
       "Simulation       13.13\n",
       "Adventure        17.55\n",
       "Platform         18.09\n",
       "Racing           27.52\n",
       "Fighting         28.22\n",
       "Misc             37.55\n",
       "Role-Playing    101.44\n",
       "Sports          109.48\n",
       "Shooter         170.94\n",
       "Action          199.36\n",
       "Name: total_sales, dtype: float64"
      ]
     },
     "execution_count": 55,
     "metadata": {},
     "output_type": "execute_result"
    }
   ],
   "source": [
    "data_actual.groupby('genre')['total_sales'].sum().sort_values()"
   ]
  },
  {
   "cell_type": "code",
   "execution_count": 56,
   "metadata": {},
   "outputs": [
    {
     "data": {
      "image/png": "[encoded data removed]",
      "text/plain": [
       "<Figure size 720x360 with 1 Axes>"
      ]
     },
     "metadata": {
      "needs_background": "light"
     },
     "output_type": "display_data"
    }
   ],
   "source": [
    "pd.plotting.boxplot(data_actual, column='total_sales', by='genre', figsize=(10,5));"
   ]
  },
  {
   "cell_type": "code",
   "execution_count": 57,
   "metadata": {
    "scrolled": true
   },
   "outputs": [
    {
     "data": {
      "image/png": "[encoded data removed]",
      "text/plain": [
       "<Figure size 864x360 with 1 Axes>"
      ]
     },
     "metadata": {
      "needs_background": "light"
     },
     "output_type": "display_data"
    }
   ],
   "source": [
    "pd.plotting.boxplot(data_actual, column='total_sales', by='genre', figsize=(12,5));\n",
    "plt.ylim([0, 4]);"
   ]
  },
  {
   "cell_type": "markdown",
   "metadata": {},
   "source": [
    "Самые прибыльные жанры - shooter, action и sports, а самым популярным жанром является action и самый не популярный - puzzle. Меньше всего приносят прибыль strategy, simulation и puzzle."
   ]
  },
  {
   "cell_type": "markdown",
   "metadata": {},
   "source": [
    "# Шаг 4. Составление портрета пользователей каждого региона"
   ]
  },
  {
   "cell_type": "markdown",
   "metadata": {},
   "source": [
    "Самые популярные платформы (топ-5).\n",
    "\n",
    "Самые популярные жанры (топ-5)."
   ]
  },
  {
   "cell_type": "code",
   "execution_count": 58,
   "metadata": {},
   "outputs": [
    {
     "name": "stdout",
     "output_type": "stream",
     "text": [
      "ps4      98.61\n",
      "xone     81.27\n",
      "x360     28.30\n",
      "3ds      22.64\n",
      "ps3      22.05\n",
      "other    11.83\n",
      "dtype: float64\n"
     ]
    }
   ],
   "source": [
    "region_na = data_actual.groupby('platform')['na_sales'].sum().sort_values(ascending=False).head()\n",
    "other_na = pd.Series([sum(data_actual.groupby('platform')['na_sales'].\n",
    "                        sum().sort_values(ascending=False).tail(4))], index=['other'])\n",
    "region_na = region_na.append(other_na)\n",
    "print(region_na)\n",
    "na_sum = region_na.sum()"
   ]
  },
  {
   "cell_type": "code",
   "execution_count": 59,
   "metadata": {},
   "outputs": [
    {
     "name": "stdout",
     "output_type": "stream",
     "text": [
      "ps4      130.04\n",
      "xone      46.25\n",
      "ps3       25.54\n",
      "pc        17.97\n",
      "3ds       16.12\n",
      "other     19.27\n",
      "dtype: float64\n"
     ]
    }
   ],
   "source": [
    "region_eu = data_actual.groupby('platform')['eu_sales'].sum().sort_values(ascending=False).head()\n",
    "other_eu = pd.Series([sum(data_actual.groupby('platform')['eu_sales'].\n",
    "                        sum().sort_values(ascending=False).tail(4))], index=['other'])\n",
    "region_eu = region_eu.append(other_eu)\n",
    "print(region_eu)\n",
    "eu_sum = region_eu.sum()"
   ]
  },
  {
   "cell_type": "code",
   "execution_count": 60,
   "metadata": {},
   "outputs": [
    {
     "name": "stdout",
     "output_type": "stream",
     "text": [
      "3ds      44.24\n",
      "ps4      15.02\n",
      "psv      14.54\n",
      "ps3      11.22\n",
      "wiiu      7.31\n",
      "other     0.40\n",
      "dtype: float64\n"
     ]
    }
   ],
   "source": [
    "region_jp = data_actual.groupby('platform')['jp_sales'].sum().sort_values(ascending=False).head()\n",
    "other_jp = pd.Series([sum(data_actual.groupby('platform')['jp_sales'].\n",
    "                        sum().sort_values(ascending=False).tail(4))], index=['other'])\n",
    "region_jp = region_jp.append(other_jp)\n",
    "print(region_jp)\n",
    "jp_sum = region_jp.sum()"
   ]
  },
  {
   "cell_type": "code",
   "execution_count": 61,
   "metadata": {},
   "outputs": [
    {
     "name": "stdout",
     "output_type": "stream",
     "text": [
      "NA = 43.21 %\n",
      "EU = 41.66 %\n",
      "JP = 15.14 %\n"
     ]
    }
   ],
   "source": [
    "total_sum = na_sum + eu_sum + jp_sum\n",
    "print(f'NA = {na_sum / total_sum * 100 :.2f} %')\n",
    "print(f'EU = {eu_sum / total_sum * 100 :.2f} %')\n",
    "print(f'JP = {jp_sum / total_sum * 100 :.2f} %')"
   ]
  },
  {
   "cell_type": "code",
   "execution_count": 62,
   "metadata": {
    "scrolled": true
   },
   "outputs": [
    {
     "data": {
      "image/png": "[encoded data removed]",
      "text/plain": [
       "<Figure size 1080x360 with 3 Axes>"
      ]
     },
     "metadata": {
      "needs_background": "light"
     },
     "output_type": "display_data"
    }
   ],
   "source": [
    "fig, axes = plt.subplots(1, 3)\n",
    "plt.suptitle('Region')\n",
    "region_na.plot(ax=axes[0], title='NA', figsize=(15, 5));\n",
    "region_eu.plot(ax=axes[1], title='EU');\n",
    "region_jp.plot(ax=axes[2], title='JP');"
   ]
  },
  {
   "cell_type": "markdown",
   "metadata": {},
   "source": [
    "Самые популярные платформы приносят больше всего прибыли в Европе и в Северной Америке и меньше всего в Японии."
   ]
  },
  {
   "cell_type": "code",
   "execution_count": 63,
   "metadata": {},
   "outputs": [],
   "source": [
    "genre_na = data_actual.groupby('genre')['na_sales'].sum().sort_values(ascending=False).head()\n",
    "other_na = pd.Series([sum(data_actual.groupby('genre')['na_sales'].\n",
    "                        sum().sort_values(ascending=False).tail(7))], index=['other'])\n",
    "genre_na = genre_na.append(other_na)"
   ]
  },
  {
   "cell_type": "code",
   "execution_count": 64,
   "metadata": {},
   "outputs": [],
   "source": [
    "genre_eu = data_actual.groupby('genre')['eu_sales'].sum().sort_values(ascending=False).head()\n",
    "other_eu = pd.Series([sum(data_actual.groupby('genre')['eu_sales'].\n",
    "                        sum().sort_values(ascending=False).tail(7))], index=['other'])\n",
    "genre_eu = genre_eu.append(other_eu)"
   ]
  },
  {
   "cell_type": "code",
   "execution_count": 65,
   "metadata": {},
   "outputs": [],
   "source": [
    "genre_jp = data_actual.groupby('genre')['jp_sales'].sum().sort_values(ascending=False).head()\n",
    "other_jp = pd.Series([sum(data_actual.groupby('genre')['jp_sales'].\n",
    "                        sum().sort_values(ascending=False).tail(7))], index=['other'])\n",
    "genre_jp = genre_jp.append(other_jp)"
   ]
  },
  {
   "cell_type": "code",
   "execution_count": 66,
   "metadata": {},
   "outputs": [
    {
     "data": {
      "image/png": "[encoded data removed]",
      "text/plain": [
       "<Figure size 1440x360 with 3 Axes>"
      ]
     },
     "metadata": {
      "needs_background": "light"
     },
     "output_type": "display_data"
    }
   ],
   "source": [
    "fig, axes = plt.subplots(1, 3)\n",
    "plt.suptitle('Region')\n",
    "genre_na.plot(ax=axes[0], title='NA', figsize=(20,5));\n",
    "genre_eu.plot(ax=axes[1], title='EU');\n",
    "genre_jp.plot(ax=axes[2], title='JP');"
   ]
  },
  {
   "cell_type": "markdown",
   "metadata": {},
   "source": [
    "В Северной Америке, Европе самый популярный жанры shooter, action и sports, а в Японии - action, role-playing и fighting."
   ]
  },
  {
   "cell_type": "code",
   "execution_count": 67,
   "metadata": {},
   "outputs": [
    {
     "data": {
      "image/png": "[encoded data removed]",
      "text/plain": [
       "<Figure size 432x288 with 1 Axes>"
      ]
     },
     "metadata": {
      "needs_background": "light"
     },
     "output_type": "display_data"
    }
   ],
   "source": [
    "data_actual_na = data_actual.groupby('rating')['na_sales'].sum().sort_values(ascending=False)\n",
    "data_actual_na.plot(y='rating', kind='barh');"
   ]
  },
  {
   "cell_type": "code",
   "execution_count": 68,
   "metadata": {},
   "outputs": [
    {
     "data": {
      "image/png": "[encoded data removed]",
      "text/plain": [
       "<Figure size 432x288 with 1 Axes>"
      ]
     },
     "metadata": {
      "needs_background": "light"
     },
     "output_type": "display_data"
    }
   ],
   "source": [
    "data_actual_eu = data_actual.groupby('rating')['eu_sales'].sum().sort_values(ascending=False)\n",
    "data_actual_eu.plot(y='rating', kind='barh');"
   ]
  },
  {
   "cell_type": "code",
   "execution_count": 69,
   "metadata": {
    "scrolled": true
   },
   "outputs": [
    {
     "data": {
      "image/png": "[encoded data removed]",
      "text/plain": [
       "<Figure size 432x288 with 1 Axes>"
      ]
     },
     "metadata": {
      "needs_background": "light"
     },
     "output_type": "display_data"
    }
   ],
   "source": [
    "data_actual_jp = data_actual.groupby('rating')['jp_sales'].sum().sort_values(ascending=False)\n",
    "data_actual_jp.plot(y='rating', kind='barh');"
   ]
  },
  {
   "cell_type": "markdown",
   "metadata": {},
   "source": [
    "# Шаг 5. Проверка гипотез"
   ]
  },
  {
   "cell_type": "markdown",
   "metadata": {},
   "source": [
    "Средние пользовательские рейтинги платформ Xbox One и PC одинаковые;\n",
    "\n",
    "Средние пользовательские рейтинги жанров Action (англ. «действие», экшен-игры) и Sports (англ. «спортивные соревнования») разные."
   ]
  },
  {
   "cell_type": "code",
   "execution_count": 70,
   "metadata": {},
   "outputs": [],
   "source": [
    "alpha = 0.05"
   ]
  },
  {
   "cell_type": "code",
   "execution_count": 71,
   "metadata": {},
   "outputs": [],
   "source": [
    "data_without_nan = data.dropna(subset=['user_score'])\n",
    "mean_user_rating_x_one = data_without_nan.query('platform == \"xone\"')['user_score']\n",
    "mean_user_rating_pc = data_without_nan.query('platform == \"pc\" and year_of_release > 2012')['user_score']"
   ]
  },
  {
   "cell_type": "code",
   "execution_count": 72,
   "metadata": {},
   "outputs": [
    {
     "data": {
      "text/plain": [
       "182"
      ]
     },
     "execution_count": 72,
     "metadata": {},
     "output_type": "execute_result"
    }
   ],
   "source": [
    "len(mean_user_rating_x_one)"
   ]
  },
  {
   "cell_type": "code",
   "execution_count": 73,
   "metadata": {},
   "outputs": [
    {
     "data": {
      "text/plain": [
       "155"
      ]
     },
     "execution_count": 73,
     "metadata": {},
     "output_type": "execute_result"
    }
   ],
   "source": [
    "len(mean_user_rating_pc)"
   ]
  },
  {
   "cell_type": "markdown",
   "metadata": {},
   "source": [
    "Нулевая гипотеза: пользовательские рейтинги платформ XOne и PC равны\n",
    "\n",
    "Альтернативная гипотеза: пользовательские рейтинги платформ XOne и PC не равны"
   ]
  },
  {
   "cell_type": "code",
   "execution_count": 74,
   "metadata": {},
   "outputs": [
    {
     "name": "stdout",
     "output_type": "stream",
     "text": [
      "p-value: 0.14759594013430463\n",
      "Не отклоняем нулевую гипотезу\n"
     ]
    }
   ],
   "source": [
    "results = st.ttest_ind(mean_user_rating_x_one, mean_user_rating_pc, equal_var=False)\n",
    "print('p-value:', results.pvalue)\n",
    "if results.pvalue < alpha:\n",
    "    print('Отклоняем нулевую гипотезу')\n",
    "else:\n",
    "    print('Не отклоняем нулевую гипотезу')"
   ]
  },
  {
   "cell_type": "markdown",
   "metadata": {},
   "source": [
    "Нулевая гипотеза: Средние пользовательские рейтинги жанров Action и Sports равны.\n",
    "\n",
    "Альтернативная гипотеза: Средние пользовательские рейтинги жанров Action и Sports не равны."
   ]
  },
  {
   "cell_type": "code",
   "execution_count": 76,
   "metadata": {},
   "outputs": [],
   "source": [
    "mean_user_rating_action = data_without_nan.query('genre == \"Action\"')['user_score']\n",
    "mean_user_rating_sports = data_without_nan.query('genre == \"Sports\"')['user_score']"
   ]
  },
  {
   "cell_type": "code",
   "execution_count": 77,
   "metadata": {},
   "outputs": [
    {
     "name": "stdout",
     "output_type": "stream",
     "text": [
      "p-value: 0.07751671595536253\n",
      "Не отклоняем нулевую гипотезу\n"
     ]
    }
   ],
   "source": [
    "results = st.ttest_ind(mean_user_rating_action, mean_user_rating_sports, equal_var=False)\n",
    "print('p-value:', results.pvalue)\n",
    "if results.pvalue < alpha:\n",
    "    print('Отклоняем нулевую гипотезу')\n",
    "else:\n",
    "    print('Не отклоняем нулевую гипотезу')"
   ]
  },
  {
   "cell_type": "markdown",
   "metadata": {},
   "source": [
    "Я применила для проверки гипотез критерий о равенстве среднего двух генеральных совокупностей по взятым из них выборкам."
   ]
  },
  {
   "cell_type": "markdown",
   "metadata": {},
   "source": [
    "# Шаг 6. Вывод"
   ]
  },
  {
   "cell_type": "markdown",
   "metadata": {},
   "source": [
    "После анализа данных я пришла к следующим выводам:\n",
    "\n",
    "Самые перспективные платформы на 2017 год: ps4, 3ds и xone.\n",
    "\n",
    "В Северной Америке, Европе самый популярный жанры shooter, action и sports, а в Японии - action, role-playing и shooter.\n",
    "\n",
    "Самые популярные платформы приносят больше всего прибыли в Европе и в Северной Америке и меньше всего в Японии.\n",
    "А именно: NA = 42.93 %; EU = 41.41 %; JP = 15.67 %.\n",
    "\n",
    "Самые популярные платформы: ps4, xone, 3ds.\n",
    "\n",
    "Самый популярный рейтинг М. К сожалению, много данных в рейтинге пропущенно, поэтому мы не можем увидеть реальную картину."
   ]
  }
 ],
 "metadata": {
  "ExecuteTimeLog": [
   {
    "duration": 445,
    "start_time": "2023-03-13T08:56:14.378Z"
   },
   {
    "duration": 110,
    "start_time": "2023-03-13T08:56:27.712Z"
   },
   {
    "duration": 26,
    "start_time": "2023-03-13T08:56:34.511Z"
   },
   {
    "duration": 15,
    "start_time": "2023-03-13T08:56:43.124Z"
   },
   {
    "duration": 65,
    "start_time": "2023-03-13T08:57:51.910Z"
   },
   {
    "duration": 7,
    "start_time": "2023-03-13T08:58:23.104Z"
   },
   {
    "duration": 8,
    "start_time": "2023-03-13T09:00:14.592Z"
   },
   {
    "duration": 8,
    "start_time": "2023-03-13T09:00:49.538Z"
   },
   {
    "duration": 76,
    "start_time": "2023-03-13T09:03:20.823Z"
   },
   {
    "duration": 7,
    "start_time": "2023-03-13T09:04:30.024Z"
   },
   {
    "duration": 3,
    "start_time": "2023-03-13T09:04:49.184Z"
   },
   {
    "duration": 14,
    "start_time": "2023-03-13T09:04:55.150Z"
   },
   {
    "duration": 14,
    "start_time": "2023-03-13T09:07:11.210Z"
   },
   {
    "duration": 6,
    "start_time": "2023-03-13T09:07:50.613Z"
   },
   {
    "duration": 19,
    "start_time": "2023-03-13T09:17:26.571Z"
   },
   {
    "duration": 11,
    "start_time": "2023-03-13T09:17:34.683Z"
   },
   {
    "duration": 10,
    "start_time": "2023-03-13T09:33:40.881Z"
   },
   {
    "duration": 7,
    "start_time": "2023-03-13T09:33:55.919Z"
   },
   {
    "duration": 10,
    "start_time": "2023-03-13T09:34:04.344Z"
   },
   {
    "duration": 21,
    "start_time": "2023-03-13T09:34:23.076Z"
   },
   {
    "duration": 4,
    "start_time": "2023-03-13T09:34:48.745Z"
   },
   {
    "duration": 26,
    "start_time": "2023-03-13T09:35:01.357Z"
   },
   {
    "duration": 21,
    "start_time": "2023-03-13T09:35:15.488Z"
   },
   {
    "duration": 3,
    "start_time": "2023-03-13T09:36:48.108Z"
   },
   {
    "duration": 10,
    "start_time": "2023-03-13T09:37:25.013Z"
   },
   {
    "duration": 6,
    "start_time": "2023-03-13T09:37:30.201Z"
   },
   {
    "duration": 16,
    "start_time": "2023-03-13T09:37:45.429Z"
   },
   {
    "duration": 24,
    "start_time": "2023-03-13T09:38:25.398Z"
   },
   {
    "duration": 8,
    "start_time": "2023-03-13T09:42:14.508Z"
   },
   {
    "duration": 5,
    "start_time": "2023-03-13T09:43:42.443Z"
   },
   {
    "duration": 13,
    "start_time": "2023-03-13T09:43:56.498Z"
   },
   {
    "duration": 6,
    "start_time": "2023-03-13T09:46:01.914Z"
   },
   {
    "duration": 5,
    "start_time": "2023-03-13T09:46:20.453Z"
   },
   {
    "duration": 10,
    "start_time": "2023-03-13T09:47:05.114Z"
   },
   {
    "duration": 10,
    "start_time": "2023-03-13T09:47:15.962Z"
   },
   {
    "duration": 34,
    "start_time": "2023-03-13T09:47:23.833Z"
   },
   {
    "duration": 9,
    "start_time": "2023-03-13T09:48:00.306Z"
   },
   {
    "duration": 12,
    "start_time": "2023-03-13T09:48:04.556Z"
   },
   {
    "duration": 26,
    "start_time": "2023-03-13T09:48:09.175Z"
   },
   {
    "duration": 5,
    "start_time": "2023-03-13T09:48:24.742Z"
   },
   {
    "duration": 22,
    "start_time": "2023-03-13T09:48:40.029Z"
   },
   {
    "duration": 27,
    "start_time": "2023-03-13T09:49:37.307Z"
   },
   {
    "duration": 43,
    "start_time": "2023-03-13T09:49:49.473Z"
   },
   {
    "duration": 24,
    "start_time": "2023-03-13T09:50:11.121Z"
   },
   {
    "duration": 23,
    "start_time": "2023-03-13T09:50:20.202Z"
   },
   {
    "duration": 23,
    "start_time": "2023-03-13T09:50:25.305Z"
   },
   {
    "duration": 45,
    "start_time": "2023-03-13T09:50:32.856Z"
   },
   {
    "duration": 26,
    "start_time": "2023-03-13T09:50:48.248Z"
   },
   {
    "duration": 37,
    "start_time": "2023-03-13T09:50:55.222Z"
   },
   {
    "duration": 22,
    "start_time": "2023-03-13T09:51:09.173Z"
   },
   {
    "duration": 35,
    "start_time": "2023-03-13T09:54:09.366Z"
   },
   {
    "duration": 43,
    "start_time": "2023-03-13T09:54:17.081Z"
   },
   {
    "duration": 29,
    "start_time": "2023-03-13T09:54:45.839Z"
   },
   {
    "duration": 36,
    "start_time": "2023-03-13T09:54:51.638Z"
   },
   {
    "duration": 5,
    "start_time": "2023-03-13T09:55:41.840Z"
   },
   {
    "duration": 10,
    "start_time": "2023-03-13T09:55:55.924Z"
   },
   {
    "duration": 19,
    "start_time": "2023-03-13T09:57:35.007Z"
   },
   {
    "duration": 28,
    "start_time": "2023-03-13T09:57:42.107Z"
   },
   {
    "duration": 28,
    "start_time": "2023-03-13T09:57:51.348Z"
   },
   {
    "duration": 5,
    "start_time": "2023-03-13T09:58:13.029Z"
   },
   {
    "duration": 7,
    "start_time": "2023-03-13T09:59:08.043Z"
   },
   {
    "duration": 13,
    "start_time": "2023-03-13T09:59:23.425Z"
   },
   {
    "duration": 38,
    "start_time": "2023-03-13T09:59:27.323Z"
   },
   {
    "duration": 27,
    "start_time": "2023-03-13T09:59:36.208Z"
   },
   {
    "duration": 13,
    "start_time": "2023-03-13T10:00:20.604Z"
   },
   {
    "duration": 17,
    "start_time": "2023-03-13T10:00:36.782Z"
   },
   {
    "duration": 10,
    "start_time": "2023-03-13T10:00:50.202Z"
   },
   {
    "duration": 11,
    "start_time": "2023-03-13T10:01:25.311Z"
   },
   {
    "duration": 12,
    "start_time": "2023-03-13T10:01:41.934Z"
   },
   {
    "duration": 27,
    "start_time": "2023-03-13T10:04:07.233Z"
   },
   {
    "duration": 28,
    "start_time": "2023-03-13T10:04:32.814Z"
   },
   {
    "duration": 6,
    "start_time": "2023-03-13T10:05:05.161Z"
   },
   {
    "duration": 10,
    "start_time": "2023-03-13T10:06:09.619Z"
   },
   {
    "duration": 5,
    "start_time": "2023-03-13T10:07:50.564Z"
   },
   {
    "duration": 19,
    "start_time": "2023-03-13T10:07:56.735Z"
   },
   {
    "duration": 12,
    "start_time": "2023-03-13T10:08:47.287Z"
   },
   {
    "duration": 4,
    "start_time": "2023-03-13T10:08:57.160Z"
   },
   {
    "duration": 23,
    "start_time": "2023-03-13T10:09:53.785Z"
   },
   {
    "duration": 4,
    "start_time": "2023-03-13T10:11:21.356Z"
   },
   {
    "duration": 4,
    "start_time": "2023-03-13T10:11:42.657Z"
   },
   {
    "duration": 5,
    "start_time": "2023-03-13T10:14:26.487Z"
   },
   {
    "duration": 4,
    "start_time": "2023-03-13T10:14:37.962Z"
   },
   {
    "duration": 4,
    "start_time": "2023-03-13T10:14:46.669Z"
   },
   {
    "duration": 25,
    "start_time": "2023-03-13T10:14:49.027Z"
   },
   {
    "duration": 8,
    "start_time": "2023-03-13T10:15:58.159Z"
   },
   {
    "duration": 32,
    "start_time": "2023-03-13T10:16:01.013Z"
   },
   {
    "duration": 10,
    "start_time": "2023-03-13T10:16:04.334Z"
   },
   {
    "duration": 29,
    "start_time": "2023-03-13T10:16:08.324Z"
   },
   {
    "duration": 48,
    "start_time": "2023-03-13T12:39:08.472Z"
   },
   {
    "duration": 404,
    "start_time": "2023-03-13T12:39:24.663Z"
   },
   {
    "duration": 110,
    "start_time": "2023-03-13T12:39:25.069Z"
   },
   {
    "duration": 22,
    "start_time": "2023-03-13T12:39:25.181Z"
   },
   {
    "duration": 19,
    "start_time": "2023-03-13T12:39:25.205Z"
   },
   {
    "duration": 4,
    "start_time": "2023-03-13T12:39:25.226Z"
   },
   {
    "duration": 91,
    "start_time": "2023-03-13T12:39:25.231Z"
   },
   {
    "duration": 25,
    "start_time": "2023-03-13T12:39:25.324Z"
   },
   {
    "duration": 31,
    "start_time": "2023-03-13T12:39:25.351Z"
   },
   {
    "duration": 21,
    "start_time": "2023-03-13T12:39:25.384Z"
   },
   {
    "duration": 24,
    "start_time": "2023-03-13T12:39:25.408Z"
   },
   {
    "duration": 41,
    "start_time": "2023-03-13T12:39:25.434Z"
   },
   {
    "duration": 13,
    "start_time": "2023-03-13T12:39:25.477Z"
   },
   {
    "duration": 13,
    "start_time": "2023-03-13T12:39:25.492Z"
   },
   {
    "duration": 12,
    "start_time": "2023-03-13T12:39:25.507Z"
   },
   {
    "duration": 41,
    "start_time": "2023-03-13T12:39:25.521Z"
   },
   {
    "duration": 39,
    "start_time": "2023-03-13T12:39:25.564Z"
   },
   {
    "duration": 22,
    "start_time": "2023-03-13T12:39:31.969Z"
   },
   {
    "duration": 10,
    "start_time": "2023-03-13T12:39:57.610Z"
   },
   {
    "duration": 8,
    "start_time": "2023-03-13T12:40:12.305Z"
   },
   {
    "duration": 3,
    "start_time": "2023-03-13T13:21:09.772Z"
   },
   {
    "duration": 4,
    "start_time": "2023-03-13T13:22:42.052Z"
   },
   {
    "duration": 10,
    "start_time": "2023-03-13T13:22:43.835Z"
   },
   {
    "duration": 3,
    "start_time": "2023-03-13T13:23:18.404Z"
   },
   {
    "duration": 97,
    "start_time": "2023-03-13T13:23:18.409Z"
   },
   {
    "duration": 19,
    "start_time": "2023-03-13T13:23:18.508Z"
   },
   {
    "duration": 49,
    "start_time": "2023-03-13T13:23:18.528Z"
   },
   {
    "duration": 36,
    "start_time": "2023-03-13T13:23:18.581Z"
   },
   {
    "duration": 46,
    "start_time": "2023-03-13T13:23:18.619Z"
   },
   {
    "duration": 27,
    "start_time": "2023-03-13T13:23:18.667Z"
   },
   {
    "duration": 51,
    "start_time": "2023-03-13T13:23:18.696Z"
   },
   {
    "duration": 37,
    "start_time": "2023-03-13T13:23:18.750Z"
   },
   {
    "duration": 57,
    "start_time": "2023-03-13T13:23:18.789Z"
   },
   {
    "duration": 45,
    "start_time": "2023-03-13T13:23:18.848Z"
   },
   {
    "duration": 10,
    "start_time": "2023-03-13T13:23:18.895Z"
   },
   {
    "duration": 36,
    "start_time": "2023-03-13T13:23:18.907Z"
   },
   {
    "duration": 28,
    "start_time": "2023-03-13T13:23:18.946Z"
   },
   {
    "duration": 44,
    "start_time": "2023-03-13T13:23:18.976Z"
   },
   {
    "duration": 71,
    "start_time": "2023-03-13T13:23:19.022Z"
   },
   {
    "duration": 63,
    "start_time": "2023-03-13T13:23:19.096Z"
   },
   {
    "duration": 18,
    "start_time": "2023-03-13T13:23:19.162Z"
   },
   {
    "duration": 9,
    "start_time": "2023-03-13T13:23:41.530Z"
   },
   {
    "duration": 6,
    "start_time": "2023-03-13T13:23:46.024Z"
   },
   {
    "duration": 14,
    "start_time": "2023-03-13T13:23:46.978Z"
   },
   {
    "duration": 14,
    "start_time": "2023-03-13T13:26:29.498Z"
   },
   {
    "duration": 26,
    "start_time": "2023-03-13T13:26:40.326Z"
   },
   {
    "duration": 7,
    "start_time": "2023-03-13T13:26:47.610Z"
   },
   {
    "duration": 9,
    "start_time": "2023-03-13T13:26:48.497Z"
   },
   {
    "duration": 6,
    "start_time": "2023-03-13T13:27:16.901Z"
   },
   {
    "duration": 5,
    "start_time": "2023-03-13T13:27:51.190Z"
   },
   {
    "duration": 6,
    "start_time": "2023-03-13T13:28:18.832Z"
   },
   {
    "duration": 5,
    "start_time": "2023-03-13T13:28:30.784Z"
   },
   {
    "duration": 5,
    "start_time": "2023-03-13T13:28:33.924Z"
   },
   {
    "duration": 5,
    "start_time": "2023-03-13T13:29:55.123Z"
   },
   {
    "duration": 5,
    "start_time": "2023-03-13T13:30:36.539Z"
   },
   {
    "duration": 5,
    "start_time": "2023-03-13T13:30:59.696Z"
   },
   {
    "duration": 26,
    "start_time": "2023-03-13T13:31:09.096Z"
   },
   {
    "duration": 11,
    "start_time": "2023-03-13T13:31:24.835Z"
   },
   {
    "duration": 5,
    "start_time": "2023-03-13T13:34:50.351Z"
   },
   {
    "duration": 26,
    "start_time": "2023-03-13T13:34:59.558Z"
   },
   {
    "duration": 8,
    "start_time": "2023-03-13T13:35:18.013Z"
   },
   {
    "duration": 6,
    "start_time": "2023-03-13T13:35:51.008Z"
   },
   {
    "duration": 22,
    "start_time": "2023-03-13T13:37:31.653Z"
   },
   {
    "duration": 8,
    "start_time": "2023-03-13T13:37:36.829Z"
   },
   {
    "duration": 10,
    "start_time": "2023-03-13T13:37:53.297Z"
   },
   {
    "duration": 14,
    "start_time": "2023-03-13T13:37:56.189Z"
   },
   {
    "duration": 6,
    "start_time": "2023-03-13T13:38:13.000Z"
   },
   {
    "duration": 14,
    "start_time": "2023-03-13T13:38:40.058Z"
   },
   {
    "duration": 5,
    "start_time": "2023-03-13T13:38:44.241Z"
   },
   {
    "duration": 787,
    "start_time": "2023-03-13T13:43:58.234Z"
   },
   {
    "duration": 31,
    "start_time": "2023-03-13T13:46:20.053Z"
   },
   {
    "duration": 13,
    "start_time": "2023-03-13T13:46:29.416Z"
   },
   {
    "duration": 12,
    "start_time": "2023-03-13T13:46:41.185Z"
   },
   {
    "duration": 14,
    "start_time": "2023-03-13T13:46:46.302Z"
   },
   {
    "duration": 154,
    "start_time": "2023-03-13T13:47:34.519Z"
   },
   {
    "duration": 162373,
    "start_time": "2023-03-13T13:47:51.255Z"
   },
   {
    "duration": 10,
    "start_time": "2023-03-13T15:11:42.283Z"
   },
   {
    "duration": 12,
    "start_time": "2023-03-13T15:14:58.077Z"
   },
   {
    "duration": 10,
    "start_time": "2023-03-13T15:15:34.075Z"
   },
   {
    "duration": 114,
    "start_time": "2023-03-13T15:19:55.126Z"
   },
   {
    "duration": 542,
    "start_time": "2023-03-13T15:20:08.332Z"
   },
   {
    "duration": 527,
    "start_time": "2023-03-13T15:20:13.776Z"
   },
   {
    "duration": 284,
    "start_time": "2023-03-13T15:20:40.504Z"
   },
   {
    "duration": 473,
    "start_time": "2023-03-13T15:20:56.173Z"
   },
   {
    "duration": 494,
    "start_time": "2023-03-13T15:21:30.645Z"
   },
   {
    "duration": 485,
    "start_time": "2023-03-13T15:21:39.141Z"
   },
   {
    "duration": 153,
    "start_time": "2023-03-13T15:35:21.768Z"
   },
   {
    "duration": 139,
    "start_time": "2023-03-13T15:35:28.470Z"
   },
   {
    "duration": 152,
    "start_time": "2023-03-13T15:36:23.483Z"
   },
   {
    "duration": 13,
    "start_time": "2023-03-13T15:37:30.432Z"
   },
   {
    "duration": 6,
    "start_time": "2023-03-13T15:38:35.840Z"
   },
   {
    "duration": 22,
    "start_time": "2023-03-13T15:38:44.031Z"
   },
   {
    "duration": 147,
    "start_time": "2023-03-13T15:39:42.572Z"
   },
   {
    "duration": 164,
    "start_time": "2023-03-13T15:39:48.852Z"
   },
   {
    "duration": 9,
    "start_time": "2023-03-13T15:40:41.443Z"
   },
   {
    "duration": 6,
    "start_time": "2023-03-13T15:40:55.826Z"
   },
   {
    "duration": 7,
    "start_time": "2023-03-13T15:54:44.380Z"
   },
   {
    "duration": 8,
    "start_time": "2023-03-13T15:55:01.126Z"
   },
   {
    "duration": 7,
    "start_time": "2023-03-13T15:55:54.050Z"
   },
   {
    "duration": 7,
    "start_time": "2023-03-13T15:56:17.064Z"
   },
   {
    "duration": 7,
    "start_time": "2023-03-13T16:09:41.226Z"
   },
   {
    "duration": 7,
    "start_time": "2023-03-13T16:09:56.940Z"
   },
   {
    "duration": 7,
    "start_time": "2023-03-13T16:10:04.801Z"
   },
   {
    "duration": 6,
    "start_time": "2023-03-13T16:10:10.735Z"
   },
   {
    "duration": 8,
    "start_time": "2023-03-13T16:21:13.013Z"
   },
   {
    "duration": 9,
    "start_time": "2023-03-13T16:21:40.444Z"
   },
   {
    "duration": 8,
    "start_time": "2023-03-13T16:22:07.471Z"
   },
   {
    "duration": 8,
    "start_time": "2023-03-13T16:22:22.534Z"
   },
   {
    "duration": 7,
    "start_time": "2023-03-13T16:23:00.104Z"
   },
   {
    "duration": 7,
    "start_time": "2023-03-13T16:23:07.644Z"
   },
   {
    "duration": 10,
    "start_time": "2023-03-13T16:23:20.625Z"
   },
   {
    "duration": 8,
    "start_time": "2023-03-13T16:23:32.996Z"
   },
   {
    "duration": 8,
    "start_time": "2023-03-13T16:23:47.575Z"
   },
   {
    "duration": 8,
    "start_time": "2023-03-13T16:24:16.382Z"
   },
   {
    "duration": 7,
    "start_time": "2023-03-13T16:24:23.030Z"
   },
   {
    "duration": 6,
    "start_time": "2023-03-13T16:24:29.593Z"
   },
   {
    "duration": 3,
    "start_time": "2023-03-13T16:24:48.296Z"
   },
   {
    "duration": 4,
    "start_time": "2023-03-13T16:26:20.725Z"
   },
   {
    "duration": 4,
    "start_time": "2023-03-13T16:26:34.599Z"
   },
   {
    "duration": 4,
    "start_time": "2023-03-13T16:28:15.094Z"
   },
   {
    "duration": 3,
    "start_time": "2023-03-13T16:28:57.944Z"
   },
   {
    "duration": 7,
    "start_time": "2023-03-13T16:29:07.006Z"
   },
   {
    "duration": 3,
    "start_time": "2023-03-13T16:29:15.288Z"
   },
   {
    "duration": 3,
    "start_time": "2023-03-13T16:29:22.139Z"
   },
   {
    "duration": 4,
    "start_time": "2023-03-13T16:29:40.191Z"
   },
   {
    "duration": 4,
    "start_time": "2023-03-13T16:29:48.311Z"
   },
   {
    "duration": 11,
    "start_time": "2023-03-13T16:41:05.391Z"
   },
   {
    "duration": 8,
    "start_time": "2023-03-13T16:42:19.108Z"
   },
   {
    "duration": 8,
    "start_time": "2023-03-13T16:42:30.376Z"
   },
   {
    "duration": 10,
    "start_time": "2023-03-13T16:47:33.788Z"
   },
   {
    "duration": 241,
    "start_time": "2023-03-13T16:47:39.160Z"
   },
   {
    "duration": 147,
    "start_time": "2023-03-13T16:48:57.958Z"
   },
   {
    "duration": 156,
    "start_time": "2023-03-13T16:49:11.988Z"
   },
   {
    "duration": 152,
    "start_time": "2023-03-13T16:49:22.000Z"
   },
   {
    "duration": 2,
    "start_time": "2023-03-13T17:08:29.288Z"
   },
   {
    "duration": 7,
    "start_time": "2023-03-13T17:13:01.092Z"
   },
   {
    "duration": 13,
    "start_time": "2023-03-13T17:13:46.060Z"
   },
   {
    "duration": 12,
    "start_time": "2023-03-13T17:14:09.558Z"
   },
   {
    "duration": 7,
    "start_time": "2023-03-13T17:14:46.473Z"
   },
   {
    "duration": 11,
    "start_time": "2023-03-13T17:15:20.086Z"
   },
   {
    "duration": 8,
    "start_time": "2023-03-13T17:15:56.706Z"
   },
   {
    "duration": 417,
    "start_time": "2023-03-13T17:16:27.263Z"
   },
   {
    "duration": 7,
    "start_time": "2023-03-13T17:18:53.556Z"
   },
   {
    "duration": 10,
    "start_time": "2023-03-13T17:19:18.399Z"
   },
   {
    "duration": 9,
    "start_time": "2023-03-13T17:19:21.981Z"
   },
   {
    "duration": 3,
    "start_time": "2023-03-13T17:19:28.256Z"
   },
   {
    "duration": 4,
    "start_time": "2023-03-13T17:19:37.765Z"
   },
   {
    "duration": 8,
    "start_time": "2023-03-13T17:20:35.551Z"
   },
   {
    "duration": 2,
    "start_time": "2023-03-13T17:20:39.135Z"
   },
   {
    "duration": 4,
    "start_time": "2023-03-13T17:20:39.937Z"
   },
   {
    "duration": 4,
    "start_time": "2023-03-13T17:22:23.886Z"
   },
   {
    "duration": 51,
    "start_time": "2023-03-13T17:24:06.410Z"
   },
   {
    "duration": 5,
    "start_time": "2023-03-13T17:25:20.238Z"
   },
   {
    "duration": 5,
    "start_time": "2023-03-13T17:25:29.234Z"
   },
   {
    "duration": 90,
    "start_time": "2023-03-13T17:26:50.880Z"
   },
   {
    "duration": 58,
    "start_time": "2023-03-14T01:33:32.791Z"
   },
   {
    "duration": 463,
    "start_time": "2023-03-14T01:33:41.894Z"
   },
   {
    "duration": 61,
    "start_time": "2023-03-14T01:33:42.359Z"
   },
   {
    "duration": 23,
    "start_time": "2023-03-14T01:33:42.422Z"
   },
   {
    "duration": 34,
    "start_time": "2023-03-14T01:33:42.448Z"
   },
   {
    "duration": 17,
    "start_time": "2023-03-14T01:33:42.485Z"
   },
   {
    "duration": 19,
    "start_time": "2023-03-14T01:33:42.505Z"
   },
   {
    "duration": 7,
    "start_time": "2023-03-14T01:33:42.526Z"
   },
   {
    "duration": 529,
    "start_time": "2023-03-14T01:33:42.535Z"
   },
   {
    "duration": 16,
    "start_time": "2023-03-14T01:33:43.067Z"
   },
   {
    "duration": 6,
    "start_time": "2023-03-14T01:33:43.095Z"
   },
   {
    "duration": 9,
    "start_time": "2023-03-14T01:33:43.102Z"
   },
   {
    "duration": 112,
    "start_time": "2023-03-14T01:33:43.113Z"
   },
   {
    "duration": 0,
    "start_time": "2023-03-14T01:33:43.230Z"
   },
   {
    "duration": 0,
    "start_time": "2023-03-14T01:33:43.231Z"
   },
   {
    "duration": 0,
    "start_time": "2023-03-14T01:33:43.236Z"
   },
   {
    "duration": 0,
    "start_time": "2023-03-14T01:33:43.237Z"
   },
   {
    "duration": 0,
    "start_time": "2023-03-14T01:33:43.239Z"
   },
   {
    "duration": 0,
    "start_time": "2023-03-14T01:33:43.241Z"
   },
   {
    "duration": 0,
    "start_time": "2023-03-14T01:33:43.242Z"
   },
   {
    "duration": 0,
    "start_time": "2023-03-14T01:33:43.246Z"
   },
   {
    "duration": 0,
    "start_time": "2023-03-14T01:33:43.249Z"
   },
   {
    "duration": 0,
    "start_time": "2023-03-14T01:33:43.250Z"
   },
   {
    "duration": 0,
    "start_time": "2023-03-14T01:33:43.252Z"
   },
   {
    "duration": 0,
    "start_time": "2023-03-14T01:33:43.275Z"
   },
   {
    "duration": 0,
    "start_time": "2023-03-14T01:33:43.277Z"
   },
   {
    "duration": 0,
    "start_time": "2023-03-14T01:33:43.278Z"
   },
   {
    "duration": 0,
    "start_time": "2023-03-14T01:33:43.279Z"
   },
   {
    "duration": 0,
    "start_time": "2023-03-14T01:33:43.280Z"
   },
   {
    "duration": 0,
    "start_time": "2023-03-14T01:33:43.281Z"
   },
   {
    "duration": 0,
    "start_time": "2023-03-14T01:33:43.282Z"
   },
   {
    "duration": 0,
    "start_time": "2023-03-14T01:33:43.283Z"
   },
   {
    "duration": 0,
    "start_time": "2023-03-14T01:33:43.284Z"
   },
   {
    "duration": 0,
    "start_time": "2023-03-14T01:33:43.285Z"
   },
   {
    "duration": 0,
    "start_time": "2023-03-14T01:33:43.286Z"
   },
   {
    "duration": 0,
    "start_time": "2023-03-14T01:33:43.287Z"
   },
   {
    "duration": 0,
    "start_time": "2023-03-14T01:33:43.288Z"
   },
   {
    "duration": 0,
    "start_time": "2023-03-14T01:33:43.289Z"
   },
   {
    "duration": 0,
    "start_time": "2023-03-14T01:33:43.290Z"
   },
   {
    "duration": 0,
    "start_time": "2023-03-14T01:33:43.291Z"
   },
   {
    "duration": 0,
    "start_time": "2023-03-14T01:33:43.292Z"
   },
   {
    "duration": 0,
    "start_time": "2023-03-14T01:33:43.293Z"
   },
   {
    "duration": 0,
    "start_time": "2023-03-14T01:33:43.294Z"
   },
   {
    "duration": 0,
    "start_time": "2023-03-14T01:33:43.295Z"
   },
   {
    "duration": 0,
    "start_time": "2023-03-14T01:33:43.296Z"
   },
   {
    "duration": 0,
    "start_time": "2023-03-14T01:33:43.297Z"
   },
   {
    "duration": 0,
    "start_time": "2023-03-14T01:33:43.298Z"
   },
   {
    "duration": 0,
    "start_time": "2023-03-14T01:33:43.299Z"
   },
   {
    "duration": 0,
    "start_time": "2023-03-14T01:33:43.300Z"
   },
   {
    "duration": 0,
    "start_time": "2023-03-14T01:33:43.302Z"
   },
   {
    "duration": 12,
    "start_time": "2023-03-14T01:34:29.093Z"
   },
   {
    "duration": 9,
    "start_time": "2023-03-14T01:34:32.727Z"
   },
   {
    "duration": 8,
    "start_time": "2023-03-14T01:34:37.134Z"
   },
   {
    "duration": 7,
    "start_time": "2023-03-14T01:39:54.275Z"
   },
   {
    "duration": 458,
    "start_time": "2023-03-14T01:40:09.604Z"
   },
   {
    "duration": 78,
    "start_time": "2023-03-14T01:40:10.064Z"
   },
   {
    "duration": 20,
    "start_time": "2023-03-14T01:40:10.144Z"
   },
   {
    "duration": 24,
    "start_time": "2023-03-14T01:40:10.166Z"
   },
   {
    "duration": 37,
    "start_time": "2023-03-14T01:40:10.193Z"
   },
   {
    "duration": 23,
    "start_time": "2023-03-14T01:40:10.231Z"
   },
   {
    "duration": 40,
    "start_time": "2023-03-14T01:40:10.256Z"
   },
   {
    "duration": 672,
    "start_time": "2023-03-14T01:40:10.298Z"
   },
   {
    "duration": 7,
    "start_time": "2023-03-14T01:40:10.973Z"
   },
   {
    "duration": 57,
    "start_time": "2023-03-14T01:40:10.983Z"
   },
   {
    "duration": 18,
    "start_time": "2023-03-14T01:40:11.042Z"
   },
   {
    "duration": 54,
    "start_time": "2023-03-14T01:40:11.062Z"
   },
   {
    "duration": 35,
    "start_time": "2023-03-14T01:40:11.118Z"
   },
   {
    "duration": 50,
    "start_time": "2023-03-14T01:40:11.156Z"
   },
   {
    "duration": 21,
    "start_time": "2023-03-14T01:40:11.208Z"
   },
   {
    "duration": 18,
    "start_time": "2023-03-14T01:40:11.231Z"
   },
   {
    "duration": 18,
    "start_time": "2023-03-14T01:40:11.251Z"
   },
   {
    "duration": 49,
    "start_time": "2023-03-14T01:40:11.271Z"
   },
   {
    "duration": 25,
    "start_time": "2023-03-14T01:40:11.321Z"
   },
   {
    "duration": 52,
    "start_time": "2023-03-14T01:40:11.348Z"
   },
   {
    "duration": 30,
    "start_time": "2023-03-14T01:40:11.403Z"
   },
   {
    "duration": 31,
    "start_time": "2023-03-14T01:40:11.435Z"
   },
   {
    "duration": 68,
    "start_time": "2023-03-14T01:40:11.468Z"
   },
   {
    "duration": 667,
    "start_time": "2023-03-14T01:40:11.538Z"
   },
   {
    "duration": 10,
    "start_time": "2023-03-14T01:40:12.207Z"
   },
   {
    "duration": 257,
    "start_time": "2023-03-14T01:40:12.219Z"
   },
   {
    "duration": 188,
    "start_time": "2023-03-14T01:40:12.479Z"
   },
   {
    "duration": 30,
    "start_time": "2023-03-14T01:40:12.672Z"
   },
   {
    "duration": 22,
    "start_time": "2023-03-14T01:40:12.706Z"
   },
   {
    "duration": 29,
    "start_time": "2023-03-14T01:40:12.730Z"
   },
   {
    "duration": 54,
    "start_time": "2023-03-14T01:40:12.761Z"
   },
   {
    "duration": 8,
    "start_time": "2023-03-14T01:40:12.817Z"
   },
   {
    "duration": 24,
    "start_time": "2023-03-14T01:40:12.827Z"
   },
   {
    "duration": 35,
    "start_time": "2023-03-14T01:40:12.853Z"
   },
   {
    "duration": 39,
    "start_time": "2023-03-14T01:40:12.890Z"
   },
   {
    "duration": 14,
    "start_time": "2023-03-14T01:40:12.931Z"
   },
   {
    "duration": 13,
    "start_time": "2023-03-14T01:40:12.947Z"
   },
   {
    "duration": 54,
    "start_time": "2023-03-14T01:40:12.962Z"
   },
   {
    "duration": 27,
    "start_time": "2023-03-14T01:40:13.018Z"
   },
   {
    "duration": 32,
    "start_time": "2023-03-14T01:40:13.047Z"
   },
   {
    "duration": 31,
    "start_time": "2023-03-14T01:40:13.091Z"
   },
   {
    "duration": 197,
    "start_time": "2023-03-14T01:40:13.124Z"
   },
   {
    "duration": 214,
    "start_time": "2023-03-14T01:40:13.323Z"
   },
   {
    "duration": 194,
    "start_time": "2023-03-14T01:40:13.539Z"
   },
   {
    "duration": 5,
    "start_time": "2023-03-14T01:40:13.735Z"
   },
   {
    "duration": 21,
    "start_time": "2023-03-14T01:40:13.742Z"
   },
   {
    "duration": 495,
    "start_time": "2023-03-14T01:40:13.765Z"
   },
   {
    "duration": 5,
    "start_time": "2023-03-14T01:40:14.261Z"
   },
   {
    "duration": 171,
    "start_time": "2023-03-14T01:40:14.268Z"
   },
   {
    "duration": 3,
    "start_time": "2023-03-14T01:52:58.271Z"
   },
   {
    "duration": 457,
    "start_time": "2023-03-14T01:54:07.990Z"
   },
   {
    "duration": 67,
    "start_time": "2023-03-14T01:54:08.449Z"
   },
   {
    "duration": 23,
    "start_time": "2023-03-14T01:54:08.518Z"
   },
   {
    "duration": 29,
    "start_time": "2023-03-14T01:54:08.543Z"
   },
   {
    "duration": 12,
    "start_time": "2023-03-14T01:54:08.584Z"
   },
   {
    "duration": 31,
    "start_time": "2023-03-14T01:54:08.598Z"
   },
   {
    "duration": 5,
    "start_time": "2023-03-14T01:54:08.631Z"
   },
   {
    "duration": 523,
    "start_time": "2023-03-14T01:54:08.638Z"
   },
   {
    "duration": 28,
    "start_time": "2023-03-14T01:54:09.163Z"
   },
   {
    "duration": 9,
    "start_time": "2023-03-14T01:54:09.193Z"
   },
   {
    "duration": 9,
    "start_time": "2023-03-14T01:54:09.210Z"
   },
   {
    "duration": 13,
    "start_time": "2023-03-14T01:54:09.221Z"
   },
   {
    "duration": 11,
    "start_time": "2023-03-14T01:54:09.235Z"
   },
   {
    "duration": 32,
    "start_time": "2023-03-14T01:54:09.250Z"
   },
   {
    "duration": 14,
    "start_time": "2023-03-14T01:54:09.284Z"
   },
   {
    "duration": 19,
    "start_time": "2023-03-14T01:54:09.304Z"
   },
   {
    "duration": 7,
    "start_time": "2023-03-14T01:54:09.325Z"
   },
   {
    "duration": 9,
    "start_time": "2023-03-14T01:54:09.333Z"
   },
   {
    "duration": 7,
    "start_time": "2023-03-14T01:54:09.344Z"
   },
   {
    "duration": 48,
    "start_time": "2023-03-14T01:54:09.353Z"
   },
   {
    "duration": 20,
    "start_time": "2023-03-14T01:54:09.403Z"
   },
   {
    "duration": 6,
    "start_time": "2023-03-14T01:54:09.425Z"
   },
   {
    "duration": 8,
    "start_time": "2023-03-14T01:54:09.433Z"
   },
   {
    "duration": 664,
    "start_time": "2023-03-14T01:54:09.443Z"
   },
   {
    "duration": 8,
    "start_time": "2023-03-14T01:54:10.109Z"
   },
   {
    "duration": 249,
    "start_time": "2023-03-14T01:54:10.119Z"
   },
   {
    "duration": 215,
    "start_time": "2023-03-14T01:54:10.379Z"
   },
   {
    "duration": 24,
    "start_time": "2023-03-14T01:54:10.599Z"
   },
   {
    "duration": 19,
    "start_time": "2023-03-14T01:54:10.626Z"
   },
   {
    "duration": 15,
    "start_time": "2023-03-14T01:54:10.647Z"
   },
   {
    "duration": 64,
    "start_time": "2023-03-14T01:54:10.665Z"
   },
   {
    "duration": 11,
    "start_time": "2023-03-14T01:54:10.731Z"
   },
   {
    "duration": 22,
    "start_time": "2023-03-14T01:54:10.744Z"
   },
   {
    "duration": 48,
    "start_time": "2023-03-14T01:54:10.769Z"
   },
   {
    "duration": 39,
    "start_time": "2023-03-14T01:54:10.819Z"
   },
   {
    "duration": 10,
    "start_time": "2023-03-14T01:54:10.860Z"
   },
   {
    "duration": 17,
    "start_time": "2023-03-14T01:54:10.872Z"
   },
   {
    "duration": 35,
    "start_time": "2023-03-14T01:54:10.891Z"
   },
   {
    "duration": 16,
    "start_time": "2023-03-14T01:54:10.929Z"
   },
   {
    "duration": 11,
    "start_time": "2023-03-14T01:54:10.947Z"
   },
   {
    "duration": 29,
    "start_time": "2023-03-14T01:54:10.963Z"
   },
   {
    "duration": 214,
    "start_time": "2023-03-14T01:54:11.001Z"
   },
   {
    "duration": 185,
    "start_time": "2023-03-14T01:54:11.217Z"
   },
   {
    "duration": 188,
    "start_time": "2023-03-14T01:54:11.403Z"
   },
   {
    "duration": 8,
    "start_time": "2023-03-14T01:54:11.593Z"
   },
   {
    "duration": 17,
    "start_time": "2023-03-14T01:54:11.610Z"
   },
   {
    "duration": 480,
    "start_time": "2023-03-14T01:54:11.630Z"
   },
   {
    "duration": 6,
    "start_time": "2023-03-14T01:54:12.112Z"
   },
   {
    "duration": 15,
    "start_time": "2023-03-14T01:54:12.120Z"
   },
   {
    "duration": 509,
    "start_time": "2023-03-14T07:50:08.946Z"
   },
   {
    "duration": 125,
    "start_time": "2023-03-14T07:50:19.585Z"
   },
   {
    "duration": 24,
    "start_time": "2023-03-14T07:50:20.258Z"
   },
   {
    "duration": 18,
    "start_time": "2023-03-14T07:50:20.841Z"
   },
   {
    "duration": 6,
    "start_time": "2023-03-14T07:50:23.607Z"
   },
   {
    "duration": 11,
    "start_time": "2023-03-14T07:50:31.003Z"
   },
   {
    "duration": 5,
    "start_time": "2023-03-14T07:51:34.193Z"
   },
   {
    "duration": 668,
    "start_time": "2023-03-14T07:51:34.924Z"
   },
   {
    "duration": 1369,
    "start_time": "2023-03-14T07:51:43.927Z"
   },
   {
    "duration": 0,
    "start_time": "2023-03-14T07:51:45.299Z"
   },
   {
    "duration": 1359,
    "start_time": "2023-03-14T07:52:13.342Z"
   },
   {
    "duration": 6,
    "start_time": "2023-03-14T07:52:41.120Z"
   },
   {
    "duration": 12,
    "start_time": "2023-03-14T07:52:44.927Z"
   },
   {
    "duration": 5,
    "start_time": "2023-03-14T07:52:45.674Z"
   },
   {
    "duration": 188,
    "start_time": "2023-03-14T07:52:46.938Z"
   },
   {
    "duration": 7,
    "start_time": "2023-03-14T07:52:50.568Z"
   },
   {
    "duration": 6,
    "start_time": "2023-03-14T09:58:23.497Z"
   },
   {
    "duration": 20,
    "start_time": "2023-03-14T09:59:19.096Z"
   },
   {
    "duration": 18,
    "start_time": "2023-03-14T09:59:24.354Z"
   },
   {
    "duration": 12,
    "start_time": "2023-03-14T09:59:35.017Z"
   },
   {
    "duration": 8,
    "start_time": "2023-03-14T09:59:58.555Z"
   },
   {
    "duration": 9,
    "start_time": "2023-03-14T10:00:20.211Z"
   },
   {
    "duration": 8,
    "start_time": "2023-03-14T10:00:25.255Z"
   },
   {
    "duration": 5,
    "start_time": "2023-03-14T10:46:35.383Z"
   },
   {
    "duration": 12,
    "start_time": "2023-03-14T10:46:57.400Z"
   },
   {
    "duration": 13,
    "start_time": "2023-03-14T10:47:08.304Z"
   },
   {
    "duration": 33,
    "start_time": "2023-03-14T10:47:15.217Z"
   },
   {
    "duration": 30,
    "start_time": "2023-03-14T10:47:30.626Z"
   },
   {
    "duration": 46,
    "start_time": "2023-03-14T10:47:51.924Z"
   },
   {
    "duration": 7,
    "start_time": "2023-03-14T10:48:23.388Z"
   },
   {
    "duration": 7,
    "start_time": "2023-03-14T10:48:33.042Z"
   },
   {
    "duration": 6,
    "start_time": "2023-03-14T10:48:47.548Z"
   },
   {
    "duration": 19,
    "start_time": "2023-03-14T10:49:13.818Z"
   },
   {
    "duration": 22,
    "start_time": "2023-03-14T10:51:45.572Z"
   },
   {
    "duration": 25,
    "start_time": "2023-03-14T10:52:13.537Z"
   },
   {
    "duration": 28,
    "start_time": "2023-03-14T10:53:19.754Z"
   },
   {
    "duration": 11,
    "start_time": "2023-03-14T10:53:38.063Z"
   },
   {
    "duration": 8,
    "start_time": "2023-03-14T10:53:44.726Z"
   },
   {
    "duration": 15,
    "start_time": "2023-03-14T10:53:47.155Z"
   },
   {
    "duration": 3,
    "start_time": "2023-03-14T10:54:26.331Z"
   },
   {
    "duration": 55,
    "start_time": "2023-03-14T10:54:28.232Z"
   },
   {
    "duration": 16,
    "start_time": "2023-03-14T10:54:28.289Z"
   },
   {
    "duration": 17,
    "start_time": "2023-03-14T10:54:28.441Z"
   },
   {
    "duration": 5,
    "start_time": "2023-03-14T10:54:30.426Z"
   },
   {
    "duration": 12,
    "start_time": "2023-03-14T10:54:31.122Z"
   },
   {
    "duration": 6,
    "start_time": "2023-03-14T10:54:31.267Z"
   },
   {
    "duration": 195,
    "start_time": "2023-03-14T10:54:31.837Z"
   },
   {
    "duration": 7,
    "start_time": "2023-03-14T10:54:33.442Z"
   },
   {
    "duration": 6,
    "start_time": "2023-03-14T10:54:33.914Z"
   },
   {
    "duration": 5,
    "start_time": "2023-03-14T10:54:35.610Z"
   },
   {
    "duration": 11,
    "start_time": "2023-03-14T10:54:37.571Z"
   },
   {
    "duration": 15,
    "start_time": "2023-03-14T10:54:38.317Z"
   },
   {
    "duration": 44,
    "start_time": "2023-03-14T10:54:39.025Z"
   },
   {
    "duration": 14,
    "start_time": "2023-03-14T10:54:40.328Z"
   },
   {
    "duration": 5,
    "start_time": "2023-03-14T10:55:11.310Z"
   },
   {
    "duration": 8,
    "start_time": "2023-03-14T10:55:17.734Z"
   },
   {
    "duration": 10,
    "start_time": "2023-03-14T10:55:23.667Z"
   },
   {
    "duration": 5,
    "start_time": "2023-03-14T10:55:27.309Z"
   },
   {
    "duration": 6,
    "start_time": "2023-03-14T10:55:28.602Z"
   },
   {
    "duration": 6,
    "start_time": "2023-03-14T10:55:29.913Z"
   },
   {
    "duration": 17,
    "start_time": "2023-03-14T10:55:33.362Z"
   },
   {
    "duration": 8,
    "start_time": "2023-03-14T10:55:56.440Z"
   },
   {
    "duration": 12,
    "start_time": "2023-03-14T10:55:57.963Z"
   },
   {
    "duration": 25,
    "start_time": "2023-03-14T10:57:14.649Z"
   },
   {
    "duration": 6,
    "start_time": "2023-03-14T10:59:03.822Z"
   },
   {
    "duration": 58,
    "start_time": "2023-03-14T10:59:40.404Z"
   },
   {
    "duration": 35,
    "start_time": "2023-03-14T10:59:54.124Z"
   },
   {
    "duration": 18,
    "start_time": "2023-03-14T11:00:10.566Z"
   },
   {
    "duration": 15,
    "start_time": "2023-03-14T11:00:18.885Z"
   },
   {
    "duration": 16,
    "start_time": "2023-03-14T11:00:28.729Z"
   },
   {
    "duration": 16,
    "start_time": "2023-03-14T11:01:06.913Z"
   },
   {
    "duration": 21,
    "start_time": "2023-03-14T11:01:42.096Z"
   },
   {
    "duration": 46,
    "start_time": "2023-03-14T11:01:57.749Z"
   },
   {
    "duration": 11,
    "start_time": "2023-03-14T11:02:30.845Z"
   },
   {
    "duration": 42,
    "start_time": "2023-03-14T11:02:35.657Z"
   },
   {
    "duration": 71,
    "start_time": "2023-03-14T11:02:44.601Z"
   },
   {
    "duration": 6,
    "start_time": "2023-03-14T11:02:49.410Z"
   },
   {
    "duration": 23,
    "start_time": "2023-03-14T11:03:02.752Z"
   },
   {
    "duration": 8,
    "start_time": "2023-03-14T11:03:08.153Z"
   },
   {
    "duration": 28,
    "start_time": "2023-03-14T11:03:29.758Z"
   },
   {
    "duration": 49,
    "start_time": "2023-03-14T11:04:11.941Z"
   },
   {
    "duration": 35,
    "start_time": "2023-03-14T11:04:17.396Z"
   },
   {
    "duration": 7,
    "start_time": "2023-03-14T11:04:33.551Z"
   },
   {
    "duration": 7,
    "start_time": "2023-03-14T11:04:37.254Z"
   },
   {
    "duration": 21,
    "start_time": "2023-03-14T11:05:32.862Z"
   },
   {
    "duration": 8,
    "start_time": "2023-03-14T11:05:43.551Z"
   },
   {
    "duration": 1289,
    "start_time": "2023-03-14T11:05:54.594Z"
   },
   {
    "duration": 81,
    "start_time": "2023-03-14T11:06:16.139Z"
   },
   {
    "duration": 1391,
    "start_time": "2023-03-14T11:06:20.899Z"
   },
   {
    "duration": 24,
    "start_time": "2023-03-14T11:07:11.996Z"
   },
   {
    "duration": 14,
    "start_time": "2023-03-14T11:07:56.853Z"
   },
   {
    "duration": 17,
    "start_time": "2023-03-14T11:08:01.806Z"
   },
   {
    "duration": 16,
    "start_time": "2023-03-14T11:08:20.448Z"
   },
   {
    "duration": 32,
    "start_time": "2023-03-14T11:08:48.260Z"
   },
   {
    "duration": 14,
    "start_time": "2023-03-14T11:09:11.202Z"
   },
   {
    "duration": 16,
    "start_time": "2023-03-14T11:09:15.677Z"
   },
   {
    "duration": 19,
    "start_time": "2023-03-14T11:10:50.894Z"
   },
   {
    "duration": 16,
    "start_time": "2023-03-14T11:10:59.724Z"
   },
   {
    "duration": 4,
    "start_time": "2023-03-14T11:11:26.223Z"
   },
   {
    "duration": 72,
    "start_time": "2023-03-14T11:11:27.395Z"
   },
   {
    "duration": 24,
    "start_time": "2023-03-14T11:11:27.772Z"
   },
   {
    "duration": 16,
    "start_time": "2023-03-14T11:11:28.050Z"
   },
   {
    "duration": 5,
    "start_time": "2023-03-14T11:11:30.233Z"
   },
   {
    "duration": 13,
    "start_time": "2023-03-14T11:11:31.557Z"
   },
   {
    "duration": 7,
    "start_time": "2023-03-14T11:11:31.979Z"
   },
   {
    "duration": 219,
    "start_time": "2023-03-14T11:11:32.489Z"
   },
   {
    "duration": 7,
    "start_time": "2023-03-14T11:11:35.455Z"
   },
   {
    "duration": 6,
    "start_time": "2023-03-14T11:11:35.871Z"
   },
   {
    "duration": 7,
    "start_time": "2023-03-14T11:11:39.389Z"
   },
   {
    "duration": 13,
    "start_time": "2023-03-14T11:11:41.549Z"
   },
   {
    "duration": 13,
    "start_time": "2023-03-14T11:11:44.397Z"
   },
   {
    "duration": 29,
    "start_time": "2023-03-14T11:11:45.398Z"
   },
   {
    "duration": 10,
    "start_time": "2023-03-14T11:11:46.841Z"
   },
   {
    "duration": 15,
    "start_time": "2023-03-14T11:11:53.155Z"
   },
   {
    "duration": 7,
    "start_time": "2023-03-14T11:11:54.800Z"
   },
   {
    "duration": 10,
    "start_time": "2023-03-14T11:11:58.051Z"
   },
   {
    "duration": 9,
    "start_time": "2023-03-14T11:11:59.605Z"
   },
   {
    "duration": 28,
    "start_time": "2023-03-14T11:12:02.802Z"
   },
   {
    "duration": 42,
    "start_time": "2023-03-14T11:12:06.124Z"
   },
   {
    "duration": 16,
    "start_time": "2023-03-14T11:12:18.119Z"
   },
   {
    "duration": 27,
    "start_time": "2023-03-14T11:12:19.454Z"
   },
   {
    "duration": 63,
    "start_time": "2023-03-14T11:12:21.237Z"
   },
   {
    "duration": 21,
    "start_time": "2023-03-14T11:12:30.337Z"
   },
   {
    "duration": 11,
    "start_time": "2023-03-14T11:12:32.612Z"
   },
   {
    "duration": 15,
    "start_time": "2023-03-14T11:12:33.255Z"
   },
   {
    "duration": 15,
    "start_time": "2023-03-14T11:12:38.626Z"
   },
   {
    "duration": 9,
    "start_time": "2023-03-14T11:13:19.012Z"
   },
   {
    "duration": 16,
    "start_time": "2023-03-14T11:13:52.193Z"
   },
   {
    "duration": 268,
    "start_time": "2023-03-14T11:14:10.394Z"
   },
   {
    "duration": 197,
    "start_time": "2023-03-14T11:14:17.995Z"
   },
   {
    "duration": 316,
    "start_time": "2023-03-14T11:14:43.430Z"
   },
   {
    "duration": 314,
    "start_time": "2023-03-14T11:15:00.899Z"
   },
   {
    "duration": 344,
    "start_time": "2023-03-14T11:15:07.542Z"
   },
   {
    "duration": 311,
    "start_time": "2023-03-14T11:15:19.409Z"
   },
   {
    "duration": 7,
    "start_time": "2023-03-14T11:15:42.761Z"
   },
   {
    "duration": 7,
    "start_time": "2023-03-14T11:15:43.396Z"
   },
   {
    "duration": 52,
    "start_time": "2023-03-14T11:18:08.715Z"
   },
   {
    "duration": 6,
    "start_time": "2023-03-14T11:18:11.856Z"
   },
   {
    "duration": 6,
    "start_time": "2023-03-14T11:18:51.723Z"
   },
   {
    "duration": 25,
    "start_time": "2023-03-14T11:19:39.832Z"
   },
   {
    "duration": 8,
    "start_time": "2023-03-14T11:21:48.509Z"
   },
   {
    "duration": 7,
    "start_time": "2023-03-14T11:40:21.073Z"
   },
   {
    "duration": 7,
    "start_time": "2023-03-14T11:40:21.705Z"
   },
   {
    "duration": 2732,
    "start_time": "2023-03-14T11:41:27.333Z"
   },
   {
    "duration": 1758,
    "start_time": "2023-03-14T11:41:49.198Z"
   },
   {
    "duration": 2883,
    "start_time": "2023-03-14T11:42:42.162Z"
   },
   {
    "duration": 1738,
    "start_time": "2023-03-14T11:43:00.426Z"
   },
   {
    "duration": 9,
    "start_time": "2023-03-14T11:45:59.242Z"
   },
   {
    "duration": 9,
    "start_time": "2023-03-14T11:49:49.904Z"
   },
   {
    "duration": 8,
    "start_time": "2023-03-14T11:50:28.711Z"
   },
   {
    "duration": 11,
    "start_time": "2023-03-14T11:50:39.765Z"
   },
   {
    "duration": 11,
    "start_time": "2023-03-14T11:50:56.631Z"
   },
   {
    "duration": 394,
    "start_time": "2023-03-14T11:53:51.020Z"
   },
   {
    "duration": 230,
    "start_time": "2023-03-14T11:54:24.110Z"
   },
   {
    "duration": 301,
    "start_time": "2023-03-14T11:54:38.621Z"
   },
   {
    "duration": 298,
    "start_time": "2023-03-14T11:55:48.279Z"
   },
   {
    "duration": 349,
    "start_time": "2023-03-14T11:55:59.003Z"
   },
   {
    "duration": 529,
    "start_time": "2023-03-14T12:04:50.330Z"
   },
   {
    "duration": 391,
    "start_time": "2023-03-14T12:05:07.658Z"
   },
   {
    "duration": 8,
    "start_time": "2023-03-14T12:40:01.948Z"
   },
   {
    "duration": 171,
    "start_time": "2023-03-14T12:40:04.532Z"
   },
   {
    "duration": 3,
    "start_time": "2023-03-14T12:51:12.269Z"
   },
   {
    "duration": 58,
    "start_time": "2023-03-14T12:51:12.275Z"
   },
   {
    "duration": 17,
    "start_time": "2023-03-14T12:51:12.335Z"
   },
   {
    "duration": 51,
    "start_time": "2023-03-14T12:51:12.353Z"
   },
   {
    "duration": 7,
    "start_time": "2023-03-14T12:51:12.407Z"
   },
   {
    "duration": 16,
    "start_time": "2023-03-14T12:51:12.416Z"
   },
   {
    "duration": 7,
    "start_time": "2023-03-14T12:51:12.434Z"
   },
   {
    "duration": 198,
    "start_time": "2023-03-14T12:51:12.442Z"
   },
   {
    "duration": 6,
    "start_time": "2023-03-14T12:51:12.642Z"
   },
   {
    "duration": 18,
    "start_time": "2023-03-14T12:51:12.649Z"
   },
   {
    "duration": 9,
    "start_time": "2023-03-14T12:51:12.668Z"
   },
   {
    "duration": 12,
    "start_time": "2023-03-14T12:51:12.679Z"
   },
   {
    "duration": 17,
    "start_time": "2023-03-14T12:51:12.694Z"
   },
   {
    "duration": 27,
    "start_time": "2023-03-14T12:51:12.713Z"
   },
   {
    "duration": 25,
    "start_time": "2023-03-14T12:51:12.741Z"
   },
   {
    "duration": 15,
    "start_time": "2023-03-14T12:51:12.768Z"
   },
   {
    "duration": 0,
    "start_time": "2023-03-14T12:51:12.786Z"
   },
   {
    "duration": 0,
    "start_time": "2023-03-14T12:51:12.787Z"
   },
   {
    "duration": 0,
    "start_time": "2023-03-14T12:51:12.788Z"
   },
   {
    "duration": 0,
    "start_time": "2023-03-14T12:51:12.789Z"
   },
   {
    "duration": 0,
    "start_time": "2023-03-14T12:51:12.790Z"
   },
   {
    "duration": 0,
    "start_time": "2023-03-14T12:51:12.791Z"
   },
   {
    "duration": 0,
    "start_time": "2023-03-14T12:51:12.792Z"
   },
   {
    "duration": 0,
    "start_time": "2023-03-14T12:51:12.793Z"
   },
   {
    "duration": 0,
    "start_time": "2023-03-14T12:51:12.794Z"
   },
   {
    "duration": 0,
    "start_time": "2023-03-14T12:51:12.795Z"
   },
   {
    "duration": 0,
    "start_time": "2023-03-14T12:51:12.797Z"
   },
   {
    "duration": 0,
    "start_time": "2023-03-14T12:51:12.797Z"
   },
   {
    "duration": 0,
    "start_time": "2023-03-14T12:51:12.799Z"
   },
   {
    "duration": 0,
    "start_time": "2023-03-14T12:51:12.800Z"
   },
   {
    "duration": 0,
    "start_time": "2023-03-14T12:51:12.801Z"
   },
   {
    "duration": 0,
    "start_time": "2023-03-14T12:51:12.802Z"
   },
   {
    "duration": 0,
    "start_time": "2023-03-14T12:51:12.803Z"
   },
   {
    "duration": 0,
    "start_time": "2023-03-14T12:51:12.804Z"
   },
   {
    "duration": 0,
    "start_time": "2023-03-14T12:51:12.805Z"
   },
   {
    "duration": 0,
    "start_time": "2023-03-14T12:51:12.806Z"
   },
   {
    "duration": 0,
    "start_time": "2023-03-14T12:51:12.807Z"
   },
   {
    "duration": 0,
    "start_time": "2023-03-14T12:51:12.808Z"
   },
   {
    "duration": 0,
    "start_time": "2023-03-14T12:51:12.809Z"
   },
   {
    "duration": 0,
    "start_time": "2023-03-14T12:51:12.865Z"
   },
   {
    "duration": 0,
    "start_time": "2023-03-14T12:51:12.866Z"
   },
   {
    "duration": 0,
    "start_time": "2023-03-14T12:51:12.867Z"
   },
   {
    "duration": 0,
    "start_time": "2023-03-14T12:51:12.868Z"
   },
   {
    "duration": 0,
    "start_time": "2023-03-14T12:51:12.869Z"
   },
   {
    "duration": 0,
    "start_time": "2023-03-14T12:51:12.870Z"
   },
   {
    "duration": 0,
    "start_time": "2023-03-14T12:51:12.871Z"
   },
   {
    "duration": 0,
    "start_time": "2023-03-14T12:51:12.872Z"
   },
   {
    "duration": 0,
    "start_time": "2023-03-14T12:51:12.873Z"
   },
   {
    "duration": 0,
    "start_time": "2023-03-14T12:51:12.874Z"
   },
   {
    "duration": 0,
    "start_time": "2023-03-14T12:51:12.876Z"
   },
   {
    "duration": 0,
    "start_time": "2023-03-14T12:51:12.877Z"
   },
   {
    "duration": 0,
    "start_time": "2023-03-14T12:51:12.878Z"
   },
   {
    "duration": 0,
    "start_time": "2023-03-14T12:51:12.879Z"
   },
   {
    "duration": 0,
    "start_time": "2023-03-14T12:51:12.880Z"
   },
   {
    "duration": 0,
    "start_time": "2023-03-14T12:51:12.881Z"
   },
   {
    "duration": 0,
    "start_time": "2023-03-14T12:51:12.883Z"
   },
   {
    "duration": 0,
    "start_time": "2023-03-14T12:51:12.884Z"
   },
   {
    "duration": 0,
    "start_time": "2023-03-14T12:51:12.885Z"
   },
   {
    "duration": 0,
    "start_time": "2023-03-14T12:51:12.886Z"
   },
   {
    "duration": 0,
    "start_time": "2023-03-14T12:51:12.887Z"
   },
   {
    "duration": 3,
    "start_time": "2023-03-14T12:51:49.647Z"
   },
   {
    "duration": 58,
    "start_time": "2023-03-14T12:51:49.652Z"
   },
   {
    "duration": 17,
    "start_time": "2023-03-14T12:51:49.712Z"
   },
   {
    "duration": 33,
    "start_time": "2023-03-14T12:51:49.731Z"
   },
   {
    "duration": 5,
    "start_time": "2023-03-14T12:51:49.767Z"
   },
   {
    "duration": 29,
    "start_time": "2023-03-14T12:51:49.773Z"
   },
   {
    "duration": 5,
    "start_time": "2023-03-14T12:51:49.803Z"
   },
   {
    "duration": 202,
    "start_time": "2023-03-14T12:51:49.810Z"
   },
   {
    "duration": 6,
    "start_time": "2023-03-14T12:51:50.014Z"
   },
   {
    "duration": 14,
    "start_time": "2023-03-14T12:51:50.022Z"
   },
   {
    "duration": 19,
    "start_time": "2023-03-14T12:51:50.039Z"
   },
   {
    "duration": 20,
    "start_time": "2023-03-14T12:51:50.060Z"
   },
   {
    "duration": 14,
    "start_time": "2023-03-14T12:51:50.082Z"
   },
   {
    "duration": 28,
    "start_time": "2023-03-14T12:51:50.098Z"
   },
   {
    "duration": 12,
    "start_time": "2023-03-14T12:51:50.127Z"
   },
   {
    "duration": 29,
    "start_time": "2023-03-14T12:51:50.141Z"
   },
   {
    "duration": 0,
    "start_time": "2023-03-14T12:51:50.172Z"
   },
   {
    "duration": 0,
    "start_time": "2023-03-14T12:51:50.174Z"
   },
   {
    "duration": 0,
    "start_time": "2023-03-14T12:51:50.175Z"
   },
   {
    "duration": 0,
    "start_time": "2023-03-14T12:51:50.176Z"
   },
   {
    "duration": 0,
    "start_time": "2023-03-14T12:51:50.177Z"
   },
   {
    "duration": 0,
    "start_time": "2023-03-14T12:51:50.178Z"
   },
   {
    "duration": 0,
    "start_time": "2023-03-14T12:51:50.179Z"
   },
   {
    "duration": 0,
    "start_time": "2023-03-14T12:51:50.181Z"
   },
   {
    "duration": 0,
    "start_time": "2023-03-14T12:51:50.182Z"
   },
   {
    "duration": 0,
    "start_time": "2023-03-14T12:51:50.183Z"
   },
   {
    "duration": 0,
    "start_time": "2023-03-14T12:51:50.184Z"
   },
   {
    "duration": 0,
    "start_time": "2023-03-14T12:51:50.185Z"
   },
   {
    "duration": 0,
    "start_time": "2023-03-14T12:51:50.187Z"
   },
   {
    "duration": 0,
    "start_time": "2023-03-14T12:51:50.188Z"
   },
   {
    "duration": 0,
    "start_time": "2023-03-14T12:51:50.189Z"
   },
   {
    "duration": 0,
    "start_time": "2023-03-14T12:51:50.189Z"
   },
   {
    "duration": 0,
    "start_time": "2023-03-14T12:51:50.191Z"
   },
   {
    "duration": 0,
    "start_time": "2023-03-14T12:51:50.192Z"
   },
   {
    "duration": 0,
    "start_time": "2023-03-14T12:51:50.193Z"
   },
   {
    "duration": 0,
    "start_time": "2023-03-14T12:51:50.194Z"
   },
   {
    "duration": 0,
    "start_time": "2023-03-14T12:51:50.195Z"
   },
   {
    "duration": 0,
    "start_time": "2023-03-14T12:51:50.197Z"
   },
   {
    "duration": 0,
    "start_time": "2023-03-14T12:51:50.197Z"
   },
   {
    "duration": 0,
    "start_time": "2023-03-14T12:51:50.199Z"
   },
   {
    "duration": 0,
    "start_time": "2023-03-14T12:51:50.200Z"
   },
   {
    "duration": 0,
    "start_time": "2023-03-14T12:51:50.201Z"
   },
   {
    "duration": 0,
    "start_time": "2023-03-14T12:51:50.202Z"
   },
   {
    "duration": 0,
    "start_time": "2023-03-14T12:51:50.203Z"
   },
   {
    "duration": 0,
    "start_time": "2023-03-14T12:51:50.204Z"
   },
   {
    "duration": 0,
    "start_time": "2023-03-14T12:51:50.205Z"
   },
   {
    "duration": 0,
    "start_time": "2023-03-14T12:51:50.206Z"
   },
   {
    "duration": 0,
    "start_time": "2023-03-14T12:51:50.263Z"
   },
   {
    "duration": 0,
    "start_time": "2023-03-14T12:51:50.265Z"
   },
   {
    "duration": 0,
    "start_time": "2023-03-14T12:51:50.266Z"
   },
   {
    "duration": 0,
    "start_time": "2023-03-14T12:51:50.268Z"
   },
   {
    "duration": 0,
    "start_time": "2023-03-14T12:51:50.269Z"
   },
   {
    "duration": 0,
    "start_time": "2023-03-14T12:51:50.270Z"
   },
   {
    "duration": 0,
    "start_time": "2023-03-14T12:51:50.271Z"
   },
   {
    "duration": 0,
    "start_time": "2023-03-14T12:51:50.273Z"
   },
   {
    "duration": 0,
    "start_time": "2023-03-14T12:51:50.274Z"
   },
   {
    "duration": 0,
    "start_time": "2023-03-14T12:51:50.275Z"
   },
   {
    "duration": 0,
    "start_time": "2023-03-14T12:51:50.276Z"
   },
   {
    "duration": 0,
    "start_time": "2023-03-14T12:51:50.277Z"
   },
   {
    "duration": 0,
    "start_time": "2023-03-14T12:51:50.278Z"
   },
   {
    "duration": 7,
    "start_time": "2023-03-14T12:52:07.855Z"
   },
   {
    "duration": 7,
    "start_time": "2023-03-14T12:52:18.139Z"
   },
   {
    "duration": 3,
    "start_time": "2023-03-14T12:52:29.811Z"
   },
   {
    "duration": 51,
    "start_time": "2023-03-14T12:52:30.785Z"
   },
   {
    "duration": 15,
    "start_time": "2023-03-14T12:52:31.317Z"
   },
   {
    "duration": 17,
    "start_time": "2023-03-14T12:52:31.854Z"
   },
   {
    "duration": 5,
    "start_time": "2023-03-14T12:52:34.075Z"
   },
   {
    "duration": 12,
    "start_time": "2023-03-14T12:52:35.533Z"
   },
   {
    "duration": 5,
    "start_time": "2023-03-14T12:52:36.021Z"
   },
   {
    "duration": 200,
    "start_time": "2023-03-14T12:52:36.651Z"
   },
   {
    "duration": 6,
    "start_time": "2023-03-14T12:52:41.195Z"
   },
   {
    "duration": 5,
    "start_time": "2023-03-14T12:52:41.718Z"
   },
   {
    "duration": 6,
    "start_time": "2023-03-14T12:52:44.121Z"
   },
   {
    "duration": 8,
    "start_time": "2023-03-14T12:52:45.260Z"
   },
   {
    "duration": 13,
    "start_time": "2023-03-14T12:52:46.398Z"
   },
   {
    "duration": 28,
    "start_time": "2023-03-14T12:52:47.363Z"
   },
   {
    "duration": 12,
    "start_time": "2023-03-14T12:52:48.935Z"
   },
   {
    "duration": 14,
    "start_time": "2023-03-14T12:52:49.397Z"
   },
   {
    "duration": 6,
    "start_time": "2023-03-14T12:53:53.145Z"
   },
   {
    "duration": 9,
    "start_time": "2023-03-14T12:53:54.612Z"
   },
   {
    "duration": 26,
    "start_time": "2023-03-14T12:53:55.138Z"
   },
   {
    "duration": 7,
    "start_time": "2023-03-14T12:53:56.595Z"
   },
   {
    "duration": 5,
    "start_time": "2023-03-14T12:53:57.601Z"
   },
   {
    "duration": 16,
    "start_time": "2023-03-14T12:53:58.815Z"
   },
   {
    "duration": 25,
    "start_time": "2023-03-14T12:54:00.237Z"
   },
   {
    "duration": 11,
    "start_time": "2023-03-14T12:54:01.054Z"
   },
   {
    "duration": 16,
    "start_time": "2023-03-14T12:54:02.094Z"
   },
   {
    "duration": 17,
    "start_time": "2023-03-14T12:54:03.602Z"
   },
   {
    "duration": 11,
    "start_time": "2023-03-14T12:54:04.144Z"
   },
   {
    "duration": 14,
    "start_time": "2023-03-14T12:54:04.645Z"
   },
   {
    "duration": 329,
    "start_time": "2023-03-14T12:54:07.444Z"
   },
   {
    "duration": 6,
    "start_time": "2023-03-14T13:05:14.888Z"
   },
   {
    "duration": 6,
    "start_time": "2023-03-14T13:05:15.853Z"
   },
   {
    "duration": 1902,
    "start_time": "2023-03-14T13:05:16.696Z"
   },
   {
    "duration": 6,
    "start_time": "2023-03-14T13:05:18.603Z"
   },
   {
    "duration": 9,
    "start_time": "2023-03-14T13:05:23.402Z"
   },
   {
    "duration": 247,
    "start_time": "2023-03-14T13:05:25.655Z"
   },
   {
    "duration": 330,
    "start_time": "2023-03-14T13:05:26.948Z"
   },
   {
    "duration": 6,
    "start_time": "2023-03-14T13:05:44.698Z"
   },
   {
    "duration": 132,
    "start_time": "2023-03-14T13:05:47.408Z"
   },
   {
    "duration": 7,
    "start_time": "2023-03-14T13:06:32.638Z"
   },
   {
    "duration": 142,
    "start_time": "2023-03-14T13:06:33.270Z"
   },
   {
    "duration": 163,
    "start_time": "2023-03-14T13:06:36.715Z"
   },
   {
    "duration": 8,
    "start_time": "2023-03-14T13:06:43.216Z"
   },
   {
    "duration": 7,
    "start_time": "2023-03-14T13:06:44.416Z"
   },
   {
    "duration": 8,
    "start_time": "2023-03-14T13:07:53.902Z"
   },
   {
    "duration": 7,
    "start_time": "2023-03-14T13:07:54.490Z"
   },
   {
    "duration": 8,
    "start_time": "2023-03-14T13:07:54.561Z"
   },
   {
    "duration": 8,
    "start_time": "2023-03-14T13:20:00.314Z"
   },
   {
    "duration": 9,
    "start_time": "2023-03-14T13:20:03.143Z"
   },
   {
    "duration": 7,
    "start_time": "2023-03-14T13:20:05.107Z"
   },
   {
    "duration": 8,
    "start_time": "2023-03-14T13:22:50.603Z"
   },
   {
    "duration": 8,
    "start_time": "2023-03-14T13:25:53.208Z"
   },
   {
    "duration": 9,
    "start_time": "2023-03-14T13:27:07.975Z"
   },
   {
    "duration": 8,
    "start_time": "2023-03-14T13:27:14.402Z"
   },
   {
    "duration": 401,
    "start_time": "2023-03-14T13:32:05.720Z"
   },
   {
    "duration": 298,
    "start_time": "2023-03-14T13:36:35.402Z"
   },
   {
    "duration": 354,
    "start_time": "2023-03-14T13:40:26.311Z"
   },
   {
    "duration": 387,
    "start_time": "2023-03-14T13:40:56.502Z"
   },
   {
    "duration": 7,
    "start_time": "2023-03-14T13:47:19.203Z"
   },
   {
    "duration": 7,
    "start_time": "2023-03-14T13:47:24.938Z"
   },
   {
    "duration": 8,
    "start_time": "2023-03-14T13:47:31.108Z"
   },
   {
    "duration": 5,
    "start_time": "2023-03-14T13:47:35.103Z"
   },
   {
    "duration": 2,
    "start_time": "2023-03-14T13:52:38.376Z"
   },
   {
    "duration": 233,
    "start_time": "2023-03-14T13:59:24.946Z"
   },
   {
    "duration": 240,
    "start_time": "2023-03-14T13:59:38.869Z"
   },
   {
    "duration": 331,
    "start_time": "2023-03-14T14:00:15.943Z"
   },
   {
    "duration": 236,
    "start_time": "2023-03-14T14:00:30.220Z"
   },
   {
    "duration": 269,
    "start_time": "2023-03-14T14:01:12.706Z"
   },
   {
    "duration": 295,
    "start_time": "2023-03-14T14:01:53.511Z"
   },
   {
    "duration": 383,
    "start_time": "2023-03-14T14:10:43.940Z"
   },
   {
    "duration": 315,
    "start_time": "2023-03-14T14:21:04.014Z"
   },
   {
    "duration": 317,
    "start_time": "2023-03-14T14:21:31.301Z"
   },
   {
    "duration": 315,
    "start_time": "2023-03-14T14:25:19.412Z"
   },
   {
    "duration": 324,
    "start_time": "2023-03-14T14:25:36.699Z"
   },
   {
    "duration": 297,
    "start_time": "2023-03-14T14:25:49.310Z"
   },
   {
    "duration": 302,
    "start_time": "2023-03-14T14:27:24.748Z"
   },
   {
    "duration": 204,
    "start_time": "2023-03-14T14:27:39.781Z"
   },
   {
    "duration": 382,
    "start_time": "2023-03-14T14:28:05.495Z"
   },
   {
    "duration": 9,
    "start_time": "2023-03-14T14:28:25.966Z"
   },
   {
    "duration": 8,
    "start_time": "2023-03-14T14:28:32.914Z"
   },
   {
    "duration": 8,
    "start_time": "2023-03-14T14:28:38.074Z"
   },
   {
    "duration": 9,
    "start_time": "2023-03-14T14:29:06.706Z"
   },
   {
    "duration": 6,
    "start_time": "2023-03-14T14:29:14.369Z"
   },
   {
    "duration": 5,
    "start_time": "2023-03-14T14:29:21.432Z"
   },
   {
    "duration": 305,
    "start_time": "2023-03-14T14:30:00.318Z"
   },
   {
    "duration": 250,
    "start_time": "2023-03-14T14:30:28.135Z"
   },
   {
    "duration": 270,
    "start_time": "2023-03-14T14:30:37.174Z"
   },
   {
    "duration": 463,
    "start_time": "2023-03-14T14:30:44.510Z"
   },
   {
    "duration": 319,
    "start_time": "2023-03-14T14:30:49.710Z"
   },
   {
    "duration": 342,
    "start_time": "2023-03-14T14:30:55.006Z"
   },
   {
    "duration": 353,
    "start_time": "2023-03-14T14:31:03.770Z"
   },
   {
    "duration": 18,
    "start_time": "2023-03-14T14:34:32.509Z"
   },
   {
    "duration": 14,
    "start_time": "2023-03-14T14:35:01.510Z"
   },
   {
    "duration": 7,
    "start_time": "2023-03-14T14:42:51.620Z"
   },
   {
    "duration": 10,
    "start_time": "2023-03-14T14:43:02.360Z"
   },
   {
    "duration": 11,
    "start_time": "2023-03-14T14:43:30.067Z"
   },
   {
    "duration": 10,
    "start_time": "2023-03-14T14:43:48.232Z"
   },
   {
    "duration": 7,
    "start_time": "2023-03-14T14:44:15.511Z"
   },
   {
    "duration": 15,
    "start_time": "2023-03-14T14:44:25.723Z"
   },
   {
    "duration": 14,
    "start_time": "2023-03-14T14:44:36.721Z"
   },
   {
    "duration": 306,
    "start_time": "2023-03-14T14:45:02.580Z"
   },
   {
    "duration": 11,
    "start_time": "2023-03-14T14:45:07.313Z"
   },
   {
    "duration": 15,
    "start_time": "2023-03-14T14:45:14.337Z"
   },
   {
    "duration": 11,
    "start_time": "2023-03-14T14:47:28.324Z"
   },
   {
    "duration": 12,
    "start_time": "2023-03-14T14:47:46.271Z"
   },
   {
    "duration": 12,
    "start_time": "2023-03-14T14:48:03.523Z"
   },
   {
    "duration": 10,
    "start_time": "2023-03-14T14:48:40.403Z"
   },
   {
    "duration": 10,
    "start_time": "2023-03-14T14:49:00.578Z"
   },
   {
    "duration": 10,
    "start_time": "2023-03-14T14:49:40.116Z"
   },
   {
    "duration": 10,
    "start_time": "2023-03-14T14:50:07.113Z"
   },
   {
    "duration": 5,
    "start_time": "2023-03-14T14:50:11.172Z"
   },
   {
    "duration": 3,
    "start_time": "2023-03-14T14:50:14.208Z"
   },
   {
    "duration": 295,
    "start_time": "2023-03-14T14:50:14.853Z"
   },
   {
    "duration": 350,
    "start_time": "2023-03-14T14:50:29.113Z"
   },
   {
    "duration": 6,
    "start_time": "2023-03-14T14:50:39.601Z"
   },
   {
    "duration": 5,
    "start_time": "2023-03-14T14:50:40.115Z"
   },
   {
    "duration": 6,
    "start_time": "2023-03-14T14:50:40.626Z"
   },
   {
    "duration": 465,
    "start_time": "2023-03-14T14:50:41.629Z"
   },
   {
    "duration": 8,
    "start_time": "2023-03-14T14:51:53.630Z"
   },
   {
    "duration": 9,
    "start_time": "2023-03-14T14:52:19.420Z"
   },
   {
    "duration": 11,
    "start_time": "2023-03-14T14:54:30.107Z"
   },
   {
    "duration": 5,
    "start_time": "2023-03-14T14:56:10.002Z"
   },
   {
    "duration": 90,
    "start_time": "2023-03-14T14:56:15.511Z"
   },
   {
    "duration": 80,
    "start_time": "2023-03-14T14:56:38.872Z"
   },
   {
    "duration": 7,
    "start_time": "2023-03-14T14:57:06.837Z"
   },
   {
    "duration": 6,
    "start_time": "2023-03-14T14:58:16.229Z"
   },
   {
    "duration": 22,
    "start_time": "2023-03-14T14:58:35.378Z"
   },
   {
    "duration": 24,
    "start_time": "2023-03-14T15:30:45.301Z"
   },
   {
    "duration": 113,
    "start_time": "2023-03-14T15:31:38.155Z"
   },
   {
    "duration": 91,
    "start_time": "2023-03-14T15:31:49.996Z"
   },
   {
    "duration": 22,
    "start_time": "2023-03-14T15:32:07.634Z"
   },
   {
    "duration": 17,
    "start_time": "2023-03-14T15:32:54.396Z"
   },
   {
    "duration": 14,
    "start_time": "2023-03-14T15:33:02.718Z"
   },
   {
    "duration": 11,
    "start_time": "2023-03-14T15:33:12.437Z"
   },
   {
    "duration": 9,
    "start_time": "2023-03-14T15:33:18.224Z"
   },
   {
    "duration": 9,
    "start_time": "2023-03-14T15:35:32.106Z"
   },
   {
    "duration": 9,
    "start_time": "2023-03-14T15:36:01.389Z"
   },
   {
    "duration": 374,
    "start_time": "2023-03-14T15:36:03.511Z"
   },
   {
    "duration": 373,
    "start_time": "2023-03-14T15:36:11.171Z"
   },
   {
    "duration": 376,
    "start_time": "2023-03-14T15:36:16.197Z"
   },
   {
    "duration": 372,
    "start_time": "2023-03-14T15:36:23.532Z"
   },
   {
    "duration": 504,
    "start_time": "2023-03-14T15:36:30.030Z"
   },
   {
    "duration": 18,
    "start_time": "2023-03-14T15:37:45.395Z"
   },
   {
    "duration": 18,
    "start_time": "2023-03-14T15:37:57.248Z"
   },
   {
    "duration": 3,
    "start_time": "2023-03-14T15:38:41.722Z"
   },
   {
    "duration": 62,
    "start_time": "2023-03-14T15:38:41.727Z"
   },
   {
    "duration": 16,
    "start_time": "2023-03-14T15:38:41.791Z"
   },
   {
    "duration": 23,
    "start_time": "2023-03-14T15:38:41.809Z"
   },
   {
    "duration": 34,
    "start_time": "2023-03-14T15:38:41.834Z"
   },
   {
    "duration": 12,
    "start_time": "2023-03-14T15:38:41.873Z"
   },
   {
    "duration": 11,
    "start_time": "2023-03-14T15:38:41.887Z"
   },
   {
    "duration": 208,
    "start_time": "2023-03-14T15:38:41.900Z"
   },
   {
    "duration": 6,
    "start_time": "2023-03-14T15:38:42.111Z"
   },
   {
    "duration": 8,
    "start_time": "2023-03-14T15:38:42.119Z"
   },
   {
    "duration": 6,
    "start_time": "2023-03-14T15:38:42.129Z"
   },
   {
    "duration": 34,
    "start_time": "2023-03-14T15:38:42.137Z"
   },
   {
    "duration": 13,
    "start_time": "2023-03-14T15:38:42.172Z"
   },
   {
    "duration": 29,
    "start_time": "2023-03-14T15:38:42.187Z"
   },
   {
    "duration": 11,
    "start_time": "2023-03-14T15:38:42.218Z"
   },
   {
    "duration": 16,
    "start_time": "2023-03-14T15:38:42.231Z"
   },
   {
    "duration": 15,
    "start_time": "2023-03-14T15:38:42.249Z"
   },
   {
    "duration": 35,
    "start_time": "2023-03-14T15:38:42.275Z"
   },
   {
    "duration": 7,
    "start_time": "2023-03-14T15:38:42.312Z"
   },
   {
    "duration": 12,
    "start_time": "2023-03-14T15:38:42.320Z"
   },
   {
    "duration": 22,
    "start_time": "2023-03-14T15:38:42.333Z"
   },
   {
    "duration": 46,
    "start_time": "2023-03-14T15:38:42.357Z"
   },
   {
    "duration": 17,
    "start_time": "2023-03-14T15:38:42.405Z"
   },
   {
    "duration": 18,
    "start_time": "2023-03-14T15:38:42.426Z"
   },
   {
    "duration": 21,
    "start_time": "2023-03-14T15:38:42.446Z"
   },
   {
    "duration": 19,
    "start_time": "2023-03-14T15:38:42.480Z"
   },
   {
    "duration": 12,
    "start_time": "2023-03-14T15:38:42.501Z"
   },
   {
    "duration": 399,
    "start_time": "2023-03-14T15:38:42.515Z"
   },
   {
    "duration": 7,
    "start_time": "2023-03-14T15:38:42.917Z"
   },
   {
    "duration": 17,
    "start_time": "2023-03-14T15:38:42.926Z"
   },
   {
    "duration": 1786,
    "start_time": "2023-03-14T15:38:42.945Z"
   },
   {
    "duration": 9,
    "start_time": "2023-03-14T15:38:44.733Z"
   },
   {
    "duration": 38,
    "start_time": "2023-03-14T15:38:44.744Z"
   },
   {
    "duration": 280,
    "start_time": "2023-03-14T15:38:44.784Z"
   },
   {
    "duration": 460,
    "start_time": "2023-03-14T15:38:45.070Z"
   },
   {
    "duration": 7,
    "start_time": "2023-03-14T15:38:45.532Z"
   },
   {
    "duration": 167,
    "start_time": "2023-03-14T15:38:45.541Z"
   },
   {
    "duration": 171,
    "start_time": "2023-03-14T15:38:45.710Z"
   },
   {
    "duration": 7,
    "start_time": "2023-03-14T15:38:45.883Z"
   },
   {
    "duration": 21,
    "start_time": "2023-03-14T15:38:45.892Z"
   },
   {
    "duration": 12,
    "start_time": "2023-03-14T15:38:45.915Z"
   },
   {
    "duration": 9,
    "start_time": "2023-03-14T15:38:45.929Z"
   },
   {
    "duration": 15,
    "start_time": "2023-03-14T15:38:45.940Z"
   },
   {
    "duration": 28,
    "start_time": "2023-03-14T15:38:45.957Z"
   },
   {
    "duration": 13,
    "start_time": "2023-03-14T15:38:45.987Z"
   },
   {
    "duration": 13,
    "start_time": "2023-03-14T15:38:46.001Z"
   },
   {
    "duration": 16,
    "start_time": "2023-03-14T15:38:46.016Z"
   },
   {
    "duration": 21,
    "start_time": "2023-03-14T15:38:46.034Z"
   },
   {
    "duration": 322,
    "start_time": "2023-03-14T15:38:46.057Z"
   },
   {
    "duration": 402,
    "start_time": "2023-03-14T15:38:46.381Z"
   },
   {
    "duration": 13,
    "start_time": "2023-03-14T15:38:46.785Z"
   },
   {
    "duration": 19,
    "start_time": "2023-03-14T15:38:46.800Z"
   },
   {
    "duration": 14,
    "start_time": "2023-03-14T15:38:46.821Z"
   },
   {
    "duration": 14,
    "start_time": "2023-03-14T15:38:46.837Z"
   },
   {
    "duration": 25,
    "start_time": "2023-03-14T15:38:46.853Z"
   },
   {
    "duration": 383,
    "start_time": "2023-03-14T15:38:46.880Z"
   },
   {
    "duration": 12,
    "start_time": "2023-03-14T15:38:47.271Z"
   },
   {
    "duration": 31,
    "start_time": "2023-03-14T15:38:47.285Z"
   },
   {
    "duration": 63,
    "start_time": "2023-03-14T15:38:47.319Z"
   },
   {
    "duration": 500,
    "start_time": "2023-03-14T15:38:47.384Z"
   },
   {
    "duration": 19,
    "start_time": "2023-03-14T15:38:47.886Z"
   },
   {
    "duration": 0,
    "start_time": "2023-03-14T15:38:47.907Z"
   },
   {
    "duration": 0,
    "start_time": "2023-03-14T15:38:47.908Z"
   },
   {
    "duration": 0,
    "start_time": "2023-03-14T15:38:47.910Z"
   },
   {
    "duration": 0,
    "start_time": "2023-03-14T15:38:47.912Z"
   },
   {
    "duration": 0,
    "start_time": "2023-03-14T15:38:47.913Z"
   },
   {
    "duration": 0,
    "start_time": "2023-03-14T15:38:47.915Z"
   },
   {
    "duration": 0,
    "start_time": "2023-03-14T15:38:47.917Z"
   },
   {
    "duration": 148,
    "start_time": "2023-03-14T15:42:57.052Z"
   },
   {
    "duration": 15,
    "start_time": "2023-03-14T15:43:00.993Z"
   },
   {
    "duration": 6,
    "start_time": "2023-03-14T15:43:19.477Z"
   },
   {
    "duration": 11,
    "start_time": "2023-03-14T15:43:44.503Z"
   },
   {
    "duration": 460,
    "start_time": "2023-03-14T15:43:46.308Z"
   },
   {
    "duration": 6,
    "start_time": "2023-03-14T15:48:53.775Z"
   },
   {
    "duration": 15,
    "start_time": "2023-03-14T15:49:33.629Z"
   },
   {
    "duration": 19,
    "start_time": "2023-03-14T15:49:42.493Z"
   },
   {
    "duration": 31,
    "start_time": "2023-03-14T15:50:00.115Z"
   },
   {
    "duration": 15,
    "start_time": "2023-03-14T15:50:24.822Z"
   },
   {
    "duration": 23,
    "start_time": "2023-03-14T15:50:43.093Z"
   },
   {
    "duration": 28,
    "start_time": "2023-03-14T15:51:16.662Z"
   },
   {
    "duration": 1005,
    "start_time": "2023-03-14T15:51:30.454Z"
   },
   {
    "duration": 22,
    "start_time": "2023-03-14T15:51:38.480Z"
   },
   {
    "duration": 10,
    "start_time": "2023-03-14T15:52:00.295Z"
   },
   {
    "duration": 6,
    "start_time": "2023-03-14T15:52:24.358Z"
   },
   {
    "duration": 10,
    "start_time": "2023-03-14T17:28:58.037Z"
   },
   {
    "duration": 5,
    "start_time": "2023-03-14T17:29:16.416Z"
   },
   {
    "duration": 11,
    "start_time": "2023-03-14T17:29:47.121Z"
   },
   {
    "duration": 15,
    "start_time": "2023-03-14T17:30:03.995Z"
   },
   {
    "duration": 6,
    "start_time": "2023-03-14T17:30:05.787Z"
   },
   {
    "duration": 3,
    "start_time": "2023-03-14T17:34:57.055Z"
   },
   {
    "duration": 3,
    "start_time": "2023-03-14T17:35:59.009Z"
   },
   {
    "duration": 24,
    "start_time": "2023-03-14T17:37:03.638Z"
   },
   {
    "duration": 63,
    "start_time": "2023-03-14T17:37:24.178Z"
   },
   {
    "duration": 5,
    "start_time": "2023-03-14T17:37:28.192Z"
   },
   {
    "duration": 11,
    "start_time": "2023-03-14T17:37:31.391Z"
   },
   {
    "duration": 5,
    "start_time": "2023-03-14T17:37:32.045Z"
   },
   {
    "duration": 196,
    "start_time": "2023-03-14T17:37:32.862Z"
   },
   {
    "duration": 6,
    "start_time": "2023-03-14T17:38:00.493Z"
   },
   {
    "duration": 27,
    "start_time": "2023-03-14T17:38:11.892Z"
   },
   {
    "duration": 17,
    "start_time": "2023-03-14T17:40:00.245Z"
   },
   {
    "duration": 22,
    "start_time": "2023-03-14T17:40:22.260Z"
   },
   {
    "duration": 19,
    "start_time": "2023-03-14T17:40:31.331Z"
   },
   {
    "duration": 16,
    "start_time": "2023-03-14T17:40:41.889Z"
   },
   {
    "duration": 173,
    "start_time": "2023-03-14T17:40:46.962Z"
   },
   {
    "duration": 165,
    "start_time": "2023-03-14T17:40:51.220Z"
   },
   {
    "duration": 269,
    "start_time": "2023-03-14T17:41:11.554Z"
   },
   {
    "duration": 5,
    "start_time": "2023-03-14T17:41:27.960Z"
   },
   {
    "duration": 226,
    "start_time": "2023-03-14T17:41:39.560Z"
   },
   {
    "duration": 67,
    "start_time": "2023-03-14T17:42:42.206Z"
   },
   {
    "duration": 5,
    "start_time": "2023-03-14T17:42:45.695Z"
   },
   {
    "duration": 6,
    "start_time": "2023-03-14T17:42:51.133Z"
   },
   {
    "duration": 204,
    "start_time": "2023-03-14T17:42:52.078Z"
   },
   {
    "duration": 13,
    "start_time": "2023-03-14T17:43:05.657Z"
   },
   {
    "duration": 5,
    "start_time": "2023-03-14T17:43:12.726Z"
   },
   {
    "duration": 10,
    "start_time": "2023-03-14T17:43:35.132Z"
   },
   {
    "duration": 180,
    "start_time": "2023-03-14T17:43:51.792Z"
   },
   {
    "duration": 5,
    "start_time": "2023-03-14T17:43:54.992Z"
   },
   {
    "duration": 12,
    "start_time": "2023-03-14T17:43:56.992Z"
   },
   {
    "duration": 5,
    "start_time": "2023-03-14T17:44:50.777Z"
   },
   {
    "duration": 5,
    "start_time": "2023-03-14T17:45:06.518Z"
   },
   {
    "duration": 266,
    "start_time": "2023-03-14T17:45:14.272Z"
   },
   {
    "duration": 5,
    "start_time": "2023-03-14T17:45:28.391Z"
   },
   {
    "duration": 32,
    "start_time": "2023-03-14T17:48:06.716Z"
   },
   {
    "duration": 19,
    "start_time": "2023-03-14T17:48:41.635Z"
   },
   {
    "duration": 9,
    "start_time": "2023-03-14T17:54:06.600Z"
   },
   {
    "duration": 40,
    "start_time": "2023-03-14T17:55:56.691Z"
   },
   {
    "duration": 14,
    "start_time": "2023-03-14T17:56:08.916Z"
   },
   {
    "duration": 11,
    "start_time": "2023-03-14T17:57:32.624Z"
   },
   {
    "duration": 11,
    "start_time": "2023-03-14T17:57:44.383Z"
   },
   {
    "duration": 14,
    "start_time": "2023-03-14T17:58:29.499Z"
   },
   {
    "duration": 31,
    "start_time": "2023-03-14T17:59:04.303Z"
   },
   {
    "duration": 52,
    "start_time": "2023-03-14T18:00:49.395Z"
   },
   {
    "duration": 25,
    "start_time": "2023-03-14T18:02:23.777Z"
   },
   {
    "duration": 45,
    "start_time": "2023-03-14T18:02:42.648Z"
   },
   {
    "duration": 7,
    "start_time": "2023-03-14T18:04:08.269Z"
   },
   {
    "duration": 52,
    "start_time": "2023-03-14T18:04:11.608Z"
   },
   {
    "duration": 17,
    "start_time": "2023-03-14T18:04:30.738Z"
   },
   {
    "duration": 19,
    "start_time": "2023-03-14T18:04:55.271Z"
   },
   {
    "duration": 23,
    "start_time": "2023-03-14T18:05:14.170Z"
   },
   {
    "duration": 77,
    "start_time": "2023-03-14T18:06:59.510Z"
   },
   {
    "duration": 9,
    "start_time": "2023-03-14T18:09:20.300Z"
   },
   {
    "duration": 23,
    "start_time": "2023-03-14T18:09:26.396Z"
   },
   {
    "duration": 26,
    "start_time": "2023-03-14T18:10:24.611Z"
   },
   {
    "duration": 5,
    "start_time": "2023-03-14T18:10:37.151Z"
   },
   {
    "duration": 9,
    "start_time": "2023-03-14T18:10:47.968Z"
   },
   {
    "duration": 7,
    "start_time": "2023-03-14T18:11:10.297Z"
   },
   {
    "duration": 6,
    "start_time": "2023-03-14T18:11:47.697Z"
   },
   {
    "duration": 6,
    "start_time": "2023-03-14T18:12:02.247Z"
   },
   {
    "duration": 36,
    "start_time": "2023-03-14T18:23:12.270Z"
   },
   {
    "duration": 7,
    "start_time": "2023-03-14T18:24:15.603Z"
   },
   {
    "duration": 5,
    "start_time": "2023-03-14T18:33:37.771Z"
   },
   {
    "duration": 7,
    "start_time": "2023-03-14T18:34:13.142Z"
   },
   {
    "duration": 5,
    "start_time": "2023-03-14T18:34:43.161Z"
   },
   {
    "duration": 7,
    "start_time": "2023-03-14T18:34:45.296Z"
   },
   {
    "duration": 3,
    "start_time": "2023-03-14T18:35:00.079Z"
   },
   {
    "duration": 28,
    "start_time": "2023-03-14T18:35:00.094Z"
   },
   {
    "duration": 91,
    "start_time": "2023-03-14T18:35:00.125Z"
   },
   {
    "duration": 15,
    "start_time": "2023-03-14T18:35:00.218Z"
   },
   {
    "duration": 72,
    "start_time": "2023-03-14T18:35:00.235Z"
   },
   {
    "duration": 23,
    "start_time": "2023-03-14T18:35:00.308Z"
   },
   {
    "duration": 78,
    "start_time": "2023-03-14T18:35:00.333Z"
   },
   {
    "duration": 27,
    "start_time": "2023-03-14T18:35:00.413Z"
   },
   {
    "duration": 223,
    "start_time": "2023-03-14T18:35:00.442Z"
   },
   {
    "duration": 6,
    "start_time": "2023-03-14T18:35:00.667Z"
   },
   {
    "duration": 208,
    "start_time": "2023-03-14T18:35:00.677Z"
   },
   {
    "duration": 5,
    "start_time": "2023-03-14T18:35:00.887Z"
   },
   {
    "duration": 55,
    "start_time": "2023-03-14T18:35:00.893Z"
   },
   {
    "duration": 277,
    "start_time": "2023-03-14T18:35:00.950Z"
   },
   {
    "duration": 5,
    "start_time": "2023-03-14T18:35:01.229Z"
   },
   {
    "duration": 47,
    "start_time": "2023-03-14T18:35:01.236Z"
   },
   {
    "duration": 93,
    "start_time": "2023-03-14T18:35:01.285Z"
   },
   {
    "duration": 32,
    "start_time": "2023-03-14T18:35:01.380Z"
   },
   {
    "duration": 29,
    "start_time": "2023-03-14T18:35:01.414Z"
   },
   {
    "duration": 69,
    "start_time": "2023-03-14T18:35:01.444Z"
   },
   {
    "duration": 70,
    "start_time": "2023-03-14T18:35:01.515Z"
   },
   {
    "duration": 84,
    "start_time": "2023-03-14T18:35:01.587Z"
   },
   {
    "duration": 42,
    "start_time": "2023-03-14T18:35:01.673Z"
   },
   {
    "duration": 56,
    "start_time": "2023-03-14T18:35:01.717Z"
   },
   {
    "duration": 52,
    "start_time": "2023-03-14T18:35:01.775Z"
   },
   {
    "duration": 47,
    "start_time": "2023-03-14T18:35:01.829Z"
   },
   {
    "duration": 50,
    "start_time": "2023-03-14T18:35:01.878Z"
   },
   {
    "duration": 33,
    "start_time": "2023-03-14T18:35:01.930Z"
   },
   {
    "duration": 44,
    "start_time": "2023-03-14T18:35:01.968Z"
   },
   {
    "duration": 80,
    "start_time": "2023-03-14T18:35:02.014Z"
   },
   {
    "duration": 7,
    "start_time": "2023-03-14T18:35:02.096Z"
   },
   {
    "duration": 33,
    "start_time": "2023-03-14T18:35:02.104Z"
   },
   {
    "duration": 40,
    "start_time": "2023-03-14T18:35:02.139Z"
   },
   {
    "duration": 46,
    "start_time": "2023-03-14T18:35:02.180Z"
   },
   {
    "duration": 15,
    "start_time": "2023-03-14T18:35:02.227Z"
   },
   {
    "duration": 39,
    "start_time": "2023-03-14T18:35:02.243Z"
   },
   {
    "duration": 21,
    "start_time": "2023-03-14T18:35:02.284Z"
   },
   {
    "duration": 27,
    "start_time": "2023-03-14T18:35:02.307Z"
   },
   {
    "duration": 28,
    "start_time": "2023-03-14T18:35:02.336Z"
   },
   {
    "duration": 336,
    "start_time": "2023-03-14T18:35:02.367Z"
   },
   {
    "duration": 7,
    "start_time": "2023-03-14T18:35:02.705Z"
   },
   {
    "duration": 31,
    "start_time": "2023-03-14T18:35:02.714Z"
   },
   {
    "duration": 1845,
    "start_time": "2023-03-14T18:35:02.747Z"
   },
   {
    "duration": 8,
    "start_time": "2023-03-14T18:35:04.594Z"
   },
   {
    "duration": 19,
    "start_time": "2023-03-14T18:35:04.604Z"
   },
   {
    "duration": 257,
    "start_time": "2023-03-14T18:35:04.626Z"
   },
   {
    "duration": 323,
    "start_time": "2023-03-14T18:35:04.885Z"
   },
   {
    "duration": 8,
    "start_time": "2023-03-14T18:35:05.209Z"
   },
   {
    "duration": 160,
    "start_time": "2023-03-14T18:35:05.218Z"
   },
   {
    "duration": 154,
    "start_time": "2023-03-14T18:35:05.380Z"
   },
   {
    "duration": 12,
    "start_time": "2023-03-14T18:35:05.536Z"
   },
   {
    "duration": 17,
    "start_time": "2023-03-14T18:35:05.550Z"
   },
   {
    "duration": 20,
    "start_time": "2023-03-14T18:35:05.569Z"
   },
   {
    "duration": 21,
    "start_time": "2023-03-14T18:35:05.591Z"
   },
   {
    "duration": 19,
    "start_time": "2023-03-14T18:35:05.614Z"
   },
   {
    "duration": 22,
    "start_time": "2023-03-14T18:35:05.635Z"
   },
   {
    "duration": 28,
    "start_time": "2023-03-14T18:35:05.659Z"
   },
   {
    "duration": 20,
    "start_time": "2023-03-14T18:35:05.689Z"
   },
   {
    "duration": 22,
    "start_time": "2023-03-14T18:35:05.711Z"
   },
   {
    "duration": 25,
    "start_time": "2023-03-14T18:35:05.734Z"
   },
   {
    "duration": 283,
    "start_time": "2023-03-14T18:35:05.761Z"
   },
   {
    "duration": 493,
    "start_time": "2023-03-14T18:35:06.046Z"
   },
   {
    "duration": 11,
    "start_time": "2023-03-14T18:35:06.540Z"
   },
   {
    "duration": 19,
    "start_time": "2023-03-14T18:35:06.552Z"
   },
   {
    "duration": 12,
    "start_time": "2023-03-14T18:35:06.573Z"
   },
   {
    "duration": 8,
    "start_time": "2023-03-14T18:35:06.587Z"
   },
   {
    "duration": 16,
    "start_time": "2023-03-14T18:35:06.597Z"
   },
   {
    "duration": 401,
    "start_time": "2023-03-14T18:35:06.615Z"
   },
   {
    "duration": 7,
    "start_time": "2023-03-14T18:35:07.018Z"
   },
   {
    "duration": 13,
    "start_time": "2023-03-14T18:35:07.028Z"
   },
   {
    "duration": 10,
    "start_time": "2023-03-14T18:35:07.043Z"
   },
   {
    "duration": 347,
    "start_time": "2023-03-14T18:35:07.065Z"
   },
   {
    "duration": 18,
    "start_time": "2023-03-14T18:35:07.414Z"
   },
   {
    "duration": 1,
    "start_time": "2023-03-14T18:35:07.434Z"
   },
   {
    "duration": 0,
    "start_time": "2023-03-14T18:35:07.436Z"
   },
   {
    "duration": 0,
    "start_time": "2023-03-14T18:35:07.437Z"
   },
   {
    "duration": 0,
    "start_time": "2023-03-14T18:35:07.439Z"
   },
   {
    "duration": 0,
    "start_time": "2023-03-14T18:35:07.465Z"
   },
   {
    "duration": 0,
    "start_time": "2023-03-14T18:35:07.466Z"
   },
   {
    "duration": 0,
    "start_time": "2023-03-14T18:35:07.468Z"
   },
   {
    "duration": 16,
    "start_time": "2023-03-14T18:44:16.249Z"
   },
   {
    "duration": 24,
    "start_time": "2023-03-14T18:44:24.534Z"
   },
   {
    "duration": 6376,
    "start_time": "2023-03-14T18:44:48.123Z"
   },
   {
    "duration": 6400,
    "start_time": "2023-03-14T18:45:14.105Z"
   },
   {
    "duration": 16,
    "start_time": "2023-03-14T18:46:17.606Z"
   },
   {
    "duration": 6240,
    "start_time": "2023-03-14T18:46:55.203Z"
   },
   {
    "duration": 6646,
    "start_time": "2023-03-14T18:47:50.858Z"
   },
   {
    "duration": 23,
    "start_time": "2023-03-14T18:48:14.397Z"
   },
   {
    "duration": 17,
    "start_time": "2023-03-14T18:48:30.532Z"
   },
   {
    "duration": 23,
    "start_time": "2023-03-14T18:48:59.696Z"
   },
   {
    "duration": 25,
    "start_time": "2023-03-14T18:50:04.939Z"
   },
   {
    "duration": 27,
    "start_time": "2023-03-14T18:50:20.433Z"
   },
   {
    "duration": 28,
    "start_time": "2023-03-14T18:50:57.723Z"
   },
   {
    "duration": 21,
    "start_time": "2023-03-14T18:51:14.096Z"
   },
   {
    "duration": 7,
    "start_time": "2023-03-14T18:51:54.548Z"
   },
   {
    "duration": 161,
    "start_time": "2023-03-14T18:52:33.014Z"
   },
   {
    "duration": 157,
    "start_time": "2023-03-14T18:52:37.334Z"
   },
   {
    "duration": 27,
    "start_time": "2023-03-14T18:53:15.814Z"
   },
   {
    "duration": 166,
    "start_time": "2023-03-14T18:53:49.423Z"
   },
   {
    "duration": 149,
    "start_time": "2023-03-14T18:54:31.645Z"
   },
   {
    "duration": 108,
    "start_time": "2023-03-14T18:55:07.956Z"
   },
   {
    "duration": 3,
    "start_time": "2023-03-14T18:56:54.820Z"
   },
   {
    "duration": 10,
    "start_time": "2023-03-14T18:56:55.443Z"
   },
   {
    "duration": 4,
    "start_time": "2023-03-14T18:56:58.640Z"
   },
   {
    "duration": 12,
    "start_time": "2023-03-14T18:57:04.577Z"
   },
   {
    "duration": 6,
    "start_time": "2023-03-14T18:57:05.441Z"
   },
   {
    "duration": 11,
    "start_time": "2023-03-14T18:58:11.638Z"
   },
   {
    "duration": 6,
    "start_time": "2023-03-14T18:58:12.108Z"
   },
   {
    "duration": 5,
    "start_time": "2023-03-14T18:58:25.007Z"
   },
   {
    "duration": 183,
    "start_time": "2023-03-14T19:00:45.839Z"
   },
   {
    "duration": 157,
    "start_time": "2023-03-14T19:00:51.774Z"
   },
   {
    "duration": 124,
    "start_time": "2023-03-14T19:00:54.604Z"
   },
   {
    "duration": 726,
    "start_time": "2023-03-15T13:38:15.026Z"
   },
   {
    "duration": 790,
    "start_time": "2023-03-15T13:38:15.754Z"
   },
   {
    "duration": 101,
    "start_time": "2023-03-15T13:38:16.546Z"
   },
   {
    "duration": 87,
    "start_time": "2023-03-15T13:38:16.649Z"
   },
   {
    "duration": 16,
    "start_time": "2023-03-15T13:38:16.738Z"
   },
   {
    "duration": 69,
    "start_time": "2023-03-15T13:38:16.756Z"
   },
   {
    "duration": 11,
    "start_time": "2023-03-15T13:38:16.827Z"
   },
   {
    "duration": 4,
    "start_time": "2023-03-15T13:38:16.840Z"
   },
   {
    "duration": 913,
    "start_time": "2023-03-15T13:38:16.846Z"
   },
   {
    "duration": 64,
    "start_time": "2023-03-15T13:38:17.761Z"
   },
   {
    "duration": 344,
    "start_time": "2023-03-15T13:38:17.827Z"
   },
   {
    "duration": 5,
    "start_time": "2023-03-15T13:38:18.224Z"
   },
   {
    "duration": 5,
    "start_time": "2023-03-15T13:38:18.231Z"
   },
   {
    "duration": 490,
    "start_time": "2023-03-15T13:38:18.239Z"
   },
   {
    "duration": 6,
    "start_time": "2023-03-15T13:38:18.731Z"
   },
   {
    "duration": 26,
    "start_time": "2023-03-15T13:38:18.739Z"
   },
   {
    "duration": 76,
    "start_time": "2023-03-15T13:38:18.768Z"
   },
   {
    "duration": 7,
    "start_time": "2023-03-15T13:38:18.846Z"
   },
   {
    "duration": 73,
    "start_time": "2023-03-15T13:38:18.855Z"
   },
   {
    "duration": 11,
    "start_time": "2023-03-15T13:38:18.930Z"
   },
   {
    "duration": 6,
    "start_time": "2023-03-15T13:38:18.943Z"
   },
   {
    "duration": 7,
    "start_time": "2023-03-15T13:38:18.951Z"
   },
   {
    "duration": 74,
    "start_time": "2023-03-15T13:38:18.960Z"
   },
   {
    "duration": 26,
    "start_time": "2023-03-15T13:38:19.036Z"
   },
   {
    "duration": 61,
    "start_time": "2023-03-15T13:38:19.065Z"
   },
   {
    "duration": 19,
    "start_time": "2023-03-15T13:38:19.129Z"
   },
   {
    "duration": 6,
    "start_time": "2023-03-15T13:38:19.150Z"
   },
   {
    "duration": 90,
    "start_time": "2023-03-15T13:38:19.158Z"
   },
   {
    "duration": 6,
    "start_time": "2023-03-15T13:38:19.250Z"
   },
   {
    "duration": 8,
    "start_time": "2023-03-15T13:38:19.258Z"
   },
   {
    "duration": 16,
    "start_time": "2023-03-15T13:38:19.324Z"
   },
   {
    "duration": 89,
    "start_time": "2023-03-15T13:38:19.342Z"
   },
   {
    "duration": 8,
    "start_time": "2023-03-15T13:38:19.433Z"
   },
   {
    "duration": 86,
    "start_time": "2023-03-15T13:38:19.443Z"
   },
   {
    "duration": 18,
    "start_time": "2023-03-15T13:38:19.531Z"
   },
   {
    "duration": 13,
    "start_time": "2023-03-15T13:38:19.551Z"
   },
   {
    "duration": 11,
    "start_time": "2023-03-15T13:38:19.624Z"
   },
   {
    "duration": 691,
    "start_time": "2023-03-15T13:38:19.637Z"
   },
   {
    "duration": 6,
    "start_time": "2023-03-15T13:38:20.330Z"
   },
   {
    "duration": 10,
    "start_time": "2023-03-15T13:38:20.338Z"
   },
   {
    "duration": 3272,
    "start_time": "2023-03-15T13:38:20.352Z"
   },
   {
    "duration": 6,
    "start_time": "2023-03-15T13:38:23.625Z"
   },
   {
    "duration": 9,
    "start_time": "2023-03-15T13:38:23.633Z"
   },
   {
    "duration": 617,
    "start_time": "2023-03-15T13:38:23.643Z"
   },
   {
    "duration": 581,
    "start_time": "2023-03-15T13:38:24.261Z"
   },
   {
    "duration": 6,
    "start_time": "2023-03-15T13:38:24.844Z"
   },
   {
    "duration": 288,
    "start_time": "2023-03-15T13:38:24.851Z"
   },
   {
    "duration": 294,
    "start_time": "2023-03-15T13:38:25.141Z"
   },
   {
    "duration": 6,
    "start_time": "2023-03-15T13:38:25.436Z"
   },
   {
    "duration": 8,
    "start_time": "2023-03-15T13:38:25.443Z"
   },
   {
    "duration": 76,
    "start_time": "2023-03-15T13:38:25.452Z"
   },
   {
    "duration": 15,
    "start_time": "2023-03-15T13:38:25.529Z"
   },
   {
    "duration": 36,
    "start_time": "2023-03-15T13:38:25.546Z"
   },
   {
    "duration": 8,
    "start_time": "2023-03-15T13:38:25.624Z"
   },
   {
    "duration": 27,
    "start_time": "2023-03-15T13:38:25.635Z"
   },
   {
    "duration": 63,
    "start_time": "2023-03-15T13:38:25.663Z"
   },
   {
    "duration": 6,
    "start_time": "2023-03-15T13:38:25.728Z"
   },
   {
    "duration": 10,
    "start_time": "2023-03-15T13:38:25.736Z"
   },
   {
    "duration": 491,
    "start_time": "2023-03-15T13:38:25.748Z"
   },
   {
    "duration": 690,
    "start_time": "2023-03-15T13:38:26.241Z"
   },
   {
    "duration": 8,
    "start_time": "2023-03-15T13:38:26.932Z"
   },
   {
    "duration": 19,
    "start_time": "2023-03-15T13:38:26.942Z"
   },
   {
    "duration": 64,
    "start_time": "2023-03-15T13:38:26.963Z"
   },
   {
    "duration": 4,
    "start_time": "2023-03-15T13:38:27.028Z"
   },
   {
    "duration": 17,
    "start_time": "2023-03-15T13:38:27.033Z"
   },
   {
    "duration": 673,
    "start_time": "2023-03-15T13:38:27.052Z"
   },
   {
    "duration": 7,
    "start_time": "2023-03-15T13:38:27.727Z"
   },
   {
    "duration": 7,
    "start_time": "2023-03-15T13:38:27.736Z"
   },
   {
    "duration": 7,
    "start_time": "2023-03-15T13:38:27.744Z"
   },
   {
    "duration": 873,
    "start_time": "2023-03-15T13:38:27.753Z"
   },
   {
    "duration": 330,
    "start_time": "2023-03-15T13:38:28.628Z"
   },
   {
    "duration": 293,
    "start_time": "2023-03-15T13:38:28.960Z"
   },
   {
    "duration": 199,
    "start_time": "2023-03-15T13:38:29.256Z"
   },
   {
    "duration": 2,
    "start_time": "2023-03-15T13:38:29.457Z"
   },
   {
    "duration": 70,
    "start_time": "2023-03-15T13:38:29.460Z"
   },
   {
    "duration": 6,
    "start_time": "2023-03-15T13:38:29.532Z"
   },
   {
    "duration": 9,
    "start_time": "2023-03-15T13:38:29.540Z"
   },
   {
    "duration": 5,
    "start_time": "2023-03-15T13:38:29.551Z"
   },
   {
    "duration": 2534,
    "start_time": "2023-03-15T14:16:26.712Z"
   },
   {
    "duration": 1460,
    "start_time": "2023-03-15T14:16:32.292Z"
   },
   {
    "duration": 7,
    "start_time": "2023-03-15T14:38:25.121Z"
   },
   {
    "duration": 16,
    "start_time": "2023-03-15T14:38:32.018Z"
   },
   {
    "duration": 18,
    "start_time": "2023-03-15T14:39:00.330Z"
   },
   {
    "duration": 13,
    "start_time": "2023-03-15T14:39:06.740Z"
   },
   {
    "duration": 6,
    "start_time": "2023-03-15T14:43:26.941Z"
   },
   {
    "duration": 447,
    "start_time": "2023-03-15T14:54:31.250Z"
   },
   {
    "duration": 469,
    "start_time": "2023-03-15T14:54:31.699Z"
   },
   {
    "duration": 51,
    "start_time": "2023-03-15T14:54:32.170Z"
   },
   {
    "duration": 21,
    "start_time": "2023-03-15T14:54:32.223Z"
   },
   {
    "duration": 57,
    "start_time": "2023-03-15T14:54:32.247Z"
   },
   {
    "duration": 11,
    "start_time": "2023-03-15T14:54:32.306Z"
   },
   {
    "duration": 21,
    "start_time": "2023-03-15T14:54:32.319Z"
   },
   {
    "duration": 15,
    "start_time": "2023-03-15T14:54:32.341Z"
   },
   {
    "duration": 483,
    "start_time": "2023-03-15T14:54:32.358Z"
   },
   {
    "duration": 6,
    "start_time": "2023-03-15T14:54:32.843Z"
   },
   {
    "duration": 177,
    "start_time": "2023-03-15T14:54:32.850Z"
   },
   {
    "duration": 5,
    "start_time": "2023-03-15T14:54:33.028Z"
   },
   {
    "duration": 11,
    "start_time": "2023-03-15T14:54:33.035Z"
   },
   {
    "duration": 217,
    "start_time": "2023-03-15T14:54:33.048Z"
   },
   {
    "duration": 5,
    "start_time": "2023-03-15T14:54:33.267Z"
   },
   {
    "duration": 6,
    "start_time": "2023-03-15T14:54:33.274Z"
   },
   {
    "duration": 19,
    "start_time": "2023-03-15T14:54:33.281Z"
   },
   {
    "duration": 27,
    "start_time": "2023-03-15T14:54:33.302Z"
   },
   {
    "duration": 5,
    "start_time": "2023-03-15T14:54:33.331Z"
   },
   {
    "duration": 25,
    "start_time": "2023-03-15T14:54:33.338Z"
   },
   {
    "duration": 11,
    "start_time": "2023-03-15T14:54:33.365Z"
   },
   {
    "duration": 10,
    "start_time": "2023-03-15T14:54:33.377Z"
   },
   {
    "duration": 10,
    "start_time": "2023-03-15T14:54:33.389Z"
   },
   {
    "duration": 26,
    "start_time": "2023-03-15T14:54:33.401Z"
   },
   {
    "duration": 25,
    "start_time": "2023-03-15T14:54:33.428Z"
   },
   {
    "duration": 18,
    "start_time": "2023-03-15T14:54:33.454Z"
   },
   {
    "duration": 4,
    "start_time": "2023-03-15T14:54:33.473Z"
   },
   {
    "duration": 29,
    "start_time": "2023-03-15T14:54:33.479Z"
   },
   {
    "duration": 5,
    "start_time": "2023-03-15T14:54:33.510Z"
   },
   {
    "duration": 23,
    "start_time": "2023-03-15T14:54:33.517Z"
   },
   {
    "duration": 25,
    "start_time": "2023-03-15T14:54:33.542Z"
   },
   {
    "duration": 25,
    "start_time": "2023-03-15T14:54:33.569Z"
   },
   {
    "duration": 11,
    "start_time": "2023-03-15T14:54:33.596Z"
   },
   {
    "duration": 15,
    "start_time": "2023-03-15T14:54:33.609Z"
   },
   {
    "duration": 12,
    "start_time": "2023-03-15T14:54:33.626Z"
   },
   {
    "duration": 17,
    "start_time": "2023-03-15T14:54:33.640Z"
   },
   {
    "duration": 9,
    "start_time": "2023-03-15T14:54:33.659Z"
   },
   {
    "duration": 303,
    "start_time": "2023-03-15T14:54:33.669Z"
   },
   {
    "duration": 6,
    "start_time": "2023-03-15T14:54:33.973Z"
   },
   {
    "duration": 6,
    "start_time": "2023-03-15T14:54:33.980Z"
   },
   {
    "duration": 1547,
    "start_time": "2023-03-15T14:54:33.990Z"
   },
   {
    "duration": 6,
    "start_time": "2023-03-15T14:54:35.539Z"
   },
   {
    "duration": 17,
    "start_time": "2023-03-15T14:54:35.546Z"
   },
   {
    "duration": 307,
    "start_time": "2023-03-15T14:54:35.565Z"
   },
   {
    "duration": 288,
    "start_time": "2023-03-15T14:54:35.874Z"
   },
   {
    "duration": 6,
    "start_time": "2023-03-15T14:54:36.164Z"
   },
   {
    "duration": 142,
    "start_time": "2023-03-15T14:54:36.171Z"
   },
   {
    "duration": 136,
    "start_time": "2023-03-15T14:54:36.314Z"
   },
   {
    "duration": 6,
    "start_time": "2023-03-15T14:54:36.452Z"
   },
   {
    "duration": 18,
    "start_time": "2023-03-15T14:54:36.459Z"
   },
   {
    "duration": 30,
    "start_time": "2023-03-15T14:54:36.479Z"
   },
   {
    "duration": 7,
    "start_time": "2023-03-15T14:54:36.511Z"
   },
   {
    "duration": 5,
    "start_time": "2023-03-15T14:54:36.520Z"
   },
   {
    "duration": 14,
    "start_time": "2023-03-15T14:54:36.527Z"
   },
   {
    "duration": 8,
    "start_time": "2023-03-15T14:54:36.542Z"
   },
   {
    "duration": 8,
    "start_time": "2023-03-15T14:54:36.551Z"
   },
   {
    "duration": 7,
    "start_time": "2023-03-15T14:54:36.560Z"
   },
   {
    "duration": 16,
    "start_time": "2023-03-15T14:54:36.568Z"
   },
   {
    "duration": 274,
    "start_time": "2023-03-15T14:54:36.586Z"
   },
   {
    "duration": 336,
    "start_time": "2023-03-15T14:54:36.861Z"
   },
   {
    "duration": 10,
    "start_time": "2023-03-15T14:54:37.199Z"
   },
   {
    "duration": 20,
    "start_time": "2023-03-15T14:54:37.210Z"
   },
   {
    "duration": 8,
    "start_time": "2023-03-15T14:54:37.232Z"
   },
   {
    "duration": 4,
    "start_time": "2023-03-15T14:54:37.242Z"
   },
   {
    "duration": 4,
    "start_time": "2023-03-15T14:54:37.248Z"
   },
   {
    "duration": 345,
    "start_time": "2023-03-15T14:54:37.253Z"
   },
   {
    "duration": 9,
    "start_time": "2023-03-15T14:54:37.600Z"
   },
   {
    "duration": 24,
    "start_time": "2023-03-15T14:54:37.611Z"
   },
   {
    "duration": 8,
    "start_time": "2023-03-15T14:54:37.637Z"
   },
   {
    "duration": 426,
    "start_time": "2023-03-15T14:54:37.647Z"
   },
   {
    "duration": 150,
    "start_time": "2023-03-15T14:54:38.075Z"
   },
   {
    "duration": 138,
    "start_time": "2023-03-15T14:54:38.227Z"
   },
   {
    "duration": 102,
    "start_time": "2023-03-15T14:54:38.367Z"
   },
   {
    "duration": 12,
    "start_time": "2023-03-15T14:54:38.471Z"
   },
   {
    "duration": 3,
    "start_time": "2023-03-15T14:54:38.485Z"
   },
   {
    "duration": 8,
    "start_time": "2023-03-15T14:54:38.490Z"
   },
   {
    "duration": 23,
    "start_time": "2023-03-15T14:54:38.500Z"
   },
   {
    "duration": 7,
    "start_time": "2023-03-15T14:54:38.525Z"
   },
   {
    "duration": 13,
    "start_time": "2023-03-15T14:54:38.534Z"
   },
   {
    "duration": 5,
    "start_time": "2023-03-15T14:54:38.549Z"
   },
   {
    "duration": 55,
    "start_time": "2023-03-15T15:07:56.019Z"
   },
   {
    "duration": 71,
    "start_time": "2023-03-15T15:21:07.304Z"
   },
   {
    "duration": 429,
    "start_time": "2023-03-15T15:21:16.473Z"
   },
   {
    "duration": 496,
    "start_time": "2023-03-15T15:21:16.904Z"
   },
   {
    "duration": 161,
    "start_time": "2023-03-15T15:21:17.401Z"
   },
   {
    "duration": 30,
    "start_time": "2023-03-15T15:21:17.565Z"
   },
   {
    "duration": 17,
    "start_time": "2023-03-15T15:21:17.597Z"
   },
   {
    "duration": 5,
    "start_time": "2023-03-15T15:21:17.616Z"
   },
   {
    "duration": 36,
    "start_time": "2023-03-15T15:21:17.622Z"
   },
   {
    "duration": 5,
    "start_time": "2023-03-15T15:21:17.660Z"
   },
   {
    "duration": 643,
    "start_time": "2023-03-15T15:21:17.666Z"
   },
   {
    "duration": 7,
    "start_time": "2023-03-15T15:21:18.312Z"
   },
   {
    "duration": 11,
    "start_time": "2023-03-15T15:21:18.320Z"
   },
   {
    "duration": 40,
    "start_time": "2023-03-15T15:21:18.333Z"
   },
   {
    "duration": 7,
    "start_time": "2023-03-15T15:21:18.375Z"
   },
   {
    "duration": 5,
    "start_time": "2023-03-15T15:21:18.384Z"
   },
   {
    "duration": 5,
    "start_time": "2023-03-15T15:21:18.391Z"
   },
   {
    "duration": 7,
    "start_time": "2023-03-15T15:21:18.398Z"
   },
   {
    "duration": 7,
    "start_time": "2023-03-15T15:21:18.406Z"
   },
   {
    "duration": 7,
    "start_time": "2023-03-15T15:21:18.414Z"
   },
   {
    "duration": 38,
    "start_time": "2023-03-15T15:21:18.423Z"
   },
   {
    "duration": 3,
    "start_time": "2023-03-15T15:21:18.463Z"
   },
   {
    "duration": 23,
    "start_time": "2023-03-15T15:21:18.468Z"
   },
   {
    "duration": 6,
    "start_time": "2023-03-15T15:21:18.492Z"
   },
   {
    "duration": 4,
    "start_time": "2023-03-15T15:21:18.499Z"
   },
   {
    "duration": 14,
    "start_time": "2023-03-15T15:21:18.505Z"
   },
   {
    "duration": 23,
    "start_time": "2023-03-15T15:21:18.556Z"
   },
   {
    "duration": 9,
    "start_time": "2023-03-15T15:21:18.581Z"
   },
   {
    "duration": 15,
    "start_time": "2023-03-15T15:21:18.592Z"
   },
   {
    "duration": 43,
    "start_time": "2023-03-15T15:21:18.612Z"
   },
   {
    "duration": 11,
    "start_time": "2023-03-15T15:21:18.657Z"
   },
   {
    "duration": 11,
    "start_time": "2023-03-15T15:21:18.669Z"
   },
   {
    "duration": 286,
    "start_time": "2023-03-15T15:21:18.682Z"
   },
   {
    "duration": 6,
    "start_time": "2023-03-15T15:21:18.970Z"
   },
   {
    "duration": 6,
    "start_time": "2023-03-15T15:21:18.977Z"
   },
   {
    "duration": 13,
    "start_time": "2023-03-15T15:21:18.985Z"
   },
   {
    "duration": 6,
    "start_time": "2023-03-15T15:21:19.000Z"
   },
   {
    "duration": 8,
    "start_time": "2023-03-15T15:21:19.007Z"
   },
   {
    "duration": 250,
    "start_time": "2023-03-15T15:21:19.017Z"
   },
   {
    "duration": 300,
    "start_time": "2023-03-15T15:21:19.269Z"
   },
   {
    "duration": 6,
    "start_time": "2023-03-15T15:21:19.571Z"
   },
   {
    "duration": 144,
    "start_time": "2023-03-15T15:21:19.579Z"
   },
   {
    "duration": 182,
    "start_time": "2023-03-15T15:21:19.725Z"
   },
   {
    "duration": 0,
    "start_time": "2023-03-15T15:21:19.908Z"
   },
   {
    "duration": 0,
    "start_time": "2023-03-15T15:21:19.909Z"
   },
   {
    "duration": 0,
    "start_time": "2023-03-15T15:21:19.910Z"
   },
   {
    "duration": 0,
    "start_time": "2023-03-15T15:21:19.911Z"
   },
   {
    "duration": 0,
    "start_time": "2023-03-15T15:21:19.913Z"
   },
   {
    "duration": 0,
    "start_time": "2023-03-15T15:21:19.913Z"
   },
   {
    "duration": 0,
    "start_time": "2023-03-15T15:21:19.914Z"
   },
   {
    "duration": 0,
    "start_time": "2023-03-15T15:21:19.916Z"
   },
   {
    "duration": 0,
    "start_time": "2023-03-15T15:21:19.917Z"
   },
   {
    "duration": 0,
    "start_time": "2023-03-15T15:21:19.918Z"
   },
   {
    "duration": 0,
    "start_time": "2023-03-15T15:21:19.919Z"
   },
   {
    "duration": 0,
    "start_time": "2023-03-15T15:21:19.920Z"
   },
   {
    "duration": 0,
    "start_time": "2023-03-15T15:21:19.921Z"
   },
   {
    "duration": 0,
    "start_time": "2023-03-15T15:21:19.922Z"
   },
   {
    "duration": 0,
    "start_time": "2023-03-15T15:21:19.923Z"
   },
   {
    "duration": 0,
    "start_time": "2023-03-15T15:21:19.925Z"
   },
   {
    "duration": 0,
    "start_time": "2023-03-15T15:21:19.955Z"
   },
   {
    "duration": 0,
    "start_time": "2023-03-15T15:21:19.956Z"
   },
   {
    "duration": 0,
    "start_time": "2023-03-15T15:21:19.957Z"
   },
   {
    "duration": 0,
    "start_time": "2023-03-15T15:21:19.958Z"
   },
   {
    "duration": 0,
    "start_time": "2023-03-15T15:21:19.959Z"
   },
   {
    "duration": 0,
    "start_time": "2023-03-15T15:21:19.960Z"
   },
   {
    "duration": 0,
    "start_time": "2023-03-15T15:21:19.961Z"
   },
   {
    "duration": 0,
    "start_time": "2023-03-15T15:21:19.961Z"
   },
   {
    "duration": 0,
    "start_time": "2023-03-15T15:21:19.963Z"
   },
   {
    "duration": 0,
    "start_time": "2023-03-15T15:21:19.964Z"
   },
   {
    "duration": 0,
    "start_time": "2023-03-15T15:21:19.965Z"
   },
   {
    "duration": 0,
    "start_time": "2023-03-15T15:21:19.965Z"
   },
   {
    "duration": 0,
    "start_time": "2023-03-15T15:21:19.967Z"
   },
   {
    "duration": 0,
    "start_time": "2023-03-15T15:21:19.967Z"
   },
   {
    "duration": 0,
    "start_time": "2023-03-15T15:21:20.085Z"
   },
   {
    "duration": 0,
    "start_time": "2023-03-15T15:21:20.086Z"
   },
   {
    "duration": 453,
    "start_time": "2023-03-15T15:22:24.076Z"
   },
   {
    "duration": 482,
    "start_time": "2023-03-15T15:23:20.672Z"
   },
   {
    "duration": 8,
    "start_time": "2023-03-15T15:25:00.303Z"
   },
   {
    "duration": 11,
    "start_time": "2023-03-15T15:25:12.704Z"
   },
   {
    "duration": 2,
    "start_time": "2023-03-15T15:25:23.105Z"
   },
   {
    "duration": 17,
    "start_time": "2023-03-15T15:25:26.728Z"
   },
   {
    "duration": 11,
    "start_time": "2023-03-15T15:27:37.601Z"
   },
   {
    "duration": 20,
    "start_time": "2023-03-15T15:28:28.947Z"
   },
   {
    "duration": 13,
    "start_time": "2023-03-15T15:28:45.004Z"
   },
   {
    "duration": 46,
    "start_time": "2023-03-15T15:28:48.821Z"
   },
   {
    "duration": 13,
    "start_time": "2023-03-15T15:29:30.766Z"
   },
   {
    "duration": 451,
    "start_time": "2023-03-15T15:29:47.421Z"
   },
   {
    "duration": 440,
    "start_time": "2023-03-15T15:29:49.608Z"
   },
   {
    "duration": 6,
    "start_time": "2023-03-15T15:39:49.296Z"
   },
   {
    "duration": 5,
    "start_time": "2023-03-15T15:39:50.712Z"
   },
   {
    "duration": 9,
    "start_time": "2023-03-15T15:41:10.341Z"
   },
   {
    "duration": 441,
    "start_time": "2023-03-15T15:41:12.270Z"
   },
   {
    "duration": 7,
    "start_time": "2023-03-15T15:41:39.168Z"
   },
   {
    "duration": 5,
    "start_time": "2023-03-15T15:41:42.992Z"
   },
   {
    "duration": 12,
    "start_time": "2023-03-15T15:41:54.269Z"
   },
   {
    "duration": 44,
    "start_time": "2023-03-15T15:42:28.389Z"
   },
   {
    "duration": 493,
    "start_time": "2023-03-15T15:42:48.504Z"
   },
   {
    "duration": 5,
    "start_time": "2023-03-15T15:43:46.480Z"
   },
   {
    "duration": 7,
    "start_time": "2023-03-15T15:44:01.129Z"
   },
   {
    "duration": 215,
    "start_time": "2023-03-15T15:44:24.672Z"
   },
   {
    "duration": 41,
    "start_time": "2023-03-15T15:44:45.878Z"
   },
   {
    "duration": 43,
    "start_time": "2023-03-15T15:45:14.958Z"
   },
   {
    "duration": 9,
    "start_time": "2023-03-15T15:45:23.163Z"
   },
   {
    "duration": 3,
    "start_time": "2023-03-15T15:46:00.199Z"
   },
   {
    "duration": 369,
    "start_time": "2023-03-15T15:46:12.011Z"
   },
   {
    "duration": 185,
    "start_time": "2023-03-15T15:46:32.298Z"
   },
   {
    "duration": 268,
    "start_time": "2023-03-15T15:47:00.815Z"
   },
   {
    "duration": 414,
    "start_time": "2023-03-15T15:47:06.821Z"
   },
   {
    "duration": 381,
    "start_time": "2023-03-15T15:47:21.475Z"
   },
   {
    "duration": 170,
    "start_time": "2023-03-15T15:49:45.394Z"
   },
   {
    "duration": 178,
    "start_time": "2023-03-15T15:49:58.194Z"
   },
   {
    "duration": 192,
    "start_time": "2023-03-15T15:50:26.202Z"
   },
   {
    "duration": 180,
    "start_time": "2023-03-15T15:50:32.753Z"
   },
   {
    "duration": 179,
    "start_time": "2023-03-15T15:50:40.762Z"
   },
   {
    "duration": 6,
    "start_time": "2023-03-15T15:51:09.335Z"
   },
   {
    "duration": 192,
    "start_time": "2023-03-15T15:51:09.812Z"
   },
   {
    "duration": 105,
    "start_time": "2023-03-15T15:51:10.490Z"
   },
   {
    "duration": 12,
    "start_time": "2023-03-15T15:51:34.102Z"
   },
   {
    "duration": 13,
    "start_time": "2023-03-15T15:52:17.139Z"
   },
   {
    "duration": 7,
    "start_time": "2023-03-15T15:53:37.378Z"
   },
   {
    "duration": 7,
    "start_time": "2023-03-15T15:53:51.042Z"
   },
   {
    "duration": 20,
    "start_time": "2023-03-15T15:53:51.650Z"
   },
   {
    "duration": 12,
    "start_time": "2023-03-15T15:54:03.026Z"
   },
   {
    "duration": 16,
    "start_time": "2023-03-15T15:55:25.153Z"
   },
   {
    "duration": 3,
    "start_time": "2023-03-15T15:55:32.855Z"
   },
   {
    "duration": 7,
    "start_time": "2023-03-15T15:55:32.866Z"
   },
   {
    "duration": 6,
    "start_time": "2023-03-15T15:55:32.874Z"
   },
   {
    "duration": 50,
    "start_time": "2023-03-15T15:55:32.882Z"
   },
   {
    "duration": 12,
    "start_time": "2023-03-15T15:55:32.935Z"
   },
   {
    "duration": 19,
    "start_time": "2023-03-15T15:55:32.954Z"
   },
   {
    "duration": 7,
    "start_time": "2023-03-15T15:55:32.975Z"
   },
   {
    "duration": 9,
    "start_time": "2023-03-15T15:55:32.983Z"
   },
   {
    "duration": 5,
    "start_time": "2023-03-15T15:55:32.993Z"
   },
   {
    "duration": 210,
    "start_time": "2023-03-15T15:55:32.999Z"
   },
   {
    "duration": 5,
    "start_time": "2023-03-15T15:55:33.211Z"
   },
   {
    "duration": 5,
    "start_time": "2023-03-15T15:55:33.217Z"
   },
   {
    "duration": 40,
    "start_time": "2023-03-15T15:55:33.224Z"
   },
   {
    "duration": 8,
    "start_time": "2023-03-15T15:55:33.267Z"
   },
   {
    "duration": 5,
    "start_time": "2023-03-15T15:55:33.277Z"
   },
   {
    "duration": 8,
    "start_time": "2023-03-15T15:55:33.283Z"
   },
   {
    "duration": 8,
    "start_time": "2023-03-15T15:55:33.293Z"
   },
   {
    "duration": 7,
    "start_time": "2023-03-15T15:55:33.302Z"
   },
   {
    "duration": 7,
    "start_time": "2023-03-15T15:55:33.311Z"
   },
   {
    "duration": 35,
    "start_time": "2023-03-15T15:55:33.320Z"
   },
   {
    "duration": 24,
    "start_time": "2023-03-15T15:55:33.357Z"
   },
   {
    "duration": 5,
    "start_time": "2023-03-15T15:55:33.383Z"
   },
   {
    "duration": 4,
    "start_time": "2023-03-15T15:55:33.389Z"
   },
   {
    "duration": 14,
    "start_time": "2023-03-15T15:55:33.395Z"
   },
   {
    "duration": 57,
    "start_time": "2023-03-15T15:55:33.410Z"
   },
   {
    "duration": 10,
    "start_time": "2023-03-15T15:55:33.468Z"
   },
   {
    "duration": 16,
    "start_time": "2023-03-15T15:55:33.479Z"
   },
   {
    "duration": 11,
    "start_time": "2023-03-15T15:55:33.496Z"
   },
   {
    "duration": 15,
    "start_time": "2023-03-15T15:55:33.508Z"
   },
   {
    "duration": 38,
    "start_time": "2023-03-15T15:55:33.525Z"
   },
   {
    "duration": 278,
    "start_time": "2023-03-15T15:55:33.565Z"
   },
   {
    "duration": 14,
    "start_time": "2023-03-15T15:55:33.844Z"
   },
   {
    "duration": 5,
    "start_time": "2023-03-15T15:55:33.859Z"
   },
   {
    "duration": 14,
    "start_time": "2023-03-15T15:55:33.872Z"
   },
   {
    "duration": 525,
    "start_time": "2023-03-15T15:55:33.887Z"
   },
   {
    "duration": 7,
    "start_time": "2023-03-15T15:55:34.414Z"
   },
   {
    "duration": 8,
    "start_time": "2023-03-15T15:55:34.423Z"
   },
   {
    "duration": 228,
    "start_time": "2023-03-15T15:55:34.433Z"
   },
   {
    "duration": 192,
    "start_time": "2023-03-15T15:55:34.663Z"
   },
   {
    "duration": 8,
    "start_time": "2023-03-15T15:55:34.857Z"
   },
   {
    "duration": 222,
    "start_time": "2023-03-15T15:55:34.870Z"
   },
   {
    "duration": 12,
    "start_time": "2023-03-15T15:55:35.093Z"
   },
   {
    "duration": 144,
    "start_time": "2023-03-15T15:55:35.107Z"
   },
   {
    "duration": 7,
    "start_time": "2023-03-15T15:55:35.254Z"
   },
   {
    "duration": 13,
    "start_time": "2023-03-15T15:55:35.263Z"
   },
   {
    "duration": 7,
    "start_time": "2023-03-15T15:55:35.278Z"
   },
   {
    "duration": 6,
    "start_time": "2023-03-15T15:55:35.287Z"
   },
   {
    "duration": 7,
    "start_time": "2023-03-15T15:55:35.295Z"
   },
   {
    "duration": 6,
    "start_time": "2023-03-15T15:55:35.305Z"
   },
   {
    "duration": 9,
    "start_time": "2023-03-15T15:55:35.313Z"
   },
   {
    "duration": 27,
    "start_time": "2023-03-15T15:55:35.355Z"
   },
   {
    "duration": 10,
    "start_time": "2023-03-15T15:55:35.384Z"
   },
   {
    "duration": 8,
    "start_time": "2023-03-15T15:55:35.396Z"
   },
   {
    "duration": 250,
    "start_time": "2023-03-15T15:55:35.406Z"
   },
   {
    "duration": 339,
    "start_time": "2023-03-15T15:55:35.658Z"
   },
   {
    "duration": 10,
    "start_time": "2023-03-15T15:55:35.998Z"
   },
   {
    "duration": 8,
    "start_time": "2023-03-15T15:55:36.009Z"
   },
   {
    "duration": 7,
    "start_time": "2023-03-15T15:55:36.019Z"
   },
   {
    "duration": 28,
    "start_time": "2023-03-15T15:55:36.027Z"
   },
   {
    "duration": 363,
    "start_time": "2023-03-15T15:55:36.058Z"
   },
   {
    "duration": 7,
    "start_time": "2023-03-15T15:55:36.422Z"
   },
   {
    "duration": 6,
    "start_time": "2023-03-15T15:55:36.431Z"
   },
   {
    "duration": 22,
    "start_time": "2023-03-15T15:55:36.438Z"
   },
   {
    "duration": 418,
    "start_time": "2023-03-15T15:55:36.462Z"
   },
   {
    "duration": 162,
    "start_time": "2023-03-15T15:55:36.882Z"
   },
   {
    "duration": 211,
    "start_time": "2023-03-15T15:55:37.046Z"
   },
   {
    "duration": 103,
    "start_time": "2023-03-15T15:55:37.258Z"
   },
   {
    "duration": 15,
    "start_time": "2023-03-15T15:55:37.362Z"
   },
   {
    "duration": 5,
    "start_time": "2023-03-15T15:55:37.379Z"
   },
   {
    "duration": 9,
    "start_time": "2023-03-15T15:55:37.385Z"
   },
   {
    "duration": 4,
    "start_time": "2023-03-15T15:55:37.396Z"
   },
   {
    "duration": 6,
    "start_time": "2023-03-15T15:55:37.401Z"
   },
   {
    "duration": 12,
    "start_time": "2023-03-15T15:55:37.409Z"
   },
   {
    "duration": 33,
    "start_time": "2023-03-15T15:55:37.423Z"
   },
   {
    "duration": 10,
    "start_time": "2023-03-15T15:57:28.879Z"
   },
   {
    "duration": 6,
    "start_time": "2023-03-15T15:57:51.669Z"
   },
   {
    "duration": 136,
    "start_time": "2023-03-15T16:04:31.529Z"
   },
   {
    "duration": 130,
    "start_time": "2023-03-15T16:04:45.393Z"
   },
   {
    "duration": 107,
    "start_time": "2023-03-15T16:05:11.762Z"
   },
   {
    "duration": 127,
    "start_time": "2023-03-15T16:05:25.327Z"
   },
   {
    "duration": 113,
    "start_time": "2023-03-15T16:05:46.456Z"
   },
   {
    "duration": 141,
    "start_time": "2023-03-15T16:05:59.530Z"
   },
   {
    "duration": 106,
    "start_time": "2023-03-15T16:06:04.354Z"
   },
   {
    "duration": 7,
    "start_time": "2023-03-15T16:06:44.402Z"
   },
   {
    "duration": 7,
    "start_time": "2023-03-15T16:06:49.560Z"
   },
   {
    "duration": 228,
    "start_time": "2023-03-15T16:06:56.278Z"
   },
   {
    "duration": 382,
    "start_time": "2023-03-15T16:07:04.777Z"
   },
   {
    "duration": 229,
    "start_time": "2023-03-15T16:07:22.255Z"
   },
   {
    "duration": 208,
    "start_time": "2023-03-15T16:07:27.839Z"
   },
   {
    "duration": 7,
    "start_time": "2023-03-15T16:07:52.694Z"
   },
   {
    "duration": 233,
    "start_time": "2023-03-15T16:07:55.997Z"
   },
   {
    "duration": 227,
    "start_time": "2023-03-15T16:08:18.617Z"
   },
   {
    "duration": 228,
    "start_time": "2023-03-15T16:08:38.736Z"
   },
   {
    "duration": 366,
    "start_time": "2023-03-15T16:08:45.167Z"
   },
   {
    "duration": 239,
    "start_time": "2023-03-15T16:08:50.575Z"
   },
   {
    "duration": 251,
    "start_time": "2023-03-15T16:08:57.272Z"
   },
   {
    "duration": 8,
    "start_time": "2023-03-15T16:14:43.760Z"
   },
   {
    "duration": 8,
    "start_time": "2023-03-15T16:14:50.359Z"
   },
   {
    "duration": 7,
    "start_time": "2023-03-15T16:14:57.221Z"
   },
   {
    "duration": 4,
    "start_time": "2023-03-15T16:15:00.680Z"
   },
   {
    "duration": 264,
    "start_time": "2023-03-15T16:15:12.350Z"
   },
   {
    "duration": 7,
    "start_time": "2023-03-15T16:15:30.694Z"
   },
   {
    "duration": 7,
    "start_time": "2023-03-15T16:15:38.231Z"
   },
   {
    "duration": 7,
    "start_time": "2023-03-15T16:15:44.998Z"
   },
   {
    "duration": 343,
    "start_time": "2023-03-15T16:15:46.700Z"
   },
   {
    "duration": 297,
    "start_time": "2023-03-15T16:17:16.040Z"
   },
   {
    "duration": 242,
    "start_time": "2023-03-15T16:17:35.849Z"
   },
   {
    "duration": 215,
    "start_time": "2023-03-15T16:18:01.121Z"
   },
   {
    "duration": 106,
    "start_time": "2023-03-15T16:19:58.321Z"
   },
   {
    "duration": 43,
    "start_time": "2023-03-15T16:20:07.428Z"
   },
   {
    "duration": 99,
    "start_time": "2023-03-15T16:20:10.194Z"
   },
   {
    "duration": 3,
    "start_time": "2023-03-16T05:35:03.187Z"
   },
   {
    "duration": 10,
    "start_time": "2023-03-16T05:35:03.192Z"
   },
   {
    "duration": 21,
    "start_time": "2023-03-16T05:35:03.204Z"
   },
   {
    "duration": 70,
    "start_time": "2023-03-16T05:35:03.227Z"
   },
   {
    "duration": 15,
    "start_time": "2023-03-16T05:35:03.299Z"
   },
   {
    "duration": 55,
    "start_time": "2023-03-16T05:35:03.316Z"
   },
   {
    "duration": 44,
    "start_time": "2023-03-16T05:35:03.373Z"
   },
   {
    "duration": 21,
    "start_time": "2023-03-16T05:35:03.420Z"
   },
   {
    "duration": 27,
    "start_time": "2023-03-16T05:35:03.443Z"
   },
   {
    "duration": 274,
    "start_time": "2023-03-16T05:35:03.471Z"
   },
   {
    "duration": 6,
    "start_time": "2023-03-16T05:35:03.746Z"
   },
   {
    "duration": 18,
    "start_time": "2023-03-16T05:35:03.753Z"
   },
   {
    "duration": 37,
    "start_time": "2023-03-16T05:35:03.773Z"
   },
   {
    "duration": 7,
    "start_time": "2023-03-16T05:35:03.812Z"
   },
   {
    "duration": 18,
    "start_time": "2023-03-16T05:35:03.821Z"
   },
   {
    "duration": 54,
    "start_time": "2023-03-16T05:35:03.841Z"
   },
   {
    "duration": 28,
    "start_time": "2023-03-16T05:35:03.897Z"
   },
   {
    "duration": 21,
    "start_time": "2023-03-16T05:35:03.927Z"
   },
   {
    "duration": 16,
    "start_time": "2023-03-16T05:35:03.950Z"
   },
   {
    "duration": 19,
    "start_time": "2023-03-16T05:35:03.970Z"
   },
   {
    "duration": 21,
    "start_time": "2023-03-16T05:35:03.991Z"
   },
   {
    "duration": 44,
    "start_time": "2023-03-16T05:35:04.014Z"
   },
   {
    "duration": 6,
    "start_time": "2023-03-16T05:35:04.060Z"
   },
   {
    "duration": 27,
    "start_time": "2023-03-16T05:35:04.068Z"
   },
   {
    "duration": 32,
    "start_time": "2023-03-16T05:35:04.097Z"
   },
   {
    "duration": 44,
    "start_time": "2023-03-16T05:35:04.130Z"
   },
   {
    "duration": 22,
    "start_time": "2023-03-16T05:35:04.176Z"
   },
   {
    "duration": 30,
    "start_time": "2023-03-16T05:35:04.200Z"
   },
   {
    "duration": 21,
    "start_time": "2023-03-16T05:35:04.233Z"
   },
   {
    "duration": 25,
    "start_time": "2023-03-16T05:35:04.256Z"
   },
   {
    "duration": 28,
    "start_time": "2023-03-16T05:35:04.283Z"
   },
   {
    "duration": 312,
    "start_time": "2023-03-16T05:35:04.313Z"
   },
   {
    "duration": 7,
    "start_time": "2023-03-16T05:35:04.626Z"
   },
   {
    "duration": 37,
    "start_time": "2023-03-16T05:35:04.634Z"
   },
   {
    "duration": 52,
    "start_time": "2023-03-16T05:35:04.672Z"
   },
   {
    "duration": 564,
    "start_time": "2023-03-16T05:35:04.726Z"
   },
   {
    "duration": 6,
    "start_time": "2023-03-16T05:35:05.292Z"
   },
   {
    "duration": 27,
    "start_time": "2023-03-16T05:35:05.300Z"
   },
   {
    "duration": 252,
    "start_time": "2023-03-16T05:35:05.329Z"
   },
   {
    "duration": 248,
    "start_time": "2023-03-16T05:35:05.584Z"
   },
   {
    "duration": 8,
    "start_time": "2023-03-16T05:35:05.835Z"
   },
   {
    "duration": 149,
    "start_time": "2023-03-16T05:35:05.845Z"
   },
   {
    "duration": 149,
    "start_time": "2023-03-16T05:35:05.997Z"
   },
   {
    "duration": 7,
    "start_time": "2023-03-16T05:35:06.148Z"
   },
   {
    "duration": 22,
    "start_time": "2023-03-16T05:35:06.157Z"
   },
   {
    "duration": 16,
    "start_time": "2023-03-16T05:35:06.181Z"
   },
   {
    "duration": 218,
    "start_time": "2023-03-16T05:35:06.199Z"
   },
   {
    "duration": 6,
    "start_time": "2023-03-16T05:35:06.420Z"
   },
   {
    "duration": 157,
    "start_time": "2023-03-16T05:35:06.427Z"
   },
   {
    "duration": 6,
    "start_time": "2023-03-16T05:35:06.587Z"
   },
   {
    "duration": 16,
    "start_time": "2023-03-16T05:35:06.595Z"
   },
   {
    "duration": 164,
    "start_time": "2023-03-16T05:35:06.614Z"
   },
   {
    "duration": 7,
    "start_time": "2023-03-16T05:35:06.780Z"
   },
   {
    "duration": 159,
    "start_time": "2023-03-16T05:35:06.789Z"
   },
   {
    "duration": 6,
    "start_time": "2023-03-16T05:35:06.950Z"
   },
   {
    "duration": 19,
    "start_time": "2023-03-16T05:35:06.961Z"
   },
   {
    "duration": 6,
    "start_time": "2023-03-16T05:35:06.983Z"
   },
   {
    "duration": 295,
    "start_time": "2023-03-16T05:35:06.991Z"
   },
   {
    "duration": 294,
    "start_time": "2023-03-16T05:35:07.288Z"
   },
   {
    "duration": 10,
    "start_time": "2023-03-16T05:35:07.584Z"
   },
   {
    "duration": 9,
    "start_time": "2023-03-16T05:35:07.595Z"
   },
   {
    "duration": 12,
    "start_time": "2023-03-16T05:35:07.606Z"
   },
   {
    "duration": 10,
    "start_time": "2023-03-16T05:35:07.620Z"
   },
   {
    "duration": 336,
    "start_time": "2023-03-16T05:35:07.632Z"
   },
   {
    "duration": 13,
    "start_time": "2023-03-16T05:35:07.970Z"
   },
   {
    "duration": 14,
    "start_time": "2023-03-16T05:35:07.985Z"
   },
   {
    "duration": 13,
    "start_time": "2023-03-16T05:35:08.000Z"
   },
   {
    "duration": 447,
    "start_time": "2023-03-16T05:35:08.015Z"
   },
   {
    "duration": 296,
    "start_time": "2023-03-16T05:35:08.464Z"
   },
   {
    "duration": 277,
    "start_time": "2023-03-16T05:35:08.762Z"
   },
   {
    "duration": 136,
    "start_time": "2023-03-16T05:35:09.041Z"
   },
   {
    "duration": 10,
    "start_time": "2023-03-16T05:35:09.179Z"
   },
   {
    "duration": 0,
    "start_time": "2023-03-16T05:35:09.191Z"
   },
   {
    "duration": 0,
    "start_time": "2023-03-16T05:35:09.192Z"
   },
   {
    "duration": 0,
    "start_time": "2023-03-16T05:35:09.193Z"
   },
   {
    "duration": 0,
    "start_time": "2023-03-16T05:35:09.194Z"
   },
   {
    "duration": 0,
    "start_time": "2023-03-16T05:35:09.195Z"
   },
   {
    "duration": 0,
    "start_time": "2023-03-16T05:35:09.196Z"
   },
   {
    "duration": 110,
    "start_time": "2023-03-16T05:35:23.595Z"
   },
   {
    "duration": 111,
    "start_time": "2023-03-16T05:35:50.887Z"
   },
   {
    "duration": 115,
    "start_time": "2023-03-16T05:36:04.019Z"
   },
   {
    "duration": 2,
    "start_time": "2023-03-16T05:36:10.718Z"
   },
   {
    "duration": 3,
    "start_time": "2023-03-16T05:36:22.718Z"
   },
   {
    "duration": 10,
    "start_time": "2023-03-16T05:36:23.287Z"
   },
   {
    "duration": 5,
    "start_time": "2023-03-16T05:36:28.110Z"
   },
   {
    "duration": 7,
    "start_time": "2023-03-16T05:39:09.475Z"
   },
   {
    "duration": 12,
    "start_time": "2023-03-16T05:44:12.596Z"
   },
   {
    "duration": 6,
    "start_time": "2023-03-16T05:44:13.348Z"
   },
   {
    "duration": 13,
    "start_time": "2023-03-16T05:44:44.135Z"
   },
   {
    "duration": 20,
    "start_time": "2023-03-16T05:44:59.515Z"
   },
   {
    "duration": 19,
    "start_time": "2023-03-16T05:45:57.220Z"
   },
   {
    "duration": 14,
    "start_time": "2023-03-16T05:49:41.599Z"
   },
   {
    "duration": 9,
    "start_time": "2023-03-16T05:49:50.324Z"
   },
   {
    "duration": 6,
    "start_time": "2023-03-16T05:49:51.723Z"
   },
   {
    "duration": 3,
    "start_time": "2023-03-16T05:51:23.812Z"
   },
   {
    "duration": 13,
    "start_time": "2023-03-16T05:51:23.817Z"
   },
   {
    "duration": 18,
    "start_time": "2023-03-16T05:51:23.832Z"
   },
   {
    "duration": 63,
    "start_time": "2023-03-16T05:51:23.852Z"
   },
   {
    "duration": 14,
    "start_time": "2023-03-16T05:51:23.917Z"
   },
   {
    "duration": 38,
    "start_time": "2023-03-16T05:51:23.932Z"
   },
   {
    "duration": 5,
    "start_time": "2023-03-16T05:51:23.973Z"
   },
   {
    "duration": 16,
    "start_time": "2023-03-16T05:51:23.979Z"
   },
   {
    "duration": 5,
    "start_time": "2023-03-16T05:51:23.997Z"
   },
   {
    "duration": 186,
    "start_time": "2023-03-16T05:51:24.003Z"
   },
   {
    "duration": 2,
    "start_time": "2023-03-16T05:51:24.191Z"
   },
   {
    "duration": 20,
    "start_time": "2023-03-16T05:51:24.195Z"
   },
   {
    "duration": 27,
    "start_time": "2023-03-16T05:51:24.216Z"
   },
   {
    "duration": 8,
    "start_time": "2023-03-16T05:51:24.246Z"
   },
   {
    "duration": 21,
    "start_time": "2023-03-16T05:51:24.256Z"
   },
   {
    "duration": 3,
    "start_time": "2023-03-16T05:51:24.279Z"
   },
   {
    "duration": 10,
    "start_time": "2023-03-16T05:51:24.283Z"
   },
   {
    "duration": 11,
    "start_time": "2023-03-16T05:51:24.294Z"
   },
   {
    "duration": 13,
    "start_time": "2023-03-16T05:51:24.307Z"
   },
   {
    "duration": 22,
    "start_time": "2023-03-16T05:51:24.321Z"
   },
   {
    "duration": 11,
    "start_time": "2023-03-16T05:51:24.345Z"
   },
   {
    "duration": 33,
    "start_time": "2023-03-16T05:51:24.357Z"
   },
   {
    "duration": 6,
    "start_time": "2023-03-16T05:51:24.391Z"
   },
   {
    "duration": 6,
    "start_time": "2023-03-16T05:51:24.399Z"
   },
   {
    "duration": 35,
    "start_time": "2023-03-16T05:51:24.406Z"
   },
   {
    "duration": 37,
    "start_time": "2023-03-16T05:51:24.443Z"
   },
   {
    "duration": 11,
    "start_time": "2023-03-16T05:51:24.482Z"
   },
   {
    "duration": 21,
    "start_time": "2023-03-16T05:51:24.495Z"
   },
   {
    "duration": 20,
    "start_time": "2023-03-16T05:51:24.519Z"
   },
   {
    "duration": 26,
    "start_time": "2023-03-16T05:51:24.542Z"
   },
   {
    "duration": 15,
    "start_time": "2023-03-16T05:51:24.570Z"
   },
   {
    "duration": 321,
    "start_time": "2023-03-16T05:51:24.586Z"
   },
   {
    "duration": 5,
    "start_time": "2023-03-16T05:51:24.909Z"
   },
   {
    "duration": 14,
    "start_time": "2023-03-16T05:51:24.916Z"
   },
   {
    "duration": 30,
    "start_time": "2023-03-16T05:51:24.932Z"
   },
   {
    "duration": 613,
    "start_time": "2023-03-16T05:51:24.964Z"
   },
   {
    "duration": 6,
    "start_time": "2023-03-16T05:51:25.579Z"
   },
   {
    "duration": 9,
    "start_time": "2023-03-16T05:51:25.586Z"
   },
   {
    "duration": 270,
    "start_time": "2023-03-16T05:51:25.597Z"
   },
   {
    "duration": 252,
    "start_time": "2023-03-16T05:51:25.869Z"
   },
   {
    "duration": 7,
    "start_time": "2023-03-16T05:51:26.126Z"
   },
   {
    "duration": 152,
    "start_time": "2023-03-16T05:51:26.135Z"
   },
   {
    "duration": 141,
    "start_time": "2023-03-16T05:51:26.289Z"
   },
   {
    "duration": 7,
    "start_time": "2023-03-16T05:51:26.431Z"
   },
   {
    "duration": 18,
    "start_time": "2023-03-16T05:51:26.439Z"
   },
   {
    "duration": 19,
    "start_time": "2023-03-16T05:51:26.458Z"
   },
   {
    "duration": 133,
    "start_time": "2023-03-16T05:51:26.479Z"
   },
   {
    "duration": 6,
    "start_time": "2023-03-16T05:51:26.613Z"
   },
   {
    "duration": 148,
    "start_time": "2023-03-16T05:51:26.621Z"
   },
   {
    "duration": 10,
    "start_time": "2023-03-16T05:51:26.770Z"
   },
   {
    "duration": 10,
    "start_time": "2023-03-16T05:51:26.782Z"
   },
   {
    "duration": 145,
    "start_time": "2023-03-16T05:51:26.793Z"
   },
   {
    "duration": 6,
    "start_time": "2023-03-16T05:51:26.940Z"
   },
   {
    "duration": 225,
    "start_time": "2023-03-16T05:51:26.948Z"
   },
   {
    "duration": 7,
    "start_time": "2023-03-16T05:51:27.175Z"
   },
   {
    "duration": 20,
    "start_time": "2023-03-16T05:51:27.184Z"
   },
   {
    "duration": 11,
    "start_time": "2023-03-16T05:51:27.206Z"
   },
   {
    "duration": 301,
    "start_time": "2023-03-16T05:51:27.219Z"
   },
   {
    "duration": 303,
    "start_time": "2023-03-16T05:51:27.522Z"
   },
   {
    "duration": 10,
    "start_time": "2023-03-16T05:51:27.827Z"
   },
   {
    "duration": 46,
    "start_time": "2023-03-16T05:51:27.839Z"
   },
   {
    "duration": 41,
    "start_time": "2023-03-16T05:51:27.887Z"
   },
   {
    "duration": 53,
    "start_time": "2023-03-16T05:51:27.930Z"
   },
   {
    "duration": 328,
    "start_time": "2023-03-16T05:51:27.985Z"
   },
   {
    "duration": 9,
    "start_time": "2023-03-16T05:51:28.315Z"
   },
   {
    "duration": 12,
    "start_time": "2023-03-16T05:51:28.325Z"
   },
   {
    "duration": 12,
    "start_time": "2023-03-16T05:51:28.339Z"
   },
   {
    "duration": 356,
    "start_time": "2023-03-16T05:51:28.353Z"
   },
   {
    "duration": 121,
    "start_time": "2023-03-16T05:51:28.711Z"
   },
   {
    "duration": 123,
    "start_time": "2023-03-16T05:51:28.835Z"
   },
   {
    "duration": 207,
    "start_time": "2023-03-16T05:51:28.960Z"
   },
   {
    "duration": 2,
    "start_time": "2023-03-16T05:51:29.169Z"
   },
   {
    "duration": 18,
    "start_time": "2023-03-16T05:51:29.176Z"
   },
   {
    "duration": 13,
    "start_time": "2023-03-16T05:51:29.196Z"
   },
   {
    "duration": 12,
    "start_time": "2023-03-16T05:51:29.211Z"
   },
   {
    "duration": 19,
    "start_time": "2023-03-16T05:51:29.225Z"
   },
   {
    "duration": 22,
    "start_time": "2023-03-16T05:51:29.246Z"
   },
   {
    "duration": 10,
    "start_time": "2023-03-16T05:51:29.270Z"
   },
   {
    "duration": 10,
    "start_time": "2023-03-16T05:52:14.907Z"
   },
   {
    "duration": 2,
    "start_time": "2023-03-16T05:53:02.688Z"
   },
   {
    "duration": 8,
    "start_time": "2023-03-16T05:53:02.693Z"
   },
   {
    "duration": 10,
    "start_time": "2023-03-16T05:53:02.702Z"
   },
   {
    "duration": 58,
    "start_time": "2023-03-16T05:53:02.714Z"
   },
   {
    "duration": 15,
    "start_time": "2023-03-16T05:53:02.774Z"
   },
   {
    "duration": 32,
    "start_time": "2023-03-16T05:53:02.791Z"
   },
   {
    "duration": 10,
    "start_time": "2023-03-16T05:53:02.824Z"
   },
   {
    "duration": 57,
    "start_time": "2023-03-16T05:53:02.836Z"
   },
   {
    "duration": 7,
    "start_time": "2023-03-16T05:53:02.895Z"
   },
   {
    "duration": 176,
    "start_time": "2023-03-16T05:53:02.904Z"
   },
   {
    "duration": 5,
    "start_time": "2023-03-16T05:53:03.081Z"
   },
   {
    "duration": 8,
    "start_time": "2023-03-16T05:53:03.087Z"
   },
   {
    "duration": 23,
    "start_time": "2023-03-16T05:53:03.097Z"
   },
   {
    "duration": 11,
    "start_time": "2023-03-16T05:53:03.123Z"
   },
   {
    "duration": 19,
    "start_time": "2023-03-16T05:53:03.135Z"
   },
   {
    "duration": 13,
    "start_time": "2023-03-16T05:53:03.156Z"
   },
   {
    "duration": 13,
    "start_time": "2023-03-16T05:53:03.177Z"
   },
   {
    "duration": 21,
    "start_time": "2023-03-16T05:53:03.192Z"
   },
   {
    "duration": 25,
    "start_time": "2023-03-16T05:53:03.215Z"
   },
   {
    "duration": 25,
    "start_time": "2023-03-16T05:53:03.242Z"
   },
   {
    "duration": 16,
    "start_time": "2023-03-16T05:53:03.269Z"
   },
   {
    "duration": 45,
    "start_time": "2023-03-16T05:53:03.287Z"
   },
   {
    "duration": 6,
    "start_time": "2023-03-16T05:53:03.333Z"
   },
   {
    "duration": 33,
    "start_time": "2023-03-16T05:53:03.341Z"
   },
   {
    "duration": 28,
    "start_time": "2023-03-16T05:53:03.376Z"
   },
   {
    "duration": 44,
    "start_time": "2023-03-16T05:53:03.406Z"
   },
   {
    "duration": 13,
    "start_time": "2023-03-16T05:53:03.452Z"
   },
   {
    "duration": 30,
    "start_time": "2023-03-16T05:53:03.467Z"
   },
   {
    "duration": 18,
    "start_time": "2023-03-16T05:53:03.499Z"
   },
   {
    "duration": 24,
    "start_time": "2023-03-16T05:53:03.519Z"
   },
   {
    "duration": 19,
    "start_time": "2023-03-16T05:53:03.545Z"
   },
   {
    "duration": 308,
    "start_time": "2023-03-16T05:53:03.565Z"
   },
   {
    "duration": 7,
    "start_time": "2023-03-16T05:53:03.876Z"
   },
   {
    "duration": 12,
    "start_time": "2023-03-16T05:53:03.885Z"
   },
   {
    "duration": 28,
    "start_time": "2023-03-16T05:53:03.898Z"
   },
   {
    "duration": 527,
    "start_time": "2023-03-16T05:53:03.928Z"
   },
   {
    "duration": 20,
    "start_time": "2023-03-16T05:53:04.457Z"
   },
   {
    "duration": 23,
    "start_time": "2023-03-16T05:53:04.479Z"
   },
   {
    "duration": 264,
    "start_time": "2023-03-16T05:53:04.504Z"
   },
   {
    "duration": 258,
    "start_time": "2023-03-16T05:53:04.770Z"
   },
   {
    "duration": 7,
    "start_time": "2023-03-16T05:53:05.033Z"
   },
   {
    "duration": 165,
    "start_time": "2023-03-16T05:53:05.042Z"
   },
   {
    "duration": 234,
    "start_time": "2023-03-16T05:53:05.209Z"
   },
   {
    "duration": 7,
    "start_time": "2023-03-16T05:53:05.444Z"
   },
   {
    "duration": 10,
    "start_time": "2023-03-16T05:53:05.452Z"
   },
   {
    "duration": 13,
    "start_time": "2023-03-16T05:53:05.464Z"
   },
   {
    "duration": 125,
    "start_time": "2023-03-16T05:53:05.479Z"
   },
   {
    "duration": 6,
    "start_time": "2023-03-16T05:53:05.606Z"
   },
   {
    "duration": 168,
    "start_time": "2023-03-16T05:53:05.614Z"
   },
   {
    "duration": 6,
    "start_time": "2023-03-16T05:53:05.784Z"
   },
   {
    "duration": 13,
    "start_time": "2023-03-16T05:53:05.791Z"
   },
   {
    "duration": 129,
    "start_time": "2023-03-16T05:53:05.806Z"
   },
   {
    "duration": 7,
    "start_time": "2023-03-16T05:53:05.937Z"
   },
   {
    "duration": 146,
    "start_time": "2023-03-16T05:53:05.945Z"
   },
   {
    "duration": 7,
    "start_time": "2023-03-16T05:53:06.093Z"
   },
   {
    "duration": 37,
    "start_time": "2023-03-16T05:53:06.102Z"
   },
   {
    "duration": 23,
    "start_time": "2023-03-16T05:53:06.141Z"
   },
   {
    "duration": 284,
    "start_time": "2023-03-16T05:53:06.166Z"
   },
   {
    "duration": 294,
    "start_time": "2023-03-16T05:53:06.453Z"
   },
   {
    "duration": 9,
    "start_time": "2023-03-16T05:53:06.749Z"
   },
   {
    "duration": 25,
    "start_time": "2023-03-16T05:53:06.760Z"
   },
   {
    "duration": 13,
    "start_time": "2023-03-16T05:53:06.786Z"
   },
   {
    "duration": 10,
    "start_time": "2023-03-16T05:53:06.800Z"
   },
   {
    "duration": 346,
    "start_time": "2023-03-16T05:53:06.811Z"
   },
   {
    "duration": 8,
    "start_time": "2023-03-16T05:53:07.159Z"
   },
   {
    "duration": 15,
    "start_time": "2023-03-16T05:53:07.168Z"
   },
   {
    "duration": 12,
    "start_time": "2023-03-16T05:53:07.185Z"
   },
   {
    "duration": 451,
    "start_time": "2023-03-16T05:53:07.199Z"
   },
   {
    "duration": 114,
    "start_time": "2023-03-16T05:53:07.651Z"
   },
   {
    "duration": 126,
    "start_time": "2023-03-16T05:53:07.767Z"
   },
   {
    "duration": 125,
    "start_time": "2023-03-16T05:53:07.895Z"
   },
   {
    "duration": 2,
    "start_time": "2023-03-16T05:53:08.022Z"
   },
   {
    "duration": 12,
    "start_time": "2023-03-16T05:53:08.025Z"
   },
   {
    "duration": 18,
    "start_time": "2023-03-16T05:53:08.038Z"
   },
   {
    "duration": 20,
    "start_time": "2023-03-16T05:53:08.058Z"
   },
   {
    "duration": 17,
    "start_time": "2023-03-16T05:53:08.080Z"
   },
   {
    "duration": 13,
    "start_time": "2023-03-16T05:53:08.099Z"
   },
   {
    "duration": 7,
    "start_time": "2023-03-16T05:53:08.114Z"
   },
   {
    "duration": 10,
    "start_time": "2023-03-16T05:53:23.183Z"
   },
   {
    "duration": 445,
    "start_time": "2023-03-16T23:24:11.861Z"
   },
   {
    "duration": 512,
    "start_time": "2023-03-16T23:24:12.308Z"
   },
   {
    "duration": 217,
    "start_time": "2023-03-16T23:24:12.821Z"
   },
   {
    "duration": 117,
    "start_time": "2023-03-16T23:24:13.040Z"
   },
   {
    "duration": 19,
    "start_time": "2023-03-16T23:24:13.160Z"
   },
   {
    "duration": 15,
    "start_time": "2023-03-16T23:24:13.181Z"
   },
   {
    "duration": 11,
    "start_time": "2023-03-16T23:24:13.198Z"
   },
   {
    "duration": 11,
    "start_time": "2023-03-16T23:24:13.211Z"
   },
   {
    "duration": 5,
    "start_time": "2023-03-16T23:24:13.223Z"
   },
   {
    "duration": 220,
    "start_time": "2023-03-16T23:24:13.230Z"
   },
   {
    "duration": 12,
    "start_time": "2023-03-16T23:24:13.453Z"
   },
   {
    "duration": 63,
    "start_time": "2023-03-16T23:24:13.467Z"
   },
   {
    "duration": 49,
    "start_time": "2023-03-16T23:24:13.532Z"
   },
   {
    "duration": 9,
    "start_time": "2023-03-16T23:24:13.586Z"
   },
   {
    "duration": 38,
    "start_time": "2023-03-16T23:24:13.597Z"
   },
   {
    "duration": 10,
    "start_time": "2023-03-16T23:24:13.637Z"
   },
   {
    "duration": 15,
    "start_time": "2023-03-16T23:24:13.649Z"
   },
   {
    "duration": 13,
    "start_time": "2023-03-16T23:24:13.666Z"
   },
   {
    "duration": 10,
    "start_time": "2023-03-16T23:24:13.681Z"
   },
   {
    "duration": 11,
    "start_time": "2023-03-16T23:24:13.693Z"
   },
   {
    "duration": 6,
    "start_time": "2023-03-16T23:24:13.706Z"
   },
   {
    "duration": 54,
    "start_time": "2023-03-16T23:24:13.713Z"
   },
   {
    "duration": 8,
    "start_time": "2023-03-16T23:24:13.769Z"
   },
   {
    "duration": 6,
    "start_time": "2023-03-16T23:24:13.780Z"
   },
   {
    "duration": 22,
    "start_time": "2023-03-16T23:24:13.788Z"
   },
   {
    "duration": 32,
    "start_time": "2023-03-16T23:24:13.813Z"
   },
   {
    "duration": 9,
    "start_time": "2023-03-16T23:24:13.865Z"
   },
   {
    "duration": 23,
    "start_time": "2023-03-16T23:24:13.876Z"
   },
   {
    "duration": 13,
    "start_time": "2023-03-16T23:24:13.901Z"
   },
   {
    "duration": 26,
    "start_time": "2023-03-16T23:24:13.916Z"
   },
   {
    "duration": 29,
    "start_time": "2023-03-16T23:24:13.943Z"
   },
   {
    "duration": 596,
    "start_time": "2023-03-16T23:24:13.975Z"
   },
   {
    "duration": 6,
    "start_time": "2023-03-16T23:24:14.573Z"
   },
   {
    "duration": 15,
    "start_time": "2023-03-16T23:24:14.581Z"
   },
   {
    "duration": 69,
    "start_time": "2023-03-16T23:24:14.598Z"
   },
   {
    "duration": 1131,
    "start_time": "2023-03-16T23:24:14.669Z"
   },
   {
    "duration": 7,
    "start_time": "2023-03-16T23:24:15.802Z"
   },
   {
    "duration": 56,
    "start_time": "2023-03-16T23:24:15.811Z"
   },
   {
    "duration": 468,
    "start_time": "2023-03-16T23:24:15.869Z"
   },
   {
    "duration": 309,
    "start_time": "2023-03-16T23:24:16.364Z"
   },
   {
    "duration": 8,
    "start_time": "2023-03-16T23:24:16.677Z"
   },
   {
    "duration": 323,
    "start_time": "2023-03-16T23:24:16.687Z"
   },
   {
    "duration": 326,
    "start_time": "2023-03-16T23:24:17.011Z"
   },
   {
    "duration": 8,
    "start_time": "2023-03-16T23:24:17.339Z"
   },
   {
    "duration": 32,
    "start_time": "2023-03-16T23:24:17.348Z"
   },
   {
    "duration": 19,
    "start_time": "2023-03-16T23:24:17.382Z"
   },
   {
    "duration": 139,
    "start_time": "2023-03-16T23:24:17.403Z"
   },
   {
    "duration": 7,
    "start_time": "2023-03-16T23:24:17.544Z"
   },
   {
    "duration": 162,
    "start_time": "2023-03-16T23:24:17.552Z"
   },
   {
    "duration": 7,
    "start_time": "2023-03-16T23:24:17.717Z"
   },
   {
    "duration": 21,
    "start_time": "2023-03-16T23:24:17.726Z"
   },
   {
    "duration": 140,
    "start_time": "2023-03-16T23:24:17.750Z"
   },
   {
    "duration": 7,
    "start_time": "2023-03-16T23:24:17.891Z"
   },
   {
    "duration": 146,
    "start_time": "2023-03-16T23:24:17.900Z"
   },
   {
    "duration": 6,
    "start_time": "2023-03-16T23:24:18.048Z"
   },
   {
    "duration": 7,
    "start_time": "2023-03-16T23:24:18.065Z"
   },
   {
    "duration": 8,
    "start_time": "2023-03-16T23:24:18.073Z"
   },
   {
    "duration": 295,
    "start_time": "2023-03-16T23:24:18.083Z"
   },
   {
    "duration": 301,
    "start_time": "2023-03-16T23:24:18.380Z"
   },
   {
    "duration": 10,
    "start_time": "2023-03-16T23:24:18.682Z"
   },
   {
    "duration": 32,
    "start_time": "2023-03-16T23:24:18.694Z"
   },
   {
    "duration": 11,
    "start_time": "2023-03-16T23:24:18.728Z"
   },
   {
    "duration": 23,
    "start_time": "2023-03-16T23:24:18.741Z"
   },
   {
    "duration": 322,
    "start_time": "2023-03-16T23:24:18.766Z"
   },
   {
    "duration": 8,
    "start_time": "2023-03-16T23:24:19.090Z"
   },
   {
    "duration": 10,
    "start_time": "2023-03-16T23:24:19.100Z"
   },
   {
    "duration": 9,
    "start_time": "2023-03-16T23:24:19.112Z"
   },
   {
    "duration": 457,
    "start_time": "2023-03-16T23:24:19.123Z"
   },
   {
    "duration": 117,
    "start_time": "2023-03-16T23:24:19.582Z"
   },
   {
    "duration": 127,
    "start_time": "2023-03-16T23:24:19.701Z"
   },
   {
    "duration": 134,
    "start_time": "2023-03-16T23:24:19.830Z"
   },
   {
    "duration": 2,
    "start_time": "2023-03-16T23:24:19.966Z"
   },
   {
    "duration": 5,
    "start_time": "2023-03-16T23:24:19.971Z"
   },
   {
    "duration": 12,
    "start_time": "2023-03-16T23:24:19.978Z"
   },
   {
    "duration": 6,
    "start_time": "2023-03-16T23:24:19.992Z"
   },
   {
    "duration": 16,
    "start_time": "2023-03-16T23:24:20.000Z"
   },
   {
    "duration": 31,
    "start_time": "2023-03-16T23:24:20.018Z"
   },
   {
    "duration": 16,
    "start_time": "2023-03-16T23:24:20.051Z"
   },
   {
    "duration": 60,
    "start_time": "2023-03-17T00:44:58.176Z"
   },
   {
    "duration": 2,
    "start_time": "2023-03-17T00:45:14.032Z"
   },
   {
    "duration": 494,
    "start_time": "2023-03-17T01:02:46.236Z"
   },
   {
    "duration": 514,
    "start_time": "2023-03-17T01:02:46.733Z"
   },
   {
    "duration": 228,
    "start_time": "2023-03-17T01:02:47.249Z"
   },
   {
    "duration": 123,
    "start_time": "2023-03-17T01:02:47.479Z"
   },
   {
    "duration": 20,
    "start_time": "2023-03-17T01:02:47.605Z"
   },
   {
    "duration": 20,
    "start_time": "2023-03-17T01:02:47.626Z"
   },
   {
    "duration": 20,
    "start_time": "2023-03-17T01:02:47.648Z"
   },
   {
    "duration": 31,
    "start_time": "2023-03-17T01:02:47.669Z"
   },
   {
    "duration": 9,
    "start_time": "2023-03-17T01:02:47.702Z"
   },
   {
    "duration": 206,
    "start_time": "2023-03-17T01:02:47.712Z"
   },
   {
    "duration": 5,
    "start_time": "2023-03-17T01:02:47.920Z"
   },
   {
    "duration": 30,
    "start_time": "2023-03-17T01:02:47.927Z"
   },
   {
    "duration": 53,
    "start_time": "2023-03-17T01:02:47.959Z"
   },
   {
    "duration": 11,
    "start_time": "2023-03-17T01:02:48.016Z"
   },
   {
    "duration": 30,
    "start_time": "2023-03-17T01:02:48.029Z"
   },
   {
    "duration": 27,
    "start_time": "2023-03-17T01:02:48.061Z"
   },
   {
    "duration": 37,
    "start_time": "2023-03-17T01:02:48.090Z"
   },
   {
    "duration": 15,
    "start_time": "2023-03-17T01:02:48.129Z"
   },
   {
    "duration": 26,
    "start_time": "2023-03-17T01:02:48.146Z"
   },
   {
    "duration": 17,
    "start_time": "2023-03-17T01:02:48.174Z"
   },
   {
    "duration": 5,
    "start_time": "2023-03-17T01:02:48.193Z"
   },
   {
    "duration": 36,
    "start_time": "2023-03-17T01:02:48.200Z"
   },
   {
    "duration": 6,
    "start_time": "2023-03-17T01:02:48.238Z"
   },
   {
    "duration": 12,
    "start_time": "2023-03-17T01:02:48.245Z"
   },
   {
    "duration": 15,
    "start_time": "2023-03-17T01:02:48.264Z"
   },
   {
    "duration": 29,
    "start_time": "2023-03-17T01:02:48.281Z"
   },
   {
    "duration": 9,
    "start_time": "2023-03-17T01:02:48.312Z"
   },
   {
    "duration": 43,
    "start_time": "2023-03-17T01:02:48.322Z"
   },
   {
    "duration": 14,
    "start_time": "2023-03-17T01:02:48.367Z"
   },
   {
    "duration": 15,
    "start_time": "2023-03-17T01:02:48.383Z"
   },
   {
    "duration": 12,
    "start_time": "2023-03-17T01:02:48.400Z"
   },
   {
    "duration": 350,
    "start_time": "2023-03-17T01:02:48.414Z"
   },
   {
    "duration": 7,
    "start_time": "2023-03-17T01:02:48.765Z"
   },
   {
    "duration": 11,
    "start_time": "2023-03-17T01:02:48.773Z"
   },
   {
    "duration": 20,
    "start_time": "2023-03-17T01:02:48.786Z"
   },
   {
    "duration": 550,
    "start_time": "2023-03-17T01:02:48.808Z"
   },
   {
    "duration": 8,
    "start_time": "2023-03-17T01:02:49.360Z"
   },
   {
    "duration": 12,
    "start_time": "2023-03-17T01:02:49.369Z"
   },
   {
    "duration": 278,
    "start_time": "2023-03-17T01:02:49.383Z"
   },
   {
    "duration": 254,
    "start_time": "2023-03-17T01:02:49.663Z"
   },
   {
    "duration": 9,
    "start_time": "2023-03-17T01:02:49.922Z"
   },
   {
    "duration": 168,
    "start_time": "2023-03-17T01:02:49.933Z"
   },
   {
    "duration": 241,
    "start_time": "2023-03-17T01:02:50.103Z"
   },
   {
    "duration": 21,
    "start_time": "2023-03-17T01:02:50.346Z"
   },
   {
    "duration": 23,
    "start_time": "2023-03-17T01:02:50.369Z"
   },
   {
    "duration": 10,
    "start_time": "2023-03-17T01:02:50.394Z"
   },
   {
    "duration": 134,
    "start_time": "2023-03-17T01:02:50.406Z"
   },
   {
    "duration": 7,
    "start_time": "2023-03-17T01:02:50.542Z"
   },
   {
    "duration": 161,
    "start_time": "2023-03-17T01:02:50.550Z"
   },
   {
    "duration": 7,
    "start_time": "2023-03-17T01:02:50.712Z"
   },
   {
    "duration": 19,
    "start_time": "2023-03-17T01:02:50.720Z"
   },
   {
    "duration": 133,
    "start_time": "2023-03-17T01:02:50.741Z"
   },
   {
    "duration": 8,
    "start_time": "2023-03-17T01:02:50.876Z"
   },
   {
    "duration": 148,
    "start_time": "2023-03-17T01:02:50.886Z"
   },
   {
    "duration": 7,
    "start_time": "2023-03-17T01:02:51.036Z"
   },
   {
    "duration": 32,
    "start_time": "2023-03-17T01:02:51.045Z"
   },
   {
    "duration": 31,
    "start_time": "2023-03-17T01:02:51.079Z"
   },
   {
    "duration": 298,
    "start_time": "2023-03-17T01:02:51.112Z"
   },
   {
    "duration": 308,
    "start_time": "2023-03-17T01:02:51.411Z"
   },
   {
    "duration": 10,
    "start_time": "2023-03-17T01:02:51.721Z"
   },
   {
    "duration": 11,
    "start_time": "2023-03-17T01:02:51.733Z"
   },
   {
    "duration": 11,
    "start_time": "2023-03-17T01:02:51.763Z"
   },
   {
    "duration": 9,
    "start_time": "2023-03-17T01:02:51.776Z"
   },
   {
    "duration": 344,
    "start_time": "2023-03-17T01:02:51.786Z"
   },
   {
    "duration": 9,
    "start_time": "2023-03-17T01:02:52.132Z"
   },
   {
    "duration": 21,
    "start_time": "2023-03-17T01:02:52.143Z"
   },
   {
    "duration": 21,
    "start_time": "2023-03-17T01:02:52.166Z"
   },
   {
    "duration": 480,
    "start_time": "2023-03-17T01:02:52.189Z"
   },
   {
    "duration": 122,
    "start_time": "2023-03-17T01:02:52.670Z"
   },
   {
    "duration": 126,
    "start_time": "2023-03-17T01:02:52.793Z"
   },
   {
    "duration": 127,
    "start_time": "2023-03-17T01:02:52.921Z"
   },
   {
    "duration": 2,
    "start_time": "2023-03-17T01:02:53.050Z"
   },
   {
    "duration": 30,
    "start_time": "2023-03-17T01:02:53.054Z"
   },
   {
    "duration": 19,
    "start_time": "2023-03-17T01:02:53.085Z"
   },
   {
    "duration": 17,
    "start_time": "2023-03-17T01:02:53.106Z"
   },
   {
    "duration": 20,
    "start_time": "2023-03-17T01:02:53.125Z"
   },
   {
    "duration": 14,
    "start_time": "2023-03-17T01:02:53.147Z"
   },
   {
    "duration": 25,
    "start_time": "2023-03-17T01:02:53.163Z"
   },
   {
    "duration": 445,
    "start_time": "2023-03-17T01:04:26.071Z"
   },
   {
    "duration": 525,
    "start_time": "2023-03-17T01:04:26.519Z"
   },
   {
    "duration": 223,
    "start_time": "2023-03-17T01:04:27.046Z"
   },
   {
    "duration": 121,
    "start_time": "2023-03-17T01:04:27.271Z"
   },
   {
    "duration": 21,
    "start_time": "2023-03-17T01:04:27.394Z"
   },
   {
    "duration": 20,
    "start_time": "2023-03-17T01:04:27.416Z"
   },
   {
    "duration": 14,
    "start_time": "2023-03-17T01:04:27.438Z"
   },
   {
    "duration": 13,
    "start_time": "2023-03-17T01:04:27.464Z"
   },
   {
    "duration": 7,
    "start_time": "2023-03-17T01:04:27.479Z"
   },
   {
    "duration": 216,
    "start_time": "2023-03-17T01:04:27.488Z"
   },
   {
    "duration": 5,
    "start_time": "2023-03-17T01:04:27.706Z"
   },
   {
    "duration": 9,
    "start_time": "2023-03-17T01:04:27.713Z"
   },
   {
    "duration": 24,
    "start_time": "2023-03-17T01:04:27.724Z"
   },
   {
    "duration": 8,
    "start_time": "2023-03-17T01:04:27.767Z"
   },
   {
    "duration": 6,
    "start_time": "2023-03-17T01:04:27.777Z"
   },
   {
    "duration": 6,
    "start_time": "2023-03-17T01:04:27.785Z"
   },
   {
    "duration": 15,
    "start_time": "2023-03-17T01:04:27.793Z"
   },
   {
    "duration": 7,
    "start_time": "2023-03-17T01:04:27.810Z"
   },
   {
    "duration": 9,
    "start_time": "2023-03-17T01:04:27.819Z"
   },
   {
    "duration": 39,
    "start_time": "2023-03-17T01:04:27.830Z"
   },
   {
    "duration": 5,
    "start_time": "2023-03-17T01:04:27.871Z"
   },
   {
    "duration": 33,
    "start_time": "2023-03-17T01:04:27.878Z"
   },
   {
    "duration": 7,
    "start_time": "2023-03-17T01:04:27.912Z"
   },
   {
    "duration": 6,
    "start_time": "2023-03-17T01:04:27.921Z"
   },
   {
    "duration": 39,
    "start_time": "2023-03-17T01:04:27.929Z"
   },
   {
    "duration": 32,
    "start_time": "2023-03-17T01:04:27.970Z"
   },
   {
    "duration": 10,
    "start_time": "2023-03-17T01:04:28.004Z"
   },
   {
    "duration": 23,
    "start_time": "2023-03-17T01:04:28.015Z"
   },
   {
    "duration": 34,
    "start_time": "2023-03-17T01:04:28.040Z"
   },
   {
    "duration": 12,
    "start_time": "2023-03-17T01:04:28.076Z"
   },
   {
    "duration": 11,
    "start_time": "2023-03-17T01:04:28.090Z"
   },
   {
    "duration": 332,
    "start_time": "2023-03-17T01:04:28.103Z"
   },
   {
    "duration": 5,
    "start_time": "2023-03-17T01:04:28.437Z"
   },
   {
    "duration": 7,
    "start_time": "2023-03-17T01:04:28.444Z"
   },
   {
    "duration": 16,
    "start_time": "2023-03-17T01:04:28.465Z"
   },
   {
    "duration": 547,
    "start_time": "2023-03-17T01:04:28.482Z"
   },
   {
    "duration": 6,
    "start_time": "2023-03-17T01:04:29.031Z"
   },
   {
    "duration": 16,
    "start_time": "2023-03-17T01:04:29.039Z"
   },
   {
    "duration": 259,
    "start_time": "2023-03-17T01:04:29.065Z"
   },
   {
    "duration": 257,
    "start_time": "2023-03-17T01:04:29.325Z"
   },
   {
    "duration": 6,
    "start_time": "2023-03-17T01:04:29.587Z"
   },
   {
    "duration": 151,
    "start_time": "2023-03-17T01:04:29.595Z"
   },
   {
    "duration": 243,
    "start_time": "2023-03-17T01:04:29.748Z"
   },
   {
    "duration": 8,
    "start_time": "2023-03-17T01:04:29.994Z"
   },
   {
    "duration": 27,
    "start_time": "2023-03-17T01:04:30.004Z"
   },
   {
    "duration": 30,
    "start_time": "2023-03-17T01:04:30.033Z"
   },
   {
    "duration": 139,
    "start_time": "2023-03-17T01:04:30.066Z"
   },
   {
    "duration": 6,
    "start_time": "2023-03-17T01:04:30.207Z"
   },
   {
    "duration": 174,
    "start_time": "2023-03-17T01:04:30.215Z"
   },
   {
    "duration": 6,
    "start_time": "2023-03-17T01:04:30.391Z"
   },
   {
    "duration": 35,
    "start_time": "2023-03-17T01:04:30.399Z"
   },
   {
    "duration": 170,
    "start_time": "2023-03-17T01:04:30.436Z"
   },
   {
    "duration": 8,
    "start_time": "2023-03-17T01:04:30.608Z"
   },
   {
    "duration": 175,
    "start_time": "2023-03-17T01:04:30.618Z"
   },
   {
    "duration": 7,
    "start_time": "2023-03-17T01:04:30.795Z"
   },
   {
    "duration": 27,
    "start_time": "2023-03-17T01:04:30.805Z"
   },
   {
    "duration": 69,
    "start_time": "2023-03-17T01:04:30.834Z"
   },
   {
    "duration": 324,
    "start_time": "2023-03-17T01:04:30.905Z"
   },
   {
    "duration": 303,
    "start_time": "2023-03-17T01:04:31.231Z"
   },
   {
    "duration": 13,
    "start_time": "2023-03-17T01:04:31.536Z"
   },
   {
    "duration": 33,
    "start_time": "2023-03-17T01:04:31.568Z"
   },
   {
    "duration": 51,
    "start_time": "2023-03-17T01:04:31.603Z"
   },
   {
    "duration": 34,
    "start_time": "2023-03-17T01:04:31.656Z"
   },
   {
    "duration": 353,
    "start_time": "2023-03-17T01:04:31.692Z"
   },
   {
    "duration": 19,
    "start_time": "2023-03-17T01:04:32.048Z"
   },
   {
    "duration": 44,
    "start_time": "2023-03-17T01:04:32.069Z"
   },
   {
    "duration": 18,
    "start_time": "2023-03-17T01:04:32.115Z"
   },
   {
    "duration": 445,
    "start_time": "2023-03-17T01:04:32.135Z"
   },
   {
    "duration": 119,
    "start_time": "2023-03-17T01:04:32.582Z"
   },
   {
    "duration": 124,
    "start_time": "2023-03-17T01:04:32.702Z"
   },
   {
    "duration": 122,
    "start_time": "2023-03-17T01:04:32.828Z"
   },
   {
    "duration": 3,
    "start_time": "2023-03-17T01:04:32.952Z"
   },
   {
    "duration": 3,
    "start_time": "2023-03-17T01:04:32.965Z"
   },
   {
    "duration": 12,
    "start_time": "2023-03-17T01:04:32.970Z"
   },
   {
    "duration": 11,
    "start_time": "2023-03-17T01:04:32.984Z"
   },
   {
    "duration": 8,
    "start_time": "2023-03-17T01:04:32.997Z"
   },
   {
    "duration": 15,
    "start_time": "2023-03-17T01:04:33.007Z"
   },
   {
    "duration": 5,
    "start_time": "2023-03-17T01:04:33.024Z"
   },
   {
    "duration": 533,
    "start_time": "2023-03-17T06:39:07.557Z"
   },
   {
    "duration": 520,
    "start_time": "2023-03-17T06:39:08.093Z"
   },
   {
    "duration": 454,
    "start_time": "2023-03-17T06:39:08.615Z"
   },
   {
    "duration": 179,
    "start_time": "2023-03-17T06:39:09.072Z"
   },
   {
    "duration": 29,
    "start_time": "2023-03-17T06:39:09.253Z"
   },
   {
    "duration": 22,
    "start_time": "2023-03-17T06:39:09.284Z"
   },
   {
    "duration": 6,
    "start_time": "2023-03-17T06:39:09.308Z"
   },
   {
    "duration": 15,
    "start_time": "2023-03-17T06:39:09.316Z"
   },
   {
    "duration": 36,
    "start_time": "2023-03-17T06:39:09.333Z"
   },
   {
    "duration": 259,
    "start_time": "2023-03-17T06:39:09.373Z"
   },
   {
    "duration": 8,
    "start_time": "2023-03-17T06:39:09.633Z"
   },
   {
    "duration": 139,
    "start_time": "2023-03-17T06:39:09.643Z"
   },
   {
    "duration": 0,
    "start_time": "2023-03-17T06:39:09.787Z"
   },
   {
    "duration": 0,
    "start_time": "2023-03-17T06:39:09.789Z"
   },
   {
    "duration": 0,
    "start_time": "2023-03-17T06:39:09.791Z"
   },
   {
    "duration": 0,
    "start_time": "2023-03-17T06:39:09.792Z"
   },
   {
    "duration": 0,
    "start_time": "2023-03-17T06:39:09.794Z"
   },
   {
    "duration": 0,
    "start_time": "2023-03-17T06:39:09.795Z"
   },
   {
    "duration": 0,
    "start_time": "2023-03-17T06:39:09.797Z"
   },
   {
    "duration": 0,
    "start_time": "2023-03-17T06:39:09.799Z"
   },
   {
    "duration": 0,
    "start_time": "2023-03-17T06:39:09.800Z"
   },
   {
    "duration": 0,
    "start_time": "2023-03-17T06:39:09.802Z"
   },
   {
    "duration": 0,
    "start_time": "2023-03-17T06:39:09.803Z"
   },
   {
    "duration": 0,
    "start_time": "2023-03-17T06:39:09.804Z"
   },
   {
    "duration": 0,
    "start_time": "2023-03-17T06:39:09.805Z"
   },
   {
    "duration": 0,
    "start_time": "2023-03-17T06:39:09.807Z"
   },
   {
    "duration": 0,
    "start_time": "2023-03-17T06:39:09.808Z"
   },
   {
    "duration": 0,
    "start_time": "2023-03-17T06:39:09.809Z"
   },
   {
    "duration": 0,
    "start_time": "2023-03-17T06:39:09.810Z"
   },
   {
    "duration": 0,
    "start_time": "2023-03-17T06:39:09.811Z"
   },
   {
    "duration": 0,
    "start_time": "2023-03-17T06:39:09.813Z"
   },
   {
    "duration": 0,
    "start_time": "2023-03-17T06:39:09.815Z"
   },
   {
    "duration": 0,
    "start_time": "2023-03-17T06:39:09.864Z"
   },
   {
    "duration": 0,
    "start_time": "2023-03-17T06:39:09.866Z"
   },
   {
    "duration": 0,
    "start_time": "2023-03-17T06:39:09.867Z"
   },
   {
    "duration": 0,
    "start_time": "2023-03-17T06:39:09.869Z"
   },
   {
    "duration": 0,
    "start_time": "2023-03-17T06:39:09.871Z"
   },
   {
    "duration": 0,
    "start_time": "2023-03-17T06:39:09.873Z"
   },
   {
    "duration": 0,
    "start_time": "2023-03-17T06:39:09.874Z"
   },
   {
    "duration": 0,
    "start_time": "2023-03-17T06:39:09.876Z"
   },
   {
    "duration": 0,
    "start_time": "2023-03-17T06:39:09.877Z"
   },
   {
    "duration": 0,
    "start_time": "2023-03-17T06:39:09.879Z"
   },
   {
    "duration": 0,
    "start_time": "2023-03-17T06:39:09.880Z"
   },
   {
    "duration": 0,
    "start_time": "2023-03-17T06:39:09.881Z"
   },
   {
    "duration": 0,
    "start_time": "2023-03-17T06:39:09.883Z"
   },
   {
    "duration": 0,
    "start_time": "2023-03-17T06:39:09.884Z"
   },
   {
    "duration": 0,
    "start_time": "2023-03-17T06:39:09.886Z"
   },
   {
    "duration": 0,
    "start_time": "2023-03-17T06:39:09.887Z"
   },
   {
    "duration": 0,
    "start_time": "2023-03-17T06:39:09.888Z"
   },
   {
    "duration": 0,
    "start_time": "2023-03-17T06:39:09.891Z"
   },
   {
    "duration": 0,
    "start_time": "2023-03-17T06:39:09.892Z"
   },
   {
    "duration": 0,
    "start_time": "2023-03-17T06:39:09.895Z"
   },
   {
    "duration": 0,
    "start_time": "2023-03-17T06:39:09.896Z"
   },
   {
    "duration": 0,
    "start_time": "2023-03-17T06:39:09.898Z"
   },
   {
    "duration": 0,
    "start_time": "2023-03-17T06:39:09.899Z"
   },
   {
    "duration": 0,
    "start_time": "2023-03-17T06:39:09.900Z"
   },
   {
    "duration": 0,
    "start_time": "2023-03-17T06:39:09.902Z"
   },
   {
    "duration": 0,
    "start_time": "2023-03-17T06:39:09.903Z"
   },
   {
    "duration": 0,
    "start_time": "2023-03-17T06:39:09.905Z"
   },
   {
    "duration": 0,
    "start_time": "2023-03-17T06:39:09.906Z"
   },
   {
    "duration": 0,
    "start_time": "2023-03-17T06:39:09.971Z"
   },
   {
    "duration": 0,
    "start_time": "2023-03-17T06:39:09.973Z"
   },
   {
    "duration": 0,
    "start_time": "2023-03-17T06:39:09.975Z"
   },
   {
    "duration": 0,
    "start_time": "2023-03-17T06:39:09.976Z"
   },
   {
    "duration": 0,
    "start_time": "2023-03-17T06:39:09.977Z"
   },
   {
    "duration": 0,
    "start_time": "2023-03-17T06:39:09.978Z"
   },
   {
    "duration": 0,
    "start_time": "2023-03-17T06:39:09.980Z"
   },
   {
    "duration": 0,
    "start_time": "2023-03-17T06:39:09.982Z"
   },
   {
    "duration": 0,
    "start_time": "2023-03-17T06:39:09.983Z"
   },
   {
    "duration": 0,
    "start_time": "2023-03-17T06:39:09.984Z"
   },
   {
    "duration": 0,
    "start_time": "2023-03-17T06:39:09.985Z"
   },
   {
    "duration": 0,
    "start_time": "2023-03-17T06:39:09.987Z"
   },
   {
    "duration": 0,
    "start_time": "2023-03-17T06:39:09.989Z"
   },
   {
    "duration": 1,
    "start_time": "2023-03-17T06:39:09.990Z"
   },
   {
    "duration": 0,
    "start_time": "2023-03-17T06:39:09.993Z"
   },
   {
    "duration": 9,
    "start_time": "2023-03-17T06:41:37.378Z"
   },
   {
    "duration": 6,
    "start_time": "2023-03-17T06:41:53.241Z"
   },
   {
    "duration": 10,
    "start_time": "2023-03-17T06:42:05.922Z"
   },
   {
    "duration": 4,
    "start_time": "2023-03-17T06:42:18.577Z"
   },
   {
    "duration": 3,
    "start_time": "2023-03-17T06:42:51.000Z"
   },
   {
    "duration": 8,
    "start_time": "2023-03-17T06:42:51.009Z"
   },
   {
    "duration": 24,
    "start_time": "2023-03-17T06:42:51.019Z"
   },
   {
    "duration": 7,
    "start_time": "2023-03-17T06:42:51.044Z"
   },
   {
    "duration": 63,
    "start_time": "2023-03-17T06:42:51.053Z"
   },
   {
    "duration": 17,
    "start_time": "2023-03-17T06:42:51.119Z"
   },
   {
    "duration": 34,
    "start_time": "2023-03-17T06:42:51.138Z"
   },
   {
    "duration": 6,
    "start_time": "2023-03-17T06:42:51.174Z"
   },
   {
    "duration": 42,
    "start_time": "2023-03-17T06:42:51.182Z"
   },
   {
    "duration": 20,
    "start_time": "2023-03-17T06:42:51.225Z"
   },
   {
    "duration": 233,
    "start_time": "2023-03-17T06:42:51.247Z"
   },
   {
    "duration": 8,
    "start_time": "2023-03-17T06:42:51.482Z"
   },
   {
    "duration": 19,
    "start_time": "2023-03-17T06:42:51.493Z"
   },
   {
    "duration": 6,
    "start_time": "2023-03-17T06:42:51.518Z"
   },
   {
    "duration": 43,
    "start_time": "2023-03-17T06:42:51.527Z"
   },
   {
    "duration": 15,
    "start_time": "2023-03-17T06:42:51.573Z"
   },
   {
    "duration": 15,
    "start_time": "2023-03-17T06:42:51.591Z"
   },
   {
    "duration": 17,
    "start_time": "2023-03-17T06:42:51.609Z"
   },
   {
    "duration": 9,
    "start_time": "2023-03-17T06:42:51.629Z"
   },
   {
    "duration": 46,
    "start_time": "2023-03-17T06:42:51.640Z"
   },
   {
    "duration": 8,
    "start_time": "2023-03-17T06:42:51.688Z"
   },
   {
    "duration": 10,
    "start_time": "2023-03-17T06:42:51.698Z"
   },
   {
    "duration": 19,
    "start_time": "2023-03-17T06:42:51.710Z"
   },
   {
    "duration": 50,
    "start_time": "2023-03-17T06:42:51.731Z"
   },
   {
    "duration": 12,
    "start_time": "2023-03-17T06:42:51.783Z"
   },
   {
    "duration": 24,
    "start_time": "2023-03-17T06:42:51.797Z"
   },
   {
    "duration": 15,
    "start_time": "2023-03-17T06:42:51.823Z"
   },
   {
    "duration": 16,
    "start_time": "2023-03-17T06:42:51.864Z"
   },
   {
    "duration": 23,
    "start_time": "2023-03-17T06:42:51.882Z"
   },
   {
    "duration": 376,
    "start_time": "2023-03-17T06:42:51.907Z"
   },
   {
    "duration": 8,
    "start_time": "2023-03-17T06:42:52.285Z"
   },
   {
    "duration": 67,
    "start_time": "2023-03-17T06:42:52.297Z"
   },
   {
    "duration": 39,
    "start_time": "2023-03-17T06:42:52.366Z"
   },
   {
    "duration": 613,
    "start_time": "2023-03-17T06:42:52.407Z"
   },
   {
    "duration": 7,
    "start_time": "2023-03-17T06:42:53.022Z"
   },
   {
    "duration": 8,
    "start_time": "2023-03-17T06:42:53.031Z"
   },
   {
    "duration": 285,
    "start_time": "2023-03-17T06:42:53.041Z"
   },
   {
    "duration": 288,
    "start_time": "2023-03-17T06:42:53.332Z"
   },
   {
    "duration": 8,
    "start_time": "2023-03-17T06:42:53.622Z"
   },
   {
    "duration": 273,
    "start_time": "2023-03-17T06:42:53.632Z"
   },
   {
    "duration": 165,
    "start_time": "2023-03-17T06:42:53.907Z"
   },
   {
    "duration": 9,
    "start_time": "2023-03-17T06:42:54.074Z"
   },
   {
    "duration": 15,
    "start_time": "2023-03-17T06:42:54.085Z"
   },
   {
    "duration": 13,
    "start_time": "2023-03-17T06:42:54.101Z"
   },
   {
    "duration": 164,
    "start_time": "2023-03-17T06:42:54.116Z"
   },
   {
    "duration": 12,
    "start_time": "2023-03-17T06:42:54.282Z"
   },
   {
    "duration": 194,
    "start_time": "2023-03-17T06:42:54.296Z"
   },
   {
    "duration": 11,
    "start_time": "2023-03-17T06:42:54.492Z"
   },
   {
    "duration": 29,
    "start_time": "2023-03-17T06:42:54.505Z"
   },
   {
    "duration": 174,
    "start_time": "2023-03-17T06:42:54.536Z"
   },
   {
    "duration": 9,
    "start_time": "2023-03-17T06:42:54.713Z"
   },
   {
    "duration": 187,
    "start_time": "2023-03-17T06:42:54.724Z"
   },
   {
    "duration": 7,
    "start_time": "2023-03-17T06:42:54.913Z"
   },
   {
    "duration": 9,
    "start_time": "2023-03-17T06:42:54.921Z"
   },
   {
    "duration": 41,
    "start_time": "2023-03-17T06:42:54.932Z"
   },
   {
    "duration": 387,
    "start_time": "2023-03-17T06:42:54.975Z"
   },
   {
    "duration": 350,
    "start_time": "2023-03-17T06:42:55.364Z"
   },
   {
    "duration": 11,
    "start_time": "2023-03-17T06:42:55.716Z"
   },
   {
    "duration": 11,
    "start_time": "2023-03-17T06:42:55.729Z"
   },
   {
    "duration": 39,
    "start_time": "2023-03-17T06:42:55.742Z"
   },
   {
    "duration": 16,
    "start_time": "2023-03-17T06:42:55.783Z"
   },
   {
    "duration": 449,
    "start_time": "2023-03-17T06:42:55.800Z"
   },
   {
    "duration": 19,
    "start_time": "2023-03-17T06:42:56.251Z"
   },
   {
    "duration": 15,
    "start_time": "2023-03-17T06:42:56.272Z"
   },
   {
    "duration": 17,
    "start_time": "2023-03-17T06:42:56.289Z"
   },
   {
    "duration": 430,
    "start_time": "2023-03-17T06:42:56.307Z"
   },
   {
    "duration": 186,
    "start_time": "2023-03-17T06:42:56.739Z"
   },
   {
    "duration": 170,
    "start_time": "2023-03-17T06:42:56.927Z"
   },
   {
    "duration": 130,
    "start_time": "2023-03-17T06:42:57.099Z"
   },
   {
    "duration": 3,
    "start_time": "2023-03-17T06:42:57.231Z"
   },
   {
    "duration": 6,
    "start_time": "2023-03-17T06:42:57.235Z"
   },
   {
    "duration": 27,
    "start_time": "2023-03-17T06:42:57.244Z"
   },
   {
    "duration": 6,
    "start_time": "2023-03-17T06:42:57.273Z"
   },
   {
    "duration": 28,
    "start_time": "2023-03-17T06:42:57.280Z"
   },
   {
    "duration": 16,
    "start_time": "2023-03-17T06:42:57.310Z"
   },
   {
    "duration": 6,
    "start_time": "2023-03-17T06:42:57.328Z"
   },
   {
    "duration": 20,
    "start_time": "2023-03-17T06:45:06.721Z"
   },
   {
    "duration": 21,
    "start_time": "2023-03-17T06:45:14.587Z"
   },
   {
    "duration": 430,
    "start_time": "2023-03-18T08:03:33.278Z"
   },
   {
    "duration": 531,
    "start_time": "2023-03-18T08:03:33.710Z"
   },
   {
    "duration": 382,
    "start_time": "2023-03-18T08:03:34.243Z"
   },
   {
    "duration": 3,
    "start_time": "2023-03-18T08:03:34.628Z"
   },
   {
    "duration": 274,
    "start_time": "2023-03-18T08:03:34.633Z"
   },
   {
    "duration": 18,
    "start_time": "2023-03-18T08:03:34.909Z"
   },
   {
    "duration": 18,
    "start_time": "2023-03-18T08:03:34.929Z"
   },
   {
    "duration": 5,
    "start_time": "2023-03-18T08:03:34.949Z"
   },
   {
    "duration": 13,
    "start_time": "2023-03-18T08:03:34.955Z"
   },
   {
    "duration": 4,
    "start_time": "2023-03-18T08:03:34.971Z"
   },
   {
    "duration": 204,
    "start_time": "2023-03-18T08:03:34.977Z"
   },
   {
    "duration": 7,
    "start_time": "2023-03-18T08:03:35.183Z"
   },
   {
    "duration": 9,
    "start_time": "2023-03-18T08:03:35.192Z"
   },
   {
    "duration": 6,
    "start_time": "2023-03-18T08:03:35.203Z"
   },
   {
    "duration": 9,
    "start_time": "2023-03-18T08:03:35.211Z"
   },
   {
    "duration": 41,
    "start_time": "2023-03-18T08:03:35.222Z"
   },
   {
    "duration": 7,
    "start_time": "2023-03-18T08:03:35.265Z"
   },
   {
    "duration": 12,
    "start_time": "2023-03-18T08:03:35.274Z"
   },
   {
    "duration": 5,
    "start_time": "2023-03-18T08:03:35.288Z"
   },
   {
    "duration": 44,
    "start_time": "2023-03-18T08:03:35.295Z"
   },
   {
    "duration": 7,
    "start_time": "2023-03-18T08:03:35.362Z"
   },
   {
    "duration": 6,
    "start_time": "2023-03-18T08:03:35.370Z"
   },
   {
    "duration": 18,
    "start_time": "2023-03-18T08:03:35.377Z"
   },
   {
    "duration": 29,
    "start_time": "2023-03-18T08:03:35.397Z"
   },
   {
    "duration": 37,
    "start_time": "2023-03-18T08:03:35.428Z"
   },
   {
    "duration": 14,
    "start_time": "2023-03-18T08:03:35.467Z"
   },
   {
    "duration": 12,
    "start_time": "2023-03-18T08:03:35.483Z"
   },
   {
    "duration": 18,
    "start_time": "2023-03-18T08:03:35.500Z"
   },
   {
    "duration": 13,
    "start_time": "2023-03-18T08:03:35.520Z"
   },
   {
    "duration": 314,
    "start_time": "2023-03-18T08:03:35.535Z"
   },
   {
    "duration": 10,
    "start_time": "2023-03-18T08:03:35.851Z"
   },
   {
    "duration": 6,
    "start_time": "2023-03-18T08:03:35.864Z"
   },
   {
    "duration": 16,
    "start_time": "2023-03-18T08:03:35.872Z"
   },
   {
    "duration": 594,
    "start_time": "2023-03-18T08:03:35.890Z"
   },
   {
    "duration": 6,
    "start_time": "2023-03-18T08:03:36.486Z"
   },
   {
    "duration": 11,
    "start_time": "2023-03-18T08:03:36.494Z"
   },
   {
    "duration": 250,
    "start_time": "2023-03-18T08:03:36.506Z"
   },
   {
    "duration": 256,
    "start_time": "2023-03-18T08:03:36.758Z"
   },
   {
    "duration": 8,
    "start_time": "2023-03-18T08:03:37.016Z"
   },
   {
    "duration": 168,
    "start_time": "2023-03-18T08:03:37.027Z"
   },
   {
    "duration": 247,
    "start_time": "2023-03-18T08:03:37.197Z"
   },
   {
    "duration": 6,
    "start_time": "2023-03-18T08:03:37.446Z"
   },
   {
    "duration": 8,
    "start_time": "2023-03-18T08:03:37.462Z"
   },
   {
    "duration": 9,
    "start_time": "2023-03-18T08:03:37.472Z"
   },
   {
    "duration": 154,
    "start_time": "2023-03-18T08:03:37.483Z"
   },
   {
    "duration": 6,
    "start_time": "2023-03-18T08:03:37.639Z"
   },
   {
    "duration": 153,
    "start_time": "2023-03-18T08:03:37.647Z"
   },
   {
    "duration": 8,
    "start_time": "2023-03-18T08:03:37.802Z"
   },
   {
    "duration": 5,
    "start_time": "2023-03-18T08:03:37.812Z"
   },
   {
    "duration": 156,
    "start_time": "2023-03-18T08:03:37.819Z"
   },
   {
    "duration": 7,
    "start_time": "2023-03-18T08:03:37.977Z"
   },
   {
    "duration": 140,
    "start_time": "2023-03-18T08:03:37.986Z"
   },
   {
    "duration": 7,
    "start_time": "2023-03-18T08:03:38.128Z"
   },
   {
    "duration": 26,
    "start_time": "2023-03-18T08:03:38.137Z"
   },
   {
    "duration": 46,
    "start_time": "2023-03-18T08:03:38.165Z"
   },
   {
    "duration": 277,
    "start_time": "2023-03-18T08:03:38.214Z"
   },
   {
    "duration": 321,
    "start_time": "2023-03-18T08:03:38.493Z"
   },
   {
    "duration": 13,
    "start_time": "2023-03-18T08:03:38.815Z"
   },
   {
    "duration": 12,
    "start_time": "2023-03-18T08:03:38.830Z"
   },
   {
    "duration": 13,
    "start_time": "2023-03-18T08:03:38.862Z"
   },
   {
    "duration": 8,
    "start_time": "2023-03-18T08:03:38.877Z"
   },
   {
    "duration": 347,
    "start_time": "2023-03-18T08:03:38.887Z"
   },
   {
    "duration": 10,
    "start_time": "2023-03-18T08:03:39.236Z"
   },
   {
    "duration": 19,
    "start_time": "2023-03-18T08:03:39.248Z"
   },
   {
    "duration": 7,
    "start_time": "2023-03-18T08:03:39.269Z"
   },
   {
    "duration": 429,
    "start_time": "2023-03-18T08:03:39.278Z"
   },
   {
    "duration": 149,
    "start_time": "2023-03-18T08:03:39.709Z"
   },
   {
    "duration": 126,
    "start_time": "2023-03-18T08:03:39.862Z"
   },
   {
    "duration": 131,
    "start_time": "2023-03-18T08:03:39.990Z"
   },
   {
    "duration": 3,
    "start_time": "2023-03-18T08:03:40.123Z"
   },
   {
    "duration": 6,
    "start_time": "2023-03-18T08:03:40.128Z"
   },
   {
    "duration": 32,
    "start_time": "2023-03-18T08:03:40.136Z"
   },
   {
    "duration": 6,
    "start_time": "2023-03-18T08:03:40.170Z"
   },
   {
    "duration": 8,
    "start_time": "2023-03-18T08:03:40.179Z"
   },
   {
    "duration": 12,
    "start_time": "2023-03-18T08:03:40.188Z"
   },
   {
    "duration": 6,
    "start_time": "2023-03-18T08:03:40.203Z"
   },
   {
    "duration": 5,
    "start_time": "2023-03-18T08:12:03.250Z"
   },
   {
    "duration": 3,
    "start_time": "2023-03-18T08:12:17.962Z"
   },
   {
    "duration": 7,
    "start_time": "2023-03-18T08:12:17.968Z"
   },
   {
    "duration": 4,
    "start_time": "2023-03-18T08:12:17.977Z"
   },
   {
    "duration": 5,
    "start_time": "2023-03-18T08:12:17.983Z"
   },
   {
    "duration": 51,
    "start_time": "2023-03-18T08:12:17.990Z"
   },
   {
    "duration": 20,
    "start_time": "2023-03-18T08:12:18.043Z"
   },
   {
    "duration": 14,
    "start_time": "2023-03-18T08:12:18.064Z"
   },
   {
    "duration": 5,
    "start_time": "2023-03-18T08:12:18.080Z"
   },
   {
    "duration": 13,
    "start_time": "2023-03-18T08:12:18.086Z"
   },
   {
    "duration": 11,
    "start_time": "2023-03-18T08:12:18.101Z"
   },
   {
    "duration": 252,
    "start_time": "2023-03-18T08:12:18.114Z"
   },
   {
    "duration": 7,
    "start_time": "2023-03-18T08:12:18.368Z"
   },
   {
    "duration": 7,
    "start_time": "2023-03-18T08:12:18.377Z"
   },
   {
    "duration": 137,
    "start_time": "2023-03-18T08:12:18.386Z"
   },
   {
    "duration": 0,
    "start_time": "2023-03-18T08:12:18.527Z"
   },
   {
    "duration": 0,
    "start_time": "2023-03-18T08:12:18.529Z"
   },
   {
    "duration": 0,
    "start_time": "2023-03-18T08:12:18.530Z"
   },
   {
    "duration": 0,
    "start_time": "2023-03-18T08:12:18.531Z"
   },
   {
    "duration": 0,
    "start_time": "2023-03-18T08:12:18.532Z"
   },
   {
    "duration": 0,
    "start_time": "2023-03-18T08:12:18.533Z"
   },
   {
    "duration": 0,
    "start_time": "2023-03-18T08:12:18.534Z"
   },
   {
    "duration": 0,
    "start_time": "2023-03-18T08:12:18.535Z"
   },
   {
    "duration": 0,
    "start_time": "2023-03-18T08:12:18.536Z"
   },
   {
    "duration": 0,
    "start_time": "2023-03-18T08:12:18.537Z"
   },
   {
    "duration": 0,
    "start_time": "2023-03-18T08:12:18.561Z"
   },
   {
    "duration": 0,
    "start_time": "2023-03-18T08:12:18.563Z"
   },
   {
    "duration": 0,
    "start_time": "2023-03-18T08:12:18.564Z"
   },
   {
    "duration": 0,
    "start_time": "2023-03-18T08:12:18.564Z"
   },
   {
    "duration": 0,
    "start_time": "2023-03-18T08:12:18.565Z"
   },
   {
    "duration": 0,
    "start_time": "2023-03-18T08:12:18.566Z"
   },
   {
    "duration": 0,
    "start_time": "2023-03-18T08:12:18.567Z"
   },
   {
    "duration": 0,
    "start_time": "2023-03-18T08:12:18.568Z"
   },
   {
    "duration": 0,
    "start_time": "2023-03-18T08:12:18.569Z"
   },
   {
    "duration": 0,
    "start_time": "2023-03-18T08:12:18.570Z"
   },
   {
    "duration": 0,
    "start_time": "2023-03-18T08:12:18.572Z"
   },
   {
    "duration": 0,
    "start_time": "2023-03-18T08:12:18.573Z"
   },
   {
    "duration": 0,
    "start_time": "2023-03-18T08:12:18.574Z"
   },
   {
    "duration": 0,
    "start_time": "2023-03-18T08:12:18.575Z"
   },
   {
    "duration": 0,
    "start_time": "2023-03-18T08:12:18.576Z"
   },
   {
    "duration": 0,
    "start_time": "2023-03-18T08:12:18.577Z"
   },
   {
    "duration": 0,
    "start_time": "2023-03-18T08:12:18.578Z"
   },
   {
    "duration": 0,
    "start_time": "2023-03-18T08:12:18.579Z"
   },
   {
    "duration": 0,
    "start_time": "2023-03-18T08:12:18.580Z"
   },
   {
    "duration": 0,
    "start_time": "2023-03-18T08:12:18.581Z"
   },
   {
    "duration": 0,
    "start_time": "2023-03-18T08:12:18.582Z"
   },
   {
    "duration": 0,
    "start_time": "2023-03-18T08:12:18.583Z"
   },
   {
    "duration": 0,
    "start_time": "2023-03-18T08:12:18.585Z"
   },
   {
    "duration": 0,
    "start_time": "2023-03-18T08:12:18.585Z"
   },
   {
    "duration": 0,
    "start_time": "2023-03-18T08:12:18.587Z"
   },
   {
    "duration": 0,
    "start_time": "2023-03-18T08:12:18.587Z"
   },
   {
    "duration": 0,
    "start_time": "2023-03-18T08:12:18.588Z"
   },
   {
    "duration": 0,
    "start_time": "2023-03-18T08:12:18.589Z"
   },
   {
    "duration": 1,
    "start_time": "2023-03-18T08:12:18.590Z"
   },
   {
    "duration": 0,
    "start_time": "2023-03-18T08:12:18.591Z"
   },
   {
    "duration": 0,
    "start_time": "2023-03-18T08:12:18.593Z"
   },
   {
    "duration": 0,
    "start_time": "2023-03-18T08:12:18.593Z"
   },
   {
    "duration": 0,
    "start_time": "2023-03-18T08:12:18.595Z"
   },
   {
    "duration": 0,
    "start_time": "2023-03-18T08:12:18.596Z"
   },
   {
    "duration": 0,
    "start_time": "2023-03-18T08:12:18.597Z"
   },
   {
    "duration": 0,
    "start_time": "2023-03-18T08:12:18.598Z"
   },
   {
    "duration": 0,
    "start_time": "2023-03-18T08:12:18.661Z"
   },
   {
    "duration": 0,
    "start_time": "2023-03-18T08:12:18.662Z"
   },
   {
    "duration": 0,
    "start_time": "2023-03-18T08:12:18.663Z"
   },
   {
    "duration": 0,
    "start_time": "2023-03-18T08:12:18.664Z"
   },
   {
    "duration": 0,
    "start_time": "2023-03-18T08:12:18.666Z"
   },
   {
    "duration": 0,
    "start_time": "2023-03-18T08:12:18.667Z"
   },
   {
    "duration": 0,
    "start_time": "2023-03-18T08:12:18.668Z"
   },
   {
    "duration": 0,
    "start_time": "2023-03-18T08:12:18.669Z"
   },
   {
    "duration": 1,
    "start_time": "2023-03-18T08:12:18.670Z"
   },
   {
    "duration": 0,
    "start_time": "2023-03-18T08:12:18.672Z"
   },
   {
    "duration": 0,
    "start_time": "2023-03-18T08:12:18.673Z"
   },
   {
    "duration": 0,
    "start_time": "2023-03-18T08:12:18.674Z"
   },
   {
    "duration": 0,
    "start_time": "2023-03-18T08:12:18.675Z"
   },
   {
    "duration": 0,
    "start_time": "2023-03-18T08:12:18.676Z"
   },
   {
    "duration": 0,
    "start_time": "2023-03-18T08:12:18.677Z"
   },
   {
    "duration": 0,
    "start_time": "2023-03-18T08:12:18.678Z"
   },
   {
    "duration": 5,
    "start_time": "2023-03-18T08:12:53.710Z"
   },
   {
    "duration": 5,
    "start_time": "2023-03-18T08:12:57.136Z"
   },
   {
    "duration": 14,
    "start_time": "2023-03-18T08:13:01.767Z"
   },
   {
    "duration": 5,
    "start_time": "2023-03-18T08:13:02.232Z"
   },
   {
    "duration": 8,
    "start_time": "2023-03-18T08:13:03.601Z"
   },
   {
    "duration": 11,
    "start_time": "2023-03-18T08:13:10.577Z"
   },
   {
    "duration": 5,
    "start_time": "2023-03-18T08:13:11.248Z"
   },
   {
    "duration": 30,
    "start_time": "2023-03-18T08:13:11.851Z"
   },
   {
    "duration": 7,
    "start_time": "2023-03-18T08:13:19.323Z"
   },
   {
    "duration": 5,
    "start_time": "2023-03-18T08:13:19.878Z"
   },
   {
    "duration": 16,
    "start_time": "2023-03-18T08:13:20.817Z"
   },
   {
    "duration": 24,
    "start_time": "2023-03-18T08:13:22.491Z"
   },
   {
    "duration": 13,
    "start_time": "2023-03-18T08:13:23.161Z"
   },
   {
    "duration": 18,
    "start_time": "2023-03-18T08:13:34.740Z"
   },
   {
    "duration": 14,
    "start_time": "2023-03-18T08:13:39.707Z"
   },
   {
    "duration": 10,
    "start_time": "2023-03-18T08:13:53.478Z"
   },
   {
    "duration": 10,
    "start_time": "2023-03-18T08:13:55.239Z"
   },
   {
    "duration": 303,
    "start_time": "2023-03-18T08:13:57.251Z"
   },
   {
    "duration": 3,
    "start_time": "2023-03-18T08:14:01.875Z"
   },
   {
    "duration": 19,
    "start_time": "2023-03-18T08:14:01.881Z"
   },
   {
    "duration": 17,
    "start_time": "2023-03-18T08:14:01.902Z"
   },
   {
    "duration": 12,
    "start_time": "2023-03-18T08:14:01.921Z"
   },
   {
    "duration": 67,
    "start_time": "2023-03-18T08:14:01.936Z"
   },
   {
    "duration": 16,
    "start_time": "2023-03-18T08:14:02.005Z"
   },
   {
    "duration": 45,
    "start_time": "2023-03-18T08:14:02.023Z"
   },
   {
    "duration": 32,
    "start_time": "2023-03-18T08:14:02.070Z"
   },
   {
    "duration": 37,
    "start_time": "2023-03-18T08:14:02.104Z"
   },
   {
    "duration": 20,
    "start_time": "2023-03-18T08:14:02.143Z"
   },
   {
    "duration": 213,
    "start_time": "2023-03-18T08:14:02.167Z"
   },
   {
    "duration": 6,
    "start_time": "2023-03-18T08:14:02.383Z"
   },
   {
    "duration": 22,
    "start_time": "2023-03-18T08:14:02.391Z"
   },
   {
    "duration": 39,
    "start_time": "2023-03-18T08:14:02.415Z"
   },
   {
    "duration": 33,
    "start_time": "2023-03-18T08:14:02.456Z"
   },
   {
    "duration": 14,
    "start_time": "2023-03-18T08:14:02.491Z"
   },
   {
    "duration": 13,
    "start_time": "2023-03-18T08:14:02.506Z"
   },
   {
    "duration": 32,
    "start_time": "2023-03-18T08:14:02.521Z"
   },
   {
    "duration": 8,
    "start_time": "2023-03-18T08:14:02.555Z"
   },
   {
    "duration": 36,
    "start_time": "2023-03-18T08:14:02.565Z"
   },
   {
    "duration": 7,
    "start_time": "2023-03-18T08:14:02.603Z"
   },
   {
    "duration": 26,
    "start_time": "2023-03-18T08:14:02.612Z"
   },
   {
    "duration": 19,
    "start_time": "2023-03-18T08:14:02.640Z"
   },
   {
    "duration": 42,
    "start_time": "2023-03-18T08:14:02.661Z"
   },
   {
    "duration": 9,
    "start_time": "2023-03-18T08:14:02.705Z"
   },
   {
    "duration": 30,
    "start_time": "2023-03-18T08:14:02.716Z"
   },
   {
    "duration": 16,
    "start_time": "2023-03-18T08:14:02.748Z"
   },
   {
    "duration": 14,
    "start_time": "2023-03-18T08:14:02.766Z"
   },
   {
    "duration": 11,
    "start_time": "2023-03-18T08:14:02.785Z"
   },
   {
    "duration": 331,
    "start_time": "2023-03-18T08:14:02.798Z"
   },
   {
    "duration": 6,
    "start_time": "2023-03-18T08:14:03.130Z"
   },
   {
    "duration": 8,
    "start_time": "2023-03-18T08:14:03.138Z"
   },
   {
    "duration": 15,
    "start_time": "2023-03-18T08:14:03.162Z"
   },
   {
    "duration": 665,
    "start_time": "2023-03-18T08:14:03.179Z"
   },
   {
    "duration": 16,
    "start_time": "2023-03-18T08:14:03.846Z"
   },
   {
    "duration": 8,
    "start_time": "2023-03-18T08:14:03.864Z"
   },
   {
    "duration": 372,
    "start_time": "2023-03-18T08:14:03.875Z"
   },
   {
    "duration": 275,
    "start_time": "2023-03-18T08:14:04.249Z"
   },
   {
    "duration": 9,
    "start_time": "2023-03-18T08:14:04.526Z"
   },
   {
    "duration": 164,
    "start_time": "2023-03-18T08:14:04.537Z"
   },
   {
    "duration": 154,
    "start_time": "2023-03-18T08:14:04.703Z"
   },
   {
    "duration": 7,
    "start_time": "2023-03-18T08:14:04.860Z"
   },
   {
    "duration": 11,
    "start_time": "2023-03-18T08:14:04.868Z"
   },
   {
    "duration": 7,
    "start_time": "2023-03-18T08:14:04.881Z"
   },
   {
    "duration": 160,
    "start_time": "2023-03-18T08:14:04.889Z"
   },
   {
    "duration": 15,
    "start_time": "2023-03-18T08:14:05.051Z"
   },
   {
    "duration": 175,
    "start_time": "2023-03-18T08:14:05.068Z"
   },
   {
    "duration": 18,
    "start_time": "2023-03-18T08:14:05.245Z"
   },
   {
    "duration": 9,
    "start_time": "2023-03-18T08:14:05.265Z"
   },
   {
    "duration": 152,
    "start_time": "2023-03-18T08:14:05.276Z"
   },
   {
    "duration": 8,
    "start_time": "2023-03-18T08:14:05.430Z"
   },
   {
    "duration": 243,
    "start_time": "2023-03-18T08:14:05.440Z"
   },
   {
    "duration": 6,
    "start_time": "2023-03-18T08:14:05.686Z"
   },
   {
    "duration": 12,
    "start_time": "2023-03-18T08:14:05.694Z"
   },
   {
    "duration": 17,
    "start_time": "2023-03-18T08:14:05.708Z"
   },
   {
    "duration": 304,
    "start_time": "2023-03-18T08:14:05.726Z"
   },
   {
    "duration": 314,
    "start_time": "2023-03-18T08:14:06.032Z"
   },
   {
    "duration": 23,
    "start_time": "2023-03-18T08:14:06.349Z"
   },
   {
    "duration": 12,
    "start_time": "2023-03-18T08:14:06.375Z"
   },
   {
    "duration": 18,
    "start_time": "2023-03-18T08:14:06.388Z"
   },
   {
    "duration": 18,
    "start_time": "2023-03-18T08:14:06.408Z"
   },
   {
    "duration": 344,
    "start_time": "2023-03-18T08:14:06.427Z"
   },
   {
    "duration": 11,
    "start_time": "2023-03-18T08:14:06.773Z"
   },
   {
    "duration": 9,
    "start_time": "2023-03-18T08:14:06.786Z"
   },
   {
    "duration": 8,
    "start_time": "2023-03-18T08:14:06.796Z"
   },
   {
    "duration": 342,
    "start_time": "2023-03-18T08:14:06.805Z"
   },
   {
    "duration": 130,
    "start_time": "2023-03-18T08:14:07.149Z"
   },
   {
    "duration": 110,
    "start_time": "2023-03-18T08:14:07.281Z"
   },
   {
    "duration": 234,
    "start_time": "2023-03-18T08:14:07.392Z"
   },
   {
    "duration": 2,
    "start_time": "2023-03-18T08:14:07.628Z"
   },
   {
    "duration": 5,
    "start_time": "2023-03-18T08:14:07.632Z"
   },
   {
    "duration": 33,
    "start_time": "2023-03-18T08:14:07.639Z"
   },
   {
    "duration": 6,
    "start_time": "2023-03-18T08:14:07.674Z"
   },
   {
    "duration": 11,
    "start_time": "2023-03-18T08:14:07.682Z"
   },
   {
    "duration": 12,
    "start_time": "2023-03-18T08:14:07.694Z"
   },
   {
    "duration": 6,
    "start_time": "2023-03-18T08:14:07.708Z"
   },
   {
    "duration": 10,
    "start_time": "2023-03-18T08:17:33.411Z"
   },
   {
    "duration": 15,
    "start_time": "2023-03-18T08:18:05.703Z"
   },
   {
    "duration": 6,
    "start_time": "2023-03-18T08:19:17.819Z"
   },
   {
    "duration": 8,
    "start_time": "2023-03-18T08:19:20.923Z"
   },
   {
    "duration": 247,
    "start_time": "2023-03-18T08:19:31.800Z"
   },
   {
    "duration": 239,
    "start_time": "2023-03-18T08:19:35.122Z"
   },
   {
    "duration": 264,
    "start_time": "2023-03-18T08:19:40.923Z"
   },
   {
    "duration": 273,
    "start_time": "2023-03-18T08:19:46.821Z"
   },
   {
    "duration": 272,
    "start_time": "2023-03-18T08:19:56.111Z"
   },
   {
    "duration": 388,
    "start_time": "2023-03-18T08:20:04.401Z"
   },
   {
    "duration": 15,
    "start_time": "2023-03-18T08:24:08.402Z"
   },
   {
    "duration": 18,
    "start_time": "2023-03-18T08:24:10.807Z"
   },
   {
    "duration": 6,
    "start_time": "2023-03-18T08:24:33.116Z"
   },
   {
    "duration": 18,
    "start_time": "2023-03-18T08:31:08.604Z"
   },
   {
    "duration": 25,
    "start_time": "2023-03-18T08:31:09.272Z"
   },
   {
    "duration": 239,
    "start_time": "2023-03-18T08:31:20.528Z"
   },
   {
    "duration": 21,
    "start_time": "2023-03-18T08:37:35.564Z"
   },
   {
    "duration": 228,
    "start_time": "2023-03-18T08:37:36.908Z"
   },
   {
    "duration": 19,
    "start_time": "2023-03-18T08:39:00.994Z"
   },
   {
    "duration": 281,
    "start_time": "2023-03-18T08:39:02.824Z"
   },
   {
    "duration": 64,
    "start_time": "2023-03-18T08:39:58.837Z"
   },
   {
    "duration": 7,
    "start_time": "2023-03-18T08:43:00.161Z"
   },
   {
    "duration": 7,
    "start_time": "2023-03-18T08:43:01.508Z"
   },
   {
    "duration": 6,
    "start_time": "2023-03-18T08:43:08.837Z"
   },
   {
    "duration": 7,
    "start_time": "2023-03-18T08:43:10.100Z"
   },
   {
    "duration": 22,
    "start_time": "2023-03-18T08:43:25.200Z"
   },
   {
    "duration": 388,
    "start_time": "2023-03-18T08:43:26.393Z"
   },
   {
    "duration": 31,
    "start_time": "2023-03-18T08:46:46.335Z"
   },
   {
    "duration": 332,
    "start_time": "2023-03-18T08:46:46.809Z"
   },
   {
    "duration": 6,
    "start_time": "2023-03-18T08:51:36.891Z"
   },
   {
    "duration": 144,
    "start_time": "2023-03-18T08:51:37.576Z"
   },
   {
    "duration": 152,
    "start_time": "2023-03-18T08:51:38.998Z"
   },
   {
    "duration": 11,
    "start_time": "2023-03-18T08:51:45.003Z"
   },
   {
    "duration": 6,
    "start_time": "2023-03-18T08:51:49.378Z"
   },
   {
    "duration": 7,
    "start_time": "2023-03-18T08:52:28.410Z"
   },
   {
    "duration": 145,
    "start_time": "2023-03-18T08:52:28.942Z"
   },
   {
    "duration": 8,
    "start_time": "2023-03-18T08:52:30.882Z"
   },
   {
    "duration": 249,
    "start_time": "2023-03-18T08:52:37.114Z"
   },
   {
    "duration": 5,
    "start_time": "2023-03-18T08:52:42.663Z"
   },
   {
    "duration": 6,
    "start_time": "2023-03-18T08:52:59.476Z"
   },
   {
    "duration": 141,
    "start_time": "2023-03-18T08:53:00.176Z"
   },
   {
    "duration": 6,
    "start_time": "2023-03-18T08:53:08.634Z"
   },
   {
    "duration": 146,
    "start_time": "2023-03-18T08:53:17.087Z"
   },
   {
    "duration": 149,
    "start_time": "2023-03-18T08:53:48.146Z"
   },
   {
    "duration": 8,
    "start_time": "2023-03-18T08:54:02.356Z"
   },
   {
    "duration": 7,
    "start_time": "2023-03-18T09:00:46.366Z"
   },
   {
    "duration": 9,
    "start_time": "2023-03-18T09:00:47.401Z"
   },
   {
    "duration": 262,
    "start_time": "2023-03-18T09:00:50.011Z"
   },
   {
    "duration": 276,
    "start_time": "2023-03-18T09:03:28.777Z"
   },
   {
    "duration": 291,
    "start_time": "2023-03-18T09:03:41.766Z"
   },
   {
    "duration": 375,
    "start_time": "2023-03-18T09:03:45.939Z"
   },
   {
    "duration": 270,
    "start_time": "2023-03-18T09:03:49.508Z"
   },
   {
    "duration": 263,
    "start_time": "2023-03-18T09:03:55.534Z"
   },
   {
    "duration": 257,
    "start_time": "2023-03-18T09:04:01.211Z"
   },
   {
    "duration": 266,
    "start_time": "2023-03-18T09:04:15.386Z"
   },
   {
    "duration": 11,
    "start_time": "2023-03-18T09:11:59.634Z"
   },
   {
    "duration": 9,
    "start_time": "2023-03-18T09:12:00.879Z"
   },
   {
    "duration": 13,
    "start_time": "2023-03-18T09:12:03.866Z"
   },
   {
    "duration": 5,
    "start_time": "2023-03-18T09:12:04.694Z"
   },
   {
    "duration": 288,
    "start_time": "2023-03-18T09:12:09.910Z"
   },
   {
    "duration": 8,
    "start_time": "2023-03-18T09:12:20.495Z"
   },
   {
    "duration": 8,
    "start_time": "2023-03-18T09:12:25.018Z"
   },
   {
    "duration": 8,
    "start_time": "2023-03-18T09:12:25.493Z"
   },
   {
    "duration": 434,
    "start_time": "2023-03-18T09:12:26.168Z"
   },
   {
    "duration": 119,
    "start_time": "2023-03-18T09:14:44.828Z"
   },
   {
    "duration": 118,
    "start_time": "2023-03-18T09:14:46.747Z"
   },
   {
    "duration": 108,
    "start_time": "2023-03-18T09:14:48.118Z"
   },
   {
    "duration": 3,
    "start_time": "2023-03-18T09:24:53.471Z"
   },
   {
    "duration": 10,
    "start_time": "2023-03-18T09:24:54.141Z"
   },
   {
    "duration": 6,
    "start_time": "2023-03-18T09:24:57.538Z"
   },
   {
    "duration": 23,
    "start_time": "2023-03-18T09:26:05.395Z"
   },
   {
    "duration": 13,
    "start_time": "2023-03-18T09:26:31.862Z"
   },
   {
    "duration": 14,
    "start_time": "2023-03-18T09:26:44.877Z"
   },
   {
    "duration": 16,
    "start_time": "2023-03-18T09:27:07.277Z"
   },
   {
    "duration": 18,
    "start_time": "2023-03-18T09:28:20.255Z"
   },
   {
    "duration": 17,
    "start_time": "2023-03-18T09:28:33.803Z"
   },
   {
    "duration": 6,
    "start_time": "2023-03-18T09:28:37.461Z"
   },
   {
    "duration": 5,
    "start_time": "2023-03-18T09:33:38.265Z"
   },
   {
    "duration": 5,
    "start_time": "2023-03-18T09:33:49.473Z"
   },
   {
    "duration": 16,
    "start_time": "2023-03-18T09:34:03.671Z"
   },
   {
    "duration": 4,
    "start_time": "2023-03-18T09:34:04.432Z"
   },
   {
    "duration": 6,
    "start_time": "2023-03-18T09:34:05.523Z"
   },
   {
    "duration": 7,
    "start_time": "2023-03-18T09:34:07.293Z"
   },
   {
    "duration": 4,
    "start_time": "2023-03-18T09:34:36.905Z"
   },
   {
    "duration": 4,
    "start_time": "2023-03-18T09:34:37.463Z"
   },
   {
    "duration": 12,
    "start_time": "2023-03-18T09:34:39.692Z"
   },
   {
    "duration": 4,
    "start_time": "2023-03-18T09:34:40.384Z"
   },
   {
    "duration": 5,
    "start_time": "2023-03-18T09:34:41.267Z"
   },
   {
    "duration": 6,
    "start_time": "2023-03-18T09:35:40.521Z"
   },
   {
    "duration": 8,
    "start_time": "2023-03-18T09:36:12.624Z"
   },
   {
    "duration": 5,
    "start_time": "2023-03-18T09:36:13.866Z"
   },
   {
    "duration": 7,
    "start_time": "2023-03-18T09:36:24.115Z"
   },
   {
    "duration": 12,
    "start_time": "2023-03-18T09:37:04.008Z"
   },
   {
    "duration": 8,
    "start_time": "2023-03-18T09:37:04.139Z"
   },
   {
    "duration": 3,
    "start_time": "2023-03-18T09:46:40.587Z"
   },
   {
    "duration": 7,
    "start_time": "2023-03-18T09:46:40.593Z"
   },
   {
    "duration": 4,
    "start_time": "2023-03-18T09:46:40.602Z"
   },
   {
    "duration": 5,
    "start_time": "2023-03-18T09:46:40.608Z"
   },
   {
    "duration": 53,
    "start_time": "2023-03-18T09:46:40.615Z"
   },
   {
    "duration": 15,
    "start_time": "2023-03-18T09:46:40.670Z"
   },
   {
    "duration": 15,
    "start_time": "2023-03-18T09:46:40.687Z"
   },
   {
    "duration": 5,
    "start_time": "2023-03-18T09:46:40.703Z"
   },
   {
    "duration": 11,
    "start_time": "2023-03-18T09:46:40.710Z"
   },
   {
    "duration": 5,
    "start_time": "2023-03-18T09:46:40.723Z"
   },
   {
    "duration": 205,
    "start_time": "2023-03-18T09:46:40.762Z"
   },
   {
    "duration": 7,
    "start_time": "2023-03-18T09:46:40.969Z"
   },
   {
    "duration": 6,
    "start_time": "2023-03-18T09:46:40.978Z"
   },
   {
    "duration": 9,
    "start_time": "2023-03-18T09:46:40.986Z"
   },
   {
    "duration": 6,
    "start_time": "2023-03-18T09:46:40.998Z"
   },
   {
    "duration": 37,
    "start_time": "2023-03-18T09:46:41.006Z"
   },
   {
    "duration": 30,
    "start_time": "2023-03-18T09:46:41.046Z"
   },
   {
    "duration": 48,
    "start_time": "2023-03-18T09:46:41.077Z"
   },
   {
    "duration": 8,
    "start_time": "2023-03-18T09:46:41.127Z"
   },
   {
    "duration": 29,
    "start_time": "2023-03-18T09:46:41.136Z"
   },
   {
    "duration": 7,
    "start_time": "2023-03-18T09:46:41.166Z"
   },
   {
    "duration": 5,
    "start_time": "2023-03-18T09:46:41.175Z"
   },
   {
    "duration": 15,
    "start_time": "2023-03-18T09:46:41.181Z"
   },
   {
    "duration": 26,
    "start_time": "2023-03-18T09:46:41.197Z"
   },
   {
    "duration": 40,
    "start_time": "2023-03-18T09:46:41.224Z"
   },
   {
    "duration": 14,
    "start_time": "2023-03-18T09:46:41.265Z"
   },
   {
    "duration": 12,
    "start_time": "2023-03-18T09:46:41.281Z"
   },
   {
    "duration": 13,
    "start_time": "2023-03-18T09:46:41.295Z"
   },
   {
    "duration": 10,
    "start_time": "2023-03-18T09:46:41.310Z"
   },
   {
    "duration": 314,
    "start_time": "2023-03-18T09:46:41.322Z"
   },
   {
    "duration": 6,
    "start_time": "2023-03-18T09:46:41.637Z"
   },
   {
    "duration": 20,
    "start_time": "2023-03-18T09:46:41.644Z"
   },
   {
    "duration": 31,
    "start_time": "2023-03-18T09:46:41.666Z"
   },
   {
    "duration": 297,
    "start_time": "2023-03-18T09:46:41.699Z"
   },
   {
    "duration": 6,
    "start_time": "2023-03-18T09:46:41.998Z"
   },
   {
    "duration": 8,
    "start_time": "2023-03-18T09:46:42.006Z"
   },
   {
    "duration": 276,
    "start_time": "2023-03-18T09:46:42.015Z"
   },
   {
    "duration": 362,
    "start_time": "2023-03-18T09:46:42.293Z"
   },
   {
    "duration": 8,
    "start_time": "2023-03-18T09:46:42.657Z"
   },
   {
    "duration": 171,
    "start_time": "2023-03-18T09:46:42.668Z"
   },
   {
    "duration": 166,
    "start_time": "2023-03-18T09:46:42.841Z"
   },
   {
    "duration": 6,
    "start_time": "2023-03-18T09:46:43.011Z"
   },
   {
    "duration": 13,
    "start_time": "2023-03-18T09:46:43.019Z"
   },
   {
    "duration": 27,
    "start_time": "2023-03-18T09:46:43.035Z"
   },
   {
    "duration": 145,
    "start_time": "2023-03-18T09:46:43.064Z"
   },
   {
    "duration": 6,
    "start_time": "2023-03-18T09:46:43.211Z"
   },
   {
    "duration": 144,
    "start_time": "2023-03-18T09:46:43.219Z"
   },
   {
    "duration": 6,
    "start_time": "2023-03-18T09:46:43.365Z"
   },
   {
    "duration": 7,
    "start_time": "2023-03-18T09:46:43.372Z"
   },
   {
    "duration": 152,
    "start_time": "2023-03-18T09:46:43.381Z"
   },
   {
    "duration": 7,
    "start_time": "2023-03-18T09:46:43.534Z"
   },
   {
    "duration": 167,
    "start_time": "2023-03-18T09:46:43.542Z"
   },
   {
    "duration": 6,
    "start_time": "2023-03-18T09:46:43.711Z"
   },
   {
    "duration": 9,
    "start_time": "2023-03-18T09:46:43.719Z"
   },
   {
    "duration": 7,
    "start_time": "2023-03-18T09:46:43.730Z"
   },
   {
    "duration": 347,
    "start_time": "2023-03-18T09:46:43.762Z"
   },
   {
    "duration": 433,
    "start_time": "2023-03-18T09:46:44.111Z"
   },
   {
    "duration": 17,
    "start_time": "2023-03-18T09:46:44.546Z"
   },
   {
    "duration": 33,
    "start_time": "2023-03-18T09:46:44.565Z"
   },
   {
    "duration": 24,
    "start_time": "2023-03-18T09:46:44.600Z"
   },
   {
    "duration": 20,
    "start_time": "2023-03-18T09:46:44.626Z"
   },
   {
    "duration": 342,
    "start_time": "2023-03-18T09:46:44.648Z"
   },
   {
    "duration": 8,
    "start_time": "2023-03-18T09:46:44.992Z"
   },
   {
    "duration": 25,
    "start_time": "2023-03-18T09:46:45.002Z"
   },
   {
    "duration": 16,
    "start_time": "2023-03-18T09:46:45.030Z"
   },
   {
    "duration": 341,
    "start_time": "2023-03-18T09:46:45.048Z"
   },
   {
    "duration": 127,
    "start_time": "2023-03-18T09:46:45.391Z"
   },
   {
    "duration": 122,
    "start_time": "2023-03-18T09:46:45.520Z"
   },
   {
    "duration": 128,
    "start_time": "2023-03-18T09:46:45.644Z"
   },
   {
    "duration": 3,
    "start_time": "2023-03-18T09:46:45.774Z"
   },
   {
    "duration": 14,
    "start_time": "2023-03-18T09:46:45.779Z"
   },
   {
    "duration": 4,
    "start_time": "2023-03-18T09:46:45.795Z"
   },
   {
    "duration": 4,
    "start_time": "2023-03-18T09:46:45.801Z"
   },
   {
    "duration": 5,
    "start_time": "2023-03-18T09:46:45.808Z"
   },
   {
    "duration": 7,
    "start_time": "2023-03-18T09:46:45.815Z"
   },
   {
    "duration": 46,
    "start_time": "2023-03-18T09:46:45.824Z"
   },
   {
    "duration": 8,
    "start_time": "2023-03-18T09:46:45.872Z"
   },
   {
    "duration": 432,
    "start_time": "2023-03-18T21:31:19.967Z"
   },
   {
    "duration": 439,
    "start_time": "2023-03-18T21:31:20.402Z"
   },
   {
    "duration": 227,
    "start_time": "2023-03-18T21:31:20.842Z"
   },
   {
    "duration": 2,
    "start_time": "2023-03-18T21:31:21.070Z"
   },
   {
    "duration": 114,
    "start_time": "2023-03-18T21:31:21.074Z"
   },
   {
    "duration": 17,
    "start_time": "2023-03-18T21:31:21.189Z"
   },
   {
    "duration": 12,
    "start_time": "2023-03-18T21:31:21.208Z"
   },
   {
    "duration": 5,
    "start_time": "2023-03-18T21:31:21.221Z"
   },
   {
    "duration": 10,
    "start_time": "2023-03-18T21:31:21.227Z"
   },
   {
    "duration": 4,
    "start_time": "2023-03-18T21:31:21.239Z"
   },
   {
    "duration": 191,
    "start_time": "2023-03-18T21:31:21.244Z"
   },
   {
    "duration": 6,
    "start_time": "2023-03-18T21:31:21.436Z"
   },
   {
    "duration": 4,
    "start_time": "2023-03-18T21:31:21.443Z"
   },
   {
    "duration": 10,
    "start_time": "2023-03-18T21:31:21.450Z"
   },
   {
    "duration": 6,
    "start_time": "2023-03-18T21:31:21.461Z"
   },
   {
    "duration": 21,
    "start_time": "2023-03-18T21:31:21.468Z"
   },
   {
    "duration": 11,
    "start_time": "2023-03-18T21:31:21.491Z"
   },
   {
    "duration": 30,
    "start_time": "2023-03-18T21:31:21.504Z"
   },
   {
    "duration": 10,
    "start_time": "2023-03-18T21:31:21.535Z"
   },
   {
    "duration": 25,
    "start_time": "2023-03-18T21:31:21.546Z"
   },
   {
    "duration": 6,
    "start_time": "2023-03-18T21:31:21.572Z"
   },
   {
    "duration": 5,
    "start_time": "2023-03-18T21:31:21.579Z"
   },
   {
    "duration": 17,
    "start_time": "2023-03-18T21:31:21.585Z"
   },
   {
    "duration": 22,
    "start_time": "2023-03-18T21:31:21.603Z"
   },
   {
    "duration": 7,
    "start_time": "2023-03-18T21:31:21.627Z"
   },
   {
    "duration": 38,
    "start_time": "2023-03-18T21:31:21.636Z"
   },
   {
    "duration": 15,
    "start_time": "2023-03-18T21:31:21.676Z"
   },
   {
    "duration": 12,
    "start_time": "2023-03-18T21:31:21.693Z"
   },
   {
    "duration": 10,
    "start_time": "2023-03-18T21:31:21.707Z"
   },
   {
    "duration": 329,
    "start_time": "2023-03-18T21:31:21.718Z"
   },
   {
    "duration": 6,
    "start_time": "2023-03-18T21:31:22.049Z"
   },
   {
    "duration": 11,
    "start_time": "2023-03-18T21:31:22.057Z"
   },
   {
    "duration": 38,
    "start_time": "2023-03-18T21:31:22.069Z"
   },
   {
    "duration": 293,
    "start_time": "2023-03-18T21:31:22.109Z"
   },
   {
    "duration": 5,
    "start_time": "2023-03-18T21:31:22.404Z"
   },
   {
    "duration": 6,
    "start_time": "2023-03-18T21:31:22.411Z"
   },
   {
    "duration": 270,
    "start_time": "2023-03-18T21:31:22.419Z"
   },
   {
    "duration": 257,
    "start_time": "2023-03-18T21:31:22.693Z"
   },
   {
    "duration": 6,
    "start_time": "2023-03-18T21:31:22.952Z"
   },
   {
    "duration": 147,
    "start_time": "2023-03-18T21:31:22.960Z"
   },
   {
    "duration": 144,
    "start_time": "2023-03-18T21:31:23.111Z"
   },
   {
    "duration": 8,
    "start_time": "2023-03-18T21:31:23.257Z"
   },
   {
    "duration": 14,
    "start_time": "2023-03-18T21:31:23.266Z"
   },
   {
    "duration": 11,
    "start_time": "2023-03-18T21:31:23.282Z"
   },
   {
    "duration": 213,
    "start_time": "2023-03-18T21:31:23.294Z"
   },
   {
    "duration": 5,
    "start_time": "2023-03-18T21:31:23.509Z"
   },
   {
    "duration": 130,
    "start_time": "2023-03-18T21:31:23.516Z"
   },
   {
    "duration": 6,
    "start_time": "2023-03-18T21:31:23.647Z"
   },
   {
    "duration": 12,
    "start_time": "2023-03-18T21:31:23.654Z"
   },
   {
    "duration": 133,
    "start_time": "2023-03-18T21:31:23.668Z"
   },
   {
    "duration": 6,
    "start_time": "2023-03-18T21:31:23.803Z"
   },
   {
    "duration": 153,
    "start_time": "2023-03-18T21:31:23.811Z"
   },
   {
    "duration": 5,
    "start_time": "2023-03-18T21:31:23.965Z"
   },
   {
    "duration": 19,
    "start_time": "2023-03-18T21:31:23.971Z"
   },
   {
    "duration": 13,
    "start_time": "2023-03-18T21:31:23.991Z"
   },
   {
    "duration": 254,
    "start_time": "2023-03-18T21:31:24.005Z"
   },
   {
    "duration": 256,
    "start_time": "2023-03-18T21:31:24.261Z"
   },
   {
    "duration": 9,
    "start_time": "2023-03-18T21:31:24.518Z"
   },
   {
    "duration": 8,
    "start_time": "2023-03-18T21:31:24.528Z"
   },
   {
    "duration": 8,
    "start_time": "2023-03-18T21:31:24.537Z"
   },
   {
    "duration": 4,
    "start_time": "2023-03-18T21:31:24.546Z"
   },
   {
    "duration": 338,
    "start_time": "2023-03-18T21:31:24.551Z"
   },
   {
    "duration": 9,
    "start_time": "2023-03-18T21:31:24.891Z"
   },
   {
    "duration": 8,
    "start_time": "2023-03-18T21:31:24.902Z"
   },
   {
    "duration": 7,
    "start_time": "2023-03-18T21:31:24.911Z"
   },
   {
    "duration": 409,
    "start_time": "2023-03-18T21:31:24.920Z"
   },
   {
    "duration": 110,
    "start_time": "2023-03-18T21:31:25.331Z"
   },
   {
    "duration": 101,
    "start_time": "2023-03-18T21:31:25.443Z"
   },
   {
    "duration": 109,
    "start_time": "2023-03-18T21:31:25.546Z"
   },
   {
    "duration": 2,
    "start_time": "2023-03-18T21:31:25.657Z"
   },
   {
    "duration": 19,
    "start_time": "2023-03-18T21:31:25.661Z"
   },
   {
    "duration": 10,
    "start_time": "2023-03-18T21:31:25.682Z"
   },
   {
    "duration": 4,
    "start_time": "2023-03-18T21:31:25.694Z"
   },
   {
    "duration": 5,
    "start_time": "2023-03-18T21:31:25.699Z"
   },
   {
    "duration": 6,
    "start_time": "2023-03-18T21:31:25.706Z"
   },
   {
    "duration": 11,
    "start_time": "2023-03-18T21:31:25.714Z"
   },
   {
    "duration": 5,
    "start_time": "2023-03-18T21:31:25.727Z"
   },
   {
    "duration": 447,
    "start_time": "2023-03-18T21:47:49.803Z"
   },
   {
    "duration": 488,
    "start_time": "2023-03-18T21:47:50.252Z"
   },
   {
    "duration": 300,
    "start_time": "2023-03-18T21:47:50.741Z"
   },
   {
    "duration": 3,
    "start_time": "2023-03-18T21:47:51.043Z"
   },
   {
    "duration": 121,
    "start_time": "2023-03-18T21:47:51.048Z"
   },
   {
    "duration": 18,
    "start_time": "2023-03-18T21:47:51.171Z"
   },
   {
    "duration": 13,
    "start_time": "2023-03-18T21:47:51.190Z"
   },
   {
    "duration": 6,
    "start_time": "2023-03-18T21:47:51.205Z"
   },
   {
    "duration": 17,
    "start_time": "2023-03-18T21:47:51.212Z"
   },
   {
    "duration": 5,
    "start_time": "2023-03-18T21:47:51.230Z"
   },
   {
    "duration": 215,
    "start_time": "2023-03-18T21:47:51.237Z"
   },
   {
    "duration": 7,
    "start_time": "2023-03-18T21:47:51.454Z"
   },
   {
    "duration": 6,
    "start_time": "2023-03-18T21:47:51.462Z"
   },
   {
    "duration": 22,
    "start_time": "2023-03-18T21:47:51.471Z"
   },
   {
    "duration": 9,
    "start_time": "2023-03-18T21:47:51.494Z"
   },
   {
    "duration": 5,
    "start_time": "2023-03-18T21:47:51.505Z"
   },
   {
    "duration": 9,
    "start_time": "2023-03-18T21:47:51.512Z"
   },
   {
    "duration": 14,
    "start_time": "2023-03-18T21:47:51.523Z"
   },
   {
    "duration": 3,
    "start_time": "2023-03-18T21:47:51.539Z"
   },
   {
    "duration": 58,
    "start_time": "2023-03-18T21:47:51.544Z"
   },
   {
    "duration": 7,
    "start_time": "2023-03-18T21:47:51.605Z"
   },
   {
    "duration": 6,
    "start_time": "2023-03-18T21:47:51.613Z"
   },
   {
    "duration": 14,
    "start_time": "2023-03-18T21:47:51.621Z"
   },
   {
    "duration": 25,
    "start_time": "2023-03-18T21:47:51.636Z"
   },
   {
    "duration": 35,
    "start_time": "2023-03-18T21:47:51.662Z"
   },
   {
    "duration": 16,
    "start_time": "2023-03-18T21:47:51.699Z"
   },
   {
    "duration": 13,
    "start_time": "2023-03-18T21:47:51.717Z"
   },
   {
    "duration": 11,
    "start_time": "2023-03-18T21:47:51.732Z"
   },
   {
    "duration": 46,
    "start_time": "2023-03-18T21:47:51.745Z"
   },
   {
    "duration": 343,
    "start_time": "2023-03-18T21:47:51.793Z"
   },
   {
    "duration": 8,
    "start_time": "2023-03-18T21:47:52.138Z"
   },
   {
    "duration": 7,
    "start_time": "2023-03-18T21:47:52.147Z"
   },
   {
    "duration": 43,
    "start_time": "2023-03-18T21:47:52.155Z"
   },
   {
    "duration": 311,
    "start_time": "2023-03-18T21:47:52.200Z"
   },
   {
    "duration": 8,
    "start_time": "2023-03-18T21:47:52.513Z"
   },
   {
    "duration": 9,
    "start_time": "2023-03-18T21:47:52.522Z"
   },
   {
    "duration": 289,
    "start_time": "2023-03-18T21:47:52.532Z"
   },
   {
    "duration": 282,
    "start_time": "2023-03-18T21:47:52.823Z"
   },
   {
    "duration": 6,
    "start_time": "2023-03-18T21:47:53.107Z"
   },
   {
    "duration": 152,
    "start_time": "2023-03-18T21:47:53.115Z"
   },
   {
    "duration": 167,
    "start_time": "2023-03-18T21:47:53.273Z"
   },
   {
    "duration": 6,
    "start_time": "2023-03-18T21:47:53.442Z"
   },
   {
    "duration": 6,
    "start_time": "2023-03-18T21:47:53.450Z"
   },
   {
    "duration": 7,
    "start_time": "2023-03-18T21:47:53.458Z"
   },
   {
    "duration": 254,
    "start_time": "2023-03-18T21:47:53.467Z"
   },
   {
    "duration": 6,
    "start_time": "2023-03-18T21:47:53.723Z"
   },
   {
    "duration": 177,
    "start_time": "2023-03-18T21:47:53.731Z"
   },
   {
    "duration": 7,
    "start_time": "2023-03-18T21:47:53.910Z"
   },
   {
    "duration": 7,
    "start_time": "2023-03-18T21:47:53.919Z"
   },
   {
    "duration": 165,
    "start_time": "2023-03-18T21:47:53.928Z"
   },
   {
    "duration": 7,
    "start_time": "2023-03-18T21:47:54.095Z"
   },
   {
    "duration": 164,
    "start_time": "2023-03-18T21:47:54.103Z"
   },
   {
    "duration": 5,
    "start_time": "2023-03-18T21:47:54.269Z"
   },
   {
    "duration": 20,
    "start_time": "2023-03-18T21:47:54.276Z"
   },
   {
    "duration": 7,
    "start_time": "2023-03-18T21:47:54.298Z"
   },
   {
    "duration": 302,
    "start_time": "2023-03-18T21:47:54.307Z"
   },
   {
    "duration": 307,
    "start_time": "2023-03-18T21:47:54.611Z"
   },
   {
    "duration": 10,
    "start_time": "2023-03-18T21:47:54.920Z"
   },
   {
    "duration": 12,
    "start_time": "2023-03-18T21:47:54.931Z"
   },
   {
    "duration": 9,
    "start_time": "2023-03-18T21:47:54.945Z"
   },
   {
    "duration": 4,
    "start_time": "2023-03-18T21:47:54.955Z"
   },
   {
    "duration": 363,
    "start_time": "2023-03-18T21:47:54.960Z"
   },
   {
    "duration": 9,
    "start_time": "2023-03-18T21:47:55.324Z"
   },
   {
    "duration": 12,
    "start_time": "2023-03-18T21:47:55.335Z"
   },
   {
    "duration": 7,
    "start_time": "2023-03-18T21:47:55.349Z"
   },
   {
    "duration": 436,
    "start_time": "2023-03-18T21:47:55.357Z"
   },
   {
    "duration": 129,
    "start_time": "2023-03-18T21:47:55.795Z"
   },
   {
    "duration": 124,
    "start_time": "2023-03-18T21:47:55.926Z"
   },
   {
    "duration": 130,
    "start_time": "2023-03-18T21:47:56.052Z"
   },
   {
    "duration": 5,
    "start_time": "2023-03-18T21:47:56.184Z"
   },
   {
    "duration": 16,
    "start_time": "2023-03-18T21:47:56.192Z"
   },
   {
    "duration": 4,
    "start_time": "2023-03-18T21:47:56.209Z"
   },
   {
    "duration": 5,
    "start_time": "2023-03-18T21:47:56.215Z"
   },
   {
    "duration": 6,
    "start_time": "2023-03-18T21:47:56.221Z"
   },
   {
    "duration": 14,
    "start_time": "2023-03-18T21:47:56.229Z"
   },
   {
    "duration": 43,
    "start_time": "2023-03-18T21:47:56.247Z"
   },
   {
    "duration": 8,
    "start_time": "2023-03-18T21:47:56.293Z"
   },
   {
    "duration": 59,
    "start_time": "2023-03-18T21:47:56.303Z"
   },
   {
    "duration": 4,
    "start_time": "2023-03-18T21:47:56.364Z"
   },
   {
    "duration": 11,
    "start_time": "2023-03-18T21:47:56.369Z"
   },
   {
    "duration": 7,
    "start_time": "2023-03-18T21:47:56.382Z"
   },
   {
    "duration": 7,
    "start_time": "2023-03-18T21:47:56.392Z"
   },
   {
    "duration": 7,
    "start_time": "2023-03-18T21:47:56.401Z"
   },
   {
    "duration": 9,
    "start_time": "2023-03-18T21:47:56.410Z"
   },
   {
    "duration": 725,
    "start_time": "2023-03-18T21:47:56.421Z"
   },
   {
    "duration": 732,
    "start_time": "2023-03-18T21:47:57.148Z"
   },
   {
    "duration": 709,
    "start_time": "2023-03-18T21:47:57.894Z"
   }
  ],
  "kernelspec": {
   "display_name": "Python 3 (ipykernel)",
   "language": "python",
   "name": "python3"
  },
  "language_info": {
   "codemirror_mode": {
    "name": "ipython",
    "version": 3
   },
   "file_extension": ".py",
   "mimetype": "text/x-python",
   "name": "python",
   "nbconvert_exporter": "python",
   "pygments_lexer": "ipython3",
   "version": "3.9.13"
  },
  "toc": {
   "base_numbering": 1,
   "nav_menu": {},
   "number_sections": true,
   "sideBar": true,
   "skip_h1_title": true,
   "title_cell": "Table of Contents",
   "title_sidebar": "Contents",
   "toc_cell": false,
   "toc_position": {
    "height": "486px",
    "left": "65px",
    "top": "110.525px",
    "width": "307px"
   },
   "toc_section_display": true,
   "toc_window_display": true
  }
 },
 "nbformat": 4,
 "nbformat_minor": 2
}
