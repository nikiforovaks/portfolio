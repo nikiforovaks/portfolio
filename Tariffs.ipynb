{
 "cells": [
  {
   "cell_type": "markdown",
   "metadata": {},
   "source": [
    "# Рекомендация тарифов"
   ]
  },
  {
   "cell_type": "markdown",
   "metadata": {},
   "source": [
    "В вашем распоряжении данные о поведении клиентов, которые уже перешли на эти тарифы. Нужно построить модель для задачи классификации, которая выберет подходящий тариф."
   ]
  },
  {
   "cell_type": "markdown",
   "metadata": {},
   "source": [
    "## Изучение данных"
   ]
  },
  {
   "cell_type": "code",
   "execution_count": 1,
   "metadata": {},
   "outputs": [],
   "source": [
    "import pandas as pd\n",
    "from sklearn.model_selection import train_test_split\n",
    "from sklearn.linear_model import LogisticRegression\n",
    "from sklearn.tree import DecisionTreeClassifier\n",
    "from sklearn.metrics import accuracy_score\n",
    "from sklearn.ensemble import RandomForestClassifier\n",
    "from sklearn.metrics import mean_squared_error\n",
    "from joblib import dump, load\n",
    "import matplotlib.pyplot as plt"
   ]
  },
  {
   "cell_type": "code",
   "execution_count": 2,
   "metadata": {},
   "outputs": [],
   "source": [
    "df = pd.read_csv('/datasets/users_behavior.csv')"
   ]
  },
  {
   "cell_type": "code",
   "execution_count": 3,
   "metadata": {},
   "outputs": [
    {
     "data": {
      "text/html": [
       "<div>\n",
       "<style scoped>\n",
       "    .dataframe tbody tr th:only-of-type {\n",
       "        vertical-align: middle;\n",
       "    }\n",
       "\n",
       "    .dataframe tbody tr th {\n",
       "        vertical-align: top;\n",
       "    }\n",
       "\n",
       "    .dataframe thead th {\n",
       "        text-align: right;\n",
       "    }\n",
       "</style>\n",
       "<table border=\"1\" class=\"dataframe\">\n",
       "  <thead>\n",
       "    <tr style=\"text-align: right;\">\n",
       "      <th></th>\n",
       "      <th>calls</th>\n",
       "      <th>minutes</th>\n",
       "      <th>messages</th>\n",
       "      <th>mb_used</th>\n",
       "      <th>is_ultra</th>\n",
       "    </tr>\n",
       "  </thead>\n",
       "  <tbody>\n",
       "    <tr>\n",
       "      <th>0</th>\n",
       "      <td>40.0</td>\n",
       "      <td>311.90</td>\n",
       "      <td>83.0</td>\n",
       "      <td>19915.42</td>\n",
       "      <td>0</td>\n",
       "    </tr>\n",
       "    <tr>\n",
       "      <th>1</th>\n",
       "      <td>85.0</td>\n",
       "      <td>516.75</td>\n",
       "      <td>56.0</td>\n",
       "      <td>22696.96</td>\n",
       "      <td>0</td>\n",
       "    </tr>\n",
       "    <tr>\n",
       "      <th>2</th>\n",
       "      <td>77.0</td>\n",
       "      <td>467.66</td>\n",
       "      <td>86.0</td>\n",
       "      <td>21060.45</td>\n",
       "      <td>0</td>\n",
       "    </tr>\n",
       "    <tr>\n",
       "      <th>3</th>\n",
       "      <td>106.0</td>\n",
       "      <td>745.53</td>\n",
       "      <td>81.0</td>\n",
       "      <td>8437.39</td>\n",
       "      <td>1</td>\n",
       "    </tr>\n",
       "    <tr>\n",
       "      <th>4</th>\n",
       "      <td>66.0</td>\n",
       "      <td>418.74</td>\n",
       "      <td>1.0</td>\n",
       "      <td>14502.75</td>\n",
       "      <td>0</td>\n",
       "    </tr>\n",
       "  </tbody>\n",
       "</table>\n",
       "</div>"
      ],
      "text/plain": [
       "   calls  minutes  messages   mb_used  is_ultra\n",
       "0   40.0   311.90      83.0  19915.42         0\n",
       "1   85.0   516.75      56.0  22696.96         0\n",
       "2   77.0   467.66      86.0  21060.45         0\n",
       "3  106.0   745.53      81.0   8437.39         1\n",
       "4   66.0   418.74       1.0  14502.75         0"
      ]
     },
     "execution_count": 3,
     "metadata": {},
     "output_type": "execute_result"
    }
   ],
   "source": [
    "df.head()"
   ]
  },
  {
   "cell_type": "code",
   "execution_count": 4,
   "metadata": {},
   "outputs": [
    {
     "name": "stdout",
     "output_type": "stream",
     "text": [
      "<class 'pandas.core.frame.DataFrame'>\n",
      "RangeIndex: 3214 entries, 0 to 3213\n",
      "Data columns (total 5 columns):\n",
      " #   Column    Non-Null Count  Dtype  \n",
      "---  ------    --------------  -----  \n",
      " 0   calls     3214 non-null   float64\n",
      " 1   minutes   3214 non-null   float64\n",
      " 2   messages  3214 non-null   float64\n",
      " 3   mb_used   3214 non-null   float64\n",
      " 4   is_ultra  3214 non-null   int64  \n",
      "dtypes: float64(4), int64(1)\n",
      "memory usage: 125.7 KB\n"
     ]
    }
   ],
   "source": [
    "df.info()"
   ]
  },
  {
   "cell_type": "markdown",
   "metadata": {},
   "source": [
    "Нам предоставлены данные вещественного типа и столбец is_ultra - целого."
   ]
  },
  {
   "cell_type": "code",
   "execution_count": 5,
   "metadata": {},
   "outputs": [
    {
     "data": {
      "text/plain": [
       "69.35283136278781"
      ]
     },
     "execution_count": 5,
     "metadata": {},
     "output_type": "execute_result"
    }
   ],
   "source": [
    "df.query('is_ultra == 0')['is_ultra'].count() / len(df) * 100"
   ]
  },
  {
   "cell_type": "code",
   "execution_count": 6,
   "metadata": {
    "scrolled": true
   },
   "outputs": [
    {
     "data": {
      "text/plain": [
       "30.647168637212197"
      ]
     },
     "execution_count": 6,
     "metadata": {},
     "output_type": "execute_result"
    }
   ],
   "source": [
    "df.query('is_ultra == 1')['is_ultra'].count() / len(df) * 100"
   ]
  },
  {
   "cell_type": "markdown",
   "metadata": {},
   "source": [
    "69,4% составляют тарифы smart и 30,6% ultra."
   ]
  },
  {
   "cell_type": "markdown",
   "metadata": {},
   "source": [
    "## Разбиваем данные на выборки"
   ]
  },
  {
   "cell_type": "code",
   "execution_count": 7,
   "metadata": {},
   "outputs": [],
   "source": [
    "features = df.drop(['is_ultra'], axis=1)\n",
    "target = df['is_ultra']\n",
    "features_train, features_valid, target_train, target_valid = train_test_split(\n",
    "    features, target, test_size=0.4, random_state=12345, stratify=target)\n",
    "\n",
    "features_valid, features_test, target_valid, target_test = train_test_split(\n",
    "    features_valid, target_valid, test_size=0.5, random_state=12345, stratify=target_valid)"
   ]
  },
  {
   "cell_type": "code",
   "execution_count": 8,
   "metadata": {},
   "outputs": [
    {
     "name": "stdout",
     "output_type": "stream",
     "text": [
      "(1928, 4) (1928,) (643, 4) (643,) (643, 4) (643,)\n"
     ]
    }
   ],
   "source": [
    "print(features_train.shape,target_train.shape,\n",
    "      features_valid.shape, target_valid.shape, \n",
    "      features_test.shape, target_test.shape)"
   ]
  },
  {
   "cell_type": "markdown",
   "metadata": {},
   "source": [
    "## Исследование моделей"
   ]
  },
  {
   "cell_type": "code",
   "execution_count": 9,
   "metadata": {},
   "outputs": [
    {
     "name": "stdout",
     "output_type": "stream",
     "text": [
      "Классификация деревом решений имеет точность: 0.80248833592535\n"
     ]
    },
    {
     "data": {
      "image/png": "[encoded data removed]",
      "text/plain": [
       "<Figure size 432x288 with 1 Axes>"
      ]
     },
     "metadata": {
      "needs_background": "light"
     },
     "output_type": "display_data"
    }
   ],
   "source": [
    "best_accuracy = 0\n",
    "lst = []\n",
    "for depth in range(1, 12):\n",
    "    model = DecisionTreeClassifier(random_state=12345, max_depth=depth)\n",
    "    model.fit(features_train, target_train)\n",
    "    predictions = model.predict(features_valid)\n",
    "    accuracy = accuracy_score(target_valid, predictions)\n",
    "    lst.append(accuracy)\n",
    "    if accuracy > best_accuracy:\n",
    "        best_accuracy = accuracy\n",
    "        best_model = model\n",
    "dump(best_model, 'best_model.joblib')\n",
    "model_tree_classifier = load('best_model.joblib')\n",
    "print('Классификация деревом решений имеет точность:', best_accuracy)\n",
    "plt.plot(lst);"
   ]
  },
  {
   "cell_type": "code",
   "execution_count": 10,
   "metadata": {},
   "outputs": [
    {
     "name": "stdout",
     "output_type": "stream",
     "text": [
      "Классификация модели случайного леса имеет точность: 0.8102643856920684\n"
     ]
    },
    {
     "data": {
      "image/png": "[encoded data removed]",
      "text/plain": [
       "<Figure size 432x288 with 1 Axes>"
      ]
     },
     "metadata": {
      "needs_background": "light"
     },
     "output_type": "display_data"
    }
   ],
   "source": [
    "# Wall time: 23.2 s\n",
    "best_accuracy = 0\n",
    "lst = []\n",
    "for est in range(10, 81, 10):\n",
    "    for depth in range(1, 16):\n",
    "        model = RandomForestClassifier(random_state=12345, n_estimators=est)\n",
    "        model.fit(features_train, target_train)\n",
    "        predictions = model.predict(features_valid)\n",
    "        accuracy = accuracy_score(target_valid, predictions)\n",
    "        lst.append(accuracy)\n",
    "        if accuracy > best_accuracy:\n",
    "            best_accuracy = accuracy\n",
    "            best_model = model\n",
    "dump(best_model, 'best_model.joblib')\n",
    "model_forest_classifier = load('best_model.joblib')\n",
    "print('Классификация модели случайного леса имеет точность:', best_accuracy)\n",
    "plt.plot(lst);"
   ]
  },
  {
   "cell_type": "code",
   "execution_count": 11,
   "metadata": {},
   "outputs": [
    {
     "name": "stdout",
     "output_type": "stream",
     "text": [
      "Классификация модели логистической регрессии имеет точность: 0.7387247278382582\n"
     ]
    }
   ],
   "source": [
    "model = LogisticRegression(random_state=12345)\n",
    "model.fit(features_train, target_train)\n",
    "predictions = model.predict(features_valid)\n",
    "accuracy = accuracy_score(target_valid, predictions)\n",
    "print('Классификация модели логистической регрессии имеет точность:', accuracy)"
   ]
  },
  {
   "cell_type": "markdown",
   "metadata": {},
   "source": [
    "*** Вывод: ***\n",
    "\n",
    "После исследования моделей я пришла к выводу, что наиболее лучшие результаты дает модель случайного леса."
   ]
  },
  {
   "cell_type": "markdown",
   "metadata": {},
   "source": [
    "## Проверка модели на тестовой выборке"
   ]
  },
  {
   "cell_type": "code",
   "execution_count": 12,
   "metadata": {
    "scrolled": true
   },
   "outputs": [
    {
     "name": "stdout",
     "output_type": "stream",
     "text": [
      "Классификация модели случайного леса на тестовой выборке имеет точность: 0.7978227060653188\n",
      "Классификация модели дерева решений на тестовой выборке имеет точность: 0.7838258164852255\n"
     ]
    }
   ],
   "source": [
    "predictions = model_forest_classifier.predict(features_test)\n",
    "accuracy = accuracy_score(target_test, predictions)\n",
    "print('Классификация модели случайного леса на тестовой выборке имеет точность:', accuracy)\n",
    "predictions = model_tree_classifier.predict(features_test)\n",
    "accuracy = accuracy_score(target_test, predictions)\n",
    "print('Классификация модели дерева решений на тестовой выборке имеет точность:', accuracy)"
   ]
  },
  {
   "cell_type": "code",
   "execution_count": 13,
   "metadata": {
    "scrolled": true
   },
   "outputs": [
    {
     "name": "stdout",
     "output_type": "stream",
     "text": [
      "Точность на дообученной модели: 0.8304821150855366\n"
     ]
    }
   ],
   "source": [
    "features_train_valid = pd.concat([features_train, features_valid])\n",
    "target_train_valid = pd.concat([target_train, target_valid])\n",
    "model_forest_classifier.fit(features_train_valid, target_train_valid)\n",
    "predictions = model_forest_classifier.predict(features_test)\n",
    "accuracy = accuracy_score(target_test, predictions)\n",
    "print('Точность на дообученной модели:', accuracy)"
   ]
  },
  {
   "cell_type": "markdown",
   "metadata": {},
   "source": [
    "Получилась точность на 0.03 лучше."
   ]
  },
  {
   "cell_type": "markdown",
   "metadata": {},
   "source": [
    "## Проверка модели на адекватность"
   ]
  },
  {
   "cell_type": "code",
   "execution_count": 14,
   "metadata": {},
   "outputs": [
    {
     "data": {
      "text/plain": [
       "0.6936236391912908"
      ]
     },
     "execution_count": 14,
     "metadata": {},
     "output_type": "execute_result"
    }
   ],
   "source": [
    "from sklearn.dummy import DummyClassifier\n",
    "dummy_clf = DummyClassifier(strategy=\"most_frequent\")\n",
    "dummy_clf.fit(target_valid, target_test)\n",
    "dummy_clf.predict(target_valid)\n",
    "dummy_clf.score(target_valid, target_test)\n",
    "dummy_clf.score(target_valid, target_test)"
   ]
  },
  {
   "cell_type": "markdown",
   "metadata": {},
   "source": [
    "Модель адекватна"
   ]
  },
  {
   "cell_type": "markdown",
   "metadata": {},
   "source": [
    "## Вывод\n",
    "\n",
    "Мною было проведено исследование разных моделей, я пришла к выводу, что наилучшей моделью является модель случайного леса. При проверке на тестовых данных я получила точность 0.79."
   ]
  }
 ],
 "metadata": {
  "ExecuteTimeLog": [
   {
    "duration": 435,
    "start_time": "2023-03-28T06:54:31.596Z"
   },
   {
    "duration": 136,
    "start_time": "2023-03-28T06:54:45.867Z"
   },
   {
    "duration": 17,
    "start_time": "2023-03-28T06:54:50.643Z"
   },
   {
    "duration": 12,
    "start_time": "2023-03-28T06:55:08.923Z"
   },
   {
    "duration": 8,
    "start_time": "2023-03-28T06:55:32.869Z"
   },
   {
    "duration": 8,
    "start_time": "2023-03-28T06:55:55.483Z"
   },
   {
    "duration": 11,
    "start_time": "2023-03-28T06:56:09.307Z"
   },
   {
    "duration": 795,
    "start_time": "2023-03-28T06:58:43.262Z"
   },
   {
    "duration": 107,
    "start_time": "2023-03-28T06:58:49.575Z"
   },
   {
    "duration": 8,
    "start_time": "2023-03-28T07:00:42.797Z"
   },
   {
    "duration": 44,
    "start_time": "2023-03-28T07:03:18.423Z"
   },
   {
    "duration": 12,
    "start_time": "2023-03-28T07:03:47.221Z"
   },
   {
    "duration": 3,
    "start_time": "2023-03-28T07:04:10.271Z"
   },
   {
    "duration": 3,
    "start_time": "2023-03-28T07:04:47.372Z"
   },
   {
    "duration": 19,
    "start_time": "2023-03-28T07:40:24.639Z"
   },
   {
    "duration": 6,
    "start_time": "2023-03-28T07:41:08.773Z"
   },
   {
    "duration": 3,
    "start_time": "2023-03-28T07:43:35.167Z"
   },
   {
    "duration": 32,
    "start_time": "2023-03-28T07:46:13.192Z"
   },
   {
    "duration": 3,
    "start_time": "2023-03-28T07:49:20.533Z"
   },
   {
    "duration": 692,
    "start_time": "2023-03-28T07:50:05.860Z"
   },
   {
    "duration": 656,
    "start_time": "2023-03-28T07:50:33.399Z"
   },
   {
    "duration": 14,
    "start_time": "2023-03-28T07:51:53.947Z"
   },
   {
    "duration": 2,
    "start_time": "2023-03-28T07:52:22.635Z"
   },
   {
    "duration": 26,
    "start_time": "2023-03-28T07:52:26.588Z"
   },
   {
    "duration": 28,
    "start_time": "2023-03-28T07:53:44.685Z"
   },
   {
    "duration": 3,
    "start_time": "2023-03-28T07:55:24.832Z"
   },
   {
    "duration": 3,
    "start_time": "2023-03-28T07:55:27.520Z"
   },
   {
    "duration": 29,
    "start_time": "2023-03-28T07:56:55.705Z"
   },
   {
    "duration": 32,
    "start_time": "2023-03-28T07:57:12.051Z"
   },
   {
    "duration": 40,
    "start_time": "2023-03-28T07:57:30.887Z"
   },
   {
    "duration": 33,
    "start_time": "2023-03-28T07:58:16.429Z"
   },
   {
    "duration": 1765,
    "start_time": "2023-03-28T07:59:33.585Z"
   },
   {
    "duration": 1727,
    "start_time": "2023-03-28T07:59:51.151Z"
   },
   {
    "duration": 8,
    "start_time": "2023-03-28T08:09:54.291Z"
   },
   {
    "duration": 2,
    "start_time": "2023-03-28T08:17:47.947Z"
   },
   {
    "duration": 667,
    "start_time": "2023-03-28T08:26:38.082Z"
   },
   {
    "duration": 2,
    "start_time": "2023-03-28T08:26:59.506Z"
   },
   {
    "duration": 55,
    "start_time": "2023-03-28T08:27:59.215Z"
   },
   {
    "duration": 1428,
    "start_time": "2023-03-28T08:29:05.563Z"
   },
   {
    "duration": 16,
    "start_time": "2023-03-28T08:30:43.372Z"
   },
   {
    "duration": 19,
    "start_time": "2023-03-28T08:30:51.128Z"
   },
   {
    "duration": 25,
    "start_time": "2023-03-28T08:32:22.827Z"
   },
   {
    "duration": 3014,
    "start_time": "2023-03-28T08:32:32.866Z"
   },
   {
    "duration": 26,
    "start_time": "2023-03-28T08:32:39.282Z"
   },
   {
    "duration": 26,
    "start_time": "2023-03-28T10:17:22.727Z"
   },
   {
    "duration": 428,
    "start_time": "2023-03-29T08:13:04.710Z"
   },
   {
    "duration": 721,
    "start_time": "2023-03-29T08:13:05.141Z"
   },
   {
    "duration": 46,
    "start_time": "2023-03-29T08:13:05.864Z"
   },
   {
    "duration": 3,
    "start_time": "2023-03-29T08:13:05.912Z"
   },
   {
    "duration": 42,
    "start_time": "2023-03-29T08:13:05.917Z"
   },
   {
    "duration": 45,
    "start_time": "2023-03-29T08:13:05.960Z"
   },
   {
    "duration": 47,
    "start_time": "2023-03-29T08:13:06.010Z"
   },
   {
    "duration": 59,
    "start_time": "2023-03-29T08:13:06.058Z"
   },
   {
    "duration": 18,
    "start_time": "2023-03-29T08:13:06.119Z"
   },
   {
    "duration": 34,
    "start_time": "2023-03-29T08:13:06.139Z"
   },
   {
    "duration": 59,
    "start_time": "2023-03-29T08:13:06.175Z"
   },
   {
    "duration": 166,
    "start_time": "2023-03-29T08:13:06.236Z"
   },
   {
    "duration": 15,
    "start_time": "2023-03-29T08:13:06.409Z"
   },
   {
    "duration": 8,
    "start_time": "2023-03-29T08:13:06.427Z"
   },
   {
    "duration": 20,
    "start_time": "2023-03-29T08:13:06.436Z"
   },
   {
    "duration": 44,
    "start_time": "2023-03-29T08:13:06.457Z"
   },
   {
    "duration": 1362,
    "start_time": "2023-03-29T08:13:06.507Z"
   },
   {
    "duration": 27,
    "start_time": "2023-03-29T08:13:07.871Z"
   },
   {
    "duration": 43,
    "start_time": "2023-03-29T08:13:07.900Z"
   },
   {
    "duration": 3305,
    "start_time": "2023-03-29T08:13:07.944Z"
   },
   {
    "duration": 8,
    "start_time": "2023-03-29T08:13:11.250Z"
   },
   {
    "duration": 45,
    "start_time": "2023-03-29T08:13:11.259Z"
   },
   {
    "duration": 9,
    "start_time": "2023-03-29T08:14:20.435Z"
   },
   {
    "duration": 15,
    "start_time": "2023-03-29T08:15:15.479Z"
   },
   {
    "duration": 6,
    "start_time": "2023-03-29T08:15:41.430Z"
   },
   {
    "duration": 102,
    "start_time": "2023-03-29T08:16:18.303Z"
   },
   {
    "duration": 54,
    "start_time": "2023-03-29T08:16:39.561Z"
   },
   {
    "duration": 1344,
    "start_time": "2023-03-29T08:16:56.710Z"
   },
   {
    "duration": 31,
    "start_time": "2023-03-29T08:17:06.608Z"
   },
   {
    "duration": 35,
    "start_time": "2023-03-29T08:17:14.510Z"
   },
   {
    "duration": 7,
    "start_time": "2023-03-29T08:18:35.803Z"
   },
   {
    "duration": 27,
    "start_time": "2023-03-29T08:20:29.902Z"
   },
   {
    "duration": 1454,
    "start_time": "2023-03-29T08:20:36.009Z"
   },
   {
    "duration": 34,
    "start_time": "2023-03-29T08:20:41.612Z"
   },
   {
    "duration": 23,
    "start_time": "2023-03-29T08:20:58.277Z"
   },
   {
    "duration": 7,
    "start_time": "2023-03-29T08:21:03.183Z"
   },
   {
    "duration": 16,
    "start_time": "2023-03-29T08:22:27.836Z"
   },
   {
    "duration": 18,
    "start_time": "2023-03-29T08:22:57.631Z"
   },
   {
    "duration": 65,
    "start_time": "2023-03-29T08:23:19.332Z"
   },
   {
    "duration": 8,
    "start_time": "2023-03-29T08:23:59.848Z"
   },
   {
    "duration": 9,
    "start_time": "2023-03-29T08:24:11.597Z"
   },
   {
    "duration": 7,
    "start_time": "2023-03-29T08:24:31.554Z"
   },
   {
    "duration": 8,
    "start_time": "2023-03-29T08:24:49.814Z"
   },
   {
    "duration": 10,
    "start_time": "2023-03-29T08:25:03.311Z"
   },
   {
    "duration": 7,
    "start_time": "2023-03-29T08:25:36.110Z"
   },
   {
    "duration": 7,
    "start_time": "2023-03-29T08:25:37.258Z"
   },
   {
    "duration": 7,
    "start_time": "2023-03-29T08:25:37.708Z"
   },
   {
    "duration": 12,
    "start_time": "2023-03-29T08:32:23.643Z"
   },
   {
    "duration": 3,
    "start_time": "2023-03-29T10:17:49.888Z"
   },
   {
    "duration": 5,
    "start_time": "2023-03-29T10:17:49.894Z"
   },
   {
    "duration": 5,
    "start_time": "2023-03-29T10:17:49.901Z"
   },
   {
    "duration": 13,
    "start_time": "2023-03-29T10:17:49.908Z"
   },
   {
    "duration": 31,
    "start_time": "2023-03-29T10:17:49.923Z"
   },
   {
    "duration": 13,
    "start_time": "2023-03-29T10:17:49.955Z"
   },
   {
    "duration": 27,
    "start_time": "2023-03-29T10:17:49.969Z"
   },
   {
    "duration": 68,
    "start_time": "2023-03-29T10:17:49.998Z"
   },
   {
    "duration": 10,
    "start_time": "2023-03-29T10:17:50.067Z"
   },
   {
    "duration": 37,
    "start_time": "2023-03-29T10:17:50.078Z"
   },
   {
    "duration": 20,
    "start_time": "2023-03-29T10:17:50.117Z"
   },
   {
    "duration": 49,
    "start_time": "2023-03-29T10:17:50.138Z"
   },
   {
    "duration": 1242,
    "start_time": "2023-03-29T10:17:50.189Z"
   },
   {
    "duration": 36,
    "start_time": "2023-03-29T10:17:51.432Z"
   },
   {
    "duration": 21,
    "start_time": "2023-03-29T10:17:51.470Z"
   },
   {
    "duration": 360,
    "start_time": "2023-03-29T11:07:12.566Z"
   },
   {
    "duration": 1903,
    "start_time": "2023-03-29T11:07:12.928Z"
   },
   {
    "duration": 40,
    "start_time": "2023-03-29T11:07:14.833Z"
   },
   {
    "duration": 3,
    "start_time": "2023-03-29T11:07:14.875Z"
   },
   {
    "duration": 21,
    "start_time": "2023-03-29T11:07:14.880Z"
   },
   {
    "duration": 13,
    "start_time": "2023-03-29T11:07:14.903Z"
   },
   {
    "duration": 23,
    "start_time": "2023-03-29T11:07:14.918Z"
   },
   {
    "duration": 42,
    "start_time": "2023-03-29T11:07:14.943Z"
   },
   {
    "duration": 18,
    "start_time": "2023-03-29T11:07:14.987Z"
   },
   {
    "duration": 60,
    "start_time": "2023-03-29T11:07:15.008Z"
   },
   {
    "duration": 49,
    "start_time": "2023-03-29T11:07:15.070Z"
   },
   {
    "duration": 72,
    "start_time": "2023-03-29T11:07:15.121Z"
   },
   {
    "duration": 1573,
    "start_time": "2023-03-29T11:07:15.196Z"
   },
   {
    "duration": 112,
    "start_time": "2023-03-29T11:07:16.770Z"
   },
   {
    "duration": 0,
    "start_time": "2023-03-29T11:07:16.884Z"
   },
   {
    "duration": 16,
    "start_time": "2023-03-29T11:07:55.073Z"
   },
   {
    "duration": 52,
    "start_time": "2023-03-29T13:22:14.239Z"
   },
   {
    "duration": 1153,
    "start_time": "2023-03-29T13:22:20.062Z"
   },
   {
    "duration": 151,
    "start_time": "2023-03-29T13:22:24.988Z"
   },
   {
    "duration": 21,
    "start_time": "2023-03-29T13:22:25.372Z"
   },
   {
    "duration": 13,
    "start_time": "2023-03-29T13:22:26.382Z"
   },
   {
    "duration": 11,
    "start_time": "2023-03-29T13:25:14.486Z"
   },
   {
    "duration": 8,
    "start_time": "2023-03-29T13:25:30.709Z"
   },
   {
    "duration": 7,
    "start_time": "2023-03-29T13:25:45.322Z"
   },
   {
    "duration": 81,
    "start_time": "2023-03-29T13:26:23.608Z"
   },
   {
    "duration": 7,
    "start_time": "2023-03-29T13:26:27.908Z"
   },
   {
    "duration": 7,
    "start_time": "2023-03-29T13:26:35.974Z"
   },
   {
    "duration": 9,
    "start_time": "2023-03-29T13:49:25.939Z"
   },
   {
    "duration": 9,
    "start_time": "2023-03-29T14:48:26.483Z"
   },
   {
    "duration": 206,
    "start_time": "2023-03-29T14:53:27.387Z"
   },
   {
    "duration": 119,
    "start_time": "2023-03-29T14:53:31.835Z"
   },
   {
    "duration": 41,
    "start_time": "2023-03-29T14:53:46.488Z"
   },
   {
    "duration": 34,
    "start_time": "2023-03-29T14:53:59.999Z"
   },
   {
    "duration": 80,
    "start_time": "2023-03-29T14:55:10.885Z"
   },
   {
    "duration": 39,
    "start_time": "2023-03-29T14:55:11.714Z"
   },
   {
    "duration": 379,
    "start_time": "2023-03-29T14:55:40.598Z"
   },
   {
    "duration": 198,
    "start_time": "2023-03-29T14:55:41.828Z"
   },
   {
    "duration": 159,
    "start_time": "2023-03-29T14:55:58.101Z"
   },
   {
    "duration": 145,
    "start_time": "2023-03-29T14:56:32.228Z"
   },
   {
    "duration": 144,
    "start_time": "2023-03-29T14:56:49.735Z"
   },
   {
    "duration": 184,
    "start_time": "2023-03-29T14:57:30.381Z"
   },
   {
    "duration": 181,
    "start_time": "2023-03-29T14:57:40.032Z"
   },
   {
    "duration": 4,
    "start_time": "2023-03-29T14:58:01.612Z"
   },
   {
    "duration": 268,
    "start_time": "2023-03-29T14:58:23.861Z"
   },
   {
    "duration": 6238,
    "start_time": "2023-03-29T14:59:11.964Z"
   },
   {
    "duration": 6850,
    "start_time": "2023-03-29T15:03:24.067Z"
   },
   {
    "duration": 9444,
    "start_time": "2023-03-29T15:03:52.016Z"
   },
   {
    "duration": 47307,
    "start_time": "2023-03-29T15:04:14.124Z"
   },
   {
    "duration": 22492,
    "start_time": "2023-03-29T15:05:42.863Z"
   },
   {
    "duration": 23313,
    "start_time": "2023-03-29T15:08:12.674Z"
   },
   {
    "duration": 22921,
    "start_time": "2023-03-29T15:09:18.655Z"
   },
   {
    "duration": 21991,
    "start_time": "2023-03-29T15:12:33.149Z"
   },
   {
    "duration": 41,
    "start_time": "2023-03-29T15:13:11.154Z"
   },
   {
    "duration": 40,
    "start_time": "2023-03-29T15:13:19.695Z"
   },
   {
    "duration": 23,
    "start_time": "2023-03-29T15:14:38.036Z"
   },
   {
    "duration": 322,
    "start_time": "2023-03-29T15:18:44.177Z"
   },
   {
    "duration": 26,
    "start_time": "2023-03-29T15:20:07.013Z"
   },
   {
    "duration": 10,
    "start_time": "2023-03-29T15:35:04.290Z"
   },
   {
    "duration": 9,
    "start_time": "2023-03-29T15:35:09.262Z"
   },
   {
    "duration": 9,
    "start_time": "2023-03-29T15:35:47.271Z"
   },
   {
    "duration": 5,
    "start_time": "2023-03-29T15:35:59.921Z"
   },
   {
    "duration": 6,
    "start_time": "2023-03-29T15:38:34.288Z"
   },
   {
    "duration": 8,
    "start_time": "2023-03-29T15:41:22.159Z"
   },
   {
    "duration": 4,
    "start_time": "2023-03-29T15:41:28.026Z"
   },
   {
    "duration": 4,
    "start_time": "2023-03-29T15:42:46.588Z"
   },
   {
    "duration": 1618,
    "start_time": "2023-04-01T07:10:00.628Z"
   },
   {
    "duration": 133,
    "start_time": "2023-04-01T07:10:02.250Z"
   },
   {
    "duration": 15,
    "start_time": "2023-04-01T07:10:02.385Z"
   },
   {
    "duration": 26,
    "start_time": "2023-04-01T07:10:02.402Z"
   },
   {
    "duration": 31,
    "start_time": "2023-04-01T07:10:02.430Z"
   },
   {
    "duration": 17,
    "start_time": "2023-04-01T07:10:02.463Z"
   },
   {
    "duration": 46,
    "start_time": "2023-04-01T07:10:02.482Z"
   },
   {
    "duration": 30,
    "start_time": "2023-04-01T07:10:02.529Z"
   },
   {
    "duration": 391,
    "start_time": "2023-04-01T07:10:02.561Z"
   },
   {
    "duration": 19875,
    "start_time": "2023-04-01T07:10:02.954Z"
   },
   {
    "duration": 33,
    "start_time": "2023-04-01T07:10:22.831Z"
   },
   {
    "duration": 18,
    "start_time": "2023-04-01T07:10:22.866Z"
   },
   {
    "duration": 129,
    "start_time": "2023-04-01T07:11:57.103Z"
   },
   {
    "duration": 4,
    "start_time": "2023-04-01T07:12:22.112Z"
   },
   {
    "duration": 291,
    "start_time": "2023-04-01T07:15:02.573Z"
   },
   {
    "duration": 288,
    "start_time": "2023-04-01T07:23:04.135Z"
   },
   {
    "duration": 11,
    "start_time": "2023-04-01T07:34:58.765Z"
   },
   {
    "duration": 8,
    "start_time": "2023-04-01T07:35:27.066Z"
   },
   {
    "duration": 12,
    "start_time": "2023-04-01T07:35:53.629Z"
   },
   {
    "duration": 6,
    "start_time": "2023-04-01T07:36:25.471Z"
   },
   {
    "duration": 1244,
    "start_time": "2023-04-01T07:38:03.607Z"
   },
   {
    "duration": 5,
    "start_time": "2023-04-01T07:38:41.996Z"
   },
   {
    "duration": 6,
    "start_time": "2023-04-01T07:38:57.246Z"
   },
   {
    "duration": 6,
    "start_time": "2023-04-01T07:39:09.326Z"
   },
   {
    "duration": 8,
    "start_time": "2023-04-01T07:39:42.405Z"
   },
   {
    "duration": 6,
    "start_time": "2023-04-01T07:40:00.342Z"
   },
   {
    "duration": 3171,
    "start_time": "2023-04-01T08:56:15.768Z"
   },
   {
    "duration": 29,
    "start_time": "2023-04-01T08:56:18.940Z"
   },
   {
    "duration": 25,
    "start_time": "2023-04-01T08:56:18.986Z"
   },
   {
    "duration": 14,
    "start_time": "2023-04-01T08:56:19.013Z"
   },
   {
    "duration": 12,
    "start_time": "2023-04-01T08:56:19.029Z"
   },
   {
    "duration": 13,
    "start_time": "2023-04-01T08:56:19.043Z"
   },
   {
    "duration": 57,
    "start_time": "2023-04-01T08:56:19.058Z"
   },
   {
    "duration": 10,
    "start_time": "2023-04-01T08:56:19.116Z"
   },
   {
    "duration": 473,
    "start_time": "2023-04-01T08:56:19.127Z"
   },
   {
    "duration": 21924,
    "start_time": "2023-04-01T08:56:19.606Z"
   },
   {
    "duration": 28,
    "start_time": "2023-04-01T08:56:41.532Z"
   },
   {
    "duration": 32,
    "start_time": "2023-04-01T08:56:41.561Z"
   },
   {
    "duration": 325,
    "start_time": "2023-04-01T08:56:41.594Z"
   },
   {
    "duration": 6,
    "start_time": "2023-04-01T08:56:41.920Z"
   }
  ],
  "kernelspec": {
   "display_name": "Python 3 (ipykernel)",
   "language": "python",
   "name": "python3"
  },
  "language_info": {
   "codemirror_mode": {
    "name": "ipython",
    "version": 3
   },
   "file_extension": ".py",
   "mimetype": "text/x-python",
   "name": "python",
   "nbconvert_exporter": "python",
   "pygments_lexer": "ipython3",
   "version": "3.9.13"
  },
  "toc": {
   "base_numbering": 1,
   "nav_menu": {},
   "number_sections": true,
   "sideBar": true,
   "skip_h1_title": true,
   "title_cell": "Table of Contents",
   "title_sidebar": "Contents",
   "toc_cell": false,
   "toc_position": {},
   "toc_section_display": true,
   "toc_window_display": false
  }
 },
 "nbformat": 4,
 "nbformat_minor": 2
}
