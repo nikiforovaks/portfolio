{
 "cells": [
  {
   "cell_type": "markdown",
   "metadata": {
    "toc": true
   },
   "source": [
    "<h1>Содержание<span class=\"tocSkip\"></span></h1>\n",
    "<div class=\"toc\"><ul class=\"toc-item\"><li><span><a href=\"#Подготовка\" data-toc-modified-id=\"Подготовка-1\"><span class=\"toc-item-num\">1&nbsp;&nbsp;</span>Подготовка</a></span></li><li><span><a href=\"#Анализ\" data-toc-modified-id=\"Анализ-2\"><span class=\"toc-item-num\">2&nbsp;&nbsp;</span>Анализ</a></span></li><li><span><a href=\"#Обучение\" data-toc-modified-id=\"Обучение-3\"><span class=\"toc-item-num\">3&nbsp;&nbsp;</span>Обучение</a></span></li><li><span><a href=\"#Тестирование\" data-toc-modified-id=\"Тестирование-4\"><span class=\"toc-item-num\">4&nbsp;&nbsp;</span>Тестирование</a></span></li></ul></div>"
   ]
  },
  {
   "cell_type": "markdown",
   "metadata": {},
   "source": [
    "#  Прогнозирование заказов такси"
   ]
  },
  {
   "cell_type": "markdown",
   "metadata": {},
   "source": [
    "Компания «Чётенькое такси» собрала исторические данные о заказах такси в аэропортах. Чтобы привлекать больше водителей в период пиковой нагрузки, нужно спрогнозировать количество заказов такси на следующий час. Постройте модель для такого предсказания.\n",
    "\n",
    "Значение метрики *RMSE* на тестовой выборке должно быть не больше 48."
   ]
  },
  {
   "cell_type": "markdown",
   "metadata": {},
   "source": [
    "## Подготовка"
   ]
  },
  {
   "cell_type": "code",
   "execution_count": 144,
   "metadata": {},
   "outputs": [],
   "source": [
    "import pandas as pd\n",
    "from sklearn.model_selection import train_test_split, GridSearchCV, TimeSeriesSplit\n",
    "from sklearn.linear_model import LinearRegression\n",
    "from sklearn.metrics import mean_squared_error, make_scorer\n",
    "from sklearn.tree import DecisionTreeRegressor\n",
    "from sklearn.ensemble import RandomForestRegressor\n",
    "from statsmodels.tsa.seasonal import seasonal_decompose\n",
    "import matplotlib.pyplot as plt"
   ]
  },
  {
   "cell_type": "code",
   "execution_count": 145,
   "metadata": {},
   "outputs": [],
   "source": [
    "data = pd.read_csv('/datasets/taxi.csv', index_col=[0], parse_dates=[0])"
   ]
  },
  {
   "cell_type": "code",
   "execution_count": 146,
   "metadata": {},
   "outputs": [
    {
     "data": {
      "text/html": [
       "<div>\n",
       "<style scoped>\n",
       "    .dataframe tbody tr th:only-of-type {\n",
       "        vertical-align: middle;\n",
       "    }\n",
       "\n",
       "    .dataframe tbody tr th {\n",
       "        vertical-align: top;\n",
       "    }\n",
       "\n",
       "    .dataframe thead th {\n",
       "        text-align: right;\n",
       "    }\n",
       "</style>\n",
       "<table border=\"1\" class=\"dataframe\">\n",
       "  <thead>\n",
       "    <tr style=\"text-align: right;\">\n",
       "      <th></th>\n",
       "      <th>num_orders</th>\n",
       "    </tr>\n",
       "    <tr>\n",
       "      <th>datetime</th>\n",
       "      <th></th>\n",
       "    </tr>\n",
       "  </thead>\n",
       "  <tbody>\n",
       "    <tr>\n",
       "      <th>2018-03-01 00:00:00</th>\n",
       "      <td>9</td>\n",
       "    </tr>\n",
       "    <tr>\n",
       "      <th>2018-03-01 00:10:00</th>\n",
       "      <td>14</td>\n",
       "    </tr>\n",
       "    <tr>\n",
       "      <th>2018-03-01 00:20:00</th>\n",
       "      <td>28</td>\n",
       "    </tr>\n",
       "    <tr>\n",
       "      <th>2018-03-01 00:30:00</th>\n",
       "      <td>20</td>\n",
       "    </tr>\n",
       "    <tr>\n",
       "      <th>2018-03-01 00:40:00</th>\n",
       "      <td>32</td>\n",
       "    </tr>\n",
       "  </tbody>\n",
       "</table>\n",
       "</div>"
      ],
      "text/plain": [
       "                     num_orders\n",
       "datetime                       \n",
       "2018-03-01 00:00:00           9\n",
       "2018-03-01 00:10:00          14\n",
       "2018-03-01 00:20:00          28\n",
       "2018-03-01 00:30:00          20\n",
       "2018-03-01 00:40:00          32"
      ]
     },
     "execution_count": 146,
     "metadata": {},
     "output_type": "execute_result"
    }
   ],
   "source": [
    "data.head()"
   ]
  },
  {
   "cell_type": "code",
   "execution_count": 147,
   "metadata": {},
   "outputs": [],
   "source": [
    "data = data.resample('1H').sum()"
   ]
  },
  {
   "cell_type": "code",
   "execution_count": 148,
   "metadata": {},
   "outputs": [],
   "source": [
    "data_week = data.resample('1D').sum()"
   ]
  },
  {
   "cell_type": "markdown",
   "metadata": {},
   "source": [
    "## Анализ"
   ]
  },
  {
   "cell_type": "code",
   "execution_count": 149,
   "metadata": {},
   "outputs": [
    {
     "data": {
      "image/png": "[encoded data removed]",
      "text/plain": [
       "<Figure size 432x288 with 1 Axes>"
      ]
     },
     "metadata": {
      "needs_background": "light"
     },
     "output_type": "display_data"
    }
   ],
   "source": [
    "data.plot(title='data');"
   ]
  },
  {
   "cell_type": "code",
   "execution_count": 150,
   "metadata": {},
   "outputs": [
    {
     "data": {
      "text/html": [
       "<div>\n",
       "<style scoped>\n",
       "    .dataframe tbody tr th:only-of-type {\n",
       "        vertical-align: middle;\n",
       "    }\n",
       "\n",
       "    .dataframe tbody tr th {\n",
       "        vertical-align: top;\n",
       "    }\n",
       "\n",
       "    .dataframe thead th {\n",
       "        text-align: right;\n",
       "    }\n",
       "</style>\n",
       "<table border=\"1\" class=\"dataframe\">\n",
       "  <thead>\n",
       "    <tr style=\"text-align: right;\">\n",
       "      <th></th>\n",
       "      <th>num_orders</th>\n",
       "    </tr>\n",
       "  </thead>\n",
       "  <tbody>\n",
       "    <tr>\n",
       "      <th>count</th>\n",
       "      <td>4416.000000</td>\n",
       "    </tr>\n",
       "    <tr>\n",
       "      <th>mean</th>\n",
       "      <td>84.422781</td>\n",
       "    </tr>\n",
       "    <tr>\n",
       "      <th>std</th>\n",
       "      <td>45.023853</td>\n",
       "    </tr>\n",
       "    <tr>\n",
       "      <th>min</th>\n",
       "      <td>0.000000</td>\n",
       "    </tr>\n",
       "    <tr>\n",
       "      <th>25%</th>\n",
       "      <td>54.000000</td>\n",
       "    </tr>\n",
       "    <tr>\n",
       "      <th>50%</th>\n",
       "      <td>78.000000</td>\n",
       "    </tr>\n",
       "    <tr>\n",
       "      <th>75%</th>\n",
       "      <td>107.000000</td>\n",
       "    </tr>\n",
       "    <tr>\n",
       "      <th>max</th>\n",
       "      <td>462.000000</td>\n",
       "    </tr>\n",
       "  </tbody>\n",
       "</table>\n",
       "</div>"
      ],
      "text/plain": [
       "        num_orders\n",
       "count  4416.000000\n",
       "mean     84.422781\n",
       "std      45.023853\n",
       "min       0.000000\n",
       "25%      54.000000\n",
       "50%      78.000000\n",
       "75%     107.000000\n",
       "max     462.000000"
      ]
     },
     "execution_count": 150,
     "metadata": {},
     "output_type": "execute_result"
    }
   ],
   "source": [
    "data.describe()"
   ]
  },
  {
   "cell_type": "code",
   "execution_count": 151,
   "metadata": {},
   "outputs": [
    {
     "data": {
      "text/plain": [
       "num_orders    0\n",
       "dtype: int64"
      ]
     },
     "execution_count": 151,
     "metadata": {},
     "output_type": "execute_result"
    }
   ],
   "source": [
    "data.isna().sum()"
   ]
  },
  {
   "cell_type": "code",
   "execution_count": 152,
   "metadata": {},
   "outputs": [
    {
     "data": {
      "image/png": "[encoded data removed]",
      "text/plain": [
       "<Figure size 720x1296 with 3 Axes>"
      ]
     },
     "metadata": {
      "needs_background": "light"
     },
     "output_type": "display_data"
    }
   ],
   "source": [
    "decomposed = seasonal_decompose(data)\n",
    "plt.figure(figsize=(10, 18))\n",
    "plt.subplot(311)\n",
    "decomposed.trend.plot(ax=plt.gca(), title='trend'); # тренд\n",
    "plt.subplot(312)\n",
    "decomposed.seasonal.tail(24).plot(ax=plt.gca(), title='seasonal_day'); # сезонная составляющая\n",
    "plt.subplot(313)\n",
    "decomposed.resid.plot(ax=plt.gca(), title='resid');"
   ]
  },
  {
   "cell_type": "code",
   "execution_count": 153,
   "metadata": {},
   "outputs": [
    {
     "data": {
      "image/png": "[encoded data removed]",
      "text/plain": [
       "<Figure size 432x288 with 1 Axes>"
      ]
     },
     "metadata": {
      "needs_background": "light"
     },
     "output_type": "display_data"
    }
   ],
   "source": [
    "decomposed = seasonal_decompose(data_week)\n",
    "decomposed.seasonal.tail(7).plot(ax=plt.gca(), title='seasonal_week');"
   ]
  },
  {
   "cell_type": "markdown",
   "metadata": {},
   "source": [
    "***Выводы:***\n",
    "\n",
    "После анализа данных я пришла к выводу, что у нас суточная и недельная сезонности. В течение дня максимум в 00:00, а минимум в 6:00, а на неделе (от 0 до 6 дни) 2 и 6 дни - пик, а минимум на середине недели.\n",
    "\n",
    "Общий тренд ряда восходящий с ускорением, начиная с мая.\n",
    "\n",
    "К концу графика количество \"остатков\" немного больше."
   ]
  },
  {
   "cell_type": "markdown",
   "metadata": {},
   "source": [
    "## Обучение"
   ]
  },
  {
   "cell_type": "code",
   "execution_count": 154,
   "metadata": {},
   "outputs": [],
   "source": [
    "def make_features(data, max_lag, rolling_mean_size):\n",
    "    data['hour'] = data.index.hour\n",
    "    data['dayofweek'] = data.index.dayofweek\n",
    "    for lag in range(1, max_lag + 1):\n",
    "        data['lag_{}'.format(lag)] = data['num_orders'].shift(lag)\n",
    "\n",
    "    data['rolling_mean'] = data['num_orders'].shift().rolling(rolling_mean_size).mean()"
   ]
  },
  {
   "cell_type": "code",
   "execution_count": 155,
   "metadata": {},
   "outputs": [],
   "source": [
    "def rmse(target, predict):\n",
    "    return mean_squared_error(target, predict) ** 0.5"
   ]
  },
  {
   "cell_type": "code",
   "execution_count": 156,
   "metadata": {},
   "outputs": [],
   "source": [
    "make_features(data, 168, 5)\n",
    "train, test = train_test_split(data, shuffle=False, test_size=0.1)\n",
    "train = train.dropna()\n",
    "        \n",
    "train_features = train.drop(['num_orders'], axis=1)\n",
    "train_target = train['num_orders']\n",
    "\n",
    "test_features = test.drop(['num_orders'], axis=1)\n",
    "test_target = test['num_orders']"
   ]
  },
  {
   "cell_type": "code",
   "execution_count": 157,
   "metadata": {},
   "outputs": [
    {
     "data": {
      "text/plain": [
       "22.54420030682363"
      ]
     },
     "execution_count": 157,
     "metadata": {},
     "output_type": "execute_result"
    }
   ],
   "source": [
    "scorer = make_scorer(rmse, greater_is_better=False)\n",
    "model = LinearRegression()\n",
    "tscv = TimeSeriesSplit(n_splits=5)\n",
    "gsearch = GridSearchCV(estimator=model, cv=tscv, param_grid={}, scoring=scorer)\n",
    "gsearch.fit(train_features, train_target)\n",
    "gsearch.best_score_ * (-1)"
   ]
  },
  {
   "cell_type": "code",
   "execution_count": 159,
   "metadata": {},
   "outputs": [
    {
     "name": "stdout",
     "output_type": "stream",
     "text": [
      "CPU times: user 1.65 s, sys: 4 ms, total: 1.65 s\n",
      "Wall time: 1.65 s\n"
     ]
    },
    {
     "data": {
      "text/plain": [
       "33.48953964093256"
      ]
     },
     "execution_count": 159,
     "metadata": {},
     "output_type": "execute_result"
    }
   ],
   "source": [
    "%%time\n",
    "model = DecisionTreeRegressor()\n",
    "tscv = TimeSeriesSplit(n_splits=5)\n",
    "gsearch_tree = GridSearchCV(estimator=model, cv=tscv, param_grid={}, scoring=scorer)\n",
    "gsearch_tree.fit(train_features, train_target)\n",
    "gsearch_tree.best_score_ * (-1)\n",
    "# Wall time: 1.69 s"
   ]
  },
  {
   "cell_type": "code",
   "execution_count": 160,
   "metadata": {},
   "outputs": [
    {
     "name": "stdout",
     "output_type": "stream",
     "text": [
      "CPU times: user 8min 21s, sys: 1.24 s, total: 8min 22s\n",
      "Wall time: 8min 22s\n"
     ]
    },
    {
     "data": {
      "text/plain": [
       "23.021540627588983"
      ]
     },
     "execution_count": 160,
     "metadata": {},
     "output_type": "execute_result"
    }
   ],
   "source": [
    "%%time\n",
    "model = RandomForestRegressor()\n",
    "tscv = TimeSeriesSplit(n_splits=5)\n",
    "grid_forest = GridSearchCV(model, param_grid={'max_depth': range(1, 20), 'n_estimators': range(10, 31, 10)},\n",
    "                           scoring=scorer, cv=tscv)\n",
    "grid_forest.fit(train_features, train_target)\n",
    "grid_forest.best_score_ * (-1)\n",
    "# Wall time: 8min 16s"
   ]
  },
  {
   "cell_type": "markdown",
   "metadata": {},
   "source": [
    "***Выводы:***\n",
    "\n",
    "Наилучшие результаты показывают линейная регрессия и модель случайного леса регрессии, далее я проверю обе модели на тестовых данных."
   ]
  },
  {
   "cell_type": "markdown",
   "metadata": {},
   "source": [
    "## Тестирование"
   ]
  },
  {
   "cell_type": "code",
   "execution_count": 161,
   "metadata": {},
   "outputs": [
    {
     "data": {
      "text/plain": [
       "40.446730120117934"
      ]
     },
     "execution_count": 161,
     "metadata": {},
     "output_type": "execute_result"
    }
   ],
   "source": [
    "model = RandomForestRegressor(n_estimators=grid_forest.best_params_['n_estimators'],\n",
    "                              max_depth=grid_forest.best_params_['max_depth'], random_state=12345)\n",
    "model.fit(train_features, train_target)\n",
    "predictions = model.predict(test_features)\n",
    "rmse(test_target, predictions)\n",
    "# lag = 48 => 41.6410462054079\n",
    "# lag = 168 => 40.446730120117934"
   ]
  },
  {
   "cell_type": "code",
   "execution_count": 162,
   "metadata": {},
   "outputs": [
    {
     "data": {
      "text/plain": [
       "34.524978081615984"
      ]
     },
     "execution_count": 162,
     "metadata": {},
     "output_type": "execute_result"
    }
   ],
   "source": [
    "model = LinearRegression()\n",
    "model.fit(train_features, train_target)\n",
    "predictions = model.predict(test_features)\n",
    "rmse(test_target, predictions)\n",
    "# lag = 48 => 41.8466243964101\n",
    "# lag = 168 => 34.524978081615984"
   ]
  },
  {
   "cell_type": "markdown",
   "metadata": {},
   "source": [
    "После добавления признака дня недели метрика улучшилась на 0.004"
   ]
  },
  {
   "cell_type": "markdown",
   "metadata": {},
   "source": [
    "***Вывод:***\n",
    "\n",
    "Лучше всего себя показала модель линейной регрессии. Когда количество лагов было = 48, лес и линейная регрессия показывали примерно одинаковый результат 41.7, но когда я увеличила количество лагов до 168, результат леса не сильно улучшился (40.4), а вот линейная регрессия показала наилучший результат 34.5."
   ]
  }
 ],
 "metadata": {
  "ExecuteTimeLog": [
   {
    "duration": 507,
    "start_time": "2023-06-28T11:19:08.042Z"
   },
   {
    "duration": 158,
    "start_time": "2023-06-28T11:19:29.491Z"
   },
   {
    "duration": 22,
    "start_time": "2023-06-28T11:19:40.238Z"
   },
   {
    "duration": 115,
    "start_time": "2023-06-28T11:20:44.578Z"
   },
   {
    "duration": 16,
    "start_time": "2023-06-28T11:20:57.014Z"
   },
   {
    "duration": 27,
    "start_time": "2023-06-28T11:21:01.493Z"
   },
   {
    "duration": 21,
    "start_time": "2023-06-28T11:21:43.129Z"
   },
   {
    "duration": 22,
    "start_time": "2023-06-28T11:21:51.305Z"
   },
   {
    "duration": 15,
    "start_time": "2023-06-28T11:22:05.440Z"
   },
   {
    "duration": 58,
    "start_time": "2023-06-28T11:22:20.443Z"
   },
   {
    "duration": 12,
    "start_time": "2023-06-28T11:22:21.293Z"
   },
   {
    "duration": 41,
    "start_time": "2023-06-28T11:22:58.800Z"
   },
   {
    "duration": 54,
    "start_time": "2023-06-28T11:22:59.403Z"
   },
   {
    "duration": 67,
    "start_time": "2023-06-28T11:24:26.870Z"
   },
   {
    "duration": 16,
    "start_time": "2023-06-28T11:24:28.103Z"
   },
   {
    "duration": 12,
    "start_time": "2023-06-28T11:24:28.438Z"
   },
   {
    "duration": 4,
    "start_time": "2023-06-28T11:24:36.200Z"
   },
   {
    "duration": 3,
    "start_time": "2023-06-28T11:25:46.472Z"
   },
   {
    "duration": 55,
    "start_time": "2023-06-28T11:25:46.962Z"
   },
   {
    "duration": 7,
    "start_time": "2023-06-28T11:25:47.686Z"
   },
   {
    "duration": 3,
    "start_time": "2023-06-28T11:25:48.154Z"
   },
   {
    "duration": 10,
    "start_time": "2023-06-28T11:26:44.703Z"
   },
   {
    "duration": 11,
    "start_time": "2023-06-28T11:27:01.866Z"
   },
   {
    "duration": 9,
    "start_time": "2023-06-28T11:27:04.625Z"
   },
   {
    "duration": 333460,
    "start_time": "2023-06-28T11:27:23.103Z"
   },
   {
    "duration": 4,
    "start_time": "2023-06-28T11:33:59.566Z"
   },
   {
    "duration": 62,
    "start_time": "2023-06-28T11:34:30.238Z"
   },
   {
    "duration": 11,
    "start_time": "2023-06-28T11:34:30.634Z"
   },
   {
    "duration": 5,
    "start_time": "2023-06-28T11:34:31.039Z"
   },
   {
    "duration": 1073,
    "start_time": "2023-06-28T11:34:44.954Z"
   },
   {
    "duration": 9220,
    "start_time": "2023-06-28T11:34:56.842Z"
   },
   {
    "duration": 795,
    "start_time": "2023-06-28T11:35:12.134Z"
   },
   {
    "duration": 1065,
    "start_time": "2023-06-28T11:35:14.270Z"
   },
   {
    "duration": 25,
    "start_time": "2023-06-28T11:35:29.406Z"
   },
   {
    "duration": 7,
    "start_time": "2023-06-28T11:36:00.300Z"
   },
   {
    "duration": 15,
    "start_time": "2023-06-28T11:37:35.702Z"
   },
   {
    "duration": 285,
    "start_time": "2023-06-28T11:37:41.429Z"
   },
   {
    "duration": 29,
    "start_time": "2023-06-28T11:37:49.901Z"
   },
   {
    "duration": 8,
    "start_time": "2023-06-28T11:37:56.457Z"
   },
   {
    "duration": 304,
    "start_time": "2023-06-28T11:38:00.364Z"
   },
   {
    "duration": 18,
    "start_time": "2023-06-28T11:38:05.354Z"
   },
   {
    "duration": 8,
    "start_time": "2023-06-28T11:38:11.074Z"
   },
   {
    "duration": 1238,
    "start_time": "2023-06-28T11:38:37.141Z"
   },
   {
    "duration": 11,
    "start_time": "2023-06-28T11:39:30.565Z"
   },
   {
    "duration": 7043,
    "start_time": "2023-06-28T11:39:49.129Z"
   },
   {
    "duration": 5,
    "start_time": "2023-06-28T11:40:18.850Z"
   },
   {
    "duration": 17,
    "start_time": "2023-06-28T11:40:19.489Z"
   },
   {
    "duration": 34,
    "start_time": "2023-06-28T11:41:28.064Z"
   },
   {
    "duration": 7,
    "start_time": "2023-06-28T11:42:37.967Z"
   },
   {
    "duration": 3,
    "start_time": "2023-06-28T11:42:53.304Z"
   },
   {
    "duration": 15,
    "start_time": "2023-06-28T11:43:56.414Z"
   },
   {
    "duration": 6,
    "start_time": "2023-06-28T11:45:31.346Z"
   },
   {
    "duration": 84,
    "start_time": "2023-06-28T11:45:40.052Z"
   },
   {
    "duration": 37,
    "start_time": "2023-06-28T11:46:28.010Z"
   },
   {
    "duration": 5,
    "start_time": "2023-06-28T11:46:50.652Z"
   },
   {
    "duration": 3,
    "start_time": "2023-06-28T11:46:51.759Z"
   },
   {
    "duration": 27,
    "start_time": "2023-06-28T11:46:52.106Z"
   },
   {
    "duration": 27,
    "start_time": "2023-06-28T11:46:52.868Z"
   },
   {
    "duration": 57,
    "start_time": "2023-06-28T11:47:15.050Z"
   },
   {
    "duration": 7,
    "start_time": "2023-06-28T11:47:15.374Z"
   },
   {
    "duration": 15,
    "start_time": "2023-06-28T11:47:15.735Z"
   },
   {
    "duration": 324,
    "start_time": "2023-06-28T11:47:16.343Z"
   },
   {
    "duration": 24,
    "start_time": "2023-06-28T11:47:16.746Z"
   },
   {
    "duration": 19,
    "start_time": "2023-06-28T11:47:17.006Z"
   },
   {
    "duration": 3,
    "start_time": "2023-06-28T11:47:18.258Z"
   },
   {
    "duration": 5,
    "start_time": "2023-06-28T11:47:18.650Z"
   },
   {
    "duration": 20,
    "start_time": "2023-06-28T11:47:19.312Z"
   },
   {
    "duration": 39,
    "start_time": "2023-06-28T11:47:20.202Z"
   },
   {
    "duration": 12,
    "start_time": "2023-06-28T11:47:20.258Z"
   },
   {
    "duration": 72,
    "start_time": "2023-06-28T11:47:23.902Z"
   },
   {
    "duration": 36,
    "start_time": "2023-06-28T11:49:54.426Z"
   },
   {
    "duration": 19,
    "start_time": "2023-06-28T11:51:09.142Z"
   },
   {
    "duration": 28,
    "start_time": "2023-06-28T11:51:14.725Z"
   },
   {
    "duration": 986,
    "start_time": "2023-06-28T11:52:07.858Z"
   },
   {
    "duration": 951,
    "start_time": "2023-06-28T11:52:18.943Z"
   },
   {
    "duration": 14992,
    "start_time": "2023-06-28T11:52:56.595Z"
   },
   {
    "duration": 73,
    "start_time": "2023-06-28T11:54:11.089Z"
   },
   {
    "duration": 958,
    "start_time": "2023-06-28T11:54:42.237Z"
   },
   {
    "duration": 15156,
    "start_time": "2023-06-28T11:55:03.427Z"
   },
   {
    "duration": 16,
    "start_time": "2023-06-28T11:55:51.540Z"
   },
   {
    "duration": 10,
    "start_time": "2023-06-28T11:56:04.569Z"
   },
   {
    "duration": 9,
    "start_time": "2023-06-28T11:56:14.654Z"
   },
   {
    "duration": 37,
    "start_time": "2023-06-28T11:56:15.723Z"
   },
   {
    "duration": 836,
    "start_time": "2023-06-28T11:56:16.709Z"
   },
   {
    "duration": 13944,
    "start_time": "2023-06-28T11:56:20.844Z"
   },
   {
    "duration": 19,
    "start_time": "2023-06-28T11:56:38.994Z"
   },
   {
    "duration": 51,
    "start_time": "2023-06-28T11:56:50.451Z"
   },
   {
    "duration": 19,
    "start_time": "2023-06-28T11:56:50.504Z"
   },
   {
    "duration": 9,
    "start_time": "2023-06-28T11:56:50.660Z"
   },
   {
    "duration": 338,
    "start_time": "2023-06-28T11:56:51.853Z"
   },
   {
    "duration": 19,
    "start_time": "2023-06-28T11:56:52.201Z"
   },
   {
    "duration": 9,
    "start_time": "2023-06-28T11:56:52.327Z"
   },
   {
    "duration": 10,
    "start_time": "2023-06-28T11:56:52.808Z"
   },
   {
    "duration": 4,
    "start_time": "2023-06-28T11:56:53.037Z"
   },
   {
    "duration": 15,
    "start_time": "2023-06-28T11:56:53.301Z"
   },
   {
    "duration": 9,
    "start_time": "2023-06-28T11:56:54.430Z"
   },
   {
    "duration": 41,
    "start_time": "2023-06-28T11:56:54.952Z"
   },
   {
    "duration": 894,
    "start_time": "2023-06-28T11:56:57.296Z"
   },
   {
    "duration": 13,
    "start_time": "2023-06-28T11:57:03.100Z"
   },
   {
    "duration": 61,
    "start_time": "2023-06-28T11:57:10.902Z"
   },
   {
    "duration": 7,
    "start_time": "2023-06-28T11:57:11.060Z"
   },
   {
    "duration": 11,
    "start_time": "2023-06-28T11:57:11.240Z"
   },
   {
    "duration": 259,
    "start_time": "2023-06-28T11:57:11.640Z"
   },
   {
    "duration": 29,
    "start_time": "2023-06-28T11:57:11.902Z"
   },
   {
    "duration": 9,
    "start_time": "2023-06-28T11:57:12.043Z"
   },
   {
    "duration": 4,
    "start_time": "2023-06-28T11:57:12.450Z"
   },
   {
    "duration": 3,
    "start_time": "2023-06-28T11:57:12.634Z"
   },
   {
    "duration": 10,
    "start_time": "2023-06-28T11:57:12.954Z"
   },
   {
    "duration": 6,
    "start_time": "2023-06-28T11:57:13.401Z"
   },
   {
    "duration": 53,
    "start_time": "2023-06-28T11:57:13.985Z"
   },
   {
    "duration": 848,
    "start_time": "2023-06-28T11:57:16.297Z"
   },
   {
    "duration": 21,
    "start_time": "2023-06-28T11:57:23.293Z"
   },
   {
    "duration": 49,
    "start_time": "2023-06-28T11:57:32.953Z"
   },
   {
    "duration": 20,
    "start_time": "2023-06-28T11:57:33.203Z"
   },
   {
    "duration": 11,
    "start_time": "2023-06-28T11:57:33.422Z"
   },
   {
    "duration": 304,
    "start_time": "2023-06-28T11:57:33.798Z"
   },
   {
    "duration": 23,
    "start_time": "2023-06-28T11:57:34.104Z"
   },
   {
    "duration": 8,
    "start_time": "2023-06-28T11:57:34.191Z"
   },
   {
    "duration": 4,
    "start_time": "2023-06-28T11:57:34.576Z"
   },
   {
    "duration": 4,
    "start_time": "2023-06-28T11:57:34.752Z"
   },
   {
    "duration": 13,
    "start_time": "2023-06-28T11:57:34.955Z"
   },
   {
    "duration": 9,
    "start_time": "2023-06-28T11:57:35.213Z"
   },
   {
    "duration": 47,
    "start_time": "2023-06-28T11:57:35.300Z"
   },
   {
    "duration": 1005,
    "start_time": "2023-06-28T11:57:36.309Z"
   },
   {
    "duration": 13,
    "start_time": "2023-06-28T11:57:41.301Z"
   },
   {
    "duration": 5,
    "start_time": "2023-06-28T11:58:51.636Z"
   },
   {
    "duration": 21,
    "start_time": "2023-06-28T11:59:17.922Z"
   },
   {
    "duration": 69,
    "start_time": "2023-06-28T11:59:21.701Z"
   },
   {
    "duration": 8,
    "start_time": "2023-06-28T11:59:21.947Z"
   },
   {
    "duration": 10,
    "start_time": "2023-06-28T11:59:22.154Z"
   },
   {
    "duration": 242,
    "start_time": "2023-06-28T11:59:22.628Z"
   },
   {
    "duration": 14,
    "start_time": "2023-06-28T11:59:22.874Z"
   },
   {
    "duration": 7,
    "start_time": "2023-06-28T11:59:23.072Z"
   },
   {
    "duration": 6,
    "start_time": "2023-06-28T11:59:23.932Z"
   },
   {
    "duration": 8,
    "start_time": "2023-06-28T11:59:24.615Z"
   },
   {
    "duration": 22,
    "start_time": "2023-06-28T11:59:25.147Z"
   },
   {
    "duration": 6,
    "start_time": "2023-06-28T11:59:25.673Z"
   },
   {
    "duration": 494,
    "start_time": "2023-06-28T11:59:26.125Z"
   },
   {
    "duration": 3889,
    "start_time": "2023-06-28T11:59:26.712Z"
   },
   {
    "duration": 91534,
    "start_time": "2023-06-28T11:59:30.609Z"
   },
   {
    "duration": 54,
    "start_time": "2023-06-28T12:01:35.274Z"
   },
   {
    "duration": 852,
    "start_time": "2023-06-28T12:01:58.535Z"
   },
   {
    "duration": 14,
    "start_time": "2023-06-28T12:02:08.560Z"
   },
   {
    "duration": 16,
    "start_time": "2023-06-28T12:02:09.903Z"
   },
   {
    "duration": 523,
    "start_time": "2023-06-28T12:02:10.111Z"
   },
   {
    "duration": 90747,
    "start_time": "2023-06-28T12:02:20.093Z"
   },
   {
    "duration": 623,
    "start_time": "2023-06-28T12:04:50.529Z"
   },
   {
    "duration": 13,
    "start_time": "2023-06-28T12:05:12.235Z"
   },
   {
    "duration": 10,
    "start_time": "2023-06-28T12:05:12.732Z"
   },
   {
    "duration": 714,
    "start_time": "2023-06-28T12:05:13.095Z"
   },
   {
    "duration": 3999,
    "start_time": "2023-06-28T12:05:13.819Z"
   },
   {
    "duration": 90681,
    "start_time": "2023-06-28T12:05:17.900Z"
   },
   {
    "duration": 939,
    "start_time": "2023-06-28T12:06:53.101Z"
   },
   {
    "duration": 13,
    "start_time": "2023-06-28T12:07:18.674Z"
   },
   {
    "duration": 59,
    "start_time": "2023-06-28T12:07:32.548Z"
   },
   {
    "duration": 15,
    "start_time": "2023-06-28T12:08:43.209Z"
   },
   {
    "duration": 6,
    "start_time": "2023-06-28T12:08:43.801Z"
   },
   {
    "duration": 434,
    "start_time": "2023-06-28T12:08:44.015Z"
   },
   {
    "duration": 3866,
    "start_time": "2023-06-28T12:08:45.705Z"
   },
   {
    "duration": 50,
    "start_time": "2023-06-28T12:08:52.922Z"
   },
   {
    "duration": 14,
    "start_time": "2023-06-28T12:09:02.230Z"
   },
   {
    "duration": 6,
    "start_time": "2023-06-28T12:09:02.787Z"
   },
   {
    "duration": 305,
    "start_time": "2023-06-28T12:09:03.421Z"
   },
   {
    "duration": 3791,
    "start_time": "2023-06-28T12:09:06.326Z"
   },
   {
    "duration": 53,
    "start_time": "2023-06-28T12:09:14.591Z"
   },
   {
    "duration": 21,
    "start_time": "2023-06-28T12:10:00.996Z"
   },
   {
    "duration": 7,
    "start_time": "2023-06-28T12:10:01.398Z"
   },
   {
    "duration": 686,
    "start_time": "2023-06-28T12:10:02.347Z"
   },
   {
    "duration": 3887,
    "start_time": "2023-06-28T12:10:03.110Z"
   },
   {
    "duration": 57,
    "start_time": "2023-06-28T12:10:10.891Z"
   },
   {
    "duration": 17,
    "start_time": "2023-06-28T12:10:39.595Z"
   },
   {
    "duration": 8,
    "start_time": "2023-06-28T12:10:39.930Z"
   },
   {
    "duration": 713,
    "start_time": "2023-06-28T12:10:40.207Z"
   },
   {
    "duration": 3895,
    "start_time": "2023-06-28T12:10:40.927Z"
   },
   {
    "duration": 55,
    "start_time": "2023-06-28T12:10:48.335Z"
   },
   {
    "duration": 13,
    "start_time": "2023-06-28T12:12:14.054Z"
   },
   {
    "duration": 13,
    "start_time": "2023-06-28T12:12:25.274Z"
   },
   {
    "duration": 15,
    "start_time": "2023-06-28T12:12:27.102Z"
   },
   {
    "duration": 13,
    "start_time": "2023-06-28T12:12:40.226Z"
   },
   {
    "duration": 12,
    "start_time": "2023-06-28T12:12:49.936Z"
   },
   {
    "duration": 9,
    "start_time": "2023-06-28T12:12:50.201Z"
   },
   {
    "duration": 14,
    "start_time": "2023-06-28T12:12:53.752Z"
   },
   {
    "duration": 1708,
    "start_time": "2023-06-28T14:05:04.830Z"
   },
   {
    "duration": 275,
    "start_time": "2023-06-28T14:05:06.542Z"
   },
   {
    "duration": 18,
    "start_time": "2023-06-28T14:05:06.822Z"
   },
   {
    "duration": 35,
    "start_time": "2023-06-28T14:05:06.842Z"
   },
   {
    "duration": 794,
    "start_time": "2023-06-28T14:05:06.879Z"
   },
   {
    "duration": 11,
    "start_time": "2023-06-28T14:05:07.675Z"
   },
   {
    "duration": 44,
    "start_time": "2023-06-28T14:05:07.688Z"
   },
   {
    "duration": 36,
    "start_time": "2023-06-28T14:05:07.734Z"
   },
   {
    "duration": 3,
    "start_time": "2023-06-28T14:05:08.240Z"
   },
   {
    "duration": 272956,
    "start_time": "2023-06-28T14:05:08.877Z"
   },
   {
    "duration": 154,
    "start_time": "2023-06-28T15:11:26.644Z"
   },
   {
    "duration": 19,
    "start_time": "2023-06-28T15:11:44.633Z"
   },
   {
    "duration": 69,
    "start_time": "2023-06-28T15:11:49.540Z"
   },
   {
    "duration": 32,
    "start_time": "2023-06-28T15:12:13.126Z"
   },
   {
    "duration": 1232,
    "start_time": "2023-06-30T18:56:03.519Z"
   },
   {
    "duration": 262,
    "start_time": "2023-06-30T18:56:04.753Z"
   },
   {
    "duration": 15,
    "start_time": "2023-06-30T18:56:05.017Z"
   },
   {
    "duration": 10,
    "start_time": "2023-06-30T18:56:05.035Z"
   },
   {
    "duration": 472,
    "start_time": "2023-06-30T18:56:08.125Z"
   },
   {
    "duration": 17,
    "start_time": "2023-06-30T18:56:08.719Z"
   },
   {
    "duration": 6,
    "start_time": "2023-06-30T18:56:09.077Z"
   },
   {
    "duration": 4,
    "start_time": "2023-06-30T19:05:13.586Z"
   },
   {
    "duration": 3,
    "start_time": "2023-06-30T19:05:13.993Z"
   },
   {
    "duration": 158,
    "start_time": "2023-06-30T19:05:44.227Z"
   },
   {
    "duration": 24,
    "start_time": "2023-06-30T19:06:13.848Z"
   },
   {
    "duration": 29,
    "start_time": "2023-06-30T19:06:34.985Z"
   },
   {
    "duration": 34,
    "start_time": "2023-06-30T19:06:39.374Z"
   },
   {
    "duration": 27,
    "start_time": "2023-06-30T19:06:42.093Z"
   },
   {
    "duration": 53,
    "start_time": "2023-06-30T19:06:55.683Z"
   },
   {
    "duration": 64,
    "start_time": "2023-06-30T19:07:02.087Z"
   },
   {
    "duration": 37,
    "start_time": "2023-06-30T19:07:05.086Z"
   },
   {
    "duration": 27,
    "start_time": "2023-06-30T19:07:08.037Z"
   },
   {
    "duration": 30,
    "start_time": "2023-06-30T19:07:10.488Z"
   },
   {
    "duration": 34,
    "start_time": "2023-06-30T19:07:13.410Z"
   },
   {
    "duration": 36,
    "start_time": "2023-06-30T19:07:16.526Z"
   },
   {
    "duration": 33,
    "start_time": "2023-06-30T19:07:22.732Z"
   },
   {
    "duration": 40,
    "start_time": "2023-06-30T19:07:30.179Z"
   },
   {
    "duration": 39,
    "start_time": "2023-06-30T19:07:32.702Z"
   },
   {
    "duration": 50,
    "start_time": "2023-06-30T19:07:39.398Z"
   },
   {
    "duration": 42,
    "start_time": "2023-06-30T19:07:45.758Z"
   },
   {
    "duration": 43,
    "start_time": "2023-06-30T19:07:52.197Z"
   },
   {
    "duration": 41,
    "start_time": "2023-06-30T19:08:23.757Z"
   },
   {
    "duration": 34,
    "start_time": "2023-06-30T19:08:29.157Z"
   },
   {
    "duration": 49,
    "start_time": "2023-06-30T19:08:32.409Z"
   },
   {
    "duration": 57,
    "start_time": "2023-06-30T19:08:37.007Z"
   },
   {
    "duration": 70,
    "start_time": "2023-06-30T19:08:40.407Z"
   },
   {
    "duration": 55,
    "start_time": "2023-06-30T19:08:53.757Z"
   },
   {
    "duration": 26,
    "start_time": "2023-06-30T19:08:56.777Z"
   },
   {
    "duration": 29,
    "start_time": "2023-06-30T19:09:02.486Z"
   },
   {
    "duration": 25,
    "start_time": "2023-06-30T19:09:06.990Z"
   },
   {
    "duration": 113,
    "start_time": "2023-06-30T19:09:10.308Z"
   },
   {
    "duration": 22,
    "start_time": "2023-06-30T19:09:18.356Z"
   },
   {
    "duration": 197,
    "start_time": "2023-06-30T19:13:43.420Z"
   },
   {
    "duration": 64,
    "start_time": "2023-06-30T19:13:50.952Z"
   },
   {
    "duration": 1673,
    "start_time": "2023-06-30T19:15:17.314Z"
   },
   {
    "duration": 2471,
    "start_time": "2023-06-30T19:15:26.292Z"
   },
   {
    "duration": 7031,
    "start_time": "2023-06-30T19:15:34.321Z"
   },
   {
    "duration": 39,
    "start_time": "2023-06-30T19:26:28.267Z"
   },
   {
    "duration": 18,
    "start_time": "2023-06-30T19:26:50.556Z"
   },
   {
    "duration": 48,
    "start_time": "2023-06-30T19:27:12.096Z"
   },
   {
    "duration": 8,
    "start_time": "2023-06-30T19:27:12.342Z"
   },
   {
    "duration": 7,
    "start_time": "2023-06-30T19:27:12.587Z"
   },
   {
    "duration": 221,
    "start_time": "2023-06-30T19:27:13.287Z"
   },
   {
    "duration": 13,
    "start_time": "2023-06-30T19:27:13.612Z"
   },
   {
    "duration": 6,
    "start_time": "2023-06-30T19:27:13.986Z"
   },
   {
    "duration": 11,
    "start_time": "2023-06-30T19:27:14.436Z"
   },
   {
    "duration": 312,
    "start_time": "2023-06-30T19:27:57.977Z"
   },
   {
    "duration": 278,
    "start_time": "2023-06-30T19:28:15.247Z"
   },
   {
    "duration": 1348,
    "start_time": "2023-06-30T19:29:08.825Z"
   },
   {
    "duration": 16,
    "start_time": "2023-06-30T19:30:42.330Z"
   },
   {
    "duration": 4,
    "start_time": "2023-06-30T19:30:55.255Z"
   },
   {
    "duration": 4,
    "start_time": "2023-06-30T19:30:57.633Z"
   },
   {
    "duration": 366,
    "start_time": "2023-06-30T19:31:01.592Z"
   },
   {
    "duration": 472,
    "start_time": "2023-06-30T19:31:26.322Z"
   },
   {
    "duration": 397,
    "start_time": "2023-06-30T19:31:36.966Z"
   },
   {
    "duration": 596,
    "start_time": "2023-06-30T19:31:43.246Z"
   },
   {
    "duration": 529,
    "start_time": "2023-06-30T19:31:55.250Z"
   },
   {
    "duration": 3376,
    "start_time": "2023-06-30T19:35:14.008Z"
   },
   {
    "duration": 3730,
    "start_time": "2023-06-30T19:35:41.089Z"
   },
   {
    "duration": 314814,
    "start_time": "2023-06-30T19:37:20.438Z"
   },
   {
    "duration": 833320,
    "start_time": "2023-06-30T19:42:59.981Z"
   },
   {
    "duration": 3,
    "start_time": "2023-06-30T19:57:31.025Z"
   },
   {
    "duration": 3,
    "start_time": "2023-06-30T19:57:31.998Z"
   },
   {
    "duration": 2907,
    "start_time": "2023-06-30T19:57:40.292Z"
   },
   {
    "duration": 24,
    "start_time": "2023-06-30T19:57:50.785Z"
   },
   {
    "duration": 21,
    "start_time": "2023-06-30T19:57:56.818Z"
   },
   {
    "duration": 22,
    "start_time": "2023-06-30T19:58:00.618Z"
   },
   {
    "duration": 19,
    "start_time": "2023-06-30T19:58:05.112Z"
   },
   {
    "duration": 19,
    "start_time": "2023-06-30T19:58:12.936Z"
   },
   {
    "duration": 4081,
    "start_time": "2023-06-30T20:01:56.422Z"
   },
   {
    "duration": 20,
    "start_time": "2023-06-30T20:02:04.344Z"
   },
   {
    "duration": 4,
    "start_time": "2023-06-30T20:02:11.877Z"
   },
   {
    "duration": 3,
    "start_time": "2023-06-30T20:02:12.151Z"
   },
   {
    "duration": 4057,
    "start_time": "2023-06-30T20:02:12.357Z"
   },
   {
    "duration": 4098,
    "start_time": "2023-06-30T20:02:27.863Z"
   },
   {
    "duration": 20,
    "start_time": "2023-06-30T20:02:31.963Z"
   },
   {
    "duration": 3642,
    "start_time": "2023-06-30T20:41:08.432Z"
   },
   {
    "duration": 386,
    "start_time": "2023-06-30T20:41:18.088Z"
   },
   {
    "duration": 4,
    "start_time": "2023-06-30T20:41:24.608Z"
   },
   {
    "duration": 69,
    "start_time": "2023-06-30T20:41:24.614Z"
   },
   {
    "duration": 9,
    "start_time": "2023-06-30T20:41:24.684Z"
   },
   {
    "duration": 17,
    "start_time": "2023-06-30T20:41:24.695Z"
   },
   {
    "duration": 241,
    "start_time": "2023-06-30T20:41:24.713Z"
   },
   {
    "duration": 13,
    "start_time": "2023-06-30T20:41:24.956Z"
   },
   {
    "duration": 5,
    "start_time": "2023-06-30T20:41:24.971Z"
   },
   {
    "duration": 662,
    "start_time": "2023-06-30T20:41:24.978Z"
   },
   {
    "duration": 12,
    "start_time": "2023-06-30T20:41:25.642Z"
   },
   {
    "duration": 3,
    "start_time": "2023-06-30T20:41:25.656Z"
   },
   {
    "duration": 279741,
    "start_time": "2023-06-30T20:41:25.660Z"
   },
   {
    "duration": 1802,
    "start_time": "2023-07-01T07:31:48.524Z"
   },
   {
    "duration": 116,
    "start_time": "2023-07-01T07:31:50.728Z"
   },
   {
    "duration": 11,
    "start_time": "2023-07-01T07:31:51.565Z"
   },
   {
    "duration": 9,
    "start_time": "2023-07-01T07:31:51.988Z"
   },
   {
    "duration": 234,
    "start_time": "2023-07-01T07:32:13.563Z"
   },
   {
    "duration": 269,
    "start_time": "2023-07-01T07:32:16.880Z"
   },
   {
    "duration": 10,
    "start_time": "2023-07-01T07:32:24.116Z"
   },
   {
    "duration": 5,
    "start_time": "2023-07-01T07:32:25.055Z"
   },
   {
    "duration": 539,
    "start_time": "2023-07-01T07:33:23.581Z"
   },
   {
    "duration": 415,
    "start_time": "2023-07-01T07:34:22.854Z"
   },
   {
    "duration": 445,
    "start_time": "2023-07-01T07:34:53.240Z"
   },
   {
    "duration": 503,
    "start_time": "2023-07-01T07:35:05.290Z"
   },
   {
    "duration": 515,
    "start_time": "2023-07-01T07:43:25.841Z"
   },
   {
    "duration": 385,
    "start_time": "2023-07-01T07:43:37.655Z"
   },
   {
    "duration": 524,
    "start_time": "2023-07-01T07:44:05.734Z"
   },
   {
    "duration": 530,
    "start_time": "2023-07-01T07:44:15.989Z"
   },
   {
    "duration": 416,
    "start_time": "2023-07-01T07:44:21.096Z"
   },
   {
    "duration": 506,
    "start_time": "2023-07-01T07:44:41.048Z"
   },
   {
    "duration": 505,
    "start_time": "2023-07-01T07:45:11.629Z"
   },
   {
    "duration": 551,
    "start_time": "2023-07-01T07:45:26.475Z"
   },
   {
    "duration": 406,
    "start_time": "2023-07-01T07:45:39.342Z"
   },
   {
    "duration": 650,
    "start_time": "2023-07-01T07:45:49.232Z"
   },
   {
    "duration": 611,
    "start_time": "2023-07-01T07:47:27.441Z"
   },
   {
    "duration": 201,
    "start_time": "2023-07-01T07:49:15.676Z"
   },
   {
    "duration": 270,
    "start_time": "2023-07-01T07:49:22.919Z"
   },
   {
    "duration": 726,
    "start_time": "2023-07-01T07:49:26.956Z"
   },
   {
    "duration": 722,
    "start_time": "2023-07-01T07:49:40.397Z"
   },
   {
    "duration": 836,
    "start_time": "2023-07-01T07:49:49.665Z"
   },
   {
    "duration": 597,
    "start_time": "2023-07-01T07:50:05.004Z"
   },
   {
    "duration": 737,
    "start_time": "2023-07-01T07:50:14.475Z"
   },
   {
    "duration": 693,
    "start_time": "2023-07-01T07:50:26.235Z"
   },
   {
    "duration": 721,
    "start_time": "2023-07-01T07:50:39.154Z"
   },
   {
    "duration": 628,
    "start_time": "2023-07-01T07:51:06.368Z"
   },
   {
    "duration": 727,
    "start_time": "2023-07-01T07:51:15.376Z"
   },
   {
    "duration": 631,
    "start_time": "2023-07-01T07:51:25.013Z"
   },
   {
    "duration": 740,
    "start_time": "2023-07-01T07:52:20.883Z"
   },
   {
    "duration": 658,
    "start_time": "2023-07-01T07:52:31.861Z"
   },
   {
    "duration": 799,
    "start_time": "2023-07-01T07:52:42.857Z"
   },
   {
    "duration": 731,
    "start_time": "2023-07-01T07:52:51.127Z"
   },
   {
    "duration": 4,
    "start_time": "2023-07-01T07:54:00.104Z"
   },
   {
    "duration": 1221,
    "start_time": "2023-07-01T07:54:11.559Z"
   },
   {
    "duration": 7,
    "start_time": "2023-07-01T07:54:32.764Z"
   },
   {
    "duration": 6,
    "start_time": "2023-07-01T07:54:39.911Z"
   },
   {
    "duration": 3,
    "start_time": "2023-07-01T07:56:24.732Z"
   },
   {
    "duration": 782,
    "start_time": "2023-07-01T08:09:24.796Z"
   },
   {
    "duration": 847,
    "start_time": "2023-07-01T08:09:47.821Z"
   },
   {
    "duration": 9,
    "start_time": "2023-07-01T08:12:04.815Z"
   },
   {
    "duration": 43,
    "start_time": "2023-07-01T08:12:14.430Z"
   },
   {
    "duration": 9,
    "start_time": "2023-07-01T08:12:54.056Z"
   },
   {
    "duration": 2,
    "start_time": "2023-07-01T08:12:58.654Z"
   },
   {
    "duration": 1182,
    "start_time": "2023-07-01T08:13:02.492Z"
   },
   {
    "duration": 103,
    "start_time": "2023-07-01T08:13:26.281Z"
   },
   {
    "duration": 9,
    "start_time": "2023-07-01T08:49:27.264Z"
   },
   {
    "duration": 4,
    "start_time": "2023-07-01T08:49:49.514Z"
   },
   {
    "duration": 9,
    "start_time": "2023-07-01T08:49:54.337Z"
   },
   {
    "duration": 881,
    "start_time": "2023-07-01T08:50:08.504Z"
   },
   {
    "duration": 683,
    "start_time": "2023-07-01T08:50:55.899Z"
   },
   {
    "duration": 1135,
    "start_time": "2023-07-01T08:51:00.650Z"
   },
   {
    "duration": 510,
    "start_time": "2023-07-01T08:51:54.054Z"
   },
   {
    "duration": 166402,
    "start_time": "2023-07-01T08:52:53.366Z"
   },
   {
    "duration": 39,
    "start_time": "2023-07-01T08:59:48.449Z"
   },
   {
    "duration": 9,
    "start_time": "2023-07-01T09:00:58.526Z"
   },
   {
    "duration": 5230,
    "start_time": "2023-07-01T09:01:28.404Z"
   },
   {
    "duration": 4,
    "start_time": "2023-07-01T09:02:28.820Z"
   },
   {
    "duration": 4,
    "start_time": "2023-07-01T09:02:39.198Z"
   },
   {
    "duration": 79,
    "start_time": "2023-07-01T09:03:22.707Z"
   },
   {
    "duration": 4,
    "start_time": "2023-07-01T09:03:29.487Z"
   },
   {
    "duration": 2588,
    "start_time": "2023-07-01T09:03:55.004Z"
   },
   {
    "duration": 134,
    "start_time": "2023-07-01T09:06:02.647Z"
   },
   {
    "duration": 2318,
    "start_time": "2023-07-01T09:06:04.168Z"
   },
   {
    "duration": 1695,
    "start_time": "2023-07-01T09:06:22.758Z"
   },
   {
    "duration": 507616,
    "start_time": "2023-07-01T09:06:36.076Z"
   },
   {
    "duration": 7970,
    "start_time": "2023-07-01T09:15:37.974Z"
   },
   {
    "duration": 384,
    "start_time": "2023-07-01T09:15:59.890Z"
   },
   {
    "duration": 4,
    "start_time": "2023-07-01T10:39:37.885Z"
   },
   {
    "duration": 105,
    "start_time": "2023-07-01T10:39:39.505Z"
   },
   {
    "duration": 8,
    "start_time": "2023-07-01T10:39:41.029Z"
   },
   {
    "duration": 8,
    "start_time": "2023-07-01T10:39:41.441Z"
   },
   {
    "duration": 8,
    "start_time": "2023-07-01T10:40:00.492Z"
   },
   {
    "duration": 308,
    "start_time": "2023-07-01T10:40:05.893Z"
   },
   {
    "duration": 15,
    "start_time": "2023-07-01T10:40:09.458Z"
   },
   {
    "duration": 8,
    "start_time": "2023-07-01T10:40:09.677Z"
   },
   {
    "duration": 29,
    "start_time": "2023-07-01T10:41:20.473Z"
   },
   {
    "duration": 13,
    "start_time": "2023-07-01T10:41:45.485Z"
   },
   {
    "duration": 191,
    "start_time": "2023-07-01T10:42:25.946Z"
   },
   {
    "duration": 216,
    "start_time": "2023-07-01T10:42:29.924Z"
   },
   {
    "duration": 10,
    "start_time": "2023-07-01T10:43:14.388Z"
   },
   {
    "duration": 10,
    "start_time": "2023-07-01T10:47:02.696Z"
   },
   {
    "duration": 230,
    "start_time": "2023-07-01T10:47:06.514Z"
   },
   {
    "duration": 11,
    "start_time": "2023-07-01T10:47:09.712Z"
   },
   {
    "duration": 251,
    "start_time": "2023-07-01T10:47:23.730Z"
   },
   {
    "duration": 146,
    "start_time": "2023-07-01T10:47:30.222Z"
   },
   {
    "duration": 261,
    "start_time": "2023-07-01T10:47:42.058Z"
   },
   {
    "duration": 510,
    "start_time": "2023-07-01T10:48:29.892Z"
   },
   {
    "duration": 641,
    "start_time": "2023-07-01T10:48:46.072Z"
   },
   {
    "duration": 536,
    "start_time": "2023-07-01T10:48:54.792Z"
   },
   {
    "duration": 628,
    "start_time": "2023-07-01T10:49:11.100Z"
   },
   {
    "duration": 527,
    "start_time": "2023-07-01T10:49:17.267Z"
   },
   {
    "duration": 562,
    "start_time": "2023-07-01T10:49:22.308Z"
   },
   {
    "duration": 203,
    "start_time": "2023-07-01T10:49:39.095Z"
   },
   {
    "duration": 218,
    "start_time": "2023-07-01T10:49:50.826Z"
   },
   {
    "duration": 137,
    "start_time": "2023-07-01T10:50:03.851Z"
   },
   {
    "duration": 3,
    "start_time": "2023-07-01T10:55:27.903Z"
   },
   {
    "duration": 108,
    "start_time": "2023-07-01T10:55:28.983Z"
   },
   {
    "duration": 6,
    "start_time": "2023-07-01T10:55:29.434Z"
   },
   {
    "duration": 6,
    "start_time": "2023-07-01T10:55:29.682Z"
   },
   {
    "duration": 6,
    "start_time": "2023-07-01T10:55:29.928Z"
   },
   {
    "duration": 293,
    "start_time": "2023-07-01T10:55:30.446Z"
   },
   {
    "duration": 11,
    "start_time": "2023-07-01T10:55:31.148Z"
   },
   {
    "duration": 5,
    "start_time": "2023-07-01T10:55:31.764Z"
   },
   {
    "duration": 500,
    "start_time": "2023-07-01T10:55:32.204Z"
   },
   {
    "duration": 125,
    "start_time": "2023-07-01T10:55:33.460Z"
   },
   {
    "duration": 4,
    "start_time": "2023-07-01T10:55:37.831Z"
   },
   {
    "duration": 2,
    "start_time": "2023-07-01T10:55:39.695Z"
   },
   {
    "duration": 114,
    "start_time": "2023-07-01T10:55:40.151Z"
   },
   {
    "duration": 2165,
    "start_time": "2023-07-01T10:55:41.710Z"
   },
   {
    "duration": 292,
    "start_time": "2023-07-01T10:56:05.359Z"
   },
   {
    "duration": 1532,
    "start_time": "2023-07-01T10:56:12.144Z"
   },
   {
    "duration": 496405,
    "start_time": "2023-07-01T10:56:23.860Z"
   },
   {
    "duration": 7935,
    "start_time": "2023-07-01T11:05:32.172Z"
   },
   {
    "duration": 187,
    "start_time": "2023-07-01T11:05:53.591Z"
   },
   {
    "duration": 28,
    "start_time": "2023-07-01T11:07:21.633Z"
   },
   {
    "duration": 512518,
    "start_time": "2023-07-01T11:07:30.799Z"
   },
   {
    "duration": 5303,
    "start_time": "2023-07-01T11:16:13.253Z"
   },
   {
    "duration": 1024,
    "start_time": "2023-07-01T11:16:36.968Z"
   },
   {
    "duration": 382,
    "start_time": "2023-07-01T11:17:36.092Z"
   },
   {
    "duration": 3,
    "start_time": "2023-07-01T11:18:07.269Z"
   },
   {
    "duration": 42,
    "start_time": "2023-07-01T11:18:08.346Z"
   },
   {
    "duration": 6,
    "start_time": "2023-07-01T11:18:09.352Z"
   },
   {
    "duration": 7,
    "start_time": "2023-07-01T11:18:09.617Z"
   },
   {
    "duration": 6,
    "start_time": "2023-07-01T11:18:10.036Z"
   },
   {
    "duration": 264,
    "start_time": "2023-07-01T11:18:10.514Z"
   },
   {
    "duration": 11,
    "start_time": "2023-07-01T11:18:11.274Z"
   },
   {
    "duration": 6,
    "start_time": "2023-07-01T11:18:11.774Z"
   },
   {
    "duration": 501,
    "start_time": "2023-07-01T11:18:12.218Z"
   },
   {
    "duration": 119,
    "start_time": "2023-07-01T11:18:12.988Z"
   },
   {
    "duration": 5,
    "start_time": "2023-07-01T11:18:16.106Z"
   },
   {
    "duration": 3,
    "start_time": "2023-07-01T11:18:17.997Z"
   },
   {
    "duration": 41,
    "start_time": "2023-07-01T11:18:18.841Z"
   },
   {
    "duration": 1197,
    "start_time": "2023-07-01T11:18:20.977Z"
   },
   {
    "duration": 203,
    "start_time": "2023-07-01T11:18:30.876Z"
   },
   {
    "duration": 168741,
    "start_time": "2023-07-01T11:18:51.621Z"
   },
   {
    "duration": 2634,
    "start_time": "2023-07-01T11:24:27.903Z"
   },
   {
    "duration": 3,
    "start_time": "2023-07-01T11:25:58.209Z"
   },
   {
    "duration": 49,
    "start_time": "2023-07-01T11:25:59.043Z"
   },
   {
    "duration": 6,
    "start_time": "2023-07-01T11:25:59.607Z"
   },
   {
    "duration": 10,
    "start_time": "2023-07-01T11:25:59.880Z"
   },
   {
    "duration": 5,
    "start_time": "2023-07-01T11:26:00.115Z"
   },
   {
    "duration": 201,
    "start_time": "2023-07-01T11:26:00.632Z"
   },
   {
    "duration": 16,
    "start_time": "2023-07-01T11:26:01.174Z"
   },
   {
    "duration": 6,
    "start_time": "2023-07-01T11:26:01.418Z"
   },
   {
    "duration": 640,
    "start_time": "2023-07-01T11:26:01.674Z"
   },
   {
    "duration": 135,
    "start_time": "2023-07-01T11:26:02.316Z"
   },
   {
    "duration": 3,
    "start_time": "2023-07-01T11:26:04.345Z"
   },
   {
    "duration": 3,
    "start_time": "2023-07-01T11:26:05.472Z"
   },
   {
    "duration": 113,
    "start_time": "2023-07-01T11:26:05.626Z"
   },
   {
    "duration": 2490,
    "start_time": "2023-07-01T11:26:05.893Z"
   },
   {
    "duration": 405,
    "start_time": "2023-07-01T11:26:08.385Z"
   },
   {
    "duration": 1654,
    "start_time": "2023-07-01T11:26:08.793Z"
   },
   {
    "duration": 502879,
    "start_time": "2023-07-01T11:26:10.449Z"
   },
   {
    "duration": 4973,
    "start_time": "2023-07-01T11:34:33.330Z"
   },
   {
    "duration": 471,
    "start_time": "2023-07-01T11:34:38.305Z"
   }
  ],
  "kernelspec": {
   "display_name": "Python 3 (ipykernel)",
   "language": "python",
   "name": "python3"
  },
  "language_info": {
   "codemirror_mode": {
    "name": "ipython",
    "version": 3
   },
   "file_extension": ".py",
   "mimetype": "text/x-python",
   "name": "python",
   "nbconvert_exporter": "python",
   "pygments_lexer": "ipython3",
   "version": "3.9.13"
  },
  "toc": {
   "base_numbering": 1,
   "nav_menu": {},
   "number_sections": true,
   "sideBar": true,
   "skip_h1_title": true,
   "title_cell": "Содержание",
   "title_sidebar": "Contents",
   "toc_cell": true,
   "toc_position": {},
   "toc_section_display": true,
   "toc_window_display": false
  }
 },
 "nbformat": 4,
 "nbformat_minor": 2
}
