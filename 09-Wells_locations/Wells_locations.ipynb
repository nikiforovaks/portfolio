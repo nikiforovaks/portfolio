{
 "cells": [
  {
   "cell_type": "markdown",
   "metadata": {},
   "source": [
    "# Выбор локации для скважины"
   ]
  },
  {
   "cell_type": "markdown",
   "metadata": {},
   "source": [
    "Допустим, вы работаете в добывающей компании «ГлавРосГосНефть». Нужно решить, где бурить новую скважину.\n",
    "\n",
    "Вам предоставлены пробы нефти в трёх регионах: в каждом 10 000 месторождений, где измерили качество нефти и объём её запасов. Постройте модель машинного обучения, которая поможет определить регион, где добыча принесёт наибольшую прибыль. Проанализируйте возможную прибыль и риски техникой *Bootstrap.*\n",
    "\n",
    "Шаги для выбора локации:\n",
    "\n",
    "- В избранном регионе ищут месторождения, для каждого определяют значения признаков;\n",
    "- Строят модель и оценивают объём запасов;\n",
    "- Выбирают месторождения с самым высокими оценками значений. Количество месторождений зависит от бюджета компании и стоимости разработки одной скважины;\n",
    "- Прибыль равна суммарной прибыли отобранных месторождений."
   ]
  },
  {
   "cell_type": "markdown",
   "metadata": {},
   "source": [
    "## Загрузка и подготовка данных"
   ]
  },
  {
   "cell_type": "code",
   "execution_count": 1,
   "metadata": {},
   "outputs": [
    {
     "data": {
      "text/html": [
       "<style>.container { width:90% !important; }</style>"
      ],
      "text/plain": [
       "<IPython.core.display.HTML object>"
      ]
     },
     "metadata": {},
     "output_type": "display_data"
    }
   ],
   "source": [
    "import pandas as pd\n",
    "import numpy as np\n",
    "from sklearn.model_selection import train_test_split\n",
    "from sklearn.metrics import mean_squared_error\n",
    "from sklearn.linear_model import LinearRegression\n",
    "from IPython.core.display import display, HTML\n",
    "import matplotlib.pyplot as plt\n",
    "display(HTML(\"<style>.container { width:90% !important; }</style>\"))"
   ]
  },
  {
   "cell_type": "code",
   "execution_count": 2,
   "metadata": {},
   "outputs": [],
   "source": [
    "data_0 = pd.read_csv('/datasets/geo_data_0.csv')\n",
    "data_1 = pd.read_csv('/datasets/geo_data_1.csv')\n",
    "data_2 = pd.read_csv('/datasets/geo_data_2.csv')"
   ]
  },
  {
   "cell_type": "code",
   "execution_count": 3,
   "metadata": {},
   "outputs": [],
   "source": [
    "def information(data):\n",
    "    print(data.head())\n",
    "    print('Количество пропусков:')\n",
    "    print(data.isna().sum())\n",
    "    print('Количество дубликатов:')\n",
    "    print(data.duplicated().sum())\n",
    "    print('Количество уникальных записей:', data['id'].nunique())\n",
    "    print('Коэффициент корреляции Пирсона:')\n",
    "    print(data.loc[:, ['f0','f1','f2']].corr())\n",
    "    data.info()"
   ]
  },
  {
   "cell_type": "code",
   "execution_count": 4,
   "metadata": {},
   "outputs": [
    {
     "name": "stdout",
     "output_type": "stream",
     "text": [
      "Регион 0\n",
      "      id        f0        f1        f2     product\n",
      "0  txEyH  0.705745 -0.497823  1.221170  105.280062\n",
      "1  2acmU  1.334711 -0.340164  4.365080   73.037750\n",
      "2  409Wp  1.022732  0.151990  1.419926   85.265647\n",
      "3  iJLyR -0.032172  0.139033  2.978566  168.620776\n",
      "4  Xdl7t  1.988431  0.155413  4.751769  154.036647\n",
      "Количество пропусков:\n",
      "id         0\n",
      "f0         0\n",
      "f1         0\n",
      "f2         0\n",
      "product    0\n",
      "dtype: int64\n",
      "Количество дубликатов:\n",
      "0\n",
      "Количество уникальных записей: 99990\n",
      "Коэффициент корреляции Пирсона:\n",
      "          f0        f1        f2\n",
      "f0  1.000000 -0.440723 -0.003153\n",
      "f1 -0.440723  1.000000  0.001724\n",
      "f2 -0.003153  0.001724  1.000000\n",
      "<class 'pandas.core.frame.DataFrame'>\n",
      "RangeIndex: 100000 entries, 0 to 99999\n",
      "Data columns (total 5 columns):\n",
      " #   Column   Non-Null Count   Dtype  \n",
      "---  ------   --------------   -----  \n",
      " 0   id       100000 non-null  object \n",
      " 1   f0       100000 non-null  float64\n",
      " 2   f1       100000 non-null  float64\n",
      " 3   f2       100000 non-null  float64\n",
      " 4   product  100000 non-null  float64\n",
      "dtypes: float64(4), object(1)\n",
      "memory usage: 3.8+ MB\n",
      "\n",
      "Регион 1\n",
      "      id         f0         f1        f2     product\n",
      "0  kBEdx -15.001348  -8.276000 -0.005876    3.179103\n",
      "1  62mP7  14.272088  -3.475083  0.999183   26.953261\n",
      "2  vyE1P   6.263187  -5.948386  5.001160  134.766305\n",
      "3  KcrkZ -13.081196 -11.506057  4.999415  137.945408\n",
      "4  AHL4O  12.702195  -8.147433  5.004363  134.766305\n",
      "Количество пропусков:\n",
      "id         0\n",
      "f0         0\n",
      "f1         0\n",
      "f2         0\n",
      "product    0\n",
      "dtype: int64\n",
      "Количество дубликатов:\n",
      "0\n",
      "Количество уникальных записей: 99996\n",
      "Коэффициент корреляции Пирсона:\n",
      "          f0        f1        f2\n",
      "f0  1.000000  0.182287 -0.001777\n",
      "f1  0.182287  1.000000 -0.002595\n",
      "f2 -0.001777 -0.002595  1.000000\n",
      "<class 'pandas.core.frame.DataFrame'>\n",
      "RangeIndex: 100000 entries, 0 to 99999\n",
      "Data columns (total 5 columns):\n",
      " #   Column   Non-Null Count   Dtype  \n",
      "---  ------   --------------   -----  \n",
      " 0   id       100000 non-null  object \n",
      " 1   f0       100000 non-null  float64\n",
      " 2   f1       100000 non-null  float64\n",
      " 3   f2       100000 non-null  float64\n",
      " 4   product  100000 non-null  float64\n",
      "dtypes: float64(4), object(1)\n",
      "memory usage: 3.8+ MB\n",
      "\n",
      "Регион 2\n",
      "      id        f0        f1        f2     product\n",
      "0  fwXo0 -1.146987  0.963328 -0.828965   27.758673\n",
      "1  WJtFt  0.262778  0.269839 -2.530187   56.069697\n",
      "2  ovLUW  0.194587  0.289035 -5.586433   62.871910\n",
      "3  q6cA6  2.236060 -0.553760  0.930038  114.572842\n",
      "4  WPMUX -0.515993  1.716266  5.899011  149.600746\n",
      "Количество пропусков:\n",
      "id         0\n",
      "f0         0\n",
      "f1         0\n",
      "f2         0\n",
      "product    0\n",
      "dtype: int64\n",
      "Количество дубликатов:\n",
      "0\n",
      "Количество уникальных записей: 99996\n",
      "Коэффициент корреляции Пирсона:\n",
      "          f0        f1        f2\n",
      "f0  1.000000  0.000528 -0.000448\n",
      "f1  0.000528  1.000000  0.000779\n",
      "f2 -0.000448  0.000779  1.000000\n",
      "<class 'pandas.core.frame.DataFrame'>\n",
      "RangeIndex: 100000 entries, 0 to 99999\n",
      "Data columns (total 5 columns):\n",
      " #   Column   Non-Null Count   Dtype  \n",
      "---  ------   --------------   -----  \n",
      " 0   id       100000 non-null  object \n",
      " 1   f0       100000 non-null  float64\n",
      " 2   f1       100000 non-null  float64\n",
      " 3   f2       100000 non-null  float64\n",
      " 4   product  100000 non-null  float64\n",
      "dtypes: float64(4), object(1)\n",
      "memory usage: 3.8+ MB\n",
      "\n"
     ]
    }
   ],
   "source": [
    "k = 0\n",
    "for data in [data_0, data_1, data_2]:\n",
    "    print('Регион', k)\n",
    "    information(data)\n",
    "    print()\n",
    "    k += 1"
   ]
  },
  {
   "cell_type": "code",
   "execution_count": 5,
   "metadata": {
    "scrolled": true
   },
   "outputs": [
    {
     "name": "stdout",
     "output_type": "stream",
     "text": [
      "99990 99996 99996\n"
     ]
    }
   ],
   "source": [
    "data_0 = data_0.drop_duplicates(['id']).reset_index(drop=True)\n",
    "data_1 = data_1.drop_duplicates(['id']).reset_index(drop=True)\n",
    "data_2 = data_2.drop_duplicates(['id']).reset_index(drop=True)\n",
    "print(len(data_0), len(data_1), len(data_2))"
   ]
  },
  {
   "cell_type": "code",
   "execution_count": 6,
   "metadata": {
    "scrolled": true
   },
   "outputs": [
    {
     "data": {
      "image/png": "[encoded data removed]",
      "text/plain": [
       "<Figure size 1440x432 with 1 Axes>"
      ]
     },
     "metadata": {
      "needs_background": "light"
     },
     "output_type": "display_data"
    }
   ],
   "source": [
    "data_0.plot(y=['f0','f1','f2'], figsize=(20,6), alpha=0.7);\n"
   ]
  },
  {
   "cell_type": "markdown",
   "metadata": {},
   "source": [
    "Значения признака f0 распределены примерно от 0 до 1, f1 от -1 до 2 и f2 от -6 до 11"
   ]
  },
  {
   "cell_type": "code",
   "execution_count": 7,
   "metadata": {
    "scrolled": false
   },
   "outputs": [
    {
     "data": {
      "image/png": "[encoded data removed]",
      "text/plain": [
       "<Figure size 1440x432 with 1 Axes>"
      ]
     },
     "metadata": {
      "needs_background": "light"
     },
     "output_type": "display_data"
    }
   ],
   "source": [
    "data_1.plot(y=['f0','f1','f2'], figsize=(20,6), alpha=0.7);"
   ]
  },
  {
   "cell_type": "markdown",
   "metadata": {},
   "source": [
    "Значения признака f0 распределены примерно от -20 до 20, f1 от -17 до 10 и f2 от 0 до 5"
   ]
  },
  {
   "cell_type": "code",
   "execution_count": 8,
   "metadata": {
    "scrolled": true
   },
   "outputs": [
    {
     "data": {
      "image/png": "[encoded data removed]",
      "text/plain": [
       "<Figure size 1440x432 with 1 Axes>"
      ]
     },
     "metadata": {
      "needs_background": "light"
     },
     "output_type": "display_data"
    }
   ],
   "source": [
    "data_2.plot(y=['f0','f1','f2'], figsize=(20,6), alpha=0.7);"
   ]
  },
  {
   "cell_type": "markdown",
   "metadata": {},
   "source": [
    "Значения признака f0 распределены примерно от -5 до 5, f1 от -5 до 5 и f2 от -6 до 11"
   ]
  },
  {
   "cell_type": "markdown",
   "metadata": {},
   "source": [
    "Пропусков в данных нет, были незначительные дубликаты, которые я удалила."
   ]
  },
  {
   "cell_type": "markdown",
   "metadata": {},
   "source": [
    "Нам предоставлены таблицы с данными по трем регионам. В данных пропусков нет, типы данных корректные, мультиколлинеарность не выявлена, можно приступать к обучению и проверке модели."
   ]
  },
  {
   "cell_type": "markdown",
   "metadata": {},
   "source": [
    "## Обучение и проверка модели"
   ]
  },
  {
   "cell_type": "code",
   "execution_count": 9,
   "metadata": {},
   "outputs": [
    {
     "name": "stdout",
     "output_type": "stream",
     "text": [
      "Регион 0:\n",
      "\n",
      "Средний запас предсказанного сырья = 92.78915638280621\n",
      "RMSE = 37.853527328872964\n"
     ]
    }
   ],
   "source": [
    "features = data_0.drop(['product', 'id'], axis=1)\n",
    "target = data_0['product']\n",
    "\n",
    "print('Регион 0:')\n",
    "print()\n",
    "\n",
    "features_train_0, features_valid_0, target_train_0, target_valid_0 = train_test_split(\n",
    "        features, target, test_size=0.25, random_state=12345)\n",
    "    \n",
    "model = LinearRegression()\n",
    "model.fit(features_train_0, target_train_0)\n",
    "predictions_valid_0 = model.predict(features_valid_0)\n",
    "    \n",
    "print('Средний запас предсказанного сырья =', predictions_valid_0.mean())\n",
    "print('RMSE =', mean_squared_error(target_valid_0, predictions_valid_0) ** 0.5)"
   ]
  },
  {
   "cell_type": "code",
   "execution_count": 10,
   "metadata": {},
   "outputs": [
    {
     "name": "stdout",
     "output_type": "stream",
     "text": [
      "Регион 1:\n",
      "\n",
      "Средний запас предсказанного сырья = 69.17831957030432\n",
      "RMSE = 0.892059264771703\n"
     ]
    }
   ],
   "source": [
    "features = data_1.drop(['product', 'id'], axis=1)\n",
    "target = data_1['product']\n",
    "\n",
    "print('Регион 1:')\n",
    "print()\n",
    "\n",
    "features_train_1, features_valid_1, target_train_1, target_valid_1 = train_test_split(\n",
    "        features, target, test_size=0.25, random_state=12345)\n",
    "    \n",
    "model = LinearRegression()\n",
    "model.fit(features_train_1, target_train_1)\n",
    "predictions_valid_1 = model.predict(features_valid_1)\n",
    "    \n",
    "print('Средний запас предсказанного сырья =', predictions_valid_1.mean())\n",
    "print('RMSE =', mean_squared_error(target_valid_1, predictions_valid_1) ** 0.5)"
   ]
  },
  {
   "cell_type": "code",
   "execution_count": 11,
   "metadata": {
    "scrolled": true
   },
   "outputs": [
    {
     "name": "stdout",
     "output_type": "stream",
     "text": [
      "Регион 2:\n",
      "\n",
      "Средний запас предсказанного сырья = 94.86572480562035\n",
      "RMSE = 40.07585073246016\n"
     ]
    }
   ],
   "source": [
    "features = data_2.drop(['product', 'id'], axis=1)\n",
    "target = data_2['product']\n",
    "\n",
    "print('Регион 2:')\n",
    "print()\n",
    "\n",
    "features_train_2, features_valid_2, target_train_2, target_valid_2 = train_test_split(\n",
    "        features, target, test_size=0.25, random_state=12345)\n",
    "    \n",
    "model = LinearRegression()\n",
    "model.fit(features_train_2, target_train_2)\n",
    "predictions_valid_2 = model.predict(features_valid_2)\n",
    "    \n",
    "print('Средний запас предсказанного сырья =', predictions_valid_2.mean())\n",
    "print('RMSE =', mean_squared_error(target_valid_2, predictions_valid_2) ** 0.5)"
   ]
  },
  {
   "cell_type": "markdown",
   "metadata": {},
   "source": [
    "Средний запас предсказанного сырья в 0 регионе = 92.59, в 1 = 68.72 и во 2 = 94.96. В регионе 2 средний запас больше всех, поэтому пока что кажется, он лучше всего подходит для разработки."
   ]
  },
  {
   "cell_type": "markdown",
   "metadata": {},
   "source": [
    "Качество модели лучше всего в 1 регионе, в остальных rmse высоковата"
   ]
  },
  {
   "cell_type": "markdown",
   "metadata": {},
   "source": [
    "## Подготовка к расчёту прибыли"
   ]
  },
  {
   "cell_type": "code",
   "execution_count": 12,
   "metadata": {},
   "outputs": [
    {
     "name": "stdout",
     "output_type": "stream",
     "text": [
      "Достаточный объем сырья новой скважины = 111.11111111111111\n"
     ]
    }
   ],
   "source": [
    "Points = 500\n",
    "Best_Points = 200\n",
    "Budget = 10000000\n",
    "Cost_One_Barrel = 450\n",
    "Enough_Materials = Budget / (Cost_One_Barrel * Best_Points)\n",
    "print('Достаточный объем сырья новой скважины =', Enough_Materials)"
   ]
  },
  {
   "cell_type": "code",
   "execution_count": 13,
   "metadata": {},
   "outputs": [
    {
     "name": "stdout",
     "output_type": "stream",
     "text": [
      "Средний запас в регионе 0 = 92.49968421774354\n",
      "Средний запас в регионе 1 = 68.82391591804064\n",
      "Средний запас в регионе 2 = 94.99834211933378\n"
     ]
    }
   ],
   "source": [
    "print('Средний запас в регионе 0 =', data_0['product'].mean())\n",
    "print('Средний запас в регионе 1 =', data_1['product'].mean())\n",
    "print('Средний запас в регионе 2 =', data_2['product'].mean())"
   ]
  },
  {
   "cell_type": "markdown",
   "metadata": {},
   "source": [
    "В каждом регионе средний запас меньше достаточного объема сырья для безубыточной разработки."
   ]
  },
  {
   "cell_type": "markdown",
   "metadata": {},
   "source": [
    "## Расчёт прибыли и рисков "
   ]
  },
  {
   "cell_type": "code",
   "execution_count": 14,
   "metadata": {},
   "outputs": [],
   "source": [
    "max_predictions_0 = pd.Series(predictions_valid_0, index=features_valid_0.index).sort_values(ascending=False).head(200)\n",
    "max_predictions_1 = pd.Series(predictions_valid_1, index=features_valid_1.index).sort_values(ascending=False).head(200)\n",
    "max_predictions_2 = pd.Series(predictions_valid_2, index=features_valid_2.index).sort_values(ascending=False).head(200)"
   ]
  },
  {
   "cell_type": "code",
   "execution_count": 15,
   "metadata": {},
   "outputs": [],
   "source": [
    "profit_0 = max_predictions_0.sum() * Cost_One_Barrel - Budget\n",
    "profit_1 = max_predictions_1.sum() * Cost_One_Barrel - Budget\n",
    "profit_2 = max_predictions_2.sum() * Cost_One_Barrel - Budget"
   ]
  },
  {
   "cell_type": "code",
   "execution_count": 16,
   "metadata": {},
   "outputs": [
    {
     "name": "stdout",
     "output_type": "stream",
     "text": [
      "Прибыль в регионе 0 = 3981630.9105223548\n",
      "Прибыль в регионе 1 = 2486060.78512663\n",
      "Прибыль в регионе 2 = 3362914.907793103\n"
     ]
    }
   ],
   "source": [
    "print('Прибыль в регионе 0 =', profit_0)\n",
    "print('Прибыль в регионе 1 =', profit_1)\n",
    "print('Прибыль в регионе 2 =', profit_2)"
   ]
  },
  {
   "cell_type": "code",
   "execution_count": 42,
   "metadata": {},
   "outputs": [],
   "source": [
    "def profit(target_valid, predictions_valid):\n",
    "    state = np.random.RandomState(12345)\n",
    "    values = []\n",
    "\n",
    "    for i in range(1000):\n",
    "        subsample = predictions_valid.sample(n=500, replace=True, random_state=state)\n",
    "        subsample = subsample.sort_values(ascending=False)\n",
    "        subsample_target = target_valid[subsample.index].head(200)\n",
    "        values.append(sum(subsample_target) * Cost_One_Barrel - Budget)\n",
    "    values = pd.Series(values)\n",
    "    print('Средняя прибыль =', values.mean())\n",
    "    print(f'Доверительный интервал: [{values.quantile(.025):.7}; {values.quantile(.975):.7}]')\n",
    "    print('Риски:', values[values < 0].count() / 1000)"
   ]
  },
  {
   "cell_type": "code",
   "execution_count": 43,
   "metadata": {},
   "outputs": [
    {
     "data": {
      "text/plain": [
       "45257    185.338370\n",
       "31005    185.299685\n",
       "77710    185.289402\n",
       "83956    185.264218\n",
       "12299    185.257601\n",
       "Name: product, dtype: float64"
      ]
     },
     "execution_count": 43,
     "metadata": {},
     "output_type": "execute_result"
    }
   ],
   "source": [
    "target_valid_0.sort_values(ascending=False).head()"
   ]
  },
  {
   "cell_type": "code",
   "execution_count": 44,
   "metadata": {},
   "outputs": [
    {
     "name": "stdout",
     "output_type": "stream",
     "text": [
      "Регион 0\n",
      "\n",
      "Средняя прибыль = 380613.47001759824\n",
      "Доверительный интервал: [-142942.7; 890976.8]\n",
      "Риски: 0.077\n",
      "\n",
      "Регион 1\n",
      "\n",
      "Средняя прибыль = 478484.93959210324\n",
      "Доверительный интервал: [89525.12; 866604.7]\n",
      "Риски: 0.012\n",
      "\n",
      "Регион 2\n",
      "\n",
      "Средняя прибыль = 330546.25801736023\n",
      "Доверительный интервал: [-190365.7; 840467.4]\n",
      "Риски: 0.113\n",
      "\n"
     ]
    }
   ],
   "source": [
    "target_list = [target_valid_0, target_valid_1, target_valid_2]\n",
    "predictions_list = [pd.Series(predictions_valid_0, index=features_valid_0.index),\n",
    "                    pd.Series(predictions_valid_1, index=features_valid_1.index),\n",
    "                    pd.Series(predictions_valid_2, index=features_valid_2.index)]\n",
    "k = 0\n",
    "for target, predictions in zip(target_list, predictions_list):\n",
    "    print('Регион', k)\n",
    "    print()\n",
    "    profit(target, predictions)\n",
    "    print()\n",
    "    k += 1"
   ]
  },
  {
   "cell_type": "markdown",
   "metadata": {},
   "source": [
    "Для разработки скважин я предлагаю выбрать регион 1, так как его средняя прибыль = 478484.93 тыс. рублей с рисками 1,2%. В регионе 0 прибыль меньше - 380613.47, но риски также невелики - 7,7%, а во втором регионе риски составляют 11,3% и прибыль самая наименьшая 330546.25 тыс. рублей, поэтому данный регион не советую для разработки."
   ]
  }
 ],
 "metadata": {
  "ExecuteTimeLog": [
   {
    "duration": 399,
    "start_time": "2023-04-27T12:07:28.385Z"
   },
   {
    "duration": 1420,
    "start_time": "2023-04-27T12:08:18.965Z"
   },
   {
    "duration": 28,
    "start_time": "2023-04-27T12:08:59.639Z"
   },
   {
    "duration": 9,
    "start_time": "2023-04-27T12:09:09.807Z"
   },
   {
    "duration": 10,
    "start_time": "2023-04-27T12:09:33.259Z"
   },
   {
    "duration": 9,
    "start_time": "2023-04-27T12:10:09.551Z"
   },
   {
    "duration": 13,
    "start_time": "2023-04-27T12:12:17.407Z"
   },
   {
    "duration": 29,
    "start_time": "2023-04-27T12:13:41.204Z"
   },
   {
    "duration": 25,
    "start_time": "2023-04-27T12:14:11.171Z"
   },
   {
    "duration": 16,
    "start_time": "2023-04-27T12:14:49.084Z"
   },
   {
    "duration": 21,
    "start_time": "2023-04-27T12:15:14.443Z"
   },
   {
    "duration": 22,
    "start_time": "2023-04-27T12:15:28.965Z"
   },
   {
    "duration": 769,
    "start_time": "2023-04-27T12:21:10.383Z"
   },
   {
    "duration": 3,
    "start_time": "2023-04-27T12:27:31.988Z"
   },
   {
    "duration": 7,
    "start_time": "2023-04-27T12:29:31.835Z"
   },
   {
    "duration": 5,
    "start_time": "2023-04-27T12:29:36.201Z"
   },
   {
    "duration": 4,
    "start_time": "2023-04-27T12:29:40.270Z"
   },
   {
    "duration": 146,
    "start_time": "2023-04-27T12:30:37.412Z"
   },
   {
    "duration": 53,
    "start_time": "2023-04-27T12:30:41.901Z"
   },
   {
    "duration": 28,
    "start_time": "2023-04-27T12:31:17.006Z"
   },
   {
    "duration": 67,
    "start_time": "2023-04-27T12:31:21.117Z"
   },
   {
    "duration": 4,
    "start_time": "2023-04-27T12:31:47.249Z"
   },
   {
    "duration": 73,
    "start_time": "2023-04-27T12:31:49.944Z"
   },
   {
    "duration": 31,
    "start_time": "2023-04-27T12:32:04.290Z"
   },
   {
    "duration": 34,
    "start_time": "2023-04-27T12:32:12.404Z"
   },
   {
    "duration": 4,
    "start_time": "2023-04-27T13:28:38.205Z"
   },
   {
    "duration": 5,
    "start_time": "2023-04-27T13:29:40.991Z"
   },
   {
    "duration": 9,
    "start_time": "2023-04-27T13:30:27.247Z"
   },
   {
    "duration": 4,
    "start_time": "2023-04-27T13:30:36.292Z"
   },
   {
    "duration": 18,
    "start_time": "2023-04-27T13:31:28.224Z"
   },
   {
    "duration": 3,
    "start_time": "2023-04-27T13:31:46.258Z"
   },
   {
    "duration": 3,
    "start_time": "2023-04-27T13:32:23.578Z"
   },
   {
    "duration": 9,
    "start_time": "2023-04-27T13:32:41.991Z"
   },
   {
    "duration": 4,
    "start_time": "2023-04-27T13:34:06.186Z"
   },
   {
    "duration": 5,
    "start_time": "2023-04-27T13:37:37.295Z"
   },
   {
    "duration": 149,
    "start_time": "2023-04-27T13:37:39.294Z"
   },
   {
    "duration": 32,
    "start_time": "2023-04-27T13:37:50.691Z"
   },
   {
    "duration": 58,
    "start_time": "2023-04-27T13:38:01.106Z"
   },
   {
    "duration": 17,
    "start_time": "2023-04-27T13:39:26.305Z"
   },
   {
    "duration": 19,
    "start_time": "2023-04-27T13:39:42.504Z"
   },
   {
    "duration": 8,
    "start_time": "2023-04-27T13:39:53.693Z"
   },
   {
    "duration": 10,
    "start_time": "2023-04-27T13:40:01.991Z"
   },
   {
    "duration": 10,
    "start_time": "2023-04-27T13:40:14.789Z"
   },
   {
    "duration": 25,
    "start_time": "2023-04-27T13:40:21.850Z"
   },
   {
    "duration": 5,
    "start_time": "2023-04-27T13:40:37.290Z"
   },
   {
    "duration": 8,
    "start_time": "2023-04-27T13:40:46.849Z"
   },
   {
    "duration": 9,
    "start_time": "2023-04-27T13:41:24.191Z"
   },
   {
    "duration": 12,
    "start_time": "2023-04-27T13:43:13.547Z"
   },
   {
    "duration": 73,
    "start_time": "2023-04-27T13:44:30.691Z"
   },
   {
    "duration": 28,
    "start_time": "2023-04-27T13:45:24.661Z"
   },
   {
    "duration": 27,
    "start_time": "2023-04-27T13:46:14.256Z"
   },
   {
    "duration": 12,
    "start_time": "2023-04-27T13:46:48.320Z"
   },
   {
    "duration": 11,
    "start_time": "2023-04-27T13:46:51.644Z"
   },
   {
    "duration": 9,
    "start_time": "2023-04-27T13:46:54.842Z"
   },
   {
    "duration": 31,
    "start_time": "2023-04-27T13:47:16.253Z"
   },
   {
    "duration": 10,
    "start_time": "2023-04-27T13:47:24.642Z"
   },
   {
    "duration": 10,
    "start_time": "2023-04-27T13:47:53.001Z"
   },
   {
    "duration": 9,
    "start_time": "2023-04-27T13:47:57.206Z"
   },
   {
    "duration": 6,
    "start_time": "2023-04-27T13:48:40.159Z"
   },
   {
    "duration": 21,
    "start_time": "2023-04-27T13:49:03.839Z"
   },
   {
    "duration": 3,
    "start_time": "2023-04-27T13:51:39.796Z"
   },
   {
    "duration": 5,
    "start_time": "2023-04-27T13:51:46.259Z"
   },
   {
    "duration": 4,
    "start_time": "2023-04-27T13:52:13.808Z"
   },
   {
    "duration": 4,
    "start_time": "2023-04-27T13:52:46.173Z"
   },
   {
    "duration": 3,
    "start_time": "2023-04-27T17:03:28.507Z"
   },
   {
    "duration": 4,
    "start_time": "2023-04-27T17:03:31.986Z"
   },
   {
    "duration": 10,
    "start_time": "2023-04-27T17:14:31.140Z"
   },
   {
    "duration": 10,
    "start_time": "2023-04-27T17:14:45.353Z"
   },
   {
    "duration": 24,
    "start_time": "2023-04-27T17:14:56.480Z"
   },
   {
    "duration": 18168,
    "start_time": "2023-04-27T17:15:20.776Z"
   },
   {
    "duration": 0,
    "start_time": "2023-04-27T17:16:38.959Z"
   },
   {
    "duration": 9,
    "start_time": "2023-04-27T17:16:41.891Z"
   },
   {
    "duration": 127,
    "start_time": "2023-04-27T17:18:38.732Z"
   },
   {
    "duration": 143,
    "start_time": "2023-04-27T17:19:32.488Z"
   },
   {
    "duration": 536,
    "start_time": "2023-04-27T17:20:46.860Z"
   },
   {
    "duration": 5,
    "start_time": "2023-04-27T17:20:52.127Z"
   },
   {
    "duration": 4,
    "start_time": "2023-04-27T17:21:49.389Z"
   },
   {
    "duration": 4,
    "start_time": "2023-04-27T17:22:16.259Z"
   },
   {
    "duration": 10,
    "start_time": "2023-04-27T17:25:49.316Z"
   },
   {
    "duration": 4,
    "start_time": "2023-04-27T17:25:54.541Z"
   },
   {
    "duration": 5,
    "start_time": "2023-04-27T17:26:04.944Z"
   },
   {
    "duration": 4,
    "start_time": "2023-04-27T17:26:09.064Z"
   },
   {
    "duration": 5,
    "start_time": "2023-04-27T17:26:12.881Z"
   },
   {
    "duration": 5,
    "start_time": "2023-04-27T17:26:21.140Z"
   },
   {
    "duration": 6,
    "start_time": "2023-04-27T17:26:23.940Z"
   },
   {
    "duration": 6,
    "start_time": "2023-04-27T17:26:35.432Z"
   },
   {
    "duration": 5,
    "start_time": "2023-04-27T17:26:47.870Z"
   },
   {
    "duration": 529,
    "start_time": "2023-04-27T17:28:01.432Z"
   },
   {
    "duration": 519,
    "start_time": "2023-04-27T17:28:28.535Z"
   },
   {
    "duration": 513,
    "start_time": "2023-04-27T17:28:37.736Z"
   },
   {
    "duration": 525,
    "start_time": "2023-04-27T17:45:49.732Z"
   },
   {
    "duration": 522,
    "start_time": "2023-04-27T17:46:00.782Z"
   },
   {
    "duration": 8,
    "start_time": "2023-04-27T17:50:41.448Z"
   },
   {
    "duration": 8,
    "start_time": "2023-04-27T17:52:33.505Z"
   },
   {
    "duration": 10,
    "start_time": "2023-04-27T17:52:40.859Z"
   },
   {
    "duration": 9,
    "start_time": "2023-04-27T17:52:47.065Z"
   },
   {
    "duration": 9,
    "start_time": "2023-04-27T17:53:07.740Z"
   },
   {
    "duration": 9,
    "start_time": "2023-04-27T17:53:21.332Z"
   },
   {
    "duration": 533,
    "start_time": "2023-04-27T17:54:16.911Z"
   },
   {
    "duration": 529,
    "start_time": "2023-04-27T17:54:52.601Z"
   },
   {
    "duration": 544,
    "start_time": "2023-04-27T17:55:08.470Z"
   },
   {
    "duration": 98,
    "start_time": "2023-04-27T17:55:28.851Z"
   },
   {
    "duration": 530,
    "start_time": "2023-04-27T17:55:41.112Z"
   },
   {
    "duration": 506,
    "start_time": "2023-04-27T18:02:28.172Z"
   },
   {
    "duration": 518,
    "start_time": "2023-04-27T18:02:54.119Z"
   },
   {
    "duration": 562,
    "start_time": "2023-04-27T18:03:01.169Z"
   },
   {
    "duration": 8,
    "start_time": "2023-04-27T18:03:59.539Z"
   },
   {
    "duration": 8,
    "start_time": "2023-04-27T18:04:23.629Z"
   },
   {
    "duration": 5,
    "start_time": "2023-04-27T18:05:07.578Z"
   },
   {
    "duration": 5,
    "start_time": "2023-04-27T18:05:22.685Z"
   },
   {
    "duration": 6,
    "start_time": "2023-04-27T18:05:40.263Z"
   },
   {
    "duration": 6,
    "start_time": "2023-04-27T18:05:52.094Z"
   },
   {
    "duration": 530,
    "start_time": "2023-04-27T18:08:27.946Z"
   },
   {
    "duration": 528,
    "start_time": "2023-04-27T18:11:14.785Z"
   },
   {
    "duration": 563,
    "start_time": "2023-04-27T18:11:20.636Z"
   },
   {
    "duration": 534,
    "start_time": "2023-04-27T18:13:45.408Z"
   },
   {
    "duration": 531,
    "start_time": "2023-04-27T18:14:22.961Z"
   },
   {
    "duration": 534,
    "start_time": "2023-04-27T18:14:35.295Z"
   },
   {
    "duration": 548,
    "start_time": "2023-04-27T18:14:41.617Z"
   },
   {
    "duration": 511,
    "start_time": "2023-04-27T18:15:34.554Z"
   },
   {
    "duration": 514,
    "start_time": "2023-04-27T18:16:27.831Z"
   },
   {
    "duration": 532,
    "start_time": "2023-04-27T18:16:35.549Z"
   },
   {
    "duration": 514,
    "start_time": "2023-04-27T18:16:48.653Z"
   },
   {
    "duration": 4,
    "start_time": "2023-04-27T18:20:12.642Z"
   },
   {
    "duration": 1768,
    "start_time": "2023-04-27T23:17:28.099Z"
   },
   {
    "duration": 450,
    "start_time": "2023-04-27T23:17:29.870Z"
   },
   {
    "duration": 30,
    "start_time": "2023-04-27T23:17:30.322Z"
   },
   {
    "duration": 32,
    "start_time": "2023-04-27T23:17:30.355Z"
   },
   {
    "duration": 65,
    "start_time": "2023-04-27T23:17:30.390Z"
   },
   {
    "duration": 55,
    "start_time": "2023-04-27T23:17:30.457Z"
   },
   {
    "duration": 17,
    "start_time": "2023-04-27T23:17:30.514Z"
   },
   {
    "duration": 27,
    "start_time": "2023-04-27T23:17:30.533Z"
   },
   {
    "duration": 34,
    "start_time": "2023-04-27T23:17:30.562Z"
   },
   {
    "duration": 66,
    "start_time": "2023-04-27T23:17:30.598Z"
   },
   {
    "duration": 197,
    "start_time": "2023-04-27T23:17:30.666Z"
   },
   {
    "duration": 210,
    "start_time": "2023-04-27T23:17:30.866Z"
   },
   {
    "duration": 201,
    "start_time": "2023-04-27T23:17:31.078Z"
   },
   {
    "duration": 43,
    "start_time": "2023-04-27T23:17:31.283Z"
   },
   {
    "duration": 44,
    "start_time": "2023-04-27T23:17:31.328Z"
   },
   {
    "duration": 18,
    "start_time": "2023-04-27T23:17:31.374Z"
   },
   {
    "duration": 41,
    "start_time": "2023-04-27T23:17:31.394Z"
   },
   {
    "duration": 572,
    "start_time": "2023-04-27T23:17:31.437Z"
   },
   {
    "duration": 574,
    "start_time": "2023-04-27T23:17:32.011Z"
   },
   {
    "duration": 546,
    "start_time": "2023-04-27T23:17:32.588Z"
   },
   {
    "duration": 7,
    "start_time": "2023-04-27T23:22:53.714Z"
   },
   {
    "duration": 5,
    "start_time": "2023-04-27T23:23:11.535Z"
   },
   {
    "duration": 5,
    "start_time": "2023-04-27T23:23:20.098Z"
   },
   {
    "duration": 1140,
    "start_time": "2023-04-28T07:58:28.390Z"
   },
   {
    "duration": 54,
    "start_time": "2023-04-28T07:58:38.747Z"
   },
   {
    "duration": 834,
    "start_time": "2023-04-28T07:58:56.137Z"
   },
   {
    "duration": 3,
    "start_time": "2023-04-28T07:58:58.294Z"
   },
   {
    "duration": 74,
    "start_time": "2023-04-28T08:00:40.982Z"
   },
   {
    "duration": 77,
    "start_time": "2023-04-28T08:01:03.783Z"
   },
   {
    "duration": 109,
    "start_time": "2023-04-28T08:01:19.349Z"
   },
   {
    "duration": 71,
    "start_time": "2023-04-28T08:01:51.929Z"
   },
   {
    "duration": 4,
    "start_time": "2023-04-28T08:02:08.971Z"
   },
   {
    "duration": 61,
    "start_time": "2023-04-28T08:02:11.047Z"
   },
   {
    "duration": 3,
    "start_time": "2023-04-28T08:06:25.351Z"
   },
   {
    "duration": 209,
    "start_time": "2023-04-28T08:06:27.581Z"
   },
   {
    "duration": 7,
    "start_time": "2023-04-28T08:06:39.023Z"
   },
   {
    "duration": 207,
    "start_time": "2023-04-28T08:06:39.762Z"
   },
   {
    "duration": 4,
    "start_time": "2023-04-28T08:07:09.977Z"
   },
   {
    "duration": 221,
    "start_time": "2023-04-28T08:07:12.180Z"
   },
   {
    "duration": 4,
    "start_time": "2023-04-28T08:08:43.650Z"
   },
   {
    "duration": 272,
    "start_time": "2023-04-28T08:08:46.077Z"
   },
   {
    "duration": 3,
    "start_time": "2023-04-28T08:11:41.810Z"
   },
   {
    "duration": 451,
    "start_time": "2023-04-28T08:11:43.879Z"
   },
   {
    "duration": 3,
    "start_time": "2023-04-28T08:12:47.581Z"
   },
   {
    "duration": 470,
    "start_time": "2023-04-28T08:12:52.171Z"
   },
   {
    "duration": 7,
    "start_time": "2023-04-28T08:12:52.651Z"
   },
   {
    "duration": 265,
    "start_time": "2023-04-28T08:12:53.708Z"
   },
   {
    "duration": 80,
    "start_time": "2023-04-28T08:13:04.511Z"
   },
   {
    "duration": 71,
    "start_time": "2023-04-28T08:13:07.781Z"
   },
   {
    "duration": 64,
    "start_time": "2023-04-28T08:13:16.870Z"
   },
   {
    "duration": 39,
    "start_time": "2023-04-28T08:23:48.546Z"
   },
   {
    "duration": 43,
    "start_time": "2023-04-28T08:24:25.700Z"
   },
   {
    "duration": 99,
    "start_time": "2023-04-28T08:24:51.044Z"
   },
   {
    "duration": 148,
    "start_time": "2023-04-28T08:26:05.467Z"
   },
   {
    "duration": 4,
    "start_time": "2023-04-28T08:26:38.766Z"
   },
   {
    "duration": 307,
    "start_time": "2023-04-28T08:26:39.943Z"
   },
   {
    "duration": 61,
    "start_time": "2023-04-28T08:26:46.684Z"
   },
   {
    "duration": 473,
    "start_time": "2023-04-28T08:26:47.504Z"
   },
   {
    "duration": 4,
    "start_time": "2023-04-28T08:26:47.979Z"
   },
   {
    "duration": 309,
    "start_time": "2023-04-28T08:26:49.444Z"
   },
   {
    "duration": 134,
    "start_time": "2023-04-28T08:27:04.963Z"
   },
   {
    "duration": 91,
    "start_time": "2023-04-28T08:27:11.075Z"
   },
   {
    "duration": 4,
    "start_time": "2023-04-28T08:32:08.187Z"
   },
   {
    "duration": 4512,
    "start_time": "2023-04-28T08:32:09.474Z"
   },
   {
    "duration": 8,
    "start_time": "2023-04-28T08:32:26.557Z"
   },
   {
    "duration": 3821,
    "start_time": "2023-04-28T08:32:27.362Z"
   },
   {
    "duration": 9,
    "start_time": "2023-04-28T08:32:36.644Z"
   },
   {
    "duration": 447,
    "start_time": "2023-04-28T08:32:37.457Z"
   },
   {
    "duration": 5,
    "start_time": "2023-04-28T08:33:20.935Z"
   },
   {
    "duration": 384,
    "start_time": "2023-04-28T08:33:21.711Z"
   },
   {
    "duration": 10,
    "start_time": "2023-04-28T08:34:00.545Z"
   },
   {
    "duration": 18707,
    "start_time": "2023-04-28T08:34:01.379Z"
   },
   {
    "duration": 6,
    "start_time": "2023-04-28T08:36:53.405Z"
   },
   {
    "duration": 343,
    "start_time": "2023-04-28T08:36:54.352Z"
   },
   {
    "duration": 1424,
    "start_time": "2023-04-28T08:39:15.735Z"
   },
   {
    "duration": 1285,
    "start_time": "2023-04-28T08:39:29.339Z"
   },
   {
    "duration": 62,
    "start_time": "2023-04-28T08:43:49.478Z"
   },
   {
    "duration": 7,
    "start_time": "2023-04-28T08:43:57.778Z"
   },
   {
    "duration": 1306,
    "start_time": "2023-04-28T08:44:00.132Z"
   },
   {
    "duration": 906,
    "start_time": "2023-04-28T08:44:01.440Z"
   },
   {
    "duration": 4,
    "start_time": "2023-04-28T08:44:02.348Z"
   },
   {
    "duration": 293,
    "start_time": "2023-04-28T08:44:03.877Z"
   },
   {
    "duration": 82,
    "start_time": "2023-04-28T08:44:04.809Z"
   },
   {
    "duration": 1282,
    "start_time": "2023-04-28T08:47:42.328Z"
   },
   {
    "duration": 879,
    "start_time": "2023-04-28T08:47:45.595Z"
   },
   {
    "duration": 4,
    "start_time": "2023-04-28T08:47:46.476Z"
   },
   {
    "duration": 344,
    "start_time": "2023-04-28T08:47:47.087Z"
   },
   {
    "duration": 93,
    "start_time": "2023-04-28T08:47:47.812Z"
   },
   {
    "duration": 1783,
    "start_time": "2023-04-28T08:47:48.385Z"
   },
   {
    "duration": 1936,
    "start_time": "2023-04-28T08:51:51.144Z"
   },
   {
    "duration": 1350,
    "start_time": "2023-04-28T08:52:27.195Z"
   },
   {
    "duration": 1303,
    "start_time": "2023-04-28T08:52:48.839Z"
   },
   {
    "duration": 1454,
    "start_time": "2023-04-28T08:53:09.340Z"
   },
   {
    "duration": 1588,
    "start_time": "2023-04-28T08:54:57.409Z"
   },
   {
    "duration": 5,
    "start_time": "2023-04-28T08:56:27.007Z"
   },
   {
    "duration": 8,
    "start_time": "2023-04-28T08:56:47.757Z"
   },
   {
    "duration": 21,
    "start_time": "2023-04-28T08:57:22.622Z"
   },
   {
    "duration": 16,
    "start_time": "2023-04-28T08:58:18.816Z"
   },
   {
    "duration": 0,
    "start_time": "2023-04-28T09:05:12.688Z"
   },
   {
    "duration": 1274,
    "start_time": "2023-04-28T09:05:14.302Z"
   },
   {
    "duration": 398,
    "start_time": "2023-04-28T09:09:26.059Z"
   },
   {
    "duration": 419,
    "start_time": "2023-04-28T09:09:27.651Z"
   },
   {
    "duration": 4,
    "start_time": "2023-04-28T09:09:28.072Z"
   },
   {
    "duration": 314,
    "start_time": "2023-04-28T09:09:28.608Z"
   },
   {
    "duration": 84,
    "start_time": "2023-04-28T09:09:28.947Z"
   },
   {
    "duration": 20,
    "start_time": "2023-04-28T09:09:35.246Z"
   },
   {
    "duration": 1421,
    "start_time": "2023-04-28T09:10:51.597Z"
   },
   {
    "duration": 323,
    "start_time": "2023-04-28T09:11:33.457Z"
   },
   {
    "duration": 155,
    "start_time": "2023-04-28T09:12:11.293Z"
   },
   {
    "duration": 309,
    "start_time": "2023-04-28T09:12:23.178Z"
   },
   {
    "duration": 2104,
    "start_time": "2023-04-28T09:13:44.551Z"
   },
   {
    "duration": 16,
    "start_time": "2023-04-28T09:14:00.932Z"
   },
   {
    "duration": 84,
    "start_time": "2023-04-28T09:14:18.146Z"
   },
   {
    "duration": 1398,
    "start_time": "2023-04-28T09:15:04.735Z"
   },
   {
    "duration": 76,
    "start_time": "2023-04-28T09:49:51.872Z"
   },
   {
    "duration": 72,
    "start_time": "2023-04-28T09:49:53.351Z"
   },
   {
    "duration": 47,
    "start_time": "2023-04-28T09:49:55.783Z"
   },
   {
    "duration": 4,
    "start_time": "2023-04-28T09:53:16.919Z"
   },
   {
    "duration": 7,
    "start_time": "2023-04-28T09:53:29.869Z"
   },
   {
    "duration": 13,
    "start_time": "2023-04-28T09:55:11.393Z"
   },
   {
    "duration": 11,
    "start_time": "2023-04-28T09:55:17.497Z"
   },
   {
    "duration": 3,
    "start_time": "2023-04-28T09:55:43.045Z"
   },
   {
    "duration": 3,
    "start_time": "2023-04-28T09:55:46.141Z"
   },
   {
    "duration": 13,
    "start_time": "2023-04-28T10:03:01.402Z"
   },
   {
    "duration": 15,
    "start_time": "2023-04-28T10:03:38.233Z"
   },
   {
    "duration": 18,
    "start_time": "2023-04-28T10:03:44.733Z"
   },
   {
    "duration": 17,
    "start_time": "2023-04-28T10:04:35.664Z"
   },
   {
    "duration": 85,
    "start_time": "2023-04-28T10:04:40.754Z"
   },
   {
    "duration": 16,
    "start_time": "2023-04-28T10:04:43.087Z"
   },
   {
    "duration": 399,
    "start_time": "2023-04-28T10:04:58.440Z"
   },
   {
    "duration": 392,
    "start_time": "2023-04-28T10:05:09.839Z"
   },
   {
    "duration": 390,
    "start_time": "2023-04-28T10:06:49.142Z"
   },
   {
    "duration": 16,
    "start_time": "2023-04-28T10:07:20.086Z"
   },
   {
    "duration": 487,
    "start_time": "2023-04-28T10:07:52.414Z"
   },
   {
    "duration": 458,
    "start_time": "2023-04-28T10:08:16.188Z"
   },
   {
    "duration": 13,
    "start_time": "2023-04-28T10:10:40.940Z"
   },
   {
    "duration": 23,
    "start_time": "2023-04-28T10:10:49.810Z"
   },
   {
    "duration": 19,
    "start_time": "2023-04-28T10:11:47.464Z"
   },
   {
    "duration": 428,
    "start_time": "2023-04-28T10:12:37.036Z"
   },
   {
    "duration": 428,
    "start_time": "2023-04-28T10:14:35.840Z"
   },
   {
    "duration": 401,
    "start_time": "2023-04-28T10:14:47.275Z"
   },
   {
    "duration": 483,
    "start_time": "2023-04-28T10:15:27.194Z"
   },
   {
    "duration": 1171,
    "start_time": "2023-04-28T10:17:51.704Z"
   },
   {
    "duration": 1102,
    "start_time": "2023-04-28T10:18:06.628Z"
   },
   {
    "duration": 1110,
    "start_time": "2023-04-28T10:18:30.489Z"
   },
   {
    "duration": 1171,
    "start_time": "2023-04-28T10:18:51.592Z"
   },
   {
    "duration": 1065,
    "start_time": "2023-04-28T10:19:16.115Z"
   },
   {
    "duration": 1244,
    "start_time": "2023-04-28T10:19:31.644Z"
   },
   {
    "duration": 1086,
    "start_time": "2023-04-28T10:20:34.847Z"
   },
   {
    "duration": 1088,
    "start_time": "2023-04-28T10:20:45.478Z"
   },
   {
    "duration": 1209,
    "start_time": "2023-04-28T10:21:16.158Z"
   },
   {
    "duration": 1144,
    "start_time": "2023-04-28T10:21:38.303Z"
   },
   {
    "duration": 5,
    "start_time": "2023-04-28T10:27:48.004Z"
   },
   {
    "duration": 3198,
    "start_time": "2023-04-28T10:27:49.459Z"
   },
   {
    "duration": 3186,
    "start_time": "2023-04-28T10:28:12.158Z"
   },
   {
    "duration": 3,
    "start_time": "2023-04-28T10:29:07.002Z"
   },
   {
    "duration": 5,
    "start_time": "2023-04-28T10:29:07.397Z"
   },
   {
    "duration": 3103,
    "start_time": "2023-04-28T10:33:03.059Z"
   },
   {
    "duration": 3244,
    "start_time": "2023-04-28T10:33:09.899Z"
   },
   {
    "duration": 1930,
    "start_time": "2023-04-29T08:18:58.384Z"
   },
   {
    "duration": 386,
    "start_time": "2023-04-29T08:19:00.316Z"
   },
   {
    "duration": 6,
    "start_time": "2023-04-29T08:19:00.704Z"
   },
   {
    "duration": 325,
    "start_time": "2023-04-29T08:19:00.712Z"
   },
   {
    "duration": 94,
    "start_time": "2023-04-29T08:19:01.039Z"
   },
   {
    "duration": 1326,
    "start_time": "2023-04-29T08:19:01.135Z"
   },
   {
    "duration": 9,
    "start_time": "2023-04-29T08:19:02.463Z"
   },
   {
    "duration": 1365,
    "start_time": "2023-04-29T08:19:02.474Z"
   },
   {
    "duration": 8,
    "start_time": "2023-04-29T08:19:03.841Z"
   },
   {
    "duration": 1343,
    "start_time": "2023-04-29T08:19:03.851Z"
   },
   {
    "duration": 8,
    "start_time": "2023-04-29T08:19:05.196Z"
   },
   {
    "duration": 90,
    "start_time": "2023-04-29T08:19:05.206Z"
   },
   {
    "duration": 200,
    "start_time": "2023-04-29T08:19:05.297Z"
   },
   {
    "duration": 111,
    "start_time": "2023-04-29T08:19:05.499Z"
   },
   {
    "duration": 81,
    "start_time": "2023-04-29T08:19:05.612Z"
   },
   {
    "duration": 100,
    "start_time": "2023-04-29T08:19:05.696Z"
   },
   {
    "duration": 27,
    "start_time": "2023-04-29T08:19:05.798Z"
   },
   {
    "duration": 21,
    "start_time": "2023-04-29T08:19:05.827Z"
   },
   {
    "duration": 36,
    "start_time": "2023-04-29T08:19:05.849Z"
   },
   {
    "duration": 9,
    "start_time": "2023-04-29T08:19:05.887Z"
   },
   {
    "duration": 2854,
    "start_time": "2023-04-29T08:19:05.899Z"
   },
   {
    "duration": 5,
    "start_time": "2023-04-29T08:19:34.068Z"
   },
   {
    "duration": 6811,
    "start_time": "2023-04-29T08:19:34.960Z"
   },
   {
    "duration": 5,
    "start_time": "2023-04-29T08:19:45.509Z"
   },
   {
    "duration": 2825,
    "start_time": "2023-04-29T08:19:46.525Z"
   },
   {
    "duration": 1477,
    "start_time": "2023-04-30T08:18:06.215Z"
   },
   {
    "duration": 1559,
    "start_time": "2023-04-30T08:18:07.828Z"
   },
   {
    "duration": 4,
    "start_time": "2023-04-30T08:18:10.127Z"
   },
   {
    "duration": 266,
    "start_time": "2023-04-30T08:18:11.361Z"
   },
   {
    "duration": 77,
    "start_time": "2023-04-30T08:18:15.625Z"
   },
   {
    "duration": 801,
    "start_time": "2023-04-30T08:18:45.945Z"
   },
   {
    "duration": 12,
    "start_time": "2023-04-30T08:18:55.726Z"
   },
   {
    "duration": 1280,
    "start_time": "2023-04-30T08:20:13.273Z"
   },
   {
    "duration": 1388,
    "start_time": "2023-04-30T08:21:05.374Z"
   },
   {
    "duration": 1603,
    "start_time": "2023-04-30T08:21:13.043Z"
   },
   {
    "duration": 1885,
    "start_time": "2023-04-30T08:21:21.307Z"
   },
   {
    "duration": 1336,
    "start_time": "2023-04-30T08:21:29.706Z"
   },
   {
    "duration": 0,
    "start_time": "2023-04-30T08:22:26.844Z"
   },
   {
    "duration": 2128,
    "start_time": "2023-04-30T08:22:28.873Z"
   },
   {
    "duration": 1261,
    "start_time": "2023-04-30T08:23:54.872Z"
   },
   {
    "duration": 1203,
    "start_time": "2023-04-30T08:24:08.972Z"
   },
   {
    "duration": 1232,
    "start_time": "2023-04-30T08:24:17.134Z"
   },
   {
    "duration": 958,
    "start_time": "2023-04-30T08:24:32.843Z"
   },
   {
    "duration": 1156,
    "start_time": "2023-04-30T08:24:50.379Z"
   },
   {
    "duration": 1336,
    "start_time": "2023-04-30T08:25:01.576Z"
   },
   {
    "duration": 10,
    "start_time": "2023-04-30T08:25:12.281Z"
   },
   {
    "duration": 1966,
    "start_time": "2023-04-30T08:25:15.228Z"
   },
   {
    "duration": 1727,
    "start_time": "2023-04-30T08:25:25.924Z"
   },
   {
    "duration": 1437,
    "start_time": "2023-04-30T08:25:40.274Z"
   },
   {
    "duration": 1731,
    "start_time": "2023-04-30T08:25:48.071Z"
   },
   {
    "duration": 1305,
    "start_time": "2023-04-30T08:26:23.776Z"
   },
   {
    "duration": 1371,
    "start_time": "2023-04-30T08:26:31.482Z"
   },
   {
    "duration": 1351,
    "start_time": "2023-04-30T08:26:41.107Z"
   },
   {
    "duration": 1123,
    "start_time": "2023-04-30T08:26:58.516Z"
   },
   {
    "duration": 1711,
    "start_time": "2023-04-30T08:28:02.672Z"
   },
   {
    "duration": 1554,
    "start_time": "2023-04-30T08:28:59.796Z"
   },
   {
    "duration": 1450,
    "start_time": "2023-04-30T08:29:05.492Z"
   },
   {
    "duration": 1545,
    "start_time": "2023-04-30T08:29:11.723Z"
   },
   {
    "duration": 50,
    "start_time": "2023-04-30T08:29:50.368Z"
   },
   {
    "duration": 135,
    "start_time": "2023-04-30T08:30:10.559Z"
   },
   {
    "duration": 23,
    "start_time": "2023-04-30T08:30:12.511Z"
   },
   {
    "duration": 26,
    "start_time": "2023-04-30T08:30:18.074Z"
   },
   {
    "duration": 4,
    "start_time": "2023-04-30T08:33:27.011Z"
   },
   {
    "duration": 7,
    "start_time": "2023-04-30T08:33:28.025Z"
   },
   {
    "duration": 14,
    "start_time": "2023-04-30T08:33:34.879Z"
   },
   {
    "duration": 5,
    "start_time": "2023-04-30T08:33:35.307Z"
   },
   {
    "duration": 4,
    "start_time": "2023-04-30T08:33:35.677Z"
   },
   {
    "duration": 5,
    "start_time": "2023-04-30T08:35:07.004Z"
   },
   {
    "duration": 5,
    "start_time": "2023-04-30T08:35:38.372Z"
   },
   {
    "duration": 2906,
    "start_time": "2023-04-30T08:36:00.370Z"
   },
   {
    "duration": 20,
    "start_time": "2023-04-30T08:42:33.008Z"
   },
   {
    "duration": 3853,
    "start_time": "2023-04-30T08:42:37.503Z"
   },
   {
    "duration": 6,
    "start_time": "2023-04-30T08:44:11.250Z"
   },
   {
    "duration": 18,
    "start_time": "2023-04-30T08:44:13.568Z"
   },
   {
    "duration": 6,
    "start_time": "2023-04-30T08:44:38.774Z"
   },
   {
    "duration": 4092,
    "start_time": "2023-04-30T08:44:40.919Z"
   },
   {
    "duration": 5,
    "start_time": "2023-04-30T08:45:08.570Z"
   },
   {
    "duration": 4084,
    "start_time": "2023-04-30T08:45:10.405Z"
   },
   {
    "duration": 6,
    "start_time": "2023-04-30T08:45:28.143Z"
   },
   {
    "duration": 4076,
    "start_time": "2023-04-30T08:45:30.313Z"
   },
   {
    "duration": 5,
    "start_time": "2023-04-30T08:46:19.719Z"
   },
   {
    "duration": 7,
    "start_time": "2023-04-30T08:48:01.968Z"
   },
   {
    "duration": 3911,
    "start_time": "2023-04-30T08:48:06.518Z"
   },
   {
    "duration": 3850,
    "start_time": "2023-04-30T08:48:21.823Z"
   },
   {
    "duration": 5,
    "start_time": "2023-04-30T08:49:02.914Z"
   },
   {
    "duration": 4308,
    "start_time": "2023-04-30T08:49:06.364Z"
   },
   {
    "duration": 8,
    "start_time": "2023-04-30T08:49:39.791Z"
   },
   {
    "duration": 19,
    "start_time": "2023-04-30T08:49:42.339Z"
   },
   {
    "duration": 6,
    "start_time": "2023-04-30T08:50:05.064Z"
   },
   {
    "duration": 24,
    "start_time": "2023-04-30T08:50:07.010Z"
   },
   {
    "duration": 5,
    "start_time": "2023-04-30T08:50:33.427Z"
   },
   {
    "duration": 19,
    "start_time": "2023-04-30T08:50:35.113Z"
   },
   {
    "duration": 6,
    "start_time": "2023-04-30T08:51:17.610Z"
   },
   {
    "duration": 83,
    "start_time": "2023-04-30T08:51:19.768Z"
   },
   {
    "duration": 5,
    "start_time": "2023-04-30T08:52:37.520Z"
   },
   {
    "duration": 84,
    "start_time": "2023-04-30T08:52:39.270Z"
   },
   {
    "duration": 5,
    "start_time": "2023-04-30T08:52:58.218Z"
   },
   {
    "duration": 3887,
    "start_time": "2023-04-30T08:53:01.120Z"
   },
   {
    "duration": 5,
    "start_time": "2023-04-30T08:53:19.529Z"
   },
   {
    "duration": 3945,
    "start_time": "2023-04-30T08:53:22.562Z"
   },
   {
    "duration": 1541,
    "start_time": "2023-05-01T12:18:03.584Z"
   },
   {
    "duration": 911,
    "start_time": "2023-05-01T12:18:05.128Z"
   },
   {
    "duration": 4,
    "start_time": "2023-05-01T12:18:06.041Z"
   },
   {
    "duration": 322,
    "start_time": "2023-05-01T12:18:06.046Z"
   },
   {
    "duration": 93,
    "start_time": "2023-05-01T12:18:06.370Z"
   },
   {
    "duration": 1125,
    "start_time": "2023-05-01T12:18:06.464Z"
   },
   {
    "duration": 1662,
    "start_time": "2023-05-01T12:18:07.591Z"
   },
   {
    "duration": 1466,
    "start_time": "2023-05-01T12:18:09.256Z"
   },
   {
    "duration": 140,
    "start_time": "2023-05-01T12:18:10.724Z"
   },
   {
    "duration": 112,
    "start_time": "2023-05-01T12:18:10.866Z"
   },
   {
    "duration": 187,
    "start_time": "2023-05-01T12:18:10.981Z"
   },
   {
    "duration": 5,
    "start_time": "2023-05-01T12:18:11.171Z"
   },
   {
    "duration": 88,
    "start_time": "2023-05-01T12:18:11.178Z"
   },
   {
    "duration": 96,
    "start_time": "2023-05-01T12:18:11.269Z"
   },
   {
    "duration": 4,
    "start_time": "2023-05-01T12:18:11.367Z"
   },
   {
    "duration": 6,
    "start_time": "2023-05-01T12:18:11.373Z"
   },
   {
    "duration": 5,
    "start_time": "2023-05-01T12:18:11.381Z"
   },
   {
    "duration": 3050,
    "start_time": "2023-05-01T12:18:11.388Z"
   },
   {
    "duration": 5,
    "start_time": "2023-05-01T12:19:11.891Z"
   },
   {
    "duration": 3110,
    "start_time": "2023-05-01T12:19:15.321Z"
   },
   {
    "duration": 5,
    "start_time": "2023-05-01T12:19:58.691Z"
   },
   {
    "duration": 6,
    "start_time": "2023-05-01T12:23:21.786Z"
   },
   {
    "duration": 3237,
    "start_time": "2023-05-01T12:23:24.200Z"
   },
   {
    "duration": 1868,
    "start_time": "2023-05-02T09:06:45.372Z"
   },
   {
    "duration": 359,
    "start_time": "2023-05-02T09:06:47.241Z"
   },
   {
    "duration": 4,
    "start_time": "2023-05-02T09:06:47.602Z"
   },
   {
    "duration": 255,
    "start_time": "2023-05-02T09:06:47.607Z"
   },
   {
    "duration": 81,
    "start_time": "2023-05-02T09:06:47.864Z"
   },
   {
    "duration": 1184,
    "start_time": "2023-05-02T09:06:47.947Z"
   },
   {
    "duration": 1816,
    "start_time": "2023-05-02T09:06:49.132Z"
   },
   {
    "duration": 1556,
    "start_time": "2023-05-02T09:06:50.949Z"
   },
   {
    "duration": 39,
    "start_time": "2023-05-02T09:06:52.507Z"
   },
   {
    "duration": 123,
    "start_time": "2023-05-02T09:06:52.598Z"
   },
   {
    "duration": 183,
    "start_time": "2023-05-02T09:06:52.723Z"
   },
   {
    "duration": 4,
    "start_time": "2023-05-02T09:06:52.908Z"
   },
   {
    "duration": 89,
    "start_time": "2023-05-02T09:06:52.915Z"
   },
   {
    "duration": 98,
    "start_time": "2023-05-02T09:06:53.007Z"
   },
   {
    "duration": 4,
    "start_time": "2023-05-02T09:06:53.106Z"
   },
   {
    "duration": 5,
    "start_time": "2023-05-02T09:06:53.112Z"
   },
   {
    "duration": 18,
    "start_time": "2023-05-02T09:06:53.119Z"
   },
   {
    "duration": 2671,
    "start_time": "2023-05-02T09:06:53.138Z"
   },
   {
    "duration": 6,
    "start_time": "2023-05-02T09:07:07.379Z"
   },
   {
    "duration": 7,
    "start_time": "2023-05-02T09:07:16.537Z"
   },
   {
    "duration": 8,
    "start_time": "2023-05-02T09:07:32.018Z"
   },
   {
    "duration": 7,
    "start_time": "2023-05-02T09:07:40.430Z"
   },
   {
    "duration": 1794,
    "start_time": "2023-05-03T08:36:04.458Z"
   },
   {
    "duration": 1620,
    "start_time": "2023-05-03T08:36:06.255Z"
   },
   {
    "duration": 6,
    "start_time": "2023-05-03T08:36:07.877Z"
   },
   {
    "duration": 398,
    "start_time": "2023-05-03T08:36:07.885Z"
   },
   {
    "duration": 117,
    "start_time": "2023-05-03T08:36:08.286Z"
   },
   {
    "duration": 1313,
    "start_time": "2023-05-03T08:36:08.404Z"
   },
   {
    "duration": 1964,
    "start_time": "2023-05-03T08:36:09.719Z"
   },
   {
    "duration": 1680,
    "start_time": "2023-05-03T08:36:11.685Z"
   },
   {
    "duration": 177,
    "start_time": "2023-05-03T08:36:13.367Z"
   },
   {
    "duration": 123,
    "start_time": "2023-05-03T08:36:13.546Z"
   },
   {
    "duration": 122,
    "start_time": "2023-05-03T08:36:13.742Z"
   },
   {
    "duration": 5,
    "start_time": "2023-05-03T08:36:13.866Z"
   },
   {
    "duration": 9,
    "start_time": "2023-05-03T08:36:13.943Z"
   },
   {
    "duration": 110,
    "start_time": "2023-05-03T08:36:13.956Z"
   },
   {
    "duration": 5,
    "start_time": "2023-05-03T08:36:14.068Z"
   },
   {
    "duration": 14,
    "start_time": "2023-05-03T08:36:14.075Z"
   },
   {
    "duration": 23,
    "start_time": "2023-05-03T08:36:14.091Z"
   },
   {
    "duration": 20,
    "start_time": "2023-05-03T08:36:14.116Z"
   },
   {
    "duration": 3103,
    "start_time": "2023-05-03T08:36:14.138Z"
   },
   {
    "duration": 6,
    "start_time": "2023-05-03T08:44:11.616Z"
   },
   {
    "duration": 3270,
    "start_time": "2023-05-03T08:44:16.227Z"
   },
   {
    "duration": 6,
    "start_time": "2023-05-03T08:45:12.927Z"
   },
   {
    "duration": 9,
    "start_time": "2023-05-03T08:45:14.067Z"
   },
   {
    "duration": 185,
    "start_time": "2023-05-03T08:45:15.280Z"
   },
   {
    "duration": 7,
    "start_time": "2023-05-03T08:46:06.615Z"
   },
   {
    "duration": 23,
    "start_time": "2023-05-03T08:46:11.292Z"
   },
   {
    "duration": 7,
    "start_time": "2023-05-03T08:47:21.107Z"
   },
   {
    "duration": 10,
    "start_time": "2023-05-03T08:47:23.421Z"
   },
   {
    "duration": 39,
    "start_time": "2023-05-03T08:47:24.559Z"
   },
   {
    "duration": 8,
    "start_time": "2023-05-03T08:48:32.883Z"
   },
   {
    "duration": 52,
    "start_time": "2023-05-03T08:48:36.105Z"
   },
   {
    "duration": 7,
    "start_time": "2023-05-03T08:49:06.339Z"
   },
   {
    "duration": 9,
    "start_time": "2023-05-03T08:49:09.896Z"
   },
   {
    "duration": 3127,
    "start_time": "2023-05-03T08:49:11.794Z"
   },
   {
    "duration": 8,
    "start_time": "2023-05-03T08:52:10.761Z"
   },
   {
    "duration": 3235,
    "start_time": "2023-05-03T08:52:14.622Z"
   },
   {
    "duration": 5,
    "start_time": "2023-05-03T08:52:49.002Z"
   },
   {
    "duration": 2015,
    "start_time": "2023-05-03T08:52:52.886Z"
   },
   {
    "duration": 7,
    "start_time": "2023-05-03T08:53:12.062Z"
   },
   {
    "duration": 3209,
    "start_time": "2023-05-03T08:53:16.926Z"
   },
   {
    "duration": 5,
    "start_time": "2023-05-03T08:53:34.810Z"
   },
   {
    "duration": 6,
    "start_time": "2023-05-03T08:53:42.458Z"
   },
   {
    "duration": 10,
    "start_time": "2023-05-03T08:53:57.453Z"
   },
   {
    "duration": 2045,
    "start_time": "2023-05-03T08:53:58.519Z"
   }
  ],
  "kernelspec": {
   "display_name": "Python 3 (ipykernel)",
   "language": "python",
   "name": "python3"
  },
  "language_info": {
   "codemirror_mode": {
    "name": "ipython",
    "version": 3
   },
   "file_extension": ".py",
   "mimetype": "text/x-python",
   "name": "python",
   "nbconvert_exporter": "python",
   "pygments_lexer": "ipython3",
   "version": "3.9.13"
  },
  "toc": {
   "base_numbering": 1,
   "nav_menu": {},
   "number_sections": true,
   "sideBar": true,
   "skip_h1_title": true,
   "title_cell": "Table of Contents",
   "title_sidebar": "Contents",
   "toc_cell": false,
   "toc_position": {},
   "toc_section_display": true,
   "toc_window_display": false
  }
 },
 "nbformat": 4,
 "nbformat_minor": 2
}
