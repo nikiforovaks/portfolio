{
 "cells": [
  {
   "cell_type": "markdown",
   "metadata": {
    "toc": true
   },
   "source": [
    "<h1>Содержание<span class=\"tocSkip\"></span></h1>\n",
    "<div class=\"toc\"><ul class=\"toc-item\"><li><span><a href=\"#Подготовка-данных\" data-toc-modified-id=\"Подготовка-данных-1\"><span class=\"toc-item-num\">1&nbsp;&nbsp;</span>Подготовка данных</a></span></li><li><span><a href=\"#Анализ-данных\" data-toc-modified-id=\"Анализ-данных-2\"><span class=\"toc-item-num\">2&nbsp;&nbsp;</span>Анализ данных</a></span></li><li><span><a href=\"#Модель\" data-toc-modified-id=\"Модель-3\"><span class=\"toc-item-num\">3&nbsp;&nbsp;</span>Модель</a></span></li><li><span><a href=\"#Чек-лист-готовности-проекта\" data-toc-modified-id=\"Чек-лист-готовности-проекта-4\"><span class=\"toc-item-num\">4&nbsp;&nbsp;</span>Чек-лист готовности проекта</a></span></li></ul></div>"
   ]
  },
  {
   "cell_type": "markdown",
   "metadata": {},
   "source": [
    "# Восстановление золота из руды"
   ]
  },
  {
   "cell_type": "markdown",
   "metadata": {},
   "source": [
    "Подготовьте прототип модели машинного обучения для «Цифры». Компания разрабатывает решения для эффективной работы промышленных предприятий.\n",
    "\n",
    "Модель должна предсказать коэффициент восстановления золота из золотосодержащей руды. Используйте данные с параметрами добычи и очистки. \n",
    "\n",
    "Модель поможет оптимизировать производство, чтобы не запускать предприятие с убыточными характеристиками."
   ]
  },
  {
   "cell_type": "markdown",
   "metadata": {},
   "source": [
    "## Подготовка данных"
   ]
  },
  {
   "cell_type": "code",
   "execution_count": 1,
   "metadata": {},
   "outputs": [],
   "source": [
    "import pandas as pd\n",
    "import numpy as np\n",
    "import seaborn as sns\n",
    "from sklearn.metrics import mean_absolute_error, make_scorer\n",
    "from sklearn.model_selection import cross_val_score, GridSearchCV\n",
    "from sklearn.linear_model import LinearRegression\n",
    "from sklearn.tree import DecisionTreeRegressor\n",
    "from sklearn.ensemble import RandomForestRegressor\n",
    "import matplotlib.pyplot as plt\n",
    "from sklearn import svm\n",
    "from sklearn.dummy import DummyRegressor"
   ]
  },
  {
   "cell_type": "code",
   "execution_count": 2,
   "metadata": {},
   "outputs": [],
   "source": [
    "train = pd.read_csv('/datasets/gold_industry_train.csv')\n",
    "test = pd.read_csv('/datasets/gold_industry_test.csv')\n",
    "full = pd.read_csv('/datasets/gold_industry_full.csv')"
   ]
  },
  {
   "cell_type": "code",
   "execution_count": 3,
   "metadata": {
    "scrolled": true
   },
   "outputs": [
    {
     "name": "stdout",
     "output_type": "stream",
     "text": [
      "(14579, 87) (4860, 53) (19439, 87)\n"
     ]
    }
   ],
   "source": [
    "print(train.shape, test.shape, full.shape)"
   ]
  },
  {
   "cell_type": "code",
   "execution_count": 4,
   "metadata": {},
   "outputs": [],
   "source": [
    "def review(data):\n",
    "    print(data.head())\n",
    "    data['date'] = pd.to_datetime(data['date'], format='%Y-%m-%d %H:%M:%S')\n",
    "    print(data.info())\n",
    "    print('Количество дубликатов', data.duplicated().sum())\n",
    "    for column in data.columns:\n",
    "        data[column].fillna(method='ffill', inplace=True)\n",
    "    print('Количество пропусков', data.isna().sum().sum())\n",
    "    print()"
   ]
  },
  {
   "cell_type": "code",
   "execution_count": 5,
   "metadata": {},
   "outputs": [
    {
     "name": "stdout",
     "output_type": "stream",
     "text": [
      "                  date  rougher.input.feed_au  rougher.input.feed_ag  \\\n",
      "0  2016-01-15 00:00:00               6.486150               6.100378   \n",
      "1  2016-01-15 01:00:00               6.478583               6.161113   \n",
      "2  2016-01-15 02:00:00               6.362222               6.116455   \n",
      "3  2016-01-15 03:00:00               6.118189               6.043309   \n",
      "4  2016-01-15 04:00:00               5.663707               6.060915   \n",
      "\n",
      "   rougher.input.feed_pb  rougher.input.feed_sol  rougher.input.feed_rate  \\\n",
      "0               2.284912               36.808594               523.546326   \n",
      "1               2.266033               35.753385               525.290581   \n",
      "2               2.159622               35.971630               530.026610   \n",
      "3               2.037807               36.862241               542.590390   \n",
      "4               1.786875               34.347666               540.531893   \n",
      "\n",
      "   rougher.input.feed_size  rougher.input.floatbank10_sulfate  \\\n",
      "0                55.486599                          11.986616   \n",
      "1                57.278666                          11.971193   \n",
      "2                57.510649                          11.920603   \n",
      "3                57.792734                          11.630094   \n",
      "4                56.047189                          10.957755   \n",
      "\n",
      "   rougher.input.floatbank10_xanthate  rougher.state.floatbank10_a_air  ...  \\\n",
      "0                            6.007990                       999.706909  ...   \n",
      "1                            6.005766                      1000.286398  ...   \n",
      "2                            6.197377                       999.719565  ...   \n",
      "3                            6.203177                       999.814770  ...   \n",
      "4                            6.198826                       999.678690  ...   \n",
      "\n",
      "   secondary_cleaner.output.tail_sol  final.output.concentrate_au  \\\n",
      "0                           8.764648                    42.192020   \n",
      "1                           9.001494                    42.701629   \n",
      "2                           8.842896                    42.657501   \n",
      "3                           9.122857                    42.689819   \n",
      "4                           8.871028                    42.774141   \n",
      "\n",
      "   final.output.concentrate_ag  final.output.concentrate_pb  \\\n",
      "0                     6.055403                     9.889648   \n",
      "1                     6.029369                     9.968944   \n",
      "2                     6.055926                    10.213995   \n",
      "3                     6.047977                     9.977019   \n",
      "4                     6.148599                    10.142511   \n",
      "\n",
      "   final.output.concentrate_sol  final.output.recovery  final.output.tail_au  \\\n",
      "0                      5.507324              70.541216              2.143149   \n",
      "1                      5.257781              69.266198              2.224930   \n",
      "2                      5.383759              68.116445              2.257889   \n",
      "3                      4.858634              68.347543              2.146849   \n",
      "4                      4.939416              66.927016              2.055292   \n",
      "\n",
      "   final.output.tail_ag  final.output.tail_pb  final.output.tail_sol  \n",
      "0             10.411962              0.895447              16.904297  \n",
      "1             10.462676              0.927452              16.634514  \n",
      "2             10.507046              0.953716              16.208849  \n",
      "3             10.422762              0.883763              16.532835  \n",
      "4             10.360302              0.792826              16.525686  \n",
      "\n",
      "[5 rows x 87 columns]\n",
      "<class 'pandas.core.frame.DataFrame'>\n",
      "RangeIndex: 14579 entries, 0 to 14578\n",
      "Data columns (total 87 columns):\n",
      " #   Column                                              Non-Null Count  Dtype         \n",
      "---  ------                                              --------------  -----         \n",
      " 0   date                                                14579 non-null  datetime64[ns]\n",
      " 1   rougher.input.feed_au                               14579 non-null  float64       \n",
      " 2   rougher.input.feed_ag                               14579 non-null  float64       \n",
      " 3   rougher.input.feed_pb                               14507 non-null  float64       \n",
      " 4   rougher.input.feed_sol                              14502 non-null  float64       \n",
      " 5   rougher.input.feed_rate                             14572 non-null  float64       \n",
      " 6   rougher.input.feed_size                             14478 non-null  float64       \n",
      " 7   rougher.input.floatbank10_sulfate                   14548 non-null  float64       \n",
      " 8   rougher.input.floatbank10_xanthate                  14572 non-null  float64       \n",
      " 9   rougher.state.floatbank10_a_air                     14579 non-null  float64       \n",
      " 10  rougher.state.floatbank10_a_level                   14579 non-null  float64       \n",
      " 11  rougher.state.floatbank10_b_air                     14579 non-null  float64       \n",
      " 12  rougher.state.floatbank10_b_level                   14579 non-null  float64       \n",
      " 13  rougher.state.floatbank10_c_air                     14579 non-null  float64       \n",
      " 14  rougher.state.floatbank10_c_level                   14579 non-null  float64       \n",
      " 15  rougher.state.floatbank10_d_air                     14579 non-null  float64       \n",
      " 16  rougher.state.floatbank10_d_level                   14579 non-null  float64       \n",
      " 17  rougher.state.floatbank10_e_air                     14150 non-null  float64       \n",
      " 18  rougher.state.floatbank10_e_level                   14579 non-null  float64       \n",
      " 19  rougher.state.floatbank10_f_air                     14579 non-null  float64       \n",
      " 20  rougher.state.floatbank10_f_level                   14579 non-null  float64       \n",
      " 21  rougher.input.floatbank11_sulfate                   14543 non-null  float64       \n",
      " 22  rougher.input.floatbank11_xanthate                  14172 non-null  float64       \n",
      " 23  rougher.calculation.sulfate_to_au_concentrate       14578 non-null  float64       \n",
      " 24  rougher.calculation.floatbank10_sulfate_to_au_feed  14578 non-null  float64       \n",
      " 25  rougher.calculation.floatbank11_sulfate_to_au_feed  14578 non-null  float64       \n",
      " 26  rougher.calculation.au_pb_ratio                     14579 non-null  float64       \n",
      " 27  rougher.output.concentrate_au                       14579 non-null  float64       \n",
      " 28  rougher.output.concentrate_ag                       14579 non-null  float64       \n",
      " 29  rougher.output.concentrate_pb                       14579 non-null  float64       \n",
      " 30  rougher.output.concentrate_sol                      14561 non-null  float64       \n",
      " 31  rougher.output.recovery                             14579 non-null  float64       \n",
      " 32  rougher.output.tail_au                              14579 non-null  float64       \n",
      " 33  rougher.output.tail_ag                              14578 non-null  float64       \n",
      " 34  rougher.output.tail_pb                              14579 non-null  float64       \n",
      " 35  rougher.output.tail_sol                             14579 non-null  float64       \n",
      " 36  primary_cleaner.input.sulfate                       14556 non-null  float64       \n",
      " 37  primary_cleaner.input.depressant                    14551 non-null  float64       \n",
      " 38  primary_cleaner.input.feed_size                     14579 non-null  float64       \n",
      " 39  primary_cleaner.input.xanthate                      14518 non-null  float64       \n",
      " 40  primary_cleaner.state.floatbank8_a_air              14576 non-null  float64       \n",
      " 41  primary_cleaner.state.floatbank8_a_level            14579 non-null  float64       \n",
      " 42  primary_cleaner.state.floatbank8_b_air              14576 non-null  float64       \n",
      " 43  primary_cleaner.state.floatbank8_b_level            14579 non-null  float64       \n",
      " 44  primary_cleaner.state.floatbank8_c_air              14579 non-null  float64       \n",
      " 45  primary_cleaner.state.floatbank8_c_level            14579 non-null  float64       \n",
      " 46  primary_cleaner.state.floatbank8_d_air              14578 non-null  float64       \n",
      " 47  primary_cleaner.state.floatbank8_d_level            14579 non-null  float64       \n",
      " 48  primary_cleaner.output.concentrate_au               14579 non-null  float64       \n",
      " 49  primary_cleaner.output.concentrate_ag               14579 non-null  float64       \n",
      " 50  primary_cleaner.output.concentrate_pb               14491 non-null  float64       \n",
      " 51  primary_cleaner.output.concentrate_sol              14314 non-null  float64       \n",
      " 52  primary_cleaner.output.tail_au                      14579 non-null  float64       \n",
      " 53  primary_cleaner.output.tail_ag                      14575 non-null  float64       \n",
      " 54  primary_cleaner.output.tail_pb                      14573 non-null  float64       \n",
      " 55  primary_cleaner.output.tail_sol                     14534 non-null  float64       \n",
      " 56  secondary_cleaner.state.floatbank2_a_air            14485 non-null  float64       \n",
      " 57  secondary_cleaner.state.floatbank2_a_level          14579 non-null  float64       \n",
      " 58  secondary_cleaner.state.floatbank2_b_air            14557 non-null  float64       \n",
      " 59  secondary_cleaner.state.floatbank2_b_level          14579 non-null  float64       \n",
      " 60  secondary_cleaner.state.floatbank3_a_air            14567 non-null  float64       \n",
      " 61  secondary_cleaner.state.floatbank3_a_level          14579 non-null  float64       \n",
      " 62  secondary_cleaner.state.floatbank3_b_air            14579 non-null  float64       \n",
      " 63  secondary_cleaner.state.floatbank3_b_level          14579 non-null  float64       \n",
      " 64  secondary_cleaner.state.floatbank4_a_air            14574 non-null  float64       \n",
      " 65  secondary_cleaner.state.floatbank4_a_level          14579 non-null  float64       \n",
      " 66  secondary_cleaner.state.floatbank4_b_air            14579 non-null  float64       \n",
      " 67  secondary_cleaner.state.floatbank4_b_level          14579 non-null  float64       \n",
      " 68  secondary_cleaner.state.floatbank5_a_air            14579 non-null  float64       \n",
      " 69  secondary_cleaner.state.floatbank5_a_level          14579 non-null  float64       \n",
      " 70  secondary_cleaner.state.floatbank5_b_air            14579 non-null  float64       \n",
      " 71  secondary_cleaner.state.floatbank5_b_level          14579 non-null  float64       \n",
      " 72  secondary_cleaner.state.floatbank6_a_air            14578 non-null  float64       \n",
      " 73  secondary_cleaner.state.floatbank6_a_level          14579 non-null  float64       \n",
      " 74  secondary_cleaner.output.tail_au                    14579 non-null  float64       \n",
      " 75  secondary_cleaner.output.tail_ag                    14578 non-null  float64       \n",
      " 76  secondary_cleaner.output.tail_pb                    14575 non-null  float64       \n",
      " 77  secondary_cleaner.output.tail_sol                   13659 non-null  float64       \n",
      " 78  final.output.concentrate_au                         14579 non-null  float64       \n",
      " 79  final.output.concentrate_ag                         14578 non-null  float64       \n",
      " 80  final.output.concentrate_pb                         14578 non-null  float64       \n",
      " 81  final.output.concentrate_sol                        14387 non-null  float64       \n",
      " 82  final.output.recovery                               14579 non-null  float64       \n",
      " 83  final.output.tail_au                                14579 non-null  float64       \n",
      " 84  final.output.tail_ag                                14578 non-null  float64       \n",
      " 85  final.output.tail_pb                                14504 non-null  float64       \n",
      " 86  final.output.tail_sol                               14574 non-null  float64       \n",
      "dtypes: datetime64[ns](1), float64(86)\n",
      "memory usage: 9.7 MB\n",
      "None\n",
      "Количество дубликатов 0\n",
      "Количество пропусков 0\n",
      "\n",
      "                  date  rougher.input.feed_au  rougher.input.feed_ag  \\\n",
      "0  2017-12-09 14:59:59               4.365491               6.158718   \n",
      "1  2017-12-09 15:59:59               4.362781               6.048130   \n",
      "2  2017-12-09 16:59:59               5.081681               6.082745   \n",
      "3  2017-12-09 17:59:59               5.145949               6.084374   \n",
      "4  2017-12-09 18:59:59               5.735249               6.165220   \n",
      "\n",
      "   rougher.input.feed_pb  rougher.input.feed_sol  rougher.input.feed_rate  \\\n",
      "0               3.875727               39.135119               555.820208   \n",
      "1               3.902537               39.713906               544.731687   \n",
      "2               4.564078               37.208683               558.155110   \n",
      "3               4.768124               36.808874               539.713765   \n",
      "4               4.512346               37.810642               558.713584   \n",
      "\n",
      "   rougher.input.feed_size  rougher.input.floatbank10_sulfate  \\\n",
      "0                94.544358                           6.146982   \n",
      "1               123.742430                           6.210119   \n",
      "2                82.610855                           7.363824   \n",
      "3                77.984784                           6.927072   \n",
      "4                86.434874                           7.823471   \n",
      "\n",
      "   rougher.input.floatbank10_xanthate  rougher.state.floatbank10_a_air  ...  \\\n",
      "0                            9.308612                      1196.238112  ...   \n",
      "1                            9.297709                      1201.904177  ...   \n",
      "2                            9.003562                      1200.826926  ...   \n",
      "3                            8.955597                      1199.292489  ...   \n",
      "4                            7.490356                      1198.005449  ...   \n",
      "\n",
      "   secondary_cleaner.state.floatbank4_a_air  \\\n",
      "0                                 23.018622   \n",
      "1                                 23.024963   \n",
      "2                                 22.993827   \n",
      "3                                 23.032807   \n",
      "4                                 23.001911   \n",
      "\n",
      "   secondary_cleaner.state.floatbank4_a_level  \\\n",
      "0                                 -500.492702   \n",
      "1                                 -501.153409   \n",
      "2                                 -501.559663   \n",
      "3                                 -501.287889   \n",
      "4                                 -499.947838   \n",
      "\n",
      "   secondary_cleaner.state.floatbank4_b_air  \\\n",
      "0                                 20.020205   \n",
      "1                                 20.054122   \n",
      "2                                 20.029144   \n",
      "3                                 19.977466   \n",
      "4                                 20.023735   \n",
      "\n",
      "   secondary_cleaner.state.floatbank4_b_level  \\\n",
      "0                                 -500.220296   \n",
      "1                                 -500.314711   \n",
      "2                                 -500.000662   \n",
      "3                                 -500.159903   \n",
      "4                                 -499.713680   \n",
      "\n",
      "   secondary_cleaner.state.floatbank5_a_air  \\\n",
      "0                                 17.963512   \n",
      "1                                 17.979515   \n",
      "2                                 18.012723   \n",
      "3                                 17.980463   \n",
      "4                                 17.990955   \n",
      "\n",
      "   secondary_cleaner.state.floatbank5_a_level  \\\n",
      "0                                 -499.939490   \n",
      "1                                 -499.272871   \n",
      "2                                 -500.024764   \n",
      "3                                 -500.504602   \n",
      "4                                 -500.334769   \n",
      "\n",
      "   secondary_cleaner.state.floatbank5_b_air  \\\n",
      "0                                 12.990306   \n",
      "1                                 12.992404   \n",
      "2                                 13.016445   \n",
      "3                                 12.949071   \n",
      "4                                 13.007523   \n",
      "\n",
      "   secondary_cleaner.state.floatbank5_b_level  \\\n",
      "0                                 -500.080993   \n",
      "1                                 -499.976268   \n",
      "2                                 -500.058432   \n",
      "3                                 -500.009937   \n",
      "4                                 -499.968459   \n",
      "\n",
      "   secondary_cleaner.state.floatbank6_a_air  \\\n",
      "0                                 19.990336   \n",
      "1                                 20.013986   \n",
      "2                                 19.973767   \n",
      "3                                 20.010332   \n",
      "4                                 19.995999   \n",
      "\n",
      "   secondary_cleaner.state.floatbank6_a_level  \n",
      "0                                 -499.191575  \n",
      "1                                 -500.625471  \n",
      "2                                 -501.394155  \n",
      "3                                 -508.337973  \n",
      "4                                 -499.788805  \n",
      "\n",
      "[5 rows x 53 columns]\n",
      "<class 'pandas.core.frame.DataFrame'>\n",
      "RangeIndex: 4860 entries, 0 to 4859\n",
      "Data columns (total 53 columns):\n",
      " #   Column                                      Non-Null Count  Dtype         \n",
      "---  ------                                      --------------  -----         \n",
      " 0   date                                        4860 non-null   datetime64[ns]\n",
      " 1   rougher.input.feed_au                       4860 non-null   float64       \n",
      " 2   rougher.input.feed_ag                       4860 non-null   float64       \n",
      " 3   rougher.input.feed_pb                       4832 non-null   float64       \n",
      " 4   rougher.input.feed_sol                      4838 non-null   float64       \n",
      " 5   rougher.input.feed_rate                     4856 non-null   float64       \n",
      " 6   rougher.input.feed_size                     4816 non-null   float64       \n",
      " 7   rougher.input.floatbank10_sulfate           4857 non-null   float64       \n",
      " 8   rougher.input.floatbank10_xanthate          4859 non-null   float64       \n",
      " 9   rougher.state.floatbank10_a_air             4859 non-null   float64       \n",
      " 10  rougher.state.floatbank10_a_level           4859 non-null   float64       \n",
      " 11  rougher.state.floatbank10_b_air             4859 non-null   float64       \n",
      " 12  rougher.state.floatbank10_b_level           4859 non-null   float64       \n",
      " 13  rougher.state.floatbank10_c_air             4859 non-null   float64       \n",
      " 14  rougher.state.floatbank10_c_level           4859 non-null   float64       \n",
      " 15  rougher.state.floatbank10_d_air             4860 non-null   float64       \n",
      " 16  rougher.state.floatbank10_d_level           4860 non-null   float64       \n",
      " 17  rougher.state.floatbank10_e_air             4853 non-null   float64       \n",
      " 18  rougher.state.floatbank10_e_level           4860 non-null   float64       \n",
      " 19  rougher.state.floatbank10_f_air             4860 non-null   float64       \n",
      " 20  rougher.state.floatbank10_f_level           4860 non-null   float64       \n",
      " 21  rougher.input.floatbank11_sulfate           4852 non-null   float64       \n",
      " 22  rougher.input.floatbank11_xanthate          4814 non-null   float64       \n",
      " 23  primary_cleaner.input.sulfate               4859 non-null   float64       \n",
      " 24  primary_cleaner.input.depressant            4851 non-null   float64       \n",
      " 25  primary_cleaner.input.feed_size             4860 non-null   float64       \n",
      " 26  primary_cleaner.input.xanthate              4817 non-null   float64       \n",
      " 27  primary_cleaner.state.floatbank8_a_air      4859 non-null   float64       \n",
      " 28  primary_cleaner.state.floatbank8_a_level    4859 non-null   float64       \n",
      " 29  primary_cleaner.state.floatbank8_b_air      4859 non-null   float64       \n",
      " 30  primary_cleaner.state.floatbank8_b_level    4859 non-null   float64       \n",
      " 31  primary_cleaner.state.floatbank8_c_air      4858 non-null   float64       \n",
      " 32  primary_cleaner.state.floatbank8_c_level    4859 non-null   float64       \n",
      " 33  primary_cleaner.state.floatbank8_d_air      4858 non-null   float64       \n",
      " 34  primary_cleaner.state.floatbank8_d_level    4859 non-null   float64       \n",
      " 35  secondary_cleaner.state.floatbank2_a_air    4734 non-null   float64       \n",
      " 36  secondary_cleaner.state.floatbank2_a_level  4859 non-null   float64       \n",
      " 37  secondary_cleaner.state.floatbank2_b_air    4859 non-null   float64       \n",
      " 38  secondary_cleaner.state.floatbank2_b_level  4859 non-null   float64       \n",
      " 39  secondary_cleaner.state.floatbank3_a_air    4859 non-null   float64       \n",
      " 40  secondary_cleaner.state.floatbank3_a_level  4859 non-null   float64       \n",
      " 41  secondary_cleaner.state.floatbank3_b_air    4859 non-null   float64       \n",
      " 42  secondary_cleaner.state.floatbank3_b_level  4859 non-null   float64       \n",
      " 43  secondary_cleaner.state.floatbank4_a_air    4859 non-null   float64       \n",
      " 44  secondary_cleaner.state.floatbank4_a_level  4859 non-null   float64       \n",
      " 45  secondary_cleaner.state.floatbank4_b_air    4859 non-null   float64       \n",
      " 46  secondary_cleaner.state.floatbank4_b_level  4859 non-null   float64       \n",
      " 47  secondary_cleaner.state.floatbank5_a_air    4859 non-null   float64       \n",
      " 48  secondary_cleaner.state.floatbank5_a_level  4859 non-null   float64       \n",
      " 49  secondary_cleaner.state.floatbank5_b_air    4859 non-null   float64       \n",
      " 50  secondary_cleaner.state.floatbank5_b_level  4859 non-null   float64       \n",
      " 51  secondary_cleaner.state.floatbank6_a_air    4859 non-null   float64       \n",
      " 52  secondary_cleaner.state.floatbank6_a_level  4859 non-null   float64       \n",
      "dtypes: datetime64[ns](1), float64(52)\n",
      "memory usage: 2.0 MB\n",
      "None\n",
      "Количество дубликатов 0\n",
      "Количество пропусков 0\n",
      "\n",
      "                  date  rougher.input.feed_au  rougher.input.feed_ag  \\\n",
      "0  2016-01-15 00:00:00               6.486150               6.100378   \n",
      "1  2016-01-15 01:00:00               6.478583               6.161113   \n",
      "2  2016-01-15 02:00:00               6.362222               6.116455   \n",
      "3  2016-01-15 03:00:00               6.118189               6.043309   \n",
      "4  2016-01-15 04:00:00               5.663707               6.060915   \n",
      "\n",
      "   rougher.input.feed_pb  rougher.input.feed_sol  rougher.input.feed_rate  \\\n",
      "0               2.284912               36.808594               523.546326   \n",
      "1               2.266033               35.753385               525.290581   \n",
      "2               2.159622               35.971630               530.026610   \n",
      "3               2.037807               36.862241               542.590390   \n",
      "4               1.786875               34.347666               540.531893   \n",
      "\n",
      "   rougher.input.feed_size  rougher.input.floatbank10_sulfate  \\\n",
      "0                55.486599                          11.986616   \n",
      "1                57.278666                          11.971193   \n",
      "2                57.510649                          11.920603   \n",
      "3                57.792734                          11.630094   \n",
      "4                56.047189                          10.957755   \n",
      "\n",
      "   rougher.input.floatbank10_xanthate  rougher.state.floatbank10_a_air  ...  \\\n",
      "0                            6.007990                       999.706909  ...   \n",
      "1                            6.005766                      1000.286398  ...   \n",
      "2                            6.197377                       999.719565  ...   \n",
      "3                            6.203177                       999.814770  ...   \n",
      "4                            6.198826                       999.678690  ...   \n",
      "\n",
      "   secondary_cleaner.output.tail_sol  final.output.concentrate_au  \\\n",
      "0                           8.764648                    42.192020   \n",
      "1                           9.001494                    42.701629   \n",
      "2                           8.842896                    42.657501   \n",
      "3                           9.122857                    42.689819   \n",
      "4                           8.871028                    42.774141   \n",
      "\n",
      "   final.output.concentrate_ag  final.output.concentrate_pb  \\\n",
      "0                     6.055403                     9.889648   \n",
      "1                     6.029369                     9.968944   \n",
      "2                     6.055926                    10.213995   \n",
      "3                     6.047977                     9.977019   \n",
      "4                     6.148599                    10.142511   \n",
      "\n",
      "   final.output.concentrate_sol  final.output.recovery  final.output.tail_au  \\\n",
      "0                      5.507324              70.541216              2.143149   \n",
      "1                      5.257781              69.266198              2.224930   \n",
      "2                      5.383759              68.116445              2.257889   \n",
      "3                      4.858634              68.347543              2.146849   \n",
      "4                      4.939416              66.927016              2.055292   \n",
      "\n",
      "   final.output.tail_ag  final.output.tail_pb  final.output.tail_sol  \n",
      "0             10.411962              0.895447              16.904297  \n",
      "1             10.462676              0.927452              16.634514  \n",
      "2             10.507046              0.953716              16.208849  \n",
      "3             10.422762              0.883763              16.532835  \n",
      "4             10.360302              0.792826              16.525686  \n",
      "\n",
      "[5 rows x 87 columns]\n",
      "<class 'pandas.core.frame.DataFrame'>\n",
      "RangeIndex: 19439 entries, 0 to 19438\n",
      "Data columns (total 87 columns):\n",
      " #   Column                                              Non-Null Count  Dtype         \n",
      "---  ------                                              --------------  -----         \n",
      " 0   date                                                19439 non-null  datetime64[ns]\n",
      " 1   rougher.input.feed_au                               19439 non-null  float64       \n",
      " 2   rougher.input.feed_ag                               19439 non-null  float64       \n",
      " 3   rougher.input.feed_pb                               19339 non-null  float64       \n",
      " 4   rougher.input.feed_sol                              19340 non-null  float64       \n",
      " 5   rougher.input.feed_rate                             19428 non-null  float64       \n",
      " 6   rougher.input.feed_size                             19294 non-null  float64       \n",
      " 7   rougher.input.floatbank10_sulfate                   19405 non-null  float64       \n",
      " 8   rougher.input.floatbank10_xanthate                  19431 non-null  float64       \n",
      " 9   rougher.state.floatbank10_a_air                     19438 non-null  float64       \n",
      " 10  rougher.state.floatbank10_a_level                   19438 non-null  float64       \n",
      " 11  rougher.state.floatbank10_b_air                     19438 non-null  float64       \n",
      " 12  rougher.state.floatbank10_b_level                   19438 non-null  float64       \n",
      " 13  rougher.state.floatbank10_c_air                     19438 non-null  float64       \n",
      " 14  rougher.state.floatbank10_c_level                   19438 non-null  float64       \n",
      " 15  rougher.state.floatbank10_d_air                     19439 non-null  float64       \n",
      " 16  rougher.state.floatbank10_d_level                   19439 non-null  float64       \n",
      " 17  rougher.state.floatbank10_e_air                     19003 non-null  float64       \n",
      " 18  rougher.state.floatbank10_e_level                   19439 non-null  float64       \n",
      " 19  rougher.state.floatbank10_f_air                     19439 non-null  float64       \n",
      " 20  rougher.state.floatbank10_f_level                   19439 non-null  float64       \n",
      " 21  rougher.input.floatbank11_sulfate                   19395 non-null  float64       \n",
      " 22  rougher.input.floatbank11_xanthate                  18986 non-null  float64       \n",
      " 23  rougher.calculation.sulfate_to_au_concentrate       19437 non-null  float64       \n",
      " 24  rougher.calculation.floatbank10_sulfate_to_au_feed  19437 non-null  float64       \n",
      " 25  rougher.calculation.floatbank11_sulfate_to_au_feed  19437 non-null  float64       \n",
      " 26  rougher.calculation.au_pb_ratio                     19439 non-null  float64       \n",
      " 27  rougher.output.concentrate_au                       19439 non-null  float64       \n",
      " 28  rougher.output.concentrate_ag                       19439 non-null  float64       \n",
      " 29  rougher.output.concentrate_pb                       19439 non-null  float64       \n",
      " 30  rougher.output.concentrate_sol                      19416 non-null  float64       \n",
      " 31  rougher.output.recovery                             19439 non-null  float64       \n",
      " 32  rougher.output.tail_au                              19439 non-null  float64       \n",
      " 33  rougher.output.tail_ag                              19438 non-null  float64       \n",
      " 34  rougher.output.tail_pb                              19439 non-null  float64       \n",
      " 35  rougher.output.tail_sol                             19439 non-null  float64       \n",
      " 36  primary_cleaner.input.sulfate                       19415 non-null  float64       \n",
      " 37  primary_cleaner.input.depressant                    19402 non-null  float64       \n",
      " 38  primary_cleaner.input.feed_size                     19439 non-null  float64       \n",
      " 39  primary_cleaner.input.xanthate                      19335 non-null  float64       \n",
      " 40  primary_cleaner.state.floatbank8_a_air              19435 non-null  float64       \n",
      " 41  primary_cleaner.state.floatbank8_a_level            19438 non-null  float64       \n",
      " 42  primary_cleaner.state.floatbank8_b_air              19435 non-null  float64       \n",
      " 43  primary_cleaner.state.floatbank8_b_level            19438 non-null  float64       \n",
      " 44  primary_cleaner.state.floatbank8_c_air              19437 non-null  float64       \n",
      " 45  primary_cleaner.state.floatbank8_c_level            19438 non-null  float64       \n",
      " 46  primary_cleaner.state.floatbank8_d_air              19436 non-null  float64       \n",
      " 47  primary_cleaner.state.floatbank8_d_level            19438 non-null  float64       \n",
      " 48  primary_cleaner.output.concentrate_au               19439 non-null  float64       \n",
      " 49  primary_cleaner.output.concentrate_ag               19439 non-null  float64       \n",
      " 50  primary_cleaner.output.concentrate_pb               19323 non-null  float64       \n",
      " 51  primary_cleaner.output.concentrate_sol              19069 non-null  float64       \n",
      " 52  primary_cleaner.output.tail_au                      19439 non-null  float64       \n",
      " 53  primary_cleaner.output.tail_ag                      19435 non-null  float64       \n",
      " 54  primary_cleaner.output.tail_pb                      19418 non-null  float64       \n",
      " 55  primary_cleaner.output.tail_sol                     19377 non-null  float64       \n",
      " 56  secondary_cleaner.state.floatbank2_a_air            19219 non-null  float64       \n",
      " 57  secondary_cleaner.state.floatbank2_a_level          19438 non-null  float64       \n",
      " 58  secondary_cleaner.state.floatbank2_b_air            19416 non-null  float64       \n",
      " 59  secondary_cleaner.state.floatbank2_b_level          19438 non-null  float64       \n",
      " 60  secondary_cleaner.state.floatbank3_a_air            19426 non-null  float64       \n",
      " 61  secondary_cleaner.state.floatbank3_a_level          19438 non-null  float64       \n",
      " 62  secondary_cleaner.state.floatbank3_b_air            19438 non-null  float64       \n",
      " 63  secondary_cleaner.state.floatbank3_b_level          19438 non-null  float64       \n",
      " 64  secondary_cleaner.state.floatbank4_a_air            19433 non-null  float64       \n",
      " 65  secondary_cleaner.state.floatbank4_a_level          19438 non-null  float64       \n",
      " 66  secondary_cleaner.state.floatbank4_b_air            19438 non-null  float64       \n",
      " 67  secondary_cleaner.state.floatbank4_b_level          19438 non-null  float64       \n",
      " 68  secondary_cleaner.state.floatbank5_a_air            19438 non-null  float64       \n",
      " 69  secondary_cleaner.state.floatbank5_a_level          19438 non-null  float64       \n",
      " 70  secondary_cleaner.state.floatbank5_b_air            19438 non-null  float64       \n",
      " 71  secondary_cleaner.state.floatbank5_b_level          19438 non-null  float64       \n",
      " 72  secondary_cleaner.state.floatbank6_a_air            19437 non-null  float64       \n",
      " 73  secondary_cleaner.state.floatbank6_a_level          19438 non-null  float64       \n",
      " 74  secondary_cleaner.output.tail_au                    19439 non-null  float64       \n",
      " 75  secondary_cleaner.output.tail_ag                    19437 non-null  float64       \n",
      " 76  secondary_cleaner.output.tail_pb                    19427 non-null  float64       \n",
      " 77  secondary_cleaner.output.tail_sol                   17691 non-null  float64       \n",
      " 78  final.output.concentrate_au                         19439 non-null  float64       \n",
      " 79  final.output.concentrate_ag                         19438 non-null  float64       \n",
      " 80  final.output.concentrate_pb                         19438 non-null  float64       \n",
      " 81  final.output.concentrate_sol                        19228 non-null  float64       \n",
      " 82  final.output.recovery                               19439 non-null  float64       \n",
      " 83  final.output.tail_au                                19439 non-null  float64       \n",
      " 84  final.output.tail_ag                                19438 non-null  float64       \n",
      " 85  final.output.tail_pb                                19338 non-null  float64       \n",
      " 86  final.output.tail_sol                               19433 non-null  float64       \n",
      "dtypes: datetime64[ns](1), float64(86)\n",
      "memory usage: 12.9 MB\n",
      "None\n",
      "Количество дубликатов 0\n",
      "Количество пропусков 0\n",
      "\n"
     ]
    }
   ],
   "source": [
    "for data in [train, test, full]:\n",
    "    review(data)"
   ]
  },
  {
   "cell_type": "markdown",
   "metadata": {},
   "source": [
    "Дубликатов в данных нет, было много пропусков в данных, я их всех заменила методом ffill, а также я заменила тип данных для столбца date с object на datetime"
   ]
  },
  {
   "cell_type": "code",
   "execution_count": 6,
   "metadata": {},
   "outputs": [],
   "source": [
    "c = train['rougher.output.concentrate_au'] # доля золота в концентрате после флотации/очистки\n",
    "f = train['rougher.input.feed_au'] # доля золота в сырье/концентрате до флотации/очистки\n",
    "t = train['rougher.output.tail_au'] # доля золота в отвальных хвостах после флотации/очистки"
   ]
  },
  {
   "cell_type": "code",
   "execution_count": 7,
   "metadata": {},
   "outputs": [],
   "source": [
    "recovery = c*(f-t) / (f*(c-t)) * 100"
   ]
  },
  {
   "cell_type": "code",
   "execution_count": 8,
   "metadata": {},
   "outputs": [
    {
     "data": {
      "text/plain": [
       "9.83758577644259e-15"
      ]
     },
     "execution_count": 8,
     "metadata": {},
     "output_type": "execute_result"
    }
   ],
   "source": [
    "mae_rougher =  mean_absolute_error(train['rougher.output.recovery'], recovery)\n",
    "mae_rougher"
   ]
  },
  {
   "cell_type": "markdown",
   "metadata": {},
   "source": [
    "Эффективность обогащения рассчитана правильно."
   ]
  },
  {
   "cell_type": "code",
   "execution_count": 9,
   "metadata": {
    "scrolled": true
   },
   "outputs": [
    {
     "data": {
      "text/plain": [
       "['rougher.calculation.sulfate_to_au_concentrate',\n",
       " 'rougher.calculation.floatbank10_sulfate_to_au_feed',\n",
       " 'rougher.calculation.floatbank11_sulfate_to_au_feed',\n",
       " 'rougher.calculation.au_pb_ratio',\n",
       " 'rougher.output.concentrate_au',\n",
       " 'rougher.output.concentrate_ag',\n",
       " 'rougher.output.concentrate_pb',\n",
       " 'rougher.output.concentrate_sol',\n",
       " 'rougher.output.recovery',\n",
       " 'rougher.output.tail_au',\n",
       " 'rougher.output.tail_ag',\n",
       " 'rougher.output.tail_pb',\n",
       " 'rougher.output.tail_sol',\n",
       " 'primary_cleaner.output.concentrate_au',\n",
       " 'primary_cleaner.output.concentrate_ag',\n",
       " 'primary_cleaner.output.concentrate_pb',\n",
       " 'primary_cleaner.output.concentrate_sol',\n",
       " 'primary_cleaner.output.tail_au',\n",
       " 'primary_cleaner.output.tail_ag',\n",
       " 'primary_cleaner.output.tail_pb',\n",
       " 'primary_cleaner.output.tail_sol',\n",
       " 'secondary_cleaner.output.tail_au',\n",
       " 'secondary_cleaner.output.tail_ag',\n",
       " 'secondary_cleaner.output.tail_pb',\n",
       " 'secondary_cleaner.output.tail_sol',\n",
       " 'final.output.concentrate_au',\n",
       " 'final.output.concentrate_ag',\n",
       " 'final.output.concentrate_pb',\n",
       " 'final.output.concentrate_sol',\n",
       " 'final.output.recovery',\n",
       " 'final.output.tail_au',\n",
       " 'final.output.tail_ag',\n",
       " 'final.output.tail_pb',\n",
       " 'final.output.tail_sol']"
      ]
     },
     "execution_count": 9,
     "metadata": {},
     "output_type": "execute_result"
    }
   ],
   "source": [
    "lst = []\n",
    "for column in train.columns:\n",
    "    if column not in test.columns:\n",
    "        lst.append(column)\n",
    "lst"
   ]
  },
  {
   "cell_type": "markdown",
   "metadata": {},
   "source": [
    "Недоступны параметры продукта концентрата, а также отвальные хвосты на всех этапах и расчётные характеристики."
   ]
  },
  {
   "cell_type": "code",
   "execution_count": 10,
   "metadata": {},
   "outputs": [],
   "source": [
    "test = test.merge(full[['rougher.output.recovery', 'final.output.recovery', 'date']], how='inner', on= 'date')"
   ]
  },
  {
   "cell_type": "markdown",
   "metadata": {},
   "source": [
    "Добавила недостающие столбцы в тестовую выборку"
   ]
  },
  {
   "cell_type": "markdown",
   "metadata": {},
   "source": [
    "## Анализ данных"
   ]
  },
  {
   "cell_type": "code",
   "execution_count": 11,
   "metadata": {},
   "outputs": [],
   "source": [
    "feed = ['rougher.input.feed_au', 'rougher.input.feed_ag', 'rougher.input.feed_pb']\n",
    "rougher = ['rougher.output.concentrate_au', 'rougher.output.concentrate_ag', 'rougher.output.concentrate_pb']\n",
    "primary = ['primary_cleaner.output.concentrate_au', 'primary_cleaner.output.concentrate_ag', \n",
    "           'primary_cleaner.output.concentrate_pb']\n",
    "final = ['final.output.concentrate_au', 'final.output.concentrate_ag', 'final.output.concentrate_pb']"
   ]
  },
  {
   "cell_type": "code",
   "execution_count": 12,
   "metadata": {},
   "outputs": [
    {
     "data": {
      "image/png": "[encoded data removed]",
      "text/plain": [
       "<Figure size 936x432 with 1 Axes>"
      ]
     },
     "metadata": {
      "needs_background": "light"
     },
     "output_type": "display_data"
    },
    {
     "data": {
      "image/png": "[encoded data removed]",
      "text/plain": [
       "<Figure size 936x432 with 1 Axes>"
      ]
     },
     "metadata": {
      "needs_background": "light"
     },
     "output_type": "display_data"
    },
    {
     "data": {
      "image/png": "[encoded data removed]",
      "text/plain": [
       "<Figure size 936x432 with 1 Axes>"
      ]
     },
     "metadata": {
      "needs_background": "light"
     },
     "output_type": "display_data"
    },
    {
     "data": {
      "image/png": "[encoded data removed]",
      "text/plain": [
       "<Figure size 936x432 with 1 Axes>"
      ]
     },
     "metadata": {
      "needs_background": "light"
     },
     "output_type": "display_data"
    }
   ],
   "source": [
    "train[feed].plot(figsize=(13,6), title='Концентрация металлов в сырье');\n",
    "train[rougher].plot(figsize=(13,6), title='Концентрация металлов в черновом концентрате');\n",
    "train[primary].plot(figsize=(13,6), title='Концентрация металлов в концентрате после первой очистки');\n",
    "train[final].plot(figsize=(13,6), title='Концентрация металлов в финальном концентрате');"
   ]
  },
  {
   "cell_type": "code",
   "execution_count": 13,
   "metadata": {},
   "outputs": [
    {
     "name": "stdout",
     "output_type": "stream",
     "text": [
      "Промежутки концентрации металлов на различных этапах\n"
     ]
    },
    {
     "data": {
      "text/html": [
       "<div>\n",
       "<style scoped>\n",
       "    .dataframe tbody tr th:only-of-type {\n",
       "        vertical-align: middle;\n",
       "    }\n",
       "\n",
       "    .dataframe tbody tr th {\n",
       "        vertical-align: top;\n",
       "    }\n",
       "\n",
       "    .dataframe thead th {\n",
       "        text-align: right;\n",
       "    }\n",
       "</style>\n",
       "<table border=\"1\" class=\"dataframe\">\n",
       "  <thead>\n",
       "    <tr style=\"text-align: right;\">\n",
       "      <th></th>\n",
       "      <th>Au</th>\n",
       "      <th>Ag</th>\n",
       "      <th>Pb</th>\n",
       "    </tr>\n",
       "  </thead>\n",
       "  <tbody>\n",
       "    <tr>\n",
       "      <th>Сырье</th>\n",
       "      <td>5-12</td>\n",
       "      <td>6-14</td>\n",
       "      <td>1-6</td>\n",
       "    </tr>\n",
       "    <tr>\n",
       "      <th>Черновой концентрат</th>\n",
       "      <td>12-25</td>\n",
       "      <td>7-17</td>\n",
       "      <td>5-10</td>\n",
       "    </tr>\n",
       "    <tr>\n",
       "      <th>Первая очистка</th>\n",
       "      <td>20-40</td>\n",
       "      <td>5-12</td>\n",
       "      <td>4-14</td>\n",
       "    </tr>\n",
       "    <tr>\n",
       "      <th>Финальный концентрат</th>\n",
       "      <td>35-50</td>\n",
       "      <td>3-9</td>\n",
       "      <td>8-12</td>\n",
       "    </tr>\n",
       "  </tbody>\n",
       "</table>\n",
       "</div>"
      ],
      "text/plain": [
       "                         Au    Ag    Pb\n",
       "Сырье                  5-12  6-14   1-6\n",
       "Черновой концентрат   12-25  7-17  5-10\n",
       "Первая очистка        20-40  5-12  4-14\n",
       "Финальный концентрат  35-50   3-9  8-12"
      ]
     },
     "execution_count": 13,
     "metadata": {},
     "output_type": "execute_result"
    }
   ],
   "source": [
    "print('Промежутки концентрации металлов на различных этапах')\n",
    "df = pd.DataFrame(index=['Сырье', 'Черновой концентрат', 'Первая очистка', 'Финальный концентрат'], \n",
    "                  columns=['Au', 'Ag', 'Pb'])\n",
    "df.loc['Сырье', :] = ['5-12', '6-14', '1-6']\n",
    "df.loc['Черновой концентрат', :] = ['12-25', '7-17', '5-10']\n",
    "df.loc['Первая очистка', :] = ['20-40', '5-12', '4-14']\n",
    "df.loc['Финальный концентрат', :] = ['35-50', '3-9', '8-12']\n",
    "df"
   ]
  },
  {
   "cell_type": "markdown",
   "metadata": {},
   "source": [
    "Прослеживается увеличение концентрации золота, серебра после всех этапов становится меньше, а свинец показывает незначительное увеличение."
   ]
  },
  {
   "cell_type": "code",
   "execution_count": 14,
   "metadata": {},
   "outputs": [
    {
     "data": {
      "text/plain": [
       "59.07086496192819"
      ]
     },
     "execution_count": 14,
     "metadata": {},
     "output_type": "execute_result"
    }
   ],
   "source": [
    "train['rougher.input.feed_size'].mean()"
   ]
  },
  {
   "cell_type": "code",
   "execution_count": 15,
   "metadata": {},
   "outputs": [
    {
     "data": {
      "image/png": "[encoded data removed]",
      "text/plain": [
       "<Figure size 432x288 with 1 Axes>"
      ]
     },
     "metadata": {
      "needs_background": "light"
     },
     "output_type": "display_data"
    }
   ],
   "source": [
    "train['rougher.input.feed_size'].plot();\n",
    "test['rougher.input.feed_size'].plot();"
   ]
  },
  {
   "cell_type": "code",
   "execution_count": 16,
   "metadata": {},
   "outputs": [
    {
     "data": {
      "text/plain": [
       "59.13615007330843"
      ]
     },
     "execution_count": 16,
     "metadata": {},
     "output_type": "execute_result"
    }
   ],
   "source": [
    "test['rougher.input.feed_size'].mean()"
   ]
  },
  {
   "cell_type": "code",
   "execution_count": 17,
   "metadata": {},
   "outputs": [
    {
     "data": {
      "image/png": "[encoded data removed]",
      "text/plain": [
       "<Figure size 432x288 with 1 Axes>"
      ]
     },
     "metadata": {
      "needs_background": "light"
     },
     "output_type": "display_data"
    }
   ],
   "source": [
    "sns.kdeplot(train['rougher.input.feed_size'], common_norm=True);\n",
    "sns.kdeplot(test['rougher.input.feed_size'], common_norm=True);"
   ]
  },
  {
   "cell_type": "markdown",
   "metadata": {},
   "source": [
    "Распределение размеров гранул отличаются всего лишь на 0,06, значит, оценка модели будет верной"
   ]
  },
  {
   "cell_type": "code",
   "execution_count": 18,
   "metadata": {},
   "outputs": [],
   "source": [
    "full['rougher.input.feed_sum'] = full['rougher.input.feed_au'] + full['rougher.input.feed_ag'] + full['rougher.input.feed_pb'] + full['rougher.input.feed_sol']\n",
    "full['rougher.output.concentrate_sum'] = full['rougher.output.concentrate_au'] + full['rougher.output.concentrate_ag'] + full['rougher.output.concentrate_pb'] + full['rougher.output.concentrate_sol']\n",
    "full['primary_cleaner.output.concentrate_sum'] = full['primary_cleaner.output.concentrate_au'] + full['primary_cleaner.output.concentrate_ag'] + full['primary_cleaner.output.concentrate_pb'] + full['primary_cleaner.output.concentrate_sol']\n",
    "full['final.output.concentrate_sum'] = full['final.output.concentrate_au'] + full['final.output.concentrate_ag'] + full['final.output.concentrate_pb'] + full['final.output.concentrate_sol']"
   ]
  },
  {
   "cell_type": "markdown",
   "metadata": {},
   "source": [
    "Суммарная концентрация золота и свинца увеличивается, а серебра наоборот - уменьшается. Это все кажется странным, так как после каждого этапа металла должно становиться меньше"
   ]
  },
  {
   "cell_type": "code",
   "execution_count": 19,
   "metadata": {
    "scrolled": false
   },
   "outputs": [
    {
     "data": {
      "image/png": "[encoded data removed]",
      "text/plain": [
       "<Figure size 432x288 with 1 Axes>"
      ]
     },
     "metadata": {
      "needs_background": "light"
     },
     "output_type": "display_data"
    }
   ],
   "source": [
    "sns.histplot(full[['rougher.input.feed_sum', 'rougher.output.concentrate_sum', \n",
    "                    'primary_cleaner.output.concentrate_sum', 'final.output.concentrate_sum']]);"
   ]
  },
  {
   "cell_type": "code",
   "execution_count": 20,
   "metadata": {},
   "outputs": [],
   "source": [
    "for col in ['rougher.input.feed_sum', 'rougher.output.concentrate_sum', 'primary_cleaner.output.concentrate_sum', 'final.output.concentrate_sum']:\n",
    "    full = full[full[col] > 0]\n",
    "                \n",
    "train = train.set_index('date')\n",
    "full = full.set_index('date')\n",
    "train = train.loc[train.index.isin(full.index)]"
   ]
  },
  {
   "cell_type": "code",
   "execution_count": 21,
   "metadata": {
    "scrolled": true
   },
   "outputs": [
    {
     "data": {
      "image/png": "[encoded data removed]",
      "text/plain": [
       "<Figure size 432x288 with 1 Axes>"
      ]
     },
     "metadata": {
      "needs_background": "light"
     },
     "output_type": "display_data"
    }
   ],
   "source": [
    "sns.histplot(full[['rougher.input.feed_sum', 'rougher.output.concentrate_sum', \n",
    "                    'primary_cleaner.output.concentrate_sum', 'final.output.concentrate_sum']]);"
   ]
  },
  {
   "cell_type": "markdown",
   "metadata": {},
   "source": [
    "## Модель"
   ]
  },
  {
   "cell_type": "code",
   "execution_count": 22,
   "metadata": {},
   "outputs": [],
   "source": [
    "def smape(target, predict):\n",
    "    result = 0\n",
    "    result = (abs(target - predict)/(abs(target) + abs(predict))).sum()\n",
    "    return 2 * result / len(target) * 100"
   ]
  },
  {
   "cell_type": "code",
   "execution_count": 23,
   "metadata": {
    "scrolled": true
   },
   "outputs": [],
   "source": [
    "def final_smape(sMAPE_rougher, sMAPE_final):\n",
    "    return 0.25 * sMAPE_rougher + 0.75 * sMAPE_final"
   ]
  },
  {
   "cell_type": "code",
   "execution_count": 24,
   "metadata": {},
   "outputs": [],
   "source": [
    "target_rougher = train['rougher.output.recovery']\n",
    "features_train = train.drop(['rougher.output.recovery', 'final.output.recovery'], axis=1)\n",
    "features_train = train.drop(lst, axis=1)\n",
    "target_final = train['final.output.recovery']"
   ]
  },
  {
   "cell_type": "code",
   "execution_count": 25,
   "metadata": {
    "scrolled": true
   },
   "outputs": [
    {
     "name": "stdout",
     "output_type": "stream",
     "text": [
      "best_grid_rougher 7.039186251866072\n",
      "best_grid_final 9.477923458692736\n"
     ]
    }
   ],
   "source": [
    "scorer = make_scorer(smape, greater_is_better=False)\n",
    "model = LinearRegression()\n",
    "grid = GridSearchCV(model, param_grid={}, scoring=scorer, cv=5)\n",
    "grid.fit(features_train, target_rougher)\n",
    "best_grid_rougher_lr = grid.best_score_ * (-1)\n",
    "grid.fit(features_train, target_final)\n",
    "best_grid_final_lr = grid.best_score_ * (-1)\n",
    "print('best_grid_rougher', best_grid_rougher_lr)\n",
    "print('best_grid_final', best_grid_final_lr)"
   ]
  },
  {
   "cell_type": "code",
   "execution_count": 26,
   "metadata": {},
   "outputs": [
    {
     "name": "stdout",
     "output_type": "stream",
     "text": [
      "final sMAPE 8.86823915698607\n"
     ]
    }
   ],
   "source": [
    "print('final sMAPE', final_smape(best_grid_rougher_lr, best_grid_final_lr))"
   ]
  },
  {
   "cell_type": "code",
   "execution_count": 27,
   "metadata": {
    "scrolled": true
   },
   "outputs": [
    {
     "name": "stdout",
     "output_type": "stream",
     "text": [
      "best_grid_rougher 6.725187983897763\n",
      "best_grid_final 9.15152451351102\n"
     ]
    }
   ],
   "source": [
    "model = DecisionTreeRegressor()\n",
    "grid = GridSearchCV(model, param_grid={'max_depth': range(1, 20)}, scoring=scorer, cv=5)\n",
    "grid.fit(features_train, target_rougher)\n",
    "best_grid_rougher_tree = grid.best_score_ * (-1)\n",
    "grid.fit(features_train, target_final)\n",
    "best_grid_final_tree = grid.best_score_ * (-1)\n",
    "print('best_grid_rougher', best_grid_rougher_tree)\n",
    "print('best_grid_final', best_grid_final_tree)"
   ]
  },
  {
   "cell_type": "code",
   "execution_count": 28,
   "metadata": {},
   "outputs": [
    {
     "name": "stdout",
     "output_type": "stream",
     "text": [
      "final sMAPE 8.544940381107706\n"
     ]
    }
   ],
   "source": [
    "print('final sMAPE', final_smape(best_grid_rougher_tree, best_grid_final_tree))"
   ]
  },
  {
   "cell_type": "code",
   "execution_count": 29,
   "metadata": {},
   "outputs": [
    {
     "name": "stdout",
     "output_type": "stream",
     "text": [
      "best_grid_rougher 6.43860380836809\n",
      "best_grid_final 8.832049996382782\n",
      "CPU times: user 14min 13s, sys: 1.28 s, total: 14min 15s\n",
      "Wall time: 14min 15s\n"
     ]
    }
   ],
   "source": [
    "%%time\n",
    "# 16 минут \n",
    "model = RandomForestRegressor()\n",
    "grid = GridSearchCV(model, param_grid={'max_depth': range(1, 10), 'n_estimators': range(10, 31, 10)}, scoring=scorer, cv=5)\n",
    "grid.fit(features_train, target_rougher)\n",
    "best_grid_rougher_forest = grid.best_score_ * (-1)\n",
    "grid.fit(features_train, target_final)\n",
    "best_grid_final_forest = grid.best_score_ * (-1)\n",
    "print('best_grid_rougher', best_grid_rougher_forest)\n",
    "print('best_grid_final', best_grid_final_forest)"
   ]
  },
  {
   "cell_type": "code",
   "execution_count": 30,
   "metadata": {},
   "outputs": [
    {
     "name": "stdout",
     "output_type": "stream",
     "text": [
      "final sMAPE 8.233688449379109\n"
     ]
    }
   ],
   "source": [
    "print('final sMAPE', final_smape(best_grid_rougher_forest, best_grid_final_forest))"
   ]
  },
  {
   "cell_type": "code",
   "execution_count": 31,
   "metadata": {},
   "outputs": [],
   "source": [
    "target_rougher_test = test['rougher.output.recovery']\n",
    "features_test = test.drop(['rougher.output.recovery', 'date', 'final.output.recovery'], axis=1)\n",
    "target_final_test = test['final.output.recovery']"
   ]
  },
  {
   "cell_type": "code",
   "execution_count": 32,
   "metadata": {
    "scrolled": true
   },
   "outputs": [
    {
     "name": "stdout",
     "output_type": "stream",
     "text": [
      "sMAPE 4.844032291516639 8.40392987794827\n"
     ]
    }
   ],
   "source": [
    "model = RandomForestRegressor(n_estimators=grid.best_params_['n_estimators'],\n",
    "                              max_depth=grid.best_params_['max_depth'], random_state=12345)\n",
    "model.fit(features_train, target_rougher)\n",
    "predict_test_rougher = model.predict(features_test)\n",
    "model.fit(features_train, target_final)\n",
    "predict_test_final = model.predict(features_test)\n",
    "print('sMAPE', smape(target_rougher_test, predict_test_rougher), smape(target_final_test, predict_test_final))"
   ]
  },
  {
   "cell_type": "code",
   "execution_count": 33,
   "metadata": {},
   "outputs": [
    {
     "name": "stdout",
     "output_type": "stream",
     "text": [
      "final sMAPE 7.513955481340362\n"
     ]
    }
   ],
   "source": [
    "print('final sMAPE', final_smape(smape(target_rougher_test, predict_test_rougher), \n",
    "                                 smape(target_final_test, predict_test_final)))"
   ]
  },
  {
   "cell_type": "code",
   "execution_count": 34,
   "metadata": {},
   "outputs": [
    {
     "name": "stdout",
     "output_type": "stream",
     "text": [
      "sMAPE 5.835969960413102 9.11454843929903\n",
      "final sMAPE 8.294903819577549\n"
     ]
    }
   ],
   "source": [
    "dummy_regr = DummyRegressor(strategy=\"median\")\n",
    "grid_dummy = GridSearchCV(dummy_regr, param_grid={}, scoring=scorer, cv=5)\n",
    "grid_dummy.fit(features_train, target_rougher)\n",
    "predict_rougher = grid_dummy.predict(features_test)\n",
    "grid_dummy.fit(features_train, target_final)\n",
    "predict_final = grid_dummy.predict(features_test)\n",
    "print('sMAPE', smape(target_rougher_test, predict_rougher), smape(target_final_test, predict_final))\n",
    "print('final sMAPE', final_smape(smape(target_rougher_test, predict_rougher), smape(target_final_test, predict_final)))"
   ]
  },
  {
   "cell_type": "markdown",
   "metadata": {},
   "source": [
    "***Вывод***:\n",
    "\n",
    "Моя задача состояла в том, чтобы подготовить прототип модели машинного обучения для «Цифры». Компания разрабатывает решения для эффективной работы промышленных предприятий.\n",
    "\n",
    "Модель должна предсказать коэффициент восстановления золота из золотосодержащей руды. Я использовала данные с параметрами добычи и очистки.\n",
    "\n",
    "Модель поможет оптимизировать производство, чтобы не запускать предприятие с убыточными характеристиками.\n",
    "\n",
    "Я проанализировала и обработала данные. Посмотрела как меняется суммарная концентрация металлов: прослеживается увеличение концентрации золота, серебра после всех этапов становится меньше, а свинец показывает незначительное увеличение.\n",
    "\n",
    "Я обучила разные модели и оценила их качество кросс-валидацией и пришла к выводу, что лучшей моделью является модель леса, для которой итоговая sMAPE = 8.24. На тестовой выборке я получила результат 7.54."
   ]
  }
 ],
 "metadata": {
  "ExecuteTimeLog": [
   {
    "duration": 351,
    "start_time": "2023-05-08T07:42:42.044Z"
   },
   {
    "duration": 148,
    "start_time": "2023-05-08T07:43:53.497Z"
   },
   {
    "duration": 2985,
    "start_time": "2023-05-08T07:44:40.591Z"
   },
   {
    "duration": 23,
    "start_time": "2023-05-08T07:44:55.288Z"
   },
   {
    "duration": 22,
    "start_time": "2023-05-08T07:45:24.227Z"
   },
   {
    "duration": 20,
    "start_time": "2023-05-08T07:45:42.919Z"
   },
   {
    "duration": 4,
    "start_time": "2023-05-08T07:48:29.612Z"
   },
   {
    "duration": 6,
    "start_time": "2023-05-08T07:48:46.194Z"
   },
   {
    "duration": 332,
    "start_time": "2023-05-08T07:49:14.113Z"
   },
   {
    "duration": 4,
    "start_time": "2023-05-08T07:53:47.240Z"
   },
   {
    "duration": 302,
    "start_time": "2023-05-08T07:53:48.543Z"
   },
   {
    "duration": 4,
    "start_time": "2023-05-08T07:54:59.611Z"
   },
   {
    "duration": 402,
    "start_time": "2023-05-08T07:55:00.553Z"
   },
   {
    "duration": 3,
    "start_time": "2023-05-08T08:08:03.225Z"
   },
   {
    "duration": 180,
    "start_time": "2023-05-08T08:08:03.934Z"
   },
   {
    "duration": 5,
    "start_time": "2023-05-08T08:08:11.664Z"
   },
   {
    "duration": 310,
    "start_time": "2023-05-08T08:08:12.152Z"
   },
   {
    "duration": 3,
    "start_time": "2023-05-08T08:14:48.464Z"
   },
   {
    "duration": 380,
    "start_time": "2023-05-08T08:14:48.968Z"
   },
   {
    "duration": 777,
    "start_time": "2023-05-08T08:16:33.570Z"
   },
   {
    "duration": 4,
    "start_time": "2023-05-08T08:16:34.348Z"
   },
   {
    "duration": 384,
    "start_time": "2023-05-08T08:16:36.103Z"
   },
   {
    "duration": 5,
    "start_time": "2023-05-08T08:16:49.483Z"
   },
   {
    "duration": 312,
    "start_time": "2023-05-08T08:16:49.860Z"
   },
   {
    "duration": 4,
    "start_time": "2023-05-08T08:21:04.845Z"
   },
   {
    "duration": 3,
    "start_time": "2023-05-08T08:21:19.515Z"
   },
   {
    "duration": 752,
    "start_time": "2023-05-08T08:21:20.062Z"
   },
   {
    "duration": 4,
    "start_time": "2023-05-08T08:21:39.438Z"
   },
   {
    "duration": 358,
    "start_time": "2023-05-08T08:21:39.853Z"
   },
   {
    "duration": 9,
    "start_time": "2023-05-08T08:30:15.932Z"
   },
   {
    "duration": 4,
    "start_time": "2023-05-08T08:30:20.911Z"
   },
   {
    "duration": 2,
    "start_time": "2023-05-08T08:32:17.122Z"
   },
   {
    "duration": 2,
    "start_time": "2023-05-08T08:32:52.095Z"
   },
   {
    "duration": 3,
    "start_time": "2023-05-08T08:32:54.251Z"
   },
   {
    "duration": 3,
    "start_time": "2023-05-08T08:37:22.091Z"
   },
   {
    "duration": 7,
    "start_time": "2023-05-08T08:37:24.133Z"
   },
   {
    "duration": 699,
    "start_time": "2023-05-08T08:41:34.791Z"
   },
   {
    "duration": 52,
    "start_time": "2023-05-08T08:43:08.358Z"
   },
   {
    "duration": 17,
    "start_time": "2023-05-08T08:43:20.891Z"
   },
   {
    "duration": 2,
    "start_time": "2023-05-08T08:43:24.014Z"
   },
   {
    "duration": 6,
    "start_time": "2023-05-08T08:43:38.210Z"
   },
   {
    "duration": 9,
    "start_time": "2023-05-08T08:43:53.289Z"
   },
   {
    "duration": 21,
    "start_time": "2023-05-08T08:44:04.150Z"
   },
   {
    "duration": 19,
    "start_time": "2023-05-08T08:44:35.954Z"
   },
   {
    "duration": 29,
    "start_time": "2023-05-08T08:44:42.535Z"
   },
   {
    "duration": 9,
    "start_time": "2023-05-08T08:45:37.189Z"
   },
   {
    "duration": 21,
    "start_time": "2023-05-08T08:45:46.492Z"
   },
   {
    "duration": 17,
    "start_time": "2023-05-08T08:45:59.805Z"
   },
   {
    "duration": 10,
    "start_time": "2023-05-08T08:46:19.523Z"
   },
   {
    "duration": 41,
    "start_time": "2023-05-08T08:46:31.260Z"
   },
   {
    "duration": 21,
    "start_time": "2023-05-08T08:46:44.892Z"
   },
   {
    "duration": 16,
    "start_time": "2023-05-08T08:46:54.125Z"
   },
   {
    "duration": 12,
    "start_time": "2023-05-08T08:47:54.920Z"
   },
   {
    "duration": 44,
    "start_time": "2023-05-08T08:48:03.843Z"
   },
   {
    "duration": 1298,
    "start_time": "2023-05-08T08:48:50.863Z"
   },
   {
    "duration": 1444,
    "start_time": "2023-05-08T08:49:05.161Z"
   },
   {
    "duration": 5,
    "start_time": "2023-05-08T08:49:19.116Z"
   },
   {
    "duration": 6,
    "start_time": "2023-05-08T08:49:28.309Z"
   },
   {
    "duration": 45,
    "start_time": "2023-05-08T08:49:37.810Z"
   },
   {
    "duration": 34,
    "start_time": "2023-05-08T08:50:34.358Z"
   },
   {
    "duration": 12,
    "start_time": "2023-05-08T08:51:03.050Z"
   },
   {
    "duration": 43,
    "start_time": "2023-05-08T08:51:12.146Z"
   },
   {
    "duration": 20,
    "start_time": "2023-05-08T08:51:43.432Z"
   },
   {
    "duration": 43,
    "start_time": "2023-05-08T08:51:52.064Z"
   },
   {
    "duration": 5,
    "start_time": "2023-05-08T08:52:47.700Z"
   },
   {
    "duration": 37,
    "start_time": "2023-05-08T08:53:12.352Z"
   },
   {
    "duration": 12,
    "start_time": "2023-05-08T08:54:20.095Z"
   },
   {
    "duration": 35,
    "start_time": "2023-05-08T08:54:59.759Z"
   },
   {
    "duration": 4,
    "start_time": "2023-05-08T08:55:12.121Z"
   },
   {
    "duration": 19,
    "start_time": "2023-05-08T08:55:13.514Z"
   },
   {
    "duration": 5,
    "start_time": "2023-05-08T08:55:26.265Z"
   },
   {
    "duration": 5,
    "start_time": "2023-05-08T08:55:29.936Z"
   },
   {
    "duration": 83,
    "start_time": "2023-05-08T08:55:54.548Z"
   },
   {
    "duration": 23,
    "start_time": "2023-05-08T08:55:57.197Z"
   },
   {
    "duration": 7,
    "start_time": "2023-05-08T09:02:23.071Z"
   },
   {
    "duration": 34,
    "start_time": "2023-05-08T09:02:32.907Z"
   },
   {
    "duration": 17,
    "start_time": "2023-05-08T09:03:20.871Z"
   },
   {
    "duration": 9,
    "start_time": "2023-05-08T09:04:30.744Z"
   },
   {
    "duration": 6,
    "start_time": "2023-05-08T09:04:37.599Z"
   },
   {
    "duration": 5,
    "start_time": "2023-05-08T09:04:40.879Z"
   },
   {
    "duration": 20,
    "start_time": "2023-05-08T09:04:41.708Z"
   },
   {
    "duration": 13,
    "start_time": "2023-05-08T09:05:07.814Z"
   },
   {
    "duration": 9,
    "start_time": "2023-05-08T09:05:13.237Z"
   },
   {
    "duration": 5,
    "start_time": "2023-05-08T09:05:14.968Z"
   },
   {
    "duration": 5,
    "start_time": "2023-05-08T09:06:40.288Z"
   },
   {
    "duration": 21,
    "start_time": "2023-05-08T09:06:40.903Z"
   },
   {
    "duration": 3,
    "start_time": "2023-05-08T09:06:57.552Z"
   },
   {
    "duration": 5,
    "start_time": "2023-05-08T09:06:58.015Z"
   },
   {
    "duration": 24,
    "start_time": "2023-05-08T09:06:58.612Z"
   },
   {
    "duration": 3,
    "start_time": "2023-05-08T09:07:15.238Z"
   },
   {
    "duration": 5,
    "start_time": "2023-05-08T09:07:22.963Z"
   },
   {
    "duration": 8,
    "start_time": "2023-05-08T09:16:26.793Z"
   },
   {
    "duration": 7,
    "start_time": "2023-05-08T09:16:59.917Z"
   },
   {
    "duration": 10,
    "start_time": "2023-05-08T09:17:18.874Z"
   },
   {
    "duration": 8,
    "start_time": "2023-05-08T09:17:31.114Z"
   },
   {
    "duration": 82,
    "start_time": "2023-05-08T09:27:57.525Z"
   },
   {
    "duration": 6,
    "start_time": "2023-05-08T09:28:01.688Z"
   },
   {
    "duration": 4,
    "start_time": "2023-05-08T09:28:24.954Z"
   },
   {
    "duration": 1275,
    "start_time": "2023-05-08T13:45:17.502Z"
   },
   {
    "duration": 2567,
    "start_time": "2023-05-08T13:45:18.779Z"
   },
   {
    "duration": 5,
    "start_time": "2023-05-08T13:45:21.348Z"
   },
   {
    "duration": 404,
    "start_time": "2023-05-08T13:45:21.354Z"
   },
   {
    "duration": 12,
    "start_time": "2023-05-08T13:45:22.623Z"
   },
   {
    "duration": 5,
    "start_time": "2023-05-08T13:45:23.687Z"
   },
   {
    "duration": 6,
    "start_time": "2023-05-08T13:45:24.129Z"
   },
   {
    "duration": 15,
    "start_time": "2023-05-08T13:45:24.532Z"
   },
   {
    "duration": 7,
    "start_time": "2023-05-08T13:45:25.837Z"
   },
   {
    "duration": 7,
    "start_time": "2023-05-08T13:46:05.409Z"
   },
   {
    "duration": 1148,
    "start_time": "2023-05-08T18:42:26.411Z"
   },
   {
    "duration": 3860,
    "start_time": "2023-05-08T18:42:27.561Z"
   },
   {
    "duration": 5,
    "start_time": "2023-05-08T18:42:31.424Z"
   },
   {
    "duration": 388,
    "start_time": "2023-05-08T18:42:31.431Z"
   },
   {
    "duration": 26,
    "start_time": "2023-05-08T18:42:35.594Z"
   },
   {
    "duration": 4,
    "start_time": "2023-05-08T18:42:37.416Z"
   },
   {
    "duration": 8,
    "start_time": "2023-05-08T18:42:37.902Z"
   },
   {
    "duration": 10,
    "start_time": "2023-05-08T18:42:38.436Z"
   },
   {
    "duration": 4,
    "start_time": "2023-05-08T18:42:39.435Z"
   },
   {
    "duration": 104,
    "start_time": "2023-05-08T18:44:14.497Z"
   },
   {
    "duration": 758,
    "start_time": "2023-05-08T18:44:23.708Z"
   },
   {
    "duration": 1876,
    "start_time": "2023-05-08T18:44:52.994Z"
   },
   {
    "duration": 323,
    "start_time": "2023-05-08T18:45:11.830Z"
   },
   {
    "duration": 332,
    "start_time": "2023-05-08T18:45:15.331Z"
   },
   {
    "duration": 405,
    "start_time": "2023-05-08T18:46:03.865Z"
   },
   {
    "duration": 418,
    "start_time": "2023-05-08T18:46:13.671Z"
   },
   {
    "duration": 473,
    "start_time": "2023-05-08T18:46:20.921Z"
   },
   {
    "duration": 1521,
    "start_time": "2023-05-08T18:47:36.608Z"
   },
   {
    "duration": 1473,
    "start_time": "2023-05-08T18:48:52.396Z"
   },
   {
    "duration": 100,
    "start_time": "2023-05-08T18:49:07.810Z"
   },
   {
    "duration": 97,
    "start_time": "2023-05-08T18:49:18.439Z"
   },
   {
    "duration": 1663,
    "start_time": "2023-05-08T18:49:26.158Z"
   },
   {
    "duration": 1584,
    "start_time": "2023-05-08T18:51:09.865Z"
   },
   {
    "duration": 10,
    "start_time": "2023-05-08T18:54:50.336Z"
   },
   {
    "duration": 4,
    "start_time": "2023-05-08T18:57:00.027Z"
   },
   {
    "duration": 10,
    "start_time": "2023-05-08T18:57:03.552Z"
   },
   {
    "duration": 21,
    "start_time": "2023-05-08T19:00:36.392Z"
   },
   {
    "duration": 11,
    "start_time": "2023-05-08T19:01:26.934Z"
   },
   {
    "duration": 12,
    "start_time": "2023-05-08T19:01:49.798Z"
   },
   {
    "duration": 10,
    "start_time": "2023-05-08T19:01:57.815Z"
   },
   {
    "duration": 5,
    "start_time": "2023-05-08T19:06:15.893Z"
   },
   {
    "duration": 4,
    "start_time": "2023-05-08T19:06:24.089Z"
   },
   {
    "duration": 5,
    "start_time": "2023-05-08T19:07:32.316Z"
   },
   {
    "duration": 15,
    "start_time": "2023-05-08T19:07:42.566Z"
   },
   {
    "duration": 7,
    "start_time": "2023-05-08T19:09:03.706Z"
   },
   {
    "duration": 6,
    "start_time": "2023-05-08T19:09:10.025Z"
   },
   {
    "duration": 11,
    "start_time": "2023-05-08T19:09:25.110Z"
   },
   {
    "duration": 25,
    "start_time": "2023-05-08T19:09:29.784Z"
   },
   {
    "duration": 14,
    "start_time": "2023-05-08T19:09:37.694Z"
   },
   {
    "duration": 3,
    "start_time": "2023-05-08T19:09:44.824Z"
   },
   {
    "duration": 140,
    "start_time": "2023-05-08T19:10:39.971Z"
   },
   {
    "duration": 117,
    "start_time": "2023-05-08T19:10:43.862Z"
   },
   {
    "duration": 123,
    "start_time": "2023-05-08T19:10:54.300Z"
   },
   {
    "duration": 8,
    "start_time": "2023-05-08T19:21:54.139Z"
   },
   {
    "duration": 8,
    "start_time": "2023-05-08T19:23:38.515Z"
   },
   {
    "duration": 9,
    "start_time": "2023-05-08T19:24:11.421Z"
   },
   {
    "duration": 9,
    "start_time": "2023-05-08T19:24:40.442Z"
   },
   {
    "duration": 10,
    "start_time": "2023-05-08T19:24:47.715Z"
   },
   {
    "duration": 3,
    "start_time": "2023-05-08T19:25:27.438Z"
   },
   {
    "duration": 12,
    "start_time": "2023-05-08T19:25:39.388Z"
   },
   {
    "duration": 1358,
    "start_time": "2023-05-08T19:25:45.906Z"
   },
   {
    "duration": 1345,
    "start_time": "2023-05-08T19:26:16.707Z"
   },
   {
    "duration": 1666,
    "start_time": "2023-05-08T19:26:35.689Z"
   },
   {
    "duration": 3,
    "start_time": "2023-05-08T19:26:43.241Z"
   },
   {
    "duration": 10,
    "start_time": "2023-05-08T19:27:08.757Z"
   },
   {
    "duration": 71,
    "start_time": "2023-05-08T19:27:16.257Z"
   },
   {
    "duration": 11,
    "start_time": "2023-05-08T19:27:27.861Z"
   },
   {
    "duration": 15,
    "start_time": "2023-05-08T19:35:28.427Z"
   },
   {
    "duration": 13,
    "start_time": "2023-05-08T19:35:48.384Z"
   },
   {
    "duration": 8,
    "start_time": "2023-05-08T19:36:45.226Z"
   },
   {
    "duration": 5,
    "start_time": "2023-05-08T19:37:09.253Z"
   },
   {
    "duration": 6,
    "start_time": "2023-05-08T19:37:32.950Z"
   },
   {
    "duration": 1081,
    "start_time": "2023-05-09T08:22:21.661Z"
   },
   {
    "duration": 2390,
    "start_time": "2023-05-09T08:22:22.744Z"
   },
   {
    "duration": 4,
    "start_time": "2023-05-09T08:22:25.135Z"
   },
   {
    "duration": 393,
    "start_time": "2023-05-09T08:22:25.141Z"
   },
   {
    "duration": 13,
    "start_time": "2023-05-09T08:22:25.537Z"
   },
   {
    "duration": 20,
    "start_time": "2023-05-09T08:22:25.552Z"
   },
   {
    "duration": 53,
    "start_time": "2023-05-09T08:22:25.574Z"
   },
   {
    "duration": 55,
    "start_time": "2023-05-09T08:22:25.629Z"
   },
   {
    "duration": 8,
    "start_time": "2023-05-09T08:22:25.685Z"
   },
   {
    "duration": 13,
    "start_time": "2023-05-09T08:22:25.694Z"
   },
   {
    "duration": 2105,
    "start_time": "2023-05-09T08:22:25.708Z"
   },
   {
    "duration": 15,
    "start_time": "2023-05-09T08:22:27.816Z"
   },
   {
    "duration": 11,
    "start_time": "2023-05-09T08:22:27.833Z"
   },
   {
    "duration": 159,
    "start_time": "2023-05-09T08:22:27.847Z"
   },
   {
    "duration": 5,
    "start_time": "2023-05-09T08:22:28.008Z"
   },
   {
    "duration": 16,
    "start_time": "2023-05-09T08:22:28.015Z"
   },
   {
    "duration": 5,
    "start_time": "2023-05-09T08:22:28.033Z"
   },
   {
    "duration": 52,
    "start_time": "2023-05-09T08:32:27.927Z"
   },
   {
    "duration": 6,
    "start_time": "2023-05-09T08:36:11.714Z"
   },
   {
    "duration": 4,
    "start_time": "2023-05-09T08:37:09.522Z"
   },
   {
    "duration": 7,
    "start_time": "2023-05-09T08:38:01.453Z"
   },
   {
    "duration": 103,
    "start_time": "2023-05-09T08:46:59.527Z"
   },
   {
    "duration": 8,
    "start_time": "2023-05-09T08:47:10.039Z"
   },
   {
    "duration": 18,
    "start_time": "2023-05-09T08:50:20.905Z"
   },
   {
    "duration": 9,
    "start_time": "2023-05-09T08:50:43.386Z"
   },
   {
    "duration": 10,
    "start_time": "2023-05-09T08:51:03.965Z"
   },
   {
    "duration": 105,
    "start_time": "2023-05-09T08:52:42.957Z"
   },
   {
    "duration": 118,
    "start_time": "2023-05-09T08:53:23.519Z"
   },
   {
    "duration": 10,
    "start_time": "2023-05-09T08:53:51.768Z"
   },
   {
    "duration": 11,
    "start_time": "2023-05-09T08:53:52.312Z"
   },
   {
    "duration": 1253,
    "start_time": "2023-05-09T08:53:52.822Z"
   },
   {
    "duration": 1323,
    "start_time": "2023-05-09T08:54:17.925Z"
   },
   {
    "duration": 9,
    "start_time": "2023-05-09T08:54:37.742Z"
   },
   {
    "duration": 384,
    "start_time": "2023-05-09T08:54:44.503Z"
   },
   {
    "duration": 1107,
    "start_time": "2023-05-09T08:54:48.377Z"
   },
   {
    "duration": 3,
    "start_time": "2023-05-09T09:00:25.313Z"
   },
   {
    "duration": 825,
    "start_time": "2023-05-09T09:00:25.323Z"
   },
   {
    "duration": 4,
    "start_time": "2023-05-09T09:00:26.150Z"
   },
   {
    "duration": 409,
    "start_time": "2023-05-09T09:00:26.156Z"
   },
   {
    "duration": 7,
    "start_time": "2023-05-09T09:00:26.567Z"
   },
   {
    "duration": 17,
    "start_time": "2023-05-09T09:00:26.590Z"
   },
   {
    "duration": 29,
    "start_time": "2023-05-09T09:00:26.608Z"
   },
   {
    "duration": 36,
    "start_time": "2023-05-09T09:00:26.638Z"
   },
   {
    "duration": 39,
    "start_time": "2023-05-09T09:00:26.675Z"
   },
   {
    "duration": 16,
    "start_time": "2023-05-09T09:00:26.716Z"
   },
   {
    "duration": 1655,
    "start_time": "2023-05-09T09:00:26.734Z"
   },
   {
    "duration": 12,
    "start_time": "2023-05-09T09:00:28.397Z"
   },
   {
    "duration": 17,
    "start_time": "2023-05-09T09:00:28.410Z"
   },
   {
    "duration": 145,
    "start_time": "2023-05-09T09:00:28.428Z"
   },
   {
    "duration": 12,
    "start_time": "2023-05-09T09:00:28.576Z"
   },
   {
    "duration": 22,
    "start_time": "2023-05-09T09:00:28.591Z"
   },
   {
    "duration": 6,
    "start_time": "2023-05-09T09:00:28.615Z"
   },
   {
    "duration": 8,
    "start_time": "2023-05-09T09:00:28.622Z"
   },
   {
    "duration": 11,
    "start_time": "2023-05-09T09:00:28.632Z"
   },
   {
    "duration": 12,
    "start_time": "2023-05-09T09:00:28.645Z"
   },
   {
    "duration": 1038,
    "start_time": "2023-05-09T09:00:28.659Z"
   },
   {
    "duration": 262,
    "start_time": "2023-05-09T09:00:29.702Z"
   },
   {
    "duration": 14456,
    "start_time": "2023-05-09T09:01:00.666Z"
   },
   {
    "duration": 64267,
    "start_time": "2023-05-09T09:31:12.930Z"
   },
   {
    "duration": 14232,
    "start_time": "2023-05-09T09:32:19.341Z"
   },
   {
    "duration": 126477,
    "start_time": "2023-05-09T09:32:55.408Z"
   },
   {
    "duration": 3166157,
    "start_time": "2023-05-09T09:35:09.928Z"
   },
   {
    "duration": 257,
    "start_time": "2023-05-09T10:34:26.371Z"
   },
   {
    "duration": 248,
    "start_time": "2023-05-09T10:36:38.870Z"
   },
   {
    "duration": 230,
    "start_time": "2023-05-09T10:36:54.262Z"
   },
   {
    "duration": 259,
    "start_time": "2023-05-09T10:36:59.069Z"
   },
   {
    "duration": 267,
    "start_time": "2023-05-09T10:37:12.040Z"
   },
   {
    "duration": 259,
    "start_time": "2023-05-09T10:37:30.631Z"
   },
   {
    "duration": 248,
    "start_time": "2023-05-09T10:37:48.859Z"
   },
   {
    "duration": 248,
    "start_time": "2023-05-09T10:38:03.590Z"
   },
   {
    "duration": 260,
    "start_time": "2023-05-09T10:38:07.307Z"
   },
   {
    "duration": 271,
    "start_time": "2023-05-09T10:38:23.338Z"
   },
   {
    "duration": 266,
    "start_time": "2023-05-09T10:38:53.738Z"
   },
   {
    "duration": 286,
    "start_time": "2023-05-09T10:48:30.213Z"
   },
   {
    "duration": 1634,
    "start_time": "2023-05-09T10:51:39.685Z"
   },
   {
    "duration": 1514,
    "start_time": "2023-05-09T10:52:04.560Z"
   },
   {
    "duration": 1557,
    "start_time": "2023-05-09T10:53:03.974Z"
   },
   {
    "duration": 1635,
    "start_time": "2023-05-09T10:53:41.914Z"
   },
   {
    "duration": 246,
    "start_time": "2023-05-09T10:54:31.612Z"
   },
   {
    "duration": 236,
    "start_time": "2023-05-09T10:55:08.853Z"
   },
   {
    "duration": 1422,
    "start_time": "2023-05-09T10:55:59.538Z"
   },
   {
    "duration": 240,
    "start_time": "2023-05-09T10:56:35.491Z"
   },
   {
    "duration": 1457,
    "start_time": "2023-05-09T10:58:01.532Z"
   },
   {
    "duration": 853,
    "start_time": "2023-05-09T10:58:21.902Z"
   },
   {
    "duration": 79,
    "start_time": "2023-05-09T10:59:00.776Z"
   },
   {
    "duration": 305,
    "start_time": "2023-05-09T10:59:04.033Z"
   },
   {
    "duration": 25,
    "start_time": "2023-05-09T11:04:43.293Z"
   },
   {
    "duration": 326,
    "start_time": "2023-05-09T11:06:35.302Z"
   },
   {
    "duration": 323,
    "start_time": "2023-05-09T11:06:47.110Z"
   },
   {
    "duration": 319,
    "start_time": "2023-05-09T11:07:00.672Z"
   },
   {
    "duration": 277,
    "start_time": "2023-05-09T11:07:50.633Z"
   },
   {
    "duration": 274,
    "start_time": "2023-05-09T11:08:01.612Z"
   },
   {
    "duration": 5,
    "start_time": "2023-05-09T12:04:47.162Z"
   },
   {
    "duration": 4,
    "start_time": "2023-05-09T12:09:14.235Z"
   },
   {
    "duration": 7,
    "start_time": "2023-05-09T12:09:14.940Z"
   },
   {
    "duration": 6,
    "start_time": "2023-05-09T12:09:15.348Z"
   },
   {
    "duration": 1021,
    "start_time": "2023-05-09T12:09:59.746Z"
   },
   {
    "duration": 5,
    "start_time": "2023-05-09T12:10:00.769Z"
   },
   {
    "duration": 400,
    "start_time": "2023-05-09T12:10:00.776Z"
   },
   {
    "duration": 10,
    "start_time": "2023-05-09T12:10:02.543Z"
   },
   {
    "duration": 3,
    "start_time": "2023-05-09T12:10:03.348Z"
   },
   {
    "duration": 7,
    "start_time": "2023-05-09T12:10:03.746Z"
   },
   {
    "duration": 8,
    "start_time": "2023-05-09T12:10:04.246Z"
   },
   {
    "duration": 3,
    "start_time": "2023-05-09T12:10:51.701Z"
   },
   {
    "duration": 895,
    "start_time": "2023-05-09T12:11:00.164Z"
   },
   {
    "duration": 4,
    "start_time": "2023-05-09T12:11:01.061Z"
   },
   {
    "duration": 376,
    "start_time": "2023-05-09T12:11:01.067Z"
   },
   {
    "duration": 3,
    "start_time": "2023-05-09T12:11:02.250Z"
   },
   {
    "duration": 4,
    "start_time": "2023-05-09T12:11:03.650Z"
   },
   {
    "duration": 10,
    "start_time": "2023-05-09T12:11:04.083Z"
   },
   {
    "duration": 7,
    "start_time": "2023-05-09T12:11:04.579Z"
   },
   {
    "duration": 6,
    "start_time": "2023-05-09T12:11:42.258Z"
   },
   {
    "duration": 418,
    "start_time": "2023-05-09T12:11:42.667Z"
   },
   {
    "duration": 4,
    "start_time": "2023-05-09T12:11:46.810Z"
   },
   {
    "duration": 5,
    "start_time": "2023-05-09T12:11:47.346Z"
   },
   {
    "duration": 6,
    "start_time": "2023-05-09T12:11:48.156Z"
   },
   {
    "duration": 3,
    "start_time": "2023-05-09T12:12:01.751Z"
   },
   {
    "duration": 790,
    "start_time": "2023-05-09T12:12:02.272Z"
   },
   {
    "duration": 4,
    "start_time": "2023-05-09T12:12:03.063Z"
   },
   {
    "duration": 371,
    "start_time": "2023-05-09T12:12:03.266Z"
   },
   {
    "duration": 3,
    "start_time": "2023-05-09T12:12:05.077Z"
   },
   {
    "duration": 3,
    "start_time": "2023-05-09T12:12:06.680Z"
   },
   {
    "duration": 4,
    "start_time": "2023-05-09T12:12:07.362Z"
   },
   {
    "duration": 8,
    "start_time": "2023-05-09T12:12:08.095Z"
   },
   {
    "duration": 2,
    "start_time": "2023-05-09T12:12:36.646Z"
   },
   {
    "duration": 5,
    "start_time": "2023-05-09T12:12:43.448Z"
   },
   {
    "duration": 3,
    "start_time": "2023-05-09T12:12:54.751Z"
   },
   {
    "duration": 1679,
    "start_time": "2023-05-09T12:12:55.441Z"
   },
   {
    "duration": 15,
    "start_time": "2023-05-09T12:13:04.764Z"
   },
   {
    "duration": 5,
    "start_time": "2023-05-09T12:13:07.094Z"
   },
   {
    "duration": 147,
    "start_time": "2023-05-09T12:13:07.796Z"
   },
   {
    "duration": 10,
    "start_time": "2023-05-09T12:13:10.588Z"
   },
   {
    "duration": 15,
    "start_time": "2023-05-09T12:13:19.758Z"
   },
   {
    "duration": 4,
    "start_time": "2023-05-09T12:14:44.008Z"
   },
   {
    "duration": 5,
    "start_time": "2023-05-09T12:15:09.450Z"
   },
   {
    "duration": 7,
    "start_time": "2023-05-09T12:15:12.670Z"
   },
   {
    "duration": 6,
    "start_time": "2023-05-09T12:15:19.446Z"
   },
   {
    "duration": 18,
    "start_time": "2023-05-09T12:15:19.862Z"
   },
   {
    "duration": 1313,
    "start_time": "2023-05-09T12:15:20.301Z"
   },
   {
    "duration": 15696,
    "start_time": "2023-05-09T12:15:43.448Z"
   },
   {
    "duration": 18,
    "start_time": "2023-05-09T12:51:22.698Z"
   },
   {
    "duration": 4,
    "start_time": "2023-05-09T12:52:04.648Z"
   },
   {
    "duration": 12,
    "start_time": "2023-05-09T12:52:17.010Z"
   },
   {
    "duration": 5,
    "start_time": "2023-05-09T12:52:25.738Z"
   },
   {
    "duration": 10,
    "start_time": "2023-05-09T12:52:26.423Z"
   },
   {
    "duration": 11,
    "start_time": "2023-05-09T12:52:35.285Z"
   },
   {
    "duration": 25,
    "start_time": "2023-05-09T12:52:36.443Z"
   },
   {
    "duration": 5,
    "start_time": "2023-05-09T12:53:08.264Z"
   },
   {
    "duration": 25,
    "start_time": "2023-05-09T12:53:08.815Z"
   },
   {
    "duration": 536,
    "start_time": "2023-05-09T12:53:33.379Z"
   },
   {
    "duration": 71,
    "start_time": "2023-05-09T13:21:48.362Z"
   },
   {
    "duration": 345,
    "start_time": "2023-05-09T13:24:15.880Z"
   },
   {
    "duration": 5,
    "start_time": "2023-05-09T13:24:19.475Z"
   },
   {
    "duration": 40,
    "start_time": "2023-05-09T13:24:20.935Z"
   },
   {
    "duration": 32,
    "start_time": "2023-05-09T13:28:44.373Z"
   },
   {
    "duration": 60,
    "start_time": "2023-05-09T13:29:15.808Z"
   },
   {
    "duration": 5,
    "start_time": "2023-05-09T13:31:04.852Z"
   },
   {
    "duration": 804,
    "start_time": "2023-05-09T13:31:17.454Z"
   },
   {
    "duration": 747,
    "start_time": "2023-05-09T13:32:27.100Z"
   },
   {
    "duration": 733,
    "start_time": "2023-05-09T13:32:33.578Z"
   },
   {
    "duration": 4,
    "start_time": "2023-05-09T13:33:45.576Z"
   },
   {
    "duration": 28,
    "start_time": "2023-05-09T13:33:50.339Z"
   },
   {
    "duration": 477,
    "start_time": "2023-05-09T13:34:39.850Z"
   },
   {
    "duration": 31,
    "start_time": "2023-05-09T13:34:40.433Z"
   },
   {
    "duration": 6,
    "start_time": "2023-05-09T13:34:46.533Z"
   },
   {
    "duration": 30,
    "start_time": "2023-05-09T13:34:47.899Z"
   },
   {
    "duration": 35,
    "start_time": "2023-05-09T13:38:22.158Z"
   },
   {
    "duration": 3,
    "start_time": "2023-05-09T13:38:29.501Z"
   },
   {
    "duration": 1687,
    "start_time": "2023-05-09T13:38:29.943Z"
   },
   {
    "duration": 13,
    "start_time": "2023-05-09T13:38:37.514Z"
   },
   {
    "duration": 5,
    "start_time": "2023-05-09T13:38:38.433Z"
   },
   {
    "duration": 173,
    "start_time": "2023-05-09T13:38:38.981Z"
   },
   {
    "duration": 5,
    "start_time": "2023-05-09T13:38:39.412Z"
   },
   {
    "duration": 14,
    "start_time": "2023-05-09T13:38:42.630Z"
   },
   {
    "duration": 4,
    "start_time": "2023-05-09T13:38:53.461Z"
   },
   {
    "duration": 9,
    "start_time": "2023-05-09T13:38:53.908Z"
   },
   {
    "duration": 8,
    "start_time": "2023-05-09T13:38:54.400Z"
   },
   {
    "duration": 1400,
    "start_time": "2023-05-09T13:41:09.753Z"
   },
   {
    "duration": 5,
    "start_time": "2023-05-09T13:41:28.335Z"
   },
   {
    "duration": 3,
    "start_time": "2023-05-09T13:49:31.412Z"
   },
   {
    "duration": 3,
    "start_time": "2023-05-09T13:50:06.014Z"
   },
   {
    "duration": 28,
    "start_time": "2023-05-09T13:51:24.376Z"
   },
   {
    "duration": 629,
    "start_time": "2023-05-09T13:51:50.801Z"
   },
   {
    "duration": 1429,
    "start_time": "2023-05-09T13:52:07.510Z"
   },
   {
    "duration": 24,
    "start_time": "2023-05-09T13:52:29.892Z"
   },
   {
    "duration": 1626,
    "start_time": "2023-05-09T13:53:33.874Z"
   },
   {
    "duration": 11,
    "start_time": "2023-05-09T13:53:47.036Z"
   },
   {
    "duration": 6,
    "start_time": "2023-05-09T13:54:19.165Z"
   },
   {
    "duration": 1616,
    "start_time": "2023-05-10T09:00:14.367Z"
   },
   {
    "duration": 2783,
    "start_time": "2023-05-10T09:00:15.985Z"
   },
   {
    "duration": 3,
    "start_time": "2023-05-10T09:00:20.817Z"
   },
   {
    "duration": 4,
    "start_time": "2023-05-10T09:00:27.704Z"
   },
   {
    "duration": 365,
    "start_time": "2023-05-10T09:00:31.750Z"
   },
   {
    "duration": 5,
    "start_time": "2023-05-10T09:01:07.642Z"
   },
   {
    "duration": 7,
    "start_time": "2023-05-10T09:01:28.915Z"
   },
   {
    "duration": 5,
    "start_time": "2023-05-10T09:03:15.863Z"
   },
   {
    "duration": 3,
    "start_time": "2023-05-10T09:04:16.566Z"
   },
   {
    "duration": 6,
    "start_time": "2023-05-10T09:04:19.888Z"
   },
   {
    "duration": 5,
    "start_time": "2023-05-10T09:04:20.379Z"
   },
   {
    "duration": 5,
    "start_time": "2023-05-10T09:04:23.488Z"
   },
   {
    "duration": 838,
    "start_time": "2023-05-10T09:06:08.902Z"
   },
   {
    "duration": 4,
    "start_time": "2023-05-10T09:06:11.541Z"
   },
   {
    "duration": 379,
    "start_time": "2023-05-10T09:06:11.972Z"
   },
   {
    "duration": 5,
    "start_time": "2023-05-10T09:06:19.078Z"
   },
   {
    "duration": 5,
    "start_time": "2023-05-10T09:06:29.484Z"
   },
   {
    "duration": 4,
    "start_time": "2023-05-10T09:06:30.416Z"
   },
   {
    "duration": 5,
    "start_time": "2023-05-10T09:06:31.751Z"
   },
   {
    "duration": 5,
    "start_time": "2023-05-10T09:06:32.192Z"
   },
   {
    "duration": 4,
    "start_time": "2023-05-10T09:06:33.181Z"
   },
   {
    "duration": 311,
    "start_time": "2023-05-10T09:06:37.956Z"
   },
   {
    "duration": 4,
    "start_time": "2023-05-10T09:35:58.764Z"
   },
   {
    "duration": 31,
    "start_time": "2023-05-10T09:36:08.065Z"
   },
   {
    "duration": 2,
    "start_time": "2023-05-10T09:36:26.796Z"
   },
   {
    "duration": 1565,
    "start_time": "2023-05-10T09:36:27.590Z"
   },
   {
    "duration": 11,
    "start_time": "2023-05-10T09:36:36.114Z"
   },
   {
    "duration": 4,
    "start_time": "2023-05-10T09:36:37.621Z"
   },
   {
    "duration": 213,
    "start_time": "2023-05-10T09:36:51.552Z"
   },
   {
    "duration": 5,
    "start_time": "2023-05-10T09:37:00.833Z"
   },
   {
    "duration": 9,
    "start_time": "2023-05-10T09:37:03.574Z"
   },
   {
    "duration": 5,
    "start_time": "2023-05-10T09:37:19.212Z"
   },
   {
    "duration": 5,
    "start_time": "2023-05-10T09:37:23.435Z"
   },
   {
    "duration": 5,
    "start_time": "2023-05-10T09:37:29.763Z"
   },
   {
    "duration": 4,
    "start_time": "2023-05-10T09:37:32.398Z"
   },
   {
    "duration": 10,
    "start_time": "2023-05-10T09:37:37.715Z"
   },
   {
    "duration": 4,
    "start_time": "2023-05-10T09:45:32.495Z"
   },
   {
    "duration": 7,
    "start_time": "2023-05-10T09:45:33.091Z"
   },
   {
    "duration": 6,
    "start_time": "2023-05-10T09:45:34.974Z"
   },
   {
    "duration": 13,
    "start_time": "2023-05-10T09:48:01.850Z"
   },
   {
    "duration": 19,
    "start_time": "2023-05-10T09:49:12.165Z"
   },
   {
    "duration": 404,
    "start_time": "2023-05-10T09:50:17.984Z"
   },
   {
    "duration": 384,
    "start_time": "2023-05-10T09:55:28.208Z"
   },
   {
    "duration": 643,
    "start_time": "2023-05-10T09:55:33.546Z"
   },
   {
    "duration": 608,
    "start_time": "2023-05-10T09:57:11.279Z"
   },
   {
    "duration": 12865,
    "start_time": "2023-05-10T09:58:21.032Z"
   },
   {
    "duration": 13978,
    "start_time": "2023-05-10T10:00:06.670Z"
   },
   {
    "duration": 3,
    "start_time": "2023-05-10T10:06:15.778Z"
   },
   {
    "duration": 12,
    "start_time": "2023-05-10T10:13:48.847Z"
   },
   {
    "duration": 3,
    "start_time": "2023-05-10T10:14:05.381Z"
   },
   {
    "duration": 3814,
    "start_time": "2023-05-10T10:14:10.298Z"
   },
   {
    "duration": 4,
    "start_time": "2023-05-10T10:14:58.668Z"
   },
   {
    "duration": 2793,
    "start_time": "2023-05-10T10:15:03.546Z"
   },
   {
    "duration": 3,
    "start_time": "2023-05-10T10:16:07.257Z"
   },
   {
    "duration": 14,
    "start_time": "2023-05-10T10:16:10.197Z"
   },
   {
    "duration": 3,
    "start_time": "2023-05-10T10:16:28.389Z"
   },
   {
    "duration": 6,
    "start_time": "2023-05-10T10:16:31.193Z"
   },
   {
    "duration": 3,
    "start_time": "2023-05-10T10:17:13.304Z"
   },
   {
    "duration": 6,
    "start_time": "2023-05-10T10:17:18.629Z"
   },
   {
    "duration": 6,
    "start_time": "2023-05-10T10:18:37.193Z"
   },
   {
    "duration": 6,
    "start_time": "2023-05-10T10:18:50.831Z"
   },
   {
    "duration": 13106,
    "start_time": "2023-05-10T10:19:54.925Z"
   },
   {
    "duration": 12852,
    "start_time": "2023-05-10T10:20:51.364Z"
   },
   {
    "duration": 13756,
    "start_time": "2023-05-10T10:21:13.405Z"
   },
   {
    "duration": 6,
    "start_time": "2023-05-10T10:22:03.706Z"
   },
   {
    "duration": 10,
    "start_time": "2023-05-10T10:22:12.514Z"
   },
   {
    "duration": 10,
    "start_time": "2023-05-10T10:22:38.515Z"
   },
   {
    "duration": 13558,
    "start_time": "2023-05-10T10:22:52.175Z"
   },
   {
    "duration": 9,
    "start_time": "2023-05-10T10:23:08.041Z"
   },
   {
    "duration": 13627,
    "start_time": "2023-05-10T10:23:59.527Z"
   },
   {
    "duration": 10,
    "start_time": "2023-05-10T10:24:18.113Z"
   },
   {
    "duration": 8,
    "start_time": "2023-05-10T10:24:55.327Z"
   },
   {
    "duration": 10,
    "start_time": "2023-05-10T10:24:58.880Z"
   },
   {
    "duration": 10,
    "start_time": "2023-05-10T10:26:11.780Z"
   },
   {
    "duration": 13276,
    "start_time": "2023-05-10T10:26:21.823Z"
   },
   {
    "duration": 9,
    "start_time": "2023-05-10T10:26:37.323Z"
   },
   {
    "duration": 14002,
    "start_time": "2023-05-10T10:27:31.263Z"
   },
   {
    "duration": 15124,
    "start_time": "2023-05-10T10:27:54.307Z"
   },
   {
    "duration": 7,
    "start_time": "2023-05-10T10:28:10.251Z"
   },
   {
    "duration": 6563,
    "start_time": "2023-05-10T10:30:48.390Z"
   },
   {
    "duration": 103381,
    "start_time": "2023-05-10T10:31:00.787Z"
   },
   {
    "duration": 2175,
    "start_time": "2023-05-10T10:33:32.429Z"
   },
   {
    "duration": 2228,
    "start_time": "2023-05-10T10:33:56.666Z"
   },
   {
    "duration": 2183,
    "start_time": "2023-05-10T10:34:15.154Z"
   },
   {
    "duration": 108181,
    "start_time": "2023-05-10T10:34:40.741Z"
   },
   {
    "duration": 5,
    "start_time": "2023-05-10T10:37:26.800Z"
   },
   {
    "duration": 5,
    "start_time": "2023-05-10T10:39:38.243Z"
   },
   {
    "duration": 8,
    "start_time": "2023-05-10T10:41:03.715Z"
   },
   {
    "duration": 6,
    "start_time": "2023-05-10T10:41:56.698Z"
   },
   {
    "duration": 49903,
    "start_time": "2023-05-10T10:43:05.414Z"
   },
   {
    "duration": 25,
    "start_time": "2023-05-10T10:44:29.967Z"
   },
   {
    "duration": 10,
    "start_time": "2023-05-10T10:44:39.437Z"
   },
   {
    "duration": 26,
    "start_time": "2023-05-10T10:44:56.549Z"
   },
   {
    "duration": 7,
    "start_time": "2023-05-10T10:45:07.822Z"
   },
   {
    "duration": 6,
    "start_time": "2023-05-10T10:46:10.584Z"
   },
   {
    "duration": 7,
    "start_time": "2023-05-10T10:46:12.836Z"
   },
   {
    "duration": 15,
    "start_time": "2023-05-10T10:46:35.189Z"
   },
   {
    "duration": 21,
    "start_time": "2023-05-10T10:46:37.284Z"
   },
   {
    "duration": 719,
    "start_time": "2023-05-10T10:46:39.565Z"
   },
   {
    "duration": 8,
    "start_time": "2023-05-10T10:46:46.279Z"
   },
   {
    "duration": 2419,
    "start_time": "2023-05-10T10:46:58.730Z"
   },
   {
    "duration": 6,
    "start_time": "2023-05-10T10:47:09.030Z"
   },
   {
    "duration": 1047,
    "start_time": "2023-05-10T10:47:09.810Z"
   },
   {
    "duration": 4,
    "start_time": "2023-05-10T10:49:18.383Z"
   },
   {
    "duration": 25,
    "start_time": "2023-05-10T10:50:01.682Z"
   },
   {
    "duration": 4,
    "start_time": "2023-05-10T10:50:18.293Z"
   },
   {
    "duration": 8,
    "start_time": "2023-05-10T10:50:36.879Z"
   },
   {
    "duration": 1138,
    "start_time": "2023-05-10T10:50:37.658Z"
   },
   {
    "duration": 6,
    "start_time": "2023-05-10T10:51:11.742Z"
   },
   {
    "duration": 10,
    "start_time": "2023-05-10T11:01:07.385Z"
   },
   {
    "duration": 18,
    "start_time": "2023-05-10T11:01:59.015Z"
   },
   {
    "duration": 8,
    "start_time": "2023-05-10T11:02:07.699Z"
   },
   {
    "duration": 7,
    "start_time": "2023-05-10T11:02:13.070Z"
   },
   {
    "duration": 7,
    "start_time": "2023-05-10T11:02:14.168Z"
   },
   {
    "duration": 7,
    "start_time": "2023-05-10T11:02:41.369Z"
   },
   {
    "duration": 5,
    "start_time": "2023-05-10T11:03:24.294Z"
   },
   {
    "duration": 44,
    "start_time": "2023-05-10T11:03:30.236Z"
   },
   {
    "duration": 45,
    "start_time": "2023-05-10T11:03:58.993Z"
   },
   {
    "duration": 6,
    "start_time": "2023-05-10T11:05:15.833Z"
   },
   {
    "duration": 786,
    "start_time": "2023-05-10T11:08:19.907Z"
   },
   {
    "duration": 326,
    "start_time": "2023-05-10T11:08:24.485Z"
   },
   {
    "duration": 18,
    "start_time": "2023-05-10T11:09:15.749Z"
   },
   {
    "duration": 116,
    "start_time": "2023-05-10T11:10:13.309Z"
   },
   {
    "duration": 126,
    "start_time": "2023-05-10T11:10:42.000Z"
   },
   {
    "duration": 98,
    "start_time": "2023-05-10T11:10:49.361Z"
   },
   {
    "duration": 208,
    "start_time": "2023-05-10T11:11:29.645Z"
   },
   {
    "duration": 820,
    "start_time": "2023-05-10T11:11:44.851Z"
   },
   {
    "duration": 11,
    "start_time": "2023-05-10T11:11:45.674Z"
   },
   {
    "duration": 5,
    "start_time": "2023-05-10T11:11:47.318Z"
   },
   {
    "duration": 364,
    "start_time": "2023-05-10T11:11:48.364Z"
   },
   {
    "duration": 4,
    "start_time": "2023-05-10T11:11:57.491Z"
   },
   {
    "duration": 6,
    "start_time": "2023-05-10T11:11:58.017Z"
   },
   {
    "duration": 6,
    "start_time": "2023-05-10T11:11:58.438Z"
   },
   {
    "duration": 5,
    "start_time": "2023-05-10T11:12:00.260Z"
   },
   {
    "duration": 95,
    "start_time": "2023-05-10T11:12:06.349Z"
   },
   {
    "duration": 342,
    "start_time": "2023-05-10T11:12:11.180Z"
   },
   {
    "duration": 5,
    "start_time": "2023-05-10T11:12:13.741Z"
   },
   {
    "duration": 26,
    "start_time": "2023-05-10T11:12:14.568Z"
   },
   {
    "duration": 4,
    "start_time": "2023-05-10T11:12:17.892Z"
   },
   {
    "duration": 1579,
    "start_time": "2023-05-10T11:12:18.597Z"
   },
   {
    "duration": 11,
    "start_time": "2023-05-10T11:12:23.317Z"
   },
   {
    "duration": 5,
    "start_time": "2023-05-10T11:12:24.598Z"
   },
   {
    "duration": 132,
    "start_time": "2023-05-10T11:12:25.400Z"
   },
   {
    "duration": 8,
    "start_time": "2023-05-10T11:12:25.786Z"
   },
   {
    "duration": 13,
    "start_time": "2023-05-10T11:12:27.444Z"
   },
   {
    "duration": 4,
    "start_time": "2023-05-10T11:12:30.978Z"
   },
   {
    "duration": 14,
    "start_time": "2023-05-10T11:12:38.281Z"
   },
   {
    "duration": 17,
    "start_time": "2023-05-10T11:12:39.125Z"
   },
   {
    "duration": 749,
    "start_time": "2023-05-10T11:12:39.739Z"
   },
   {
    "duration": 7,
    "start_time": "2023-05-10T11:12:50.040Z"
   },
   {
    "duration": 2103,
    "start_time": "2023-05-10T11:12:56.237Z"
   },
   {
    "duration": 8,
    "start_time": "2023-05-10T11:13:04.268Z"
   },
   {
    "duration": 8,
    "start_time": "2023-05-10T11:13:15.525Z"
   },
   {
    "duration": 2167,
    "start_time": "2023-05-10T11:13:21.311Z"
   },
   {
    "duration": 2258,
    "start_time": "2023-05-10T11:13:42.805Z"
   },
   {
    "duration": 3,
    "start_time": "2023-05-10T11:16:14.460Z"
   },
   {
    "duration": 5628,
    "start_time": "2023-05-10T11:21:22.567Z"
   },
   {
    "duration": 5561,
    "start_time": "2023-05-10T11:22:49.754Z"
   },
   {
    "duration": 4064,
    "start_time": "2023-05-10T12:42:56.488Z"
   },
   {
    "duration": 8,
    "start_time": "2023-05-10T12:43:47.436Z"
   },
   {
    "duration": 16,
    "start_time": "2023-05-10T12:43:52.179Z"
   },
   {
    "duration": 6,
    "start_time": "2023-05-10T12:44:55.909Z"
   },
   {
    "duration": 15,
    "start_time": "2023-05-10T12:51:15.718Z"
   },
   {
    "duration": 5046,
    "start_time": "2023-05-10T12:51:31.137Z"
   },
   {
    "duration": 6101,
    "start_time": "2023-05-10T12:51:58.387Z"
   },
   {
    "duration": 6,
    "start_time": "2023-05-10T12:52:24.325Z"
   },
   {
    "duration": 5,
    "start_time": "2023-05-10T12:53:27.913Z"
   },
   {
    "duration": 253,
    "start_time": "2023-05-10T12:55:30.131Z"
   },
   {
    "duration": 19677,
    "start_time": "2023-05-10T13:08:55.043Z"
   },
   {
    "duration": 19244,
    "start_time": "2023-05-10T13:09:27.152Z"
   },
   {
    "duration": 4270,
    "start_time": "2023-05-10T13:11:30.900Z"
   },
   {
    "duration": 4088,
    "start_time": "2023-05-10T13:13:04.171Z"
   },
   {
    "duration": 686920,
    "start_time": "2023-05-10T13:14:52.107Z"
   },
   {
    "duration": 0,
    "start_time": "2023-05-11T13:12:34.111Z"
   },
   {
    "duration": 209,
    "start_time": "2023-05-11T13:12:34.988Z"
   },
   {
    "duration": 0,
    "start_time": "2023-05-11T13:45:13.711Z"
   },
   {
    "duration": 303,
    "start_time": "2023-05-11T13:45:15.088Z"
   },
   {
    "duration": 1982,
    "start_time": "2023-05-11T13:52:24.969Z"
   },
   {
    "duration": 3278,
    "start_time": "2023-05-11T13:52:26.955Z"
   },
   {
    "duration": 5,
    "start_time": "2023-05-11T13:52:30.236Z"
   },
   {
    "duration": 5,
    "start_time": "2023-05-11T13:52:31.050Z"
   },
   {
    "duration": 455,
    "start_time": "2023-05-11T13:52:32.550Z"
   },
   {
    "duration": 4,
    "start_time": "2023-05-11T13:52:33.864Z"
   },
   {
    "duration": 8,
    "start_time": "2023-05-11T13:52:34.498Z"
   },
   {
    "duration": 9,
    "start_time": "2023-05-11T13:52:35.259Z"
   },
   {
    "duration": 8,
    "start_time": "2023-05-11T13:52:37.299Z"
   },
   {
    "duration": 12,
    "start_time": "2023-05-11T13:53:55.353Z"
   },
   {
    "duration": 5,
    "start_time": "2023-05-11T13:56:04.863Z"
   },
   {
    "duration": 2000,
    "start_time": "2023-05-11T13:56:05.557Z"
   },
   {
    "duration": 17,
    "start_time": "2023-05-11T13:56:10.550Z"
   },
   {
    "duration": 6,
    "start_time": "2023-05-11T13:57:16.787Z"
   },
   {
    "duration": 164,
    "start_time": "2023-05-11T13:57:17.547Z"
   },
   {
    "duration": 5,
    "start_time": "2023-05-11T13:57:18.400Z"
   },
   {
    "duration": 14,
    "start_time": "2023-05-11T13:57:33.893Z"
   },
   {
    "duration": 153,
    "start_time": "2023-05-11T14:30:10.146Z"
   },
   {
    "duration": 4841,
    "start_time": "2023-05-11T14:30:39.378Z"
   },
   {
    "duration": 19,
    "start_time": "2023-05-11T14:31:05.930Z"
   },
   {
    "duration": 78,
    "start_time": "2023-05-11T14:32:40.721Z"
   },
   {
    "duration": 143,
    "start_time": "2023-05-11T14:33:42.946Z"
   },
   {
    "duration": 46,
    "start_time": "2023-05-11T14:33:53.568Z"
   },
   {
    "duration": 42,
    "start_time": "2023-05-11T14:35:57.802Z"
   },
   {
    "duration": 10,
    "start_time": "2023-05-11T14:36:25.001Z"
   },
   {
    "duration": 169,
    "start_time": "2023-05-11T14:37:19.665Z"
   },
   {
    "duration": 1421,
    "start_time": "2023-05-11T14:37:51.495Z"
   },
   {
    "duration": 1619,
    "start_time": "2023-05-11T14:38:05.185Z"
   },
   {
    "duration": 260,
    "start_time": "2023-05-11T14:38:27.633Z"
   },
   {
    "duration": 126,
    "start_time": "2023-05-11T14:39:42.288Z"
   },
   {
    "duration": 1535,
    "start_time": "2023-05-11T14:39:48.305Z"
   },
   {
    "duration": 11,
    "start_time": "2023-05-11T14:41:54.784Z"
   },
   {
    "duration": 1766,
    "start_time": "2023-05-11T14:41:59.387Z"
   },
   {
    "duration": 343,
    "start_time": "2023-05-11T14:44:30.697Z"
   },
   {
    "duration": 401,
    "start_time": "2023-05-11T14:44:54.656Z"
   },
   {
    "duration": 15,
    "start_time": "2023-05-11T14:45:08.847Z"
   },
   {
    "duration": 13,
    "start_time": "2023-05-11T14:45:29.328Z"
   },
   {
    "duration": 15,
    "start_time": "2023-05-11T14:45:59.531Z"
   },
   {
    "duration": 2974,
    "start_time": "2023-05-11T14:48:18.305Z"
   },
   {
    "duration": 110,
    "start_time": "2023-05-11T14:48:41.419Z"
   },
   {
    "duration": 4885,
    "start_time": "2023-05-11T14:48:46.330Z"
   },
   {
    "duration": 3394,
    "start_time": "2023-05-11T14:49:33.161Z"
   },
   {
    "duration": 15,
    "start_time": "2023-05-11T14:53:17.585Z"
   },
   {
    "duration": 15,
    "start_time": "2023-05-11T14:53:39.736Z"
   },
   {
    "duration": 14,
    "start_time": "2023-05-11T14:54:10.486Z"
   },
   {
    "duration": 144,
    "start_time": "2023-05-11T14:54:51.355Z"
   },
   {
    "duration": 14,
    "start_time": "2023-05-11T14:54:56.376Z"
   },
   {
    "duration": 4,
    "start_time": "2023-05-11T14:55:03.825Z"
   },
   {
    "duration": 42,
    "start_time": "2023-05-11T14:55:06.595Z"
   },
   {
    "duration": 49,
    "start_time": "2023-05-11T14:55:23.741Z"
   },
   {
    "duration": 44,
    "start_time": "2023-05-11T14:55:40.242Z"
   },
   {
    "duration": 823,
    "start_time": "2023-05-11T14:56:10.240Z"
   },
   {
    "duration": 5,
    "start_time": "2023-05-11T14:56:11.066Z"
   },
   {
    "duration": 5,
    "start_time": "2023-05-11T14:56:11.487Z"
   },
   {
    "duration": 392,
    "start_time": "2023-05-11T14:56:12.661Z"
   },
   {
    "duration": 4,
    "start_time": "2023-05-11T14:56:13.729Z"
   },
   {
    "duration": 5,
    "start_time": "2023-05-11T14:56:14.210Z"
   },
   {
    "duration": 11,
    "start_time": "2023-05-11T14:56:14.669Z"
   },
   {
    "duration": 7,
    "start_time": "2023-05-11T14:56:16.128Z"
   },
   {
    "duration": 10,
    "start_time": "2023-05-11T14:56:17.530Z"
   },
   {
    "duration": 3,
    "start_time": "2023-05-11T14:56:21.256Z"
   },
   {
    "duration": 1816,
    "start_time": "2023-05-11T14:56:21.786Z"
   },
   {
    "duration": 14,
    "start_time": "2023-05-11T14:56:23.604Z"
   },
   {
    "duration": 6,
    "start_time": "2023-05-11T14:56:24.148Z"
   },
   {
    "duration": 161,
    "start_time": "2023-05-11T14:56:24.782Z"
   },
   {
    "duration": 5,
    "start_time": "2023-05-11T14:56:25.386Z"
   },
   {
    "duration": 11,
    "start_time": "2023-05-11T14:56:27.138Z"
   },
   {
    "duration": 1696,
    "start_time": "2023-05-11T14:56:28.830Z"
   },
   {
    "duration": 50,
    "start_time": "2023-05-11T14:56:30.528Z"
   },
   {
    "duration": 1788,
    "start_time": "2023-05-11T14:56:49.258Z"
   },
   {
    "duration": 20,
    "start_time": "2023-05-11T14:57:10.292Z"
   },
   {
    "duration": 36,
    "start_time": "2023-05-11T14:57:23.204Z"
   },
   {
    "duration": 1903,
    "start_time": "2023-05-11T15:20:25.204Z"
   },
   {
    "duration": 3,
    "start_time": "2023-05-11T15:44:42.246Z"
   },
   {
    "duration": 1332,
    "start_time": "2023-05-11T15:47:45.277Z"
   },
   {
    "duration": 27,
    "start_time": "2023-05-11T15:48:14.592Z"
   },
   {
    "duration": 10,
    "start_time": "2023-05-11T15:48:40.721Z"
   },
   {
    "duration": 15,
    "start_time": "2023-05-11T15:48:53.892Z"
   },
   {
    "duration": 14,
    "start_time": "2023-05-11T15:49:05.473Z"
   },
   {
    "duration": 9,
    "start_time": "2023-05-11T15:49:18.830Z"
   },
   {
    "duration": 1674,
    "start_time": "2023-05-12T07:39:38.300Z"
   },
   {
    "duration": 2381,
    "start_time": "2023-05-12T07:39:40.766Z"
   },
   {
    "duration": 4,
    "start_time": "2023-05-12T07:39:44.526Z"
   },
   {
    "duration": 4,
    "start_time": "2023-05-12T07:39:47.841Z"
   },
   {
    "duration": 363,
    "start_time": "2023-05-12T07:39:50.529Z"
   },
   {
    "duration": 3,
    "start_time": "2023-05-12T07:39:57.196Z"
   },
   {
    "duration": 6,
    "start_time": "2023-05-12T07:39:57.868Z"
   },
   {
    "duration": 7,
    "start_time": "2023-05-12T07:39:58.605Z"
   },
   {
    "duration": 6,
    "start_time": "2023-05-12T07:40:00.124Z"
   },
   {
    "duration": 9,
    "start_time": "2023-05-12T07:40:02.344Z"
   },
   {
    "duration": 4,
    "start_time": "2023-05-12T07:40:19.992Z"
   },
   {
    "duration": 1761,
    "start_time": "2023-05-12T07:40:24.331Z"
   },
   {
    "duration": 18,
    "start_time": "2023-05-12T07:40:26.094Z"
   },
   {
    "duration": 4,
    "start_time": "2023-05-12T07:40:27.440Z"
   },
   {
    "duration": 139,
    "start_time": "2023-05-12T07:40:28.263Z"
   },
   {
    "duration": 5,
    "start_time": "2023-05-12T07:40:38.744Z"
   },
   {
    "duration": 11,
    "start_time": "2023-05-12T07:40:40.975Z"
   },
   {
    "duration": 1480,
    "start_time": "2023-05-12T07:40:43.913Z"
   },
   {
    "duration": 38,
    "start_time": "2023-05-12T07:40:47.008Z"
   },
   {
    "duration": 1486,
    "start_time": "2023-05-12T07:40:47.875Z"
   },
   {
    "duration": 3,
    "start_time": "2023-05-12T07:41:25.701Z"
   },
   {
    "duration": 3,
    "start_time": "2023-05-12T07:41:26.610Z"
   },
   {
    "duration": 10,
    "start_time": "2023-05-12T07:41:28.175Z"
   },
   {
    "duration": 4,
    "start_time": "2023-05-12T07:42:38.357Z"
   },
   {
    "duration": 137,
    "start_time": "2023-05-12T07:46:53.431Z"
   },
   {
    "duration": 15,
    "start_time": "2023-05-12T07:47:16.418Z"
   },
   {
    "duration": 13,
    "start_time": "2023-05-12T07:47:19.777Z"
   },
   {
    "duration": 11,
    "start_time": "2023-05-12T07:47:26.976Z"
   },
   {
    "duration": 22,
    "start_time": "2023-05-12T07:52:16.648Z"
   },
   {
    "duration": 12,
    "start_time": "2023-05-12T07:56:57.725Z"
   },
   {
    "duration": 12,
    "start_time": "2023-05-12T07:57:31.202Z"
   },
   {
    "duration": 14,
    "start_time": "2023-05-12T07:58:23.403Z"
   },
   {
    "duration": 4,
    "start_time": "2023-05-12T07:59:30.078Z"
   },
   {
    "duration": 13,
    "start_time": "2023-05-12T08:02:17.406Z"
   },
   {
    "duration": 13,
    "start_time": "2023-05-12T08:04:20.835Z"
   },
   {
    "duration": 21,
    "start_time": "2023-05-12T08:04:32.401Z"
   },
   {
    "duration": 5,
    "start_time": "2023-05-12T08:07:06.618Z"
   },
   {
    "duration": 3,
    "start_time": "2023-05-12T08:11:43.319Z"
   },
   {
    "duration": 18,
    "start_time": "2023-05-12T08:13:18.070Z"
   },
   {
    "duration": 10,
    "start_time": "2023-05-12T08:15:14.434Z"
   },
   {
    "duration": 15,
    "start_time": "2023-05-12T08:16:08.268Z"
   },
   {
    "duration": 19,
    "start_time": "2023-05-12T08:16:18.317Z"
   },
   {
    "duration": 22,
    "start_time": "2023-05-12T08:16:48.588Z"
   },
   {
    "duration": 11,
    "start_time": "2023-05-12T08:17:19.301Z"
   },
   {
    "duration": 362,
    "start_time": "2023-05-12T08:17:29.898Z"
   },
   {
    "duration": 10,
    "start_time": "2023-05-12T08:21:27.166Z"
   },
   {
    "duration": 5,
    "start_time": "2023-05-12T08:21:40.596Z"
   },
   {
    "duration": 3,
    "start_time": "2023-05-12T08:21:47.077Z"
   },
   {
    "duration": 7,
    "start_time": "2023-05-12T08:21:58.544Z"
   },
   {
    "duration": 3,
    "start_time": "2023-05-12T08:22:18.162Z"
   },
   {
    "duration": 67,
    "start_time": "2023-05-12T08:22:26.801Z"
   },
   {
    "duration": 455,
    "start_time": "2023-05-12T08:22:50.293Z"
   },
   {
    "duration": 353,
    "start_time": "2023-05-12T08:23:21.025Z"
   },
   {
    "duration": 415,
    "start_time": "2023-05-12T08:23:44.245Z"
   },
   {
    "duration": 300,
    "start_time": "2023-05-12T08:25:13.348Z"
   },
   {
    "duration": 148,
    "start_time": "2023-05-12T08:25:17.300Z"
   },
   {
    "duration": 241,
    "start_time": "2023-05-12T08:25:25.518Z"
   },
   {
    "duration": 647,
    "start_time": "2023-05-12T08:26:37.724Z"
   },
   {
    "duration": 167,
    "start_time": "2023-05-12T08:27:30.108Z"
   },
   {
    "duration": 38,
    "start_time": "2023-05-12T08:27:34.622Z"
   },
   {
    "duration": 251,
    "start_time": "2023-05-12T08:27:49.003Z"
   },
   {
    "duration": 22,
    "start_time": "2023-05-12T08:29:58.562Z"
   },
   {
    "duration": 14,
    "start_time": "2023-05-12T08:30:41.252Z"
   },
   {
    "duration": 2282,
    "start_time": "2023-05-12T08:30:58.142Z"
   },
   {
    "duration": 2,
    "start_time": "2023-05-12T08:31:09.553Z"
   },
   {
    "duration": 250,
    "start_time": "2023-05-12T08:31:28.715Z"
   },
   {
    "duration": 265,
    "start_time": "2023-05-12T08:31:37.887Z"
   },
   {
    "duration": 2231,
    "start_time": "2023-05-12T08:32:01.804Z"
   },
   {
    "duration": 4,
    "start_time": "2023-05-12T08:32:10.330Z"
   },
   {
    "duration": 257,
    "start_time": "2023-05-12T08:34:39.113Z"
   },
   {
    "duration": 3,
    "start_time": "2023-05-12T08:34:57.062Z"
   },
   {
    "duration": 150,
    "start_time": "2023-05-12T08:35:44.203Z"
   },
   {
    "duration": 142,
    "start_time": "2023-05-12T08:36:00.812Z"
   },
   {
    "duration": 232,
    "start_time": "2023-05-12T08:36:05.116Z"
   },
   {
    "duration": 199,
    "start_time": "2023-05-12T08:36:08.760Z"
   },
   {
    "duration": 139,
    "start_time": "2023-05-12T08:36:14.815Z"
   },
   {
    "duration": 131,
    "start_time": "2023-05-12T08:37:25.516Z"
   },
   {
    "duration": 152,
    "start_time": "2023-05-12T08:37:30.508Z"
   },
   {
    "duration": 182,
    "start_time": "2023-05-12T08:37:50.580Z"
   },
   {
    "duration": 184,
    "start_time": "2023-05-12T08:37:53.868Z"
   },
   {
    "duration": 327,
    "start_time": "2023-05-12T08:38:43.949Z"
   },
   {
    "duration": 186,
    "start_time": "2023-05-12T08:38:55.674Z"
   },
   {
    "duration": 219,
    "start_time": "2023-05-12T08:39:03.145Z"
   },
   {
    "duration": 244,
    "start_time": "2023-05-12T08:39:40.016Z"
   },
   {
    "duration": 205,
    "start_time": "2023-05-12T08:39:46.353Z"
   },
   {
    "duration": 247,
    "start_time": "2023-05-12T08:39:53.999Z"
   },
   {
    "duration": 389,
    "start_time": "2023-05-12T08:41:55.070Z"
   },
   {
    "duration": 14,
    "start_time": "2023-05-12T08:42:03.876Z"
   },
   {
    "duration": 263,
    "start_time": "2023-05-12T08:42:10.704Z"
   },
   {
    "duration": 139,
    "start_time": "2023-05-12T08:42:30.013Z"
   },
   {
    "duration": 319,
    "start_time": "2023-05-12T08:42:41.844Z"
   },
   {
    "duration": 232,
    "start_time": "2023-05-12T08:43:13.019Z"
   },
   {
    "duration": 234,
    "start_time": "2023-05-12T08:47:11.515Z"
   },
   {
    "duration": 154,
    "start_time": "2023-05-12T08:49:08.603Z"
   },
   {
    "duration": 25,
    "start_time": "2023-05-13T08:19:42.240Z"
   },
   {
    "duration": 11,
    "start_time": "2023-05-13T08:29:21.730Z"
   },
   {
    "duration": 54,
    "start_time": "2023-05-13T08:57:28.145Z"
   },
   {
    "duration": 1728,
    "start_time": "2023-05-13T08:57:37.678Z"
   },
   {
    "duration": 2408,
    "start_time": "2023-05-13T08:57:39.408Z"
   },
   {
    "duration": 5,
    "start_time": "2023-05-13T08:57:41.818Z"
   },
   {
    "duration": 19,
    "start_time": "2023-05-13T08:57:41.825Z"
   },
   {
    "duration": 392,
    "start_time": "2023-05-13T08:57:43.910Z"
   },
   {
    "duration": 3,
    "start_time": "2023-05-13T08:57:45.606Z"
   },
   {
    "duration": 6,
    "start_time": "2023-05-13T08:57:46.377Z"
   },
   {
    "duration": 7,
    "start_time": "2023-05-13T08:57:47.187Z"
   },
   {
    "duration": 5,
    "start_time": "2023-05-13T08:57:49.678Z"
   },
   {
    "duration": 10,
    "start_time": "2023-05-13T08:57:51.006Z"
   },
   {
    "duration": 4,
    "start_time": "2023-05-13T08:57:55.773Z"
   },
   {
    "duration": 1742,
    "start_time": "2023-05-13T08:57:56.234Z"
   },
   {
    "duration": 13,
    "start_time": "2023-05-13T08:57:57.978Z"
   },
   {
    "duration": 6,
    "start_time": "2023-05-13T08:57:58.201Z"
   },
   {
    "duration": 146,
    "start_time": "2023-05-13T08:57:58.635Z"
   },
   {
    "duration": 5,
    "start_time": "2023-05-13T08:57:59.140Z"
   },
   {
    "duration": 11,
    "start_time": "2023-05-13T08:58:00.559Z"
   },
   {
    "duration": 1626,
    "start_time": "2023-05-13T08:58:01.538Z"
   },
   {
    "duration": 41,
    "start_time": "2023-05-13T08:58:03.165Z"
   },
   {
    "duration": 1530,
    "start_time": "2023-05-13T08:58:03.208Z"
   },
   {
    "duration": 3,
    "start_time": "2023-05-13T08:58:05.942Z"
   },
   {
    "duration": 3,
    "start_time": "2023-05-13T08:58:06.365Z"
   },
   {
    "duration": 9,
    "start_time": "2023-05-13T08:58:08.100Z"
   },
   {
    "duration": 4,
    "start_time": "2023-05-13T08:58:10.545Z"
   },
   {
    "duration": 100,
    "start_time": "2023-05-13T08:58:11.031Z"
   },
   {
    "duration": 17,
    "start_time": "2023-05-13T09:02:49.947Z"
   },
   {
    "duration": 13,
    "start_time": "2023-05-13T09:03:46.808Z"
   },
   {
    "duration": 10,
    "start_time": "2023-05-13T09:05:29.519Z"
   },
   {
    "duration": 1503,
    "start_time": "2023-05-13T09:05:40.449Z"
   },
   {
    "duration": 1657,
    "start_time": "2023-05-13T09:05:46.397Z"
   },
   {
    "duration": 1658,
    "start_time": "2023-05-13T09:05:55.990Z"
   },
   {
    "duration": 1567,
    "start_time": "2023-05-13T09:06:32.981Z"
   },
   {
    "duration": 3485,
    "start_time": "2023-05-13T09:07:22.665Z"
   },
   {
    "duration": 3496,
    "start_time": "2023-05-13T09:07:49.057Z"
   },
   {
    "duration": 3756,
    "start_time": "2023-05-13T09:11:11.495Z"
   },
   {
    "duration": 94535,
    "start_time": "2023-05-13T09:12:45.230Z"
   },
   {
    "duration": 3600,
    "start_time": "2023-05-13T09:15:10.548Z"
   },
   {
    "duration": 92899,
    "start_time": "2023-05-13T09:18:14.258Z"
   },
   {
    "duration": 13,
    "start_time": "2023-05-13T09:20:08.051Z"
   },
   {
    "duration": 94918,
    "start_time": "2023-05-13T09:20:18.010Z"
   },
   {
    "duration": 20529115,
    "start_time": "2023-05-13T09:21:56.476Z"
   },
   {
    "duration": 181,
    "start_time": "2023-05-13T18:55:25.916Z"
   },
   {
    "duration": 179,
    "start_time": "2023-05-13T18:55:30.447Z"
   },
   {
    "duration": 396,
    "start_time": "2023-05-13T18:55:58.606Z"
   },
   {
    "duration": 174,
    "start_time": "2023-05-13T18:56:47.398Z"
   },
   {
    "duration": 262,
    "start_time": "2023-05-13T18:57:51.763Z"
   },
   {
    "duration": 183,
    "start_time": "2023-05-13T18:58:23.998Z"
   },
   {
    "duration": 7,
    "start_time": "2023-05-13T18:58:29.652Z"
   },
   {
    "duration": 161,
    "start_time": "2023-05-13T19:02:14.879Z"
   },
   {
    "duration": 17,
    "start_time": "2023-05-13T19:05:18.566Z"
   },
   {
    "duration": 75,
    "start_time": "2023-05-13T19:05:41.399Z"
   },
   {
    "duration": 18,
    "start_time": "2023-05-13T19:05:44.755Z"
   },
   {
    "duration": 185,
    "start_time": "2023-05-13T19:05:56.863Z"
   },
   {
    "duration": 433,
    "start_time": "2023-05-13T19:07:06.956Z"
   },
   {
    "duration": 27,
    "start_time": "2023-05-13T19:07:33.718Z"
   },
   {
    "duration": 18,
    "start_time": "2023-05-13T19:07:39.038Z"
   },
   {
    "duration": 371,
    "start_time": "2023-05-13T19:08:20.534Z"
   },
   {
    "duration": 362,
    "start_time": "2023-05-13T19:08:43.225Z"
   },
   {
    "duration": 356,
    "start_time": "2023-05-13T19:08:50.320Z"
   },
   {
    "duration": 337,
    "start_time": "2023-05-13T19:08:57.991Z"
   },
   {
    "duration": 558,
    "start_time": "2023-05-13T19:09:42.455Z"
   },
   {
    "duration": 406,
    "start_time": "2023-05-13T19:09:49.514Z"
   },
   {
    "duration": 4,
    "start_time": "2023-05-13T19:10:28.708Z"
   },
   {
    "duration": 135,
    "start_time": "2023-05-13T19:10:32.797Z"
   },
   {
    "duration": 3,
    "start_time": "2023-05-13T19:10:40.700Z"
   },
   {
    "duration": 79,
    "start_time": "2023-05-13T19:10:47.507Z"
   },
   {
    "duration": 4,
    "start_time": "2023-05-13T19:10:52.352Z"
   },
   {
    "duration": 5,
    "start_time": "2023-05-13T19:13:00.285Z"
   },
   {
    "duration": 6,
    "start_time": "2023-05-13T19:13:44.599Z"
   },
   {
    "duration": 10,
    "start_time": "2023-05-13T19:17:28.361Z"
   },
   {
    "duration": 11,
    "start_time": "2023-05-13T19:17:33.929Z"
   },
   {
    "duration": 86,
    "start_time": "2023-05-13T19:17:45.122Z"
   },
   {
    "duration": 9,
    "start_time": "2023-05-13T19:17:50.298Z"
   },
   {
    "duration": 4,
    "start_time": "2023-05-13T19:18:36.154Z"
   },
   {
    "duration": 1893,
    "start_time": "2023-05-13T19:20:20.345Z"
   },
   {
    "duration": 5,
    "start_time": "2023-05-13T19:22:10.177Z"
   },
   {
    "duration": 7,
    "start_time": "2023-05-13T19:25:30.326Z"
   },
   {
    "duration": 7,
    "start_time": "2023-05-13T19:26:00.526Z"
   },
   {
    "duration": 8,
    "start_time": "2023-05-13T19:27:50.997Z"
   },
   {
    "duration": 467,
    "start_time": "2023-05-13T19:38:43.355Z"
   },
   {
    "duration": 445,
    "start_time": "2023-05-13T19:38:58.256Z"
   },
   {
    "duration": 1754,
    "start_time": "2023-05-14T13:14:34.432Z"
   },
   {
    "duration": 2468,
    "start_time": "2023-05-14T13:14:36.188Z"
   },
   {
    "duration": 5,
    "start_time": "2023-05-14T13:14:38.658Z"
   },
   {
    "duration": 11,
    "start_time": "2023-05-14T13:14:38.664Z"
   },
   {
    "duration": 389,
    "start_time": "2023-05-14T13:14:38.677Z"
   },
   {
    "duration": 3,
    "start_time": "2023-05-14T13:14:39.068Z"
   },
   {
    "duration": 6,
    "start_time": "2023-05-14T13:14:39.533Z"
   },
   {
    "duration": 7,
    "start_time": "2023-05-14T13:14:39.972Z"
   },
   {
    "duration": 5,
    "start_time": "2023-05-14T13:14:41.257Z"
   },
   {
    "duration": 12,
    "start_time": "2023-05-14T13:14:42.425Z"
   },
   {
    "duration": 3,
    "start_time": "2023-05-14T13:14:48.581Z"
   },
   {
    "duration": 1764,
    "start_time": "2023-05-14T13:14:49.264Z"
   },
   {
    "duration": 13,
    "start_time": "2023-05-14T13:14:51.030Z"
   },
   {
    "duration": 5,
    "start_time": "2023-05-14T13:14:54.940Z"
   },
   {
    "duration": 147,
    "start_time": "2023-05-14T13:14:55.555Z"
   },
   {
    "duration": 5,
    "start_time": "2023-05-14T13:14:56.304Z"
   },
   {
    "duration": 472,
    "start_time": "2023-05-14T13:14:56.794Z"
   },
   {
    "duration": 10,
    "start_time": "2023-05-14T13:14:59.866Z"
   },
   {
    "duration": 1533,
    "start_time": "2023-05-14T13:15:00.953Z"
   },
   {
    "duration": 49,
    "start_time": "2023-05-14T13:15:02.488Z"
   },
   {
    "duration": 1611,
    "start_time": "2023-05-14T13:15:02.538Z"
   },
   {
    "duration": 4,
    "start_time": "2023-05-14T13:15:08.129Z"
   },
   {
    "duration": 3,
    "start_time": "2023-05-14T13:15:10.015Z"
   },
   {
    "duration": 8,
    "start_time": "2023-05-14T13:15:12.035Z"
   },
   {
    "duration": 3515,
    "start_time": "2023-05-14T13:15:24.084Z"
   },
   {
    "duration": 4,
    "start_time": "2023-05-14T13:15:30.595Z"
   },
   {
    "duration": 102321,
    "start_time": "2023-05-14T13:15:38.489Z"
   },
   {
    "duration": 4,
    "start_time": "2023-05-14T13:22:12.681Z"
   },
   {
    "duration": 4,
    "start_time": "2023-05-14T13:35:19.680Z"
   },
   {
    "duration": 4,
    "start_time": "2023-05-14T13:35:35.206Z"
   },
   {
    "duration": 981062,
    "start_time": "2023-05-14T13:35:41.857Z"
   },
   {
    "duration": 4,
    "start_time": "2023-05-14T13:52:36.467Z"
   },
   {
    "duration": 6,
    "start_time": "2023-05-14T13:52:45.483Z"
   },
   {
    "duration": 4396,
    "start_time": "2023-05-14T13:52:46.456Z"
   },
   {
    "duration": 59,
    "start_time": "2023-05-14T14:03:07.419Z"
   },
   {
    "duration": 211,
    "start_time": "2023-05-14T14:03:42.371Z"
   },
   {
    "duration": 49,
    "start_time": "2023-05-14T14:03:51.870Z"
   },
   {
    "duration": 14,
    "start_time": "2023-05-14T14:04:14.986Z"
   },
   {
    "duration": 38,
    "start_time": "2023-05-14T14:05:03.929Z"
   },
   {
    "duration": 1009812,
    "start_time": "2023-05-14T14:06:41.511Z"
   },
   {
    "duration": 4,
    "start_time": "2023-05-14T14:24:19.622Z"
   },
   {
    "duration": 4,
    "start_time": "2023-05-14T14:24:45.595Z"
   },
   {
    "duration": 5593,
    "start_time": "2023-05-14T14:24:46.211Z"
   },
   {
    "duration": 38,
    "start_time": "2023-05-14T14:25:18.169Z"
   },
   {
    "duration": 8,
    "start_time": "2023-05-14T14:26:07.845Z"
   },
   {
    "duration": 1660,
    "start_time": "2023-05-15T10:39:54.901Z"
   },
   {
    "duration": 2906,
    "start_time": "2023-05-15T10:39:56.563Z"
   },
   {
    "duration": 5,
    "start_time": "2023-05-15T10:39:59.471Z"
   },
   {
    "duration": 7,
    "start_time": "2023-05-15T10:39:59.477Z"
   },
   {
    "duration": 376,
    "start_time": "2023-05-15T10:39:59.485Z"
   },
   {
    "duration": 4,
    "start_time": "2023-05-15T10:39:59.863Z"
   },
   {
    "duration": 6,
    "start_time": "2023-05-15T10:39:59.875Z"
   },
   {
    "duration": 10,
    "start_time": "2023-05-15T10:39:59.882Z"
   },
   {
    "duration": 5,
    "start_time": "2023-05-15T10:39:59.894Z"
   },
   {
    "duration": 10,
    "start_time": "2023-05-15T10:40:00.819Z"
   },
   {
    "duration": 4,
    "start_time": "2023-05-15T10:40:03.970Z"
   },
   {
    "duration": 1601,
    "start_time": "2023-05-15T10:40:04.196Z"
   },
   {
    "duration": 14,
    "start_time": "2023-05-15T10:40:05.799Z"
   },
   {
    "duration": 12,
    "start_time": "2023-05-15T10:40:05.814Z"
   },
   {
    "duration": 130,
    "start_time": "2023-05-15T10:40:06.040Z"
   },
   {
    "duration": 4,
    "start_time": "2023-05-15T10:40:06.563Z"
   },
   {
    "duration": 478,
    "start_time": "2023-05-15T10:40:06.952Z"
   },
   {
    "duration": 10,
    "start_time": "2023-05-15T10:40:08.544Z"
   },
   {
    "duration": 1261,
    "start_time": "2023-05-15T10:40:09.657Z"
   },
   {
    "duration": 36,
    "start_time": "2023-05-15T10:40:10.920Z"
   },
   {
    "duration": 1353,
    "start_time": "2023-05-15T10:40:10.957Z"
   },
   {
    "duration": 7,
    "start_time": "2023-05-15T10:40:14.021Z"
   },
   {
    "duration": 3,
    "start_time": "2023-05-15T10:40:19.138Z"
   },
   {
    "duration": 8,
    "start_time": "2023-05-15T10:40:20.451Z"
   },
   {
    "duration": 3771,
    "start_time": "2023-05-15T10:40:24.007Z"
   },
   {
    "duration": 90,
    "start_time": "2023-05-15T10:40:27.786Z"
   },
   {
    "duration": 86534,
    "start_time": "2023-05-15T10:40:29.903Z"
   },
   {
    "duration": 4,
    "start_time": "2023-05-15T10:41:56.439Z"
   },
   {
    "duration": 9,
    "start_time": "2023-05-15T10:41:56.444Z"
   },
   {
    "duration": 47,
    "start_time": "2023-05-15T10:44:23.238Z"
   },
   {
    "duration": 6,
    "start_time": "2023-05-15T10:45:22.945Z"
   },
   {
    "duration": 160,
    "start_time": "2023-05-15T10:51:02.390Z"
   },
   {
    "duration": 48,
    "start_time": "2023-05-15T10:51:45.850Z"
   },
   {
    "duration": 877910,
    "start_time": "2023-05-15T10:53:02.403Z"
   },
   {
    "duration": 3,
    "start_time": "2023-05-15T11:08:09.264Z"
   },
   {
    "duration": 5,
    "start_time": "2023-05-15T11:08:24.792Z"
   },
   {
    "duration": 5547,
    "start_time": "2023-05-15T11:08:25.458Z"
   },
   {
    "duration": 9,
    "start_time": "2023-05-15T11:10:12.881Z"
   },
   {
    "duration": 9,
    "start_time": "2023-05-15T11:10:16.481Z"
   },
   {
    "duration": 8,
    "start_time": "2023-05-15T11:10:24.981Z"
   },
   {
    "duration": 60,
    "start_time": "2023-05-15T11:10:36.396Z"
   },
   {
    "duration": 62,
    "start_time": "2023-05-15T11:13:24.148Z"
   },
   {
    "duration": 4,
    "start_time": "2023-05-15T11:45:25.079Z"
   },
   {
    "duration": 5,
    "start_time": "2023-05-15T11:45:26.024Z"
   },
   {
    "duration": 5663,
    "start_time": "2023-05-15T11:45:26.652Z"
   },
   {
    "duration": 6,
    "start_time": "2023-05-15T11:45:33.948Z"
   },
   {
    "duration": 48,
    "start_time": "2023-05-15T11:45:39.972Z"
   },
   {
    "duration": 1373,
    "start_time": "2023-05-15T11:46:25.275Z"
   },
   {
    "duration": 808,
    "start_time": "2023-05-15T11:46:26.650Z"
   },
   {
    "duration": 3,
    "start_time": "2023-05-15T11:46:27.460Z"
   },
   {
    "duration": 5,
    "start_time": "2023-05-15T11:46:27.474Z"
   },
   {
    "duration": 386,
    "start_time": "2023-05-15T11:46:27.480Z"
   },
   {
    "duration": 3,
    "start_time": "2023-05-15T11:46:27.868Z"
   },
   {
    "duration": 9,
    "start_time": "2023-05-15T11:46:27.875Z"
   },
   {
    "duration": 9,
    "start_time": "2023-05-15T11:46:27.886Z"
   },
   {
    "duration": 5,
    "start_time": "2023-05-15T11:46:27.896Z"
   },
   {
    "duration": 19,
    "start_time": "2023-05-15T11:46:27.903Z"
   },
   {
    "duration": 3,
    "start_time": "2023-05-15T11:46:27.924Z"
   },
   {
    "duration": 1588,
    "start_time": "2023-05-15T11:46:27.928Z"
   },
   {
    "duration": 14,
    "start_time": "2023-05-15T11:46:29.518Z"
   },
   {
    "duration": 9,
    "start_time": "2023-05-15T11:46:29.534Z"
   },
   {
    "duration": 146,
    "start_time": "2023-05-15T11:46:29.545Z"
   },
   {
    "duration": 6,
    "start_time": "2023-05-15T11:46:29.693Z"
   },
   {
    "duration": 437,
    "start_time": "2023-05-15T11:46:29.700Z"
   },
   {
    "duration": 10,
    "start_time": "2023-05-15T11:46:30.139Z"
   },
   {
    "duration": 1352,
    "start_time": "2023-05-15T11:46:30.150Z"
   },
   {
    "duration": 41,
    "start_time": "2023-05-15T11:46:31.504Z"
   },
   {
    "duration": 1419,
    "start_time": "2023-05-15T11:46:31.547Z"
   },
   {
    "duration": 7,
    "start_time": "2023-05-15T11:46:32.968Z"
   },
   {
    "duration": 6,
    "start_time": "2023-05-15T11:46:32.977Z"
   },
   {
    "duration": 11,
    "start_time": "2023-05-15T11:46:32.985Z"
   },
   {
    "duration": 3181,
    "start_time": "2023-05-15T11:46:32.998Z"
   },
   {
    "duration": 7,
    "start_time": "2023-05-15T11:46:36.181Z"
   },
   {
    "duration": 85744,
    "start_time": "2023-05-15T11:46:36.275Z"
   },
   {
    "duration": 4,
    "start_time": "2023-05-15T11:48:02.022Z"
   },
   {
    "duration": 855381,
    "start_time": "2023-05-15T11:48:02.027Z"
   },
   {
    "duration": 3,
    "start_time": "2023-05-15T12:02:17.409Z"
   },
   {
    "duration": 8,
    "start_time": "2023-05-15T12:02:17.413Z"
   },
   {
    "duration": 3506,
    "start_time": "2023-05-15T12:02:17.423Z"
   },
   {
    "duration": 6,
    "start_time": "2023-05-15T12:02:20.931Z"
   },
   {
    "duration": 59,
    "start_time": "2023-05-15T12:02:20.938Z"
   }
  ],
  "kernelspec": {
   "display_name": "Python 3 (ipykernel)",
   "language": "python",
   "name": "python3"
  },
  "language_info": {
   "codemirror_mode": {
    "name": "ipython",
    "version": 3
   },
   "file_extension": ".py",
   "mimetype": "text/x-python",
   "name": "python",
   "nbconvert_exporter": "python",
   "pygments_lexer": "ipython3",
   "version": "3.9.13"
  },
  "toc": {
   "base_numbering": 1,
   "nav_menu": {},
   "number_sections": true,
   "sideBar": true,
   "skip_h1_title": true,
   "title_cell": "Содержание",
   "title_sidebar": "Contents",
   "toc_cell": true,
   "toc_position": {
    "height": "calc(100% - 180px)",
    "left": "10px",
    "top": "150px",
    "width": "165px"
   },
   "toc_section_display": true,
   "toc_window_display": true
  }
 },
 "nbformat": 4,
 "nbformat_minor": 2
}
