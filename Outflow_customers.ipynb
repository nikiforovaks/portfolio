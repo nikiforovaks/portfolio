{
 "cells": [
  {
   "cell_type": "markdown",
   "metadata": {
    "toc": true
   },
   "source": [
    "<h1>Содержание<span class=\"tocSkip\"></span></h1>\n",
    "<div class=\"toc\"><ul class=\"toc-item\"><li><span><a href=\"#Подготовка-данных\" data-toc-modified-id=\"Подготовка-данных-1\"><span class=\"toc-item-num\">1&nbsp;&nbsp;</span>Подготовка данных</a></span></li><li><span><a href=\"#Исследование-задачи\" data-toc-modified-id=\"Исследование-задачи-2\"><span class=\"toc-item-num\">2&nbsp;&nbsp;</span>Исследование задачи</a></span></li><li><span><a href=\"#Борьба-с-дисбалансом\" data-toc-modified-id=\"Борьба-с-дисбалансом-3\"><span class=\"toc-item-num\">3&nbsp;&nbsp;</span>Борьба с дисбалансом</a></span></li><li><span><a href=\"#Тестирование-модели\" data-toc-modified-id=\"Тестирование-модели-4\"><span class=\"toc-item-num\">4&nbsp;&nbsp;</span>Тестирование модели</a></span></li><li><span><a href=\"#Выводы:\" data-toc-modified-id=\"Выводы:-5\"><span class=\"toc-item-num\">5&nbsp;&nbsp;</span>Выводы:</a></span></li>"
   ]
  },
  {
   "cell_type": "markdown",
   "metadata": {},
   "source": [
    "# Отток клиентов"
   ]
  },
  {
   "cell_type": "markdown",
   "metadata": {},
   "source": [
    "Из «Бета-Банка» стали уходить клиенты. Каждый месяц. Немного, но заметно. Банковские маркетологи посчитали: сохранять текущих клиентов дешевле, чем привлекать новых.\n",
    "\n",
    "Нужно спрогнозировать, уйдёт клиент из банка в ближайшее время или нет. Вам предоставлены исторические данные о поведении клиентов и расторжении договоров с банком. \n",
    "\n",
    "Постройте модель с предельно большим значением *F1*-меры. Чтобы сдать проект успешно, нужно довести метрику до 0.59. Проверьте *F1*-меру на тестовой выборке самостоятельно.\n",
    "\n",
    "Дополнительно измеряйте *AUC-ROC*, сравнивайте её значение с *F1*-мерой.\n",
    "\n",
    "Источник данных: [https://www.kaggle.com/barelydedicated/bank-customer-churn-modeling](https://www.kaggle.com/barelydedicated/bank-customer-churn-modeling)"
   ]
  },
  {
   "cell_type": "markdown",
   "metadata": {},
   "source": [
    "## Подготовка данных"
   ]
  },
  {
   "cell_type": "code",
   "execution_count": 1,
   "metadata": {
    "scrolled": false
   },
   "outputs": [],
   "source": [
    "import pandas as pd\n",
    "import numpy as np\n",
    "from sklearn.model_selection import train_test_split\n",
    "from sklearn.linear_model import LinearRegression, LogisticRegression\n",
    "from sklearn.metrics import mean_absolute_error\n",
    "from sklearn.metrics import confusion_matrix, precision_score, recall_score, f1_score, roc_auc_score\n",
    "from sklearn.preprocessing import StandardScaler\n",
    "from sklearn.utils import shuffle\n",
    "from sklearn.tree import DecisionTreeRegressor, DecisionTreeClassifier\n",
    "from sklearn.ensemble import RandomForestRegressor, RandomForestClassifier"
   ]
  },
  {
   "cell_type": "code",
   "execution_count": 2,
   "metadata": {},
   "outputs": [],
   "source": [
    "data = pd.read_csv('/datasets/Churn.csv')"
   ]
  },
  {
   "cell_type": "code",
   "execution_count": 3,
   "metadata": {},
   "outputs": [
    {
     "data": {
      "text/html": [
       "<div>\n",
       "<style scoped>\n",
       "    .dataframe tbody tr th:only-of-type {\n",
       "        vertical-align: middle;\n",
       "    }\n",
       "\n",
       "    .dataframe tbody tr th {\n",
       "        vertical-align: top;\n",
       "    }\n",
       "\n",
       "    .dataframe thead th {\n",
       "        text-align: right;\n",
       "    }\n",
       "</style>\n",
       "<table border=\"1\" class=\"dataframe\">\n",
       "  <thead>\n",
       "    <tr style=\"text-align: right;\">\n",
       "      <th></th>\n",
       "      <th>RowNumber</th>\n",
       "      <th>CustomerId</th>\n",
       "      <th>Surname</th>\n",
       "      <th>CreditScore</th>\n",
       "      <th>Geography</th>\n",
       "      <th>Gender</th>\n",
       "      <th>Age</th>\n",
       "      <th>Tenure</th>\n",
       "      <th>Balance</th>\n",
       "      <th>NumOfProducts</th>\n",
       "      <th>HasCrCard</th>\n",
       "      <th>IsActiveMember</th>\n",
       "      <th>EstimatedSalary</th>\n",
       "      <th>Exited</th>\n",
       "    </tr>\n",
       "  </thead>\n",
       "  <tbody>\n",
       "    <tr>\n",
       "      <th>0</th>\n",
       "      <td>1</td>\n",
       "      <td>15634602</td>\n",
       "      <td>Hargrave</td>\n",
       "      <td>619</td>\n",
       "      <td>France</td>\n",
       "      <td>Female</td>\n",
       "      <td>42</td>\n",
       "      <td>2.0</td>\n",
       "      <td>0.00</td>\n",
       "      <td>1</td>\n",
       "      <td>1</td>\n",
       "      <td>1</td>\n",
       "      <td>101348.88</td>\n",
       "      <td>1</td>\n",
       "    </tr>\n",
       "    <tr>\n",
       "      <th>1</th>\n",
       "      <td>2</td>\n",
       "      <td>15647311</td>\n",
       "      <td>Hill</td>\n",
       "      <td>608</td>\n",
       "      <td>Spain</td>\n",
       "      <td>Female</td>\n",
       "      <td>41</td>\n",
       "      <td>1.0</td>\n",
       "      <td>83807.86</td>\n",
       "      <td>1</td>\n",
       "      <td>0</td>\n",
       "      <td>1</td>\n",
       "      <td>112542.58</td>\n",
       "      <td>0</td>\n",
       "    </tr>\n",
       "    <tr>\n",
       "      <th>2</th>\n",
       "      <td>3</td>\n",
       "      <td>15619304</td>\n",
       "      <td>Onio</td>\n",
       "      <td>502</td>\n",
       "      <td>France</td>\n",
       "      <td>Female</td>\n",
       "      <td>42</td>\n",
       "      <td>8.0</td>\n",
       "      <td>159660.80</td>\n",
       "      <td>3</td>\n",
       "      <td>1</td>\n",
       "      <td>0</td>\n",
       "      <td>113931.57</td>\n",
       "      <td>1</td>\n",
       "    </tr>\n",
       "    <tr>\n",
       "      <th>3</th>\n",
       "      <td>4</td>\n",
       "      <td>15701354</td>\n",
       "      <td>Boni</td>\n",
       "      <td>699</td>\n",
       "      <td>France</td>\n",
       "      <td>Female</td>\n",
       "      <td>39</td>\n",
       "      <td>1.0</td>\n",
       "      <td>0.00</td>\n",
       "      <td>2</td>\n",
       "      <td>0</td>\n",
       "      <td>0</td>\n",
       "      <td>93826.63</td>\n",
       "      <td>0</td>\n",
       "    </tr>\n",
       "    <tr>\n",
       "      <th>4</th>\n",
       "      <td>5</td>\n",
       "      <td>15737888</td>\n",
       "      <td>Mitchell</td>\n",
       "      <td>850</td>\n",
       "      <td>Spain</td>\n",
       "      <td>Female</td>\n",
       "      <td>43</td>\n",
       "      <td>2.0</td>\n",
       "      <td>125510.82</td>\n",
       "      <td>1</td>\n",
       "      <td>1</td>\n",
       "      <td>1</td>\n",
       "      <td>79084.10</td>\n",
       "      <td>0</td>\n",
       "    </tr>\n",
       "  </tbody>\n",
       "</table>\n",
       "</div>"
      ],
      "text/plain": [
       "   RowNumber  CustomerId   Surname  CreditScore Geography  Gender  Age  \\\n",
       "0          1    15634602  Hargrave          619    France  Female   42   \n",
       "1          2    15647311      Hill          608     Spain  Female   41   \n",
       "2          3    15619304      Onio          502    France  Female   42   \n",
       "3          4    15701354      Boni          699    France  Female   39   \n",
       "4          5    15737888  Mitchell          850     Spain  Female   43   \n",
       "\n",
       "   Tenure    Balance  NumOfProducts  HasCrCard  IsActiveMember  \\\n",
       "0     2.0       0.00              1          1               1   \n",
       "1     1.0   83807.86              1          0               1   \n",
       "2     8.0  159660.80              3          1               0   \n",
       "3     1.0       0.00              2          0               0   \n",
       "4     2.0  125510.82              1          1               1   \n",
       "\n",
       "   EstimatedSalary  Exited  \n",
       "0        101348.88       1  \n",
       "1        112542.58       0  \n",
       "2        113931.57       1  \n",
       "3         93826.63       0  \n",
       "4         79084.10       0  "
      ]
     },
     "execution_count": 3,
     "metadata": {},
     "output_type": "execute_result"
    }
   ],
   "source": [
    "data.head()"
   ]
  },
  {
   "cell_type": "code",
   "execution_count": 4,
   "metadata": {
    "scrolled": true
   },
   "outputs": [
    {
     "name": "stdout",
     "output_type": "stream",
     "text": [
      "9.09 % пропусков в Tenure\n"
     ]
    }
   ],
   "source": [
    "print(data['Tenure'].isna().sum() / len(data) * 100, '% пропусков в Tenure')"
   ]
  },
  {
   "cell_type": "code",
   "execution_count": 5,
   "metadata": {
    "scrolled": true
   },
   "outputs": [
    {
     "data": {
      "text/plain": [
       "array([ 2.,  1.,  8.,  7.,  4.,  6.,  3., 10.,  5.,  9.,  0., nan])"
      ]
     },
     "execution_count": 5,
     "metadata": {},
     "output_type": "execute_result"
    }
   ],
   "source": [
    "data['Tenure'].unique()"
   ]
  },
  {
   "cell_type": "code",
   "execution_count": 6,
   "metadata": {},
   "outputs": [],
   "source": [
    "data = data.dropna()\n",
    "data['Tenure'] = data['Tenure'].astype('int')"
   ]
  },
  {
   "cell_type": "markdown",
   "metadata": {},
   "source": [
    "Так как пропусков всего 9%, я решила их удалить"
   ]
  },
  {
   "cell_type": "code",
   "execution_count": 7,
   "metadata": {},
   "outputs": [],
   "source": [
    "data_ohe = pd.get_dummies(data.drop(['Surname'], axis=1), drop_first=True)"
   ]
  },
  {
   "cell_type": "code",
   "execution_count": 8,
   "metadata": {},
   "outputs": [
    {
     "data": {
      "text/html": [
       "<div>\n",
       "<style scoped>\n",
       "    .dataframe tbody tr th:only-of-type {\n",
       "        vertical-align: middle;\n",
       "    }\n",
       "\n",
       "    .dataframe tbody tr th {\n",
       "        vertical-align: top;\n",
       "    }\n",
       "\n",
       "    .dataframe thead th {\n",
       "        text-align: right;\n",
       "    }\n",
       "</style>\n",
       "<table border=\"1\" class=\"dataframe\">\n",
       "  <thead>\n",
       "    <tr style=\"text-align: right;\">\n",
       "      <th></th>\n",
       "      <th>RowNumber</th>\n",
       "      <th>CustomerId</th>\n",
       "      <th>CreditScore</th>\n",
       "      <th>Age</th>\n",
       "      <th>Tenure</th>\n",
       "      <th>Balance</th>\n",
       "      <th>NumOfProducts</th>\n",
       "      <th>HasCrCard</th>\n",
       "      <th>IsActiveMember</th>\n",
       "      <th>EstimatedSalary</th>\n",
       "      <th>Exited</th>\n",
       "      <th>Geography_Germany</th>\n",
       "      <th>Geography_Spain</th>\n",
       "      <th>Gender_Male</th>\n",
       "    </tr>\n",
       "  </thead>\n",
       "  <tbody>\n",
       "    <tr>\n",
       "      <th>0</th>\n",
       "      <td>1</td>\n",
       "      <td>15634602</td>\n",
       "      <td>619</td>\n",
       "      <td>42</td>\n",
       "      <td>2</td>\n",
       "      <td>0.00</td>\n",
       "      <td>1</td>\n",
       "      <td>1</td>\n",
       "      <td>1</td>\n",
       "      <td>101348.88</td>\n",
       "      <td>1</td>\n",
       "      <td>0</td>\n",
       "      <td>0</td>\n",
       "      <td>0</td>\n",
       "    </tr>\n",
       "    <tr>\n",
       "      <th>1</th>\n",
       "      <td>2</td>\n",
       "      <td>15647311</td>\n",
       "      <td>608</td>\n",
       "      <td>41</td>\n",
       "      <td>1</td>\n",
       "      <td>83807.86</td>\n",
       "      <td>1</td>\n",
       "      <td>0</td>\n",
       "      <td>1</td>\n",
       "      <td>112542.58</td>\n",
       "      <td>0</td>\n",
       "      <td>0</td>\n",
       "      <td>1</td>\n",
       "      <td>0</td>\n",
       "    </tr>\n",
       "    <tr>\n",
       "      <th>2</th>\n",
       "      <td>3</td>\n",
       "      <td>15619304</td>\n",
       "      <td>502</td>\n",
       "      <td>42</td>\n",
       "      <td>8</td>\n",
       "      <td>159660.80</td>\n",
       "      <td>3</td>\n",
       "      <td>1</td>\n",
       "      <td>0</td>\n",
       "      <td>113931.57</td>\n",
       "      <td>1</td>\n",
       "      <td>0</td>\n",
       "      <td>0</td>\n",
       "      <td>0</td>\n",
       "    </tr>\n",
       "    <tr>\n",
       "      <th>3</th>\n",
       "      <td>4</td>\n",
       "      <td>15701354</td>\n",
       "      <td>699</td>\n",
       "      <td>39</td>\n",
       "      <td>1</td>\n",
       "      <td>0.00</td>\n",
       "      <td>2</td>\n",
       "      <td>0</td>\n",
       "      <td>0</td>\n",
       "      <td>93826.63</td>\n",
       "      <td>0</td>\n",
       "      <td>0</td>\n",
       "      <td>0</td>\n",
       "      <td>0</td>\n",
       "    </tr>\n",
       "    <tr>\n",
       "      <th>4</th>\n",
       "      <td>5</td>\n",
       "      <td>15737888</td>\n",
       "      <td>850</td>\n",
       "      <td>43</td>\n",
       "      <td>2</td>\n",
       "      <td>125510.82</td>\n",
       "      <td>1</td>\n",
       "      <td>1</td>\n",
       "      <td>1</td>\n",
       "      <td>79084.10</td>\n",
       "      <td>0</td>\n",
       "      <td>0</td>\n",
       "      <td>1</td>\n",
       "      <td>0</td>\n",
       "    </tr>\n",
       "  </tbody>\n",
       "</table>\n",
       "</div>"
      ],
      "text/plain": [
       "   RowNumber  CustomerId  CreditScore  Age  Tenure    Balance  NumOfProducts  \\\n",
       "0          1    15634602          619   42       2       0.00              1   \n",
       "1          2    15647311          608   41       1   83807.86              1   \n",
       "2          3    15619304          502   42       8  159660.80              3   \n",
       "3          4    15701354          699   39       1       0.00              2   \n",
       "4          5    15737888          850   43       2  125510.82              1   \n",
       "\n",
       "   HasCrCard  IsActiveMember  EstimatedSalary  Exited  Geography_Germany  \\\n",
       "0          1               1        101348.88       1                  0   \n",
       "1          0               1        112542.58       0                  0   \n",
       "2          1               0        113931.57       1                  0   \n",
       "3          0               0         93826.63       0                  0   \n",
       "4          1               1         79084.10       0                  0   \n",
       "\n",
       "   Geography_Spain  Gender_Male  \n",
       "0                0            0  \n",
       "1                1            0  \n",
       "2                0            0  \n",
       "3                0            0  \n",
       "4                1            0  "
      ]
     },
     "execution_count": 8,
     "metadata": {},
     "output_type": "execute_result"
    }
   ],
   "source": [
    "data_ohe.head()"
   ]
  },
  {
   "cell_type": "code",
   "execution_count": 9,
   "metadata": {},
   "outputs": [],
   "source": [
    "target = data_ohe['Exited']\n",
    "features = data_ohe.drop(['CustomerId','RowNumber', 'Exited'], axis=1)\n",
    "features_train, features_valid, target_train, target_valid = train_test_split(\n",
    "features, target, test_size=0.4, random_state=12345, stratify=target)"
   ]
  },
  {
   "cell_type": "markdown",
   "metadata": {},
   "source": [
    "Удаляю 'Surname', так как этот столбец ни на что не влияет, также как и ID. Столбец 'RowNumber' тоже не нужен, так как он отображает номер строки."
   ]
  },
  {
   "cell_type": "code",
   "execution_count": 10,
   "metadata": {},
   "outputs": [],
   "source": [
    "features_valid, features_test, target_valid, target_test = train_test_split(\n",
    "features_valid, target_valid, test_size=0.5, random_state=12345, stratify=target_valid)"
   ]
  },
  {
   "cell_type": "markdown",
   "metadata": {},
   "source": [
    "## Исследование задачи"
   ]
  },
  {
   "cell_type": "code",
   "execution_count": 11,
   "metadata": {},
   "outputs": [
    {
     "name": "stdout",
     "output_type": "stream",
     "text": [
      "7237\n",
      "1854\n"
     ]
    }
   ],
   "source": [
    "print(data.query('Exited == 0')['Exited'].count())\n",
    "print(data.query('Exited == 1')['Exited'].count())"
   ]
  },
  {
   "cell_type": "markdown",
   "metadata": {},
   "source": [
    "Прослеживается явный дисбаланс"
   ]
  },
  {
   "cell_type": "code",
   "execution_count": 12,
   "metadata": {},
   "outputs": [
    {
     "data": {
      "text/html": [
       "<div>\n",
       "<style scoped>\n",
       "    .dataframe tbody tr th:only-of-type {\n",
       "        vertical-align: middle;\n",
       "    }\n",
       "\n",
       "    .dataframe tbody tr th {\n",
       "        vertical-align: top;\n",
       "    }\n",
       "\n",
       "    .dataframe thead th {\n",
       "        text-align: right;\n",
       "    }\n",
       "</style>\n",
       "<table border=\"1\" class=\"dataframe\">\n",
       "  <thead>\n",
       "    <tr style=\"text-align: right;\">\n",
       "      <th></th>\n",
       "      <th>CreditScore</th>\n",
       "      <th>Age</th>\n",
       "      <th>Tenure</th>\n",
       "      <th>Balance</th>\n",
       "      <th>NumOfProducts</th>\n",
       "      <th>HasCrCard</th>\n",
       "      <th>IsActiveMember</th>\n",
       "      <th>EstimatedSalary</th>\n",
       "      <th>Geography_Germany</th>\n",
       "      <th>Geography_Spain</th>\n",
       "      <th>Gender_Male</th>\n",
       "    </tr>\n",
       "  </thead>\n",
       "  <tbody>\n",
       "    <tr>\n",
       "      <th>9723</th>\n",
       "      <td>526</td>\n",
       "      <td>32</td>\n",
       "      <td>7</td>\n",
       "      <td>125540.05</td>\n",
       "      <td>1</td>\n",
       "      <td>0</td>\n",
       "      <td>0</td>\n",
       "      <td>86786.41</td>\n",
       "      <td>0</td>\n",
       "      <td>0</td>\n",
       "      <td>1</td>\n",
       "    </tr>\n",
       "    <tr>\n",
       "      <th>1224</th>\n",
       "      <td>500</td>\n",
       "      <td>47</td>\n",
       "      <td>8</td>\n",
       "      <td>128486.11</td>\n",
       "      <td>1</td>\n",
       "      <td>1</td>\n",
       "      <td>0</td>\n",
       "      <td>179227.12</td>\n",
       "      <td>0</td>\n",
       "      <td>1</td>\n",
       "      <td>0</td>\n",
       "    </tr>\n",
       "    <tr>\n",
       "      <th>8377</th>\n",
       "      <td>802</td>\n",
       "      <td>40</td>\n",
       "      <td>4</td>\n",
       "      <td>0.00</td>\n",
       "      <td>2</td>\n",
       "      <td>1</td>\n",
       "      <td>1</td>\n",
       "      <td>81908.09</td>\n",
       "      <td>0</td>\n",
       "      <td>1</td>\n",
       "      <td>1</td>\n",
       "    </tr>\n",
       "    <tr>\n",
       "      <th>8014</th>\n",
       "      <td>731</td>\n",
       "      <td>39</td>\n",
       "      <td>2</td>\n",
       "      <td>126816.18</td>\n",
       "      <td>1</td>\n",
       "      <td>1</td>\n",
       "      <td>1</td>\n",
       "      <td>74850.93</td>\n",
       "      <td>0</td>\n",
       "      <td>1</td>\n",
       "      <td>0</td>\n",
       "    </tr>\n",
       "    <tr>\n",
       "      <th>2491</th>\n",
       "      <td>612</td>\n",
       "      <td>26</td>\n",
       "      <td>4</td>\n",
       "      <td>0.00</td>\n",
       "      <td>2</td>\n",
       "      <td>1</td>\n",
       "      <td>1</td>\n",
       "      <td>179780.74</td>\n",
       "      <td>0</td>\n",
       "      <td>1</td>\n",
       "      <td>0</td>\n",
       "    </tr>\n",
       "  </tbody>\n",
       "</table>\n",
       "</div>"
      ],
      "text/plain": [
       "      CreditScore  Age  Tenure    Balance  NumOfProducts  HasCrCard  \\\n",
       "9723          526   32       7  125540.05              1          0   \n",
       "1224          500   47       8  128486.11              1          1   \n",
       "8377          802   40       4       0.00              2          1   \n",
       "8014          731   39       2  126816.18              1          1   \n",
       "2491          612   26       4       0.00              2          1   \n",
       "\n",
       "      IsActiveMember  EstimatedSalary  Geography_Germany  Geography_Spain  \\\n",
       "9723               0         86786.41                  0                0   \n",
       "1224               0        179227.12                  0                1   \n",
       "8377               1         81908.09                  0                1   \n",
       "8014               1         74850.93                  0                1   \n",
       "2491               1        179780.74                  0                1   \n",
       "\n",
       "      Gender_Male  \n",
       "9723            1  \n",
       "1224            0  \n",
       "8377            1  \n",
       "8014            0  \n",
       "2491            0  "
      ]
     },
     "execution_count": 12,
     "metadata": {},
     "output_type": "execute_result"
    }
   ],
   "source": [
    "features_train.head()"
   ]
  },
  {
   "cell_type": "code",
   "execution_count": 13,
   "metadata": {},
   "outputs": [],
   "source": [
    "scaler = StandardScaler()\n",
    "scaler.fit(features_train)\n",
    "features_train_scaled = scaler.transform(features_train)\n",
    "features_valid_scaled = scaler.transform(features_valid)\n",
    "features_test_scaled = scaler.transform(features_test)"
   ]
  },
  {
   "cell_type": "code",
   "execution_count": 14,
   "metadata": {},
   "outputs": [
    {
     "name": "stdout",
     "output_type": "stream",
     "text": [
      "0.3306772908366534\n",
      "\n",
      "[[1399   48]\n",
      " [ 288   83]]\n"
     ]
    }
   ],
   "source": [
    "model = LogisticRegression()\n",
    "model.fit(features_train_scaled, target_train)\n",
    "predictions_valid = model.predict(features_valid_scaled)\n",
    "\n",
    "print(f1_score(target_valid, predictions_valid))\n",
    "print()\n",
    "print(confusion_matrix(target_valid, predictions_valid))"
   ]
  },
  {
   "cell_type": "code",
   "execution_count": 15,
   "metadata": {
    "scrolled": true
   },
   "outputs": [
    {
     "name": "stdout",
     "output_type": "stream",
     "text": [
      "0.0\n",
      "0.16748768472906403\n",
      "0.23584905660377362\n",
      "0.4273858921161826\n",
      "0.5057471264367815\n",
      "0.5306122448979592\n",
      "0.5525846702317291\n",
      "0.5729166666666666\n",
      "0.5956006768189509\n",
      "0.5763293310463121\n",
      "0.5898305084745763\n",
      "0.6076794657762938\n",
      "0.5976627712854758\n",
      "0.6075533661740558\n",
      "0.6019736842105263\n",
      "0.5953947368421053\n",
      "0.5894039735099337\n",
      "0.5974025974025975\n",
      "0.6121112929623569\n"
     ]
    }
   ],
   "source": [
    "for depth in range(1, 20):\n",
    "    model = RandomForestClassifier(random_state=12345, n_estimators=50, max_depth=depth)\n",
    "    model.fit(features_train_scaled, target_train)\n",
    "    predicted_valid = model.predict(features_valid_scaled)\n",
    "    print(f1_score(target_valid, predicted_valid))"
   ]
  },
  {
   "cell_type": "code",
   "execution_count": 16,
   "metadata": {},
   "outputs": [
    {
     "name": "stdout",
     "output_type": "stream",
     "text": [
      "0.0\n",
      "0.5240464344941957\n",
      "0.5208681135225375\n",
      "0.5127272727272727\n",
      "0.5733788395904437\n",
      "0.5797598627787307\n",
      "0.5815126050420169\n",
      "0.5463576158940396\n",
      "0.5382059800664452\n",
      "0.5486443381180223\n",
      "0.5214814814814815\n",
      "0.5007541478129715\n",
      "0.5021770682148041\n",
      "0.4921316165951359\n",
      "0.49108367626886146\n",
      "0.4918918918918919\n",
      "0.5040431266846361\n",
      "0.4823989569752281\n",
      "0.48339973439575035\n"
     ]
    }
   ],
   "source": [
    "for depth in range(1, 20):\n",
    "    model = DecisionTreeClassifier(random_state=12345, max_depth=depth)\n",
    "    model.fit(features_train_scaled, target_train)\n",
    "    predicted_valid = model.predict(features_valid_scaled)\n",
    "    print(f1_score(target_valid, predicted_valid))"
   ]
  },
  {
   "cell_type": "markdown",
   "metadata": {},
   "source": [
    "*** Вывод:***\n",
    "\n",
    "Наилучшей моделью является RandomForestClassifier(random_state=12345, n_estimators=50, max_depth=19), f1 = 0.612"
   ]
  },
  {
   "cell_type": "markdown",
   "metadata": {},
   "source": [
    "## Борьба с дисбалансом"
   ]
  },
  {
   "cell_type": "code",
   "execution_count": 18,
   "metadata": {},
   "outputs": [],
   "source": [
    "def upsample(features, target, repeat):\n",
    "    features_zeros = features[target == 0]\n",
    "    features_ones = features[target == 1]\n",
    "    target_zeros = target[target == 0]\n",
    "    target_ones = target[target == 1]\n",
    "    \n",
    "    features_upsampled = pd.concat([features_zeros] + [features_ones] * repeat)\n",
    "    target_upsampled = pd.concat([target_zeros] + [target_ones] * repeat)\n",
    "    \n",
    "    features_upsampled, target_upsampled = shuffle(\n",
    "        features_upsampled, target_upsampled, random_state=12345)\n",
    "    \n",
    "    return features_upsampled, target_upsampled"
   ]
  },
  {
   "cell_type": "code",
   "execution_count": 19,
   "metadata": {},
   "outputs": [],
   "source": [
    "features_upsampled, target_upsampled = upsample(\n",
    "    pd.DataFrame(features_train_scaled, index=features_train.index), target_train, 4)"
   ]
  },
  {
   "cell_type": "code",
   "execution_count": 20,
   "metadata": {
    "scrolled": true
   },
   "outputs": [
    {
     "name": "stdout",
     "output_type": "stream",
     "text": [
      "F1: 0.5079365079365079\n"
     ]
    }
   ],
   "source": [
    "model = LogisticRegression(random_state=12345, solver='liblinear', class_weight='balanced')\n",
    "model.fit(features_train_scaled, target_train)\n",
    "predicted_valid = model.predict(features_valid_scaled)\n",
    "print(\"F1:\", f1_score(target_valid, predicted_valid))"
   ]
  },
  {
   "cell_type": "code",
   "execution_count": 21,
   "metadata": {},
   "outputs": [
    {
     "name": "stdout",
     "output_type": "stream",
     "text": [
      "F1: 0.5050878815911193\n"
     ]
    }
   ],
   "source": [
    "model = LogisticRegression(random_state=12345, solver='liblinear')\n",
    "model.fit(features_upsampled, target_upsampled)\n",
    "predicted_valid = model.predict(features_valid_scaled)\n",
    "print(\"F1:\", f1_score(target_valid, predicted_valid))"
   ]
  },
  {
   "cell_type": "markdown",
   "metadata": {},
   "source": [
    "Метрика f1 незначительно уменьшилась."
   ]
  },
  {
   "cell_type": "code",
   "execution_count": 22,
   "metadata": {},
   "outputs": [],
   "source": [
    "def downsample(features, target, fraction):\n",
    "    features_zeros = features[target == 0]\n",
    "    features_ones = features[target == 1]\n",
    "    target_zeros = target[target == 0]\n",
    "    target_ones = target[target == 1]\n",
    "\n",
    "    features_downsampled = pd.concat(\n",
    "        [features_zeros.sample(frac=fraction, random_state=12345)] + [features_ones])\n",
    "    target_downsampled = pd.concat(\n",
    "        [target_zeros.sample(frac=fraction, random_state=12345)] + [target_ones])\n",
    "    \n",
    "    features_downsampled, target_downsampled = shuffle(\n",
    "        features_downsampled, target_downsampled, random_state=12345)\n",
    "    \n",
    "    return features_downsampled, target_downsampled"
   ]
  },
  {
   "cell_type": "code",
   "execution_count": 23,
   "metadata": {
    "scrolled": true
   },
   "outputs": [
    {
     "name": "stdout",
     "output_type": "stream",
     "text": [
      "F1: 0.5163704396632366\n"
     ]
    }
   ],
   "source": [
    "features_downsampled, target_downsampled = downsample(\n",
    "    pd.DataFrame(features_train_scaled, index=features_train.index), target_train, 0.26)\n",
    "\n",
    "model = LogisticRegression(random_state=12345, solver='liblinear')\n",
    "model.fit(features_downsampled, target_downsampled)\n",
    "predicted_valid = model.predict(features_valid_scaled)\n",
    "print(\"F1:\", f1_score(target_valid, predicted_valid))"
   ]
  },
  {
   "cell_type": "markdown",
   "metadata": {},
   "source": [
    "Уменьшение выборки немного увеличивает метрику f1, но данный метод не совсем нам подходит, потому что мы можем потерять важные данные."
   ]
  },
  {
   "cell_type": "code",
   "execution_count": 24,
   "metadata": {},
   "outputs": [
    {
     "data": {
      "text/plain": [
       "0.7893047610354726"
      ]
     },
     "execution_count": 24,
     "metadata": {},
     "output_type": "execute_result"
    }
   ],
   "source": [
    "model = LogisticRegression(random_state=12345, solver='liblinear')\n",
    "model.fit(features_train_scaled, target_train)\n",
    "\n",
    "probabilities_valid = model.predict_proba(features_valid_scaled)\n",
    "probabilities_one_valid = probabilities_valid[:, 1]\n",
    "\n",
    "roc_auc = roc_auc_score(target_valid, probabilities_one_valid)\n",
    "roc_auc"
   ]
  },
  {
   "cell_type": "code",
   "execution_count": 25,
   "metadata": {},
   "outputs": [
    {
     "name": "stdout",
     "output_type": "stream",
     "text": [
      "0.5433746425166825\n",
      "0.5515210991167812\n",
      "0.5737704918032787\n",
      "0.6025641025641026\n",
      "0.6081229418221735\n",
      "0.6072607260726073\n",
      "0.6228070175438596\n",
      "0.6341463414634148\n",
      "0.617169373549884\n",
      "0.6223277909738717\n",
      "0.6287128712871287\n",
      "0.646074646074646\n",
      "0.6216216216216216\n",
      "0.6198347107438017\n",
      "0.6253521126760563\n",
      "0.6326241134751773\n",
      "0.5977011494252873\n",
      "0.5875370919881306\n",
      "0.6142649199417759\n"
     ]
    }
   ],
   "source": [
    "for depth in range(1, 20):\n",
    "    model = RandomForestClassifier(random_state=12345, n_estimators=20, max_depth=depth)\n",
    "    model.fit(features_upsampled, target_upsampled)\n",
    "    predicted_valid = model.predict(features_valid_scaled)\n",
    "    print(f1_score(target_valid, predicted_valid))"
   ]
  },
  {
   "cell_type": "code",
   "execution_count": 26,
   "metadata": {},
   "outputs": [
    {
     "name": "stdout",
     "output_type": "stream",
     "text": [
      "0.4638157894736842\n",
      "0.5780104712041885\n",
      "0.5516569200779727\n",
      "0.6077348066298344\n",
      "0.6051743532058492\n",
      "0.6129753914988815\n",
      "0.6187845303867403\n",
      "0.6285714285714286\n",
      "0.6093928980526919\n",
      "0.6251497005988025\n",
      "0.6140776699029126\n",
      "0.5989583333333334\n",
      "0.6143617021276596\n",
      "0.606060606060606\n",
      "0.5847457627118643\n",
      "0.6005665722379602\n",
      "0.5868613138686132\n",
      "0.5847076461769115\n",
      "0.593245227606461\n"
     ]
    }
   ],
   "source": [
    "for depth in range(1, 20):\n",
    "    model = RandomForestClassifier(random_state=12345, n_estimators=10, max_depth=depth)\n",
    "    model.fit(features_upsampled, target_upsampled)\n",
    "    predicted_valid = model.predict(features_valid_scaled)\n",
    "    print(f1_score(target_valid, predicted_valid))"
   ]
  },
  {
   "cell_type": "code",
   "execution_count": 27,
   "metadata": {},
   "outputs": [
    {
     "name": "stdout",
     "output_type": "stream",
     "text": [
      "0.5387596899224806\n",
      "0.5478087649402391\n",
      "0.5801047120418849\n",
      "0.5908607863974495\n",
      "0.6080347448425624\n",
      "0.6157253599114065\n",
      "0.6298342541436462\n",
      "0.6261467889908257\n",
      "0.6313364055299538\n",
      "0.6278240190249703\n",
      "0.631055900621118\n",
      "0.6369593709043251\n",
      "0.6327077747989276\n",
      "0.6358543417366946\n",
      "0.6304044630404463\n",
      "0.6293103448275863\n",
      "0.6330935251798562\n",
      "0.6193921852387844\n",
      "0.6226138032305433\n"
     ]
    }
   ],
   "source": [
    "for depth in range(1, 20):\n",
    "    model = RandomForestClassifier(random_state=12345, n_estimators=80, max_depth=depth)\n",
    "    model.fit(features_upsampled, target_upsampled)\n",
    "    predicted_valid = model.predict(features_valid_scaled)\n",
    "    print(f1_score(target_valid, predicted_valid))"
   ]
  },
  {
   "cell_type": "markdown",
   "metadata": {},
   "source": [
    "Модель леса дает результат 0.646 при n_estimators=20 и max_depth=12"
   ]
  },
  {
   "cell_type": "code",
   "execution_count": 28,
   "metadata": {},
   "outputs": [
    {
     "name": "stdout",
     "output_type": "stream",
     "text": [
      "0.5092402464065708\n",
      "0.5376128385155466\n",
      "0.5376128385155466\n",
      "0.5522682445759368\n",
      "0.5711481844946025\n",
      "0.5825049701789264\n",
      "0.5628042843232717\n",
      "0.5813449023861171\n",
      "0.5548245614035088\n",
      "0.531284302963776\n",
      "0.5378346915017462\n",
      "0.5087924970691676\n",
      "0.500590318772137\n",
      "0.5115712545676004\n",
      "0.5155666251556662\n",
      "0.5114503816793893\n",
      "0.523936170212766\n",
      "0.49736842105263157\n",
      "0.5190039318479686\n"
     ]
    }
   ],
   "source": [
    "for depth in range(1, 20):\n",
    "    model = DecisionTreeClassifier(random_state=12345, max_depth=depth)\n",
    "    model.fit(features_upsampled, target_upsampled)\n",
    "    predicted_valid = model.predict(features_valid_scaled)\n",
    "    print(f1_score(target_valid, predicted_valid))"
   ]
  },
  {
   "cell_type": "markdown",
   "metadata": {},
   "source": [
    "При max_depth = 6 дерево дает нам наилучшее решение: 0.5825"
   ]
  },
  {
   "cell_type": "markdown",
   "metadata": {},
   "source": [
    "Вывод: Здесь я боролась с дисбалансом техникой upsample, она лучше downsample, так как мы не теряем часть данных.\n",
    "\n",
    "Модель леса дает лучший результат 0.646 при n_estimators=20 и max_depth=12, тогда как дерево дает нам наилучшее решение: 0.5825. Модель логистической регресии дает результат еще хуже: F1 = 0.5"
   ]
  },
  {
   "cell_type": "markdown",
   "metadata": {},
   "source": [
    "## Тестирование модели"
   ]
  },
  {
   "cell_type": "code",
   "execution_count": 29,
   "metadata": {},
   "outputs": [
    {
     "data": {
      "text/plain": [
       "0.5923984272608126"
      ]
     },
     "execution_count": 29,
     "metadata": {},
     "output_type": "execute_result"
    }
   ],
   "source": [
    "model = RandomForestClassifier(n_estimators=20, max_depth=12, random_state=12345)\n",
    "model.fit(features_upsampled, target_upsampled)\n",
    "predicted_test = model.predict(features_test_scaled)\n",
    "f1_score(target_test, predicted_test)"
   ]
  },
  {
   "cell_type": "markdown",
   "metadata": {},
   "source": [
    "## Выводы:\n",
    "\n"
   ]
  },
  {
   "cell_type": "markdown",
   "metadata": {},
   "source": [
    "Передо мной стояла задача спрогнозировать, уйдёт клиент из банка в ближайшее время или нет.\n",
    "\n",
    "- На несбалансированных данных я получила следующий результат: наилучшей моделью является RandomForestClassifier(random_state=12345, n_estimators=50, max_depth=19), f1 = 0.612\n",
    "\n",
    "- Здесь я боролась с дисбалансом техникой upsample, она лучше downsample, так как мы не теряем часть данных.\n",
    "\n",
    "- На сбалансированных данных модель леса дает лучший результат 0.646 при n_estimators=20 и max_depth=12, тогда как дерево дает нам наилучшее решение: 0.5825. Модель логистической регресии дает результат еще хуже: f1 = 0.5\n",
    "\n",
    "\n",
    "При тестировании модели я получила метрику f1 равную 0.592."
   ]
  }
 ],
 "metadata": {
  "ExecuteTimeLog": [
   {
    "duration": 800,
    "start_time": "2023-04-20T13:08:46.158Z"
   },
   {
    "duration": 823,
    "start_time": "2023-04-20T13:12:45.121Z"
   },
   {
    "duration": 50,
    "start_time": "2023-04-20T13:12:55.531Z"
   },
   {
    "duration": 95,
    "start_time": "2023-04-20T13:13:27.497Z"
   },
   {
    "duration": 23,
    "start_time": "2023-04-20T13:15:47.351Z"
   },
   {
    "duration": 19,
    "start_time": "2023-04-20T13:16:04.249Z"
   },
   {
    "duration": 17,
    "start_time": "2023-04-20T13:16:18.451Z"
   },
   {
    "duration": 10,
    "start_time": "2023-04-20T13:16:25.332Z"
   },
   {
    "duration": 11,
    "start_time": "2023-04-20T13:16:36.923Z"
   },
   {
    "duration": 15,
    "start_time": "2023-04-20T13:16:45.042Z"
   },
   {
    "duration": 10,
    "start_time": "2023-04-20T13:17:08.579Z"
   },
   {
    "duration": 51,
    "start_time": "2023-04-20T13:18:30.688Z"
   },
   {
    "duration": 10,
    "start_time": "2023-04-20T13:19:02.854Z"
   },
   {
    "duration": 25,
    "start_time": "2023-04-20T13:19:24.128Z"
   },
   {
    "duration": 1236,
    "start_time": "2023-04-20T17:48:57.286Z"
   },
   {
    "duration": 13,
    "start_time": "2023-04-20T17:49:02.289Z"
   },
   {
    "duration": 104,
    "start_time": "2023-04-20T17:49:24.197Z"
   },
   {
    "duration": 23,
    "start_time": "2023-04-20T17:49:44.885Z"
   },
   {
    "duration": 54,
    "start_time": "2023-04-20T17:52:35.473Z"
   },
   {
    "duration": 13,
    "start_time": "2023-04-20T17:53:11.870Z"
   },
   {
    "duration": 23,
    "start_time": "2023-04-20T17:53:46.480Z"
   },
   {
    "duration": 383,
    "start_time": "2023-04-20T17:55:21.294Z"
   },
   {
    "duration": 39,
    "start_time": "2023-04-20T17:55:28.531Z"
   },
   {
    "duration": 429,
    "start_time": "2023-04-20T17:56:13.422Z"
   },
   {
    "duration": 21,
    "start_time": "2023-04-20T17:56:20.332Z"
   },
   {
    "duration": 142,
    "start_time": "2023-04-20T17:56:22.368Z"
   },
   {
    "duration": 3,
    "start_time": "2023-04-20T17:57:09.075Z"
   },
   {
    "duration": 5,
    "start_time": "2023-04-20T18:01:39.691Z"
   },
   {
    "duration": 390,
    "start_time": "2023-04-20T18:02:42.739Z"
   },
   {
    "duration": 28,
    "start_time": "2023-04-20T18:03:18.108Z"
   },
   {
    "duration": 372,
    "start_time": "2023-04-20T18:06:28.793Z"
   },
   {
    "duration": 2,
    "start_time": "2023-04-20T18:07:18.064Z"
   },
   {
    "duration": 450,
    "start_time": "2023-04-20T18:08:04.636Z"
   },
   {
    "duration": 336,
    "start_time": "2023-04-20T18:08:35.369Z"
   },
   {
    "duration": 15,
    "start_time": "2023-04-20T18:08:38.604Z"
   },
   {
    "duration": 39,
    "start_time": "2023-04-20T18:08:40.009Z"
   },
   {
    "duration": 261,
    "start_time": "2023-04-20T18:09:29.346Z"
   },
   {
    "duration": 12,
    "start_time": "2023-04-20T18:09:31.863Z"
   },
   {
    "duration": 22,
    "start_time": "2023-04-20T18:09:33.009Z"
   },
   {
    "duration": 263,
    "start_time": "2023-04-20T18:10:52.364Z"
   },
   {
    "duration": 279,
    "start_time": "2023-04-20T18:12:11.618Z"
   },
   {
    "duration": 5,
    "start_time": "2023-04-20T18:14:03.517Z"
   },
   {
    "duration": 293,
    "start_time": "2023-04-20T18:15:34.924Z"
   },
   {
    "duration": 15,
    "start_time": "2023-04-20T18:15:46.291Z"
   },
   {
    "duration": 40,
    "start_time": "2023-04-20T18:15:49.030Z"
   },
   {
    "duration": 10,
    "start_time": "2023-04-20T18:17:13.694Z"
   },
   {
    "duration": 10,
    "start_time": "2023-04-20T18:17:26.041Z"
   },
   {
    "duration": 63,
    "start_time": "2023-04-20T18:18:18.535Z"
   },
   {
    "duration": 10,
    "start_time": "2023-04-20T18:18:21.622Z"
   },
   {
    "duration": 6,
    "start_time": "2023-04-20T18:18:50.067Z"
   },
   {
    "duration": 9,
    "start_time": "2023-04-20T18:19:59.114Z"
   },
   {
    "duration": 8,
    "start_time": "2023-04-20T18:20:14.281Z"
   },
   {
    "duration": 12,
    "start_time": "2023-04-20T18:20:17.978Z"
   },
   {
    "duration": 81,
    "start_time": "2023-04-20T18:20:19.671Z"
   },
   {
    "duration": 230,
    "start_time": "2023-04-20T18:21:23.520Z"
   },
   {
    "duration": 4,
    "start_time": "2023-04-20T18:56:31.281Z"
   },
   {
    "duration": 92,
    "start_time": "2023-04-20T18:57:54.461Z"
   },
   {
    "duration": 26,
    "start_time": "2023-04-20T18:58:26.640Z"
   },
   {
    "duration": 56,
    "start_time": "2023-04-20T19:00:14.526Z"
   },
   {
    "duration": 6,
    "start_time": "2023-04-20T19:00:19.356Z"
   },
   {
    "duration": 20,
    "start_time": "2023-04-20T19:00:19.941Z"
   },
   {
    "duration": 80,
    "start_time": "2023-04-20T19:02:09.465Z"
   },
   {
    "duration": 241,
    "start_time": "2023-04-20T19:02:14.855Z"
   },
   {
    "duration": 5,
    "start_time": "2023-04-20T19:02:39.474Z"
   },
   {
    "duration": 19,
    "start_time": "2023-04-20T19:02:40.104Z"
   },
   {
    "duration": 222,
    "start_time": "2023-04-20T19:02:40.772Z"
   },
   {
    "duration": 12117,
    "start_time": "2023-04-20T19:03:23.105Z"
   },
   {
    "duration": 18510,
    "start_time": "2023-04-20T19:04:06.758Z"
   },
   {
    "duration": 47080,
    "start_time": "2023-04-20T19:04:31.144Z"
   },
   {
    "duration": 201,
    "start_time": "2023-04-20T19:05:22.796Z"
   },
   {
    "duration": 30,
    "start_time": "2023-04-20T19:06:35.628Z"
   },
   {
    "duration": 207,
    "start_time": "2023-04-20T19:06:45.248Z"
   },
   {
    "duration": 12535,
    "start_time": "2023-04-20T19:07:13.760Z"
   },
   {
    "duration": 18751,
    "start_time": "2023-04-20T19:07:34.936Z"
   },
   {
    "duration": 50,
    "start_time": "2023-04-21T19:02:17.811Z"
   },
   {
    "duration": 1210,
    "start_time": "2023-04-21T19:02:23.329Z"
   },
   {
    "duration": 11,
    "start_time": "2023-04-21T19:02:24.541Z"
   },
   {
    "duration": 6,
    "start_time": "2023-04-21T19:02:25.083Z"
   },
   {
    "duration": 7,
    "start_time": "2023-04-21T19:02:26.301Z"
   },
   {
    "duration": 8,
    "start_time": "2023-04-21T19:02:27.438Z"
   },
   {
    "duration": 10,
    "start_time": "2023-04-21T19:02:28.399Z"
   },
   {
    "duration": 121,
    "start_time": "2023-04-21T19:02:29.631Z"
   },
   {
    "duration": 86,
    "start_time": "2023-04-21T19:02:40.970Z"
   },
   {
    "duration": 4,
    "start_time": "2023-04-21T19:02:49.228Z"
   },
   {
    "duration": 17,
    "start_time": "2023-04-21T19:02:49.965Z"
   },
   {
    "duration": 18051,
    "start_time": "2023-04-21T19:02:50.545Z"
   },
   {
    "duration": 52,
    "start_time": "2023-04-21T19:08:16.330Z"
   },
   {
    "duration": 1402,
    "start_time": "2023-04-21T19:12:14.186Z"
   },
   {
    "duration": 51,
    "start_time": "2023-04-21T19:12:21.766Z"
   },
   {
    "duration": 7,
    "start_time": "2023-04-21T19:12:22.300Z"
   },
   {
    "duration": 4,
    "start_time": "2023-04-21T19:12:22.805Z"
   },
   {
    "duration": 7,
    "start_time": "2023-04-21T19:12:23.264Z"
   },
   {
    "duration": 7,
    "start_time": "2023-04-21T19:12:24.109Z"
   },
   {
    "duration": 8,
    "start_time": "2023-04-21T19:12:25.162Z"
   },
   {
    "duration": 92,
    "start_time": "2023-04-21T19:12:26.163Z"
   },
   {
    "duration": 3,
    "start_time": "2023-04-21T19:12:27.833Z"
   },
   {
    "duration": 14,
    "start_time": "2023-04-21T19:12:28.265Z"
   },
   {
    "duration": 18134,
    "start_time": "2023-04-21T19:12:28.787Z"
   },
   {
    "duration": 1340,
    "start_time": "2023-04-21T19:12:49.839Z"
   },
   {
    "duration": 18181,
    "start_time": "2023-04-21T19:13:45.917Z"
   },
   {
    "duration": 1382,
    "start_time": "2023-04-21T19:14:04.100Z"
   },
   {
    "duration": 9,
    "start_time": "2023-04-21T19:15:40.283Z"
   },
   {
    "duration": 19,
    "start_time": "2023-04-21T19:15:47.473Z"
   },
   {
    "duration": 1346,
    "start_time": "2023-04-21T19:15:55.237Z"
   },
   {
    "duration": 660,
    "start_time": "2023-04-21T19:17:25.397Z"
   },
   {
    "duration": 630,
    "start_time": "2023-04-21T19:17:35.121Z"
   },
   {
    "duration": 636,
    "start_time": "2023-04-21T19:19:36.799Z"
   },
   {
    "duration": 690,
    "start_time": "2023-04-21T19:19:54.272Z"
   },
   {
    "duration": 2886,
    "start_time": "2023-04-22T09:57:29.377Z"
   },
   {
    "duration": 13,
    "start_time": "2023-04-22T09:57:32.265Z"
   },
   {
    "duration": 39,
    "start_time": "2023-04-22T09:57:32.280Z"
   },
   {
    "duration": 30,
    "start_time": "2023-04-22T09:57:32.327Z"
   },
   {
    "duration": 19,
    "start_time": "2023-04-22T09:57:32.360Z"
   },
   {
    "duration": 13,
    "start_time": "2023-04-22T09:57:32.381Z"
   },
   {
    "duration": 252,
    "start_time": "2023-04-22T09:57:32.396Z"
   },
   {
    "duration": 71,
    "start_time": "2023-04-22T09:57:32.654Z"
   },
   {
    "duration": 125,
    "start_time": "2023-04-22T09:57:32.731Z"
   },
   {
    "duration": 20135,
    "start_time": "2023-04-22T09:57:32.858Z"
   },
   {
    "duration": 695,
    "start_time": "2023-04-22T09:57:52.995Z"
   },
   {
    "duration": 314,
    "start_time": "2023-04-22T10:07:53.407Z"
   },
   {
    "duration": 2583,
    "start_time": "2023-04-22T10:18:40.743Z"
   },
   {
    "duration": 15,
    "start_time": "2023-04-22T10:18:43.332Z"
   },
   {
    "duration": 26,
    "start_time": "2023-04-22T10:18:43.349Z"
   },
   {
    "duration": 17,
    "start_time": "2023-04-22T10:18:43.377Z"
   },
   {
    "duration": 42,
    "start_time": "2023-04-22T10:18:43.398Z"
   },
   {
    "duration": 38,
    "start_time": "2023-04-22T10:18:43.443Z"
   },
   {
    "duration": 436,
    "start_time": "2023-04-22T10:18:43.484Z"
   },
   {
    "duration": 13,
    "start_time": "2023-04-22T10:18:43.922Z"
   },
   {
    "duration": 89,
    "start_time": "2023-04-22T10:18:43.939Z"
   },
   {
    "duration": 20001,
    "start_time": "2023-04-22T10:18:44.036Z"
   },
   {
    "duration": 802,
    "start_time": "2023-04-22T10:19:04.039Z"
   },
   {
    "duration": 824,
    "start_time": "2023-04-22T10:20:52.306Z"
   },
   {
    "duration": 1139,
    "start_time": "2023-04-22T11:10:15.195Z"
   },
   {
    "duration": 169,
    "start_time": "2023-04-22T11:10:28.195Z"
   },
   {
    "duration": 17,
    "start_time": "2023-04-22T11:10:33.885Z"
   },
   {
    "duration": 11,
    "start_time": "2023-04-22T11:11:27.960Z"
   },
   {
    "duration": 7,
    "start_time": "2023-04-22T11:11:32.242Z"
   },
   {
    "duration": 6,
    "start_time": "2023-04-22T11:11:38.198Z"
   },
   {
    "duration": 7,
    "start_time": "2023-04-22T11:11:39.378Z"
   },
   {
    "duration": 18,
    "start_time": "2023-04-22T11:11:49.276Z"
   },
   {
    "duration": 5,
    "start_time": "2023-04-22T11:15:46.301Z"
   },
   {
    "duration": 4,
    "start_time": "2023-04-22T11:15:57.111Z"
   },
   {
    "duration": 4,
    "start_time": "2023-04-22T11:16:06.829Z"
   },
   {
    "duration": 110,
    "start_time": "2023-04-22T11:16:44.008Z"
   },
   {
    "duration": 14,
    "start_time": "2023-04-22T11:18:10.532Z"
   },
   {
    "duration": 10,
    "start_time": "2023-04-22T11:18:19.290Z"
   },
   {
    "duration": 8,
    "start_time": "2023-04-22T11:18:39.320Z"
   },
   {
    "duration": 9,
    "start_time": "2023-04-22T12:28:49.207Z"
   },
   {
    "duration": 6,
    "start_time": "2023-04-22T12:31:41.952Z"
   },
   {
    "duration": 1205,
    "start_time": "2023-04-22T17:44:49.916Z"
   },
   {
    "duration": 5,
    "start_time": "2023-04-22T17:44:55.672Z"
   },
   {
    "duration": 131,
    "start_time": "2023-04-22T17:44:56.164Z"
   },
   {
    "duration": 26,
    "start_time": "2023-04-22T17:44:56.750Z"
   },
   {
    "duration": 10,
    "start_time": "2023-04-22T17:44:57.290Z"
   },
   {
    "duration": 22,
    "start_time": "2023-04-22T17:44:57.796Z"
   },
   {
    "duration": 6,
    "start_time": "2023-04-22T17:45:00.323Z"
   },
   {
    "duration": 7,
    "start_time": "2023-04-22T17:45:00.725Z"
   },
   {
    "duration": 14,
    "start_time": "2023-04-22T17:45:01.080Z"
   },
   {
    "duration": 3,
    "start_time": "2023-04-22T17:47:55.411Z"
   },
   {
    "duration": 51,
    "start_time": "2023-04-22T17:48:04.978Z"
   },
   {
    "duration": 3,
    "start_time": "2023-04-22T17:48:05.377Z"
   },
   {
    "duration": 2,
    "start_time": "2023-04-22T17:48:05.816Z"
   },
   {
    "duration": 20,
    "start_time": "2023-04-22T17:48:06.230Z"
   },
   {
    "duration": 6,
    "start_time": "2023-04-22T17:48:10.533Z"
   },
   {
    "duration": 5,
    "start_time": "2023-04-22T17:48:10.940Z"
   },
   {
    "duration": 11,
    "start_time": "2023-04-22T17:48:11.336Z"
   },
   {
    "duration": 10,
    "start_time": "2023-04-22T17:49:27.535Z"
   },
   {
    "duration": 6,
    "start_time": "2023-04-22T17:49:30.061Z"
   },
   {
    "duration": 14,
    "start_time": "2023-04-22T17:49:32.757Z"
   },
   {
    "duration": 9,
    "start_time": "2023-04-22T17:50:10.361Z"
   },
   {
    "duration": 41,
    "start_time": "2023-04-22T17:50:20.875Z"
   },
   {
    "duration": 5,
    "start_time": "2023-04-22T17:50:25.216Z"
   },
   {
    "duration": 9,
    "start_time": "2023-04-22T17:50:25.638Z"
   },
   {
    "duration": 12,
    "start_time": "2023-04-22T17:50:26.014Z"
   },
   {
    "duration": 10,
    "start_time": "2023-04-22T17:50:28.911Z"
   },
   {
    "duration": 7,
    "start_time": "2023-04-22T17:50:30.611Z"
   },
   {
    "duration": 11,
    "start_time": "2023-04-22T17:50:34.613Z"
   },
   {
    "duration": 17,
    "start_time": "2023-04-22T17:52:06.550Z"
   },
   {
    "duration": 13,
    "start_time": "2023-04-22T17:53:35.152Z"
   },
   {
    "duration": 109,
    "start_time": "2023-04-22T17:53:54.643Z"
   },
   {
    "duration": 5,
    "start_time": "2023-04-22T17:54:02.372Z"
   },
   {
    "duration": 13,
    "start_time": "2023-04-22T17:54:28.275Z"
   },
   {
    "duration": 20,
    "start_time": "2023-04-22T17:54:29.095Z"
   },
   {
    "duration": 14,
    "start_time": "2023-04-22T17:55:18.829Z"
   },
   {
    "duration": 25,
    "start_time": "2023-04-22T17:56:44.874Z"
   },
   {
    "duration": 15,
    "start_time": "2023-04-22T17:57:04.973Z"
   },
   {
    "duration": 11,
    "start_time": "2023-04-22T17:57:10.082Z"
   },
   {
    "duration": 29,
    "start_time": "2023-04-22T17:57:22.301Z"
   },
   {
    "duration": 24,
    "start_time": "2023-04-22T17:58:09.460Z"
   },
   {
    "duration": 16,
    "start_time": "2023-04-22T17:58:31.123Z"
   },
   {
    "duration": 17,
    "start_time": "2023-04-22T17:58:43.609Z"
   },
   {
    "duration": 185,
    "start_time": "2023-04-22T18:09:40.362Z"
   },
   {
    "duration": 15,
    "start_time": "2023-04-22T18:12:38.024Z"
   },
   {
    "duration": 6,
    "start_time": "2023-04-22T18:14:25.957Z"
   },
   {
    "duration": 157,
    "start_time": "2023-04-22T18:14:56.389Z"
   },
   {
    "duration": 74,
    "start_time": "2023-04-22T18:17:45.575Z"
   },
   {
    "duration": 76,
    "start_time": "2023-04-22T18:17:51.869Z"
   },
   {
    "duration": 102,
    "start_time": "2023-04-22T18:18:10.445Z"
   },
   {
    "duration": 20,
    "start_time": "2023-04-22T18:18:23.408Z"
   },
   {
    "duration": 76,
    "start_time": "2023-04-22T18:18:24.775Z"
   },
   {
    "duration": 224,
    "start_time": "2023-04-22T18:21:09.022Z"
   },
   {
    "duration": 104,
    "start_time": "2023-04-22T18:21:18.138Z"
   },
   {
    "duration": 22,
    "start_time": "2023-04-22T18:21:28.822Z"
   },
   {
    "duration": 10,
    "start_time": "2023-04-22T18:22:08.041Z"
   },
   {
    "duration": 4,
    "start_time": "2023-04-22T18:23:50.609Z"
   },
   {
    "duration": 10,
    "start_time": "2023-04-22T18:24:40.768Z"
   },
   {
    "duration": 23,
    "start_time": "2023-04-22T18:24:53.516Z"
   },
   {
    "duration": 25,
    "start_time": "2023-04-22T18:25:08.293Z"
   },
   {
    "duration": 20,
    "start_time": "2023-04-22T18:25:46.710Z"
   },
   {
    "duration": 4,
    "start_time": "2023-04-22T19:18:15.375Z"
   },
   {
    "duration": 20,
    "start_time": "2023-04-22T19:18:27.720Z"
   },
   {
    "duration": 11,
    "start_time": "2023-04-22T19:20:42.306Z"
   },
   {
    "duration": 17,
    "start_time": "2023-04-22T19:21:09.114Z"
   },
   {
    "duration": 13,
    "start_time": "2023-04-22T19:21:19.484Z"
   },
   {
    "duration": 14,
    "start_time": "2023-04-22T19:21:33.374Z"
   },
   {
    "duration": 14,
    "start_time": "2023-04-22T19:22:50.872Z"
   },
   {
    "duration": 14,
    "start_time": "2023-04-22T19:24:32.047Z"
   },
   {
    "duration": 6,
    "start_time": "2023-04-22T19:24:35.220Z"
   },
   {
    "duration": 12,
    "start_time": "2023-04-22T19:24:40.007Z"
   },
   {
    "duration": 17,
    "start_time": "2023-04-22T19:24:42.957Z"
   },
   {
    "duration": 16,
    "start_time": "2023-04-22T19:25:35.059Z"
   },
   {
    "duration": 143,
    "start_time": "2023-04-22T19:25:41.004Z"
   },
   {
    "duration": 14,
    "start_time": "2023-04-22T19:26:36.459Z"
   },
   {
    "duration": 27,
    "start_time": "2023-04-22T19:26:51.738Z"
   },
   {
    "duration": 4,
    "start_time": "2023-04-22T19:26:57.909Z"
   },
   {
    "duration": 14,
    "start_time": "2023-04-22T19:27:01.279Z"
   },
   {
    "duration": 3453,
    "start_time": "2023-04-22T19:27:04.906Z"
   },
   {
    "duration": 2595,
    "start_time": "2023-04-22T19:27:59.720Z"
   },
   {
    "duration": 2538,
    "start_time": "2023-04-22T19:28:34.933Z"
   },
   {
    "duration": 1364,
    "start_time": "2023-04-22T19:29:43.906Z"
   },
   {
    "duration": 4992,
    "start_time": "2023-04-22T19:30:10.357Z"
   },
   {
    "duration": 9720,
    "start_time": "2023-04-22T19:30:23.017Z"
   },
   {
    "duration": 11962,
    "start_time": "2023-04-22T19:30:39.951Z"
   },
   {
    "duration": 10541,
    "start_time": "2023-04-22T19:30:56.675Z"
   },
   {
    "duration": 9337,
    "start_time": "2023-04-22T19:31:09.857Z"
   },
   {
    "duration": 238,
    "start_time": "2023-04-22T19:31:25.842Z"
   },
   {
    "duration": 9291,
    "start_time": "2023-04-22T19:31:31.171Z"
   },
   {
    "duration": 9385,
    "start_time": "2023-04-22T19:32:35.722Z"
   },
   {
    "duration": 4,
    "start_time": "2023-04-22T19:33:34.816Z"
   },
   {
    "duration": 540,
    "start_time": "2023-04-22T19:34:32.931Z"
   },
   {
    "duration": 498,
    "start_time": "2023-04-22T19:34:44.016Z"
   },
   {
    "duration": 97,
    "start_time": "2023-04-22T19:35:35.016Z"
   },
   {
    "duration": 548,
    "start_time": "2023-04-22T19:35:46.914Z"
   },
   {
    "duration": 79,
    "start_time": "2023-04-22T19:37:09.072Z"
   },
   {
    "duration": 610,
    "start_time": "2023-04-22T19:40:40.215Z"
   },
   {
    "duration": 624,
    "start_time": "2023-04-22T19:40:52.565Z"
   },
   {
    "duration": 420,
    "start_time": "2023-04-22T19:40:58.814Z"
   },
   {
    "duration": 367,
    "start_time": "2023-04-22T19:41:04.915Z"
   },
   {
    "duration": 516,
    "start_time": "2023-04-22T19:41:09.711Z"
   },
   {
    "duration": 651,
    "start_time": "2023-04-22T19:41:18.126Z"
   },
   {
    "duration": 643,
    "start_time": "2023-04-22T19:41:24.015Z"
   },
   {
    "duration": 637,
    "start_time": "2023-04-22T19:41:28.336Z"
   },
   {
    "duration": 608,
    "start_time": "2023-04-22T19:41:32.370Z"
   },
   {
    "duration": 671,
    "start_time": "2023-04-22T19:41:36.410Z"
   },
   {
    "duration": 740,
    "start_time": "2023-04-22T19:41:41.775Z"
   },
   {
    "duration": 987,
    "start_time": "2023-04-22T19:41:46.330Z"
   },
   {
    "duration": 909,
    "start_time": "2023-04-22T19:41:53.933Z"
   },
   {
    "duration": 758,
    "start_time": "2023-04-22T19:42:03.343Z"
   },
   {
    "duration": 917,
    "start_time": "2023-04-22T19:42:08.447Z"
   },
   {
    "duration": 726,
    "start_time": "2023-04-22T19:42:15.323Z"
   },
   {
    "duration": 904,
    "start_time": "2023-04-22T19:42:21.920Z"
   },
   {
    "duration": 889,
    "start_time": "2023-04-22T19:42:27.951Z"
   },
   {
    "duration": 891,
    "start_time": "2023-04-22T19:42:32.931Z"
   },
   {
    "duration": 624,
    "start_time": "2023-04-22T19:42:42.621Z"
   },
   {
    "duration": 19,
    "start_time": "2023-04-22T19:46:29.123Z"
   },
   {
    "duration": 72,
    "start_time": "2023-04-22T19:46:41.271Z"
   },
   {
    "duration": 4,
    "start_time": "2023-04-22T19:46:57.323Z"
   },
   {
    "duration": 69,
    "start_time": "2023-04-22T19:47:03.873Z"
   },
   {
    "duration": 20,
    "start_time": "2023-04-22T19:59:01.572Z"
   },
   {
    "duration": 31,
    "start_time": "2023-04-22T19:59:41.313Z"
   },
   {
    "duration": 8250,
    "start_time": "2023-04-22T20:03:37.070Z"
   },
   {
    "duration": 517,
    "start_time": "2023-04-22T20:04:01.532Z"
   },
   {
    "duration": 22,
    "start_time": "2023-04-22T20:04:45.522Z"
   },
   {
    "duration": 51,
    "start_time": "2023-04-22T20:09:45.323Z"
   },
   {
    "duration": 10,
    "start_time": "2023-04-22T20:12:26.631Z"
   },
   {
    "duration": 24,
    "start_time": "2023-04-22T20:13:12.640Z"
   },
   {
    "duration": 14,
    "start_time": "2023-04-22T20:13:25.468Z"
   },
   {
    "duration": 21,
    "start_time": "2023-04-22T20:13:27.966Z"
   },
   {
    "duration": 10,
    "start_time": "2023-04-22T20:13:37.715Z"
   },
   {
    "duration": 23,
    "start_time": "2023-04-22T20:13:40.084Z"
   },
   {
    "duration": 4,
    "start_time": "2023-04-22T20:14:45.413Z"
   },
   {
    "duration": 21,
    "start_time": "2023-04-22T20:15:20.442Z"
   },
   {
    "duration": 27,
    "start_time": "2023-04-22T20:16:06.623Z"
   },
   {
    "duration": 12,
    "start_time": "2023-04-22T20:18:39.295Z"
   },
   {
    "duration": 14,
    "start_time": "2023-04-22T20:19:06.350Z"
   },
   {
    "duration": 4,
    "start_time": "2023-04-22T20:21:20.712Z"
   },
   {
    "duration": 6,
    "start_time": "2023-04-22T20:21:30.184Z"
   },
   {
    "duration": 11,
    "start_time": "2023-04-22T20:21:53.674Z"
   },
   {
    "duration": 51,
    "start_time": "2023-04-22T20:21:54.702Z"
   },
   {
    "duration": 13,
    "start_time": "2023-04-22T20:22:00.702Z"
   },
   {
    "duration": 52,
    "start_time": "2023-04-22T20:22:02.708Z"
   },
   {
    "duration": 15,
    "start_time": "2023-04-22T20:22:06.698Z"
   },
   {
    "duration": 60,
    "start_time": "2023-04-22T20:22:07.619Z"
   },
   {
    "duration": 29,
    "start_time": "2023-04-22T20:22:12.402Z"
   },
   {
    "duration": 24,
    "start_time": "2023-04-22T20:22:34.098Z"
   },
   {
    "duration": 2338,
    "start_time": "2023-04-22T20:22:34.954Z"
   },
   {
    "duration": 51,
    "start_time": "2023-04-22T20:22:50.896Z"
   },
   {
    "duration": 2223,
    "start_time": "2023-04-22T20:22:52.296Z"
   },
   {
    "duration": 29,
    "start_time": "2023-04-22T20:23:00.135Z"
   },
   {
    "duration": 22,
    "start_time": "2023-04-22T20:23:04.153Z"
   },
   {
    "duration": 28,
    "start_time": "2023-04-22T20:23:07.186Z"
   },
   {
    "duration": 29,
    "start_time": "2023-04-22T20:23:10.879Z"
   },
   {
    "duration": 35,
    "start_time": "2023-04-22T20:23:14.132Z"
   },
   {
    "duration": 34,
    "start_time": "2023-04-22T20:23:17.129Z"
   },
   {
    "duration": 34,
    "start_time": "2023-04-22T20:23:20.325Z"
   },
   {
    "duration": 38,
    "start_time": "2023-04-22T20:23:23.204Z"
   },
   {
    "duration": 29,
    "start_time": "2023-04-22T20:23:27.001Z"
   },
   {
    "duration": 31,
    "start_time": "2023-04-22T20:23:29.535Z"
   },
   {
    "duration": 38,
    "start_time": "2023-04-22T20:25:05.604Z"
   },
   {
    "duration": 4,
    "start_time": "2023-04-22T20:25:30.276Z"
   },
   {
    "duration": 188,
    "start_time": "2023-04-22T20:25:38.574Z"
   },
   {
    "duration": 176,
    "start_time": "2023-04-22T20:26:33.670Z"
   },
   {
    "duration": 169,
    "start_time": "2023-04-22T20:26:55.702Z"
   },
   {
    "duration": 113,
    "start_time": "2023-04-22T20:27:06.131Z"
   },
   {
    "duration": 183,
    "start_time": "2023-04-22T20:27:10.893Z"
   },
   {
    "duration": 462,
    "start_time": "2023-04-22T20:27:36.599Z"
   },
   {
    "duration": 177,
    "start_time": "2023-04-22T20:27:48.075Z"
   },
   {
    "duration": 27,
    "start_time": "2023-04-22T20:29:12.004Z"
   },
   {
    "duration": 3,
    "start_time": "2023-04-22T20:34:36.370Z"
   },
   {
    "duration": 3,
    "start_time": "2023-04-22T20:34:57.124Z"
   },
   {
    "duration": 3,
    "start_time": "2023-04-22T20:35:07.330Z"
   },
   {
    "duration": 2295,
    "start_time": "2023-04-22T20:36:37.101Z"
   },
   {
    "duration": 1291,
    "start_time": "2023-04-22T20:36:42.157Z"
   },
   {
    "duration": 8926,
    "start_time": "2023-04-22T20:36:45.499Z"
   },
   {
    "duration": 3262,
    "start_time": "2023-04-22T20:38:48.302Z"
   },
   {
    "duration": 1701,
    "start_time": "2023-04-22T20:39:02.780Z"
   },
   {
    "duration": 11932,
    "start_time": "2023-04-22T20:39:16.026Z"
   },
   {
    "duration": 621,
    "start_time": "2023-04-22T20:39:45.245Z"
   },
   {
    "duration": 570,
    "start_time": "2023-04-22T20:40:54.618Z"
   },
   {
    "duration": 614,
    "start_time": "2023-04-22T20:40:59.879Z"
   },
   {
    "duration": 9,
    "start_time": "2023-04-22T20:43:15.312Z"
   },
   {
    "duration": 5,
    "start_time": "2023-04-22T20:43:34.046Z"
   },
   {
    "duration": 41,
    "start_time": "2023-04-22T20:43:34.409Z"
   },
   {
    "duration": 18,
    "start_time": "2023-04-22T20:43:34.717Z"
   },
   {
    "duration": 5,
    "start_time": "2023-04-22T20:43:36.948Z"
   },
   {
    "duration": 5,
    "start_time": "2023-04-22T20:43:37.402Z"
   },
   {
    "duration": 10,
    "start_time": "2023-04-22T20:43:37.755Z"
   },
   {
    "duration": 14,
    "start_time": "2023-04-22T20:43:39.502Z"
   },
   {
    "duration": 14,
    "start_time": "2023-04-22T20:43:39.910Z"
   },
   {
    "duration": 11,
    "start_time": "2023-04-22T20:43:40.562Z"
   },
   {
    "duration": 6,
    "start_time": "2023-04-22T20:43:42.366Z"
   },
   {
    "duration": 12,
    "start_time": "2023-04-22T20:43:44.804Z"
   },
   {
    "duration": 11,
    "start_time": "2023-04-22T20:43:49.118Z"
   },
   {
    "duration": 15,
    "start_time": "2023-04-22T20:43:49.706Z"
   },
   {
    "duration": 268,
    "start_time": "2023-04-22T20:43:51.474Z"
   },
   {
    "duration": 8474,
    "start_time": "2023-04-22T20:43:53.740Z"
   },
   {
    "duration": 434,
    "start_time": "2023-04-22T20:44:40.172Z"
   },
   {
    "duration": 4,
    "start_time": "2023-04-22T20:45:16.643Z"
   },
   {
    "duration": 12,
    "start_time": "2023-04-22T20:45:17.431Z"
   },
   {
    "duration": 84,
    "start_time": "2023-04-22T20:45:21.956Z"
   },
   {
    "duration": 69,
    "start_time": "2023-04-22T20:45:22.772Z"
   },
   {
    "duration": 6,
    "start_time": "2023-04-22T20:45:25.782Z"
   },
   {
    "duration": 28,
    "start_time": "2023-04-22T20:45:26.305Z"
   },
   {
    "duration": 33,
    "start_time": "2023-04-22T20:45:51.694Z"
   },
   {
    "duration": 2802,
    "start_time": "2023-04-22T20:45:53.786Z"
   },
   {
    "duration": 1514,
    "start_time": "2023-04-22T20:45:59.995Z"
   },
   {
    "duration": 11218,
    "start_time": "2023-04-22T20:46:04.208Z"
   },
   {
    "duration": 535,
    "start_time": "2023-04-22T20:46:44.515Z"
   },
   {
    "duration": 76,
    "start_time": "2023-04-22T20:49:17.786Z"
   },
   {
    "duration": 540,
    "start_time": "2023-04-22T20:49:49.762Z"
   },
   {
    "duration": 454,
    "start_time": "2023-04-22T20:50:28.588Z"
   },
   {
    "duration": 430,
    "start_time": "2023-04-22T20:50:33.801Z"
   },
   {
    "duration": 500,
    "start_time": "2023-04-22T20:50:37.199Z"
   },
   {
    "duration": 504,
    "start_time": "2023-04-22T20:50:39.935Z"
   },
   {
    "duration": 412,
    "start_time": "2023-04-22T20:50:47.747Z"
   },
   {
    "duration": 522,
    "start_time": "2023-04-22T20:50:50.342Z"
   },
   {
    "duration": 536,
    "start_time": "2023-04-22T20:50:58.964Z"
   },
   {
    "duration": 589,
    "start_time": "2023-04-22T20:51:02.603Z"
   },
   {
    "duration": 465,
    "start_time": "2023-04-22T20:51:07.172Z"
   },
   {
    "duration": 476,
    "start_time": "2023-04-22T20:51:11.863Z"
   },
   {
    "duration": 560,
    "start_time": "2023-04-22T20:51:15.747Z"
   },
   {
    "duration": 536,
    "start_time": "2023-04-22T20:51:21.228Z"
   },
   {
    "duration": 553,
    "start_time": "2023-04-22T20:51:25.442Z"
   },
   {
    "duration": 502,
    "start_time": "2023-04-22T20:51:29.036Z"
   },
   {
    "duration": 13,
    "start_time": "2023-04-22T20:51:35.971Z"
   },
   {
    "duration": 562,
    "start_time": "2023-04-22T20:51:39.994Z"
   },
   {
    "duration": 518,
    "start_time": "2023-04-22T20:51:44.215Z"
   },
   {
    "duration": 524,
    "start_time": "2023-04-22T20:52:28.892Z"
   },
   {
    "duration": 464,
    "start_time": "2023-04-22T20:52:32.212Z"
   },
   {
    "duration": 130,
    "start_time": "2023-04-22T20:52:48.336Z"
   },
   {
    "duration": 40,
    "start_time": "2023-04-22T20:53:50.266Z"
   },
   {
    "duration": 54527,
    "start_time": "2023-04-22T20:54:48.750Z"
   },
   {
    "duration": 29838,
    "start_time": "2023-04-22T20:56:17.594Z"
   },
   {
    "duration": 497766,
    "start_time": "2023-04-22T20:56:51.741Z"
   },
   {
    "duration": 1368,
    "start_time": "2023-04-22T21:05:09.509Z"
   },
   {
    "duration": 7792,
    "start_time": "2023-04-22T21:08:19.853Z"
   },
   {
    "duration": 80,
    "start_time": "2023-04-22T21:09:14.727Z"
   },
   {
    "duration": 2194,
    "start_time": "2023-04-23T08:28:54.975Z"
   },
   {
    "duration": 158,
    "start_time": "2023-04-23T08:28:57.171Z"
   },
   {
    "duration": 19,
    "start_time": "2023-04-23T08:28:57.331Z"
   },
   {
    "duration": 4,
    "start_time": "2023-04-23T08:28:57.352Z"
   },
   {
    "duration": 5,
    "start_time": "2023-04-23T08:28:57.358Z"
   },
   {
    "duration": 9,
    "start_time": "2023-04-23T08:28:57.365Z"
   },
   {
    "duration": 11,
    "start_time": "2023-04-23T08:28:57.376Z"
   },
   {
    "duration": 11,
    "start_time": "2023-04-23T08:28:57.388Z"
   },
   {
    "duration": 9,
    "start_time": "2023-04-23T08:28:57.400Z"
   },
   {
    "duration": 5,
    "start_time": "2023-04-23T08:28:57.411Z"
   },
   {
    "duration": 10,
    "start_time": "2023-04-23T08:28:57.417Z"
   },
   {
    "duration": 9,
    "start_time": "2023-04-23T08:28:57.428Z"
   },
   {
    "duration": 12,
    "start_time": "2023-04-23T08:28:57.438Z"
   },
   {
    "duration": 144,
    "start_time": "2023-04-23T08:28:57.451Z"
   },
   {
    "duration": 6867,
    "start_time": "2023-04-23T08:28:57.596Z"
   },
   {
    "duration": 383,
    "start_time": "2023-04-23T08:29:04.465Z"
   },
   {
    "duration": 4,
    "start_time": "2023-04-23T08:29:04.850Z"
   },
   {
    "duration": 11,
    "start_time": "2023-04-23T08:29:04.856Z"
   },
   {
    "duration": 48,
    "start_time": "2023-04-23T08:29:04.868Z"
   },
   {
    "duration": 197,
    "start_time": "2023-04-23T08:29:04.917Z"
   },
   {
    "duration": 81,
    "start_time": "2023-04-23T08:29:05.116Z"
   },
   {
    "duration": 114,
    "start_time": "2023-04-23T08:29:05.201Z"
   },
   {
    "duration": 445,
    "start_time": "2023-04-23T08:29:05.320Z"
   },
   {
    "duration": 0,
    "start_time": "2023-04-23T08:29:05.767Z"
   },
   {
    "duration": 0,
    "start_time": "2023-04-23T08:29:05.768Z"
   },
   {
    "duration": 0,
    "start_time": "2023-04-23T08:29:05.769Z"
   },
   {
    "duration": 0,
    "start_time": "2023-04-23T08:29:05.770Z"
   },
   {
    "duration": 1,
    "start_time": "2023-04-23T08:29:05.770Z"
   },
   {
    "duration": 2139,
    "start_time": "2023-04-23T08:34:37.644Z"
   },
   {
    "duration": 39,
    "start_time": "2023-04-23T08:34:39.785Z"
   },
   {
    "duration": 18,
    "start_time": "2023-04-23T08:34:39.825Z"
   },
   {
    "duration": 4,
    "start_time": "2023-04-23T08:34:39.845Z"
   },
   {
    "duration": 5,
    "start_time": "2023-04-23T08:34:39.850Z"
   },
   {
    "duration": 11,
    "start_time": "2023-04-23T08:34:39.856Z"
   },
   {
    "duration": 12,
    "start_time": "2023-04-23T08:34:39.869Z"
   },
   {
    "duration": 18,
    "start_time": "2023-04-23T08:34:39.882Z"
   },
   {
    "duration": 9,
    "start_time": "2023-04-23T08:34:39.902Z"
   },
   {
    "duration": 5,
    "start_time": "2023-04-23T08:34:39.914Z"
   },
   {
    "duration": 11,
    "start_time": "2023-04-23T08:34:39.920Z"
   },
   {
    "duration": 9,
    "start_time": "2023-04-23T08:34:39.933Z"
   },
   {
    "duration": 14,
    "start_time": "2023-04-23T08:34:39.944Z"
   },
   {
    "duration": 136,
    "start_time": "2023-04-23T08:34:39.960Z"
   },
   {
    "duration": 7603,
    "start_time": "2023-04-23T08:34:40.097Z"
   },
   {
    "duration": 368,
    "start_time": "2023-04-23T08:34:47.702Z"
   },
   {
    "duration": 3,
    "start_time": "2023-04-23T08:34:48.071Z"
   },
   {
    "duration": 24,
    "start_time": "2023-04-23T08:34:48.076Z"
   },
   {
    "duration": 36,
    "start_time": "2023-04-23T08:34:48.101Z"
   },
   {
    "duration": 181,
    "start_time": "2023-04-23T08:34:48.138Z"
   },
   {
    "duration": 4,
    "start_time": "2023-04-23T08:34:48.321Z"
   },
   {
    "duration": 108,
    "start_time": "2023-04-23T08:34:48.396Z"
   },
   {
    "duration": 447,
    "start_time": "2023-04-23T08:34:48.506Z"
   },
   {
    "duration": 0,
    "start_time": "2023-04-23T08:34:48.955Z"
   },
   {
    "duration": 0,
    "start_time": "2023-04-23T08:34:48.956Z"
   },
   {
    "duration": 0,
    "start_time": "2023-04-23T08:34:48.957Z"
   },
   {
    "duration": 0,
    "start_time": "2023-04-23T08:34:48.958Z"
   },
   {
    "duration": 0,
    "start_time": "2023-04-23T08:34:48.959Z"
   },
   {
    "duration": 1121,
    "start_time": "2023-04-23T10:37:19.430Z"
   },
   {
    "duration": 98,
    "start_time": "2023-04-23T10:37:20.952Z"
   },
   {
    "duration": 24,
    "start_time": "2023-04-23T10:37:21.555Z"
   },
   {
    "duration": 5,
    "start_time": "2023-04-23T10:37:28.751Z"
   },
   {
    "duration": 5,
    "start_time": "2023-04-23T10:37:29.518Z"
   },
   {
    "duration": 11,
    "start_time": "2023-04-23T10:37:30.093Z"
   },
   {
    "duration": 14,
    "start_time": "2023-04-23T10:37:38.176Z"
   },
   {
    "duration": 10,
    "start_time": "2023-04-23T10:37:41.915Z"
   },
   {
    "duration": 10,
    "start_time": "2023-04-23T10:40:08.644Z"
   },
   {
    "duration": 7,
    "start_time": "2023-04-23T10:40:12.095Z"
   },
   {
    "duration": 8,
    "start_time": "2023-04-23T10:40:19.430Z"
   },
   {
    "duration": 10,
    "start_time": "2023-04-23T10:40:21.547Z"
   },
   {
    "duration": 11,
    "start_time": "2023-04-23T10:40:22.762Z"
   },
   {
    "duration": 11,
    "start_time": "2023-04-23T10:46:54.361Z"
   },
   {
    "duration": 307,
    "start_time": "2023-04-23T10:47:04.890Z"
   },
   {
    "duration": 7811,
    "start_time": "2023-04-23T10:47:09.058Z"
   },
   {
    "duration": 435,
    "start_time": "2023-04-23T10:47:18.735Z"
   },
   {
    "duration": 5,
    "start_time": "2023-04-23T11:02:50.790Z"
   },
   {
    "duration": 11,
    "start_time": "2023-04-23T11:02:51.886Z"
   },
   {
    "duration": 50,
    "start_time": "2023-04-23T11:02:53.459Z"
   },
   {
    "duration": 88,
    "start_time": "2023-04-23T11:02:54.390Z"
   },
   {
    "duration": 3,
    "start_time": "2023-04-23T11:02:57.757Z"
   },
   {
    "duration": 29,
    "start_time": "2023-04-23T11:03:01.732Z"
   },
   {
    "duration": 45,
    "start_time": "2023-04-23T11:03:04.131Z"
   },
   {
    "duration": 3028,
    "start_time": "2023-04-23T11:03:16.735Z"
   },
   {
    "duration": 1384,
    "start_time": "2023-04-23T11:03:24.039Z"
   },
   {
    "duration": 10171,
    "start_time": "2023-04-23T11:03:29.571Z"
   },
   {
    "duration": 648,
    "start_time": "2023-04-23T11:04:20.939Z"
   },
   {
    "duration": 34,
    "start_time": "2023-04-23T11:11:28.991Z"
   },
   {
    "duration": 3229,
    "start_time": "2023-04-23T11:12:45.203Z"
   },
   {
    "duration": 1664,
    "start_time": "2023-04-23T11:12:53.056Z"
   },
   {
    "duration": 10903,
    "start_time": "2023-04-23T11:12:58.757Z"
   },
   {
    "duration": 556,
    "start_time": "2023-04-23T11:14:02.949Z"
   },
   {
    "duration": 133,
    "start_time": "2023-04-23T11:14:19.381Z"
   },
   {
    "duration": 94,
    "start_time": "2023-04-23T11:14:24.233Z"
   },
   {
    "duration": 153,
    "start_time": "2023-04-23T11:14:39.587Z"
   },
   {
    "duration": 140,
    "start_time": "2023-04-23T11:16:33.095Z"
   },
   {
    "duration": 563,
    "start_time": "2023-04-23T11:16:38.852Z"
   },
   {
    "duration": 579,
    "start_time": "2023-04-23T11:16:46.387Z"
   },
   {
    "duration": 134153,
    "start_time": "2023-04-23T11:17:48.400Z"
   },
   {
    "duration": 515113,
    "start_time": "2023-04-23T11:20:11.800Z"
   },
   {
    "duration": 315506,
    "start_time": "2023-04-23T11:30:35.961Z"
   },
   {
    "duration": 33512,
    "start_time": "2023-04-23T11:36:01.371Z"
   },
   {
    "duration": 516585,
    "start_time": "2023-04-23T11:36:40.840Z"
   },
   {
    "duration": 528,
    "start_time": "2023-04-23T11:58:58.414Z"
   },
   {
    "duration": 493,
    "start_time": "2023-04-23T11:59:05.547Z"
   },
   {
    "duration": 496,
    "start_time": "2023-04-23T11:59:13.240Z"
   },
   {
    "duration": 502,
    "start_time": "2023-04-23T11:59:24.337Z"
   },
   {
    "duration": 453,
    "start_time": "2023-04-23T11:59:29.554Z"
   },
   {
    "duration": 380,
    "start_time": "2023-04-23T11:59:34.200Z"
   },
   {
    "duration": 720618,
    "start_time": "2023-04-23T12:00:44.254Z"
   },
   {
    "duration": 849,
    "start_time": "2023-04-23T12:13:32.925Z"
   },
   {
    "duration": 528,
    "start_time": "2023-04-23T12:13:52.633Z"
   },
   {
    "duration": 4,
    "start_time": "2023-04-23T12:21:49.244Z"
   },
   {
    "duration": 66,
    "start_time": "2023-04-23T12:21:49.249Z"
   },
   {
    "duration": 11,
    "start_time": "2023-04-23T12:21:49.316Z"
   },
   {
    "duration": 5,
    "start_time": "2023-04-23T12:21:49.329Z"
   },
   {
    "duration": 5,
    "start_time": "2023-04-23T12:21:49.336Z"
   },
   {
    "duration": 7,
    "start_time": "2023-04-23T12:21:49.342Z"
   },
   {
    "duration": 17,
    "start_time": "2023-04-23T12:21:49.350Z"
   },
   {
    "duration": 18,
    "start_time": "2023-04-23T12:21:49.368Z"
   },
   {
    "duration": 39,
    "start_time": "2023-04-23T12:21:49.390Z"
   },
   {
    "duration": 7,
    "start_time": "2023-04-23T12:21:49.430Z"
   },
   {
    "duration": 10,
    "start_time": "2023-04-23T12:21:49.438Z"
   },
   {
    "duration": 11,
    "start_time": "2023-04-23T12:21:49.449Z"
   },
   {
    "duration": 22,
    "start_time": "2023-04-23T12:21:49.462Z"
   },
   {
    "duration": 93,
    "start_time": "2023-04-23T12:21:49.485Z"
   },
   {
    "duration": 8271,
    "start_time": "2023-04-23T12:21:49.579Z"
   },
   {
    "duration": 430,
    "start_time": "2023-04-23T12:21:57.851Z"
   },
   {
    "duration": 4,
    "start_time": "2023-04-23T12:21:58.283Z"
   },
   {
    "duration": 41,
    "start_time": "2023-04-23T12:21:58.288Z"
   },
   {
    "duration": 55,
    "start_time": "2023-04-23T12:21:58.330Z"
   },
   {
    "duration": 198,
    "start_time": "2023-04-23T12:21:58.387Z"
   },
   {
    "duration": 15,
    "start_time": "2023-04-23T12:21:58.593Z"
   },
   {
    "duration": 171,
    "start_time": "2023-04-23T12:21:58.611Z"
   },
   {
    "duration": 206,
    "start_time": "2023-04-23T12:21:58.784Z"
   },
   {
    "duration": 2893,
    "start_time": "2023-04-23T12:21:58.998Z"
   },
   {
    "duration": 1475,
    "start_time": "2023-04-23T12:22:01.892Z"
   },
   {
    "duration": 10642,
    "start_time": "2023-04-23T12:22:03.368Z"
   },
   {
    "duration": 553,
    "start_time": "2023-04-23T12:22:14.013Z"
   },
   {
    "duration": 451,
    "start_time": "2023-04-23T12:22:14.567Z"
   },
   {
    "duration": 2219,
    "start_time": "2023-04-23T14:06:09.873Z"
   },
   {
    "duration": 154,
    "start_time": "2023-04-23T14:06:12.093Z"
   },
   {
    "duration": 21,
    "start_time": "2023-04-23T14:06:12.249Z"
   },
   {
    "duration": 4,
    "start_time": "2023-04-23T14:06:12.272Z"
   },
   {
    "duration": 10,
    "start_time": "2023-04-23T14:06:12.278Z"
   },
   {
    "duration": 15,
    "start_time": "2023-04-23T14:06:12.289Z"
   },
   {
    "duration": 12,
    "start_time": "2023-04-23T14:06:12.305Z"
   },
   {
    "duration": 13,
    "start_time": "2023-04-23T14:06:12.319Z"
   },
   {
    "duration": 11,
    "start_time": "2023-04-23T14:06:12.334Z"
   },
   {
    "duration": 8,
    "start_time": "2023-04-23T14:06:12.347Z"
   },
   {
    "duration": 14,
    "start_time": "2023-04-23T14:06:12.356Z"
   },
   {
    "duration": 24,
    "start_time": "2023-04-23T14:06:12.372Z"
   },
   {
    "duration": 12,
    "start_time": "2023-04-23T14:06:12.398Z"
   },
   {
    "duration": 87,
    "start_time": "2023-04-23T14:06:12.413Z"
   },
   {
    "duration": 7216,
    "start_time": "2023-04-23T14:06:12.502Z"
   },
   {
    "duration": 705,
    "start_time": "2023-04-23T14:06:19.719Z"
   },
   {
    "duration": 3,
    "start_time": "2023-04-23T14:06:20.426Z"
   },
   {
    "duration": 69,
    "start_time": "2023-04-23T14:06:20.431Z"
   },
   {
    "duration": 95,
    "start_time": "2023-04-23T14:06:20.502Z"
   },
   {
    "duration": 196,
    "start_time": "2023-04-23T14:06:20.599Z"
   },
   {
    "duration": 5,
    "start_time": "2023-04-23T14:06:20.797Z"
   },
   {
    "duration": 121,
    "start_time": "2023-04-23T14:06:20.804Z"
   },
   {
    "duration": 173,
    "start_time": "2023-04-23T14:06:20.927Z"
   },
   {
    "duration": 2930,
    "start_time": "2023-04-23T14:06:21.102Z"
   },
   {
    "duration": 1949,
    "start_time": "2023-04-23T14:06:24.034Z"
   },
   {
    "duration": 8944,
    "start_time": "2023-04-23T14:06:25.984Z"
   },
   {
    "duration": 449,
    "start_time": "2023-04-23T14:06:34.929Z"
   },
   {
    "duration": 386,
    "start_time": "2023-04-23T14:06:35.379Z"
   },
   {
    "duration": 2165,
    "start_time": "2023-04-23T14:14:43.922Z"
   },
   {
    "duration": 39,
    "start_time": "2023-04-23T14:14:46.089Z"
   },
   {
    "duration": 17,
    "start_time": "2023-04-23T14:14:46.130Z"
   },
   {
    "duration": 4,
    "start_time": "2023-04-23T14:14:46.148Z"
   },
   {
    "duration": 4,
    "start_time": "2023-04-23T14:14:46.154Z"
   },
   {
    "duration": 8,
    "start_time": "2023-04-23T14:14:46.159Z"
   },
   {
    "duration": 10,
    "start_time": "2023-04-23T14:14:46.169Z"
   },
   {
    "duration": 21,
    "start_time": "2023-04-23T14:14:46.181Z"
   },
   {
    "duration": 14,
    "start_time": "2023-04-23T14:14:46.203Z"
   },
   {
    "duration": 5,
    "start_time": "2023-04-23T14:14:46.219Z"
   },
   {
    "duration": 8,
    "start_time": "2023-04-23T14:14:46.226Z"
   },
   {
    "duration": 8,
    "start_time": "2023-04-23T14:14:46.236Z"
   },
   {
    "duration": 13,
    "start_time": "2023-04-23T14:14:46.246Z"
   },
   {
    "duration": 332,
    "start_time": "2023-04-23T14:14:46.262Z"
   },
   {
    "duration": 6684,
    "start_time": "2023-04-23T14:14:46.596Z"
   },
   {
    "duration": 366,
    "start_time": "2023-04-23T14:14:53.281Z"
   },
   {
    "duration": 3,
    "start_time": "2023-04-23T14:14:53.649Z"
   },
   {
    "duration": 14,
    "start_time": "2023-04-23T14:14:53.654Z"
   },
   {
    "duration": 48,
    "start_time": "2023-04-23T14:14:53.669Z"
   },
   {
    "duration": 191,
    "start_time": "2023-04-23T14:14:53.718Z"
   },
   {
    "duration": 5,
    "start_time": "2023-04-23T14:14:53.911Z"
   },
   {
    "duration": 133,
    "start_time": "2023-04-23T14:14:53.995Z"
   },
   {
    "duration": 173,
    "start_time": "2023-04-23T14:14:54.130Z"
   },
   {
    "duration": 2521,
    "start_time": "2023-04-23T14:14:54.305Z"
   },
   {
    "duration": 1287,
    "start_time": "2023-04-23T14:14:56.828Z"
   },
   {
    "duration": 9082,
    "start_time": "2023-04-23T14:14:58.116Z"
   },
   {
    "duration": 544,
    "start_time": "2023-04-23T14:15:07.200Z"
   },
   {
    "duration": 445,
    "start_time": "2023-04-23T14:15:07.746Z"
   },
   {
    "duration": 2968,
    "start_time": "2023-04-23T14:19:43.073Z"
   },
   {
    "duration": 41,
    "start_time": "2023-04-23T14:19:46.094Z"
   },
   {
    "duration": 66,
    "start_time": "2023-04-23T14:19:46.137Z"
   },
   {
    "duration": 4,
    "start_time": "2023-04-23T14:19:46.205Z"
   },
   {
    "duration": 10,
    "start_time": "2023-04-23T14:19:46.211Z"
   },
   {
    "duration": 71,
    "start_time": "2023-04-23T14:19:46.223Z"
   },
   {
    "duration": 13,
    "start_time": "2023-04-23T14:19:46.296Z"
   },
   {
    "duration": 10,
    "start_time": "2023-04-23T14:19:46.310Z"
   },
   {
    "duration": 74,
    "start_time": "2023-04-23T14:19:46.322Z"
   },
   {
    "duration": 8,
    "start_time": "2023-04-23T14:19:46.398Z"
   },
   {
    "duration": 14,
    "start_time": "2023-04-23T14:19:46.408Z"
   },
   {
    "duration": 14,
    "start_time": "2023-04-23T14:19:46.423Z"
   },
   {
    "duration": 4,
    "start_time": "2023-04-23T14:19:46.495Z"
   },
   {
    "duration": 0,
    "start_time": "2023-04-23T14:19:46.502Z"
   },
   {
    "duration": 0,
    "start_time": "2023-04-23T14:19:46.503Z"
   },
   {
    "duration": 0,
    "start_time": "2023-04-23T14:19:46.505Z"
   },
   {
    "duration": 0,
    "start_time": "2023-04-23T14:19:46.506Z"
   },
   {
    "duration": 0,
    "start_time": "2023-04-23T14:19:46.507Z"
   },
   {
    "duration": 0,
    "start_time": "2023-04-23T14:19:46.508Z"
   },
   {
    "duration": 0,
    "start_time": "2023-04-23T14:19:46.509Z"
   },
   {
    "duration": 0,
    "start_time": "2023-04-23T14:19:46.511Z"
   },
   {
    "duration": 0,
    "start_time": "2023-04-23T14:19:46.512Z"
   },
   {
    "duration": 0,
    "start_time": "2023-04-23T14:19:46.513Z"
   },
   {
    "duration": 0,
    "start_time": "2023-04-23T14:19:46.514Z"
   },
   {
    "duration": 0,
    "start_time": "2023-04-23T14:19:46.515Z"
   },
   {
    "duration": 0,
    "start_time": "2023-04-23T14:19:46.517Z"
   },
   {
    "duration": 0,
    "start_time": "2023-04-23T14:19:46.518Z"
   },
   {
    "duration": 0,
    "start_time": "2023-04-23T14:19:46.519Z"
   },
   {
    "duration": 12,
    "start_time": "2023-04-23T14:19:58.539Z"
   },
   {
    "duration": 33,
    "start_time": "2023-04-23T14:20:00.773Z"
   },
   {
    "duration": 14028,
    "start_time": "2023-04-23T14:20:01.995Z"
   },
   {
    "duration": 773,
    "start_time": "2023-04-23T14:20:16.025Z"
   },
   {
    "duration": 3026,
    "start_time": "2023-04-23T14:21:02.893Z"
   },
   {
    "duration": 77,
    "start_time": "2023-04-23T14:21:05.921Z"
   },
   {
    "duration": 20,
    "start_time": "2023-04-23T14:21:06.000Z"
   },
   {
    "duration": 4,
    "start_time": "2023-04-23T14:21:06.022Z"
   },
   {
    "duration": 68,
    "start_time": "2023-04-23T14:21:06.027Z"
   },
   {
    "duration": 8,
    "start_time": "2023-04-23T14:21:06.097Z"
   },
   {
    "duration": 11,
    "start_time": "2023-04-23T14:21:06.107Z"
   },
   {
    "duration": 11,
    "start_time": "2023-04-23T14:21:06.119Z"
   },
   {
    "duration": 11,
    "start_time": "2023-04-23T14:21:06.194Z"
   },
   {
    "duration": 7,
    "start_time": "2023-04-23T14:21:06.206Z"
   },
   {
    "duration": 16,
    "start_time": "2023-04-23T14:21:06.214Z"
   },
   {
    "duration": 69,
    "start_time": "2023-04-23T14:21:06.231Z"
   },
   {
    "duration": 13,
    "start_time": "2023-04-23T14:21:06.302Z"
   },
   {
    "duration": 85,
    "start_time": "2023-04-23T14:21:06.318Z"
   },
   {
    "duration": 14236,
    "start_time": "2023-04-23T14:21:06.405Z"
   },
   {
    "duration": 804,
    "start_time": "2023-04-23T14:21:20.694Z"
   },
   {
    "duration": 5,
    "start_time": "2023-04-23T14:21:21.499Z"
   },
   {
    "duration": 28,
    "start_time": "2023-04-23T14:21:21.506Z"
   },
   {
    "duration": 91,
    "start_time": "2023-04-23T14:21:21.536Z"
   },
   {
    "duration": 123,
    "start_time": "2023-04-23T14:21:21.695Z"
   },
   {
    "duration": 76,
    "start_time": "2023-04-23T14:21:21.820Z"
   },
   {
    "duration": 201,
    "start_time": "2023-04-23T14:21:21.898Z"
   },
   {
    "duration": 197,
    "start_time": "2023-04-23T14:21:22.100Z"
   },
   {
    "duration": 5023,
    "start_time": "2023-04-23T14:21:22.299Z"
   },
   {
    "duration": 2594,
    "start_time": "2023-04-23T14:21:27.324Z"
   },
   {
    "duration": 18409,
    "start_time": "2023-04-23T14:21:29.919Z"
   },
   {
    "duration": 979,
    "start_time": "2023-04-23T14:21:48.330Z"
   },
   {
    "duration": 801,
    "start_time": "2023-04-23T14:21:49.311Z"
   },
   {
    "duration": 9,
    "start_time": "2023-04-23T18:31:58.309Z"
   },
   {
    "duration": 1129,
    "start_time": "2023-04-23T18:38:23.712Z"
   },
   {
    "duration": 77,
    "start_time": "2023-04-23T18:38:24.843Z"
   },
   {
    "duration": 17,
    "start_time": "2023-04-23T18:38:24.922Z"
   },
   {
    "duration": 5,
    "start_time": "2023-04-23T18:38:28.430Z"
   },
   {
    "duration": 4,
    "start_time": "2023-04-23T18:38:29.133Z"
   },
   {
    "duration": 10,
    "start_time": "2023-04-23T18:38:29.576Z"
   },
   {
    "duration": 13,
    "start_time": "2023-04-23T18:38:32.091Z"
   },
   {
    "duration": 11,
    "start_time": "2023-04-23T18:38:33.838Z"
   },
   {
    "duration": 10,
    "start_time": "2023-04-23T18:38:34.340Z"
   },
   {
    "duration": 6,
    "start_time": "2023-04-23T18:38:36.850Z"
   },
   {
    "duration": 10,
    "start_time": "2023-04-23T18:38:43.082Z"
   },
   {
    "duration": 10,
    "start_time": "2023-04-23T18:38:45.022Z"
   },
   {
    "duration": 11,
    "start_time": "2023-04-23T18:38:45.654Z"
   },
   {
    "duration": 124,
    "start_time": "2023-04-23T18:38:58.716Z"
   },
   {
    "duration": 6839,
    "start_time": "2023-04-23T18:39:01.795Z"
   },
   {
    "duration": 345,
    "start_time": "2023-04-23T18:39:15.236Z"
   },
   {
    "duration": 3,
    "start_time": "2023-04-23T18:39:21.793Z"
   },
   {
    "duration": 1865,
    "start_time": "2023-04-23T18:39:42.244Z"
   },
   {
    "duration": 2696,
    "start_time": "2023-04-23T18:39:48.545Z"
   },
   {
    "duration": 3441,
    "start_time": "2023-04-23T18:39:55.584Z"
   },
   {
    "duration": 4308,
    "start_time": "2023-04-23T18:40:02.301Z"
   },
   {
    "duration": 4,
    "start_time": "2023-04-23T18:40:43.147Z"
   },
   {
    "duration": 97,
    "start_time": "2023-04-23T18:40:44.379Z"
   },
   {
    "duration": 4,
    "start_time": "2023-04-23T18:43:19.443Z"
   },
   {
    "duration": 9,
    "start_time": "2023-04-23T18:43:38.083Z"
   },
   {
    "duration": 5,
    "start_time": "2023-04-23T18:43:47.065Z"
   },
   {
    "duration": 5,
    "start_time": "2023-04-23T18:44:06.137Z"
   },
   {
    "duration": 6,
    "start_time": "2023-04-23T18:44:15.557Z"
   },
   {
    "duration": 16,
    "start_time": "2023-04-23T18:45:00.128Z"
   },
   {
    "duration": 12,
    "start_time": "2023-04-23T18:45:45.171Z"
   },
   {
    "duration": 14,
    "start_time": "2023-04-23T18:45:52.298Z"
   },
   {
    "duration": 15,
    "start_time": "2023-04-23T18:46:00.578Z"
   },
   {
    "duration": 15,
    "start_time": "2023-04-23T18:48:30.960Z"
   },
   {
    "duration": 16,
    "start_time": "2023-04-23T18:48:51.997Z"
   },
   {
    "duration": 13,
    "start_time": "2023-04-23T18:52:41.714Z"
   },
   {
    "duration": 8,
    "start_time": "2023-04-23T18:53:36.694Z"
   },
   {
    "duration": 8,
    "start_time": "2023-04-23T18:53:44.761Z"
   },
   {
    "duration": 71,
    "start_time": "2023-04-23T18:54:28.138Z"
   },
   {
    "duration": 13,
    "start_time": "2023-04-23T18:56:29.822Z"
   },
   {
    "duration": 19,
    "start_time": "2023-04-23T18:56:30.661Z"
   },
   {
    "duration": 4,
    "start_time": "2023-04-23T18:56:39.776Z"
   },
   {
    "duration": 16,
    "start_time": "2023-04-23T18:57:33.763Z"
   },
   {
    "duration": 16,
    "start_time": "2023-04-23T18:59:26.168Z"
   },
   {
    "duration": 2428,
    "start_time": "2023-04-23T18:59:40.938Z"
   },
   {
    "duration": 1341,
    "start_time": "2023-04-23T19:00:10.110Z"
   },
   {
    "duration": 9655,
    "start_time": "2023-04-23T19:00:14.442Z"
   },
   {
    "duration": 437,
    "start_time": "2023-04-23T19:02:38.412Z"
   },
   {
    "duration": 379,
    "start_time": "2023-04-23T19:02:58.543Z"
   },
   {
    "duration": 7573,
    "start_time": "2023-04-23T19:05:47.331Z"
   },
   {
    "duration": 440145,
    "start_time": "2023-04-23T19:06:02.406Z"
   },
   {
    "duration": 95565,
    "start_time": "2023-04-23T19:15:28.765Z"
   },
   {
    "duration": 125046,
    "start_time": "2023-04-23T19:26:02.902Z"
   },
   {
    "duration": 339,
    "start_time": "2023-04-23T19:56:41.189Z"
   },
   {
    "duration": 55407,
    "start_time": "2023-04-23T19:57:54.873Z"
   },
   {
    "duration": 154,
    "start_time": "2023-04-23T20:00:05.485Z"
   },
   {
    "duration": 4,
    "start_time": "2023-04-23T20:38:25.473Z"
   },
   {
    "duration": 56,
    "start_time": "2023-04-23T20:38:25.478Z"
   },
   {
    "duration": 11,
    "start_time": "2023-04-23T20:38:25.536Z"
   },
   {
    "duration": 13,
    "start_time": "2023-04-23T20:38:25.549Z"
   },
   {
    "duration": 31,
    "start_time": "2023-04-23T20:38:25.563Z"
   },
   {
    "duration": 28,
    "start_time": "2023-04-23T20:38:25.595Z"
   },
   {
    "duration": 21,
    "start_time": "2023-04-23T20:38:25.624Z"
   },
   {
    "duration": 30,
    "start_time": "2023-04-23T20:38:25.647Z"
   },
   {
    "duration": 28,
    "start_time": "2023-04-23T20:38:25.679Z"
   },
   {
    "duration": 38,
    "start_time": "2023-04-23T20:38:25.709Z"
   },
   {
    "duration": 21,
    "start_time": "2023-04-23T20:38:25.748Z"
   },
   {
    "duration": 10,
    "start_time": "2023-04-23T20:38:25.771Z"
   },
   {
    "duration": 20,
    "start_time": "2023-04-23T20:38:25.783Z"
   },
   {
    "duration": 131,
    "start_time": "2023-04-23T20:38:25.804Z"
   },
   {
    "duration": 4382,
    "start_time": "2023-04-23T20:38:25.937Z"
   },
   {
    "duration": 353,
    "start_time": "2023-04-23T20:38:30.321Z"
   },
   {
    "duration": 4,
    "start_time": "2023-04-23T20:38:30.675Z"
   },
   {
    "duration": 28,
    "start_time": "2023-04-23T20:38:30.681Z"
   },
   {
    "duration": 58,
    "start_time": "2023-04-23T20:38:30.711Z"
   },
   {
    "duration": 53,
    "start_time": "2023-04-23T20:38:30.771Z"
   },
   {
    "duration": 206,
    "start_time": "2023-04-23T20:38:30.839Z"
   },
   {
    "duration": 21,
    "start_time": "2023-04-23T20:38:31.133Z"
   },
   {
    "duration": 108,
    "start_time": "2023-04-23T20:38:31.155Z"
   },
   {
    "duration": 188,
    "start_time": "2023-04-23T20:38:31.267Z"
   },
   {
    "duration": 2575,
    "start_time": "2023-04-23T20:38:31.457Z"
   },
   {
    "duration": 1281,
    "start_time": "2023-04-23T20:38:34.033Z"
   },
   {
    "duration": 9063,
    "start_time": "2023-04-23T20:38:35.316Z"
   },
   {
    "duration": 506,
    "start_time": "2023-04-23T20:38:44.380Z"
   },
   {
    "duration": 159,
    "start_time": "2023-04-23T20:38:44.888Z"
   },
   {
    "duration": 2180,
    "start_time": "2023-04-24T04:13:28.815Z"
   },
   {
    "duration": 46,
    "start_time": "2023-04-24T04:13:30.997Z"
   },
   {
    "duration": 22,
    "start_time": "2023-04-24T04:13:31.044Z"
   },
   {
    "duration": 17,
    "start_time": "2023-04-24T04:13:31.067Z"
   },
   {
    "duration": 32,
    "start_time": "2023-04-24T04:13:31.085Z"
   },
   {
    "duration": 33,
    "start_time": "2023-04-24T04:13:31.119Z"
   },
   {
    "duration": 40,
    "start_time": "2023-04-24T04:13:31.153Z"
   },
   {
    "duration": 35,
    "start_time": "2023-04-24T04:13:31.194Z"
   },
   {
    "duration": 31,
    "start_time": "2023-04-24T04:13:31.231Z"
   },
   {
    "duration": 18,
    "start_time": "2023-04-24T04:13:31.263Z"
   },
   {
    "duration": 38,
    "start_time": "2023-04-24T04:13:31.283Z"
   },
   {
    "duration": 23,
    "start_time": "2023-04-24T04:13:31.322Z"
   },
   {
    "duration": 34,
    "start_time": "2023-04-24T04:13:31.346Z"
   },
   {
    "duration": 153,
    "start_time": "2023-04-24T04:13:31.382Z"
   },
   {
    "duration": 4373,
    "start_time": "2023-04-24T04:13:31.537Z"
   },
   {
    "duration": 333,
    "start_time": "2023-04-24T04:13:35.911Z"
   },
   {
    "duration": 3,
    "start_time": "2023-04-24T04:13:36.246Z"
   },
   {
    "duration": 19,
    "start_time": "2023-04-24T04:13:36.250Z"
   },
   {
    "duration": 20,
    "start_time": "2023-04-24T04:13:36.270Z"
   },
   {
    "duration": 13,
    "start_time": "2023-04-24T04:13:36.292Z"
   },
   {
    "duration": 118,
    "start_time": "2023-04-24T04:13:36.336Z"
   },
   {
    "duration": 86,
    "start_time": "2023-04-24T04:13:36.456Z"
   },
   {
    "duration": 110,
    "start_time": "2023-04-24T04:13:36.544Z"
   },
   {
    "duration": 179,
    "start_time": "2023-04-24T04:13:36.657Z"
   },
   {
    "duration": 2925,
    "start_time": "2023-04-24T04:13:36.839Z"
   },
   {
    "duration": 2052,
    "start_time": "2023-04-24T04:13:39.765Z"
   },
   {
    "duration": 10326,
    "start_time": "2023-04-24T04:13:41.818Z"
   },
   {
    "duration": 453,
    "start_time": "2023-04-24T04:13:52.145Z"
   },
   {
    "duration": 161,
    "start_time": "2023-04-24T04:13:52.599Z"
   },
   {
    "duration": 2204,
    "start_time": "2023-04-24T04:27:06.810Z"
   },
   {
    "duration": 38,
    "start_time": "2023-04-24T04:27:09.016Z"
   },
   {
    "duration": 18,
    "start_time": "2023-04-24T04:27:09.055Z"
   },
   {
    "duration": 5,
    "start_time": "2023-04-24T04:27:09.074Z"
   },
   {
    "duration": 11,
    "start_time": "2023-04-24T04:27:09.080Z"
   },
   {
    "duration": 33,
    "start_time": "2023-04-24T04:27:09.092Z"
   },
   {
    "duration": 14,
    "start_time": "2023-04-24T04:27:09.126Z"
   },
   {
    "duration": 19,
    "start_time": "2023-04-24T04:27:09.141Z"
   },
   {
    "duration": 47,
    "start_time": "2023-04-24T04:27:09.161Z"
   },
   {
    "duration": 5,
    "start_time": "2023-04-24T04:27:09.209Z"
   },
   {
    "duration": 21,
    "start_time": "2023-04-24T04:27:09.216Z"
   },
   {
    "duration": 20,
    "start_time": "2023-04-24T04:27:09.238Z"
   },
   {
    "duration": 84,
    "start_time": "2023-04-24T04:27:09.259Z"
   },
   {
    "duration": 94,
    "start_time": "2023-04-24T04:27:09.345Z"
   },
   {
    "duration": 5377,
    "start_time": "2023-04-24T04:27:09.441Z"
   },
   {
    "duration": 348,
    "start_time": "2023-04-24T04:27:14.819Z"
   },
   {
    "duration": 3,
    "start_time": "2023-04-24T04:27:15.169Z"
   },
   {
    "duration": 16,
    "start_time": "2023-04-24T04:27:15.174Z"
   },
   {
    "duration": 10,
    "start_time": "2023-04-24T04:27:15.192Z"
   },
   {
    "duration": 12,
    "start_time": "2023-04-24T04:27:15.203Z"
   },
   {
    "duration": 21,
    "start_time": "2023-04-24T04:27:15.217Z"
   },
   {
    "duration": 5,
    "start_time": "2023-04-24T04:27:15.239Z"
   },
   {
    "duration": 18,
    "start_time": "2023-04-24T04:27:15.245Z"
   },
   {
    "duration": 13,
    "start_time": "2023-04-24T04:27:15.265Z"
   },
   {
    "duration": 3017,
    "start_time": "2023-04-24T04:27:15.280Z"
   },
   {
    "duration": 1464,
    "start_time": "2023-04-24T04:27:18.298Z"
   },
   {
    "duration": 10781,
    "start_time": "2023-04-24T04:27:19.763Z"
   },
   {
    "duration": 451,
    "start_time": "2023-04-24T04:27:30.546Z"
   },
   {
    "duration": 194,
    "start_time": "2023-04-24T04:27:30.999Z"
   },
   {
    "duration": 109,
    "start_time": "2023-04-24T04:37:16.276Z"
   },
   {
    "duration": 4,
    "start_time": "2023-04-24T04:37:55.492Z"
   },
   {
    "duration": 18,
    "start_time": "2023-04-24T04:38:24.361Z"
   },
   {
    "duration": 26,
    "start_time": "2023-04-24T04:38:40.531Z"
   },
   {
    "duration": 4,
    "start_time": "2023-04-24T04:38:41.909Z"
   },
   {
    "duration": 2241,
    "start_time": "2023-04-24T04:39:20.094Z"
   },
   {
    "duration": 47,
    "start_time": "2023-04-24T04:39:22.340Z"
   },
   {
    "duration": 26,
    "start_time": "2023-04-24T04:39:22.389Z"
   },
   {
    "duration": 6,
    "start_time": "2023-04-24T04:39:22.416Z"
   },
   {
    "duration": 22,
    "start_time": "2023-04-24T04:39:22.424Z"
   },
   {
    "duration": 24,
    "start_time": "2023-04-24T04:39:22.448Z"
   },
   {
    "duration": 31,
    "start_time": "2023-04-24T04:39:22.474Z"
   },
   {
    "duration": 16,
    "start_time": "2023-04-24T04:39:22.507Z"
   },
   {
    "duration": 25,
    "start_time": "2023-04-24T04:39:22.525Z"
   },
   {
    "duration": 7,
    "start_time": "2023-04-24T04:39:22.552Z"
   },
   {
    "duration": 16,
    "start_time": "2023-04-24T04:39:22.560Z"
   },
   {
    "duration": 18,
    "start_time": "2023-04-24T04:39:22.577Z"
   },
   {
    "duration": 104,
    "start_time": "2023-04-24T04:39:22.597Z"
   },
   {
    "duration": 0,
    "start_time": "2023-04-24T04:39:22.703Z"
   },
   {
    "duration": 0,
    "start_time": "2023-04-24T04:39:22.704Z"
   },
   {
    "duration": 0,
    "start_time": "2023-04-24T04:39:22.705Z"
   },
   {
    "duration": 0,
    "start_time": "2023-04-24T04:39:22.706Z"
   },
   {
    "duration": 0,
    "start_time": "2023-04-24T04:39:22.707Z"
   },
   {
    "duration": 0,
    "start_time": "2023-04-24T04:39:22.708Z"
   },
   {
    "duration": 0,
    "start_time": "2023-04-24T04:39:22.709Z"
   },
   {
    "duration": 0,
    "start_time": "2023-04-24T04:39:22.710Z"
   },
   {
    "duration": 0,
    "start_time": "2023-04-24T04:39:22.711Z"
   },
   {
    "duration": 0,
    "start_time": "2023-04-24T04:39:22.712Z"
   },
   {
    "duration": 0,
    "start_time": "2023-04-24T04:39:22.713Z"
   },
   {
    "duration": 0,
    "start_time": "2023-04-24T04:39:22.714Z"
   },
   {
    "duration": 0,
    "start_time": "2023-04-24T04:39:22.735Z"
   },
   {
    "duration": 0,
    "start_time": "2023-04-24T04:39:22.735Z"
   },
   {
    "duration": 0,
    "start_time": "2023-04-24T04:39:22.737Z"
   },
   {
    "duration": 0,
    "start_time": "2023-04-24T04:39:22.737Z"
   },
   {
    "duration": 18,
    "start_time": "2023-04-24T04:39:44.676Z"
   },
   {
    "duration": 2433,
    "start_time": "2023-04-24T04:39:50.329Z"
   },
   {
    "duration": 38,
    "start_time": "2023-04-24T04:39:52.764Z"
   },
   {
    "duration": 18,
    "start_time": "2023-04-24T04:39:52.804Z"
   },
   {
    "duration": 31,
    "start_time": "2023-04-24T04:39:52.824Z"
   },
   {
    "duration": 22,
    "start_time": "2023-04-24T04:39:52.859Z"
   },
   {
    "duration": 20,
    "start_time": "2023-04-24T04:39:52.882Z"
   },
   {
    "duration": 19,
    "start_time": "2023-04-24T04:39:52.904Z"
   },
   {
    "duration": 35,
    "start_time": "2023-04-24T04:39:52.925Z"
   },
   {
    "duration": 15,
    "start_time": "2023-04-24T04:39:52.961Z"
   },
   {
    "duration": 6,
    "start_time": "2023-04-24T04:39:52.978Z"
   },
   {
    "duration": 11,
    "start_time": "2023-04-24T04:39:52.986Z"
   },
   {
    "duration": 10,
    "start_time": "2023-04-24T04:39:52.999Z"
   },
   {
    "duration": 19,
    "start_time": "2023-04-24T04:39:53.011Z"
   },
   {
    "duration": 18,
    "start_time": "2023-04-24T04:39:53.034Z"
   },
   {
    "duration": 5066,
    "start_time": "2023-04-24T04:39:53.055Z"
   },
   {
    "duration": 364,
    "start_time": "2023-04-24T04:39:58.122Z"
   },
   {
    "duration": 3,
    "start_time": "2023-04-24T04:39:58.487Z"
   },
   {
    "duration": 5,
    "start_time": "2023-04-24T04:39:58.492Z"
   },
   {
    "duration": 12,
    "start_time": "2023-04-24T04:39:58.499Z"
   },
   {
    "duration": 31,
    "start_time": "2023-04-24T04:39:58.512Z"
   },
   {
    "duration": 200,
    "start_time": "2023-04-24T04:39:58.545Z"
   },
   {
    "duration": 123,
    "start_time": "2023-04-24T04:39:58.749Z"
   },
   {
    "duration": 169,
    "start_time": "2023-04-24T04:39:58.873Z"
   },
   {
    "duration": 101,
    "start_time": "2023-04-24T04:39:59.047Z"
   },
   {
    "duration": 2859,
    "start_time": "2023-04-24T04:39:59.151Z"
   },
   {
    "duration": 1385,
    "start_time": "2023-04-24T04:40:02.012Z"
   },
   {
    "duration": 9889,
    "start_time": "2023-04-24T04:40:03.399Z"
   },
   {
    "duration": 531,
    "start_time": "2023-04-24T04:40:13.291Z"
   },
   {
    "duration": 194,
    "start_time": "2023-04-24T04:40:13.824Z"
   },
   {
    "duration": 15,
    "start_time": "2023-04-24T04:46:08.294Z"
   },
   {
    "duration": 6,
    "start_time": "2023-04-24T04:46:22.471Z"
   }
  ],
  "kernelspec": {
   "display_name": "Python 3 (ipykernel)",
   "language": "python",
   "name": "python3"
  },
  "language_info": {
   "codemirror_mode": {
    "name": "ipython",
    "version": 3
   },
   "file_extension": ".py",
   "mimetype": "text/x-python",
   "name": "python",
   "nbconvert_exporter": "python",
   "pygments_lexer": "ipython3",
   "version": "3.9.13"
  },
  "toc": {
   "base_numbering": 1,
   "nav_menu": {},
   "number_sections": true,
   "sideBar": true,
   "skip_h1_title": true,
   "title_cell": "Содержание",
   "title_sidebar": "Contents",
   "toc_cell": true,
   "toc_position": {},
   "toc_section_display": true,
   "toc_window_display": true
  }
 },
 "nbformat": 4,
 "nbformat_minor": 2
}
