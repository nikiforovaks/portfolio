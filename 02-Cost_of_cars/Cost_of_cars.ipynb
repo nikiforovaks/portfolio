{
 "cells": [
  {
   "cell_type": "markdown",
   "metadata": {},
   "source": [
    "# Определение стоимости автомобилей"
   ]
  },
  {
   "cell_type": "markdown",
   "metadata": {},
   "source": [
    "Сервис по продаже автомобилей с пробегом «Не бит, не крашен» разрабатывает приложение для привлечения новых клиентов. В нём можно быстро узнать рыночную стоимость своего автомобиля. В вашем распоряжении исторические данные: технические характеристики, комплектации и цены автомобилей. Вам нужно построить модель для определения стоимости. \n",
    "\n",
    "Заказчику важны:\n",
    "\n",
    "- качество предсказания;\n",
    "- скорость предсказания;\n",
    "- время обучения."
   ]
  },
  {
   "cell_type": "markdown",
   "metadata": {},
   "source": [
    "## Подготовка данных"
   ]
  },
  {
   "cell_type": "code",
   "execution_count": 1,
   "metadata": {},
   "outputs": [],
   "source": [
    "import pandas as pd\n",
    "from sklearn.model_selection import train_test_split\n",
    "from sklearn.tree import DecisionTreeRegressor\n",
    "from sklearn.metrics import mean_squared_error, make_scorer\n",
    "from sklearn.ensemble import RandomForestRegressor\n",
    "from sklearn.linear_model import LinearRegression\n",
    "import numpy as np\n",
    "import matplotlib.pyplot as plt\n",
    "import lightgbm as lgb\n",
    "from sklearn.model_selection import cross_val_score, GridSearchCV"
   ]
  },
  {
   "cell_type": "code",
   "execution_count": 2,
   "metadata": {},
   "outputs": [],
   "source": [
    "data = pd.read_csv('/datasets/autos.csv')"
   ]
  },
  {
   "cell_type": "code",
   "execution_count": 3,
   "metadata": {},
   "outputs": [
    {
     "data": {
      "text/html": [
       "<div>\n",
       "<style scoped>\n",
       "    .dataframe tbody tr th:only-of-type {\n",
       "        vertical-align: middle;\n",
       "    }\n",
       "\n",
       "    .dataframe tbody tr th {\n",
       "        vertical-align: top;\n",
       "    }\n",
       "\n",
       "    .dataframe thead th {\n",
       "        text-align: right;\n",
       "    }\n",
       "</style>\n",
       "<table border=\"1\" class=\"dataframe\">\n",
       "  <thead>\n",
       "    <tr style=\"text-align: right;\">\n",
       "      <th></th>\n",
       "      <th>DateCrawled</th>\n",
       "      <th>Price</th>\n",
       "      <th>VehicleType</th>\n",
       "      <th>RegistrationYear</th>\n",
       "      <th>Gearbox</th>\n",
       "      <th>Power</th>\n",
       "      <th>Model</th>\n",
       "      <th>Kilometer</th>\n",
       "      <th>RegistrationMonth</th>\n",
       "      <th>FuelType</th>\n",
       "      <th>Brand</th>\n",
       "      <th>Repaired</th>\n",
       "      <th>DateCreated</th>\n",
       "      <th>NumberOfPictures</th>\n",
       "      <th>PostalCode</th>\n",
       "      <th>LastSeen</th>\n",
       "    </tr>\n",
       "  </thead>\n",
       "  <tbody>\n",
       "    <tr>\n",
       "      <th>0</th>\n",
       "      <td>2016-03-24 11:52:17</td>\n",
       "      <td>480</td>\n",
       "      <td>NaN</td>\n",
       "      <td>1993</td>\n",
       "      <td>manual</td>\n",
       "      <td>0</td>\n",
       "      <td>golf</td>\n",
       "      <td>150000</td>\n",
       "      <td>0</td>\n",
       "      <td>petrol</td>\n",
       "      <td>volkswagen</td>\n",
       "      <td>NaN</td>\n",
       "      <td>2016-03-24 00:00:00</td>\n",
       "      <td>0</td>\n",
       "      <td>70435</td>\n",
       "      <td>2016-04-07 03:16:57</td>\n",
       "    </tr>\n",
       "    <tr>\n",
       "      <th>1</th>\n",
       "      <td>2016-03-24 10:58:45</td>\n",
       "      <td>18300</td>\n",
       "      <td>coupe</td>\n",
       "      <td>2011</td>\n",
       "      <td>manual</td>\n",
       "      <td>190</td>\n",
       "      <td>NaN</td>\n",
       "      <td>125000</td>\n",
       "      <td>5</td>\n",
       "      <td>gasoline</td>\n",
       "      <td>audi</td>\n",
       "      <td>yes</td>\n",
       "      <td>2016-03-24 00:00:00</td>\n",
       "      <td>0</td>\n",
       "      <td>66954</td>\n",
       "      <td>2016-04-07 01:46:50</td>\n",
       "    </tr>\n",
       "    <tr>\n",
       "      <th>2</th>\n",
       "      <td>2016-03-14 12:52:21</td>\n",
       "      <td>9800</td>\n",
       "      <td>suv</td>\n",
       "      <td>2004</td>\n",
       "      <td>auto</td>\n",
       "      <td>163</td>\n",
       "      <td>grand</td>\n",
       "      <td>125000</td>\n",
       "      <td>8</td>\n",
       "      <td>gasoline</td>\n",
       "      <td>jeep</td>\n",
       "      <td>NaN</td>\n",
       "      <td>2016-03-14 00:00:00</td>\n",
       "      <td>0</td>\n",
       "      <td>90480</td>\n",
       "      <td>2016-04-05 12:47:46</td>\n",
       "    </tr>\n",
       "    <tr>\n",
       "      <th>3</th>\n",
       "      <td>2016-03-17 16:54:04</td>\n",
       "      <td>1500</td>\n",
       "      <td>small</td>\n",
       "      <td>2001</td>\n",
       "      <td>manual</td>\n",
       "      <td>75</td>\n",
       "      <td>golf</td>\n",
       "      <td>150000</td>\n",
       "      <td>6</td>\n",
       "      <td>petrol</td>\n",
       "      <td>volkswagen</td>\n",
       "      <td>no</td>\n",
       "      <td>2016-03-17 00:00:00</td>\n",
       "      <td>0</td>\n",
       "      <td>91074</td>\n",
       "      <td>2016-03-17 17:40:17</td>\n",
       "    </tr>\n",
       "    <tr>\n",
       "      <th>4</th>\n",
       "      <td>2016-03-31 17:25:20</td>\n",
       "      <td>3600</td>\n",
       "      <td>small</td>\n",
       "      <td>2008</td>\n",
       "      <td>manual</td>\n",
       "      <td>69</td>\n",
       "      <td>fabia</td>\n",
       "      <td>90000</td>\n",
       "      <td>7</td>\n",
       "      <td>gasoline</td>\n",
       "      <td>skoda</td>\n",
       "      <td>no</td>\n",
       "      <td>2016-03-31 00:00:00</td>\n",
       "      <td>0</td>\n",
       "      <td>60437</td>\n",
       "      <td>2016-04-06 10:17:21</td>\n",
       "    </tr>\n",
       "  </tbody>\n",
       "</table>\n",
       "</div>"
      ],
      "text/plain": [
       "           DateCrawled  Price VehicleType  RegistrationYear Gearbox  Power  \\\n",
       "0  2016-03-24 11:52:17    480         NaN              1993  manual      0   \n",
       "1  2016-03-24 10:58:45  18300       coupe              2011  manual    190   \n",
       "2  2016-03-14 12:52:21   9800         suv              2004    auto    163   \n",
       "3  2016-03-17 16:54:04   1500       small              2001  manual     75   \n",
       "4  2016-03-31 17:25:20   3600       small              2008  manual     69   \n",
       "\n",
       "   Model  Kilometer  RegistrationMonth  FuelType       Brand Repaired  \\\n",
       "0   golf     150000                  0    petrol  volkswagen      NaN   \n",
       "1    NaN     125000                  5  gasoline        audi      yes   \n",
       "2  grand     125000                  8  gasoline        jeep      NaN   \n",
       "3   golf     150000                  6    petrol  volkswagen       no   \n",
       "4  fabia      90000                  7  gasoline       skoda       no   \n",
       "\n",
       "           DateCreated  NumberOfPictures  PostalCode             LastSeen  \n",
       "0  2016-03-24 00:00:00                 0       70435  2016-04-07 03:16:57  \n",
       "1  2016-03-24 00:00:00                 0       66954  2016-04-07 01:46:50  \n",
       "2  2016-03-14 00:00:00                 0       90480  2016-04-05 12:47:46  \n",
       "3  2016-03-17 00:00:00                 0       91074  2016-03-17 17:40:17  \n",
       "4  2016-03-31 00:00:00                 0       60437  2016-04-06 10:17:21  "
      ]
     },
     "execution_count": 3,
     "metadata": {},
     "output_type": "execute_result"
    }
   ],
   "source": [
    "data.head()"
   ]
  },
  {
   "cell_type": "code",
   "execution_count": 4,
   "metadata": {},
   "outputs": [
    {
     "data": {
      "text/plain": [
       "DateCrawled              0\n",
       "Price                    0\n",
       "VehicleType          37490\n",
       "RegistrationYear         0\n",
       "Gearbox              19833\n",
       "Power                    0\n",
       "Model                19705\n",
       "Kilometer                0\n",
       "RegistrationMonth        0\n",
       "FuelType             32895\n",
       "Brand                    0\n",
       "Repaired             71154\n",
       "DateCreated              0\n",
       "NumberOfPictures         0\n",
       "PostalCode               0\n",
       "LastSeen                 0\n",
       "dtype: int64"
      ]
     },
     "execution_count": 4,
     "metadata": {},
     "output_type": "execute_result"
    }
   ],
   "source": [
    "data.isna().sum()"
   ]
  },
  {
   "cell_type": "code",
   "execution_count": 5,
   "metadata": {
    "scrolled": true
   },
   "outputs": [
    {
     "data": {
      "text/plain": [
       "(354369, 16)"
      ]
     },
     "execution_count": 5,
     "metadata": {},
     "output_type": "execute_result"
    }
   ],
   "source": [
    "data.shape"
   ]
  },
  {
   "cell_type": "code",
   "execution_count": 6,
   "metadata": {},
   "outputs": [],
   "source": [
    "data.loc[data['Gearbox'] == 'manual', 'Gearbox'] = 0\n",
    "data.loc[data['Gearbox'] == 'auto', 'Gearbox'] = 1"
   ]
  },
  {
   "cell_type": "code",
   "execution_count": 7,
   "metadata": {},
   "outputs": [],
   "source": [
    "data.loc[data['Repaired'] == 'no', 'Repaired'] = 0\n",
    "data.loc[data['Repaired'] == 'yes', 'Repaired'] = 1"
   ]
  },
  {
   "cell_type": "code",
   "execution_count": 8,
   "metadata": {},
   "outputs": [],
   "source": [
    "data['VehicleType'] = data['VehicleType'].fillna('other')\n",
    "data['Model'] = data['Model'].fillna('other')\n",
    "data['FuelType'] = data['FuelType'].fillna('other')"
   ]
  },
  {
   "cell_type": "code",
   "execution_count": 9,
   "metadata": {},
   "outputs": [],
   "source": [
    "data = data.dropna(subset=['Gearbox'])"
   ]
  },
  {
   "cell_type": "code",
   "execution_count": 10,
   "metadata": {},
   "outputs": [
    {
     "data": {
      "text/plain": [
       "DateCrawled              0\n",
       "Price                    0\n",
       "VehicleType              0\n",
       "RegistrationYear         0\n",
       "Gearbox                  0\n",
       "Power                    0\n",
       "Model                    0\n",
       "Kilometer                0\n",
       "RegistrationMonth        0\n",
       "FuelType                 0\n",
       "Brand                    0\n",
       "Repaired             58366\n",
       "DateCreated              0\n",
       "NumberOfPictures         0\n",
       "PostalCode               0\n",
       "LastSeen                 0\n",
       "dtype: int64"
      ]
     },
     "execution_count": 10,
     "metadata": {},
     "output_type": "execute_result"
    }
   ],
   "source": [
    "data.isna().sum()"
   ]
  },
  {
   "cell_type": "code",
   "execution_count": 11,
   "metadata": {
    "scrolled": true
   },
   "outputs": [
    {
     "data": {
      "text/plain": [
       "(334536, 16)"
      ]
     },
     "execution_count": 11,
     "metadata": {},
     "output_type": "execute_result"
    }
   ],
   "source": [
    "data.shape"
   ]
  },
  {
   "cell_type": "code",
   "execution_count": 12,
   "metadata": {},
   "outputs": [
    {
     "data": {
      "text/plain": [
       "array(['petrol', 'gasoline', 'other', 'lpg', 'hybrid', 'cng', 'electric'],\n",
       "      dtype=object)"
      ]
     },
     "execution_count": 12,
     "metadata": {},
     "output_type": "execute_result"
    }
   ],
   "source": [
    "data['FuelType'].unique()"
   ]
  },
  {
   "cell_type": "code",
   "execution_count": 13,
   "metadata": {
    "scrolled": true
   },
   "outputs": [
    {
     "data": {
      "text/plain": [
       "5.596708515699731"
      ]
     },
     "execution_count": 13,
     "metadata": {},
     "output_type": "execute_result"
    }
   ],
   "source": [
    "100 - 334536 * 100 / 354369"
   ]
  },
  {
   "cell_type": "markdown",
   "metadata": {},
   "source": [
    "Удалила пропущенные данные в столбце Gearbox, так как их всего 5.6%. Со столбцом Repaired я так поступить не могу, слишком много данных удаляется."
   ]
  },
  {
   "cell_type": "code",
   "execution_count": 14,
   "metadata": {},
   "outputs": [],
   "source": [
    "data.loc[data['FuelType'] == 'petrol', 'FuelType'] = 0\n",
    "data.loc[data['FuelType'] == 'gasoline', 'FuelType'] = 1\n",
    "data.loc[data['FuelType'] == 'other', 'FuelType'] = 2\n",
    "data.loc[data['FuelType'] == 'lpg', 'FuelType'] = 3\n",
    "data.loc[data['FuelType'] == 'hybrid', 'FuelType'] = 4\n",
    "data.loc[data['FuelType'] == 'cng', 'FuelType'] = 5\n",
    "data.loc[data['FuelType'] == 'electric', 'FuelType'] = 6"
   ]
  },
  {
   "cell_type": "code",
   "execution_count": 15,
   "metadata": {},
   "outputs": [],
   "source": [
    "data['Gearbox'] = data['Gearbox'].astype('int')\n",
    "data['FuelType'] = data['FuelType'].astype('int')"
   ]
  },
  {
   "cell_type": "code",
   "execution_count": 16,
   "metadata": {},
   "outputs": [
    {
     "data": {
      "text/html": [
       "<div>\n",
       "<style scoped>\n",
       "    .dataframe tbody tr th:only-of-type {\n",
       "        vertical-align: middle;\n",
       "    }\n",
       "\n",
       "    .dataframe tbody tr th {\n",
       "        vertical-align: top;\n",
       "    }\n",
       "\n",
       "    .dataframe thead th {\n",
       "        text-align: right;\n",
       "    }\n",
       "</style>\n",
       "<table border=\"1\" class=\"dataframe\">\n",
       "  <thead>\n",
       "    <tr style=\"text-align: right;\">\n",
       "      <th></th>\n",
       "      <th>Price</th>\n",
       "      <th>RegistrationYear</th>\n",
       "      <th>Gearbox</th>\n",
       "      <th>Power</th>\n",
       "      <th>Kilometer</th>\n",
       "      <th>RegistrationMonth</th>\n",
       "      <th>FuelType</th>\n",
       "      <th>NumberOfPictures</th>\n",
       "      <th>PostalCode</th>\n",
       "    </tr>\n",
       "  </thead>\n",
       "  <tbody>\n",
       "    <tr>\n",
       "      <th>count</th>\n",
       "      <td>334536.000000</td>\n",
       "      <td>334536.000000</td>\n",
       "      <td>334536.000000</td>\n",
       "      <td>334536.000000</td>\n",
       "      <td>334536.000000</td>\n",
       "      <td>334536.000000</td>\n",
       "      <td>334536.000000</td>\n",
       "      <td>334536.0</td>\n",
       "      <td>334536.000000</td>\n",
       "    </tr>\n",
       "    <tr>\n",
       "      <th>mean</th>\n",
       "      <td>4547.697291</td>\n",
       "      <td>2003.379122</td>\n",
       "      <td>0.198140</td>\n",
       "      <td>114.457544</td>\n",
       "      <td>128777.590454</td>\n",
       "      <td>5.857955</td>\n",
       "      <td>0.487329</td>\n",
       "      <td>0.0</td>\n",
       "      <td>50637.655367</td>\n",
       "    </tr>\n",
       "    <tr>\n",
       "      <th>std</th>\n",
       "      <td>4551.131380</td>\n",
       "      <td>32.059005</td>\n",
       "      <td>0.398599</td>\n",
       "      <td>190.479544</td>\n",
       "      <td>36894.507459</td>\n",
       "      <td>3.655664</td>\n",
       "      <td>0.731400</td>\n",
       "      <td>0.0</td>\n",
       "      <td>25802.916894</td>\n",
       "    </tr>\n",
       "    <tr>\n",
       "      <th>min</th>\n",
       "      <td>0.000000</td>\n",
       "      <td>1000.000000</td>\n",
       "      <td>0.000000</td>\n",
       "      <td>0.000000</td>\n",
       "      <td>5000.000000</td>\n",
       "      <td>0.000000</td>\n",
       "      <td>0.000000</td>\n",
       "      <td>0.0</td>\n",
       "      <td>1067.000000</td>\n",
       "    </tr>\n",
       "    <tr>\n",
       "      <th>25%</th>\n",
       "      <td>1150.000000</td>\n",
       "      <td>1999.000000</td>\n",
       "      <td>0.000000</td>\n",
       "      <td>75.000000</td>\n",
       "      <td>125000.000000</td>\n",
       "      <td>3.000000</td>\n",
       "      <td>0.000000</td>\n",
       "      <td>0.0</td>\n",
       "      <td>30177.000000</td>\n",
       "    </tr>\n",
       "    <tr>\n",
       "      <th>50%</th>\n",
       "      <td>2850.000000</td>\n",
       "      <td>2003.000000</td>\n",
       "      <td>0.000000</td>\n",
       "      <td>105.000000</td>\n",
       "      <td>150000.000000</td>\n",
       "      <td>6.000000</td>\n",
       "      <td>0.000000</td>\n",
       "      <td>0.0</td>\n",
       "      <td>49497.000000</td>\n",
       "    </tr>\n",
       "    <tr>\n",
       "      <th>75%</th>\n",
       "      <td>6500.000000</td>\n",
       "      <td>2008.000000</td>\n",
       "      <td>0.000000</td>\n",
       "      <td>143.000000</td>\n",
       "      <td>150000.000000</td>\n",
       "      <td>9.000000</td>\n",
       "      <td>1.000000</td>\n",
       "      <td>0.0</td>\n",
       "      <td>71254.000000</td>\n",
       "    </tr>\n",
       "    <tr>\n",
       "      <th>max</th>\n",
       "      <td>20000.000000</td>\n",
       "      <td>9000.000000</td>\n",
       "      <td>1.000000</td>\n",
       "      <td>20000.000000</td>\n",
       "      <td>150000.000000</td>\n",
       "      <td>12.000000</td>\n",
       "      <td>6.000000</td>\n",
       "      <td>0.0</td>\n",
       "      <td>99998.000000</td>\n",
       "    </tr>\n",
       "  </tbody>\n",
       "</table>\n",
       "</div>"
      ],
      "text/plain": [
       "               Price  RegistrationYear        Gearbox          Power  \\\n",
       "count  334536.000000     334536.000000  334536.000000  334536.000000   \n",
       "mean     4547.697291       2003.379122       0.198140     114.457544   \n",
       "std      4551.131380         32.059005       0.398599     190.479544   \n",
       "min         0.000000       1000.000000       0.000000       0.000000   \n",
       "25%      1150.000000       1999.000000       0.000000      75.000000   \n",
       "50%      2850.000000       2003.000000       0.000000     105.000000   \n",
       "75%      6500.000000       2008.000000       0.000000     143.000000   \n",
       "max     20000.000000       9000.000000       1.000000   20000.000000   \n",
       "\n",
       "           Kilometer  RegistrationMonth       FuelType  NumberOfPictures  \\\n",
       "count  334536.000000      334536.000000  334536.000000          334536.0   \n",
       "mean   128777.590454           5.857955       0.487329               0.0   \n",
       "std     36894.507459           3.655664       0.731400               0.0   \n",
       "min      5000.000000           0.000000       0.000000               0.0   \n",
       "25%    125000.000000           3.000000       0.000000               0.0   \n",
       "50%    150000.000000           6.000000       0.000000               0.0   \n",
       "75%    150000.000000           9.000000       1.000000               0.0   \n",
       "max    150000.000000          12.000000       6.000000               0.0   \n",
       "\n",
       "          PostalCode  \n",
       "count  334536.000000  \n",
       "mean    50637.655367  \n",
       "std     25802.916894  \n",
       "min      1067.000000  \n",
       "25%     30177.000000  \n",
       "50%     49497.000000  \n",
       "75%     71254.000000  \n",
       "max     99998.000000  "
      ]
     },
     "execution_count": 16,
     "metadata": {},
     "output_type": "execute_result"
    }
   ],
   "source": [
    "data.describe()"
   ]
  },
  {
   "cell_type": "code",
   "execution_count": 17,
   "metadata": {},
   "outputs": [],
   "source": [
    "data = data.drop(data[data['RegistrationYear'] > 2023].index)"
   ]
  },
  {
   "cell_type": "code",
   "execution_count": 18,
   "metadata": {},
   "outputs": [],
   "source": [
    "data = data.drop(data[data['Power'] > 5000].index)"
   ]
  },
  {
   "cell_type": "markdown",
   "metadata": {},
   "source": [
    "Год регистрации не может быть больше 2023 и мощность должна быть <= 5000.\n",
    "\n",
    "Строк, где цена = 0, слишком много, чтобы их удалить, поэтому я оставила их."
   ]
  },
  {
   "cell_type": "code",
   "execution_count": 19,
   "metadata": {},
   "outputs": [
    {
     "data": {
      "text/html": [
       "<div>\n",
       "<style scoped>\n",
       "    .dataframe tbody tr th:only-of-type {\n",
       "        vertical-align: middle;\n",
       "    }\n",
       "\n",
       "    .dataframe tbody tr th {\n",
       "        vertical-align: top;\n",
       "    }\n",
       "\n",
       "    .dataframe thead th {\n",
       "        text-align: right;\n",
       "    }\n",
       "</style>\n",
       "<table border=\"1\" class=\"dataframe\">\n",
       "  <thead>\n",
       "    <tr style=\"text-align: right;\">\n",
       "      <th></th>\n",
       "      <th>Price</th>\n",
       "      <th>RegistrationYear</th>\n",
       "      <th>Gearbox</th>\n",
       "      <th>Power</th>\n",
       "      <th>Kilometer</th>\n",
       "      <th>RegistrationMonth</th>\n",
       "      <th>FuelType</th>\n",
       "      <th>NumberOfPictures</th>\n",
       "      <th>PostalCode</th>\n",
       "    </tr>\n",
       "  </thead>\n",
       "  <tbody>\n",
       "    <tr>\n",
       "      <th>Price</th>\n",
       "      <td>1.000000</td>\n",
       "      <td>0.351746</td>\n",
       "      <td>0.250608</td>\n",
       "      <td>0.390335</td>\n",
       "      <td>-0.366668</td>\n",
       "      <td>0.088735</td>\n",
       "      <td>0.096707</td>\n",
       "      <td>NaN</td>\n",
       "      <td>0.074617</td>\n",
       "    </tr>\n",
       "    <tr>\n",
       "      <th>RegistrationYear</th>\n",
       "      <td>0.351746</td>\n",
       "      <td>1.000000</td>\n",
       "      <td>0.026402</td>\n",
       "      <td>0.065230</td>\n",
       "      <td>-0.186819</td>\n",
       "      <td>0.034011</td>\n",
       "      <td>0.164566</td>\n",
       "      <td>NaN</td>\n",
       "      <td>0.020696</td>\n",
       "    </tr>\n",
       "    <tr>\n",
       "      <th>Gearbox</th>\n",
       "      <td>0.250608</td>\n",
       "      <td>0.026402</td>\n",
       "      <td>1.000000</td>\n",
       "      <td>0.293106</td>\n",
       "      <td>0.014151</td>\n",
       "      <td>0.036263</td>\n",
       "      <td>0.098259</td>\n",
       "      <td>NaN</td>\n",
       "      <td>-0.033619</td>\n",
       "    </tr>\n",
       "    <tr>\n",
       "      <th>Power</th>\n",
       "      <td>0.390335</td>\n",
       "      <td>0.065230</td>\n",
       "      <td>0.293106</td>\n",
       "      <td>1.000000</td>\n",
       "      <td>0.056603</td>\n",
       "      <td>0.072144</td>\n",
       "      <td>0.070067</td>\n",
       "      <td>NaN</td>\n",
       "      <td>0.055901</td>\n",
       "    </tr>\n",
       "    <tr>\n",
       "      <th>Kilometer</th>\n",
       "      <td>-0.366668</td>\n",
       "      <td>-0.186819</td>\n",
       "      <td>0.014151</td>\n",
       "      <td>0.056603</td>\n",
       "      <td>1.000000</td>\n",
       "      <td>-0.013608</td>\n",
       "      <td>0.119280</td>\n",
       "      <td>NaN</td>\n",
       "      <td>-0.010765</td>\n",
       "    </tr>\n",
       "    <tr>\n",
       "      <th>RegistrationMonth</th>\n",
       "      <td>0.088735</td>\n",
       "      <td>0.034011</td>\n",
       "      <td>0.036263</td>\n",
       "      <td>0.072144</td>\n",
       "      <td>-0.013608</td>\n",
       "      <td>1.000000</td>\n",
       "      <td>-0.019424</td>\n",
       "      <td>NaN</td>\n",
       "      <td>0.010780</td>\n",
       "    </tr>\n",
       "    <tr>\n",
       "      <th>FuelType</th>\n",
       "      <td>0.096707</td>\n",
       "      <td>0.164566</td>\n",
       "      <td>0.098259</td>\n",
       "      <td>0.070067</td>\n",
       "      <td>0.119280</td>\n",
       "      <td>-0.019424</td>\n",
       "      <td>1.000000</td>\n",
       "      <td>NaN</td>\n",
       "      <td>-0.018301</td>\n",
       "    </tr>\n",
       "    <tr>\n",
       "      <th>NumberOfPictures</th>\n",
       "      <td>NaN</td>\n",
       "      <td>NaN</td>\n",
       "      <td>NaN</td>\n",
       "      <td>NaN</td>\n",
       "      <td>NaN</td>\n",
       "      <td>NaN</td>\n",
       "      <td>NaN</td>\n",
       "      <td>NaN</td>\n",
       "      <td>NaN</td>\n",
       "    </tr>\n",
       "    <tr>\n",
       "      <th>PostalCode</th>\n",
       "      <td>0.074617</td>\n",
       "      <td>0.020696</td>\n",
       "      <td>-0.033619</td>\n",
       "      <td>0.055901</td>\n",
       "      <td>-0.010765</td>\n",
       "      <td>0.010780</td>\n",
       "      <td>-0.018301</td>\n",
       "      <td>NaN</td>\n",
       "      <td>1.000000</td>\n",
       "    </tr>\n",
       "  </tbody>\n",
       "</table>\n",
       "</div>"
      ],
      "text/plain": [
       "                      Price  RegistrationYear   Gearbox     Power  Kilometer  \\\n",
       "Price              1.000000          0.351746  0.250608  0.390335  -0.366668   \n",
       "RegistrationYear   0.351746          1.000000  0.026402  0.065230  -0.186819   \n",
       "Gearbox            0.250608          0.026402  1.000000  0.293106   0.014151   \n",
       "Power              0.390335          0.065230  0.293106  1.000000   0.056603   \n",
       "Kilometer         -0.366668         -0.186819  0.014151  0.056603   1.000000   \n",
       "RegistrationMonth  0.088735          0.034011  0.036263  0.072144  -0.013608   \n",
       "FuelType           0.096707          0.164566  0.098259  0.070067   0.119280   \n",
       "NumberOfPictures        NaN               NaN       NaN       NaN        NaN   \n",
       "PostalCode         0.074617          0.020696 -0.033619  0.055901  -0.010765   \n",
       "\n",
       "                   RegistrationMonth  FuelType  NumberOfPictures  PostalCode  \n",
       "Price                       0.088735  0.096707               NaN    0.074617  \n",
       "RegistrationYear            0.034011  0.164566               NaN    0.020696  \n",
       "Gearbox                     0.036263  0.098259               NaN   -0.033619  \n",
       "Power                       0.072144  0.070067               NaN    0.055901  \n",
       "Kilometer                  -0.013608  0.119280               NaN   -0.010765  \n",
       "RegistrationMonth           1.000000 -0.019424               NaN    0.010780  \n",
       "FuelType                   -0.019424  1.000000               NaN   -0.018301  \n",
       "NumberOfPictures                 NaN       NaN               NaN         NaN  \n",
       "PostalCode                  0.010780 -0.018301               NaN    1.000000  "
      ]
     },
     "execution_count": 19,
     "metadata": {},
     "output_type": "execute_result"
    }
   ],
   "source": [
    "data.corr()"
   ]
  },
  {
   "cell_type": "code",
   "execution_count": 20,
   "metadata": {},
   "outputs": [],
   "source": [
    "features = data.drop(['DateCrawled', 'RegistrationMonth',\n",
    "                      'DateCreated', 'Price', 'NumberOfPictures', 'PostalCode', 'LastSeen', \n",
    "                      'Model','VehicleType', 'Brand', 'Repaired'], axis=1)\n",
    "target = data['Price']"
   ]
  },
  {
   "cell_type": "markdown",
   "metadata": {},
   "source": [
    "Выводы:\n",
    "\n",
    "корреляция не прослеживается."
   ]
  },
  {
   "cell_type": "markdown",
   "metadata": {},
   "source": [
    "## Обучение моделей"
   ]
  },
  {
   "cell_type": "code",
   "execution_count": 21,
   "metadata": {},
   "outputs": [],
   "source": [
    "features_train, features_test, target_train, target_test = train_test_split(features,\n",
    "                                                                            target, test_size=0.25, random_state=12345)"
   ]
  },
  {
   "cell_type": "code",
   "execution_count": 22,
   "metadata": {},
   "outputs": [],
   "source": [
    "def rmse(target, predict):\n",
    "    return mean_squared_error(target, predict) ** 0.5"
   ]
  },
  {
   "cell_type": "code",
   "execution_count": 34,
   "metadata": {},
   "outputs": [
    {
     "data": {
      "text/plain": [
       "3562.908141456513"
      ]
     },
     "execution_count": 34,
     "metadata": {},
     "output_type": "execute_result"
    }
   ],
   "source": [
    "scorer = make_scorer(rmse, greater_is_better=False)\n",
    "model = LinearRegression()\n",
    "grid = GridSearchCV(model, param_grid={}, scoring=scorer, cv=5)\n",
    "grid.fit(features_train, target_train)\n",
    "grid.best_score_ * (-1)"
   ]
  },
  {
   "cell_type": "code",
   "execution_count": 38,
   "metadata": {},
   "outputs": [
    {
     "data": {
      "text/plain": [
       "{'mean_fit_time': array([0.12922978]),\n",
       " 'std_fit_time': array([0.06183053]),\n",
       " 'mean_score_time': array([0.01938109]),\n",
       " 'std_score_time': array([0.03087159]),\n",
       " 'params': [{}],\n",
       " 'split0_test_score': array([-3589.652156]),\n",
       " 'split1_test_score': array([-3531.10307743]),\n",
       " 'split2_test_score': array([-3556.60292863]),\n",
       " 'split3_test_score': array([-3606.62880393]),\n",
       " 'split4_test_score': array([-3530.55374129]),\n",
       " 'mean_test_score': array([-3562.90814146]),\n",
       " 'std_test_score': array([30.74040877]),\n",
       " 'rank_test_score': array([1], dtype=int32)}"
      ]
     },
     "execution_count": 38,
     "metadata": {},
     "output_type": "execute_result"
    }
   ],
   "source": [
    "grid.cv_results_"
   ]
  },
  {
   "cell_type": "code",
   "execution_count": 39,
   "metadata": {},
   "outputs": [
    {
     "name": "stdout",
     "output_type": "stream",
     "text": [
      "CPU times: user 22.6 s, sys: 25.8 ms, total: 22.7 s\n",
      "Wall time: 22.7 s\n"
     ]
    },
    {
     "data": {
      "text/plain": [
       "2208.35990959034"
      ]
     },
     "execution_count": 39,
     "metadata": {},
     "output_type": "execute_result"
    }
   ],
   "source": [
    "%%time\n",
    "model = DecisionTreeRegressor()\n",
    "grid = GridSearchCV(model, param_grid={'max_depth': range(1, 20)}, scoring=scorer, cv=5)\n",
    "grid.fit(features_train, target_train)\n",
    "grid.best_score_ * (-1)\n",
    "# 17.3 s"
   ]
  },
  {
   "cell_type": "markdown",
   "metadata": {},
   "source": [
    "Лучшая модель дерева регресии имеет результат: 2207.49"
   ]
  },
  {
   "cell_type": "code",
   "execution_count": 40,
   "metadata": {},
   "outputs": [
    {
     "data": {
      "text/plain": [
       "{'mean_fit_time': array([0.03718996, 0.06726832, 0.09131351, 0.1249712 , 0.14763784,\n",
       "        0.16385121, 0.18523612, 0.21240544, 0.22977781, 0.23916302,\n",
       "        0.25421667, 0.28639932, 0.2936831 , 0.286836  , 0.32017751,\n",
       "        0.35579052, 0.34186134, 0.32370362, 0.32554326]),\n",
       " 'std_fit_time': array([0.00501991, 0.00622823, 0.00327654, 0.01474509, 0.0085809 ,\n",
       "        0.00907378, 0.00548451, 0.01551734, 0.01803348, 0.01627313,\n",
       "        0.02088969, 0.01681691, 0.01694281, 0.01909549, 0.02153679,\n",
       "        0.03233381, 0.02023629, 0.02682089, 0.02465439]),\n",
       " 'mean_score_time': array([0.00404773, 0.0038208 , 0.00411162, 0.00463023, 0.00491724,\n",
       "        0.00593691, 0.00569139, 0.00734453, 0.0073247 , 0.00882215,\n",
       "        0.00919113, 0.00911942, 0.01142793, 0.01409464, 0.01361971,\n",
       "        0.01404366, 0.01496854, 0.01480136, 0.0157371 ]),\n",
       " 'std_score_time': array([1.27050118e-03, 1.38780225e-04, 7.93663328e-05, 5.87273418e-04,\n",
       "        5.13398648e-04, 8.79502443e-04, 6.16229734e-04, 1.83967332e-03,\n",
       "        1.26045821e-03, 2.06180226e-03, 2.40629008e-03, 6.48854989e-04,\n",
       "        1.00352139e-03, 2.24105059e-03, 3.03485012e-03, 1.99334076e-03,\n",
       "        6.66676987e-04, 1.00779451e-03, 1.60067541e-03]),\n",
       " 'param_max_depth': masked_array(data=[1, 2, 3, 4, 5, 6, 7, 8, 9, 10, 11, 12, 13, 14, 15, 16,\n",
       "                    17, 18, 19],\n",
       "              mask=[False, False, False, False, False, False, False, False,\n",
       "                    False, False, False, False, False, False, False, False,\n",
       "                    False, False, False],\n",
       "        fill_value='?',\n",
       "             dtype=object),\n",
       " 'params': [{'max_depth': 1},\n",
       "  {'max_depth': 2},\n",
       "  {'max_depth': 3},\n",
       "  {'max_depth': 4},\n",
       "  {'max_depth': 5},\n",
       "  {'max_depth': 6},\n",
       "  {'max_depth': 7},\n",
       "  {'max_depth': 8},\n",
       "  {'max_depth': 9},\n",
       "  {'max_depth': 10},\n",
       "  {'max_depth': 11},\n",
       "  {'max_depth': 12},\n",
       "  {'max_depth': 13},\n",
       "  {'max_depth': 14},\n",
       "  {'max_depth': 15},\n",
       "  {'max_depth': 16},\n",
       "  {'max_depth': 17},\n",
       "  {'max_depth': 18},\n",
       "  {'max_depth': 19}],\n",
       " 'split0_test_score': array([-3749.86267263, -3280.24220488, -2991.00625828, -2702.90465193,\n",
       "        -2525.18648801, -2409.31783373, -2319.87510425, -2267.65765381,\n",
       "        -2221.37544483, -2198.88577691, -2183.8362253 , -2180.86091716,\n",
       "        -2178.57650323, -2203.09082419, -2209.97381188, -2226.72977908,\n",
       "        -2245.10651983, -2255.85508309, -2260.99398184]),\n",
       " 'split1_test_score': array([-3763.79051254, -3291.92782397, -3000.28816981, -2701.62728053,\n",
       "        -2528.51037319, -2414.31715734, -2334.86332092, -2274.74101475,\n",
       "        -2229.53146518, -2199.9040857 , -2179.86267376, -2180.15256428,\n",
       "        -2187.21756457, -2192.3336806 , -2213.55893718, -2236.1740127 ,\n",
       "        -2247.00684204, -2269.88480871, -2272.05928192]),\n",
       " 'split2_test_score': array([-3792.79649297, -3322.39492466, -3032.64798461, -2741.217806  ,\n",
       "        -2555.37538409, -2444.12842312, -2355.59058174, -2298.45840248,\n",
       "        -2270.0448499 , -2244.22131546, -2231.17415278, -2235.2555283 ,\n",
       "        -2238.38036946, -2256.30744481, -2264.04273137, -2290.76987704,\n",
       "        -2303.76627762, -2324.06540254, -2327.95494659]),\n",
       " 'split3_test_score': array([-3788.03457065, -3309.45437118, -3016.32415837, -2742.11408792,\n",
       "        -2561.70374553, -2451.44626632, -2363.00851966, -2311.88244764,\n",
       "        -2275.70386493, -2247.80645725, -2241.88208679, -2233.65557683,\n",
       "        -2235.47206242, -2251.54207347, -2272.27609094, -2292.6906404 ,\n",
       "        -2315.2733397 , -2328.26470182, -2337.90094175]),\n",
       " 'split4_test_score': array([-3796.3588295 , -3312.18072716, -3030.68568435, -2735.83240409,\n",
       "        -2549.02378364, -2434.99193315, -2348.93877706, -2294.07479299,\n",
       "        -2250.56801929, -2227.53185622, -2218.63524987, -2211.87496139,\n",
       "        -2209.59607457, -2229.92822269, -2235.94499317, -2263.84223982,\n",
       "        -2278.26255895, -2285.51234906, -2320.49238021]),\n",
       " 'mean_test_score': array([-3778.16861566, -3303.24001037, -3014.19045109, -2724.73924609,\n",
       "        -2543.95995489, -2430.84032273, -2344.45526073, -2289.36286233,\n",
       "        -2249.44472883, -2223.66989831, -2211.0780777 , -2208.35990959,\n",
       "        -2209.84851485, -2226.64044915, -2239.15931291, -2262.04130981,\n",
       "        -2277.88310763, -2292.71646904, -2303.88030646]),\n",
       " 'std_test_score': array([18.16673885, 15.11509217, 16.42014733, 18.4791703 , 14.57346304,\n",
       "        16.45993268, 15.39162182, 16.10575901, 21.44570713, 20.97100601,\n",
       "        25.0054795 , 24.19689894, 24.33431842, 25.46593876, 25.42994322,\n",
       "        27.14397411, 28.62083301, 28.90805534, 31.1922021 ]),\n",
       " 'rank_test_score': array([19, 18, 17, 16, 15, 14, 13, 10,  7,  4,  3,  1,  2,  5,  6,  8,  9,\n",
       "        11, 12], dtype=int32)}"
      ]
     },
     "execution_count": 40,
     "metadata": {},
     "output_type": "execute_result"
    }
   ],
   "source": [
    "grid.cv_results_"
   ]
  },
  {
   "cell_type": "code",
   "execution_count": 41,
   "metadata": {},
   "outputs": [
    {
     "name": "stdout",
     "output_type": "stream",
     "text": [
      "CPU times: user 14min 54s, sys: 3.45 s, total: 14min 57s\n",
      "Wall time: 14min 58s\n"
     ]
    },
    {
     "data": {
      "text/plain": [
       "2109.981819742049"
      ]
     },
     "execution_count": 41,
     "metadata": {},
     "output_type": "execute_result"
    }
   ],
   "source": [
    "%%time\n",
    "model = RandomForestRegressor()\n",
    "grid = GridSearchCV(model, param_grid={'max_depth': range(1, 20), 'n_estimators': range(10, 31, 10)}, scoring=scorer, cv=5)\n",
    "grid.fit(features_train, target_train)\n",
    "grid.best_score_ * (-1)\n",
    "\n",
    "# Wall time: 11min 47s"
   ]
  },
  {
   "cell_type": "markdown",
   "metadata": {},
   "source": [
    "Лучшая модель леса регресии имеет результат: 2110.01"
   ]
  },
  {
   "cell_type": "code",
   "execution_count": 42,
   "metadata": {},
   "outputs": [
    {
     "data": {
      "text/plain": [
       "{'mean_fit_time': array([0.29805031, 0.55899377, 0.7775322 , 0.46118107, 0.8778235 ,\n",
       "        1.33637662, 0.702846  , 1.35640101, 1.85881162, 0.81604352,\n",
       "        1.52237334, 2.3085001 , 0.92382212, 1.87213626, 2.94466987,\n",
       "        1.08596559, 2.3156311 , 3.41001258, 1.38552651, 2.72869029,\n",
       "        3.90361137, 1.37741075, 2.71362686, 4.30421414, 1.51939173,\n",
       "        3.02533512, 4.55540962, 1.73432207, 3.28522072, 4.99341254,\n",
       "        1.76796384, 3.50775166, 5.29170356, 1.86494293, 3.67754102,\n",
       "        5.29337192, 1.84656096, 3.74961581, 5.57170644, 1.85667658,\n",
       "        3.89242177, 6.28685832, 2.20321012, 4.44688816, 6.67049942,\n",
       "        2.12833166, 4.10861549, 6.2551693 , 2.19400206, 4.43688974,\n",
       "        6.89171219, 2.24671168, 4.50953932, 6.62711868, 2.26434584,\n",
       "        4.50625467, 6.50531726]),\n",
       " 'std_fit_time': array([0.01200489, 0.03532564, 0.03514864, 0.01300522, 0.01903046,\n",
       "        0.0264543 , 0.05518911, 0.05953746, 0.05887352, 0.0469221 ,\n",
       "        0.0303466 , 0.06684702, 0.01010245, 0.0710437 , 0.11253211,\n",
       "        0.06990585, 0.09823945, 0.16909405, 0.04732445, 0.10315149,\n",
       "        0.26762717, 0.05526684, 0.06649328, 0.09734142, 0.01533282,\n",
       "        0.03733055, 0.15037566, 0.05852701, 0.15718794, 0.12824756,\n",
       "        0.03930536, 0.03803085, 0.10089754, 0.03845531, 0.03365041,\n",
       "        0.06462475, 0.0301922 , 0.08209882, 0.06234192, 0.05808586,\n",
       "        0.09707725, 0.26244151, 0.08824103, 0.24041111, 0.62135751,\n",
       "        0.04960819, 0.124241  , 0.25158868, 0.06100541, 0.12656362,\n",
       "        0.18982319, 0.04415034, 0.11930732, 0.12063114, 0.04853078,\n",
       "        0.06053458, 0.14575419]),\n",
       " 'mean_score_time': array([0.01044579, 0.01843619, 0.0243825 , 0.01277313, 0.02431855,\n",
       "        0.0340713 , 0.0200417 , 0.03284669, 0.04286895, 0.018398  ,\n",
       "        0.03372788, 0.05143065, 0.0232131 , 0.04208202, 0.06670222,\n",
       "        0.03003502, 0.05340834, 0.08213482, 0.03168077, 0.06108127,\n",
       "        0.08789344, 0.0369173 , 0.07293844, 0.1100491 , 0.04638271,\n",
       "        0.088832  , 0.12948461, 0.05011549, 0.10838065, 0.15304942,\n",
       "        0.06204653, 0.1152863 , 0.17313709, 0.0677247 , 0.12954378,\n",
       "        0.19733577, 0.07623029, 0.14541912, 0.21774168, 0.08361111,\n",
       "        0.16774707, 0.25032587, 0.10087628, 0.18517976, 0.29504232,\n",
       "        0.10383301, 0.20255513, 0.30353799, 0.11761942, 0.22868996,\n",
       "        0.35381641, 0.1231102 , 0.24039488, 0.35679922, 0.13603044,\n",
       "        0.25143199, 0.37135358]),\n",
       " 'std_score_time': array([0.00048941, 0.00243496, 0.00179361, 0.00044006, 0.00225049,\n",
       "        0.0032245 , 0.00214136, 0.00363908, 0.00348162, 0.00067917,\n",
       "        0.00279044, 0.00309052, 0.00266006, 0.00282471, 0.00488985,\n",
       "        0.00420488, 0.00629286, 0.00447462, 0.00282102, 0.00435789,\n",
       "        0.00409373, 0.00428749, 0.00698369, 0.00487827, 0.0023899 ,\n",
       "        0.00319665, 0.00371522, 0.00150475, 0.00690299, 0.00816936,\n",
       "        0.00177514, 0.00488611, 0.00546206, 0.00266122, 0.00157476,\n",
       "        0.00625078, 0.0034827 , 0.00463951, 0.00587818, 0.00897926,\n",
       "        0.01127328, 0.01386375, 0.00789162, 0.00102208, 0.02925017,\n",
       "        0.00154878, 0.00349544, 0.00727498, 0.00300123, 0.00765269,\n",
       "        0.02018419, 0.00252007, 0.00804628, 0.00606072, 0.00738377,\n",
       "        0.00739818, 0.00360104]),\n",
       " 'param_max_depth': masked_array(data=[1, 1, 1, 2, 2, 2, 3, 3, 3, 4, 4, 4, 5, 5, 5, 6, 6, 6,\n",
       "                    7, 7, 7, 8, 8, 8, 9, 9, 9, 10, 10, 10, 11, 11, 11, 12,\n",
       "                    12, 12, 13, 13, 13, 14, 14, 14, 15, 15, 15, 16, 16, 16,\n",
       "                    17, 17, 17, 18, 18, 18, 19, 19, 19],\n",
       "              mask=[False, False, False, False, False, False, False, False,\n",
       "                    False, False, False, False, False, False, False, False,\n",
       "                    False, False, False, False, False, False, False, False,\n",
       "                    False, False, False, False, False, False, False, False,\n",
       "                    False, False, False, False, False, False, False, False,\n",
       "                    False, False, False, False, False, False, False, False,\n",
       "                    False, False, False, False, False, False, False, False,\n",
       "                    False],\n",
       "        fill_value='?',\n",
       "             dtype=object),\n",
       " 'param_n_estimators': masked_array(data=[10, 20, 30, 10, 20, 30, 10, 20, 30, 10, 20, 30, 10, 20,\n",
       "                    30, 10, 20, 30, 10, 20, 30, 10, 20, 30, 10, 20, 30, 10,\n",
       "                    20, 30, 10, 20, 30, 10, 20, 30, 10, 20, 30, 10, 20, 30,\n",
       "                    10, 20, 30, 10, 20, 30, 10, 20, 30, 10, 20, 30, 10, 20,\n",
       "                    30],\n",
       "              mask=[False, False, False, False, False, False, False, False,\n",
       "                    False, False, False, False, False, False, False, False,\n",
       "                    False, False, False, False, False, False, False, False,\n",
       "                    False, False, False, False, False, False, False, False,\n",
       "                    False, False, False, False, False, False, False, False,\n",
       "                    False, False, False, False, False, False, False, False,\n",
       "                    False, False, False, False, False, False, False, False,\n",
       "                    False],\n",
       "        fill_value='?',\n",
       "             dtype=object),\n",
       " 'params': [{'max_depth': 1, 'n_estimators': 10},\n",
       "  {'max_depth': 1, 'n_estimators': 20},\n",
       "  {'max_depth': 1, 'n_estimators': 30},\n",
       "  {'max_depth': 2, 'n_estimators': 10},\n",
       "  {'max_depth': 2, 'n_estimators': 20},\n",
       "  {'max_depth': 2, 'n_estimators': 30},\n",
       "  {'max_depth': 3, 'n_estimators': 10},\n",
       "  {'max_depth': 3, 'n_estimators': 20},\n",
       "  {'max_depth': 3, 'n_estimators': 30},\n",
       "  {'max_depth': 4, 'n_estimators': 10},\n",
       "  {'max_depth': 4, 'n_estimators': 20},\n",
       "  {'max_depth': 4, 'n_estimators': 30},\n",
       "  {'max_depth': 5, 'n_estimators': 10},\n",
       "  {'max_depth': 5, 'n_estimators': 20},\n",
       "  {'max_depth': 5, 'n_estimators': 30},\n",
       "  {'max_depth': 6, 'n_estimators': 10},\n",
       "  {'max_depth': 6, 'n_estimators': 20},\n",
       "  {'max_depth': 6, 'n_estimators': 30},\n",
       "  {'max_depth': 7, 'n_estimators': 10},\n",
       "  {'max_depth': 7, 'n_estimators': 20},\n",
       "  {'max_depth': 7, 'n_estimators': 30},\n",
       "  {'max_depth': 8, 'n_estimators': 10},\n",
       "  {'max_depth': 8, 'n_estimators': 20},\n",
       "  {'max_depth': 8, 'n_estimators': 30},\n",
       "  {'max_depth': 9, 'n_estimators': 10},\n",
       "  {'max_depth': 9, 'n_estimators': 20},\n",
       "  {'max_depth': 9, 'n_estimators': 30},\n",
       "  {'max_depth': 10, 'n_estimators': 10},\n",
       "  {'max_depth': 10, 'n_estimators': 20},\n",
       "  {'max_depth': 10, 'n_estimators': 30},\n",
       "  {'max_depth': 11, 'n_estimators': 10},\n",
       "  {'max_depth': 11, 'n_estimators': 20},\n",
       "  {'max_depth': 11, 'n_estimators': 30},\n",
       "  {'max_depth': 12, 'n_estimators': 10},\n",
       "  {'max_depth': 12, 'n_estimators': 20},\n",
       "  {'max_depth': 12, 'n_estimators': 30},\n",
       "  {'max_depth': 13, 'n_estimators': 10},\n",
       "  {'max_depth': 13, 'n_estimators': 20},\n",
       "  {'max_depth': 13, 'n_estimators': 30},\n",
       "  {'max_depth': 14, 'n_estimators': 10},\n",
       "  {'max_depth': 14, 'n_estimators': 20},\n",
       "  {'max_depth': 14, 'n_estimators': 30},\n",
       "  {'max_depth': 15, 'n_estimators': 10},\n",
       "  {'max_depth': 15, 'n_estimators': 20},\n",
       "  {'max_depth': 15, 'n_estimators': 30},\n",
       "  {'max_depth': 16, 'n_estimators': 10},\n",
       "  {'max_depth': 16, 'n_estimators': 20},\n",
       "  {'max_depth': 16, 'n_estimators': 30},\n",
       "  {'max_depth': 17, 'n_estimators': 10},\n",
       "  {'max_depth': 17, 'n_estimators': 20},\n",
       "  {'max_depth': 17, 'n_estimators': 30},\n",
       "  {'max_depth': 18, 'n_estimators': 10},\n",
       "  {'max_depth': 18, 'n_estimators': 20},\n",
       "  {'max_depth': 18, 'n_estimators': 30},\n",
       "  {'max_depth': 19, 'n_estimators': 10},\n",
       "  {'max_depth': 19, 'n_estimators': 20},\n",
       "  {'max_depth': 19, 'n_estimators': 30}],\n",
       " 'split0_test_score': array([-3749.83605879, -3749.85829483, -3749.87874893, -3278.67398489,\n",
       "        -3278.4721314 , -3271.75171207, -2979.22076737, -2984.18821869,\n",
       "        -2986.09715452, -2684.56066425, -2679.02725289, -2682.54909909,\n",
       "        -2500.03600739, -2497.66911113, -2494.84570663, -2376.98392028,\n",
       "        -2374.7003854 , -2372.84682228, -2287.81555441, -2287.04351433,\n",
       "        -2284.22851391, -2229.99802322, -2229.64231665, -2226.6960857 ,\n",
       "        -2186.60596847, -2181.6455211 , -2181.83343566, -2152.66640812,\n",
       "        -2146.83457103, -2143.89836613, -2125.30207843, -2121.96563806,\n",
       "        -2121.24858277, -2113.64306403, -2101.01690604, -2100.09252707,\n",
       "        -2099.30413576, -2089.72440799, -2086.45381046, -2090.21066895,\n",
       "        -2088.87712712, -2081.66280028, -2097.08945758, -2086.04210066,\n",
       "        -2085.01995901, -2099.84808702, -2086.27216183, -2084.4262575 ,\n",
       "        -2108.44487505, -2097.58451024, -2089.05787432, -2111.1175365 ,\n",
       "        -2096.8006643 , -2097.07355928, -2121.38887476, -2099.05215526,\n",
       "        -2098.0120779 ]),\n",
       " 'split1_test_score': array([-3763.80453592, -3763.79268449, -3757.57172984, -3289.60942751,\n",
       "        -3288.31940522, -3289.58455747, -2941.62313307, -2977.18870257,\n",
       "        -2974.03972939, -2678.32237792, -2672.29391675, -2676.40168642,\n",
       "        -2514.3446786 , -2505.70844538, -2506.51075929, -2379.47841528,\n",
       "        -2377.56408566, -2383.59262074, -2298.15136327, -2295.70856466,\n",
       "        -2294.54568234, -2242.38966665, -2234.68720741, -2231.93159153,\n",
       "        -2192.96741806, -2186.81823443, -2185.84767857, -2155.8208883 ,\n",
       "        -2149.53410415, -2149.16353959, -2126.15068856, -2121.55615258,\n",
       "        -2122.85074933, -2109.87404244, -2105.52469774, -2103.0230039 ,\n",
       "        -2101.27254022, -2095.24584722, -2093.82921026, -2104.49156067,\n",
       "        -2095.14045005, -2089.49382165, -2113.73309424, -2096.3516699 ,\n",
       "        -2090.04593093, -2113.05694149, -2101.69940645, -2094.51465533,\n",
       "        -2120.75486271, -2105.14433991, -2104.72801252, -2122.95457051,\n",
       "        -2112.00551334, -2106.66669918, -2138.75311951, -2117.61277068,\n",
       "        -2110.11020003]),\n",
       " 'split2_test_score': array([-3792.80240641, -3792.81114112, -3792.78254176, -3319.44874777,\n",
       "        -3317.61304358, -3318.79848024, -3009.59310027, -3012.98672004,\n",
       "        -3015.96668893, -2727.0602868 , -2718.00407024, -2717.98059486,\n",
       "        -2531.483872  , -2531.77541421, -2529.59204692, -2420.52993824,\n",
       "        -2412.21615581, -2413.44547255, -2326.90397758, -2319.93705546,\n",
       "        -2320.85747523, -2269.73974171, -2267.5762106 , -2266.01755436,\n",
       "        -2227.80835767, -2226.63318941, -2222.16790424, -2193.95771423,\n",
       "        -2186.50147893, -2185.51965824, -2168.28701277, -2163.51430525,\n",
       "        -2163.07766891, -2150.56787231, -2147.12825806, -2145.85140682,\n",
       "        -2147.99705339, -2141.01129672, -2138.92948429, -2151.86446442,\n",
       "        -2136.85272294, -2136.98417174, -2152.43410864, -2141.06613524,\n",
       "        -2140.31344983, -2162.76106136, -2147.26854577, -2143.35415297,\n",
       "        -2167.53255502, -2149.25412568, -2146.62634897, -2174.67766536,\n",
       "        -2161.15360418, -2157.32669846, -2183.27065169, -2167.4797573 ,\n",
       "        -2162.42272016]),\n",
       " 'split3_test_score': array([-3788.05435972, -3788.07733304, -3781.80589768, -3307.69055544,\n",
       "        -3307.6495644 , -3308.02381852, -3015.99727644, -3016.04238785,\n",
       "        -3007.15555703, -2730.56632489, -2729.92148423, -2717.74526142,\n",
       "        -2549.0772329 , -2538.60789734, -2543.46330245, -2423.42880992,\n",
       "        -2424.89717085, -2421.78042009, -2336.10893305, -2332.19368179,\n",
       "        -2334.52033432, -2280.64501244, -2276.02850869, -2276.11340333,\n",
       "        -2233.59118187, -2229.14278453, -2229.98196796, -2205.40539597,\n",
       "        -2198.19627961, -2195.24070664, -2176.98074754, -2172.02215929,\n",
       "        -2171.00623538, -2157.29452687, -2152.12074019, -2148.7776078 ,\n",
       "        -2151.4274726 , -2142.24837272, -2142.08220338, -2148.05526557,\n",
       "        -2134.66523216, -2134.60828293, -2149.88913503, -2135.13291373,\n",
       "        -2133.2338519 , -2152.50833451, -2142.23815455, -2138.83215554,\n",
       "        -2159.09063737, -2150.32954968, -2146.66203416, -2172.15920679,\n",
       "        -2157.34559541, -2150.60872556, -2180.77898826, -2164.39254645,\n",
       "        -2158.48642578]),\n",
       " 'split4_test_score': array([-3796.3621539 , -3796.35187895, -3796.36126912, -3310.65711877,\n",
       "        -3308.97385496, -3310.33766187, -3019.8065874 , -3009.89968931,\n",
       "        -2999.78018736, -2718.75026727, -2720.72824176, -2720.43161536,\n",
       "        -2513.96087678, -2517.30722056, -2516.20887891, -2392.25583669,\n",
       "        -2400.09957794, -2401.76162437, -2314.25145076, -2311.56721759,\n",
       "        -2312.11809679, -2257.47188003, -2259.02712236, -2257.75641234,\n",
       "        -2212.65069252, -2209.8385685 , -2210.26496738, -2177.39702266,\n",
       "        -2177.37436208, -2172.53765424, -2157.2063161 , -2152.20294396,\n",
       "        -2148.30173752, -2133.81819774, -2131.64098462, -2128.57920292,\n",
       "        -2130.22751253, -2115.76309943, -2113.43514434, -2122.56894559,\n",
       "        -2112.27744614, -2107.16002211, -2123.74083412, -2118.40932046,\n",
       "        -2109.22163031, -2125.92099028, -2120.28417556, -2115.93761379,\n",
       "        -2138.4609466 , -2124.48083175, -2121.15599881, -2143.81478035,\n",
       "        -2133.60333568, -2124.39970412, -2150.63375424, -2142.30759901,\n",
       "        -2135.36540928]),\n",
       " 'mean_test_score': array([-3778.17190295, -3778.17826648, -3775.68003747, -3301.21596688,\n",
       "        -3300.20559991, -3299.69924603, -2993.24817291, -3000.06114369,\n",
       "        -2996.60786345, -2707.85198423, -2703.99499317, -2703.02165143,\n",
       "        -2521.78053353, -2518.21361772, -2518.12413884, -2398.53538408,\n",
       "        -2397.89547513, -2398.685392  , -2312.64625581, -2309.29000677,\n",
       "        -2309.25402052, -2256.04886481, -2253.39227314, -2251.70300945,\n",
       "        -2210.72472372, -2206.81565959, -2206.01919076, -2177.04948586,\n",
       "        -2171.68815916, -2169.27198497, -2150.78536868, -2146.25223983,\n",
       "        -2145.29699478, -2133.03954068, -2127.48631733, -2125.2647497 ,\n",
       "        -2126.0457429 , -2116.79860482, -2114.94597054, -2123.43818104,\n",
       "        -2113.56259568, -2109.98181974, -2127.37732592, -2115.400428  ,\n",
       "        -2111.5669644 , -2130.81908293, -2119.55248883, -2115.41296703,\n",
       "        -2138.85677535, -2125.35867145, -2121.64605376, -2144.9447519 ,\n",
       "        -2132.18174258, -2127.21507732, -2154.96507769, -2138.16896574,\n",
       "        -2132.87936663]),\n",
       " 'std_test_score': array([18.17658446, 18.17337884, 18.71551471, 14.87509767, 14.48405521,\n",
       "        16.91524002, 29.50234088, 16.08953685, 14.93905807, 21.99161644,\n",
       "        23.56601404, 19.34636638, 16.90282794, 15.35660514, 17.05291963,\n",
       "        19.85199954, 19.44432627, 18.19959854, 17.79338161, 16.26336779,\n",
       "        18.0213257 , 18.21897693, 18.21688604, 19.25446657, 18.52280255,\n",
       "        19.66624448, 19.20865904, 20.66520961, 20.31231544, 19.98597556,\n",
       "        21.40093237, 20.96289237, 20.33866249, 19.02112871, 20.94213148,\n",
       "        20.57176024, 22.23692674, 22.05697577, 22.67856879, 23.99104829,\n",
       "        19.68832502, 22.65072703, 21.21965131, 21.36314361, 22.22257144,\n",
       "        23.61948851, 23.27946444, 23.35105614, 22.29093589, 21.79601489,\n",
       "        22.79589496, 25.50999064, 25.03401729, 23.63322147, 23.98546582,\n",
       "        26.52021489, 25.56902186]),\n",
       " 'rank_test_score': array([56, 57, 55, 54, 53, 52, 49, 51, 50, 48, 47, 46, 45, 44, 43, 41, 40,\n",
       "        42, 39, 38, 37, 36, 35, 34, 33, 32, 31, 30, 29, 28, 26, 25, 24, 20,\n",
       "        16, 11, 13,  7,  4, 10,  3,  1, 15,  5,  2, 17,  8,  6, 22, 12,  9,\n",
       "        23, 18, 14, 27, 21, 19], dtype=int32)}"
      ]
     },
     "execution_count": 42,
     "metadata": {},
     "output_type": "execute_result"
    }
   ],
   "source": [
    "grid.cv_results_"
   ]
  },
  {
   "cell_type": "markdown",
   "metadata": {},
   "source": [
    "## Анализ моделей"
   ]
  },
  {
   "cell_type": "code",
   "execution_count": 52,
   "metadata": {},
   "outputs": [
    {
     "data": {
      "text/html": [
       "<div>\n",
       "<style scoped>\n",
       "    .dataframe tbody tr th:only-of-type {\n",
       "        vertical-align: middle;\n",
       "    }\n",
       "\n",
       "    .dataframe tbody tr th {\n",
       "        vertical-align: top;\n",
       "    }\n",
       "\n",
       "    .dataframe thead th {\n",
       "        text-align: right;\n",
       "    }\n",
       "</style>\n",
       "<table border=\"1\" class=\"dataframe\">\n",
       "  <thead>\n",
       "    <tr style=\"text-align: right;\">\n",
       "      <th></th>\n",
       "      <th>model</th>\n",
       "      <th>mean_fit_time</th>\n",
       "      <th>mean_score_time</th>\n",
       "    </tr>\n",
       "  </thead>\n",
       "  <tbody>\n",
       "    <tr>\n",
       "      <th>0</th>\n",
       "      <td>LinearRegression</td>\n",
       "      <td>0.129230</td>\n",
       "      <td>0.019381</td>\n",
       "    </tr>\n",
       "    <tr>\n",
       "      <th>1</th>\n",
       "      <td>DecisionTreeRegressor</td>\n",
       "      <td>0.225633</td>\n",
       "      <td>0.009140</td>\n",
       "    </tr>\n",
       "    <tr>\n",
       "      <th>2</th>\n",
       "      <td>RandomForestRegressor</td>\n",
       "      <td>3.009738</td>\n",
       "      <td>0.116746</td>\n",
       "    </tr>\n",
       "  </tbody>\n",
       "</table>\n",
       "</div>"
      ],
      "text/plain": [
       "                   model  mean_fit_time  mean_score_time\n",
       "0       LinearRegression       0.129230         0.019381\n",
       "1  DecisionTreeRegressor       0.225633         0.009140\n",
       "2  RandomForestRegressor       3.009738         0.116746"
      ]
     },
     "execution_count": 52,
     "metadata": {},
     "output_type": "execute_result"
    }
   ],
   "source": [
    "pd.DataFrame({'model': ['LinearRegression', 'DecisionTreeRegressor', 'RandomForestRegressor'],\n",
    "              'mean_fit_time': [0.12922978, 0.22563293, 3.00973794],\n",
    "             'mean_score_time':[0.01938109, 0.00913951, 0.11674635]})"
   ]
  },
  {
   "cell_type": "markdown",
   "metadata": {},
   "source": [
    "## Тестирование лучшей модели"
   ]
  },
  {
   "cell_type": "code",
   "execution_count": 48,
   "metadata": {},
   "outputs": [
    {
     "data": {
      "text/plain": [
       "2102.754573687746"
      ]
     },
     "execution_count": 48,
     "metadata": {},
     "output_type": "execute_result"
    }
   ],
   "source": [
    "model = RandomForestRegressor(n_estimators=grid.best_params_['n_estimators'],\n",
    "                              max_depth=grid.best_params_['max_depth'], random_state=12345)\n",
    "model.fit(features_train, target_train)\n",
    "predictions = model.predict(features_test)\n",
    "rmse(target_test, predictions)"
   ]
  },
  {
   "cell_type": "code",
   "execution_count": 49,
   "metadata": {
    "scrolled": true
   },
   "outputs": [
    {
     "name": "stdout",
     "output_type": "stream",
     "text": [
      "[LightGBM] [Warning] Auto-choosing col-wise multi-threading, the overhead of testing was 0.896294 seconds.\n",
      "You can set `force_col_wise=true` to remove the overhead.\n",
      "[LightGBM] [Info] Total Bins 361\n",
      "[LightGBM] [Info] Number of data points in the train set: 250824, number of used features: 5\n",
      "[LightGBM] [Info] Start training from score 4543.647354\n",
      "[1]\tvalid_0's l2: 1.79923e+07\n",
      "[2]\tvalid_0's l2: 1.57381e+07\n",
      "[3]\tvalid_0's l2: 1.39044e+07\n",
      "[4]\tvalid_0's l2: 1.23826e+07\n",
      "[5]\tvalid_0's l2: 1.11629e+07\n",
      "[6]\tvalid_0's l2: 1.01354e+07\n",
      "[7]\tvalid_0's l2: 9.30042e+06\n",
      "[8]\tvalid_0's l2: 8.61248e+06\n",
      "[9]\tvalid_0's l2: 8.0356e+06\n",
      "[10]\tvalid_0's l2: 7.56435e+06\n",
      "[11]\tvalid_0's l2: 7.17456e+06\n",
      "[12]\tvalid_0's l2: 6.8338e+06\n",
      "[13]\tvalid_0's l2: 6.54998e+06\n",
      "[14]\tvalid_0's l2: 6.31497e+06\n",
      "[15]\tvalid_0's l2: 6.11167e+06\n",
      "[16]\tvalid_0's l2: 5.94226e+06\n",
      "[17]\tvalid_0's l2: 5.79883e+06\n",
      "[18]\tvalid_0's l2: 5.67799e+06\n",
      "[19]\tvalid_0's l2: 5.56872e+06\n",
      "[20]\tvalid_0's l2: 5.47555e+06\n",
      "[21]\tvalid_0's l2: 5.39808e+06\n",
      "[22]\tvalid_0's l2: 5.33478e+06\n",
      "[23]\tvalid_0's l2: 5.27763e+06\n",
      "[24]\tvalid_0's l2: 5.22886e+06\n",
      "[25]\tvalid_0's l2: 5.18018e+06\n",
      "[26]\tvalid_0's l2: 5.13815e+06\n",
      "[27]\tvalid_0's l2: 5.10315e+06\n",
      "[28]\tvalid_0's l2: 5.06926e+06\n",
      "[29]\tvalid_0's l2: 5.03878e+06\n",
      "[30]\tvalid_0's l2: 5.01375e+06\n",
      "[31]\tvalid_0's l2: 4.9912e+06\n",
      "[32]\tvalid_0's l2: 4.97098e+06\n",
      "[33]\tvalid_0's l2: 4.95375e+06\n",
      "[34]\tvalid_0's l2: 4.93696e+06\n",
      "[35]\tvalid_0's l2: 4.92246e+06\n",
      "[36]\tvalid_0's l2: 4.91025e+06\n",
      "[37]\tvalid_0's l2: 4.89528e+06\n",
      "[38]\tvalid_0's l2: 4.88352e+06\n",
      "[39]\tvalid_0's l2: 4.87245e+06\n",
      "[40]\tvalid_0's l2: 4.86227e+06\n",
      "[41]\tvalid_0's l2: 4.84729e+06\n",
      "[42]\tvalid_0's l2: 4.83746e+06\n",
      "[43]\tvalid_0's l2: 4.82941e+06\n",
      "[44]\tvalid_0's l2: 4.82254e+06\n",
      "[45]\tvalid_0's l2: 4.81556e+06\n",
      "[46]\tvalid_0's l2: 4.80684e+06\n",
      "[47]\tvalid_0's l2: 4.79872e+06\n",
      "[48]\tvalid_0's l2: 4.79018e+06\n",
      "[49]\tvalid_0's l2: 4.78208e+06\n",
      "[50]\tvalid_0's l2: 4.7756e+06\n",
      "[51]\tvalid_0's l2: 4.7688e+06\n",
      "[52]\tvalid_0's l2: 4.76226e+06\n",
      "[53]\tvalid_0's l2: 4.75728e+06\n",
      "[54]\tvalid_0's l2: 4.7498e+06\n",
      "[55]\tvalid_0's l2: 4.74362e+06\n",
      "[56]\tvalid_0's l2: 4.73751e+06\n",
      "[57]\tvalid_0's l2: 4.73172e+06\n",
      "[58]\tvalid_0's l2: 4.72698e+06\n",
      "[59]\tvalid_0's l2: 4.72382e+06\n",
      "[60]\tvalid_0's l2: 4.71477e+06\n",
      "[61]\tvalid_0's l2: 4.71039e+06\n",
      "[62]\tvalid_0's l2: 4.70742e+06\n",
      "[63]\tvalid_0's l2: 4.70189e+06\n",
      "[64]\tvalid_0's l2: 4.69591e+06\n",
      "[65]\tvalid_0's l2: 4.69247e+06\n",
      "[66]\tvalid_0's l2: 4.68878e+06\n",
      "[67]\tvalid_0's l2: 4.67995e+06\n",
      "[68]\tvalid_0's l2: 4.67664e+06\n",
      "[69]\tvalid_0's l2: 4.67387e+06\n",
      "[70]\tvalid_0's l2: 4.67138e+06\n",
      "[71]\tvalid_0's l2: 4.66859e+06\n",
      "[72]\tvalid_0's l2: 4.66596e+06\n",
      "[73]\tvalid_0's l2: 4.66358e+06\n",
      "[74]\tvalid_0's l2: 4.66106e+06\n",
      "[75]\tvalid_0's l2: 4.65734e+06\n",
      "[76]\tvalid_0's l2: 4.6535e+06\n",
      "[77]\tvalid_0's l2: 4.65133e+06\n",
      "[78]\tvalid_0's l2: 4.65069e+06\n",
      "[79]\tvalid_0's l2: 4.64872e+06\n",
      "[80]\tvalid_0's l2: 4.64518e+06\n",
      "CPU times: user 17min 15s, sys: 3.72 s, total: 17min 19s\n",
      "Wall time: 17min 21s\n"
     ]
    }
   ],
   "source": [
    "%%time\n",
    "\n",
    "train_dataset = lgb.Dataset(features_train, target_train)\n",
    "test_dataset = lgb.Dataset(features_test, target_test)\n",
    "\n",
    "booster = lgb.train({\"objective\": \"regression\"},\n",
    "                    train_set=train_dataset, valid_sets=(test_dataset,),\n",
    "                    num_boost_round=80)\n",
    "# 17 min"
   ]
  },
  {
   "cell_type": "code",
   "execution_count": 50,
   "metadata": {},
   "outputs": [
    {
     "data": {
      "text/plain": [
       "2155.267624887491"
      ]
     },
     "execution_count": 50,
     "metadata": {},
     "output_type": "execute_result"
    }
   ],
   "source": [
    "predictions = booster.predict(features_test)\n",
    "rmse = mean_squared_error(target_test, predictions) ** 0.5\n",
    "rmse"
   ]
  },
  {
   "cell_type": "markdown",
   "metadata": {},
   "source": [
    "***Выводы:***\n",
    "\n",
    "Модель леса дает наилучшую метрику: 2102.75.\n",
    "\n",
    "LightGBM дает наилучший результат: 2155.26, но и времени для него требуется намного больше.\n",
    "\n",
    "Поэтому модель леса лучше всего справляется с данной задачей."
   ]
  }
 ],
 "metadata": {
  "ExecuteTimeLog": [
   {
    "duration": 358,
    "start_time": "2023-06-09T07:50:29.807Z"
   },
   {
    "duration": 2792,
    "start_time": "2023-06-09T07:50:44.550Z"
   },
   {
    "duration": 20,
    "start_time": "2023-06-09T07:50:56.971Z"
   },
   {
    "duration": 106,
    "start_time": "2023-06-09T07:54:52.963Z"
   },
   {
    "duration": 4,
    "start_time": "2023-06-09T07:55:06.295Z"
   },
   {
    "duration": 24,
    "start_time": "2023-06-09T08:02:05.183Z"
   },
   {
    "duration": 21,
    "start_time": "2023-06-09T08:04:15.916Z"
   },
   {
    "duration": 20,
    "start_time": "2023-06-09T08:04:49.687Z"
   },
   {
    "duration": 21,
    "start_time": "2023-06-09T08:05:17.572Z"
   },
   {
    "duration": 24,
    "start_time": "2023-06-09T08:06:18.481Z"
   },
   {
    "duration": 20,
    "start_time": "2023-06-09T08:06:27.368Z"
   },
   {
    "duration": 20,
    "start_time": "2023-06-09T08:06:45.402Z"
   },
   {
    "duration": 19,
    "start_time": "2023-06-09T08:06:55.975Z"
   },
   {
    "duration": 66,
    "start_time": "2023-06-09T08:10:03.160Z"
   },
   {
    "duration": 56,
    "start_time": "2023-06-09T08:10:11.820Z"
   },
   {
    "duration": 66,
    "start_time": "2023-06-09T08:10:21.572Z"
   },
   {
    "duration": 71,
    "start_time": "2023-06-09T08:11:53.001Z"
   },
   {
    "duration": 84,
    "start_time": "2023-06-09T08:12:00.321Z"
   },
   {
    "duration": 18,
    "start_time": "2023-06-09T08:13:21.687Z"
   },
   {
    "duration": 109,
    "start_time": "2023-06-09T08:14:00.655Z"
   },
   {
    "duration": 99,
    "start_time": "2023-06-09T08:14:08.288Z"
   },
   {
    "duration": 32,
    "start_time": "2023-06-09T08:14:35.992Z"
   },
   {
    "duration": 30,
    "start_time": "2023-06-09T08:15:09.976Z"
   },
   {
    "duration": 85,
    "start_time": "2023-06-09T08:15:27.462Z"
   },
   {
    "duration": 4,
    "start_time": "2023-06-09T08:15:48.475Z"
   },
   {
    "duration": 4,
    "start_time": "2023-06-09T08:16:25.809Z"
   },
   {
    "duration": 4,
    "start_time": "2023-06-09T08:16:38.048Z"
   },
   {
    "duration": 883,
    "start_time": "2023-06-09T08:28:32.422Z"
   },
   {
    "duration": 79,
    "start_time": "2023-06-09T08:28:49.275Z"
   },
   {
    "duration": 66,
    "start_time": "2023-06-09T08:30:52.015Z"
   },
   {
    "duration": 66,
    "start_time": "2023-06-09T08:30:54.181Z"
   },
   {
    "duration": 40,
    "start_time": "2023-06-09T08:30:58.971Z"
   },
   {
    "duration": 6,
    "start_time": "2023-06-09T08:31:05.569Z"
   },
   {
    "duration": 154,
    "start_time": "2023-06-09T08:33:08.403Z"
   },
   {
    "duration": 57,
    "start_time": "2023-06-09T08:33:25.073Z"
   },
   {
    "duration": 120,
    "start_time": "2023-06-09T08:33:31.776Z"
   },
   {
    "duration": 4,
    "start_time": "2023-06-09T08:33:37.821Z"
   },
   {
    "duration": 7,
    "start_time": "2023-06-09T08:33:42.665Z"
   },
   {
    "duration": 193,
    "start_time": "2023-06-09T08:36:33.885Z"
   },
   {
    "duration": 85,
    "start_time": "2023-06-09T08:36:34.899Z"
   },
   {
    "duration": 809,
    "start_time": "2023-06-09T08:36:52.187Z"
   },
   {
    "duration": 13,
    "start_time": "2023-06-09T08:36:52.998Z"
   },
   {
    "duration": 122,
    "start_time": "2023-06-09T08:36:53.166Z"
   },
   {
    "duration": 4,
    "start_time": "2023-06-09T08:36:54.086Z"
   },
   {
    "duration": 198,
    "start_time": "2023-06-09T08:36:54.767Z"
   },
   {
    "duration": 6,
    "start_time": "2023-06-09T08:37:12.127Z"
   },
   {
    "duration": 31,
    "start_time": "2023-06-09T08:37:15.199Z"
   },
   {
    "duration": 68,
    "start_time": "2023-06-09T08:37:19.479Z"
   },
   {
    "duration": 76,
    "start_time": "2023-06-09T08:39:36.460Z"
   },
   {
    "duration": 202,
    "start_time": "2023-06-09T08:39:46.127Z"
   },
   {
    "duration": 26,
    "start_time": "2023-06-09T08:40:51.800Z"
   },
   {
    "duration": 28,
    "start_time": "2023-06-09T08:40:52.868Z"
   },
   {
    "duration": 30,
    "start_time": "2023-06-09T08:40:53.314Z"
   },
   {
    "duration": 53,
    "start_time": "2023-06-09T08:40:53.716Z"
   },
   {
    "duration": 17,
    "start_time": "2023-06-09T08:40:54.188Z"
   },
   {
    "duration": 116,
    "start_time": "2023-06-09T08:40:55.888Z"
   },
   {
    "duration": 74,
    "start_time": "2023-06-09T08:41:12.751Z"
   },
   {
    "duration": 492,
    "start_time": "2023-06-10T09:45:47.284Z"
   },
   {
    "duration": 1559,
    "start_time": "2023-06-10T09:45:47.779Z"
   },
   {
    "duration": 36,
    "start_time": "2023-06-10T09:45:49.341Z"
   },
   {
    "duration": 206,
    "start_time": "2023-06-10T09:45:49.379Z"
   },
   {
    "duration": 159,
    "start_time": "2023-06-10T09:45:55.948Z"
   },
   {
    "duration": 11,
    "start_time": "2023-06-10T09:45:56.948Z"
   },
   {
    "duration": 36,
    "start_time": "2023-06-10T09:46:03.840Z"
   },
   {
    "duration": 66,
    "start_time": "2023-06-10T09:46:18.497Z"
   },
   {
    "duration": 223,
    "start_time": "2023-06-10T09:46:30.309Z"
   },
   {
    "duration": 77,
    "start_time": "2023-06-10T09:46:33.785Z"
   },
   {
    "duration": 164,
    "start_time": "2023-06-10T09:46:34.420Z"
   },
   {
    "duration": 87,
    "start_time": "2023-06-10T09:46:45.802Z"
   },
   {
    "duration": 23,
    "start_time": "2023-06-10T09:53:56.219Z"
   },
   {
    "duration": 759,
    "start_time": "2023-06-10T09:55:23.466Z"
   },
   {
    "duration": 87,
    "start_time": "2023-06-10T09:55:30.073Z"
   },
   {
    "duration": 59,
    "start_time": "2023-06-10T09:57:46.362Z"
   },
   {
    "duration": 97,
    "start_time": "2023-06-10T09:58:10.665Z"
   },
   {
    "duration": 4,
    "start_time": "2023-06-10T09:58:14.139Z"
   },
   {
    "duration": 118,
    "start_time": "2023-06-10T10:00:53.540Z"
   },
   {
    "duration": 12,
    "start_time": "2023-06-10T10:00:56.603Z"
   },
   {
    "duration": 1085,
    "start_time": "2023-06-22T12:07:52.137Z"
   },
   {
    "duration": 948,
    "start_time": "2023-06-22T12:07:53.224Z"
   },
   {
    "duration": 18,
    "start_time": "2023-06-22T12:07:54.174Z"
   },
   {
    "duration": 96,
    "start_time": "2023-06-22T12:07:55.729Z"
   },
   {
    "duration": 4,
    "start_time": "2023-06-22T12:07:56.249Z"
   },
   {
    "duration": 168,
    "start_time": "2023-06-22T12:07:58.445Z"
   },
   {
    "duration": 47,
    "start_time": "2023-06-22T12:07:58.834Z"
   },
   {
    "duration": 56,
    "start_time": "2023-06-22T12:07:59.217Z"
   },
   {
    "duration": 99,
    "start_time": "2023-06-22T12:07:59.629Z"
   },
   {
    "duration": 4,
    "start_time": "2023-06-22T12:08:00.487Z"
   },
   {
    "duration": 4,
    "start_time": "2023-06-22T12:08:01.371Z"
   },
   {
    "duration": 73,
    "start_time": "2023-06-22T12:08:03.937Z"
   },
   {
    "duration": 20,
    "start_time": "2023-06-22T12:08:06.629Z"
   },
   {
    "duration": 60,
    "start_time": "2023-06-22T12:08:11.146Z"
   },
   {
    "duration": 97,
    "start_time": "2023-06-22T12:08:11.552Z"
   },
   {
    "duration": 69,
    "start_time": "2023-06-22T12:08:39.234Z"
   },
   {
    "duration": 10,
    "start_time": "2023-06-22T12:10:36.425Z"
   },
   {
    "duration": 11,
    "start_time": "2023-06-22T12:11:08.132Z"
   },
   {
    "duration": 54,
    "start_time": "2023-06-22T12:11:12.746Z"
   },
   {
    "duration": 20,
    "start_time": "2023-06-22T12:11:58.125Z"
   },
   {
    "duration": 44,
    "start_time": "2023-06-22T12:12:01.445Z"
   },
   {
    "duration": 57,
    "start_time": "2023-06-22T12:12:02.293Z"
   },
   {
    "duration": 2,
    "start_time": "2023-06-22T12:15:43.432Z"
   },
   {
    "duration": 7,
    "start_time": "2023-06-22T12:17:01.130Z"
   },
   {
    "duration": 8,
    "start_time": "2023-06-22T12:17:12.377Z"
   },
   {
    "duration": 45,
    "start_time": "2023-06-22T12:17:22.936Z"
   },
   {
    "duration": 17,
    "start_time": "2023-06-22T12:18:10.063Z"
   },
   {
    "duration": 38,
    "start_time": "2023-06-22T12:18:12.022Z"
   },
   {
    "duration": 56,
    "start_time": "2023-06-22T12:18:12.518Z"
   },
   {
    "duration": 128,
    "start_time": "2023-06-22T12:19:23.182Z"
   },
   {
    "duration": 147,
    "start_time": "2023-06-22T12:19:44.805Z"
   },
   {
    "duration": 135,
    "start_time": "2023-06-22T12:19:45.144Z"
   },
   {
    "duration": 3,
    "start_time": "2023-06-22T12:19:50.852Z"
   },
   {
    "duration": 653,
    "start_time": "2023-06-22T12:19:51.228Z"
   },
   {
    "duration": 16,
    "start_time": "2023-06-22T12:19:51.883Z"
   },
   {
    "duration": 106,
    "start_time": "2023-06-22T12:19:51.983Z"
   },
   {
    "duration": 4,
    "start_time": "2023-06-22T12:19:54.080Z"
   },
   {
    "duration": 191,
    "start_time": "2023-06-22T12:19:54.574Z"
   },
   {
    "duration": 154,
    "start_time": "2023-06-22T12:19:55.160Z"
   },
   {
    "duration": 51,
    "start_time": "2023-06-22T12:19:55.824Z"
   },
   {
    "duration": 54,
    "start_time": "2023-06-22T12:19:56.526Z"
   },
   {
    "duration": 102,
    "start_time": "2023-06-22T12:19:57.064Z"
   },
   {
    "duration": 12,
    "start_time": "2023-06-22T12:20:45.760Z"
   },
   {
    "duration": 652,
    "start_time": "2023-06-22T12:21:21.683Z"
   },
   {
    "duration": 177,
    "start_time": "2023-06-22T12:21:26.332Z"
   },
   {
    "duration": 12,
    "start_time": "2023-06-22T12:21:31.418Z"
   },
   {
    "duration": 29,
    "start_time": "2023-06-22T12:23:25.952Z"
   },
   {
    "duration": 640,
    "start_time": "2023-06-22T12:23:30.744Z"
   },
   {
    "duration": 11,
    "start_time": "2023-06-22T12:23:31.463Z"
   },
   {
    "duration": 110,
    "start_time": "2023-06-22T12:23:31.522Z"
   },
   {
    "duration": 3,
    "start_time": "2023-06-22T12:23:31.931Z"
   },
   {
    "duration": 183,
    "start_time": "2023-06-22T12:23:32.626Z"
   },
   {
    "duration": 653,
    "start_time": "2023-06-22T12:23:36.629Z"
   },
   {
    "duration": 26,
    "start_time": "2023-06-22T12:23:39.732Z"
   },
   {
    "duration": 8377,
    "start_time": "2023-06-22T12:24:12.585Z"
   },
   {
    "duration": 12,
    "start_time": "2023-06-22T12:24:27.226Z"
   },
   {
    "duration": 45,
    "start_time": "2023-06-22T13:25:30.642Z"
   },
   {
    "duration": 692,
    "start_time": "2023-06-22T13:25:30.688Z"
   },
   {
    "duration": 10,
    "start_time": "2023-06-22T13:25:31.382Z"
   },
   {
    "duration": 3,
    "start_time": "2023-06-22T14:08:32.661Z"
   },
   {
    "duration": 750,
    "start_time": "2023-06-22T14:08:33.247Z"
   },
   {
    "duration": 33,
    "start_time": "2023-06-22T14:08:33.998Z"
   },
   {
    "duration": 114,
    "start_time": "2023-06-22T14:08:34.122Z"
   },
   {
    "duration": 3,
    "start_time": "2023-06-22T14:08:34.980Z"
   },
   {
    "duration": 204,
    "start_time": "2023-06-22T14:08:35.625Z"
   },
   {
    "duration": 666,
    "start_time": "2023-06-22T14:08:40.332Z"
   },
   {
    "duration": 717676,
    "start_time": "2023-06-22T14:08:45.565Z"
   },
   {
    "duration": 206,
    "start_time": "2023-06-22T14:20:51.178Z"
   },
   {
    "duration": 13,
    "start_time": "2023-06-22T14:20:57.156Z"
   },
   {
    "duration": 706,
    "start_time": "2023-06-22T14:21:29.123Z"
   },
   {
    "duration": 200,
    "start_time": "2023-06-22T14:22:45.534Z"
   },
   {
    "duration": 12,
    "start_time": "2023-06-22T14:22:48.967Z"
   },
   {
    "duration": 3,
    "start_time": "2023-06-22T14:23:18.852Z"
   },
   {
    "duration": 697,
    "start_time": "2023-06-22T14:23:21.335Z"
   },
   {
    "duration": 205,
    "start_time": "2023-06-22T14:23:24.270Z"
   },
   {
    "duration": 10,
    "start_time": "2023-06-22T14:23:27.269Z"
   },
   {
    "duration": 742,
    "start_time": "2023-06-22T14:24:02.235Z"
   },
   {
    "duration": 11,
    "start_time": "2023-06-22T14:24:02.979Z"
   },
   {
    "duration": 116,
    "start_time": "2023-06-22T14:24:03.127Z"
   },
   {
    "duration": 3,
    "start_time": "2023-06-22T14:24:04.929Z"
   },
   {
    "duration": 244,
    "start_time": "2023-06-22T14:24:05.869Z"
   },
   {
    "duration": 12,
    "start_time": "2023-06-22T14:24:09.325Z"
   },
   {
    "duration": 759,
    "start_time": "2023-06-22T14:25:09.367Z"
   },
   {
    "duration": 3,
    "start_time": "2023-06-22T14:25:12.032Z"
   },
   {
    "duration": 862,
    "start_time": "2023-06-22T14:25:12.689Z"
   },
   {
    "duration": 36,
    "start_time": "2023-06-22T14:25:45.455Z"
   },
   {
    "duration": 221,
    "start_time": "2023-06-22T14:28:05.926Z"
   },
   {
    "duration": 11,
    "start_time": "2023-06-22T14:28:09.231Z"
   },
   {
    "duration": 711,
    "start_time": "2023-06-22T14:28:41.228Z"
   },
   {
    "duration": 45,
    "start_time": "2023-06-22T14:28:44.850Z"
   },
   {
    "duration": 12,
    "start_time": "2023-06-22T14:28:50.370Z"
   },
   {
    "duration": 49,
    "start_time": "2023-06-22T14:29:21.427Z"
   },
   {
    "duration": 762,
    "start_time": "2023-06-22T14:29:25.976Z"
   },
   {
    "duration": 65,
    "start_time": "2023-06-22T14:29:28.879Z"
   },
   {
    "duration": 13,
    "start_time": "2023-06-22T14:29:31.622Z"
   },
   {
    "duration": 48,
    "start_time": "2023-06-22T14:30:07.822Z"
   },
   {
    "duration": 12,
    "start_time": "2023-06-22T14:30:10.855Z"
   },
   {
    "duration": 62,
    "start_time": "2023-06-22T14:30:20.368Z"
   },
   {
    "duration": 2,
    "start_time": "2023-06-22T14:30:36.860Z"
   },
   {
    "duration": 110,
    "start_time": "2023-06-22T14:30:37.469Z"
   },
   {
    "duration": 58,
    "start_time": "2023-06-22T14:30:54.416Z"
   },
   {
    "duration": 135,
    "start_time": "2023-06-22T14:30:54.822Z"
   },
   {
    "duration": 4,
    "start_time": "2023-06-22T14:30:58.767Z"
   },
   {
    "duration": 13,
    "start_time": "2023-06-22T14:30:59.440Z"
   },
   {
    "duration": 77,
    "start_time": "2023-06-22T14:31:06.656Z"
   },
   {
    "duration": 14,
    "start_time": "2023-06-22T14:36:25.725Z"
   },
   {
    "duration": 38,
    "start_time": "2023-06-22T14:36:28.734Z"
   },
   {
    "duration": 90,
    "start_time": "2023-06-22T14:36:29.361Z"
   },
   {
    "duration": 20,
    "start_time": "2023-06-22T14:37:08.023Z"
   },
   {
    "duration": 27,
    "start_time": "2023-06-22T14:50:16.027Z"
   },
   {
    "duration": 41,
    "start_time": "2023-06-22T14:53:21.642Z"
   },
   {
    "duration": 23,
    "start_time": "2023-06-22T14:53:32.542Z"
   },
   {
    "duration": 11,
    "start_time": "2023-06-22T14:54:27.930Z"
   },
   {
    "duration": 38,
    "start_time": "2023-06-22T14:54:42.937Z"
   },
   {
    "duration": 50,
    "start_time": "2023-06-22T14:54:54.726Z"
   },
   {
    "duration": 113,
    "start_time": "2023-06-22T14:55:54.223Z"
   },
   {
    "duration": 21,
    "start_time": "2023-06-22T14:55:55.969Z"
   },
   {
    "duration": 787,
    "start_time": "2023-06-22T14:56:29.965Z"
   },
   {
    "duration": 10,
    "start_time": "2023-06-22T14:56:30.754Z"
   },
   {
    "duration": 179,
    "start_time": "2023-06-22T14:56:30.766Z"
   },
   {
    "duration": 28,
    "start_time": "2023-06-22T14:56:30.946Z"
   },
   {
    "duration": 67,
    "start_time": "2023-06-22T14:56:31.249Z"
   },
   {
    "duration": 60,
    "start_time": "2023-06-22T14:56:31.557Z"
   },
   {
    "duration": 58,
    "start_time": "2023-06-22T14:56:31.864Z"
   },
   {
    "duration": 49,
    "start_time": "2023-06-22T14:56:32.133Z"
   },
   {
    "duration": 151,
    "start_time": "2023-06-22T14:56:32.353Z"
   },
   {
    "duration": 5,
    "start_time": "2023-06-22T14:56:32.676Z"
   },
   {
    "duration": 12,
    "start_time": "2023-06-22T14:56:34.481Z"
   },
   {
    "duration": 169,
    "start_time": "2023-06-22T14:58:09.729Z"
   },
   {
    "duration": 14,
    "start_time": "2023-06-22T14:58:12.965Z"
   },
   {
    "duration": 92,
    "start_time": "2023-06-22T14:58:30.881Z"
   },
   {
    "duration": 19,
    "start_time": "2023-06-22T14:58:34.639Z"
   },
   {
    "duration": 39,
    "start_time": "2023-06-22T14:58:36.531Z"
   },
   {
    "duration": 100,
    "start_time": "2023-06-22T14:58:37.043Z"
   },
   {
    "duration": 25,
    "start_time": "2023-06-22T15:05:17.519Z"
   },
   {
    "duration": 40,
    "start_time": "2023-06-22T15:05:19.235Z"
   },
   {
    "duration": 123,
    "start_time": "2023-06-22T15:05:19.567Z"
   },
   {
    "duration": 10,
    "start_time": "2023-06-22T15:05:46.748Z"
   },
   {
    "duration": 60,
    "start_time": "2023-06-22T15:05:47.833Z"
   },
   {
    "duration": 310,
    "start_time": "2023-06-22T15:05:48.322Z"
   },
   {
    "duration": 230,
    "start_time": "2023-06-22T15:06:22.201Z"
   },
   {
    "duration": 229,
    "start_time": "2023-06-22T15:06:27.480Z"
   },
   {
    "duration": 933,
    "start_time": "2023-06-22T15:06:46.042Z"
   },
   {
    "duration": 7738,
    "start_time": "2023-06-22T15:06:55.331Z"
   },
   {
    "duration": 261009,
    "start_time": "2023-06-22T15:07:37.740Z"
   },
   {
    "duration": 8639,
    "start_time": "2023-06-22T15:14:25.746Z"
   },
   {
    "duration": 831,
    "start_time": "2023-06-22T15:27:55.350Z"
   },
   {
    "duration": 1691,
    "start_time": "2023-06-23T12:54:15.682Z"
   },
   {
    "duration": 3366,
    "start_time": "2023-06-23T12:54:17.376Z"
   },
   {
    "duration": 19,
    "start_time": "2023-06-23T12:54:21.442Z"
   },
   {
    "duration": 116,
    "start_time": "2023-06-23T12:54:21.921Z"
   },
   {
    "duration": 4,
    "start_time": "2023-06-23T12:54:22.878Z"
   },
   {
    "duration": 85,
    "start_time": "2023-06-23T12:54:23.237Z"
   },
   {
    "duration": 55,
    "start_time": "2023-06-23T12:54:23.825Z"
   },
   {
    "duration": 71,
    "start_time": "2023-06-23T12:54:24.214Z"
   },
   {
    "duration": 69,
    "start_time": "2023-06-23T12:54:24.622Z"
   },
   {
    "duration": 109,
    "start_time": "2023-06-23T12:54:25.164Z"
   },
   {
    "duration": 4,
    "start_time": "2023-06-23T12:54:25.515Z"
   },
   {
    "duration": 14,
    "start_time": "2023-06-23T12:54:26.213Z"
   },
   {
    "duration": 23,
    "start_time": "2023-06-23T12:54:27.246Z"
   },
   {
    "duration": 5,
    "start_time": "2023-06-23T12:54:28.032Z"
   },
   {
    "duration": 153,
    "start_time": "2023-06-23T12:54:30.525Z"
   },
   {
    "duration": 15,
    "start_time": "2023-06-23T12:54:33.140Z"
   },
   {
    "duration": 95,
    "start_time": "2023-06-23T12:54:33.919Z"
   },
   {
    "duration": 11,
    "start_time": "2023-06-23T12:54:38.766Z"
   },
   {
    "duration": 53,
    "start_time": "2023-06-23T12:54:43.423Z"
   },
   {
    "duration": 384,
    "start_time": "2023-06-23T12:54:43.783Z"
   },
   {
    "duration": 132,
    "start_time": "2023-06-23T12:54:50.809Z"
   },
   {
    "duration": 107,
    "start_time": "2023-06-23T12:56:22.725Z"
   },
   {
    "duration": 55,
    "start_time": "2023-06-23T12:57:09.218Z"
   },
   {
    "duration": 101,
    "start_time": "2023-06-23T12:57:16.213Z"
   },
   {
    "duration": 59,
    "start_time": "2023-06-23T12:57:33.747Z"
   },
   {
    "duration": 104,
    "start_time": "2023-06-23T12:57:38.828Z"
   },
   {
    "duration": 23,
    "start_time": "2023-06-23T12:57:45.270Z"
   },
   {
    "duration": 861,
    "start_time": "2023-06-23T12:58:09.680Z"
   },
   {
    "duration": 15,
    "start_time": "2023-06-23T12:58:10.543Z"
   },
   {
    "duration": 108,
    "start_time": "2023-06-23T12:58:11.336Z"
   },
   {
    "duration": 4,
    "start_time": "2023-06-23T12:58:11.823Z"
   },
   {
    "duration": 57,
    "start_time": "2023-06-23T12:58:12.321Z"
   },
   {
    "duration": 56,
    "start_time": "2023-06-23T12:58:12.678Z"
   },
   {
    "duration": 53,
    "start_time": "2023-06-23T12:58:12.975Z"
   },
   {
    "duration": 54,
    "start_time": "2023-06-23T12:58:13.252Z"
   },
   {
    "duration": 103,
    "start_time": "2023-06-23T12:58:13.532Z"
   },
   {
    "duration": 7,
    "start_time": "2023-06-23T12:58:14.034Z"
   },
   {
    "duration": 15,
    "start_time": "2023-06-23T12:58:14.413Z"
   },
   {
    "duration": 22,
    "start_time": "2023-06-23T12:58:14.638Z"
   },
   {
    "duration": 4,
    "start_time": "2023-06-23T12:58:15.017Z"
   },
   {
    "duration": 156,
    "start_time": "2023-06-23T12:58:15.567Z"
   },
   {
    "duration": 86,
    "start_time": "2023-06-23T12:58:15.821Z"
   },
   {
    "duration": 14,
    "start_time": "2023-06-23T12:58:16.072Z"
   },
   {
    "duration": 129,
    "start_time": "2023-06-23T12:58:16.431Z"
   },
   {
    "duration": 24,
    "start_time": "2023-06-23T12:58:16.960Z"
   },
   {
    "duration": 37,
    "start_time": "2023-06-23T12:58:18.952Z"
   },
   {
    "duration": 42840,
    "start_time": "2023-06-23T12:58:25.532Z"
   },
   {
    "duration": 62,
    "start_time": "2023-06-23T13:09:00.206Z"
   },
   {
    "duration": 59,
    "start_time": "2023-06-23T13:09:16.210Z"
   },
   {
    "duration": 80409,
    "start_time": "2023-06-23T13:10:26.164Z"
   },
   {
    "duration": 1777,
    "start_time": "2023-06-24T07:41:44.526Z"
   },
   {
    "duration": 2964,
    "start_time": "2023-06-24T07:41:46.305Z"
   },
   {
    "duration": 18,
    "start_time": "2023-06-24T07:41:49.272Z"
   },
   {
    "duration": 122,
    "start_time": "2023-06-24T07:41:49.292Z"
   },
   {
    "duration": 5,
    "start_time": "2023-06-24T07:41:49.417Z"
   },
   {
    "duration": 67,
    "start_time": "2023-06-24T07:41:49.424Z"
   },
   {
    "duration": 48,
    "start_time": "2023-06-24T07:41:49.493Z"
   },
   {
    "duration": 61,
    "start_time": "2023-06-24T07:41:49.543Z"
   },
   {
    "duration": 84,
    "start_time": "2023-06-24T07:41:49.606Z"
   },
   {
    "duration": 121,
    "start_time": "2023-06-24T07:41:49.692Z"
   },
   {
    "duration": 5,
    "start_time": "2023-06-24T07:41:49.935Z"
   },
   {
    "duration": 16,
    "start_time": "2023-06-24T07:41:50.354Z"
   },
   {
    "duration": 30,
    "start_time": "2023-06-24T07:41:50.620Z"
   },
   {
    "duration": 4,
    "start_time": "2023-06-24T07:41:50.889Z"
   },
   {
    "duration": 163,
    "start_time": "2023-06-24T07:41:51.550Z"
   },
   {
    "duration": 126,
    "start_time": "2023-06-24T07:41:51.912Z"
   },
   {
    "duration": 18,
    "start_time": "2023-06-24T07:41:52.358Z"
   },
   {
    "duration": 153,
    "start_time": "2023-06-24T07:41:52.685Z"
   },
   {
    "duration": 31,
    "start_time": "2023-06-24T07:41:53.022Z"
   },
   {
    "duration": 57,
    "start_time": "2023-06-24T07:41:54.938Z"
   },
   {
    "duration": 27124,
    "start_time": "2023-06-24T07:42:00.943Z"
   },
   {
    "duration": 80,
    "start_time": "2023-06-24T07:42:33.499Z"
   },
   {
    "duration": 122,
    "start_time": "2023-06-24T08:06:50.150Z"
   },
   {
    "duration": 239770,
    "start_time": "2023-06-24T08:07:04.469Z"
   },
   {
    "duration": 5266,
    "start_time": "2023-06-24T08:11:56.454Z"
   },
   {
    "duration": 5113,
    "start_time": "2023-06-24T08:12:40.291Z"
   },
   {
    "duration": 56092,
    "start_time": "2023-06-24T08:12:57.681Z"
   },
   {
    "duration": 64,
    "start_time": "2023-06-24T08:14:08.117Z"
   },
   {
    "duration": 74802,
    "start_time": "2023-06-24T08:17:33.378Z"
   },
   {
    "duration": 95,
    "start_time": "2023-06-24T08:24:29.588Z"
   },
   {
    "duration": 92179,
    "start_time": "2023-06-24T08:24:45.690Z"
   },
   {
    "duration": 147,
    "start_time": "2023-06-24T08:26:22.835Z"
   },
   {
    "duration": 84405,
    "start_time": "2023-06-24T08:26:56.678Z"
   },
   {
    "duration": 229,
    "start_time": "2023-06-24T08:28:58.959Z"
   },
   {
    "duration": 249887,
    "start_time": "2023-06-24T08:29:16.485Z"
   },
   {
    "duration": 515,
    "start_time": "2023-06-24T08:33:31.155Z"
   },
   {
    "duration": 1552,
    "start_time": "2023-06-25T06:18:40.880Z"
   },
   {
    "duration": 1012,
    "start_time": "2023-06-25T06:18:42.434Z"
   },
   {
    "duration": 16,
    "start_time": "2023-06-25T06:18:43.447Z"
   },
   {
    "duration": 120,
    "start_time": "2023-06-25T06:18:43.464Z"
   },
   {
    "duration": 4,
    "start_time": "2023-06-25T06:18:45.692Z"
   },
   {
    "duration": 77,
    "start_time": "2023-06-25T06:18:45.991Z"
   },
   {
    "duration": 61,
    "start_time": "2023-06-25T06:18:46.269Z"
   },
   {
    "duration": 56,
    "start_time": "2023-06-25T06:18:46.534Z"
   },
   {
    "duration": 60,
    "start_time": "2023-06-25T06:18:47.436Z"
   },
   {
    "duration": 98,
    "start_time": "2023-06-25T06:18:47.942Z"
   },
   {
    "duration": 4,
    "start_time": "2023-06-25T06:18:48.843Z"
   },
   {
    "duration": 22,
    "start_time": "2023-06-25T06:18:54.343Z"
   },
   {
    "duration": 4,
    "start_time": "2023-06-25T06:18:54.814Z"
   },
   {
    "duration": 139,
    "start_time": "2023-06-25T06:18:56.865Z"
   },
   {
    "duration": 111,
    "start_time": "2023-06-25T06:18:58.658Z"
   },
   {
    "duration": 117,
    "start_time": "2023-06-25T06:19:03.545Z"
   },
   {
    "duration": 21,
    "start_time": "2023-06-25T06:19:04.323Z"
   },
   {
    "duration": 77,
    "start_time": "2023-06-25T06:19:37.247Z"
   },
   {
    "duration": 97,
    "start_time": "2023-06-25T06:20:07.528Z"
   },
   {
    "duration": 14,
    "start_time": "2023-06-25T06:21:42.117Z"
   },
   {
    "duration": 54,
    "start_time": "2023-06-25T06:22:56.375Z"
   },
   {
    "duration": 48,
    "start_time": "2023-06-25T06:23:04.694Z"
   },
   {
    "duration": 137,
    "start_time": "2023-06-25T06:23:12.504Z"
   },
   {
    "duration": 9,
    "start_time": "2023-06-25T06:23:16.159Z"
   },
   {
    "duration": 29,
    "start_time": "2023-06-25T06:23:53.568Z"
   },
   {
    "duration": 23,
    "start_time": "2023-06-25T06:24:08.600Z"
   },
   {
    "duration": 17,
    "start_time": "2023-06-25T06:24:13.583Z"
   },
   {
    "duration": 19,
    "start_time": "2023-06-25T06:24:19.888Z"
   },
   {
    "duration": 16,
    "start_time": "2023-06-25T06:25:20.684Z"
   },
   {
    "duration": 57,
    "start_time": "2023-06-25T06:25:41.887Z"
   },
   {
    "duration": 16,
    "start_time": "2023-06-25T06:26:04.491Z"
   },
   {
    "duration": 43,
    "start_time": "2023-06-25T06:26:19.043Z"
   },
   {
    "duration": 7,
    "start_time": "2023-06-25T06:26:21.742Z"
   },
   {
    "duration": 20,
    "start_time": "2023-06-25T06:26:57.562Z"
   },
   {
    "duration": 5,
    "start_time": "2023-06-25T06:29:37.149Z"
   },
   {
    "duration": 96,
    "start_time": "2023-06-25T06:29:43.948Z"
   },
   {
    "duration": 92,
    "start_time": "2023-06-25T06:30:09.832Z"
   },
   {
    "duration": 21,
    "start_time": "2023-06-25T06:30:20.163Z"
   },
   {
    "duration": 154,
    "start_time": "2023-06-25T06:30:21.446Z"
   },
   {
    "duration": 4,
    "start_time": "2023-06-25T06:43:17.271Z"
   },
   {
    "duration": 2,
    "start_time": "2023-06-25T06:49:36.973Z"
   },
   {
    "duration": 115,
    "start_time": "2023-06-25T06:50:12.735Z"
   },
   {
    "duration": 3,
    "start_time": "2023-06-25T06:50:52.967Z"
   },
   {
    "duration": 875,
    "start_time": "2023-06-25T06:50:58.436Z"
   },
   {
    "duration": 17263,
    "start_time": "2023-06-25T06:52:59.158Z"
   },
   {
    "duration": 200866,
    "start_time": "2023-06-25T06:55:26.672Z"
   },
   {
    "duration": 707787,
    "start_time": "2023-06-25T07:06:43.532Z"
   },
   {
    "duration": 6670,
    "start_time": "2023-06-25T07:26:32.075Z"
   },
   {
    "duration": 1041543,
    "start_time": "2023-06-25T07:30:55.766Z"
   },
   {
    "duration": 508,
    "start_time": "2023-06-25T07:49:36.017Z"
   },
   {
    "duration": 1753,
    "start_time": "2023-06-26T08:31:29.871Z"
   },
   {
    "duration": 3345,
    "start_time": "2023-06-26T08:31:31.626Z"
   },
   {
    "duration": 18,
    "start_time": "2023-06-26T08:31:34.974Z"
   },
   {
    "duration": 151,
    "start_time": "2023-06-26T08:31:34.994Z"
   },
   {
    "duration": 4,
    "start_time": "2023-06-26T08:31:35.147Z"
   },
   {
    "duration": 94,
    "start_time": "2023-06-26T08:31:35.157Z"
   },
   {
    "duration": 63,
    "start_time": "2023-06-26T08:31:35.253Z"
   },
   {
    "duration": 78,
    "start_time": "2023-06-26T08:31:35.318Z"
   },
   {
    "duration": 81,
    "start_time": "2023-06-26T08:31:35.398Z"
   },
   {
    "duration": 137,
    "start_time": "2023-06-26T08:31:36.024Z"
   },
   {
    "duration": 3,
    "start_time": "2023-06-26T08:31:36.399Z"
   },
   {
    "duration": 21,
    "start_time": "2023-06-26T08:31:36.631Z"
   },
   {
    "duration": 3,
    "start_time": "2023-06-26T08:31:36.848Z"
   },
   {
    "duration": 166,
    "start_time": "2023-06-26T08:31:37.542Z"
   },
   {
    "duration": 124,
    "start_time": "2023-06-26T08:31:37.818Z"
   },
   {
    "duration": 139,
    "start_time": "2023-06-26T08:31:37.970Z"
   },
   {
    "duration": 72,
    "start_time": "2023-06-26T08:31:38.210Z"
   },
   {
    "duration": 74,
    "start_time": "2023-06-26T08:31:38.417Z"
   },
   {
    "duration": 112,
    "start_time": "2023-06-26T08:31:39.314Z"
   },
   {
    "duration": 17,
    "start_time": "2023-06-26T08:31:39.554Z"
   },
   {
    "duration": 40,
    "start_time": "2023-06-26T08:31:42.006Z"
   },
   {
    "duration": 3,
    "start_time": "2023-06-26T08:31:49.896Z"
   },
   {
    "duration": 1082,
    "start_time": "2023-06-26T08:33:36.288Z"
   },
   {
    "duration": 997,
    "start_time": "2023-06-26T08:33:44.069Z"
   },
   {
    "duration": 20,
    "start_time": "2023-06-26T08:33:52.254Z"
   },
   {
    "duration": 127,
    "start_time": "2023-06-26T08:34:02.418Z"
   },
   {
    "duration": 6,
    "start_time": "2023-06-26T08:34:05.817Z"
   },
   {
    "duration": 20177,
    "start_time": "2023-06-26T08:34:32.535Z"
   },
   {
    "duration": 8,
    "start_time": "2023-06-26T08:34:52.714Z"
   },
   {
    "duration": 76721,
    "start_time": "2023-06-26T08:34:52.723Z"
   },
   {
    "duration": 9,
    "start_time": "2023-06-26T08:36:09.446Z"
   },
   {
    "duration": 9,
    "start_time": "2023-06-26T08:36:16.628Z"
   },
   {
    "duration": 14,
    "start_time": "2023-06-26T08:36:26.470Z"
   },
   {
    "duration": 878,
    "start_time": "2023-06-26T08:36:39.805Z"
   },
   {
    "duration": 9,
    "start_time": "2023-06-26T08:36:44.701Z"
   },
   {
    "duration": 10,
    "start_time": "2023-06-26T08:36:51.642Z"
   },
   {
    "duration": 11,
    "start_time": "2023-06-26T08:36:58.099Z"
   },
   {
    "duration": 6,
    "start_time": "2023-06-26T08:38:01.236Z"
   },
   {
    "duration": 22715,
    "start_time": "2023-06-26T08:38:12.727Z"
   },
   {
    "duration": 19,
    "start_time": "2023-06-26T08:38:35.444Z"
   },
   {
    "duration": 898724,
    "start_time": "2023-06-26T08:38:35.471Z"
   },
   {
    "duration": 15,
    "start_time": "2023-06-26T08:53:34.197Z"
   },
   {
    "duration": 26,
    "start_time": "2023-06-26T09:17:16.854Z"
   },
   {
    "duration": 11,
    "start_time": "2023-06-26T09:17:24.994Z"
   },
   {
    "duration": 16,
    "start_time": "2023-06-26T09:17:44.477Z"
   },
   {
    "duration": 29,
    "start_time": "2023-06-26T09:17:51.921Z"
   },
   {
    "duration": 5,
    "start_time": "2023-06-26T09:17:58.610Z"
   },
   {
    "duration": 9,
    "start_time": "2023-06-26T09:18:04.479Z"
   },
   {
    "duration": 7,
    "start_time": "2023-06-26T09:19:01.895Z"
   },
   {
    "duration": 6,
    "start_time": "2023-06-26T09:20:12.978Z"
   },
   {
    "duration": 7,
    "start_time": "2023-06-26T09:20:40.811Z"
   },
   {
    "duration": 11,
    "start_time": "2023-06-26T09:20:53.226Z"
   },
   {
    "duration": 1717,
    "start_time": "2023-06-30T18:55:34.300Z"
   },
   {
    "duration": 3578,
    "start_time": "2023-06-30T18:55:36.020Z"
   },
   {
    "duration": 26,
    "start_time": "2023-06-30T18:55:39.601Z"
   },
   {
    "duration": 873,
    "start_time": "2023-06-30T18:55:39.630Z"
   },
   {
    "duration": 5,
    "start_time": "2023-06-30T18:55:42.296Z"
   },
   {
    "duration": 73,
    "start_time": "2023-06-30T18:55:42.580Z"
   },
   {
    "duration": 61,
    "start_time": "2023-06-30T18:55:42.801Z"
   },
   {
    "duration": 60,
    "start_time": "2023-06-30T18:55:43.046Z"
   }
  ],
  "kernelspec": {
   "display_name": "Python 3 (ipykernel)",
   "language": "python",
   "name": "python3"
  },
  "language_info": {
   "codemirror_mode": {
    "name": "ipython",
    "version": 3
   },
   "file_extension": ".py",
   "mimetype": "text/x-python",
   "name": "python",
   "nbconvert_exporter": "python",
   "pygments_lexer": "ipython3",
   "version": "3.9.13"
  },
  "toc": {
   "base_numbering": 1,
   "nav_menu": {},
   "number_sections": true,
   "sideBar": true,
   "skip_h1_title": true,
   "title_cell": "Table of Contents",
   "title_sidebar": "Contents",
   "toc_cell": false,
   "toc_position": {},
   "toc_section_display": true,
   "toc_window_display": false
  }
 },
 "nbformat": 4,
 "nbformat_minor": 2
}
